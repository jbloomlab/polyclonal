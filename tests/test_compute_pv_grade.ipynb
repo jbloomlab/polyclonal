{
 "cells": [
  {
   "cell_type": "markdown",
   "id": "8213ebaa-024e-4139-aea1-1c1f42f82390",
   "metadata": {},
   "source": [
    "# Test analytical derivatives of $p_v\\left(c\\right)$ computed by private methods of `Polyclonal`\n",
    "\n",
    "Set up a toy example:"
   ]
  },
  {
   "cell_type": "code",
   "execution_count": 1,
   "id": "4cee1ee4-1629-4310-9f65-42e54504f755",
   "metadata": {
    "execution": {
     "iopub.execute_input": "2021-11-12T20:43:11.658995Z",
     "iopub.status.busy": "2021-11-12T20:43:11.658784Z",
     "iopub.status.idle": "2021-11-12T20:43:13.301982Z",
     "shell.execute_reply": "2021-11-12T20:43:13.301027Z",
     "shell.execute_reply.started": "2021-11-12T20:43:11.658929Z"
    },
    "tags": []
   },
   "outputs": [],
   "source": [
    "import numpy\n",
    "\n",
    "import pandas as pd\n",
    "\n",
    "from polyclonal import Polyclonal\n",
    "\n",
    "activity_wt_df = pd.DataFrame({'epitope':  ['e1', 'e2'],\n",
    "                               'activity': [ 2.0,  1.0]})\n",
    "\n",
    "mut_escape_df = pd.DataFrame({\n",
    "       'mutation': ['M1C', 'M1C', 'G2A', 'G2A', 'A4K', 'A4K', 'A4L', 'A4L'],\n",
    "       'epitope':  [ 'e1',  'e2',  'e1',  'e2',  'e1',  'e2',  'e1',  'e2'],\n",
    "       'escape':   [  2.0,   0.0,   3.0,   0.0,  0.0,    2.5,   0.0,   1.5],\n",
    "       })\n",
    "\n",
    "polyclonal_sim = Polyclonal(activity_wt_df=activity_wt_df,\n",
    "                            mut_escape_df=mut_escape_df)\n",
    "\n",
    "variants_df = pd.DataFrame.from_records(\n",
    "         [('AA', ''),\n",
    "          ('AC', 'M1C'),\n",
    "          ('AG', 'G2A'),\n",
    "          ('AT', 'A4K'),\n",
    "          ('TA', 'A4L'),\n",
    "          ('CA', 'M1C G2A'),\n",
    "          ('CG', 'M1C A4K'),\n",
    "          ('CC', 'G2A A4K'),\n",
    "          ('TC', 'G2A A4L'),\n",
    "          ('CT', 'M1C G2A A4K'),\n",
    "          ('TG', 'M1C G2A A4L'),\n",
    "          ('GA', 'M1C'),\n",
    "          ],\n",
    "         columns=['barcode', 'aa_substitutions'])\n",
    "\n",
    "escape_probs = polyclonal_sim.prob_escape(variants_df=variants_df,\n",
    "                                          concentrations=[1.0, 2.0, 4.0])\n",
    "\n",
    "data_to_fit = (\n",
    "         escape_probs\n",
    "         .rename(columns={'predicted_prob_escape': 'prob_escape'})\n",
    "         )\n",
    "\n",
    "polyclonal_data = Polyclonal(data_to_fit=data_to_fit,\n",
    "                             activity_wt_df=activity_wt_df,\n",
    "                             site_escape_df=pd.DataFrame.from_records(\n",
    "                                    [('e1', 1, 1.0), ('e1', 4, 0.0),\n",
    "                                     ('e2', 1, 0.0), ('e2', 4, 2.0)],\n",
    "                                    columns=['epitope', 'site', 'escape']),\n",
    "                             data_mut_escape_overlap='fill_to_data',\n",
    "                             )"
   ]
  },
  {
   "cell_type": "markdown",
   "id": "18a525e1-61ca-4d0a-aada-f473450fb19a",
   "metadata": {},
   "source": [
    "Now compute `p_vc` and `dpvc_dparams`:"
   ]
  },
  {
   "cell_type": "code",
   "execution_count": 2,
   "id": "80de92ae-ef0b-4216-8884-f1b2f8a8106c",
   "metadata": {
    "execution": {
     "iopub.execute_input": "2021-11-12T20:43:13.305468Z",
     "iopub.status.busy": "2021-11-12T20:43:13.305307Z",
     "iopub.status.idle": "2021-11-12T20:43:13.310690Z",
     "shell.execute_reply": "2021-11-12T20:43:13.310058Z",
     "shell.execute_reply.started": "2021-11-12T20:43:13.305446Z"
    },
    "tags": []
   },
   "outputs": [],
   "source": [
    "p_vc, dpvc_dparams = polyclonal_data._compute_pv(\n",
    "                                params=polyclonal_data._params,\n",
    "                                bmap=polyclonal_data._binarymaps,\n",
    "                                cs=polyclonal_data._cs,\n",
    "                                calc_grad=True,\n",
    "                                )"
   ]
  },
  {
   "cell_type": "markdown",
   "id": "484bfe6f-81b3-4497-ba5b-9d3bbfdb754d",
   "metadata": {
    "execution": {
     "iopub.execute_input": "2021-11-12T19:07:42.892418Z",
     "iopub.status.busy": "2021-11-12T19:07:42.892104Z",
     "iopub.status.idle": "2021-11-12T19:07:42.896772Z",
     "shell.execute_reply": "2021-11-12T19:07:42.896157Z",
     "shell.execute_reply.started": "2021-11-12T19:07:42.892392Z"
    },
    "tags": []
   },
   "source": [
    "Get numerical estimates of gradient and check they are close to analytical estimates:"
   ]
  },
  {
   "cell_type": "code",
   "execution_count": 3,
   "id": "3091e134-7b11-455b-8495-5b4aa4a80c55",
   "metadata": {
    "execution": {
     "iopub.execute_input": "2021-11-12T20:43:13.314748Z",
     "iopub.status.busy": "2021-11-12T20:43:13.314509Z",
     "iopub.status.idle": "2021-11-12T20:43:13.322553Z",
     "shell.execute_reply": "2021-11-12T20:43:13.321941Z",
     "shell.execute_reply.started": "2021-11-12T20:43:13.314726Z"
    },
    "tags": []
   },
   "outputs": [],
   "source": [
    "eps = 1e-8\n",
    "for iparam in range(len(polyclonal_data._params)):\n",
    "    eps_vec = numpy.zeros(len(polyclonal_data._params))\n",
    "    eps_vec[iparam] = eps\n",
    "    p_vc_eps = polyclonal_data._compute_pv(\n",
    "                        params=polyclonal_data._params + eps_vec,\n",
    "                        bmap=polyclonal_data._binarymaps,\n",
    "                        cs=polyclonal_data._cs,\n",
    "                        calc_grad=False,\n",
    "                        )\n",
    "    numerical_grad = (p_vc_eps - p_vc) / eps\n",
    "    analytical_grad = dpvc_dparams[iparam].toarray()\n",
    "    diff = numpy.sqrt(((numerical_grad - analytical_grad)**2).sum())\n",
    "    mag = numpy.sqrt((analytical_grad**2).sum())\n",
    "    if (diff > 1e-7) or (diff / mag > 1e-7):\n",
    "        raise ValueError(f\"{iparam=}, {diff=}, {mag=}\\n\"\n",
    "                         f\"{analytical_grad=}\\n{numerical_grad=}\")"
   ]
  },
  {
   "cell_type": "code",
   "execution_count": null,
   "id": "d84ba2b7-8da4-4523-9604-6b5dc8680733",
   "metadata": {},
   "outputs": [],
   "source": []
  }
 ],
 "metadata": {
  "kernelspec": {
   "display_name": "Python 3 (ipykernel)",
   "language": "python",
   "name": "python3"
  },
  "language_info": {
   "codemirror_mode": {
    "name": "ipython",
    "version": 3
   },
   "file_extension": ".py",
   "mimetype": "text/x-python",
   "name": "python",
   "nbconvert_exporter": "python",
   "pygments_lexer": "ipython3",
   "version": "3.8.12"
  }
 },
 "nbformat": 4,
 "nbformat_minor": 5
}
