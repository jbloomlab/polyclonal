{
 "cells": [
  {
   "cell_type": "markdown",
   "id": "8213ebaa-024e-4139-aea1-1c1f42f82390",
   "metadata": {},
   "source": [
    "# Test analytical derivatives of $p_v\\left(c\\right)$ computed by private methods of `Polyclonal`\n",
    "\n",
    "Set up a toy example:"
   ]
  },
  {
   "cell_type": "code",
   "execution_count": 1,
   "id": "4cee1ee4-1629-4310-9f65-42e54504f755",
   "metadata": {
    "execution": {
     "iopub.execute_input": "2021-11-12T20:12:04.218325Z",
     "iopub.status.busy": "2021-11-12T20:12:04.218107Z",
     "iopub.status.idle": "2021-11-12T20:12:06.243211Z",
     "shell.execute_reply": "2021-11-12T20:12:06.242281Z",
     "shell.execute_reply.started": "2021-11-12T20:12:04.218246Z"
    },
    "tags": []
   },
   "outputs": [],
   "source": [
    "import numpy\n",
    "\n",
    "import pandas as pd\n",
    "\n",
    "from polyclonal import Polyclonal\n",
    "\n",
    "activity_wt_df = pd.DataFrame({'epitope':  ['e1', 'e2'],\n",
    "                               'activity': [ 2.0,  1.0]})\n",
    "\n",
    "mut_escape_df = pd.DataFrame({\n",
    "       'mutation': ['M1C', 'M1C', 'G2A', 'G2A', 'A4K', 'A4K', 'A4L', 'A4L'],\n",
    "       'epitope':  [ 'e1',  'e2',  'e1',  'e2',  'e1',  'e2',  'e1',  'e2'],\n",
    "       'escape':   [  2.0,   0.0,   3.0,   0.0,  0.0,    2.5,   0.0,   1.5],\n",
    "       })\n",
    "\n",
    "polyclonal_sim = Polyclonal(activity_wt_df=activity_wt_df,\n",
    "                            mut_escape_df=mut_escape_df)\n",
    "\n",
    "variants_df = pd.DataFrame.from_records(\n",
    "         [('AA', ''),\n",
    "          ('AC', 'M1C'),\n",
    "          ('AG', 'G2A'),\n",
    "          ('AT', 'A4K'),\n",
    "          ('TA', 'A4L'),\n",
    "          ('CA', 'M1C G2A'),\n",
    "          ('CG', 'M1C A4K'),\n",
    "          ('CC', 'G2A A4K'),\n",
    "          ('TC', 'G2A A4L'),\n",
    "          ('CT', 'M1C G2A A4K'),\n",
    "          ('TG', 'M1C G2A A4L'),\n",
    "          ('GA', 'M1C'),\n",
    "          ],\n",
    "         columns=['barcode', 'aa_substitutions'])\n",
    "\n",
    "escape_probs = polyclonal_sim.prob_escape(variants_df=variants_df,\n",
    "                                          concentrations=[1.0, 2.0, 4.0])\n",
    "\n",
    "data_to_fit = (\n",
    "         escape_probs\n",
    "         .rename(columns={'predicted_prob_escape': 'prob_escape'})\n",
    "         )\n",
    "\n",
    "polyclonal_data = Polyclonal(data_to_fit=data_to_fit,\n",
    "                             activity_wt_df=activity_wt_df,\n",
    "                             site_escape_df=pd.DataFrame.from_records(\n",
    "                                    [('e1', 1, 1.0), ('e1', 4, 0.0),\n",
    "                                     ('e2', 1, 0.0), ('e2', 4, 2.0)],\n",
    "                                    columns=['epitope', 'site', 'escape']),\n",
    "                             data_mut_escape_overlap='fill_to_data',\n",
    "                             )"
   ]
  },
  {
   "cell_type": "markdown",
   "id": "18a525e1-61ca-4d0a-aada-f473450fb19a",
   "metadata": {},
   "source": [
    "Now compute `p_vc` and `dpvc_dparams`:"
   ]
  },
  {
   "cell_type": "code",
   "execution_count": 2,
   "id": "80de92ae-ef0b-4216-8884-f1b2f8a8106c",
   "metadata": {
    "execution": {
     "iopub.execute_input": "2021-11-12T20:12:06.246497Z",
     "iopub.status.busy": "2021-11-12T20:12:06.246354Z",
     "iopub.status.idle": "2021-11-12T20:12:06.251929Z",
     "shell.execute_reply": "2021-11-12T20:12:06.251298Z",
     "shell.execute_reply.started": "2021-11-12T20:12:06.246477Z"
    },
    "tags": []
   },
   "outputs": [
    {
     "name": "stdout",
     "output_type": "stream",
     "text": [
      "<class 'scipy.sparse.coo.coo_matrix'>\n"
     ]
    }
   ],
   "source": [
    "p_vc, dpvc_da, dpvc_dbeta = polyclonal_data._compute_pv(\n",
    "                                params=polyclonal_data._params,\n",
    "                                bmap=polyclonal_data._binarymaps,\n",
    "                                cs=polyclonal_data._cs,\n",
    "                                calc_grad=True,\n",
    "                                )"
   ]
  },
  {
   "cell_type": "markdown",
   "id": "484bfe6f-81b3-4497-ba5b-9d3bbfdb754d",
   "metadata": {
    "execution": {
     "iopub.execute_input": "2021-11-12T19:07:42.892418Z",
     "iopub.status.busy": "2021-11-12T19:07:42.892104Z",
     "iopub.status.idle": "2021-11-12T19:07:42.896772Z",
     "shell.execute_reply": "2021-11-12T19:07:42.896157Z",
     "shell.execute_reply.started": "2021-11-12T19:07:42.892392Z"
    },
    "tags": []
   },
   "source": [
    "Get numerical estimates of gradient and check they are close to analytical estimates:"
   ]
  },
  {
   "cell_type": "code",
   "execution_count": 7,
   "id": "3091e134-7b11-455b-8495-5b4aa4a80c55",
   "metadata": {
    "execution": {
     "iopub.execute_input": "2021-11-12T20:17:43.109177Z",
     "iopub.status.busy": "2021-11-12T20:17:43.108657Z",
     "iopub.status.idle": "2021-11-12T20:17:43.122192Z",
     "shell.execute_reply": "2021-11-12T20:17:43.121186Z",
     "shell.execute_reply.started": "2021-11-12T20:17:43.109128Z"
    },
    "tags": []
   },
   "outputs": [],
   "source": [
    "eps = 1e-8\n",
    "for iparam in range(len(polyclonal_data._params)):\n",
    "    eps_vec = numpy.zeros(len(polyclonal_data._params))\n",
    "    eps_vec[iparam] = eps\n",
    "    p_vc_eps = polyclonal_data._compute_pv(\n",
    "                        params=polyclonal_data._params + eps_vec,\n",
    "                        bmap=polyclonal_data._binarymaps,\n",
    "                        cs=polyclonal_data._cs,\n",
    "                        calc_grad=False,\n",
    "                        )\n",
    "    numerical_grad = (p_vc_eps - p_vc) / eps\n",
    "    if iparam < 2:\n",
    "        analytical_grad = dpvc_da[iparam]\n",
    "    else:\n",
    "        analytical_grad = dpvc_dbeta.toarray()[iparam - 2]\n",
    "    diff = numpy.sqrt(((numerical_grad - analytical_grad)**2).sum())\n",
    "    mag = numpy.sqrt((analytical_grad**2).sum())\n",
    "    if (diff > 1e-7) or (diff / mag > 1e-7):\n",
    "        raise ValueError(f\"{iparam=}, {diff=}, {mag=}\\n\"\n",
    "                         f\"{analytical_grad=}\\n{numerical_grad=}\")"
   ]
  },
  {
   "cell_type": "code",
   "execution_count": 4,
   "id": "034787b0-a04b-4150-bfcd-9597fe71a8ac",
   "metadata": {
    "execution": {
     "iopub.execute_input": "2021-11-12T20:12:06.274923Z",
     "iopub.status.busy": "2021-11-12T20:12:06.274628Z",
     "iopub.status.idle": "2021-11-12T20:12:06.483037Z",
     "shell.execute_reply": "2021-11-12T20:12:06.482237Z",
     "shell.execute_reply.started": "2021-11-12T20:12:06.274897Z"
    },
    "tags": []
   },
   "outputs": [
    {
     "ename": "NameError",
     "evalue": "name 'grad' is not defined",
     "output_type": "error",
     "traceback": [
      "\u001b[0;31m---------------------------------------------------------------------------\u001b[0m",
      "\u001b[0;31mNameError\u001b[0m                                 Traceback (most recent call last)",
      "\u001b[0;32m/tmp/ipykernel_43838/3885799209.py\u001b[0m in \u001b[0;36m<module>\u001b[0;34m\u001b[0m\n\u001b[0;32m----> 1\u001b[0;31m \u001b[0mprint\u001b[0m\u001b[0;34m(\u001b[0m\u001b[0;34m\"numerical:\\n\"\u001b[0m\u001b[0;34m,\u001b[0m \u001b[0mgrad\u001b[0m\u001b[0;34m[\u001b[0m\u001b[0;34m:\u001b[0m \u001b[0;36m2\u001b[0m\u001b[0;34m]\u001b[0m\u001b[0;34m)\u001b[0m\u001b[0;34m\u001b[0m\u001b[0;34m\u001b[0m\u001b[0m\n\u001b[0m\u001b[1;32m      2\u001b[0m \u001b[0;34m\u001b[0m\u001b[0m\n\u001b[1;32m      3\u001b[0m \u001b[0mprint\u001b[0m\u001b[0;34m(\u001b[0m\u001b[0;34m'\\nanalytical:\\n'\u001b[0m\u001b[0;34m,\u001b[0m \u001b[0mdpvc_da\u001b[0m\u001b[0;34m)\u001b[0m\u001b[0;34m\u001b[0m\u001b[0;34m\u001b[0m\u001b[0m\n",
      "\u001b[0;31mNameError\u001b[0m: name 'grad' is not defined"
     ]
    }
   ],
   "source": [
    "print(\"numerical:\\n\", grad[: 2])\n",
    "\n",
    "print('\\nanalytical:\\n', dpvc_da)"
   ]
  },
  {
   "cell_type": "code",
   "execution_count": null,
   "id": "b7038a51-2137-4f9b-a605-a19327499251",
   "metadata": {
    "execution": {
     "iopub.status.busy": "2021-11-12T20:12:06.483717Z",
     "iopub.status.idle": "2021-11-12T20:12:06.483940Z",
     "shell.execute_reply": "2021-11-12T20:12:06.483837Z",
     "shell.execute_reply.started": "2021-11-12T20:12:06.483825Z"
    },
    "tags": []
   },
   "outputs": [],
   "source": [
    "polyclonal_data.mut_escape_df"
   ]
  },
  {
   "cell_type": "code",
   "execution_count": null,
   "id": "730e85b9-8868-4dc7-98a7-4e151850ee8b",
   "metadata": {
    "execution": {
     "iopub.status.busy": "2021-11-12T20:12:06.484825Z",
     "iopub.status.idle": "2021-11-12T20:12:06.485030Z",
     "shell.execute_reply": "2021-11-12T20:12:06.484932Z",
     "shell.execute_reply.started": "2021-11-12T20:12:06.484921Z"
    },
    "tags": []
   },
   "outputs": [],
   "source": [
    "polyclonal_data._a_beta_from_params(polyclonal_data._params)"
   ]
  },
  {
   "cell_type": "code",
   "execution_count": null,
   "id": "4bb49ae0-fa01-40d8-aa06-991b6e2aeba8",
   "metadata": {
    "execution": {
     "iopub.status.busy": "2021-11-12T20:12:06.485887Z",
     "iopub.status.idle": "2021-11-12T20:12:06.486090Z",
     "shell.execute_reply": "2021-11-12T20:12:06.485993Z",
     "shell.execute_reply.started": "2021-11-12T20:12:06.485982Z"
    },
    "tags": []
   },
   "outputs": [],
   "source": [
    "polyclonal_data._params[2:]"
   ]
  },
  {
   "cell_type": "code",
   "execution_count": null,
   "id": "c556643c-e71d-4f80-972c-5ac138f30d3e",
   "metadata": {},
   "outputs": [],
   "source": []
  }
 ],
 "metadata": {
  "kernelspec": {
   "display_name": "Python 3 (ipykernel)",
   "language": "python",
   "name": "python3"
  },
  "language_info": {
   "codemirror_mode": {
    "name": "ipython",
    "version": 3
   },
   "file_extension": ".py",
   "mimetype": "text/x-python",
   "name": "python",
   "nbconvert_exporter": "python",
   "pygments_lexer": "ipython3",
   "version": "3.8.12"
  }
 },
 "nbformat": 4,
 "nbformat_minor": 5
}
