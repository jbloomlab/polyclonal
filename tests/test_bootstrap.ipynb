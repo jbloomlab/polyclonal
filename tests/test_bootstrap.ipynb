{
 "cells": [
  {
   "cell_type": "markdown",
   "id": "1aa90605-cff5-49e8-bd63-106e9efc69fc",
   "metadata": {},
   "source": [
    "# Getting started with `polyclonal` bootstrapping"
   ]
  },
  {
   "cell_type": "markdown",
   "id": "bd93cfd2-6d65-4d08-8bef-2dfe736f6631",
   "metadata": {},
   "source": [
    "## Imports and setup"
   ]
  },
  {
   "cell_type": "code",
   "execution_count": 1,
   "id": "7f2bd96d-b693-4a82-856c-edf6a85ec89a",
   "metadata": {
    "execution": {
     "iopub.execute_input": "2022-03-14T23:24:05.308745Z",
     "iopub.status.busy": "2022-03-14T23:24:05.308142Z",
     "iopub.status.idle": "2022-03-14T23:24:06.908009Z",
     "shell.execute_reply": "2022-03-14T23:24:06.906925Z",
     "shell.execute_reply.started": "2022-03-14T23:24:05.308652Z"
    }
   },
   "outputs": [],
   "source": [
    "import pandas as pd\n",
    "from polyclonal import Polyclonal, PolyclonalCollection\n",
    "import polyclonal.polyclonal_collection as boot\n",
    "import polyclonal.plot\n",
    "import numpy as np"
   ]
  },
  {
   "cell_type": "markdown",
   "id": "71fbc11a-6d03-400e-84fb-48af861c2ca9",
   "metadata": {},
   "source": [
    "Below contains some simulated data from Jesse\n",
    "* One simulation where we have the same variants for each conecntration\n",
    "* One simulation where we do not have the same variants for each concentration\n",
    "* These two situations hare handeled differently in `polyclonal` objects"
   ]
  },
  {
   "cell_type": "code",
   "execution_count": 2,
   "id": "a212ce8e-b374-4cbb-9bd1-e6543972b4e6",
   "metadata": {
    "execution": {
     "iopub.execute_input": "2022-03-14T23:24:06.911669Z",
     "iopub.status.busy": "2022-03-14T23:24:06.911424Z",
     "iopub.status.idle": "2022-03-14T23:24:06.984144Z",
     "shell.execute_reply": "2022-03-14T23:24:06.983475Z",
     "shell.execute_reply.started": "2022-03-14T23:24:06.911643Z"
    }
   },
   "outputs": [],
   "source": [
    "activity_wt_df = pd.DataFrame({\"epitope\": [\"1\", \"2\"], \"activity\": [2.0, 1.0]})\n",
    "\n",
    "mut_escape_df = pd.DataFrame(\n",
    "    {\n",
    "        \"mutation\": [\"M1C\", \"M1C\", \"G2A\", \"G2A\", \"A4K\", \"A4K\", \"A4L\", \"A4L\"],\n",
    "        \"epitope\": [\"1\", \"2\", \"1\", \"2\", \"1\", \"2\", \"1\", \"2\"],\n",
    "        \"escape\": [2.0, 0.0, 3.0, 0.0, 0.0, 2.5, 0.0, 1.5],\n",
    "    }\n",
    ")\n",
    "\n",
    "polyclonal_sim = Polyclonal(activity_wt_df=activity_wt_df, mut_escape_df=mut_escape_df)\n",
    "\n",
    "variants_df = pd.DataFrame.from_records(\n",
    "    [\n",
    "        (\"AA\", \"\"),\n",
    "        (\"AC\", \"M1C\"),\n",
    "        (\"AG\", \"G2A\"),\n",
    "        (\"AT\", \"A4K\"),\n",
    "        (\"TA\", \"A4L\"),\n",
    "        (\"CA\", \"M1C G2A\"),\n",
    "        (\"CG\", \"M1C A4K\"),\n",
    "        (\"CC\", \"G2A A4K\"),\n",
    "        (\"TC\", \"G2A A4L\"),\n",
    "        (\"CT\", \"M1C G2A A4K\"),\n",
    "        (\"TG\", \"M1C G2A A4L\"),\n",
    "        (\"GA\", \"M1C\"),\n",
    "    ],\n",
    "    columns=[\"barcode\", \"aa_substitutions\"],\n",
    ")\n",
    "\n",
    "escape_probs = polyclonal_sim.prob_escape(\n",
    "    variants_df=variants_df, concentrations=[1.0, 2.0, 4.0]\n",
    ")\n",
    "\n",
    "data_to_fit = escape_probs.rename(columns={\"predicted_prob_escape\": \"prob_escape\"})\n",
    "\n",
    "polyclonal_data = Polyclonal(\n",
    "    data_to_fit=data_to_fit,\n",
    "    activity_wt_df=activity_wt_df,\n",
    "    site_escape_df=pd.DataFrame.from_records(\n",
    "        [(\"1\", 1, 1.0), (\"1\", 4, 0.0), (\"2\", 1, 0.0), (\"2\", 4, 2.0)],\n",
    "        columns=[\"epitope\", \"site\", \"escape\"],\n",
    "    ),\n",
    "    data_mut_escape_overlap=\"fill_to_data\",\n",
    ")\n",
    "\n",
    "# Now only use the first 30 elements to get rid of some mutations\n",
    "polyclonal_data2 = Polyclonal(\n",
    "    data_to_fit=data_to_fit.head(20),\n",
    "    activity_wt_df=activity_wt_df,\n",
    "    site_escape_df=pd.DataFrame.from_records(\n",
    "        [(\"1\", 1, 1.0), (\"1\", 4, 0.0), (\"2\", 1, 0.0), (\"2\", 4, 2.0)],\n",
    "        columns=[\"epitope\", \"site\", \"escape\"],\n",
    "    ),\n",
    "    data_mut_escape_overlap=\"fill_to_data\",\n",
    ")"
   ]
  },
  {
   "cell_type": "markdown",
   "id": "f550d59f-94a5-4868-a36d-ea5852dc9b99",
   "metadata": {},
   "source": [
    "## Test basic functionality of helper methods outside of class"
   ]
  },
  {
   "cell_type": "code",
   "execution_count": 3,
   "id": "a92c97a0-6447-4655-bdd6-49301f98f11b",
   "metadata": {
    "execution": {
     "iopub.execute_input": "2022-03-14T23:24:06.988590Z",
     "iopub.status.busy": "2022-03-14T23:24:06.988240Z",
     "iopub.status.idle": "2022-03-14T23:24:06.997759Z",
     "shell.execute_reply": "2022-03-14T23:24:06.997176Z",
     "shell.execute_reply.started": "2022-03-14T23:24:06.988552Z"
    }
   },
   "outputs": [],
   "source": [
    "boot_df = boot.create_bootstrap_sample(data_to_fit)\n",
    "\n",
    "# Make sure we got an appropriate number of samples\n",
    "assert len(boot_df) == len(data_to_fit)\n",
    "# Make sure we did sample with replacement\n",
    "assert not len(boot_df.drop_duplicates()) == len(data_to_fit)\n",
    "# Make sure we sampled the same number of variants at each concentration as the orignal dataset has\n",
    "assert boot_df.concentration.value_counts().equals(\n",
    "    data_to_fit.concentration.value_counts()\n",
    ")"
   ]
  },
  {
   "cell_type": "markdown",
   "id": "36684a04-2190-444d-94d2-7c3ce0296591",
   "metadata": {},
   "source": [
    "## Test initialization of `PolyclonalCollection` objects"
   ]
  },
  {
   "cell_type": "code",
   "execution_count": 4,
   "id": "04a1937a-9241-4f24-91c5-b5513e042002",
   "metadata": {
    "execution": {
     "iopub.execute_input": "2022-03-14T23:24:07.000394Z",
     "iopub.status.busy": "2022-03-14T23:24:07.000254Z",
     "iopub.status.idle": "2022-03-14T23:24:07.170059Z",
     "shell.execute_reply": "2022-03-14T23:24:07.168948Z",
     "shell.execute_reply.started": "2022-03-14T23:24:07.000375Z"
    },
    "tags": []
   },
   "outputs": [],
   "source": [
    "n_samps = 5\n",
    "n_threads = 4\n",
    "pc = PolyclonalCollection(\n",
    "    root_polyclonal=polyclonal_data,\n",
    "    n_bootstrap_samples=n_samps,\n",
    "    n_threads=n_threads,\n",
    "    seed=0,\n",
    ")\n",
    "\n",
    "# Make sure the desired number of models were created and stored\n",
    "assert len(pc.models) == n_samps\n",
    "# Make sure attributes are stored properly\n",
    "assert pc.n_threads == n_threads\n",
    "# Make sure we aren't copying the actual data from the original polyclonal model\n",
    "for i in range(n_samps):\n",
    "    assert not pc.root_polyclonal.data_to_fit.equals(pc.models[i].data_to_fit)"
   ]
  },
  {
   "cell_type": "markdown",
   "id": "b9742dbb-720e-437c-b1d9-ea9717514102",
   "metadata": {},
   "source": [
    "## Test random seeding"
   ]
  },
  {
   "cell_type": "code",
   "execution_count": 5,
   "id": "3ce1356d-9c5d-4b83-85d1-c2c2cdd0b8fb",
   "metadata": {
    "execution": {
     "iopub.execute_input": "2022-03-14T23:24:07.174139Z",
     "iopub.status.busy": "2022-03-14T23:24:07.173853Z",
     "iopub.status.idle": "2022-03-14T23:24:07.268911Z",
     "shell.execute_reply": "2022-03-14T23:24:07.267499Z",
     "shell.execute_reply.started": "2022-03-14T23:24:07.174106Z"
    },
    "tags": []
   },
   "outputs": [],
   "source": [
    "# Do two different seeds generate different objects?\n",
    "pc2 = PolyclonalCollection(\n",
    "    root_polyclonal=polyclonal_data,\n",
    "    n_bootstrap_samples=n_samps,\n",
    "    n_threads=n_threads,\n",
    "    seed=10,\n",
    ")"
   ]
  },
  {
   "cell_type": "code",
   "execution_count": 6,
   "id": "781ad89f-9e61-4708-81d8-91fc89f2ed25",
   "metadata": {
    "execution": {
     "iopub.execute_input": "2022-03-14T23:24:07.273489Z",
     "iopub.status.busy": "2022-03-14T23:24:07.273238Z",
     "iopub.status.idle": "2022-03-14T23:24:07.371543Z",
     "shell.execute_reply": "2022-03-14T23:24:07.370401Z",
     "shell.execute_reply.started": "2022-03-14T23:24:07.273458Z"
    }
   },
   "outputs": [],
   "source": [
    "# What if we use the same seed with multiple threads?\n",
    "pc_copy = PolyclonalCollection(\n",
    "    root_polyclonal=polyclonal_data,\n",
    "    n_bootstrap_samples=n_samps,\n",
    "    n_threads=n_threads,\n",
    "    seed=0,\n",
    ")"
   ]
  },
  {
   "cell_type": "markdown",
   "id": "3c12622f-ee54-428b-8e54-7550c0b5d75c",
   "metadata": {},
   "source": [
    "## Test `PolyclonalCollection` bootstrapping results"
   ]
  },
  {
   "cell_type": "code",
   "execution_count": 7,
   "id": "c6185dc5-6d1a-4975-92b2-5cd7fd6c6b58",
   "metadata": {
    "execution": {
     "iopub.execute_input": "2022-03-14T23:24:07.375212Z",
     "iopub.status.busy": "2022-03-14T23:24:07.374989Z",
     "iopub.status.idle": "2022-03-14T23:24:07.658218Z",
     "shell.execute_reply": "2022-03-14T23:24:07.657462Z",
     "shell.execute_reply.started": "2022-03-14T23:24:07.375186Z"
    }
   },
   "outputs": [],
   "source": [
    "# Test to ensure that parameters change during fitting.\n",
    "for model in pc.models:\n",
    "    old_params = model._params\n",
    "    boot._fit_polyclonal_model_static(model, fit_site_level_first=False)\n",
    "    # Did the params change?\n",
    "    assert not np.array_equal(model._params, old_params)"
   ]
  },
  {
   "cell_type": "code",
   "execution_count": 8,
   "id": "191a9185-f1d3-4271-8116-fd0a47b788ba",
   "metadata": {
    "execution": {
     "iopub.execute_input": "2022-03-14T23:24:07.661260Z",
     "iopub.status.busy": "2022-03-14T23:24:07.661125Z",
     "iopub.status.idle": "2022-03-14T23:24:08.191505Z",
     "shell.execute_reply": "2022-03-14T23:24:08.190918Z",
     "shell.execute_reply.started": "2022-03-14T23:24:07.661242Z"
    }
   },
   "outputs": [
    {
     "data": {
      "text/plain": [
       "(5, 0)"
      ]
     },
     "execution_count": 8,
     "metadata": {},
     "output_type": "execute_result"
    }
   ],
   "source": [
    "# Test `fit_models()` with kwargs -- shouldn't throw any errors\n",
    "pc_copy.fit_models(fit_site_level_first=False)"
   ]
  },
  {
   "cell_type": "markdown",
   "id": "67a3aefe-bb46-4853-9fd2-7cc9e8827260",
   "metadata": {},
   "source": [
    "### Test predictions across all models"
   ]
  },
  {
   "cell_type": "code",
   "execution_count": 9,
   "id": "7ec43240-d74a-49d8-97e4-1e45e45923df",
   "metadata": {
    "execution": {
     "iopub.execute_input": "2022-03-14T23:24:08.194284Z",
     "iopub.status.busy": "2022-03-14T23:24:08.194108Z",
     "iopub.status.idle": "2022-03-14T23:24:08.264360Z",
     "shell.execute_reply": "2022-03-14T23:24:08.263437Z",
     "shell.execute_reply.started": "2022-03-14T23:24:08.194265Z"
    }
   },
   "outputs": [],
   "source": [
    "# Create a list of prediction dataframes from bootstrapped models\n",
    "test_list = pc.make_predictions(variants_df=boot_df)\n",
    "\n",
    "# Make sure we got the same number of predictions for every model\n",
    "for result in test_list:\n",
    "    assert len(result) == len(boot_df)\n",
    "    assert not (result.shape[1]) == (boot_df.shape[1])"
   ]
  },
  {
   "cell_type": "code",
   "execution_count": 10,
   "id": "55c4be49-be98-425b-877f-8ae37153f8fd",
   "metadata": {
    "execution": {
     "iopub.execute_input": "2022-03-14T23:24:08.268881Z",
     "iopub.status.busy": "2022-03-14T23:24:08.268578Z",
     "iopub.status.idle": "2022-03-14T23:24:08.286036Z",
     "shell.execute_reply": "2022-03-14T23:24:08.285459Z",
     "shell.execute_reply.started": "2022-03-14T23:24:08.268846Z"
    }
   },
   "outputs": [],
   "source": [
    "# Aggregate the results\n",
    "agg_results = pc.summarize_bootstraped_predictions(test_list)\n",
    "assert len(test_list[0]) != len(agg_results)"
   ]
  },
  {
   "cell_type": "markdown",
   "id": "531e5a41-27a7-4f9c-8336-1eeb10348bfb",
   "metadata": {
    "tags": []
   },
   "source": [
    "## Test aggregation results"
   ]
  },
  {
   "cell_type": "markdown",
   "id": "a526063f-e8b3-43f1-8370-80f2a9e5390a",
   "metadata": {
    "tags": []
   },
   "source": [
    "### Test summary validity"
   ]
  },
  {
   "cell_type": "code",
   "execution_count": 11,
   "id": "7d7aa1b9-8d47-4c27-bb9d-f72c109580e6",
   "metadata": {
    "execution": {
     "iopub.execute_input": "2022-03-14T23:24:08.287062Z",
     "iopub.status.busy": "2022-03-14T23:24:08.286824Z",
     "iopub.status.idle": "2022-03-14T23:24:08.291192Z",
     "shell.execute_reply": "2022-03-14T23:24:08.290628Z",
     "shell.execute_reply.started": "2022-03-14T23:24:08.287043Z"
    },
    "tags": []
   },
   "outputs": [],
   "source": [
    "# Ensure center summary stats are still probabilities\n",
    "assert agg_results.mean_predicted_prob_escape.between(0, 1).all()\n",
    "assert agg_results.median_predicted_prob_escape.between(0, 1).all()"
   ]
  },
  {
   "cell_type": "code",
   "execution_count": 12,
   "id": "b1b41bb6-7443-42ba-9e6e-dd701a2f1349",
   "metadata": {
    "execution": {
     "iopub.execute_input": "2022-03-14T23:24:08.292119Z",
     "iopub.status.busy": "2022-03-14T23:24:08.291893Z",
     "iopub.status.idle": "2022-03-14T23:24:08.376162Z",
     "shell.execute_reply": "2022-03-14T23:24:08.375249Z",
     "shell.execute_reply.started": "2022-03-14T23:24:08.292100Z"
    },
    "tags": []
   },
   "outputs": [],
   "source": [
    "test_list_copy = pc_copy.make_predictions(variants_df=boot_df)\n",
    "agg_results_copy = pc_copy.summarize_bootstraped_predictions(test_list_copy)\n",
    "assert agg_results.equals(agg_results_copy)"
   ]
  },
  {
   "cell_type": "code",
   "execution_count": 13,
   "id": "8862a4d5-5e9b-4f09-be89-de5702805e18",
   "metadata": {
    "execution": {
     "iopub.execute_input": "2022-03-14T23:24:08.377658Z",
     "iopub.status.busy": "2022-03-14T23:24:08.377375Z",
     "iopub.status.idle": "2022-03-14T23:24:08.922411Z",
     "shell.execute_reply": "2022-03-14T23:24:08.921948Z",
     "shell.execute_reply.started": "2022-03-14T23:24:08.377637Z"
    },
    "tags": []
   },
   "outputs": [
    {
     "data": {
      "text/plain": [
       "(5, 0)"
      ]
     },
     "execution_count": 13,
     "metadata": {},
     "output_type": "execute_result"
    }
   ],
   "source": [
    "# Test that different seeds result in differnt results\n",
    "pc2.fit_models(fit_site_level_first=False)"
   ]
  },
  {
   "cell_type": "code",
   "execution_count": 14,
   "id": "7d9b5395-f683-415c-9661-31afc3c7b6b8",
   "metadata": {
    "execution": {
     "iopub.execute_input": "2022-03-14T23:24:08.923803Z",
     "iopub.status.busy": "2022-03-14T23:24:08.923520Z",
     "iopub.status.idle": "2022-03-14T23:24:08.989582Z",
     "shell.execute_reply": "2022-03-14T23:24:08.988876Z",
     "shell.execute_reply.started": "2022-03-14T23:24:08.923785Z"
    },
    "tags": []
   },
   "outputs": [],
   "source": [
    "test_list_2 = pc2.make_predictions(variants_df=boot_df)"
   ]
  },
  {
   "cell_type": "markdown",
   "id": "4394d317-4d3e-4824-a056-b4191e0f39db",
   "metadata": {},
   "source": [
    "## Plotting"
   ]
  },
  {
   "cell_type": "markdown",
   "id": "04c9efb3-1e66-4ded-a861-014b66cd7055",
   "metadata": {},
   "source": [
    "### Heatmaps for summary statistics and parameters"
   ]
  },
  {
   "cell_type": "code",
   "execution_count": 18,
   "id": "df91c37d-7c86-42dd-baa5-b08a46cb90e4",
   "metadata": {},
   "outputs": [
    {
     "data": {
      "text/html": [
       "\n",
       "<div id=\"altair-viz-4a89edb58a1140f99af090fa9db3797f\"></div>\n",
       "<script type=\"text/javascript\">\n",
       "  var VEGA_DEBUG = (typeof VEGA_DEBUG == \"undefined\") ? {} : VEGA_DEBUG;\n",
       "  (function(spec, embedOpt){\n",
       "    let outputDiv = document.currentScript.previousElementSibling;\n",
       "    if (outputDiv.id !== \"altair-viz-4a89edb58a1140f99af090fa9db3797f\") {\n",
       "      outputDiv = document.getElementById(\"altair-viz-4a89edb58a1140f99af090fa9db3797f\");\n",
       "    }\n",
       "    const paths = {\n",
       "      \"vega\": \"https://cdn.jsdelivr.net/npm//vega@5?noext\",\n",
       "      \"vega-lib\": \"https://cdn.jsdelivr.net/npm//vega-lib?noext\",\n",
       "      \"vega-lite\": \"https://cdn.jsdelivr.net/npm//vega-lite@4.17.0?noext\",\n",
       "      \"vega-embed\": \"https://cdn.jsdelivr.net/npm//vega-embed@6?noext\",\n",
       "    };\n",
       "\n",
       "    function maybeLoadScript(lib, version) {\n",
       "      var key = `${lib.replace(\"-\", \"\")}_version`;\n",
       "      return (VEGA_DEBUG[key] == version) ?\n",
       "        Promise.resolve(paths[lib]) :\n",
       "        new Promise(function(resolve, reject) {\n",
       "          var s = document.createElement('script');\n",
       "          document.getElementsByTagName(\"head\")[0].appendChild(s);\n",
       "          s.async = true;\n",
       "          s.onload = () => {\n",
       "            VEGA_DEBUG[key] = version;\n",
       "            return resolve(paths[lib]);\n",
       "          };\n",
       "          s.onerror = () => reject(`Error loading script: ${paths[lib]}`);\n",
       "          s.src = paths[lib];\n",
       "        });\n",
       "    }\n",
       "\n",
       "    function showError(err) {\n",
       "      outputDiv.innerHTML = `<div class=\"error\" style=\"color:red;\">${err}</div>`;\n",
       "      throw err;\n",
       "    }\n",
       "\n",
       "    function displayChart(vegaEmbed) {\n",
       "      vegaEmbed(outputDiv, spec, embedOpt)\n",
       "        .catch(err => showError(`Javascript Error: ${err.message}<br>This usually means there's a typo in your chart specification. See the javascript console for the full traceback.`));\n",
       "    }\n",
       "\n",
       "    if(typeof define === \"function\" && define.amd) {\n",
       "      requirejs.config({paths});\n",
       "      require([\"vega-embed\"], displayChart, err => showError(`Error loading script: ${err.message}`));\n",
       "    } else {\n",
       "      maybeLoadScript(\"vega\", \"5\")\n",
       "        .then(() => maybeLoadScript(\"vega-lite\", \"4.17.0\"))\n",
       "        .then(() => maybeLoadScript(\"vega-embed\", \"6\"))\n",
       "        .catch(showError)\n",
       "        .then(() => displayChart(vegaEmbed));\n",
       "    }\n",
       "  })({\"config\": {\"view\": {\"continuousWidth\": 400, \"continuousHeight\": 300}, \"axis\": {\"labelOverlap\": \"parity\"}, \"title\": {\"anchor\": \"start\", \"fontSize\": 14}}, \"vconcat\": [{\"mark\": {\"type\": \"rect\", \"color\": \"gray\"}, \"encoding\": {\"x\": {\"field\": \"site\", \"type\": \"ordinal\"}}, \"height\": 15, \"selection\": {\"selector001\": {\"type\": \"interval\", \"encodings\": [\"x\"], \"mark\": {\"stroke\": \"black\", \"strokeWidth\": 2}}}, \"title\": \"site zoom bar\", \"width\": 500}, {\"layer\": [{\"mark\": \"rect\", \"encoding\": {\"color\": {\"field\": \"1\", \"legend\": {\"gradientLength\": 100, \"gradientStrokeColor\": \"black\", \"gradientStrokeWidth\": 0.5, \"orient\": \"left\", \"title\": \"gray is n.d.\", \"titleFontWeight\": \"normal\"}, \"scale\": {\"clamp\": true, \"domain\": [0, 2.0], \"range\": [\"#ffffff\", \"#e6f0f7\", \"#cde1ee\", \"#b4d2e6\", \"#9bc3de\", \"#83b3d5\", \"#6aa4cd\", \"#5195c5\", \"#3886bc\", \"#1f77b4\"], \"type\": \"linear\"}, \"type\": \"quantitative\"}, \"stroke\": {\"value\": \"black\"}, \"strokeWidth\": {\"condition\": {\"value\": 2.5, \"selection\": \"selector002\"}, \"value\": 0.2}, \"tooltip\": [{\"field\": \"mutation\", \"type\": \"nominal\"}, {\"field\": \"1\", \"format\": \".3g\", \"type\": \"quantitative\"}, {\"field\": \"2\", \"format\": \".3g\", \"type\": \"quantitative\"}], \"x\": {\"field\": \"site\", \"type\": \"ordinal\"}, \"y\": {\"field\": \"mutant\", \"sort\": {\"field\": \"y\", \"order\": \"ascending\"}, \"type\": \"ordinal\"}}, \"selection\": {\"selector003\": {\"type\": \"interval\", \"bind\": \"scales\", \"encodings\": [\"x\", \"y\"]}, \"selector002\": {\"type\": \"single\", \"on\": \"mouseover\", \"empty\": \"none\"}}}, {\"mark\": {\"type\": \"rect\", \"opacity\": 0.25}, \"encoding\": {\"color\": {\"field\": \"escape\", \"legend\": null, \"scale\": {\"scheme\": \"greys\"}, \"type\": \"nominal\"}, \"x\": {\"field\": \"site\", \"type\": \"ordinal\"}, \"y\": {\"field\": \"mutant\", \"sort\": {\"field\": \"y\", \"order\": \"ascending\"}, \"type\": \"ordinal\"}}, \"transform\": [{\"filter\": \"!isValid(datum['1'])\"}]}, {\"mark\": {\"type\": \"text\", \"color\": \"black\"}, \"encoding\": {\"text\": {\"field\": \"wildtype_char\", \"type\": \"nominal\"}, \"x\": {\"field\": \"site\", \"type\": \"ordinal\"}, \"y\": {\"field\": \"mutant\", \"sort\": {\"field\": \"y\", \"order\": \"ascending\"}, \"type\": \"ordinal\"}}}], \"height\": {\"step\": 13}, \"title\": {\"text\": \"1 epitope\", \"color\": \"#1f77b4\"}, \"transform\": [{\"filter\": {\"selection\": \"selector001\"}}], \"width\": {\"step\": 13}}, {\"layer\": [{\"mark\": \"rect\", \"encoding\": {\"color\": {\"field\": \"2\", \"legend\": {\"gradientLength\": 100, \"gradientStrokeColor\": \"black\", \"gradientStrokeWidth\": 0.5, \"orient\": \"left\", \"title\": \"gray is n.d.\", \"titleFontWeight\": \"normal\"}, \"scale\": {\"clamp\": true, \"domain\": [0, 2.0], \"range\": [\"#ffffff\", \"#fff1e4\", \"#ffe3c9\", \"#ffd4af\", \"#ffc694\", \"#ffb879\", \"#ffaa5e\", \"#ff9b44\", \"#ff8d29\", \"#ff7f0e\"], \"type\": \"linear\"}, \"type\": \"quantitative\"}, \"stroke\": {\"value\": \"black\"}, \"strokeWidth\": {\"condition\": {\"value\": 2.5, \"selection\": \"selector002\"}, \"value\": 0.2}, \"tooltip\": [{\"field\": \"mutation\", \"type\": \"nominal\"}, {\"field\": \"1\", \"format\": \".3g\", \"type\": \"quantitative\"}, {\"field\": \"2\", \"format\": \".3g\", \"type\": \"quantitative\"}], \"x\": {\"field\": \"site\", \"type\": \"ordinal\"}, \"y\": {\"field\": \"mutant\", \"sort\": {\"field\": \"y\", \"order\": \"ascending\"}, \"type\": \"ordinal\"}}, \"selection\": {\"selector004\": {\"type\": \"interval\", \"bind\": \"scales\", \"encodings\": [\"x\", \"y\"]}, \"selector002\": {\"type\": \"single\", \"on\": \"mouseover\", \"empty\": \"none\"}}}, {\"mark\": {\"type\": \"rect\", \"opacity\": 0.25}, \"encoding\": {\"color\": {\"field\": \"escape\", \"legend\": null, \"scale\": {\"scheme\": \"greys\"}, \"type\": \"nominal\"}, \"x\": {\"field\": \"site\", \"type\": \"ordinal\"}, \"y\": {\"field\": \"mutant\", \"sort\": {\"field\": \"y\", \"order\": \"ascending\"}, \"type\": \"ordinal\"}}, \"transform\": [{\"filter\": \"!isValid(datum['2'])\"}]}, {\"mark\": {\"type\": \"text\", \"color\": \"black\"}, \"encoding\": {\"text\": {\"field\": \"wildtype_char\", \"type\": \"nominal\"}, \"x\": {\"field\": \"site\", \"type\": \"ordinal\"}, \"y\": {\"field\": \"mutant\", \"sort\": {\"field\": \"y\", \"order\": \"ascending\"}, \"type\": \"ordinal\"}}}], \"height\": {\"step\": 13}, \"title\": {\"text\": \"2 epitope\", \"color\": \"#ff7f0e\"}, \"transform\": [{\"filter\": {\"selection\": \"selector001\"}}], \"width\": {\"step\": 13}}], \"data\": {\"name\": \"data-b85e23b82b155c6bfc4d6746fcab257d\"}, \"spacing\": 0, \"$schema\": \"https://vega.github.io/schema/vega-lite/v4.17.0.json\", \"datasets\": {\"data-b85e23b82b155c6bfc4d6746fcab257d\": [{\"site\": 1, \"mutant\": \"A\", \"1\": null, \"2\": null, \"wildtype\": \"M\", \"mutation\": \"M1A\", \"wildtype_char\": \"\"}, {\"site\": 1, \"mutant\": \"C\", \"1\": 1.0, \"2\": 0.0, \"wildtype\": \"M\", \"mutation\": \"M1C\", \"wildtype_char\": \"\"}, {\"site\": 1, \"mutant\": \"D\", \"1\": null, \"2\": null, \"wildtype\": \"M\", \"mutation\": \"M1D\", \"wildtype_char\": \"\"}, {\"site\": 1, \"mutant\": \"E\", \"1\": null, \"2\": null, \"wildtype\": \"M\", \"mutation\": \"M1E\", \"wildtype_char\": \"\"}, {\"site\": 1, \"mutant\": \"F\", \"1\": null, \"2\": null, \"wildtype\": \"M\", \"mutation\": \"M1F\", \"wildtype_char\": \"\"}, {\"site\": 1, \"mutant\": \"G\", \"1\": null, \"2\": null, \"wildtype\": \"M\", \"mutation\": \"M1G\", \"wildtype_char\": \"\"}, {\"site\": 1, \"mutant\": \"H\", \"1\": null, \"2\": null, \"wildtype\": \"M\", \"mutation\": \"M1H\", \"wildtype_char\": \"\"}, {\"site\": 1, \"mutant\": \"I\", \"1\": null, \"2\": null, \"wildtype\": \"M\", \"mutation\": \"M1I\", \"wildtype_char\": \"\"}, {\"site\": 1, \"mutant\": \"K\", \"1\": null, \"2\": null, \"wildtype\": \"M\", \"mutation\": \"M1K\", \"wildtype_char\": \"\"}, {\"site\": 1, \"mutant\": \"L\", \"1\": null, \"2\": null, \"wildtype\": \"M\", \"mutation\": \"M1L\", \"wildtype_char\": \"\"}, {\"site\": 1, \"mutant\": \"M\", \"1\": 0.0, \"2\": 0.0, \"wildtype\": \"M\", \"mutation\": \"M1M\", \"wildtype_char\": \"x\"}, {\"site\": 1, \"mutant\": \"N\", \"1\": null, \"2\": null, \"wildtype\": \"M\", \"mutation\": \"M1N\", \"wildtype_char\": \"\"}, {\"site\": 1, \"mutant\": \"P\", \"1\": null, \"2\": null, \"wildtype\": \"M\", \"mutation\": \"M1P\", \"wildtype_char\": \"\"}, {\"site\": 1, \"mutant\": \"Q\", \"1\": null, \"2\": null, \"wildtype\": \"M\", \"mutation\": \"M1Q\", \"wildtype_char\": \"\"}, {\"site\": 1, \"mutant\": \"R\", \"1\": null, \"2\": null, \"wildtype\": \"M\", \"mutation\": \"M1R\", \"wildtype_char\": \"\"}, {\"site\": 1, \"mutant\": \"S\", \"1\": null, \"2\": null, \"wildtype\": \"M\", \"mutation\": \"M1S\", \"wildtype_char\": \"\"}, {\"site\": 1, \"mutant\": \"T\", \"1\": null, \"2\": null, \"wildtype\": \"M\", \"mutation\": \"M1T\", \"wildtype_char\": \"\"}, {\"site\": 1, \"mutant\": \"V\", \"1\": null, \"2\": null, \"wildtype\": \"M\", \"mutation\": \"M1V\", \"wildtype_char\": \"\"}, {\"site\": 1, \"mutant\": \"W\", \"1\": null, \"2\": null, \"wildtype\": \"M\", \"mutation\": \"M1W\", \"wildtype_char\": \"\"}, {\"site\": 1, \"mutant\": \"Y\", \"1\": null, \"2\": null, \"wildtype\": \"M\", \"mutation\": \"M1Y\", \"wildtype_char\": \"\"}, {\"site\": 2, \"mutant\": \"A\", \"1\": 0.0, \"2\": 0.0, \"wildtype\": \"G\", \"mutation\": \"G2A\", \"wildtype_char\": \"\"}, {\"site\": 2, \"mutant\": \"C\", \"1\": null, \"2\": null, \"wildtype\": \"G\", \"mutation\": \"G2C\", \"wildtype_char\": \"\"}, {\"site\": 2, \"mutant\": \"D\", \"1\": null, \"2\": null, \"wildtype\": \"G\", \"mutation\": \"G2D\", \"wildtype_char\": \"\"}, {\"site\": 2, \"mutant\": \"E\", \"1\": null, \"2\": null, \"wildtype\": \"G\", \"mutation\": \"G2E\", \"wildtype_char\": \"\"}, {\"site\": 2, \"mutant\": \"F\", \"1\": null, \"2\": null, \"wildtype\": \"G\", \"mutation\": \"G2F\", \"wildtype_char\": \"\"}, {\"site\": 2, \"mutant\": \"G\", \"1\": 0.0, \"2\": 0.0, \"wildtype\": \"G\", \"mutation\": \"G2G\", \"wildtype_char\": \"x\"}, {\"site\": 2, \"mutant\": \"H\", \"1\": null, \"2\": null, \"wildtype\": \"G\", \"mutation\": \"G2H\", \"wildtype_char\": \"\"}, {\"site\": 2, \"mutant\": \"I\", \"1\": null, \"2\": null, \"wildtype\": \"G\", \"mutation\": \"G2I\", \"wildtype_char\": \"\"}, {\"site\": 2, \"mutant\": \"K\", \"1\": null, \"2\": null, \"wildtype\": \"G\", \"mutation\": \"G2K\", \"wildtype_char\": \"\"}, {\"site\": 2, \"mutant\": \"L\", \"1\": null, \"2\": null, \"wildtype\": \"G\", \"mutation\": \"G2L\", \"wildtype_char\": \"\"}, {\"site\": 2, \"mutant\": \"M\", \"1\": null, \"2\": null, \"wildtype\": \"G\", \"mutation\": \"G2M\", \"wildtype_char\": \"\"}, {\"site\": 2, \"mutant\": \"N\", \"1\": null, \"2\": null, \"wildtype\": \"G\", \"mutation\": \"G2N\", \"wildtype_char\": \"\"}, {\"site\": 2, \"mutant\": \"P\", \"1\": null, \"2\": null, \"wildtype\": \"G\", \"mutation\": \"G2P\", \"wildtype_char\": \"\"}, {\"site\": 2, \"mutant\": \"Q\", \"1\": null, \"2\": null, \"wildtype\": \"G\", \"mutation\": \"G2Q\", \"wildtype_char\": \"\"}, {\"site\": 2, \"mutant\": \"R\", \"1\": null, \"2\": null, \"wildtype\": \"G\", \"mutation\": \"G2R\", \"wildtype_char\": \"\"}, {\"site\": 2, \"mutant\": \"S\", \"1\": null, \"2\": null, \"wildtype\": \"G\", \"mutation\": \"G2S\", \"wildtype_char\": \"\"}, {\"site\": 2, \"mutant\": \"T\", \"1\": null, \"2\": null, \"wildtype\": \"G\", \"mutation\": \"G2T\", \"wildtype_char\": \"\"}, {\"site\": 2, \"mutant\": \"V\", \"1\": null, \"2\": null, \"wildtype\": \"G\", \"mutation\": \"G2V\", \"wildtype_char\": \"\"}, {\"site\": 2, \"mutant\": \"W\", \"1\": null, \"2\": null, \"wildtype\": \"G\", \"mutation\": \"G2W\", \"wildtype_char\": \"\"}, {\"site\": 2, \"mutant\": \"Y\", \"1\": null, \"2\": null, \"wildtype\": \"G\", \"mutation\": \"G2Y\", \"wildtype_char\": \"\"}, {\"site\": 3, \"mutant\": \"A\", \"1\": null, \"2\": null, \"wildtype\": null, \"mutation\": \"3A\", \"wildtype_char\": \"\"}, {\"site\": 3, \"mutant\": \"C\", \"1\": null, \"2\": null, \"wildtype\": null, \"mutation\": \"3C\", \"wildtype_char\": \"\"}, {\"site\": 3, \"mutant\": \"D\", \"1\": null, \"2\": null, \"wildtype\": null, \"mutation\": \"3D\", \"wildtype_char\": \"\"}, {\"site\": 3, \"mutant\": \"E\", \"1\": null, \"2\": null, \"wildtype\": null, \"mutation\": \"3E\", \"wildtype_char\": \"\"}, {\"site\": 3, \"mutant\": \"F\", \"1\": null, \"2\": null, \"wildtype\": null, \"mutation\": \"3F\", \"wildtype_char\": \"\"}, {\"site\": 3, \"mutant\": \"G\", \"1\": null, \"2\": null, \"wildtype\": null, \"mutation\": \"3G\", \"wildtype_char\": \"\"}, {\"site\": 3, \"mutant\": \"H\", \"1\": null, \"2\": null, \"wildtype\": null, \"mutation\": \"3H\", \"wildtype_char\": \"\"}, {\"site\": 3, \"mutant\": \"I\", \"1\": null, \"2\": null, \"wildtype\": null, \"mutation\": \"3I\", \"wildtype_char\": \"\"}, {\"site\": 3, \"mutant\": \"K\", \"1\": null, \"2\": null, \"wildtype\": null, \"mutation\": \"3K\", \"wildtype_char\": \"\"}, {\"site\": 3, \"mutant\": \"L\", \"1\": null, \"2\": null, \"wildtype\": null, \"mutation\": \"3L\", \"wildtype_char\": \"\"}, {\"site\": 3, \"mutant\": \"M\", \"1\": null, \"2\": null, \"wildtype\": null, \"mutation\": \"3M\", \"wildtype_char\": \"\"}, {\"site\": 3, \"mutant\": \"N\", \"1\": null, \"2\": null, \"wildtype\": null, \"mutation\": \"3N\", \"wildtype_char\": \"\"}, {\"site\": 3, \"mutant\": \"P\", \"1\": null, \"2\": null, \"wildtype\": null, \"mutation\": \"3P\", \"wildtype_char\": \"\"}, {\"site\": 3, \"mutant\": \"Q\", \"1\": null, \"2\": null, \"wildtype\": null, \"mutation\": \"3Q\", \"wildtype_char\": \"\"}, {\"site\": 3, \"mutant\": \"R\", \"1\": null, \"2\": null, \"wildtype\": null, \"mutation\": \"3R\", \"wildtype_char\": \"\"}, {\"site\": 3, \"mutant\": \"S\", \"1\": null, \"2\": null, \"wildtype\": null, \"mutation\": \"3S\", \"wildtype_char\": \"\"}, {\"site\": 3, \"mutant\": \"T\", \"1\": null, \"2\": null, \"wildtype\": null, \"mutation\": \"3T\", \"wildtype_char\": \"\"}, {\"site\": 3, \"mutant\": \"V\", \"1\": null, \"2\": null, \"wildtype\": null, \"mutation\": \"3V\", \"wildtype_char\": \"\"}, {\"site\": 3, \"mutant\": \"W\", \"1\": null, \"2\": null, \"wildtype\": null, \"mutation\": \"3W\", \"wildtype_char\": \"\"}, {\"site\": 3, \"mutant\": \"Y\", \"1\": null, \"2\": null, \"wildtype\": null, \"mutation\": \"3Y\", \"wildtype_char\": \"\"}, {\"site\": 4, \"mutant\": \"A\", \"1\": 0.0, \"2\": 0.0, \"wildtype\": \"A\", \"mutation\": \"A4A\", \"wildtype_char\": \"x\"}, {\"site\": 4, \"mutant\": \"C\", \"1\": null, \"2\": null, \"wildtype\": \"A\", \"mutation\": \"A4C\", \"wildtype_char\": \"\"}, {\"site\": 4, \"mutant\": \"D\", \"1\": null, \"2\": null, \"wildtype\": \"A\", \"mutation\": \"A4D\", \"wildtype_char\": \"\"}, {\"site\": 4, \"mutant\": \"E\", \"1\": null, \"2\": null, \"wildtype\": \"A\", \"mutation\": \"A4E\", \"wildtype_char\": \"\"}, {\"site\": 4, \"mutant\": \"F\", \"1\": null, \"2\": null, \"wildtype\": \"A\", \"mutation\": \"A4F\", \"wildtype_char\": \"\"}, {\"site\": 4, \"mutant\": \"G\", \"1\": null, \"2\": null, \"wildtype\": \"A\", \"mutation\": \"A4G\", \"wildtype_char\": \"\"}, {\"site\": 4, \"mutant\": \"H\", \"1\": null, \"2\": null, \"wildtype\": \"A\", \"mutation\": \"A4H\", \"wildtype_char\": \"\"}, {\"site\": 4, \"mutant\": \"I\", \"1\": null, \"2\": null, \"wildtype\": \"A\", \"mutation\": \"A4I\", \"wildtype_char\": \"\"}, {\"site\": 4, \"mutant\": \"K\", \"1\": 0.0, \"2\": 2.0, \"wildtype\": \"A\", \"mutation\": \"A4K\", \"wildtype_char\": \"\"}, {\"site\": 4, \"mutant\": \"L\", \"1\": 0.0, \"2\": 2.0, \"wildtype\": \"A\", \"mutation\": \"A4L\", \"wildtype_char\": \"\"}, {\"site\": 4, \"mutant\": \"M\", \"1\": null, \"2\": null, \"wildtype\": \"A\", \"mutation\": \"A4M\", \"wildtype_char\": \"\"}, {\"site\": 4, \"mutant\": \"N\", \"1\": null, \"2\": null, \"wildtype\": \"A\", \"mutation\": \"A4N\", \"wildtype_char\": \"\"}, {\"site\": 4, \"mutant\": \"P\", \"1\": null, \"2\": null, \"wildtype\": \"A\", \"mutation\": \"A4P\", \"wildtype_char\": \"\"}, {\"site\": 4, \"mutant\": \"Q\", \"1\": null, \"2\": null, \"wildtype\": \"A\", \"mutation\": \"A4Q\", \"wildtype_char\": \"\"}, {\"site\": 4, \"mutant\": \"R\", \"1\": null, \"2\": null, \"wildtype\": \"A\", \"mutation\": \"A4R\", \"wildtype_char\": \"\"}, {\"site\": 4, \"mutant\": \"S\", \"1\": null, \"2\": null, \"wildtype\": \"A\", \"mutation\": \"A4S\", \"wildtype_char\": \"\"}, {\"site\": 4, \"mutant\": \"T\", \"1\": null, \"2\": null, \"wildtype\": \"A\", \"mutation\": \"A4T\", \"wildtype_char\": \"\"}, {\"site\": 4, \"mutant\": \"V\", \"1\": null, \"2\": null, \"wildtype\": \"A\", \"mutation\": \"A4V\", \"wildtype_char\": \"\"}, {\"site\": 4, \"mutant\": \"W\", \"1\": null, \"2\": null, \"wildtype\": \"A\", \"mutation\": \"A4W\", \"wildtype_char\": \"\"}, {\"site\": 4, \"mutant\": \"Y\", \"1\": null, \"2\": null, \"wildtype\": \"A\", \"mutation\": \"A4Y\", \"wildtype_char\": \"\"}]}}, {\"mode\": \"vega-lite\"});\n",
       "</script>"
      ],
      "text/plain": [
       "alt.VConcatChart(...)"
      ]
     },
     "execution_count": 18,
     "metadata": {},
     "output_type": "execute_result"
    }
   ],
   "source": [
    "# Normal plotting not impacted\n",
    "polyclonal_data.mut_escape_heatmap()"
   ]
  },
  {
   "cell_type": "code",
   "execution_count": 19,
   "id": "badd584d-54cf-4f8a-a80a-be0291dc6875",
   "metadata": {},
   "outputs": [
    {
     "data": {
      "text/html": [
       "\n",
       "<div id=\"altair-viz-f7b5782e15804c149d596fc3e1dae010\"></div>\n",
       "<script type=\"text/javascript\">\n",
       "  var VEGA_DEBUG = (typeof VEGA_DEBUG == \"undefined\") ? {} : VEGA_DEBUG;\n",
       "  (function(spec, embedOpt){\n",
       "    let outputDiv = document.currentScript.previousElementSibling;\n",
       "    if (outputDiv.id !== \"altair-viz-f7b5782e15804c149d596fc3e1dae010\") {\n",
       "      outputDiv = document.getElementById(\"altair-viz-f7b5782e15804c149d596fc3e1dae010\");\n",
       "    }\n",
       "    const paths = {\n",
       "      \"vega\": \"https://cdn.jsdelivr.net/npm//vega@5?noext\",\n",
       "      \"vega-lib\": \"https://cdn.jsdelivr.net/npm//vega-lib?noext\",\n",
       "      \"vega-lite\": \"https://cdn.jsdelivr.net/npm//vega-lite@4.17.0?noext\",\n",
       "      \"vega-embed\": \"https://cdn.jsdelivr.net/npm//vega-embed@6?noext\",\n",
       "    };\n",
       "\n",
       "    function maybeLoadScript(lib, version) {\n",
       "      var key = `${lib.replace(\"-\", \"\")}_version`;\n",
       "      return (VEGA_DEBUG[key] == version) ?\n",
       "        Promise.resolve(paths[lib]) :\n",
       "        new Promise(function(resolve, reject) {\n",
       "          var s = document.createElement('script');\n",
       "          document.getElementsByTagName(\"head\")[0].appendChild(s);\n",
       "          s.async = true;\n",
       "          s.onload = () => {\n",
       "            VEGA_DEBUG[key] = version;\n",
       "            return resolve(paths[lib]);\n",
       "          };\n",
       "          s.onerror = () => reject(`Error loading script: ${paths[lib]}`);\n",
       "          s.src = paths[lib];\n",
       "        });\n",
       "    }\n",
       "\n",
       "    function showError(err) {\n",
       "      outputDiv.innerHTML = `<div class=\"error\" style=\"color:red;\">${err}</div>`;\n",
       "      throw err;\n",
       "    }\n",
       "\n",
       "    function displayChart(vegaEmbed) {\n",
       "      vegaEmbed(outputDiv, spec, embedOpt)\n",
       "        .catch(err => showError(`Javascript Error: ${err.message}<br>This usually means there's a typo in your chart specification. See the javascript console for the full traceback.`));\n",
       "    }\n",
       "\n",
       "    if(typeof define === \"function\" && define.amd) {\n",
       "      requirejs.config({paths});\n",
       "      require([\"vega-embed\"], displayChart, err => showError(`Error loading script: ${err.message}`));\n",
       "    } else {\n",
       "      maybeLoadScript(\"vega\", \"5\")\n",
       "        .then(() => maybeLoadScript(\"vega-lite\", \"4.17.0\"))\n",
       "        .then(() => maybeLoadScript(\"vega-embed\", \"6\"))\n",
       "        .catch(showError)\n",
       "        .then(() => displayChart(vegaEmbed));\n",
       "    }\n",
       "  })({\"config\": {\"view\": {\"continuousWidth\": 400, \"continuousHeight\": 300}, \"axis\": {\"labelOverlap\": \"parity\"}, \"title\": {\"anchor\": \"start\", \"fontSize\": 14}}, \"vconcat\": [{\"mark\": {\"type\": \"rect\", \"color\": \"gray\"}, \"encoding\": {\"x\": {\"field\": \"site\", \"type\": \"ordinal\"}}, \"height\": 15, \"selection\": {\"selector005\": {\"type\": \"interval\", \"encodings\": [\"x\"], \"mark\": {\"stroke\": \"black\", \"strokeWidth\": 2}}}, \"title\": \"site zoom bar\", \"width\": 500}, {\"layer\": [{\"mark\": \"rect\", \"encoding\": {\"color\": {\"field\": \"1\", \"legend\": {\"gradientLength\": 100, \"gradientStrokeColor\": \"black\", \"gradientStrokeWidth\": 0.5, \"orient\": \"left\", \"title\": \"gray is n.d.\", \"titleFontWeight\": \"normal\"}, \"scale\": {\"clamp\": true, \"domain\": [0, 2.240608554487481], \"range\": [\"#ffffff\", \"#e6f0f7\", \"#cde1ee\", \"#b4d2e6\", \"#9bc3de\", \"#83b3d5\", \"#6aa4cd\", \"#5195c5\", \"#3886bc\", \"#1f77b4\"], \"type\": \"linear\"}, \"type\": \"quantitative\"}, \"stroke\": {\"value\": \"black\"}, \"strokeWidth\": {\"condition\": {\"value\": 2.5, \"selection\": \"selector006\"}, \"value\": 0.2}, \"tooltip\": [{\"field\": \"mutation\", \"type\": \"nominal\"}, {\"field\": \"1\", \"format\": \".3g\", \"type\": \"quantitative\"}, {\"field\": \"2\", \"format\": \".3g\", \"type\": \"quantitative\"}], \"x\": {\"field\": \"site\", \"type\": \"ordinal\"}, \"y\": {\"field\": \"mutant\", \"sort\": {\"field\": \"y\", \"order\": \"ascending\"}, \"type\": \"ordinal\"}}, \"selection\": {\"selector007\": {\"type\": \"interval\", \"bind\": \"scales\", \"encodings\": [\"x\", \"y\"]}, \"selector006\": {\"type\": \"single\", \"on\": \"mouseover\", \"empty\": \"none\"}}}, {\"mark\": {\"type\": \"rect\", \"opacity\": 0.25}, \"encoding\": {\"color\": {\"field\": \"escape\", \"legend\": null, \"scale\": {\"scheme\": \"greys\"}, \"type\": \"nominal\"}, \"x\": {\"field\": \"site\", \"type\": \"ordinal\"}, \"y\": {\"field\": \"mutant\", \"sort\": {\"field\": \"y\", \"order\": \"ascending\"}, \"type\": \"ordinal\"}}, \"transform\": [{\"filter\": \"!isValid(datum['1'])\"}]}, {\"mark\": {\"type\": \"text\", \"color\": \"black\"}, \"encoding\": {\"text\": {\"field\": \"wildtype_char\", \"type\": \"nominal\"}, \"x\": {\"field\": \"site\", \"type\": \"ordinal\"}, \"y\": {\"field\": \"mutant\", \"sort\": {\"field\": \"y\", \"order\": \"ascending\"}, \"type\": \"ordinal\"}}}], \"height\": {\"step\": 13}, \"title\": {\"text\": \"1 epitope\", \"color\": \"#1f77b4\"}, \"transform\": [{\"filter\": {\"selection\": \"selector005\"}}], \"width\": {\"step\": 13}}, {\"layer\": [{\"mark\": \"rect\", \"encoding\": {\"color\": {\"field\": \"2\", \"legend\": {\"gradientLength\": 100, \"gradientStrokeColor\": \"black\", \"gradientStrokeWidth\": 0.5, \"orient\": \"left\", \"title\": \"gray is n.d.\", \"titleFontWeight\": \"normal\"}, \"scale\": {\"clamp\": true, \"domain\": [0, 2.240608554487481], \"range\": [\"#ffffff\", \"#fff1e4\", \"#ffe3c9\", \"#ffd4af\", \"#ffc694\", \"#ffb879\", \"#ffaa5e\", \"#ff9b44\", \"#ff8d29\", \"#ff7f0e\"], \"type\": \"linear\"}, \"type\": \"quantitative\"}, \"stroke\": {\"value\": \"black\"}, \"strokeWidth\": {\"condition\": {\"value\": 2.5, \"selection\": \"selector006\"}, \"value\": 0.2}, \"tooltip\": [{\"field\": \"mutation\", \"type\": \"nominal\"}, {\"field\": \"1\", \"format\": \".3g\", \"type\": \"quantitative\"}, {\"field\": \"2\", \"format\": \".3g\", \"type\": \"quantitative\"}], \"x\": {\"field\": \"site\", \"type\": \"ordinal\"}, \"y\": {\"field\": \"mutant\", \"sort\": {\"field\": \"y\", \"order\": \"ascending\"}, \"type\": \"ordinal\"}}, \"selection\": {\"selector008\": {\"type\": \"interval\", \"bind\": \"scales\", \"encodings\": [\"x\", \"y\"]}, \"selector006\": {\"type\": \"single\", \"on\": \"mouseover\", \"empty\": \"none\"}}}, {\"mark\": {\"type\": \"rect\", \"opacity\": 0.25}, \"encoding\": {\"color\": {\"field\": \"escape\", \"legend\": null, \"scale\": {\"scheme\": \"greys\"}, \"type\": \"nominal\"}, \"x\": {\"field\": \"site\", \"type\": \"ordinal\"}, \"y\": {\"field\": \"mutant\", \"sort\": {\"field\": \"y\", \"order\": \"ascending\"}, \"type\": \"ordinal\"}}, \"transform\": [{\"filter\": \"!isValid(datum['2'])\"}]}, {\"mark\": {\"type\": \"text\", \"color\": \"black\"}, \"encoding\": {\"text\": {\"field\": \"wildtype_char\", \"type\": \"nominal\"}, \"x\": {\"field\": \"site\", \"type\": \"ordinal\"}, \"y\": {\"field\": \"mutant\", \"sort\": {\"field\": \"y\", \"order\": \"ascending\"}, \"type\": \"ordinal\"}}}], \"height\": {\"step\": 13}, \"title\": {\"text\": \"2 epitope\", \"color\": \"#ff7f0e\"}, \"transform\": [{\"filter\": {\"selection\": \"selector005\"}}], \"width\": {\"step\": 13}}], \"data\": {\"name\": \"data-fbeab9f0be16d47924d887029ad3e08b\"}, \"spacing\": 0, \"$schema\": \"https://vega.github.io/schema/vega-lite/v4.17.0.json\", \"datasets\": {\"data-fbeab9f0be16d47924d887029ad3e08b\": [{\"site\": 1, \"mutant\": \"A\", \"1\": null, \"2\": null, \"wildtype\": \"M\", \"mutation\": \"M1A\", \"wildtype_char\": \"\"}, {\"site\": 1, \"mutant\": \"C\", \"1\": 0.35753421492267995, \"2\": 1.5602713820818506, \"wildtype\": \"M\", \"mutation\": \"M1C\", \"wildtype_char\": \"\"}, {\"site\": 1, \"mutant\": \"D\", \"1\": null, \"2\": null, \"wildtype\": \"M\", \"mutation\": \"M1D\", \"wildtype_char\": \"\"}, {\"site\": 1, \"mutant\": \"E\", \"1\": null, \"2\": null, \"wildtype\": \"M\", \"mutation\": \"M1E\", \"wildtype_char\": \"\"}, {\"site\": 1, \"mutant\": \"F\", \"1\": null, \"2\": null, \"wildtype\": \"M\", \"mutation\": \"M1F\", \"wildtype_char\": \"\"}, {\"site\": 1, \"mutant\": \"G\", \"1\": null, \"2\": null, \"wildtype\": \"M\", \"mutation\": \"M1G\", \"wildtype_char\": \"\"}, {\"site\": 1, \"mutant\": \"H\", \"1\": null, \"2\": null, \"wildtype\": \"M\", \"mutation\": \"M1H\", \"wildtype_char\": \"\"}, {\"site\": 1, \"mutant\": \"I\", \"1\": null, \"2\": null, \"wildtype\": \"M\", \"mutation\": \"M1I\", \"wildtype_char\": \"\"}, {\"site\": 1, \"mutant\": \"K\", \"1\": null, \"2\": null, \"wildtype\": \"M\", \"mutation\": \"M1K\", \"wildtype_char\": \"\"}, {\"site\": 1, \"mutant\": \"L\", \"1\": null, \"2\": null, \"wildtype\": \"M\", \"mutation\": \"M1L\", \"wildtype_char\": \"\"}, {\"site\": 1, \"mutant\": \"M\", \"1\": 0.0, \"2\": 0.0, \"wildtype\": \"M\", \"mutation\": \"M1M\", \"wildtype_char\": \"x\"}, {\"site\": 1, \"mutant\": \"N\", \"1\": null, \"2\": null, \"wildtype\": \"M\", \"mutation\": \"M1N\", \"wildtype_char\": \"\"}, {\"site\": 1, \"mutant\": \"P\", \"1\": null, \"2\": null, \"wildtype\": \"M\", \"mutation\": \"M1P\", \"wildtype_char\": \"\"}, {\"site\": 1, \"mutant\": \"Q\", \"1\": null, \"2\": null, \"wildtype\": \"M\", \"mutation\": \"M1Q\", \"wildtype_char\": \"\"}, {\"site\": 1, \"mutant\": \"R\", \"1\": null, \"2\": null, \"wildtype\": \"M\", \"mutation\": \"M1R\", \"wildtype_char\": \"\"}, {\"site\": 1, \"mutant\": \"S\", \"1\": null, \"2\": null, \"wildtype\": \"M\", \"mutation\": \"M1S\", \"wildtype_char\": \"\"}, {\"site\": 1, \"mutant\": \"T\", \"1\": null, \"2\": null, \"wildtype\": \"M\", \"mutation\": \"M1T\", \"wildtype_char\": \"\"}, {\"site\": 1, \"mutant\": \"V\", \"1\": null, \"2\": null, \"wildtype\": \"M\", \"mutation\": \"M1V\", \"wildtype_char\": \"\"}, {\"site\": 1, \"mutant\": \"W\", \"1\": null, \"2\": null, \"wildtype\": \"M\", \"mutation\": \"M1W\", \"wildtype_char\": \"\"}, {\"site\": 1, \"mutant\": \"Y\", \"1\": null, \"2\": null, \"wildtype\": \"M\", \"mutation\": \"M1Y\", \"wildtype_char\": \"\"}, {\"site\": 2, \"mutant\": \"A\", \"1\": 0.7767355701787957, \"2\": 1.7246674191007643, \"wildtype\": \"G\", \"mutation\": \"G2A\", \"wildtype_char\": \"\"}, {\"site\": 2, \"mutant\": \"C\", \"1\": null, \"2\": null, \"wildtype\": \"G\", \"mutation\": \"G2C\", \"wildtype_char\": \"\"}, {\"site\": 2, \"mutant\": \"D\", \"1\": null, \"2\": null, \"wildtype\": \"G\", \"mutation\": \"G2D\", \"wildtype_char\": \"\"}, {\"site\": 2, \"mutant\": \"E\", \"1\": null, \"2\": null, \"wildtype\": \"G\", \"mutation\": \"G2E\", \"wildtype_char\": \"\"}, {\"site\": 2, \"mutant\": \"F\", \"1\": null, \"2\": null, \"wildtype\": \"G\", \"mutation\": \"G2F\", \"wildtype_char\": \"\"}, {\"site\": 2, \"mutant\": \"G\", \"1\": 0.0, \"2\": 0.0, \"wildtype\": \"G\", \"mutation\": \"G2G\", \"wildtype_char\": \"x\"}, {\"site\": 2, \"mutant\": \"H\", \"1\": null, \"2\": null, \"wildtype\": \"G\", \"mutation\": \"G2H\", \"wildtype_char\": \"\"}, {\"site\": 2, \"mutant\": \"I\", \"1\": null, \"2\": null, \"wildtype\": \"G\", \"mutation\": \"G2I\", \"wildtype_char\": \"\"}, {\"site\": 2, \"mutant\": \"K\", \"1\": null, \"2\": null, \"wildtype\": \"G\", \"mutation\": \"G2K\", \"wildtype_char\": \"\"}, {\"site\": 2, \"mutant\": \"L\", \"1\": null, \"2\": null, \"wildtype\": \"G\", \"mutation\": \"G2L\", \"wildtype_char\": \"\"}, {\"site\": 2, \"mutant\": \"M\", \"1\": null, \"2\": null, \"wildtype\": \"G\", \"mutation\": \"G2M\", \"wildtype_char\": \"\"}, {\"site\": 2, \"mutant\": \"N\", \"1\": null, \"2\": null, \"wildtype\": \"G\", \"mutation\": \"G2N\", \"wildtype_char\": \"\"}, {\"site\": 2, \"mutant\": \"P\", \"1\": null, \"2\": null, \"wildtype\": \"G\", \"mutation\": \"G2P\", \"wildtype_char\": \"\"}, {\"site\": 2, \"mutant\": \"Q\", \"1\": null, \"2\": null, \"wildtype\": \"G\", \"mutation\": \"G2Q\", \"wildtype_char\": \"\"}, {\"site\": 2, \"mutant\": \"R\", \"1\": null, \"2\": null, \"wildtype\": \"G\", \"mutation\": \"G2R\", \"wildtype_char\": \"\"}, {\"site\": 2, \"mutant\": \"S\", \"1\": null, \"2\": null, \"wildtype\": \"G\", \"mutation\": \"G2S\", \"wildtype_char\": \"\"}, {\"site\": 2, \"mutant\": \"T\", \"1\": null, \"2\": null, \"wildtype\": \"G\", \"mutation\": \"G2T\", \"wildtype_char\": \"\"}, {\"site\": 2, \"mutant\": \"V\", \"1\": null, \"2\": null, \"wildtype\": \"G\", \"mutation\": \"G2V\", \"wildtype_char\": \"\"}, {\"site\": 2, \"mutant\": \"W\", \"1\": null, \"2\": null, \"wildtype\": \"G\", \"mutation\": \"G2W\", \"wildtype_char\": \"\"}, {\"site\": 2, \"mutant\": \"Y\", \"1\": null, \"2\": null, \"wildtype\": \"G\", \"mutation\": \"G2Y\", \"wildtype_char\": \"\"}, {\"site\": 3, \"mutant\": \"A\", \"1\": null, \"2\": null, \"wildtype\": null, \"mutation\": \"3A\", \"wildtype_char\": \"\"}, {\"site\": 3, \"mutant\": \"C\", \"1\": null, \"2\": null, \"wildtype\": null, \"mutation\": \"3C\", \"wildtype_char\": \"\"}, {\"site\": 3, \"mutant\": \"D\", \"1\": null, \"2\": null, \"wildtype\": null, \"mutation\": \"3D\", \"wildtype_char\": \"\"}, {\"site\": 3, \"mutant\": \"E\", \"1\": null, \"2\": null, \"wildtype\": null, \"mutation\": \"3E\", \"wildtype_char\": \"\"}, {\"site\": 3, \"mutant\": \"F\", \"1\": null, \"2\": null, \"wildtype\": null, \"mutation\": \"3F\", \"wildtype_char\": \"\"}, {\"site\": 3, \"mutant\": \"G\", \"1\": null, \"2\": null, \"wildtype\": null, \"mutation\": \"3G\", \"wildtype_char\": \"\"}, {\"site\": 3, \"mutant\": \"H\", \"1\": null, \"2\": null, \"wildtype\": null, \"mutation\": \"3H\", \"wildtype_char\": \"\"}, {\"site\": 3, \"mutant\": \"I\", \"1\": null, \"2\": null, \"wildtype\": null, \"mutation\": \"3I\", \"wildtype_char\": \"\"}, {\"site\": 3, \"mutant\": \"K\", \"1\": null, \"2\": null, \"wildtype\": null, \"mutation\": \"3K\", \"wildtype_char\": \"\"}, {\"site\": 3, \"mutant\": \"L\", \"1\": null, \"2\": null, \"wildtype\": null, \"mutation\": \"3L\", \"wildtype_char\": \"\"}, {\"site\": 3, \"mutant\": \"M\", \"1\": null, \"2\": null, \"wildtype\": null, \"mutation\": \"3M\", \"wildtype_char\": \"\"}, {\"site\": 3, \"mutant\": \"N\", \"1\": null, \"2\": null, \"wildtype\": null, \"mutation\": \"3N\", \"wildtype_char\": \"\"}, {\"site\": 3, \"mutant\": \"P\", \"1\": null, \"2\": null, \"wildtype\": null, \"mutation\": \"3P\", \"wildtype_char\": \"\"}, {\"site\": 3, \"mutant\": \"Q\", \"1\": null, \"2\": null, \"wildtype\": null, \"mutation\": \"3Q\", \"wildtype_char\": \"\"}, {\"site\": 3, \"mutant\": \"R\", \"1\": null, \"2\": null, \"wildtype\": null, \"mutation\": \"3R\", \"wildtype_char\": \"\"}, {\"site\": 3, \"mutant\": \"S\", \"1\": null, \"2\": null, \"wildtype\": null, \"mutation\": \"3S\", \"wildtype_char\": \"\"}, {\"site\": 3, \"mutant\": \"T\", \"1\": null, \"2\": null, \"wildtype\": null, \"mutation\": \"3T\", \"wildtype_char\": \"\"}, {\"site\": 3, \"mutant\": \"V\", \"1\": null, \"2\": null, \"wildtype\": null, \"mutation\": \"3V\", \"wildtype_char\": \"\"}, {\"site\": 3, \"mutant\": \"W\", \"1\": null, \"2\": null, \"wildtype\": null, \"mutation\": \"3W\", \"wildtype_char\": \"\"}, {\"site\": 3, \"mutant\": \"Y\", \"1\": null, \"2\": null, \"wildtype\": null, \"mutation\": \"3Y\", \"wildtype_char\": \"\"}, {\"site\": 4, \"mutant\": \"A\", \"1\": 0.0, \"2\": 0.0, \"wildtype\": \"A\", \"mutation\": \"A4A\", \"wildtype_char\": \"x\"}, {\"site\": 4, \"mutant\": \"C\", \"1\": null, \"2\": null, \"wildtype\": \"A\", \"mutation\": \"A4C\", \"wildtype_char\": \"\"}, {\"site\": 4, \"mutant\": \"D\", \"1\": null, \"2\": null, \"wildtype\": \"A\", \"mutation\": \"A4D\", \"wildtype_char\": \"\"}, {\"site\": 4, \"mutant\": \"E\", \"1\": null, \"2\": null, \"wildtype\": \"A\", \"mutation\": \"A4E\", \"wildtype_char\": \"\"}, {\"site\": 4, \"mutant\": \"F\", \"1\": null, \"2\": null, \"wildtype\": \"A\", \"mutation\": \"A4F\", \"wildtype_char\": \"\"}, {\"site\": 4, \"mutant\": \"G\", \"1\": null, \"2\": null, \"wildtype\": \"A\", \"mutation\": \"A4G\", \"wildtype_char\": \"\"}, {\"site\": 4, \"mutant\": \"H\", \"1\": null, \"2\": null, \"wildtype\": \"A\", \"mutation\": \"A4H\", \"wildtype_char\": \"\"}, {\"site\": 4, \"mutant\": \"I\", \"1\": null, \"2\": null, \"wildtype\": \"A\", \"mutation\": \"A4I\", \"wildtype_char\": \"\"}, {\"site\": 4, \"mutant\": \"K\", \"1\": 2.240608554487481, \"2\": 0.11840668563312655, \"wildtype\": \"A\", \"mutation\": \"A4K\", \"wildtype_char\": \"\"}, {\"site\": 4, \"mutant\": \"L\", \"1\": 1.6666002619284264, \"2\": -0.048950232461134544, \"wildtype\": \"A\", \"mutation\": \"A4L\", \"wildtype_char\": \"\"}, {\"site\": 4, \"mutant\": \"M\", \"1\": null, \"2\": null, \"wildtype\": \"A\", \"mutation\": \"A4M\", \"wildtype_char\": \"\"}, {\"site\": 4, \"mutant\": \"N\", \"1\": null, \"2\": null, \"wildtype\": \"A\", \"mutation\": \"A4N\", \"wildtype_char\": \"\"}, {\"site\": 4, \"mutant\": \"P\", \"1\": null, \"2\": null, \"wildtype\": \"A\", \"mutation\": \"A4P\", \"wildtype_char\": \"\"}, {\"site\": 4, \"mutant\": \"Q\", \"1\": null, \"2\": null, \"wildtype\": \"A\", \"mutation\": \"A4Q\", \"wildtype_char\": \"\"}, {\"site\": 4, \"mutant\": \"R\", \"1\": null, \"2\": null, \"wildtype\": \"A\", \"mutation\": \"A4R\", \"wildtype_char\": \"\"}, {\"site\": 4, \"mutant\": \"S\", \"1\": null, \"2\": null, \"wildtype\": \"A\", \"mutation\": \"A4S\", \"wildtype_char\": \"\"}, {\"site\": 4, \"mutant\": \"T\", \"1\": null, \"2\": null, \"wildtype\": \"A\", \"mutation\": \"A4T\", \"wildtype_char\": \"\"}, {\"site\": 4, \"mutant\": \"V\", \"1\": null, \"2\": null, \"wildtype\": \"A\", \"mutation\": \"A4V\", \"wildtype_char\": \"\"}, {\"site\": 4, \"mutant\": \"W\", \"1\": null, \"2\": null, \"wildtype\": \"A\", \"mutation\": \"A4W\", \"wildtype_char\": \"\"}, {\"site\": 4, \"mutant\": \"Y\", \"1\": null, \"2\": null, \"wildtype\": \"A\", \"mutation\": \"A4Y\", \"wildtype_char\": \"\"}]}}, {\"mode\": \"vega-lite\"});\n",
       "</script>"
      ],
      "text/plain": [
       "alt.VConcatChart(...)"
      ]
     },
     "execution_count": 19,
     "metadata": {},
     "output_type": "execute_result"
    }
   ],
   "source": [
    "# Plot of mean\n",
    "polyclonal.plot.mut_escape_heatmap(\n",
    "    mut_escape_df=summary_mut_escape_dict[\"mean\"],\n",
    "    alphabet=polyclonal_data.alphabet,\n",
    "    epitope_colors=polyclonal_data.epitope_colors,\n",
    "    stat=\"mean\",\n",
    ")"
   ]
  },
  {
   "cell_type": "code",
   "execution_count": 20,
   "id": "396e383f-6f7f-4ae1-bba3-66242bba5bcd",
   "metadata": {},
   "outputs": [
    {
     "data": {
      "text/html": [
       "\n",
       "<div id=\"altair-viz-e17edbad9d964b2e93678c3f535b7906\"></div>\n",
       "<script type=\"text/javascript\">\n",
       "  var VEGA_DEBUG = (typeof VEGA_DEBUG == \"undefined\") ? {} : VEGA_DEBUG;\n",
       "  (function(spec, embedOpt){\n",
       "    let outputDiv = document.currentScript.previousElementSibling;\n",
       "    if (outputDiv.id !== \"altair-viz-e17edbad9d964b2e93678c3f535b7906\") {\n",
       "      outputDiv = document.getElementById(\"altair-viz-e17edbad9d964b2e93678c3f535b7906\");\n",
       "    }\n",
       "    const paths = {\n",
       "      \"vega\": \"https://cdn.jsdelivr.net/npm//vega@5?noext\",\n",
       "      \"vega-lib\": \"https://cdn.jsdelivr.net/npm//vega-lib?noext\",\n",
       "      \"vega-lite\": \"https://cdn.jsdelivr.net/npm//vega-lite@4.17.0?noext\",\n",
       "      \"vega-embed\": \"https://cdn.jsdelivr.net/npm//vega-embed@6?noext\",\n",
       "    };\n",
       "\n",
       "    function maybeLoadScript(lib, version) {\n",
       "      var key = `${lib.replace(\"-\", \"\")}_version`;\n",
       "      return (VEGA_DEBUG[key] == version) ?\n",
       "        Promise.resolve(paths[lib]) :\n",
       "        new Promise(function(resolve, reject) {\n",
       "          var s = document.createElement('script');\n",
       "          document.getElementsByTagName(\"head\")[0].appendChild(s);\n",
       "          s.async = true;\n",
       "          s.onload = () => {\n",
       "            VEGA_DEBUG[key] = version;\n",
       "            return resolve(paths[lib]);\n",
       "          };\n",
       "          s.onerror = () => reject(`Error loading script: ${paths[lib]}`);\n",
       "          s.src = paths[lib];\n",
       "        });\n",
       "    }\n",
       "\n",
       "    function showError(err) {\n",
       "      outputDiv.innerHTML = `<div class=\"error\" style=\"color:red;\">${err}</div>`;\n",
       "      throw err;\n",
       "    }\n",
       "\n",
       "    function displayChart(vegaEmbed) {\n",
       "      vegaEmbed(outputDiv, spec, embedOpt)\n",
       "        .catch(err => showError(`Javascript Error: ${err.message}<br>This usually means there's a typo in your chart specification. See the javascript console for the full traceback.`));\n",
       "    }\n",
       "\n",
       "    if(typeof define === \"function\" && define.amd) {\n",
       "      requirejs.config({paths});\n",
       "      require([\"vega-embed\"], displayChart, err => showError(`Error loading script: ${err.message}`));\n",
       "    } else {\n",
       "      maybeLoadScript(\"vega\", \"5\")\n",
       "        .then(() => maybeLoadScript(\"vega-lite\", \"4.17.0\"))\n",
       "        .then(() => maybeLoadScript(\"vega-embed\", \"6\"))\n",
       "        .catch(showError)\n",
       "        .then(() => displayChart(vegaEmbed));\n",
       "    }\n",
       "  })({\"config\": {\"view\": {\"continuousWidth\": 400, \"continuousHeight\": 300}, \"axis\": {\"grid\": false}}, \"data\": {\"name\": \"data-22abe3e004de5108c547bfe322291404\"}, \"mark\": {\"type\": \"bar\", \"size\": 18.75}, \"encoding\": {\"color\": {\"field\": \"epitope\", \"legend\": null, \"scale\": {\"domain\": [\"1\", \"2\"], \"range\": [\"#1f77b4\", \"#ff7f0e\"]}, \"type\": \"nominal\"}, \"tooltip\": [{\"field\": \"epitope\", \"type\": \"nominal\"}, {\"field\": \"activity\", \"format\": \".3g\", \"type\": \"quantitative\"}], \"x\": {\"field\": \"activity\", \"type\": \"quantitative\"}, \"y\": {\"field\": \"epitope\", \"type\": \"nominal\"}}, \"height\": {\"step\": 25}, \"width\": 110, \"$schema\": \"https://vega.github.io/schema/vega-lite/v4.17.0.json\", \"datasets\": {\"data-22abe3e004de5108c547bfe322291404\": [{\"epitope\": \"1\", \"activity\": 2.0}, {\"epitope\": \"2\", \"activity\": 1.0}]}}, {\"mode\": \"vega-lite\"});\n",
       "</script>"
      ],
      "text/plain": [
       "alt.Chart(...)"
      ]
     },
     "execution_count": 20,
     "metadata": {},
     "output_type": "execute_result"
    }
   ],
   "source": [
    "polyclonal_data.activity_wt_barplot()"
   ]
  },
  {
   "cell_type": "code",
   "execution_count": 23,
   "id": "76279652-36a3-4087-a70c-efff364f2293",
   "metadata": {},
   "outputs": [
    {
     "data": {
      "text/html": [
       "\n",
       "<div id=\"altair-viz-99bbd8b0c73642c8b42e236f0321af13\"></div>\n",
       "<script type=\"text/javascript\">\n",
       "  var VEGA_DEBUG = (typeof VEGA_DEBUG == \"undefined\") ? {} : VEGA_DEBUG;\n",
       "  (function(spec, embedOpt){\n",
       "    let outputDiv = document.currentScript.previousElementSibling;\n",
       "    if (outputDiv.id !== \"altair-viz-99bbd8b0c73642c8b42e236f0321af13\") {\n",
       "      outputDiv = document.getElementById(\"altair-viz-99bbd8b0c73642c8b42e236f0321af13\");\n",
       "    }\n",
       "    const paths = {\n",
       "      \"vega\": \"https://cdn.jsdelivr.net/npm//vega@5?noext\",\n",
       "      \"vega-lib\": \"https://cdn.jsdelivr.net/npm//vega-lib?noext\",\n",
       "      \"vega-lite\": \"https://cdn.jsdelivr.net/npm//vega-lite@4.17.0?noext\",\n",
       "      \"vega-embed\": \"https://cdn.jsdelivr.net/npm//vega-embed@6?noext\",\n",
       "    };\n",
       "\n",
       "    function maybeLoadScript(lib, version) {\n",
       "      var key = `${lib.replace(\"-\", \"\")}_version`;\n",
       "      return (VEGA_DEBUG[key] == version) ?\n",
       "        Promise.resolve(paths[lib]) :\n",
       "        new Promise(function(resolve, reject) {\n",
       "          var s = document.createElement('script');\n",
       "          document.getElementsByTagName(\"head\")[0].appendChild(s);\n",
       "          s.async = true;\n",
       "          s.onload = () => {\n",
       "            VEGA_DEBUG[key] = version;\n",
       "            return resolve(paths[lib]);\n",
       "          };\n",
       "          s.onerror = () => reject(`Error loading script: ${paths[lib]}`);\n",
       "          s.src = paths[lib];\n",
       "        });\n",
       "    }\n",
       "\n",
       "    function showError(err) {\n",
       "      outputDiv.innerHTML = `<div class=\"error\" style=\"color:red;\">${err}</div>`;\n",
       "      throw err;\n",
       "    }\n",
       "\n",
       "    function displayChart(vegaEmbed) {\n",
       "      vegaEmbed(outputDiv, spec, embedOpt)\n",
       "        .catch(err => showError(`Javascript Error: ${err.message}<br>This usually means there's a typo in your chart specification. See the javascript console for the full traceback.`));\n",
       "    }\n",
       "\n",
       "    if(typeof define === \"function\" && define.amd) {\n",
       "      requirejs.config({paths});\n",
       "      require([\"vega-embed\"], displayChart, err => showError(`Error loading script: ${err.message}`));\n",
       "    } else {\n",
       "      maybeLoadScript(\"vega\", \"5\")\n",
       "        .then(() => maybeLoadScript(\"vega-lite\", \"4.17.0\"))\n",
       "        .then(() => maybeLoadScript(\"vega-embed\", \"6\"))\n",
       "        .catch(showError)\n",
       "        .then(() => displayChart(vegaEmbed));\n",
       "    }\n",
       "  })({\"config\": {\"view\": {\"continuousWidth\": 400, \"continuousHeight\": 300}, \"axis\": {\"grid\": false}}, \"data\": {\"name\": \"data-d479045e1fc106186f7a85da5b40afb8\"}, \"mark\": {\"type\": \"bar\", \"size\": 18.75}, \"encoding\": {\"color\": {\"field\": \"epitope\", \"legend\": null, \"scale\": {\"domain\": [\"1\", \"2\"], \"range\": [\"#1f77b4\", \"#ff7f0e\"]}, \"type\": \"nominal\"}, \"tooltip\": [{\"field\": \"epitope\", \"type\": \"nominal\"}, {\"field\": \"std\", \"format\": \".3g\", \"type\": \"quantitative\"}], \"x\": {\"field\": \"std\", \"type\": \"quantitative\"}, \"y\": {\"field\": \"epitope\", \"type\": \"nominal\"}}, \"height\": {\"step\": 25}, \"width\": 110, \"$schema\": \"https://vega.github.io/schema/vega-lite/v4.17.0.json\", \"datasets\": {\"data-d479045e1fc106186f7a85da5b40afb8\": [{\"epitope\": \"1\", \"std\": 1.1750587150125775}, {\"epitope\": \"2\", \"std\": 1.9513317189435082}]}}, {\"mode\": \"vega-lite\"});\n",
       "</script>"
      ],
      "text/plain": [
       "alt.Chart(...)"
      ]
     },
     "execution_count": 23,
     "metadata": {},
     "output_type": "execute_result"
    }
   ],
   "source": [
    "polyclonal.plot.activity_wt_barplot(\n",
    "    activity_wt_df=summary_activity_wt_dict[\"std\"],\n",
    "    epitope_colors=polyclonal_data.epitope_colors,\n",
    "    stat=\"std\",\n",
    ")"
   ]
  },
  {
   "cell_type": "code",
   "execution_count": null,
   "id": "4e1f2a7e-91e9-4b84-938f-5ea188231c9e",
   "metadata": {},
   "outputs": [],
   "source": []
  }
 ],
 "metadata": {
  "kernelspec": {
   "display_name": "Python 3 (ipykernel)",
   "language": "python",
   "name": "python3"
  },
  "language_info": {
   "codemirror_mode": {
    "name": "ipython",
    "version": 3
   },
   "file_extension": ".py",
   "mimetype": "text/x-python",
   "name": "python",
   "nbconvert_exporter": "python",
   "pygments_lexer": "ipython3",
   "version": "3.8.12"
  }
 },
 "nbformat": 4,
 "nbformat_minor": 5
}
