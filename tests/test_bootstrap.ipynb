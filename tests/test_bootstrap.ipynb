{
 "cells": [
  {
   "cell_type": "markdown",
   "id": "1aa90605-cff5-49e8-bd63-106e9efc69fc",
   "metadata": {},
   "source": [
    "# Getting started with `polyclonal` bootstrapping"
   ]
  },
  {
   "cell_type": "markdown",
   "id": "bd93cfd2-6d65-4d08-8bef-2dfe736f6631",
   "metadata": {},
   "source": [
    "## Imports and setup"
   ]
  },
  {
   "cell_type": "code",
   "execution_count": 1,
   "id": "7f2bd96d-b693-4a82-856c-edf6a85ec89a",
   "metadata": {},
   "outputs": [],
   "source": [
    "import pandas as pd\n",
    "from polyclonal import Polyclonal, PolyclonalCollection\n",
    "import polyclonal.polyclonal_collection as boot\n",
    "import numpy as np"
   ]
  },
  {
   "cell_type": "markdown",
   "id": "71fbc11a-6d03-400e-84fb-48af861c2ca9",
   "metadata": {},
   "source": [
    "Below contains some simulated data from Jesse\n",
    "* One simulation where we have the same variants for each conecntration\n",
    "* One simulation where we do not have the same variants for each concentration\n",
    "* These two situations hare handeled differently in `polyclonal` objects"
   ]
  },
  {
   "cell_type": "code",
   "execution_count": 2,
   "id": "a212ce8e-b374-4cbb-9bd1-e6543972b4e6",
   "metadata": {},
   "outputs": [],
   "source": [
    "activity_wt_df = pd.DataFrame({\"epitope\": [\"e1\", \"e2\"], \"activity\": [2.0, 1.0]})\n",
    "\n",
    "mut_escape_df = pd.DataFrame(\n",
    "    {\n",
    "        \"mutation\": [\"M1C\", \"M1C\", \"G2A\", \"G2A\", \"A4K\", \"A4K\", \"A4L\", \"A4L\"],\n",
    "        \"epitope\": [\"e1\", \"e2\", \"e1\", \"e2\", \"e1\", \"e2\", \"e1\", \"e2\"],\n",
    "        \"escape\": [2.0, 0.0, 3.0, 0.0, 0.0, 2.5, 0.0, 1.5],\n",
    "    }\n",
    ")\n",
    "\n",
    "polyclonal_sim = Polyclonal(activity_wt_df=activity_wt_df, mut_escape_df=mut_escape_df)\n",
    "\n",
    "variants_df = pd.DataFrame.from_records(\n",
    "    [\n",
    "        (\"AA\", \"\"),\n",
    "        (\"AC\", \"M1C\"),\n",
    "        (\"AG\", \"G2A\"),\n",
    "        (\"AT\", \"A4K\"),\n",
    "        (\"TA\", \"A4L\"),\n",
    "        (\"CA\", \"M1C G2A\"),\n",
    "        (\"CG\", \"M1C A4K\"),\n",
    "        (\"CC\", \"G2A A4K\"),\n",
    "        (\"TC\", \"G2A A4L\"),\n",
    "        (\"CT\", \"M1C G2A A4K\"),\n",
    "        (\"TG\", \"M1C G2A A4L\"),\n",
    "        (\"GA\", \"M1C\"),\n",
    "    ],\n",
    "    columns=[\"barcode\", \"aa_substitutions\"],\n",
    ")\n",
    "\n",
    "escape_probs = polyclonal_sim.prob_escape(\n",
    "    variants_df=variants_df, concentrations=[1.0, 2.0, 4.0]\n",
    ")\n",
    "\n",
    "data_to_fit = escape_probs.rename(columns={\"predicted_prob_escape\": \"prob_escape\"})\n",
    "\n",
    "polyclonal_data = Polyclonal(\n",
    "    data_to_fit=data_to_fit,\n",
    "    activity_wt_df=activity_wt_df,\n",
    "    site_escape_df=pd.DataFrame.from_records(\n",
    "        [(\"e1\", 1, 1.0), (\"e1\", 4, 0.0), (\"e2\", 1, 0.0), (\"e2\", 4, 2.0)],\n",
    "        columns=[\"epitope\", \"site\", \"escape\"],\n",
    "    ),\n",
    "    data_mut_escape_overlap=\"fill_to_data\",\n",
    ")\n",
    "\n",
    "# Now only use the first 30 elements to get rid of some mutations\n",
    "polyclonal_data2 = Polyclonal(\n",
    "    data_to_fit=data_to_fit.head(30),\n",
    "    activity_wt_df=activity_wt_df,\n",
    "    site_escape_df=pd.DataFrame.from_records(\n",
    "        [(\"e1\", 1, 1.0), (\"e1\", 4, 0.0), (\"e2\", 1, 0.0), (\"e2\", 4, 2.0)],\n",
    "        columns=[\"epitope\", \"site\", \"escape\"],\n",
    "    ),\n",
    "    data_mut_escape_overlap=\"fill_to_data\",\n",
    ")"
   ]
  },
  {
   "cell_type": "markdown",
   "id": "f550d59f-94a5-4868-a36d-ea5852dc9b99",
   "metadata": {},
   "source": [
    "## Test basic functionality of helper methods outside of class"
   ]
  },
  {
   "cell_type": "code",
   "execution_count": 3,
   "id": "a92c97a0-6447-4655-bdd6-49301f98f11b",
   "metadata": {},
   "outputs": [],
   "source": [
    "boot_df = boot.create_bootstrap_sample(data_to_fit)\n",
    "\n",
    "# Make sure we got an appropriate number of samples\n",
    "assert len(boot_df) == len(data_to_fit)\n",
    "# Make sure we did sample with replacement\n",
    "assert not len(boot_df.drop_duplicates()) == len(data_to_fit)\n",
    "# Make sure we sampled the same number of variants at each concentration as the orignal dataset has\n",
    "assert boot_df.concentration.value_counts().equals(\n",
    "    data_to_fit.concentration.value_counts()\n",
    ")"
   ]
  },
  {
   "cell_type": "markdown",
   "id": "36684a04-2190-444d-94d2-7c3ce0296591",
   "metadata": {},
   "source": [
    "## Test initialization of `PolyclonalCollection` objects"
   ]
  },
  {
   "cell_type": "code",
   "execution_count": 4,
   "id": "04a1937a-9241-4f24-91c5-b5513e042002",
   "metadata": {},
   "outputs": [],
   "source": [
    "n_samps = 5\n",
    "n_threads = 4\n",
    "pc = PolyclonalCollection(\n",
    "    root_polyclonal=polyclonal_data,\n",
    "    n_bootstrap_samples=n_samps,\n",
    "    n_threads=n_threads,\n",
    "    seed=0,\n",
    ")\n",
    "\n",
    "# Make sure the desired number of models were created and stored\n",
    "assert len(pc.models) == n_samps\n",
    "# Make sure attributes are stored properly\n",
    "assert pc.n_bootstrap_samples == n_samps\n",
    "assert pc.n_threads == n_threads\n",
    "# Make sure we aren't copying the actual data from the original polyclonal model\n",
    "for i in range(n_samps):\n",
    "    assert not pc.root_polyclonal.data_to_fit.equals(pc.models[i].data_to_fit)"
   ]
  },
  {
   "cell_type": "markdown",
   "id": "b9742dbb-720e-437c-b1d9-ea9717514102",
   "metadata": {},
   "source": [
    "## Test random seeding"
   ]
  },
  {
   "cell_type": "code",
   "execution_count": 5,
   "id": "3ce1356d-9c5d-4b83-85d1-c2c2cdd0b8fb",
   "metadata": {},
   "outputs": [],
   "source": [
    "# Do two different seeds generate different `mut_bootstrap_freq_dict()` objects?\n",
    "pc2 = PolyclonalCollection(\n",
    "    root_polyclonal=polyclonal_data,\n",
    "    n_bootstrap_samples=n_samps,\n",
    "    n_threads=n_threads,\n",
    "    seed=1,\n",
    ")\n",
    "assert pc.mut_bootstrap_freq_dict != pc2.mut_bootstrap_freq_dict"
   ]
  },
  {
   "cell_type": "code",
   "execution_count": 6,
   "id": "781ad89f-9e61-4708-81d8-91fc89f2ed25",
   "metadata": {},
   "outputs": [],
   "source": [
    "# What if we use the same seed with multiple threads?\n",
    "pc_copy = PolyclonalCollection(\n",
    "    root_polyclonal=polyclonal_data,\n",
    "    n_bootstrap_samples=n_samps,\n",
    "    n_threads=n_threads,\n",
    "    seed=0,\n",
    ")\n",
    "assert pc.mut_bootstrap_freq_dict == pc_copy.mut_bootstrap_freq_dict"
   ]
  },
  {
   "cell_type": "markdown",
   "id": "3c12622f-ee54-428b-8e54-7550c0b5d75c",
   "metadata": {},
   "source": [
    "## Test `PolyclonalCollection` bootstrapping results"
   ]
  },
  {
   "cell_type": "code",
   "execution_count": 7,
   "id": "c6185dc5-6d1a-4975-92b2-5cd7fd6c6b58",
   "metadata": {},
   "outputs": [],
   "source": [
    "# Test to ensure that parameters change during fitting.\n",
    "for model in pc.models:\n",
    "    old_params = model._params\n",
    "    boot._fit_polyclonal_model(model)\n",
    "    # Did the params change?\n",
    "    assert not np.array_equal(model._params, old_params)"
   ]
  },
  {
   "cell_type": "markdown",
   "id": "67a3aefe-bb46-4853-9fd2-7cc9e8827260",
   "metadata": {},
   "source": [
    "### Test predictions across all models"
   ]
  },
  {
   "cell_type": "code",
   "execution_count": 8,
   "id": "7ec43240-d74a-49d8-97e4-1e45e45923df",
   "metadata": {},
   "outputs": [],
   "source": [
    "# Create a list of prediction dataframes from bootstrapped models\n",
    "test_list = pc.make_predictions(variants_df=boot_df)\n",
    "\n",
    "# Make sure we got the same number of predictions for every model\n",
    "for result in test_list:\n",
    "    assert len(result) == len(boot_df)\n",
    "    assert not (result.shape[1]) == (boot_df.shape[1])"
   ]
  },
  {
   "cell_type": "code",
   "execution_count": 9,
   "id": "55c4be49-be98-425b-877f-8ae37153f8fd",
   "metadata": {},
   "outputs": [],
   "source": [
    "# Aggregate the results\n",
    "agg_results = pc._summarize_bootstraped_predictions(test_list)\n",
    "assert len(test_list[0]) != len(agg_results)"
   ]
  },
  {
   "cell_type": "markdown",
   "id": "531e5a41-27a7-4f9c-8336-1eeb10348bfb",
   "metadata": {
    "tags": []
   },
   "source": [
    "## Test aggregation results"
   ]
  },
  {
   "cell_type": "markdown",
   "id": "a526063f-e8b3-43f1-8370-80f2a9e5390a",
   "metadata": {},
   "source": [
    "### Test summary validity"
   ]
  },
  {
   "cell_type": "code",
   "execution_count": 10,
   "id": "52fdcd43-655e-4fee-8de2-4996e3ba8307",
   "metadata": {},
   "outputs": [],
   "source": [
    "summary_mut_escape_dict, summary_activity_wt_dict = pc._summarize_bootstrapped_params()\n",
    "stat_colnames = set([\"mean\", \"median\", \"std\"])\n",
    "\n",
    "# Basic tests to make sure summary stats are being recorded.\n",
    "assert stat_colnames.issubset(summary_mut_escape_dict.keys())\n",
    "assert stat_colnames.issubset(summary_activity_wt_dict.keys())\n",
    "assert (\n",
    "    len(summary_mut_escape_dict[\"mean\"])\n",
    "    == len(summary_mut_escape_dict[\"median\"])\n",
    "    == len(summary_mut_escape_dict[\"std\"])\n",
    ")\n",
    "assert (\n",
    "    len(summary_activity_wt_dict[\"mean\"])\n",
    "    == len(summary_activity_wt_dict[\"median\"])\n",
    "    == len(summary_activity_wt_dict[\"std\"])\n",
    ")"
   ]
  },
  {
   "cell_type": "code",
   "execution_count": 11,
   "id": "7d7aa1b9-8d47-4c27-bb9d-f72c109580e6",
   "metadata": {},
   "outputs": [],
   "source": [
    "# Ensure center summary stats are still probabilities\n",
    "assert agg_results.mean_predicted_prob_escape.between(0, 1).all()\n",
    "assert agg_results.median_predicted_prob_escape.between(0, 1).all()"
   ]
  },
  {
   "cell_type": "markdown",
   "id": "9a7624d1-6309-41f8-a42a-e92d2ef6cd64",
   "metadata": {},
   "source": [
    "### Example outputs"
   ]
  },
  {
   "cell_type": "code",
   "execution_count": 12,
   "id": "d4c981a2-a478-47ad-a547-cafb9d8d9298",
   "metadata": {},
   "outputs": [
    {
     "name": "stdout",
     "output_type": "stream",
     "text": [
      "  mutation epitope  site wildtype      mean\n",
      "0      M1C       1     1        C  0.357534\n",
      "1      G2A       1     2        A  0.776736\n",
      "2      A4K       1     4        K  2.240609\n",
      "3      A4L       1     4        L  1.666600\n",
      "4      M1C       2     1        C  1.560271\n"
     ]
    }
   ],
   "source": [
    "print(summary_mut_escape_dict[\"mean\"].head())"
   ]
  },
  {
   "cell_type": "code",
   "execution_count": 13,
   "id": "88e6dd9d-0628-457f-bb02-2e3476d49ac9",
   "metadata": {},
   "outputs": [
    {
     "name": "stdout",
     "output_type": "stream",
     "text": [
      "  mutation epitope  site wildtype       std\n",
      "0      M1C       1     1        C  0.612951\n",
      "1      G2A       1     2        A  1.066903\n",
      "2      A4K       1     4        K  0.318816\n",
      "3      A4L       1     4        L  0.468816\n",
      "4      M1C       2     1        C  0.855098\n"
     ]
    }
   ],
   "source": [
    "print(summary_mut_escape_dict[\"std\"].head())"
   ]
  },
  {
   "cell_type": "code",
   "execution_count": 14,
   "id": "e61937e0-adc8-440c-9ff3-5b865738198f",
   "metadata": {},
   "outputs": [
    {
     "name": "stdout",
     "output_type": "stream",
     "text": [
      "  epitope    median\n",
      "0       1  1.071114\n",
      "1       2  1.903490\n"
     ]
    }
   ],
   "source": [
    "print(summary_activity_wt_dict[\"median\"])"
   ]
  }
 ],
 "metadata": {
  "kernelspec": {
   "display_name": "Python 3 (ipykernel)",
   "language": "python",
   "name": "python3"
  },
  "language_info": {
   "codemirror_mode": {
    "name": "ipython",
    "version": 3
   },
   "file_extension": ".py",
   "mimetype": "text/x-python",
   "name": "python",
   "nbconvert_exporter": "python",
   "pygments_lexer": "ipython3",
   "version": "3.8.12"
  }
 },
 "nbformat": 4,
 "nbformat_minor": 5
}
