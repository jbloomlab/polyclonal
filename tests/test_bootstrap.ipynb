{
 "cells": [
  {
   "cell_type": "markdown",
   "id": "58996f88-bdcd-4e58-a6e6-5cf53e7dc0ed",
   "metadata": {},
   "source": [
    "# Test bootstrapping functions"
   ]
  },
  {
   "cell_type": "code",
   "execution_count": 1,
   "id": "c5197eb5-8c6b-4b95-83a5-b4dc21e74f5f",
   "metadata": {},
   "outputs": [],
   "source": [
    "import pandas as pd\n",
    "import polyclonal.bootstrap as boot"
   ]
  },
  {
   "cell_type": "markdown",
   "id": "fa8902a4-12d7-4f46-9e47-9657b3a62f22",
   "metadata": {},
   "source": [
    "For these tests, I'll use the same dataframe from the variant filtering notebook"
   ]
  },
  {
   "cell_type": "code",
   "execution_count": 2,
   "id": "afd7cf35-212f-4bfb-9abd-623fc4e98d97",
   "metadata": {},
   "outputs": [
    {
     "data": {
      "text/html": [
       "<div>\n",
       "<style scoped>\n",
       "    .dataframe tbody tr th:only-of-type {\n",
       "        vertical-align: middle;\n",
       "    }\n",
       "\n",
       "    .dataframe tbody tr th {\n",
       "        vertical-align: top;\n",
       "    }\n",
       "\n",
       "    .dataframe thead th {\n",
       "        text-align: right;\n",
       "    }\n",
       "</style>\n",
       "<table border=\"1\" class=\"dataframe\">\n",
       "  <thead>\n",
       "    <tr style=\"text-align: right;\">\n",
       "      <th></th>\n",
       "      <th>barcode</th>\n",
       "      <th>aa_substitutions</th>\n",
       "      <th>concentration</th>\n",
       "      <th>prob_escape</th>\n",
       "    </tr>\n",
       "  </thead>\n",
       "  <tbody>\n",
       "    <tr>\n",
       "      <th>0</th>\n",
       "      <td>var1</td>\n",
       "      <td></td>\n",
       "      <td>0.5</td>\n",
       "      <td>0.1</td>\n",
       "    </tr>\n",
       "    <tr>\n",
       "      <th>1</th>\n",
       "      <td>var2</td>\n",
       "      <td>M1A</td>\n",
       "      <td>0.5</td>\n",
       "      <td>0.2</td>\n",
       "    </tr>\n",
       "    <tr>\n",
       "      <th>2</th>\n",
       "      <td>var3</td>\n",
       "      <td>M1A G2A</td>\n",
       "      <td>0.5</td>\n",
       "      <td>0.3</td>\n",
       "    </tr>\n",
       "    <tr>\n",
       "      <th>3</th>\n",
       "      <td>var4</td>\n",
       "      <td>M1A G2C</td>\n",
       "      <td>0.5</td>\n",
       "      <td>0.4</td>\n",
       "    </tr>\n",
       "    <tr>\n",
       "      <th>4</th>\n",
       "      <td>var5</td>\n",
       "      <td>G2A</td>\n",
       "      <td>1.0</td>\n",
       "      <td>0.5</td>\n",
       "    </tr>\n",
       "    <tr>\n",
       "      <th>5</th>\n",
       "      <td>var6</td>\n",
       "      <td>M1A</td>\n",
       "      <td>1.0</td>\n",
       "      <td>0.6</td>\n",
       "    </tr>\n",
       "    <tr>\n",
       "      <th>6</th>\n",
       "      <td>var7</td>\n",
       "      <td>M1L</td>\n",
       "      <td>1.0</td>\n",
       "      <td>0.3</td>\n",
       "    </tr>\n",
       "  </tbody>\n",
       "</table>\n",
       "</div>"
      ],
      "text/plain": [
       "  barcode aa_substitutions  concentration  prob_escape\n",
       "0    var1                             0.5          0.1\n",
       "1    var2              M1A            0.5          0.2\n",
       "2    var3          M1A G2A            0.5          0.3\n",
       "3    var4          M1A G2C            0.5          0.4\n",
       "4    var5              G2A            1.0          0.5\n",
       "5    var6              M1A            1.0          0.6\n",
       "6    var7              M1L            1.0          0.3"
      ]
     },
     "execution_count": 2,
     "metadata": {},
     "output_type": "execute_result"
    }
   ],
   "source": [
    "train_df = pd.DataFrame.from_records([\n",
    "            ('var1', '', 0.5, 0.1),\n",
    "            ('var2', 'M1A', 0.5, 0.2),\n",
    "            ('var3', 'M1A G2A', 0.5, 0.3),\n",
    "            ('var4', 'M1A G2C', 0.5, 0.4),\n",
    "            ('var5', 'G2A', 1, 0.5),\n",
    "            ('var6', 'M1A', 1, 0.6),\n",
    "            ('var7', 'M1L', 1, 0.3)\n",
    "            ],\n",
    "            columns=['barcode', 'aa_substitutions', 'concentration', 'prob_escape'])\n",
    "train_df"
   ]
  },
  {
   "cell_type": "markdown",
   "id": "0ef1adb5-c164-46f6-9452-3c633944a6e7",
   "metadata": {},
   "source": [
    "We want to bootstrap each concentration seperately -- so we should get four samples from `concentration=0.5` and `concentration=1` in all bootstraps"
   ]
  },
  {
   "cell_type": "code",
   "execution_count": 3,
   "id": "92bbd70f-51c1-4e85-b571-d2e51d9aa0af",
   "metadata": {},
   "outputs": [
    {
     "data": {
      "text/html": [
       "<div>\n",
       "<style scoped>\n",
       "    .dataframe tbody tr th:only-of-type {\n",
       "        vertical-align: middle;\n",
       "    }\n",
       "\n",
       "    .dataframe tbody tr th {\n",
       "        vertical-align: top;\n",
       "    }\n",
       "\n",
       "    .dataframe thead th {\n",
       "        text-align: right;\n",
       "    }\n",
       "</style>\n",
       "<table border=\"1\" class=\"dataframe\">\n",
       "  <thead>\n",
       "    <tr style=\"text-align: right;\">\n",
       "      <th></th>\n",
       "      <th>barcode</th>\n",
       "      <th>aa_substitutions</th>\n",
       "      <th>concentration</th>\n",
       "      <th>prob_escape</th>\n",
       "    </tr>\n",
       "  </thead>\n",
       "  <tbody>\n",
       "    <tr>\n",
       "      <th>2</th>\n",
       "      <td>var3</td>\n",
       "      <td>M1A G2A</td>\n",
       "      <td>0.5</td>\n",
       "      <td>0.3</td>\n",
       "    </tr>\n",
       "    <tr>\n",
       "      <th>1</th>\n",
       "      <td>var2</td>\n",
       "      <td>M1A</td>\n",
       "      <td>0.5</td>\n",
       "      <td>0.2</td>\n",
       "    </tr>\n",
       "    <tr>\n",
       "      <th>3</th>\n",
       "      <td>var4</td>\n",
       "      <td>M1A G2C</td>\n",
       "      <td>0.5</td>\n",
       "      <td>0.4</td>\n",
       "    </tr>\n",
       "    <tr>\n",
       "      <th>2</th>\n",
       "      <td>var3</td>\n",
       "      <td>M1A G2A</td>\n",
       "      <td>0.5</td>\n",
       "      <td>0.3</td>\n",
       "    </tr>\n",
       "    <tr>\n",
       "      <th>4</th>\n",
       "      <td>var5</td>\n",
       "      <td>G2A</td>\n",
       "      <td>1.0</td>\n",
       "      <td>0.5</td>\n",
       "    </tr>\n",
       "    <tr>\n",
       "      <th>5</th>\n",
       "      <td>var6</td>\n",
       "      <td>M1A</td>\n",
       "      <td>1.0</td>\n",
       "      <td>0.6</td>\n",
       "    </tr>\n",
       "    <tr>\n",
       "      <th>6</th>\n",
       "      <td>var7</td>\n",
       "      <td>M1L</td>\n",
       "      <td>1.0</td>\n",
       "      <td>0.3</td>\n",
       "    </tr>\n",
       "  </tbody>\n",
       "</table>\n",
       "</div>"
      ],
      "text/plain": [
       "  barcode aa_substitutions  concentration  prob_escape\n",
       "2    var3          M1A G2A            0.5          0.3\n",
       "1    var2              M1A            0.5          0.2\n",
       "3    var4          M1A G2C            0.5          0.4\n",
       "2    var3          M1A G2A            0.5          0.3\n",
       "4    var5              G2A            1.0          0.5\n",
       "5    var6              M1A            1.0          0.6\n",
       "6    var7              M1L            1.0          0.3"
      ]
     },
     "execution_count": 3,
     "metadata": {},
     "output_type": "execute_result"
    }
   ],
   "source": [
    "boot_df = boot.create_bootstrap_sample(train_df)\n",
    "boot_df"
   ]
  },
  {
   "cell_type": "markdown",
   "id": "e7440d35-dcba-490a-b771-7bcd48c25a39",
   "metadata": {},
   "source": [
    "Now we test to make sure we have:\n",
    "* The same number of rows in the bootstrapped dataset\n",
    "* The same number of observations for each concentration in the bootsrapped dataset"
   ]
  },
  {
   "cell_type": "code",
   "execution_count": 4,
   "id": "aa328205-0b28-420f-9976-2f6c3d28249f",
   "metadata": {},
   "outputs": [],
   "source": [
    "assert len(train_df) == len(boot_df)\n",
    "assert boot_df.value_counts('concentration').equals(train_df.value_counts('concentration'))"
   ]
  },
  {
   "cell_type": "markdown",
   "id": "80ff148e-158d-4784-95e4-cb0fa85c42b4",
   "metadata": {},
   "source": [
    "This should throw a key error when the column specified for grouping doesn't exist:"
   ]
  },
  {
   "cell_type": "code",
   "execution_count": 5,
   "id": "d8f6ae54-6aca-491f-a60f-1e8c46cbcc25",
   "metadata": {},
   "outputs": [
    {
     "ename": "KeyError",
     "evalue": "'this_is_not_a_column is not in supplied data frame.'",
     "output_type": "error",
     "traceback": [
      "\u001b[0;31m---------------------------------------------------------------------------\u001b[0m",
      "\u001b[0;31mKeyError\u001b[0m                                  Traceback (most recent call last)",
      "\u001b[0;32m/tmp/ipykernel_46337/926955545.py\u001b[0m in \u001b[0;36m<module>\u001b[0;34m\u001b[0m\n\u001b[0;32m----> 1\u001b[0;31m \u001b[0mboot\u001b[0m\u001b[0;34m.\u001b[0m\u001b[0mcreate_bootstrap_sample\u001b[0m\u001b[0;34m(\u001b[0m\u001b[0mtrain_df\u001b[0m\u001b[0;34m,\u001b[0m \u001b[0mgroup_by_col\u001b[0m\u001b[0;34m=\u001b[0m\u001b[0;34m'this_is_not_a_column'\u001b[0m\u001b[0;34m)\u001b[0m\u001b[0;34m\u001b[0m\u001b[0;34m\u001b[0m\u001b[0m\n\u001b[0m",
      "\u001b[0;32m~/polyclonal/polyclonal/bootstrap.py\u001b[0m in \u001b[0;36mcreate_bootstrap_sample\u001b[0;34m(df, group_by_col)\u001b[0m\n\u001b[1;32m     24\u001b[0m     \u001b[0;31m# Check to make sure group_by_col exists -- raise an error otherwise.\u001b[0m\u001b[0;34m\u001b[0m\u001b[0;34m\u001b[0m\u001b[0;34m\u001b[0m\u001b[0m\n\u001b[1;32m     25\u001b[0m     \u001b[0;32mif\u001b[0m \u001b[0mgroup_by_col\u001b[0m \u001b[0;32mnot\u001b[0m \u001b[0;32min\u001b[0m \u001b[0mdf\u001b[0m\u001b[0;34m.\u001b[0m\u001b[0mcolumns\u001b[0m\u001b[0;34m:\u001b[0m\u001b[0;34m\u001b[0m\u001b[0;34m\u001b[0m\u001b[0m\n\u001b[0;32m---> 26\u001b[0;31m         \u001b[0;32mraise\u001b[0m \u001b[0mKeyError\u001b[0m\u001b[0;34m(\u001b[0m\u001b[0;34mf'{group_by_col} is not in supplied data frame.'\u001b[0m\u001b[0;34m)\u001b[0m\u001b[0;34m\u001b[0m\u001b[0;34m\u001b[0m\u001b[0m\n\u001b[0m\u001b[1;32m     27\u001b[0m \u001b[0;34m\u001b[0m\u001b[0m\n\u001b[1;32m     28\u001b[0m     \u001b[0mboot_df\u001b[0m \u001b[0;34m=\u001b[0m \u001b[0;34m[\u001b[0m\u001b[0;34m]\u001b[0m\u001b[0;34m\u001b[0m\u001b[0;34m\u001b[0m\u001b[0m\n",
      "\u001b[0;31mKeyError\u001b[0m: 'this_is_not_a_column is not in supplied data frame.'"
     ]
    }
   ],
   "source": [
    "boot.create_bootstrap_sample(train_df, group_by_col='this_is_not_a_column')"
   ]
  }
 ],
 "metadata": {
  "kernelspec": {
   "display_name": "Python 3 (ipykernel)",
   "language": "python",
   "name": "python3"
  },
  "language_info": {
   "codemirror_mode": {
    "name": "ipython",
    "version": 3
   },
   "file_extension": ".py",
   "mimetype": "text/x-python",
   "name": "python",
   "nbconvert_exporter": "python",
   "pygments_lexer": "ipython3",
   "version": "3.8.12"
  }
 },
 "nbformat": 4,
 "nbformat_minor": 5
}
