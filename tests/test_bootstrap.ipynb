{
 "cells": [
  {
   "cell_type": "markdown",
   "id": "1aa90605-cff5-49e8-bd63-106e9efc69fc",
   "metadata": {},
   "source": [
    "# Getting started with `polyclonal` bootstrapping"
   ]
  },
  {
   "cell_type": "markdown",
   "id": "bd93cfd2-6d65-4d08-8bef-2dfe736f6631",
   "metadata": {},
   "source": [
    "## Imports and setup"
   ]
  },
  {
   "cell_type": "code",
   "execution_count": 1,
   "id": "7f2bd96d-b693-4a82-856c-edf6a85ec89a",
   "metadata": {
    "execution": {
     "iopub.execute_input": "2022-03-14T21:16:59.093739Z",
     "iopub.status.busy": "2022-03-14T21:16:59.093424Z",
     "iopub.status.idle": "2022-03-14T21:17:00.708486Z",
     "shell.execute_reply": "2022-03-14T21:17:00.707557Z",
     "shell.execute_reply.started": "2022-03-14T21:16:59.093653Z"
    }
   },
   "outputs": [],
   "source": [
    "import pandas as pd\n",
    "from polyclonal import Polyclonal, PolyclonalCollection\n",
    "import polyclonal.polyclonal_collection as boot\n",
    "import numpy as np"
   ]
  },
  {
   "cell_type": "markdown",
   "id": "71fbc11a-6d03-400e-84fb-48af861c2ca9",
   "metadata": {},
   "source": [
    "Below contains some simulated data from Jesse\n",
    "* One simulation where we have the same variants for each conecntration\n",
    "* One simulation where we do not have the same variants for each concentration\n",
    "* These two situations hare handeled differently in `polyclonal` objects"
   ]
  },
  {
   "cell_type": "code",
   "execution_count": 2,
   "id": "a212ce8e-b374-4cbb-9bd1-e6543972b4e6",
   "metadata": {
    "execution": {
     "iopub.execute_input": "2022-03-14T21:17:00.712275Z",
     "iopub.status.busy": "2022-03-14T21:17:00.711999Z",
     "iopub.status.idle": "2022-03-14T21:17:00.783689Z",
     "shell.execute_reply": "2022-03-14T21:17:00.782908Z",
     "shell.execute_reply.started": "2022-03-14T21:17:00.712246Z"
    }
   },
   "outputs": [],
   "source": [
    "activity_wt_df = pd.DataFrame({\"epitope\": [\"1\", \"2\"], \"activity\": [2.0, 1.0]})\n",
    "\n",
    "mut_escape_df = pd.DataFrame(\n",
    "    {\n",
    "        \"mutation\": [\"M1C\", \"M1C\", \"G2A\", \"G2A\", \"A4K\", \"A4K\", \"A4L\", \"A4L\"],\n",
    "        \"epitope\": [\"1\", \"2\", \"1\", \"2\", \"1\", \"2\", \"1\", \"2\"],\n",
    "        \"escape\": [2.0, 0.0, 3.0, 0.0, 0.0, 2.5, 0.0, 1.5],\n",
    "    }\n",
    ")\n",
    "\n",
    "polyclonal_sim = Polyclonal(activity_wt_df=activity_wt_df, mut_escape_df=mut_escape_df)\n",
    "\n",
    "variants_df = pd.DataFrame.from_records(\n",
    "    [\n",
    "        (\"AA\", \"\"),\n",
    "        (\"AC\", \"M1C\"),\n",
    "        (\"AG\", \"G2A\"),\n",
    "        (\"AT\", \"A4K\"),\n",
    "        (\"TA\", \"A4L\"),\n",
    "        (\"CA\", \"M1C G2A\"),\n",
    "        (\"CG\", \"M1C A4K\"),\n",
    "        (\"CC\", \"G2A A4K\"),\n",
    "        (\"TC\", \"G2A A4L\"),\n",
    "        (\"CT\", \"M1C G2A A4K\"),\n",
    "        (\"TG\", \"M1C G2A A4L\"),\n",
    "        (\"GA\", \"M1C\"),\n",
    "    ],\n",
    "    columns=[\"barcode\", \"aa_substitutions\"],\n",
    ")\n",
    "\n",
    "escape_probs = polyclonal_sim.prob_escape(\n",
    "    variants_df=variants_df, concentrations=[1.0, 2.0, 4.0]\n",
    ")\n",
    "\n",
    "data_to_fit = escape_probs.rename(columns={\"predicted_prob_escape\": \"prob_escape\"})\n",
    "\n",
    "polyclonal_data = Polyclonal(\n",
    "    data_to_fit=data_to_fit,\n",
    "    activity_wt_df=activity_wt_df,\n",
    "    site_escape_df=pd.DataFrame.from_records(\n",
    "        [(\"1\", 1, 1.0), (\"1\", 4, 0.0), (\"2\", 1, 0.0), (\"2\", 4, 2.0)],\n",
    "        columns=[\"epitope\", \"site\", \"escape\"],\n",
    "    ),\n",
    "    data_mut_escape_overlap=\"fill_to_data\",\n",
    ")\n",
    "\n",
    "# Now only use the first 30 elements to get rid of some mutations\n",
    "polyclonal_data2 = Polyclonal(\n",
    "    data_to_fit=data_to_fit.head(20),\n",
    "    activity_wt_df=activity_wt_df,\n",
    "    site_escape_df=pd.DataFrame.from_records(\n",
    "        [(\"1\", 1, 1.0), (\"1\", 4, 0.0), (\"2\", 1, 0.0), (\"2\", 4, 2.0)],\n",
    "        columns=[\"epitope\", \"site\", \"escape\"],\n",
    "    ),\n",
    "    data_mut_escape_overlap=\"fill_to_data\",\n",
    ")"
   ]
  },
  {
   "cell_type": "markdown",
   "id": "f550d59f-94a5-4868-a36d-ea5852dc9b99",
   "metadata": {},
   "source": [
    "## Test basic functionality of helper methods outside of class"
   ]
  },
  {
   "cell_type": "code",
   "execution_count": 3,
   "id": "a92c97a0-6447-4655-bdd6-49301f98f11b",
   "metadata": {
    "execution": {
     "iopub.execute_input": "2022-03-14T21:17:00.789831Z",
     "iopub.status.busy": "2022-03-14T21:17:00.789434Z",
     "iopub.status.idle": "2022-03-14T21:17:00.800457Z",
     "shell.execute_reply": "2022-03-14T21:17:00.799811Z",
     "shell.execute_reply.started": "2022-03-14T21:17:00.789797Z"
    }
   },
   "outputs": [],
   "source": [
    "boot_df = boot.create_bootstrap_sample(data_to_fit)\n",
    "\n",
    "# Make sure we got an appropriate number of samples\n",
    "assert len(boot_df) == len(data_to_fit)\n",
    "# Make sure we did sample with replacement\n",
    "assert not len(boot_df.drop_duplicates()) == len(data_to_fit)\n",
    "# Make sure we sampled the same number of variants at each concentration as the orignal dataset has\n",
    "assert boot_df.concentration.value_counts().equals(\n",
    "    data_to_fit.concentration.value_counts()\n",
    ")"
   ]
  },
  {
   "cell_type": "markdown",
   "id": "36684a04-2190-444d-94d2-7c3ce0296591",
   "metadata": {},
   "source": [
    "## Test initialization of `PolyclonalCollection` objects"
   ]
  },
  {
   "cell_type": "code",
   "execution_count": 4,
   "id": "04a1937a-9241-4f24-91c5-b5513e042002",
   "metadata": {
    "execution": {
     "iopub.execute_input": "2022-03-14T21:17:00.803382Z",
     "iopub.status.busy": "2022-03-14T21:17:00.803238Z",
     "iopub.status.idle": "2022-03-14T21:17:00.953498Z",
     "shell.execute_reply": "2022-03-14T21:17:00.952091Z",
     "shell.execute_reply.started": "2022-03-14T21:17:00.803362Z"
    },
    "tags": []
   },
   "outputs": [],
   "source": [
    "n_samps = 5\n",
    "n_threads = 4\n",
    "pc = PolyclonalCollection(\n",
    "    root_polyclonal=polyclonal_data,\n",
    "    n_bootstrap_samples=n_samps,\n",
    "    n_threads=n_threads,\n",
    "    seed=0,\n",
    ")\n",
    "\n",
    "# Make sure the desired number of models were created and stored\n",
    "assert len(pc.models) == n_samps\n",
    "# Make sure attributes are stored properly\n",
    "assert pc.n_bootstrap_samples == n_samps\n",
    "assert pc.n_threads == n_threads\n",
    "# Make sure we aren't copying the actual data from the original polyclonal model\n",
    "for i in range(n_samps):\n",
    "    assert not pc.root_polyclonal.data_to_fit.equals(pc.models[i].data_to_fit)"
   ]
  },
  {
   "cell_type": "markdown",
   "id": "b9742dbb-720e-437c-b1d9-ea9717514102",
   "metadata": {},
   "source": [
    "## Test random seeding"
   ]
  },
  {
   "cell_type": "code",
   "execution_count": 5,
   "id": "3ce1356d-9c5d-4b83-85d1-c2c2cdd0b8fb",
   "metadata": {
    "execution": {
     "iopub.execute_input": "2022-03-14T21:17:00.959302Z",
     "iopub.status.busy": "2022-03-14T21:17:00.958854Z",
     "iopub.status.idle": "2022-03-14T21:17:01.057716Z",
     "shell.execute_reply": "2022-03-14T21:17:01.056655Z",
     "shell.execute_reply.started": "2022-03-14T21:17:00.959236Z"
    },
    "tags": []
   },
   "outputs": [],
   "source": [
    "# Do two different seeds generate different objects?\n",
    "pc2 = PolyclonalCollection(\n",
    "    root_polyclonal=polyclonal_data,\n",
    "    n_bootstrap_samples=n_samps,\n",
    "    n_threads=n_threads,\n",
    "    seed=10,\n",
    ")"
   ]
  },
  {
   "cell_type": "code",
   "execution_count": 6,
   "id": "781ad89f-9e61-4708-81d8-91fc89f2ed25",
   "metadata": {
    "execution": {
     "iopub.execute_input": "2022-03-14T21:17:01.061969Z",
     "iopub.status.busy": "2022-03-14T21:17:01.061716Z",
     "iopub.status.idle": "2022-03-14T21:17:01.161710Z",
     "shell.execute_reply": "2022-03-14T21:17:01.160766Z",
     "shell.execute_reply.started": "2022-03-14T21:17:01.061938Z"
    }
   },
   "outputs": [],
   "source": [
    "# What if we use the same seed with multiple threads?\n",
    "pc_copy = PolyclonalCollection(\n",
    "    root_polyclonal=polyclonal_data,\n",
    "    n_bootstrap_samples=n_samps,\n",
    "    n_threads=n_threads,\n",
    "    seed=0,\n",
    ")\n",
    "assert pc.mut_bootstrap_freq_dict == pc_copy.mut_bootstrap_freq_dict"
   ]
  },
  {
   "cell_type": "markdown",
   "id": "3c12622f-ee54-428b-8e54-7550c0b5d75c",
   "metadata": {},
   "source": [
    "## Test `PolyclonalCollection` bootstrapping results"
   ]
  },
  {
   "cell_type": "code",
   "execution_count": 7,
   "id": "c6185dc5-6d1a-4975-92b2-5cd7fd6c6b58",
   "metadata": {
    "execution": {
     "iopub.execute_input": "2022-03-14T21:17:01.165856Z",
     "iopub.status.busy": "2022-03-14T21:17:01.165570Z",
     "iopub.status.idle": "2022-03-14T21:17:01.449365Z",
     "shell.execute_reply": "2022-03-14T21:17:01.448752Z",
     "shell.execute_reply.started": "2022-03-14T21:17:01.165820Z"
    }
   },
   "outputs": [],
   "source": [
    "# Test to ensure that parameters change during fitting.\n",
    "for model in pc.models:\n",
    "    old_params = model._params\n",
    "    boot._fit_polyclonal_model_static(model, fit_site_level_first=False)\n",
    "    # Did the params change?\n",
    "    assert not np.array_equal(model._params, old_params)"
   ]
  },
  {
   "cell_type": "code",
   "execution_count": 8,
   "id": "191a9185-f1d3-4271-8116-fd0a47b788ba",
   "metadata": {
    "execution": {
     "iopub.execute_input": "2022-03-14T21:17:01.452209Z",
     "iopub.status.busy": "2022-03-14T21:17:01.452022Z",
     "iopub.status.idle": "2022-03-14T21:17:02.003728Z",
     "shell.execute_reply": "2022-03-14T21:17:02.002837Z",
     "shell.execute_reply.started": "2022-03-14T21:17:01.452191Z"
    }
   },
   "outputs": [
    {
     "data": {
      "text/plain": [
       "(5, 0)"
      ]
     },
     "execution_count": 8,
     "metadata": {},
     "output_type": "execute_result"
    }
   ],
   "source": [
    "# Test `fit_models()` with kwargs -- shouldn't throw any errors\n",
    "pc_copy.fit_models(fit_site_level_first=False)"
   ]
  },
  {
   "cell_type": "markdown",
   "id": "67a3aefe-bb46-4853-9fd2-7cc9e8827260",
   "metadata": {},
   "source": [
    "### Test predictions across all models"
   ]
  },
  {
   "cell_type": "code",
   "execution_count": 9,
   "id": "7ec43240-d74a-49d8-97e4-1e45e45923df",
   "metadata": {
    "execution": {
     "iopub.execute_input": "2022-03-14T21:17:02.008006Z",
     "iopub.status.busy": "2022-03-14T21:17:02.007830Z",
     "iopub.status.idle": "2022-03-14T21:17:02.089798Z",
     "shell.execute_reply": "2022-03-14T21:17:02.088621Z",
     "shell.execute_reply.started": "2022-03-14T21:17:02.007981Z"
    }
   },
   "outputs": [],
   "source": [
    "# Create a list of prediction dataframes from bootstrapped models\n",
    "test_list = pc.make_predictions(variants_df=boot_df)\n",
    "\n",
    "# Make sure we got the same number of predictions for every model\n",
    "for result in test_list:\n",
    "    assert len(result) == len(boot_df)\n",
    "    assert not (result.shape[1]) == (boot_df.shape[1])"
   ]
  },
  {
   "cell_type": "code",
   "execution_count": 10,
   "id": "55c4be49-be98-425b-877f-8ae37153f8fd",
   "metadata": {
    "execution": {
     "iopub.execute_input": "2022-03-14T21:17:02.091971Z",
     "iopub.status.busy": "2022-03-14T21:17:02.091559Z",
     "iopub.status.idle": "2022-03-14T21:17:02.113689Z",
     "shell.execute_reply": "2022-03-14T21:17:02.113031Z",
     "shell.execute_reply.started": "2022-03-14T21:17:02.091934Z"
    }
   },
   "outputs": [],
   "source": [
    "# Aggregate the results\n",
    "agg_results = pc.summarize_bootstraped_predictions(test_list)\n",
    "assert len(test_list[0]) != len(agg_results)"
   ]
  },
  {
   "cell_type": "markdown",
   "id": "531e5a41-27a7-4f9c-8336-1eeb10348bfb",
   "metadata": {
    "tags": []
   },
   "source": [
    "## Test aggregation results"
   ]
  },
  {
   "cell_type": "markdown",
   "id": "a526063f-e8b3-43f1-8370-80f2a9e5390a",
   "metadata": {},
   "source": [
    "### Test summary validity"
   ]
  },
  {
   "cell_type": "code",
   "execution_count": 11,
   "id": "52fdcd43-655e-4fee-8de2-4996e3ba8307",
   "metadata": {
    "execution": {
     "iopub.execute_input": "2022-03-14T21:17:02.114762Z",
     "iopub.status.busy": "2022-03-14T21:17:02.114606Z",
     "iopub.status.idle": "2022-03-14T21:17:02.164278Z",
     "shell.execute_reply": "2022-03-14T21:17:02.163164Z",
     "shell.execute_reply.started": "2022-03-14T21:17:02.114743Z"
    }
   },
   "outputs": [],
   "source": [
    "summary_mut_escape_dict, summary_activity_wt_dict = pc.summarize_bootstrapped_params()\n",
    "stat_colnames = set([\"mean\", \"median\", \"std\"])\n",
    "\n",
    "# Basic tests to make sure summary stats are being recorded.\n",
    "assert stat_colnames.issubset(summary_mut_escape_dict.keys())\n",
    "assert stat_colnames.issubset(summary_activity_wt_dict.keys())\n",
    "assert (\n",
    "    len(summary_mut_escape_dict[\"mean\"])\n",
    "    == len(summary_mut_escape_dict[\"median\"])\n",
    "    == len(summary_mut_escape_dict[\"std\"])\n",
    ")\n",
    "assert (\n",
    "    len(summary_activity_wt_dict[\"mean\"])\n",
    "    == len(summary_activity_wt_dict[\"median\"])\n",
    "    == len(summary_activity_wt_dict[\"std\"])\n",
    ")"
   ]
  },
  {
   "cell_type": "code",
   "execution_count": 12,
   "id": "7d7aa1b9-8d47-4c27-bb9d-f72c109580e6",
   "metadata": {
    "execution": {
     "iopub.execute_input": "2022-03-14T21:17:02.166129Z",
     "iopub.status.busy": "2022-03-14T21:17:02.165669Z",
     "iopub.status.idle": "2022-03-14T21:17:02.172992Z",
     "shell.execute_reply": "2022-03-14T21:17:02.172282Z",
     "shell.execute_reply.started": "2022-03-14T21:17:02.166083Z"
    }
   },
   "outputs": [],
   "source": [
    "# Ensure center summary stats are still probabilities\n",
    "assert agg_results.mean_predicted_prob_escape.between(0, 1).all()\n",
    "assert agg_results.median_predicted_prob_escape.between(0, 1).all()"
   ]
  },
  {
   "cell_type": "code",
   "execution_count": 13,
   "id": "b1b41bb6-7443-42ba-9e6e-dd701a2f1349",
   "metadata": {
    "execution": {
     "iopub.execute_input": "2022-03-14T21:17:02.174129Z",
     "iopub.status.busy": "2022-03-14T21:17:02.173871Z",
     "iopub.status.idle": "2022-03-14T21:17:02.265145Z",
     "shell.execute_reply": "2022-03-14T21:17:02.264151Z",
     "shell.execute_reply.started": "2022-03-14T21:17:02.174108Z"
    }
   },
   "outputs": [],
   "source": [
    "test_list_copy = pc_copy.make_predictions(variants_df=boot_df)\n",
    "agg_results_copy = pc_copy.summarize_bootstraped_predictions(test_list_copy)\n",
    "assert agg_results.equals(agg_results_copy)"
   ]
  },
  {
   "cell_type": "code",
   "execution_count": 14,
   "id": "99084510-3800-4e82-bd3a-862bc7d483cb",
   "metadata": {
    "execution": {
     "iopub.execute_input": "2022-03-14T21:17:02.266763Z",
     "iopub.status.busy": "2022-03-14T21:17:02.266378Z",
     "iopub.status.idle": "2022-03-14T21:17:02.309670Z",
     "shell.execute_reply": "2022-03-14T21:17:02.309039Z",
     "shell.execute_reply.started": "2022-03-14T21:17:02.266735Z"
    }
   },
   "outputs": [],
   "source": [
    "(\n",
    "    summary_mut_escape_dict_copy,\n",
    "    summary_activity_wt_dict_copy,\n",
    ") = pc_copy.summarize_bootstrapped_params()\n",
    "assert summary_mut_escape_dict[\"mean\"].equals(summary_mut_escape_dict_copy[\"mean\"])"
   ]
  },
  {
   "cell_type": "code",
   "execution_count": 15,
   "id": "8862a4d5-5e9b-4f09-be89-de5702805e18",
   "metadata": {
    "execution": {
     "iopub.execute_input": "2022-03-14T21:17:02.310873Z",
     "iopub.status.busy": "2022-03-14T21:17:02.310559Z",
     "iopub.status.idle": "2022-03-14T21:17:02.909195Z",
     "shell.execute_reply": "2022-03-14T21:17:02.908548Z",
     "shell.execute_reply.started": "2022-03-14T21:17:02.310850Z"
    }
   },
   "outputs": [
    {
     "data": {
      "text/plain": [
       "(5, 0)"
      ]
     },
     "execution_count": 15,
     "metadata": {},
     "output_type": "execute_result"
    }
   ],
   "source": [
    "# Test that different seeds result in differnt results\n",
    "pc2.fit_models(fit_site_level_first=False)"
   ]
  },
  {
   "cell_type": "code",
   "execution_count": 16,
   "id": "7d9b5395-f683-415c-9661-31afc3c7b6b8",
   "metadata": {
    "execution": {
     "iopub.execute_input": "2022-03-14T21:17:02.910586Z",
     "iopub.status.busy": "2022-03-14T21:17:02.910218Z",
     "iopub.status.idle": "2022-03-14T21:17:03.031432Z",
     "shell.execute_reply": "2022-03-14T21:17:03.030617Z",
     "shell.execute_reply.started": "2022-03-14T21:17:02.910558Z"
    }
   },
   "outputs": [],
   "source": [
    "test_list_2 = pc2.make_predictions(variants_df=boot_df)\n",
    "agg_results_2 = pc2.summarize_bootstraped_predictions(test_list_2)\n",
    "(\n",
    "    summary_mut_escape_dict_2,\n",
    "    summary_activity_wt_dict_2,\n",
    ") = pc2.summarize_bootstrapped_params()"
   ]
  },
  {
   "cell_type": "code",
   "execution_count": 17,
   "id": "8d98905e-fc1a-4f8c-8119-218a971ad293",
   "metadata": {
    "execution": {
     "iopub.execute_input": "2022-03-14T21:17:03.033007Z",
     "iopub.status.busy": "2022-03-14T21:17:03.032680Z",
     "iopub.status.idle": "2022-03-14T21:17:03.037342Z",
     "shell.execute_reply": "2022-03-14T21:17:03.036718Z",
     "shell.execute_reply.started": "2022-03-14T21:17:03.032982Z"
    },
    "tags": []
   },
   "outputs": [],
   "source": [
    "assert not agg_results_2.equals(agg_results)\n",
    "assert not summary_mut_escape_dict[\"mean\"].equals(summary_mut_escape_dict_2[\"mean\"])"
   ]
  }
 ],
 "metadata": {
  "kernelspec": {
   "display_name": "Python 3 (ipykernel)",
   "language": "python",
   "name": "python3"
  },
  "language_info": {
   "codemirror_mode": {
    "name": "ipython",
    "version": 3
   },
   "file_extension": ".py",
   "mimetype": "text/x-python",
   "name": "python",
   "nbconvert_exporter": "python",
   "pygments_lexer": "ipython3",
   "version": "3.8.12"
  }
 },
 "nbformat": 4,
 "nbformat_minor": 5
}
