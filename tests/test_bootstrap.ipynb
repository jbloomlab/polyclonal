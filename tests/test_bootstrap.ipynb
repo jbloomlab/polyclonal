{
 "cells": [
  {
   "cell_type": "markdown",
   "id": "1aa90605-cff5-49e8-bd63-106e9efc69fc",
   "metadata": {},
   "source": [
    "# Getting started with `polyclonal` bootstrapping"
   ]
  },
  {
   "cell_type": "markdown",
   "id": "bd93cfd2-6d65-4d08-8bef-2dfe736f6631",
   "metadata": {},
   "source": [
    "## Imports and setup"
   ]
  },
  {
   "cell_type": "code",
   "execution_count": 1,
   "id": "7f2bd96d-b693-4a82-856c-edf6a85ec89a",
   "metadata": {
    "execution": {
     "iopub.execute_input": "2023-02-25T23:24:17.918701Z",
     "iopub.status.busy": "2023-02-25T23:24:17.918471Z",
     "iopub.status.idle": "2023-02-25T23:24:20.054315Z",
     "shell.execute_reply": "2023-02-25T23:24:20.053442Z",
     "shell.execute_reply.started": "2023-02-25T23:24:17.918677Z"
    },
    "tags": []
   },
   "outputs": [],
   "source": [
    "import pandas as pd\n",
    "from polyclonal import Polyclonal, PolyclonalBootstrap\n",
    "import polyclonal.polyclonal_collection\n",
    "import polyclonal.plot\n",
    "import numpy as np"
   ]
  },
  {
   "cell_type": "markdown",
   "id": "71fbc11a-6d03-400e-84fb-48af861c2ca9",
   "metadata": {},
   "source": [
    "Below contains some simulated data from Jesse\n",
    "* One simulation where we have the same variants for each conecntration\n",
    "* One simulation where we do not have the same variants for each concentration\n",
    "* These two situations hare handeled differently in `polyclonal` objects"
   ]
  },
  {
   "cell_type": "code",
   "execution_count": 2,
   "id": "a212ce8e-b374-4cbb-9bd1-e6543972b4e6",
   "metadata": {
    "execution": {
     "iopub.execute_input": "2023-02-25T23:24:20.057931Z",
     "iopub.status.busy": "2023-02-25T23:24:20.057654Z",
     "iopub.status.idle": "2023-02-25T23:24:20.539747Z",
     "shell.execute_reply": "2023-02-25T23:24:20.538989Z",
     "shell.execute_reply.started": "2023-02-25T23:24:20.057911Z"
    },
    "tags": []
   },
   "outputs": [],
   "source": [
    "activity_wt_df = pd.DataFrame({\"epitope\": [\"1\", \"2\"], \"activity\": [2.0, 1.0]})\n",
    "\n",
    "mut_escape_df = pd.DataFrame(\n",
    "    {\n",
    "        \"mutation\": [\"M1C\", \"M1C\", \"G2A\", \"G2A\", \"A4K\", \"A4K\", \"A4L\", \"A4L\"],\n",
    "        \"epitope\": [\"1\", \"2\", \"1\", \"2\", \"1\", \"2\", \"1\", \"2\"],\n",
    "        \"escape\": [2.0, 0.0, 3.0, 0.0, 0.0, 2.5, 0.0, 1.5],\n",
    "    }\n",
    ")\n",
    "\n",
    "polyclonal_sim = Polyclonal(activity_wt_df=activity_wt_df, mut_escape_df=mut_escape_df)\n",
    "\n",
    "variants_df = pd.DataFrame.from_records(\n",
    "    [\n",
    "        (\"AA\", \"\"),\n",
    "        (\"AC\", \"M1C\"),\n",
    "        (\"AG\", \"G2A\"),\n",
    "        (\"AT\", \"A4K\"),\n",
    "        (\"TA\", \"A4L\"),\n",
    "        (\"CA\", \"M1C G2A\"),\n",
    "        (\"CG\", \"M1C A4K\"),\n",
    "        (\"CC\", \"G2A A4K\"),\n",
    "        (\"TC\", \"G2A A4L\"),\n",
    "        (\"CT\", \"M1C G2A A4K\"),\n",
    "        (\"TG\", \"M1C G2A A4L\"),\n",
    "        (\"GA\", \"M1C\"),\n",
    "    ],\n",
    "    columns=[\"barcode\", \"aa_substitutions\"],\n",
    ")\n",
    "\n",
    "escape_probs = polyclonal_sim.prob_escape(\n",
    "    variants_df=variants_df, concentrations=[1.0, 2.0, 4.0]\n",
    ")\n",
    "\n",
    "data_to_fit = escape_probs.rename(columns={\"predicted_prob_escape\": \"prob_escape\"})\n",
    "\n",
    "polyclonal_data = Polyclonal(\n",
    "    data_to_fit=data_to_fit,\n",
    "    activity_wt_df=activity_wt_df,\n",
    "    site_escape_df=pd.DataFrame.from_records(\n",
    "        [(\"1\", 1, 1.0), (\"1\", 4, 0.0), (\"2\", 1, 0.0), (\"2\", 4, 2.0)],\n",
    "        columns=[\"epitope\", \"site\", \"escape\"],\n",
    "    ),\n",
    "    data_mut_escape_overlap=\"fill_to_data\",\n",
    ")\n",
    "polyclonal_data.fit(reg_uniqueness2_weight=0, reg_escape_weight=0.01)\n",
    "# Now only use the first 30 elements to get rid of some mutations\n",
    "polyclonal_data2 = Polyclonal(\n",
    "    data_to_fit=data_to_fit.head(20),\n",
    "    activity_wt_df=activity_wt_df,\n",
    "    site_escape_df=pd.DataFrame.from_records(\n",
    "        [(\"1\", 1, 1.0), (\"1\", 4, 0.0), (\"2\", 1, 0.0), (\"2\", 4, 2.0)],\n",
    "        columns=[\"epitope\", \"site\", \"escape\"],\n",
    "    ),\n",
    "    data_mut_escape_overlap=\"fill_to_data\",\n",
    ")"
   ]
  },
  {
   "cell_type": "markdown",
   "id": "f550d59f-94a5-4868-a36d-ea5852dc9b99",
   "metadata": {},
   "source": [
    "## Test basic functionality of helper methods outside of class"
   ]
  },
  {
   "cell_type": "code",
   "execution_count": 3,
   "id": "a92c97a0-6447-4655-bdd6-49301f98f11b",
   "metadata": {
    "execution": {
     "iopub.execute_input": "2023-02-25T23:24:20.543075Z",
     "iopub.status.busy": "2023-02-25T23:24:20.542808Z",
     "iopub.status.idle": "2023-02-25T23:24:20.561496Z",
     "shell.execute_reply": "2023-02-25T23:24:20.560708Z",
     "shell.execute_reply.started": "2023-02-25T23:24:20.543055Z"
    },
    "tags": []
   },
   "outputs": [],
   "source": [
    "boot_df = polyclonal.polyclonal_collection.create_bootstrap_sample(data_to_fit)\n",
    "\n",
    "# Make sure we got an appropriate number of samples\n",
    "assert len(boot_df) == len(data_to_fit)\n",
    "# Make sure we did sample with replacement\n",
    "assert not len(boot_df.drop_duplicates()) == len(data_to_fit)\n",
    "# Make sure we sampled the same number of variants at each concentration as the orignal dataset has\n",
    "assert boot_df.concentration.value_counts().equals(\n",
    "    data_to_fit.concentration.value_counts()\n",
    ")"
   ]
  },
  {
   "cell_type": "markdown",
   "id": "36684a04-2190-444d-94d2-7c3ce0296591",
   "metadata": {},
   "source": [
    "## Test initialization of `PolyclonalBootstrap` objects"
   ]
  },
  {
   "cell_type": "code",
   "execution_count": 4,
   "id": "04a1937a-9241-4f24-91c5-b5513e042002",
   "metadata": {
    "execution": {
     "iopub.execute_input": "2023-02-25T23:24:20.566207Z",
     "iopub.status.busy": "2023-02-25T23:24:20.566012Z",
     "iopub.status.idle": "2023-02-25T23:24:20.749703Z",
     "shell.execute_reply": "2023-02-25T23:24:20.748125Z",
     "shell.execute_reply.started": "2023-02-25T23:24:20.566188Z"
    },
    "tags": []
   },
   "outputs": [],
   "source": [
    "n_samps = 5\n",
    "n_threads = 4\n",
    "pc = PolyclonalBootstrap(\n",
    "    root_polyclonal=polyclonal_data,\n",
    "    n_bootstrap_samples=n_samps,\n",
    "    n_threads=n_threads,\n",
    "    seed=0,\n",
    ")\n",
    "\n",
    "# Make sure the desired number of models were created and stored\n",
    "assert len(pc.models) == n_samps\n",
    "# Make sure attributes are stored properly\n",
    "assert pc.n_threads == n_threads\n",
    "# Make sure we aren't copying the actual data from the original polyclonal model\n",
    "for i in range(n_samps):\n",
    "    assert not pc.root_polyclonal.data_to_fit.equals(pc.models[i].data_to_fit)"
   ]
  },
  {
   "cell_type": "markdown",
   "id": "b9742dbb-720e-437c-b1d9-ea9717514102",
   "metadata": {},
   "source": [
    "## Test random seeding"
   ]
  },
  {
   "cell_type": "code",
   "execution_count": 5,
   "id": "3ce1356d-9c5d-4b83-85d1-c2c2cdd0b8fb",
   "metadata": {
    "execution": {
     "iopub.execute_input": "2023-02-25T23:24:20.754367Z",
     "iopub.status.busy": "2023-02-25T23:24:20.754060Z",
     "iopub.status.idle": "2023-02-25T23:24:20.890125Z",
     "shell.execute_reply": "2023-02-25T23:24:20.888957Z",
     "shell.execute_reply.started": "2023-02-25T23:24:20.754337Z"
    },
    "tags": []
   },
   "outputs": [],
   "source": [
    "# Do two different seeds generate different objects?\n",
    "pc2 = PolyclonalBootstrap(\n",
    "    root_polyclonal=polyclonal_data,\n",
    "    n_bootstrap_samples=n_samps,\n",
    "    n_threads=n_threads,\n",
    "    seed=10,\n",
    ")"
   ]
  },
  {
   "cell_type": "code",
   "execution_count": 6,
   "id": "781ad89f-9e61-4708-81d8-91fc89f2ed25",
   "metadata": {
    "execution": {
     "iopub.execute_input": "2023-02-25T23:24:20.894758Z",
     "iopub.status.busy": "2023-02-25T23:24:20.894408Z",
     "iopub.status.idle": "2023-02-25T23:24:21.032313Z",
     "shell.execute_reply": "2023-02-25T23:24:21.030531Z",
     "shell.execute_reply.started": "2023-02-25T23:24:20.894726Z"
    },
    "tags": []
   },
   "outputs": [],
   "source": [
    "# What if we use the same seed with multiple threads?\n",
    "pc_copy = PolyclonalBootstrap(\n",
    "    root_polyclonal=polyclonal_data,\n",
    "    n_bootstrap_samples=n_samps,\n",
    "    n_threads=n_threads,\n",
    "    seed=0,\n",
    ")"
   ]
  },
  {
   "cell_type": "markdown",
   "id": "3c12622f-ee54-428b-8e54-7550c0b5d75c",
   "metadata": {},
   "source": [
    "## Test `PolyclonalCollection` bootstrapping results"
   ]
  },
  {
   "cell_type": "code",
   "execution_count": 7,
   "id": "c6185dc5-6d1a-4975-92b2-5cd7fd6c6b58",
   "metadata": {
    "execution": {
     "iopub.execute_input": "2023-02-25T23:24:21.037402Z",
     "iopub.status.busy": "2023-02-25T23:24:21.037122Z",
     "iopub.status.idle": "2023-02-25T23:24:21.930072Z",
     "shell.execute_reply": "2023-02-25T23:24:21.928235Z",
     "shell.execute_reply.started": "2023-02-25T23:24:21.037370Z"
    },
    "tags": []
   },
   "outputs": [],
   "source": [
    "n_fit, n_failed, _ = polyclonal.polyclonal_collection.fit_models(pc.models, n_threads=2)\n",
    "assert n_fit == 5 and n_failed == 0"
   ]
  },
  {
   "cell_type": "code",
   "execution_count": 8,
   "id": "191a9185-f1d3-4271-8116-fd0a47b788ba",
   "metadata": {
    "execution": {
     "iopub.execute_input": "2023-02-25T23:24:21.935505Z",
     "iopub.status.busy": "2023-02-25T23:24:21.935083Z",
     "iopub.status.idle": "2023-02-25T23:24:22.451436Z",
     "shell.execute_reply": "2023-02-25T23:24:22.450272Z",
     "shell.execute_reply.started": "2023-02-25T23:24:21.935462Z"
    },
    "tags": []
   },
   "outputs": [
    {
     "data": {
      "text/plain": [
       "(5, 0)"
      ]
     },
     "execution_count": 8,
     "metadata": {},
     "output_type": "execute_result"
    }
   ],
   "source": [
    "# Test `fit_models()` with kwargs -- shouldn't throw any errors\n",
    "pc_copy.fit_models(fix_hill_coefficient=True, fix_non_neutralized_frac=True)"
   ]
  },
  {
   "cell_type": "markdown",
   "id": "67a3aefe-bb46-4853-9fd2-7cc9e8827260",
   "metadata": {},
   "source": [
    "### Test neutralization concentration values (ICXX) and predictions for probability of escape across all models"
   ]
  },
  {
   "cell_type": "code",
   "execution_count": 9,
   "id": "1b73d334-a4f0-4dc6-b636-6c179930dd74",
   "metadata": {
    "execution": {
     "iopub.execute_input": "2023-02-25T23:24:22.456427Z",
     "iopub.status.busy": "2023-02-25T23:24:22.456105Z",
     "iopub.status.idle": "2023-02-25T23:24:22.555034Z",
     "shell.execute_reply": "2023-02-25T23:24:22.554257Z",
     "shell.execute_reply.started": "2023-02-25T23:24:22.456400Z"
    },
    "tags": []
   },
   "outputs": [],
   "source": [
    "n_predictions_expected = len(boot_df) * len([x for x in pc.models if x is not None])\n",
    "ic90_df = pc.icXX(boot_df, x=0.9, col=\"IC90\")\n",
    "ic90_replicates_df = pc.icXX_replicates(boot_df, x=0.9)\n",
    "assert len(ic90_replicates_df) == n_predictions_expected\n",
    "assert len(ic90_df) == len(boot_df.drop_duplicates())"
   ]
  },
  {
   "cell_type": "code",
   "execution_count": 10,
   "id": "5728896f-1b6d-4c01-85b1-59eff469e05e",
   "metadata": {
    "execution": {
     "iopub.execute_input": "2023-02-25T23:24:22.556231Z",
     "iopub.status.busy": "2023-02-25T23:24:22.555920Z",
     "iopub.status.idle": "2023-02-25T23:24:22.634731Z",
     "shell.execute_reply": "2023-02-25T23:24:22.633968Z",
     "shell.execute_reply.started": "2023-02-25T23:24:22.556213Z"
    },
    "tags": []
   },
   "outputs": [],
   "source": [
    "preds_df = pc.prob_escape(boot_df).sort_values([\"aa_substitutions\", \"concentration\"])\n",
    "preds_replicates_df = pc.prob_escape_replicates(boot_df)\n",
    "assert len(preds_replicates_df) == n_predictions_expected\n",
    "assert len(preds_df) == len(boot_df.drop_duplicates())"
   ]
  }
 ],
 "metadata": {
  "kernelspec": {
   "display_name": "Python 3 (ipykernel)",
   "language": "python",
   "name": "python3"
  },
  "language_info": {
   "codemirror_mode": {
    "name": "ipython",
    "version": 3
   },
   "file_extension": ".py",
   "mimetype": "text/x-python",
   "name": "python",
   "nbconvert_exporter": "python",
   "pygments_lexer": "ipython3",
   "version": "3.11.0"
  }
 },
 "nbformat": 4,
 "nbformat_minor": 5
}
