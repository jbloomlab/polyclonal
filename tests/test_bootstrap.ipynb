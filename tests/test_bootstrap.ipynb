{
 "cells": [
  {
   "cell_type": "markdown",
   "id": "1aa90605-cff5-49e8-bd63-106e9efc69fc",
   "metadata": {},
   "source": [
    "# Notebook for getting started with `polyclonal` bootstrapping"
   ]
  },
  {
   "cell_type": "code",
   "execution_count": 1,
   "id": "7f2bd96d-b693-4a82-856c-edf6a85ec89a",
   "metadata": {},
   "outputs": [],
   "source": [
    "import pandas as pd\n",
    "from polyclonal import Polyclonal, PolyclonalCollection\n",
    "import polyclonal.bootstrap as boot\n",
    "import numpy as np"
   ]
  },
  {
   "cell_type": "markdown",
   "id": "71fbc11a-6d03-400e-84fb-48af861c2ca9",
   "metadata": {},
   "source": [
    "Below contains some simulated data from Jesse\n",
    "* One simulation where we have the same variants for each conecntration\n",
    "* One simulation where we do not have the same variants for each concentration\n",
    "* These two situations hare handeled differently in `polyclonal` objects"
   ]
  },
  {
   "cell_type": "code",
   "execution_count": 2,
   "id": "a212ce8e-b374-4cbb-9bd1-e6543972b4e6",
   "metadata": {},
   "outputs": [],
   "source": [
    "activity_wt_df = pd.DataFrame({'epitope':  ['e1', 'e2'],\n",
    "                               'activity': [ 2.0,  1.0]})\n",
    "\n",
    "mut_escape_df = pd.DataFrame({\n",
    "       'mutation': ['M1C', 'M1C', 'G2A', 'G2A', 'A4K', 'A4K', 'A4L', 'A4L'],\n",
    "       'epitope':  [ 'e1',  'e2',  'e1',  'e2',  'e1',  'e2',  'e1',  'e2'],\n",
    "       'escape':   [  2.0,   0.0,   3.0,   0.0,  0.0,    2.5,   0.0,   1.5],\n",
    "       })\n",
    "\n",
    "polyclonal_sim = Polyclonal(activity_wt_df=activity_wt_df,\n",
    "                            mut_escape_df=mut_escape_df)\n",
    "\n",
    "variants_df = pd.DataFrame.from_records(\n",
    "         [('AA', ''),\n",
    "          ('AC', 'M1C'),\n",
    "          ('AG', 'G2A'),\n",
    "          ('AT', 'A4K'),\n",
    "          ('TA', 'A4L'),\n",
    "          ('CA', 'M1C G2A'),\n",
    "          ('CG', 'M1C A4K'),\n",
    "          ('CC', 'G2A A4K'),\n",
    "          ('TC', 'G2A A4L'),\n",
    "          ('CT', 'M1C G2A A4K'),\n",
    "          ('TG', 'M1C G2A A4L'),\n",
    "          ('GA', 'M1C'),\n",
    "          ],\n",
    "         columns=['barcode', 'aa_substitutions'])\n",
    "\n",
    "escape_probs = polyclonal_sim.prob_escape(variants_df=variants_df,\n",
    "                                          concentrations=[1.0, 2.0, 4.0])\n",
    "\n",
    "data_to_fit = (\n",
    "         escape_probs\n",
    "         .rename(columns={'predicted_prob_escape': 'prob_escape'})\n",
    "         )\n",
    "\n",
    "polyclonal_data = Polyclonal(data_to_fit=data_to_fit,\n",
    "                             activity_wt_df=activity_wt_df,\n",
    "                             site_escape_df=pd.DataFrame.from_records(\n",
    "                                    [('e1', 1, 1.0), ('e1', 4, 0.0),\n",
    "                                     ('e2', 1, 0.0), ('e2', 4, 2.0)],\n",
    "                                    columns=['epitope', 'site', 'escape']),\n",
    "                             data_mut_escape_overlap='fill_to_data',\n",
    "                             )\n",
    "\n",
    "# Now only use the first 30 elements to get rid of some mutations \n",
    "polyclonal_data2 = Polyclonal(data_to_fit=data_to_fit.head(30),\n",
    "                             activity_wt_df=activity_wt_df,\n",
    "                             site_escape_df=pd.DataFrame.from_records(\n",
    "                                    [('e1', 1, 1.0), ('e1', 4, 0.0),\n",
    "                                     ('e2', 1, 0.0), ('e2', 4, 2.0)],\n",
    "                                    columns=['epitope', 'site', 'escape']),\n",
    "                             data_mut_escape_overlap='fill_to_data',\n",
    "                             )"
   ]
  },
  {
   "cell_type": "markdown",
   "id": "f550d59f-94a5-4868-a36d-ea5852dc9b99",
   "metadata": {},
   "source": [
    "#### Test basic functionality of helper methods outside of class"
   ]
  },
  {
   "cell_type": "code",
   "execution_count": 3,
   "id": "a92c97a0-6447-4655-bdd6-49301f98f11b",
   "metadata": {},
   "outputs": [],
   "source": [
    "boot_df = boot.create_bootstrap_sample(data_to_fit)\n",
    "\n",
    "# Make sure we got an appropriate number of samples\n",
    "assert len(boot_df) == len(data_to_fit)\n",
    "# Make sure we did sample with replacement\n",
    "assert not len(boot_df.drop_duplicates()) == len(data_to_fit)\n",
    "# Make sure we sampled the same number of variants at each concentration as the orignal dataset has\n",
    "assert boot_df.concentration.value_counts().equals(data_to_fit.concentration.value_counts())"
   ]
  },
  {
   "cell_type": "markdown",
   "id": "36684a04-2190-444d-94d2-7c3ce0296591",
   "metadata": {},
   "source": [
    "#### Test initialization of `PolyclonalCollection` objects"
   ]
  },
  {
   "cell_type": "code",
   "execution_count": 4,
   "id": "04a1937a-9241-4f24-91c5-b5513e042002",
   "metadata": {},
   "outputs": [],
   "source": [
    "n_samps = 3\n",
    "pc = PolyclonalCollection(root_polyclonal=polyclonal_data, n_samples=n_samps)\n",
    "\n",
    "# Make sure the desired number of models were created and stored\n",
    "assert len(pc.models) == n_samps\n",
    "# Make sure attributes are stored properly\n",
    "assert pc.n_samples == n_samps\n",
    "# Make sure we aren't copying the actual data from the original polyclonal model\n",
    "for i in range(n_samps):\n",
    "    assert not pc.root_polyclonal.data_to_fit.equals(pc.models[i].data_to_fit)"
   ]
  },
  {
   "cell_type": "markdown",
   "id": "3c12622f-ee54-428b-8e54-7550c0b5d75c",
   "metadata": {},
   "source": [
    "#### Test `PolyclonalCollection` results"
   ]
  },
  {
   "cell_type": "code",
   "execution_count": 5,
   "id": "c6185dc5-6d1a-4975-92b2-5cd7fd6c6b58",
   "metadata": {},
   "outputs": [
    {
     "name": "stdout",
     "output_type": "stream",
     "text": [
      "# Optimization FAILED at Tue Jan 11 14:24:57 2022.\n",
      "# Optimization FAILED at Tue Jan 11 14:24:58 2022.\n"
     ]
    }
   ],
   "source": [
    "# Test to ensure that parameters change during fitting.\n",
    "for model in pc.models:\n",
    "    old_params = model._params\n",
    "    boot._fit_polyclonal_model(model)\n",
    "    # Did the params change?\n",
    "    assert not np.array_equal(model._params, old_params)"
   ]
  },
  {
   "cell_type": "code",
   "execution_count": 6,
   "id": "7ec43240-d74a-49d8-97e4-1e45e45923df",
   "metadata": {},
   "outputs": [],
   "source": [
    "test_list = pc.make_predictions(variants_df=boot_df)\n",
    "# This funciton seems to work at generating a proper list of dataframes \n",
    "# TODO: However, we need to do something about failed optimizations -- should we discard models that fail?\n",
    "# Make sure we get the same number of predictions for every model\n",
    "for result in test_list:\n",
    "    assert len(result) == len(boot_df)\n",
    "    assert not (result.shape[1]) == (boot_df.shape[1])"
   ]
  }
 ],
 "metadata": {
  "kernelspec": {
   "display_name": "Python 3 (ipykernel)",
   "language": "python",
   "name": "python3"
  },
  "language_info": {
   "codemirror_mode": {
    "name": "ipython",
    "version": 3
   },
   "file_extension": ".py",
   "mimetype": "text/x-python",
   "name": "python",
   "nbconvert_exporter": "python",
   "pygments_lexer": "ipython3",
   "version": "3.8.12"
  }
 },
 "nbformat": 4,
 "nbformat_minor": 5
}
