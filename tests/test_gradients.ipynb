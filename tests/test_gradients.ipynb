{
 "cells": [
  {
   "cell_type": "markdown",
   "id": "8213ebaa-024e-4139-aea1-1c1f42f82390",
   "metadata": {},
   "source": [
    "# Test analytical gradients\n",
    "\n",
    "Set up a toy example, with two different `Polyclonal` objects:\n",
    " - one with same variants for each concentration\n",
    " - one with different variants for each concentration\n",
    "We do both because handled slightly differently internally in `Polyclonal`."
   ]
  },
  {
   "cell_type": "code",
   "execution_count": 1,
   "id": "4cee1ee4-1629-4310-9f65-42e54504f755",
   "metadata": {
    "execution": {
     "iopub.execute_input": "2021-11-17T20:44:22.749506Z",
     "iopub.status.busy": "2021-11-17T20:44:22.749196Z",
     "iopub.status.idle": "2021-11-17T20:44:24.139553Z",
     "shell.execute_reply": "2021-11-17T20:44:24.138923Z",
     "shell.execute_reply.started": "2021-11-17T20:44:22.749442Z"
    },
    "tags": []
   },
   "outputs": [],
   "source": [
    "import numpy\n",
    "\n",
    "import pandas as pd\n",
    "\n",
    "from polyclonal import Polyclonal\n",
    "\n",
    "activity_wt_df = pd.DataFrame({\"epitope\": [\"e1\", \"e2\"], \"activity\": [2.0, 1.0]})\n",
    "\n",
    "mut_escape_df = pd.DataFrame(\n",
    "    {\n",
    "        \"mutation\": [\"M1C\", \"M1C\", \"G2A\", \"G2A\", \"A4K\", \"A4K\", \"A4L\", \"A4L\"],\n",
    "        \"epitope\": [\"e1\", \"e2\", \"e1\", \"e2\", \"e1\", \"e2\", \"e1\", \"e2\"],\n",
    "        \"escape\": [2.0, 0.0, 3.0, 0.0, 0.0, 2.5, 0.0, 1.5],\n",
    "    }\n",
    ")\n",
    "\n",
    "polyclonal_sim = Polyclonal(activity_wt_df=activity_wt_df, mut_escape_df=mut_escape_df)\n",
    "\n",
    "variants_df = pd.DataFrame.from_records(\n",
    "    [\n",
    "        (\"AA\", \"\"),\n",
    "        (\"AC\", \"M1C\"),\n",
    "        (\"AG\", \"G2A\"),\n",
    "        (\"AT\", \"A4K\"),\n",
    "        (\"TA\", \"A4L\"),\n",
    "        (\"CA\", \"M1C G2A\"),\n",
    "        (\"CG\", \"M1C A4K\"),\n",
    "        (\"CC\", \"G2A A4K\"),\n",
    "        (\"TC\", \"G2A A4L\"),\n",
    "        (\"CT\", \"M1C G2A A4K\"),\n",
    "        (\"TG\", \"M1C G2A A4L\"),\n",
    "        (\"GA\", \"M1C\"),\n",
    "    ],\n",
    "    columns=[\"barcode\", \"aa_substitutions\"],\n",
    ")\n",
    "\n",
    "escape_probs = polyclonal_sim.prob_escape(\n",
    "    variants_df=variants_df, concentrations=[1.0, 2.0, 4.0]\n",
    ")\n",
    "\n",
    "data_to_fit = escape_probs.rename(columns={\"predicted_prob_escape\": \"prob_escape\"})\n",
    "\n",
    "polyclonal_data = Polyclonal(\n",
    "    data_to_fit=data_to_fit,\n",
    "    activity_wt_df=activity_wt_df,\n",
    "    site_escape_df=pd.DataFrame.from_records(\n",
    "        [(\"e1\", 1, 1.0), (\"e1\", 4, 0.0), (\"e2\", 1, 0.0), (\"e2\", 4, 2.0)],\n",
    "        columns=[\"epitope\", \"site\", \"escape\"],\n",
    "    ),\n",
    "    data_mut_escape_overlap=\"fill_to_data\",\n",
    ")\n",
    "\n",
    "# second model doesn't have the same mutations for all concentrations\n",
    "polyclonal_data2 = Polyclonal(\n",
    "    data_to_fit=data_to_fit.head(30),\n",
    "    activity_wt_df=activity_wt_df,\n",
    "    site_escape_df=pd.DataFrame.from_records(\n",
    "        [(\"e1\", 1, 1.0), (\"e1\", 4, 0.0), (\"e2\", 1, 0.0), (\"e2\", 4, 2.0)],\n",
    "        columns=[\"epitope\", \"site\", \"escape\"],\n",
    "    ),\n",
    "    data_mut_escape_overlap=\"fill_to_data\",\n",
    ")"
   ]
  },
  {
   "cell_type": "markdown",
   "id": "18a525e1-61ca-4d0a-aada-f473450fb19a",
   "metadata": {},
   "source": [
    "# Gradient of $p_v\\left(c\\right)$"
   ]
  },
  {
   "cell_type": "code",
   "execution_count": 2,
   "id": "80de92ae-ef0b-4216-8884-f1b2f8a8106c",
   "metadata": {
    "execution": {
     "iopub.execute_input": "2021-11-17T20:44:24.140560Z",
     "iopub.status.busy": "2021-11-17T20:44:24.140396Z",
     "iopub.status.idle": "2021-11-17T20:44:24.157361Z",
     "shell.execute_reply": "2021-11-17T20:44:24.156835Z",
     "shell.execute_reply.started": "2021-11-17T20:44:24.140541Z"
    },
    "tags": []
   },
   "outputs": [
    {
     "name": "stdout",
     "output_type": "stream",
     "text": [
      "Model 0\n",
      "All gradients check\n",
      "Model 1\n",
      "All gradients check\n"
     ]
    }
   ],
   "source": [
    "eps = 1e-8\n",
    "\n",
    "for i, model in enumerate([polyclonal_data, polyclonal_data2]):\n",
    "\n",
    "    print(f\"Model {i}\")\n",
    "\n",
    "    # analytical\n",
    "    p_vc, dpvc_dparams = model._compute_1d_pvs(\n",
    "        params=model._params,\n",
    "        one_binarymap=model._one_binarymap,\n",
    "        binarymaps=model._binarymaps,\n",
    "        cs=model._cs,\n",
    "        calc_grad=True,\n",
    "    )\n",
    "\n",
    "    # numerical, compare to analytical\n",
    "    for iparam in range(len(model._params)):\n",
    "        eps_vec = numpy.zeros(len(model._params))\n",
    "        eps_vec[iparam] = eps\n",
    "        p_vc_eps = model._compute_1d_pvs(\n",
    "            params=model._params + eps_vec,\n",
    "            one_binarymap=model._one_binarymap,\n",
    "            binarymaps=model._binarymaps,\n",
    "            cs=model._cs,\n",
    "            calc_grad=False,\n",
    "        )\n",
    "        numerical_grad = (p_vc_eps - p_vc) / eps\n",
    "        analytical_grad = dpvc_dparams[iparam].toarray()\n",
    "        diff = numpy.sqrt(((numerical_grad - analytical_grad) ** 2).sum())\n",
    "        mag = numpy.sqrt((analytical_grad ** 2).sum())\n",
    "        if (diff > 1e-7) or (diff / mag > 1e-7):\n",
    "            raise ValueError(\n",
    "                f\"{iparam=}, {diff=}, {mag=}\\n\" f\"{analytical_grad=}\\n{numerical_grad=}\"\n",
    "            )\n",
    "    print(\"All gradients check\")"
   ]
  },
  {
   "cell_type": "markdown",
   "id": "2cf615d5-ce7b-4d00-91d2-6d7a52170627",
   "metadata": {},
   "source": [
    "## Gradient of loss on $p_v\\left(c\\right)$"
   ]
  },
  {
   "cell_type": "code",
   "execution_count": 3,
   "id": "4cd10913-d096-457f-9dff-af8385c7ddeb",
   "metadata": {
    "execution": {
     "iopub.execute_input": "2021-11-17T20:44:24.158377Z",
     "iopub.status.busy": "2021-11-17T20:44:24.158120Z",
     "iopub.status.idle": "2021-11-17T20:44:24.204942Z",
     "shell.execute_reply": "2021-11-17T20:44:24.204375Z",
     "shell.execute_reply.started": "2021-11-17T20:44:24.158358Z"
    },
    "tags": []
   },
   "outputs": [
    {
     "name": "stdout",
     "output_type": "stream",
     "text": [
      "Model 0\n",
      "All gradients check\n",
      "Model 1\n",
      "All gradients check\n"
     ]
    }
   ],
   "source": [
    "eps = 1e-7\n",
    "\n",
    "delta = 2\n",
    "\n",
    "for i, model in enumerate([polyclonal_data, polyclonal_data2]):\n",
    "\n",
    "    print(f\"Model {i}\")\n",
    "\n",
    "    # analytical\n",
    "    loss, dloss = model._loss_dloss(params=model._params, delta=2)\n",
    "\n",
    "    # numerical, compare to analytical\n",
    "    for iparam in range(len(model._params)):\n",
    "        eps_vec = numpy.zeros(len(model._params))\n",
    "        eps_vec[iparam] = eps\n",
    "        loss_eps, _ = model._loss_dloss(params=model._params + eps_vec, delta=2)\n",
    "        numerical_grad = (loss_eps - loss) / eps\n",
    "        analytical_grad = dloss[iparam]\n",
    "        diff = numpy.sqrt((numerical_grad - analytical_grad) ** 2)\n",
<<<<<<< HEAD
    "        mag = numpy.sqrt(analytical_grad**2)\n",
    "        if (diff > 1e-7) or (diff / mag > 1e-3):\n",
=======
    "        mag = numpy.sqrt(analytical_grad ** 2)\n",
    "        if (diff > 1e-7) or (diff / mag > 1e-6):\n",
>>>>>>> Adding a gradient test in notebook for a bigger data set
    "            raise ValueError(\n",
    "                f\"{iparam=}, {diff=}, {mag=}\\n\" f\"{analytical_grad=}\\n{numerical_grad=}\"\n",
    "            )\n",
    "\n",
    "    print(\"All gradients check\")"
   ]
  },
  {
   "cell_type": "markdown",
   "id": "37b69b94-1588-4cad-bbb1-8282a90c4675",
   "metadata": {},
   "source": [
    "## Gradient of escape regularization"
   ]
  },
  {
   "cell_type": "code",
   "execution_count": 4,
   "id": "e6c5bbed-2dde-44bf-9375-ee4b31d673cc",
   "metadata": {
    "execution": {
     "iopub.execute_input": "2021-11-17T20:44:24.205952Z",
     "iopub.status.busy": "2021-11-17T20:44:24.205710Z",
     "iopub.status.idle": "2021-11-17T20:44:24.212345Z",
     "shell.execute_reply": "2021-11-17T20:44:24.211876Z",
     "shell.execute_reply.started": "2021-11-17T20:44:24.205931Z"
    },
    "tags": []
   },
   "outputs": [
    {
     "name": "stdout",
     "output_type": "stream",
     "text": [
      "Model 0\n",
      "All gradients check\n",
      "Model 1\n",
      "All gradients check\n"
     ]
    }
   ],
   "source": [
    "eps = 1e-7\n",
    "\n",
    "for i, model in enumerate([polyclonal_data, polyclonal_data2]):\n",
    "\n",
    "    print(f\"Model {i}\")\n",
    "\n",
    "    # analytical\n",
    "    reg, dreg = model._reg_escape(params=model._params, weight=0.2, delta=0.5)\n",
    "\n",
    "    # numerical, compare to analytical\n",
    "    for iparam in range(len(model._params)):\n",
    "        eps_vec = numpy.zeros(len(model._params))\n",
    "        eps_vec[iparam] = eps\n",
    "        reg_eps, _ = model._reg_escape(\n",
    "            params=model._params + eps_vec,\n",
    "            weight=0.2,\n",
    "            delta=0.5,\n",
    "        )\n",
    "        numerical_grad = (reg_eps - reg) / eps\n",
    "        analytical_grad = dreg[iparam]\n",
    "        diff = numpy.sqrt((numerical_grad - analytical_grad) ** 2)\n",
<<<<<<< HEAD
    "        mag = numpy.sqrt(analytical_grad**2)\n",
    "        if (diff > 1e-7) or (mag > 0 and diff / mag > 1e-3):\n",
=======
    "        mag = numpy.sqrt(analytical_grad ** 2)\n",
    "        if (diff > 1e-7) or (mag > 0 and diff / mag > 1e-6):\n",
>>>>>>> Adding a gradient test in notebook for a bigger data set
    "            raise ValueError(\n",
    "                f\"{iparam=}, {diff=}, {mag=}\\n\" f\"{analytical_grad=}\\n{numerical_grad=}\"\n",
    "            )\n",
    "\n",
    "    print(\"All gradients check\")"
   ]
  },
  {
   "cell_type": "markdown",
   "id": "63e9cfc0-49d6-4e26-ac6c-f6f26c01a188",
   "metadata": {},
   "source": [
    "## Gradient of site spread regularization"
   ]
  },
  {
   "cell_type": "code",
   "execution_count": 5,
   "id": "89650449-2a91-437a-956f-661a4ece7573",
   "metadata": {
    "execution": {
     "iopub.execute_input": "2021-11-17T20:44:24.213225Z",
     "iopub.status.busy": "2021-11-17T20:44:24.213027Z",
     "iopub.status.idle": "2021-11-17T20:44:24.222497Z",
     "shell.execute_reply": "2021-11-17T20:44:24.222006Z",
     "shell.execute_reply.started": "2021-11-17T20:44:24.213206Z"
    },
    "tags": []
   },
   "outputs": [
    {
     "name": "stdout",
     "output_type": "stream",
     "text": [
      "Model 0\n",
      "All gradients check\n",
      "Model 1\n",
      "All gradients check\n"
     ]
    }
   ],
   "source": [
    "eps = 1e-7\n",
    "\n",
    "for i, model in enumerate([polyclonal_data, polyclonal_data2]):\n",
    "\n",
    "    print(f\"Model {i}\")\n",
    "\n",
    "    # analytical\n",
    "    reg, dreg = model._reg_spread(\n",
    "        params=model._params,\n",
    "        weight=0.2,\n",
    "    )\n",
    "\n",
    "    # numerical, compare to analytical\n",
    "    for iparam in range(len(model._params)):\n",
    "        eps_vec = numpy.zeros(len(model._params))\n",
    "        eps_vec[iparam] = eps\n",
    "        reg_eps, _ = model._reg_spread(\n",
    "            params=model._params + eps_vec,\n",
    "            weight=0.2,\n",
    "        )\n",
    "        numerical_grad = (reg_eps - reg) / eps\n",
    "        analytical_grad = dreg[iparam]\n",
    "        diff = numpy.sqrt((numerical_grad - analytical_grad) ** 2)\n",
<<<<<<< HEAD
    "        mag = numpy.sqrt(analytical_grad**2)\n",
    "        if (diff > 1e-7) or (mag > 0 and diff / mag > 1e-3):\n",
=======
    "        mag = numpy.sqrt(analytical_grad ** 2)\n",
    "        if (diff > 1e-7) or (mag > 0 and diff / mag > 1e-6):\n",
>>>>>>> Adding a gradient test in notebook for a bigger data set
    "            raise ValueError(\n",
    "                f\"{iparam=}, {diff=}, {mag=}\\n\"\n",
    "                f\"{analytical_grad=}\\n{numerical_grad=}\\n\"\n",
    "            )\n",
    "\n",
    "    print(\"All gradients check\")"
   ]
  },
  {
   "cell_type": "code",
   "execution_count": null,
   "id": "d6d54542-1d80-45e4-9330-90c6f841ef53",
   "metadata": {},
   "outputs": [],
   "source": []
  }
 ],
 "metadata": {
  "kernelspec": {
   "display_name": "Python 3 (ipykernel)",
   "language": "python",
   "name": "python3"
  },
  "language_info": {
   "codemirror_mode": {
    "name": "ipython",
    "version": 3
   },
   "file_extension": ".py",
   "mimetype": "text/x-python",
   "name": "python",
   "nbconvert_exporter": "python",
   "pygments_lexer": "ipython3",
   "version": "3.8.12"
  }
 },
 "nbformat": 4,
 "nbformat_minor": 5
}
