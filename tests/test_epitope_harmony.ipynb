{
 "cells": [
  {
   "cell_type": "markdown",
   "id": "de4e3acd-bf50-4bbf-a70f-cbac40ff7749",
   "metadata": {},
   "source": [
    "# Test epitope harmonizing"
   ]
  },
  {
   "cell_type": "markdown",
   "id": "ab3f766b-ea28-42e2-ac00-8d725f367b0c",
   "metadata": {},
   "source": [
    "## Setup"
   ]
  },
  {
   "cell_type": "code",
   "execution_count": 1,
   "id": "5935c6e6-a5ae-4d73-8f80-03c7d36775f0",
   "metadata": {},
   "outputs": [],
   "source": [
    "import numpy\n",
    "\n",
    "import random\n",
    "\n",
    "import pandas as pd\n",
    "\n",
    "from polyclonal import Polyclonal\n",
    "\n",
    "import polyclonal.utils as utils\n",
    "\n",
    "import unittest\n",
    "\n",
    "activity_wt_df = pd.DataFrame({\"epitope\": [\"e1\", \"e2\"], \"activity\": [2.0, 1.0]})\n",
    "\n",
    "mut_escape_df = pd.DataFrame(\n",
    "    {\n",
    "        \"mutation\": [\n",
    "            \"M1C\",\n",
    "            \"M1C\",\n",
    "            \"G2A\",\n",
    "            \"G2A\",\n",
    "            \"A4K\",\n",
    "            \"A4K\",\n",
    "            \"A4L\",\n",
    "            \"A4L\",\n",
    "            \"A4Q\",\n",
    "            \"A4Q\",\n",
    "        ],\n",
    "        \"epitope\": [\"e1\", \"e2\", \"e1\", \"e2\", \"e1\", \"e2\", \"e1\", \"e2\", \"e1\", \"e2\"],\n",
    "        \"escape\": [2.0, 0.0, 3.0, 0.0, 0.0, 2.5, 0.0, 1.5, 0.0, 3.5],\n",
    "    }\n",
    ")\n",
    "\n",
    "polyclonal_sim = Polyclonal(activity_wt_df=activity_wt_df, mut_escape_df=mut_escape_df)\n",
    "\n",
    "variants_df = pd.DataFrame.from_records(\n",
    "    [\n",
    "        (\"AA\", \"\"),\n",
    "        (\"AC\", \"M1C\"),\n",
    "        (\"AG\", \"G2A\"),\n",
    "        (\"AT\", \"A4K\"),\n",
    "        (\"TA\", \"A4L\"),\n",
    "        (\"GA\", \"A4Q\"),\n",
    "        (\"CA\", \"M1C G2A\"),\n",
    "        (\"CG\", \"M1C A4K\"),\n",
    "        (\"TT\", \"M1C A4L\"),\n",
    "        (\"GT\", \"M1C A4Q\"),\n",
    "        (\"CC\", \"G2A A4K\"),\n",
    "        (\"TC\", \"G2A A4L\"),\n",
    "        (\"GG\", \"G2A A4Q\"),\n",
    "        (\"CT\", \"M1C G2A A4K\"),\n",
    "        (\"TG\", \"M1C G2A A4L\"),\n",
    "        (\"GA\", \"M1C G2A A4Q\"),\n",
    "    ],\n",
    "    columns=[\"barcode\", \"aa_substitutions\"],\n",
    ")\n",
    "\n",
    "escape_probs = polyclonal_sim.prob_escape(\n",
    "    variants_df=variants_df, concentrations=[1.0, 2.0, 4.0]\n",
    ")\n",
    "\n",
    "data_to_fit = escape_probs.rename(columns={\"predicted_prob_escape\": \"prob_escape\"})"
   ]
  },
  {
   "cell_type": "code",
   "execution_count": 2,
   "id": "e17d0c08-27d2-4cc9-bbd4-02abcd14d7c2",
   "metadata": {},
   "outputs": [],
   "source": [
    "n_eps = 2\n",
    "poly_one = Polyclonal(\n",
    "    data_to_fit=data_to_fit, n_epitopes=n_eps, activity_wt_df=None, site_escape_df=None\n",
    ")\n",
    "poly_two = Polyclonal(\n",
    "    data_to_fit=data_to_fit, n_epitopes=n_eps, activity_wt_df=None, site_escape_df=None\n",
    ")"
   ]
  },
  {
   "cell_type": "code",
   "execution_count": 3,
   "id": "f6342877-1097-44e2-b55a-efdde6687c52",
   "metadata": {},
   "outputs": [],
   "source": [
    "random.seed(1)\n",
    "_ = poly_one.fit(fit_site_level_first=False)\n",
    "_ = poly_two.fit(fit_site_level_first=False)"
   ]
  },
  {
   "cell_type": "markdown",
   "id": "732f808e-be0a-4434-aa8e-f3b54896c2a3",
   "metadata": {},
   "source": [
    "## Tests"
   ]
  },
  {
   "cell_type": "markdown",
   "id": "9092e1f8-a762-4d54-9ef4-45fddea18b4c",
   "metadata": {},
   "source": [
    "### Helper methods\n",
    "The following tests assess if the helper methods for epitope harmonizing all work when we have two identical models (1s in correlation matrix should be on diagonal):"
   ]
  },
  {
   "cell_type": "code",
   "execution_count": 4,
   "id": "bcee9d95-a18f-4885-92bf-f14b569a72ab",
   "metadata": {},
   "outputs": [
    {
     "data": {
      "text/html": [
       "<div>\n",
       "<style scoped>\n",
       "    .dataframe tbody tr th:only-of-type {\n",
       "        vertical-align: middle;\n",
       "    }\n",
       "\n",
       "    .dataframe tbody tr th {\n",
       "        vertical-align: top;\n",
       "    }\n",
       "\n",
       "    .dataframe thead th {\n",
       "        text-align: right;\n",
       "    }\n",
       "</style>\n",
       "<table border=\"1\" class=\"dataframe\">\n",
       "  <thead>\n",
       "    <tr style=\"text-align: right;\">\n",
       "      <th></th>\n",
       "      <th>ref_epitope</th>\n",
       "      <th>self_epitope</th>\n",
       "      <th>correlation</th>\n",
       "    </tr>\n",
       "  </thead>\n",
       "  <tbody>\n",
       "    <tr>\n",
       "      <th>0</th>\n",
       "      <td>1</td>\n",
       "      <td>1</td>\n",
       "      <td>1.000000</td>\n",
       "    </tr>\n",
       "    <tr>\n",
       "      <th>1</th>\n",
       "      <td>1</td>\n",
       "      <td>2</td>\n",
       "      <td>-0.872404</td>\n",
       "    </tr>\n",
       "    <tr>\n",
       "      <th>2</th>\n",
       "      <td>2</td>\n",
       "      <td>1</td>\n",
       "      <td>-0.872404</td>\n",
       "    </tr>\n",
       "    <tr>\n",
       "      <th>3</th>\n",
       "      <td>2</td>\n",
       "      <td>2</td>\n",
       "      <td>1.000000</td>\n",
       "    </tr>\n",
       "  </tbody>\n",
       "</table>\n",
       "</div>"
      ],
      "text/plain": [
       "  ref_epitope self_epitope  correlation\n",
       "0           1            1     1.000000\n",
       "1           1            2    -0.872404\n",
       "2           2            1    -0.872404\n",
       "3           2            2     1.000000"
      ]
     },
     "execution_count": 4,
     "metadata": {},
     "output_type": "execute_result"
    }
   ],
   "source": [
    "corr_df = poly_two._make_correlation_matrix(poly_one)\n",
    "assert len(corr_df) == n_eps ** 2\n",
    "assert corr_df.correlation.between(-1, 1).all()\n",
    "corr_df"
   ]
  },
  {
   "cell_type": "code",
   "execution_count": 5,
   "id": "e98d2a2c-94ea-4416-884e-608c2cdf81c2",
   "metadata": {},
   "outputs": [],
   "source": [
    "# This dataframe should return the following mapping matrix:\n",
    "true_map = numpy.array([[1, 0], [0, 1]])\n",
    "test_map = poly_two._create_max_correlation_mapping_matrix(corr_df)\n",
    "assert numpy.array_equal(true_map, test_map)"
   ]
  },
  {
   "cell_type": "markdown",
   "id": "1cea925e-e61c-46cd-b4bf-6dd743e75f88",
   "metadata": {},
   "source": [
    "#### Scenario: Flipped `mut_escape_df`"
   ]
  },
  {
   "cell_type": "markdown",
   "id": "9d9191a4-2e73-44f6-880c-b01f10c024d7",
   "metadata": {},
   "source": [
    "Now, we will create an example where we train two models that learn the same parameters but flip the epitopes (i.e., I'm just going to flip the values in `mut_escape_df` from one model, and re-create polyclonal objects:"
   ]
  },
  {
   "cell_type": "code",
   "execution_count": 6,
   "id": "0207ee00-4d5a-4508-84d3-adff482e65b3",
   "metadata": {},
   "outputs": [],
   "source": [
    "# A quick fix for pandas warning.\n",
    "import warnings\n",
    "warnings.filterwarnings('ignore')\n",
    "warnings.simplefilter('ignore')\n",
    "\n",
    "# Create a test example where two models \"flipped\" the epitopes\n",
    "one_df = poly_one.mut_escape_df\n",
    "two_df = poly_two.mut_escape_df\n",
    "one_wt_df = poly_one.activity_wt_df\n",
    "two_wt_df = pd.DataFrame(\n",
    "    {\"epitope\": one_wt_df.epitope.values, \"activity\": one_wt_df.activity[::-1]}\n",
    ")\n",
    "\n",
    "# Create a \"flipped\" version of the `activity_wt_df`\n",
    "two_df.escape.iloc[5:10] = one_df.escape.iloc[0:5]\n",
    "two_df.escape.iloc[0:5] = one_df.escape.iloc[5:10]\n",
    "\n",
    "\n",
    "# Create polyclonal objects (can't seem to edit `mut_escape_df` bc it's a property)\n",
    "original_poly = Polyclonal(\n",
    "    mut_escape_df=one_df, activity_wt_df=one_wt_df, data_to_fit=None\n",
    ")\n",
    "flipped_poly = Polyclonal(\n",
    "    mut_escape_df=two_df, activity_wt_df=two_wt_df, data_to_fit=None\n",
    ")"
   ]
  },
  {
   "cell_type": "markdown",
   "id": "e7411789-7a9e-483a-8f18-68c2f5686c45",
   "metadata": {},
   "source": [
    "##### Sanity checks\n",
    "Here, we just want to make sure the `mut_escape_df` properties for each `Polyclonal` object are flipped. \n",
    "This should result in the escape values for a given mutation (i.e. M1C), in epitopes 1 and of the `orignal_poly` object to be flipped in the `flipped_poly` object, and so on.\n",
    "\n",
    "This should manifest in the `_params` data field as binary swaps across the arrays (i.e. [1, 2, 3, 4] --> [2,1,4,3]) after the first two epitope params (because params are on a mutation-epitope ordering)"
   ]
  },
  {
   "cell_type": "code",
   "execution_count": 7,
   "id": "219b9d4a-becd-4d0f-b21c-64860a440363",
   "metadata": {},
   "outputs": [
    {
     "data": {
      "text/html": [
       "<div>\n",
       "<style scoped>\n",
       "    .dataframe tbody tr th:only-of-type {\n",
       "        vertical-align: middle;\n",
       "    }\n",
       "\n",
       "    .dataframe tbody tr th {\n",
       "        vertical-align: top;\n",
       "    }\n",
       "\n",
       "    .dataframe thead th {\n",
       "        text-align: right;\n",
       "    }\n",
       "</style>\n",
       "<table border=\"1\" class=\"dataframe\">\n",
       "  <thead>\n",
       "    <tr style=\"text-align: right;\">\n",
       "      <th></th>\n",
       "      <th>epitope</th>\n",
       "      <th>site</th>\n",
       "      <th>wildtype</th>\n",
       "      <th>mutant</th>\n",
       "      <th>mutation</th>\n",
       "      <th>escape</th>\n",
       "    </tr>\n",
       "  </thead>\n",
       "  <tbody>\n",
       "    <tr>\n",
       "      <th>0</th>\n",
       "      <td>1</td>\n",
       "      <td>1</td>\n",
       "      <td>M</td>\n",
       "      <td>C</td>\n",
       "      <td>M1C</td>\n",
       "      <td>0.152164</td>\n",
       "    </tr>\n",
       "    <tr>\n",
       "      <th>1</th>\n",
       "      <td>1</td>\n",
       "      <td>2</td>\n",
       "      <td>G</td>\n",
       "      <td>A</td>\n",
       "      <td>G2A</td>\n",
       "      <td>0.042005</td>\n",
       "    </tr>\n",
       "    <tr>\n",
       "      <th>2</th>\n",
       "      <td>1</td>\n",
       "      <td>4</td>\n",
       "      <td>A</td>\n",
       "      <td>K</td>\n",
       "      <td>A4K</td>\n",
       "      <td>2.358184</td>\n",
       "    </tr>\n",
       "    <tr>\n",
       "      <th>3</th>\n",
       "      <td>1</td>\n",
       "      <td>4</td>\n",
       "      <td>A</td>\n",
       "      <td>L</td>\n",
       "      <td>A4L</td>\n",
       "      <td>1.513825</td>\n",
       "    </tr>\n",
       "    <tr>\n",
       "      <th>4</th>\n",
       "      <td>1</td>\n",
       "      <td>4</td>\n",
       "      <td>A</td>\n",
       "      <td>Q</td>\n",
       "      <td>A4Q</td>\n",
       "      <td>3.036481</td>\n",
       "    </tr>\n",
       "    <tr>\n",
       "      <th>5</th>\n",
       "      <td>2</td>\n",
       "      <td>1</td>\n",
       "      <td>M</td>\n",
       "      <td>C</td>\n",
       "      <td>M1C</td>\n",
       "      <td>2.067248</td>\n",
       "    </tr>\n",
       "    <tr>\n",
       "      <th>6</th>\n",
       "      <td>2</td>\n",
       "      <td>2</td>\n",
       "      <td>G</td>\n",
       "      <td>A</td>\n",
       "      <td>G2A</td>\n",
       "      <td>3.227758</td>\n",
       "    </tr>\n",
       "    <tr>\n",
       "      <th>7</th>\n",
       "      <td>2</td>\n",
       "      <td>4</td>\n",
       "      <td>A</td>\n",
       "      <td>K</td>\n",
       "      <td>A4K</td>\n",
       "      <td>0.012367</td>\n",
       "    </tr>\n",
       "    <tr>\n",
       "      <th>8</th>\n",
       "      <td>2</td>\n",
       "      <td>4</td>\n",
       "      <td>A</td>\n",
       "      <td>L</td>\n",
       "      <td>A4L</td>\n",
       "      <td>-0.060366</td>\n",
       "    </tr>\n",
       "    <tr>\n",
       "      <th>9</th>\n",
       "      <td>2</td>\n",
       "      <td>4</td>\n",
       "      <td>A</td>\n",
       "      <td>Q</td>\n",
       "      <td>A4Q</td>\n",
       "      <td>0.077058</td>\n",
       "    </tr>\n",
       "  </tbody>\n",
       "</table>\n",
       "</div>"
      ],
      "text/plain": [
       "  epitope  site wildtype mutant mutation    escape\n",
       "0       1     1        M      C      M1C  0.152164\n",
       "1       1     2        G      A      G2A  0.042005\n",
       "2       1     4        A      K      A4K  2.358184\n",
       "3       1     4        A      L      A4L  1.513825\n",
       "4       1     4        A      Q      A4Q  3.036481\n",
       "5       2     1        M      C      M1C  2.067248\n",
       "6       2     2        G      A      G2A  3.227758\n",
       "7       2     4        A      K      A4K  0.012367\n",
       "8       2     4        A      L      A4L -0.060366\n",
       "9       2     4        A      Q      A4Q  0.077058"
      ]
     },
     "execution_count": 7,
     "metadata": {},
     "output_type": "execute_result"
    }
   ],
   "source": [
    "original_poly.mut_escape_df"
   ]
  },
  {
   "cell_type": "code",
   "execution_count": 8,
   "id": "1ca2b2df-b5d4-46ac-adee-0f1fd8d0ecd9",
   "metadata": {},
   "outputs": [
    {
     "data": {
      "text/html": [
       "<div>\n",
       "<style scoped>\n",
       "    .dataframe tbody tr th:only-of-type {\n",
       "        vertical-align: middle;\n",
       "    }\n",
       "\n",
       "    .dataframe tbody tr th {\n",
       "        vertical-align: top;\n",
       "    }\n",
       "\n",
       "    .dataframe thead th {\n",
       "        text-align: right;\n",
       "    }\n",
       "</style>\n",
       "<table border=\"1\" class=\"dataframe\">\n",
       "  <thead>\n",
       "    <tr style=\"text-align: right;\">\n",
       "      <th></th>\n",
       "      <th>epitope</th>\n",
       "      <th>site</th>\n",
       "      <th>wildtype</th>\n",
       "      <th>mutant</th>\n",
       "      <th>mutation</th>\n",
       "      <th>escape</th>\n",
       "    </tr>\n",
       "  </thead>\n",
       "  <tbody>\n",
       "    <tr>\n",
       "      <th>0</th>\n",
       "      <td>1</td>\n",
       "      <td>1</td>\n",
       "      <td>M</td>\n",
       "      <td>C</td>\n",
       "      <td>M1C</td>\n",
       "      <td>2.067248</td>\n",
       "    </tr>\n",
       "    <tr>\n",
       "      <th>1</th>\n",
       "      <td>1</td>\n",
       "      <td>2</td>\n",
       "      <td>G</td>\n",
       "      <td>A</td>\n",
       "      <td>G2A</td>\n",
       "      <td>3.227758</td>\n",
       "    </tr>\n",
       "    <tr>\n",
       "      <th>2</th>\n",
       "      <td>1</td>\n",
       "      <td>4</td>\n",
       "      <td>A</td>\n",
       "      <td>K</td>\n",
       "      <td>A4K</td>\n",
       "      <td>0.012367</td>\n",
       "    </tr>\n",
       "    <tr>\n",
       "      <th>3</th>\n",
       "      <td>1</td>\n",
       "      <td>4</td>\n",
       "      <td>A</td>\n",
       "      <td>L</td>\n",
       "      <td>A4L</td>\n",
       "      <td>-0.060366</td>\n",
       "    </tr>\n",
       "    <tr>\n",
       "      <th>4</th>\n",
       "      <td>1</td>\n",
       "      <td>4</td>\n",
       "      <td>A</td>\n",
       "      <td>Q</td>\n",
       "      <td>A4Q</td>\n",
       "      <td>0.077058</td>\n",
       "    </tr>\n",
       "    <tr>\n",
       "      <th>5</th>\n",
       "      <td>2</td>\n",
       "      <td>1</td>\n",
       "      <td>M</td>\n",
       "      <td>C</td>\n",
       "      <td>M1C</td>\n",
       "      <td>0.152164</td>\n",
       "    </tr>\n",
       "    <tr>\n",
       "      <th>6</th>\n",
       "      <td>2</td>\n",
       "      <td>2</td>\n",
       "      <td>G</td>\n",
       "      <td>A</td>\n",
       "      <td>G2A</td>\n",
       "      <td>0.042005</td>\n",
       "    </tr>\n",
       "    <tr>\n",
       "      <th>7</th>\n",
       "      <td>2</td>\n",
       "      <td>4</td>\n",
       "      <td>A</td>\n",
       "      <td>K</td>\n",
       "      <td>A4K</td>\n",
       "      <td>2.358184</td>\n",
       "    </tr>\n",
       "    <tr>\n",
       "      <th>8</th>\n",
       "      <td>2</td>\n",
       "      <td>4</td>\n",
       "      <td>A</td>\n",
       "      <td>L</td>\n",
       "      <td>A4L</td>\n",
       "      <td>1.513825</td>\n",
       "    </tr>\n",
       "    <tr>\n",
       "      <th>9</th>\n",
       "      <td>2</td>\n",
       "      <td>4</td>\n",
       "      <td>A</td>\n",
       "      <td>Q</td>\n",
       "      <td>A4Q</td>\n",
       "      <td>3.036481</td>\n",
       "    </tr>\n",
       "  </tbody>\n",
       "</table>\n",
       "</div>"
      ],
      "text/plain": [
       "  epitope  site wildtype mutant mutation    escape\n",
       "0       1     1        M      C      M1C  2.067248\n",
       "1       1     2        G      A      G2A  3.227758\n",
       "2       1     4        A      K      A4K  0.012367\n",
       "3       1     4        A      L      A4L -0.060366\n",
       "4       1     4        A      Q      A4Q  0.077058\n",
       "5       2     1        M      C      M1C  0.152164\n",
       "6       2     2        G      A      G2A  0.042005\n",
       "7       2     4        A      K      A4K  2.358184\n",
       "8       2     4        A      L      A4L  1.513825\n",
       "9       2     4        A      Q      A4Q  3.036481"
      ]
     },
     "execution_count": 8,
     "metadata": {},
     "output_type": "execute_result"
    }
   ],
   "source": [
    "flipped_poly.mut_escape_df"
   ]
  },
  {
   "cell_type": "code",
   "execution_count": 9,
   "id": "61285fb9-d7ee-402c-8a8d-85263d27e21e",
   "metadata": {},
   "outputs": [
    {
     "data": {
      "text/plain": [
       "array([ 1.15389091,  2.01172371,  0.15216369,  2.06724838,  0.04200508,\n",
       "        3.22775792,  2.3581837 ,  0.01236656,  1.51382544, -0.06036563,\n",
       "        3.03648058,  0.07705838])"
      ]
     },
     "execution_count": 9,
     "metadata": {},
     "output_type": "execute_result"
    }
   ],
   "source": [
    "original_poly._params"
   ]
  },
  {
   "cell_type": "code",
   "execution_count": 10,
   "id": "57cd2c3e-e7d9-4766-a94f-f5a6ccd28fec",
   "metadata": {},
   "outputs": [
    {
     "data": {
      "text/plain": [
       "array([ 2.01172371,  1.15389091,  2.06724838,  0.15216369,  3.22775792,\n",
       "        0.04200508,  0.01236656,  2.3581837 , -0.06036563,  1.51382544,\n",
       "        0.07705838,  3.03648058])"
      ]
     },
     "execution_count": 10,
     "metadata": {},
     "output_type": "execute_result"
    }
   ],
   "source": [
    "flipped_poly._params"
   ]
  },
  {
   "cell_type": "markdown",
   "id": "d2de6cb9-fdf1-42f3-9977-17f7eb1945d0",
   "metadata": {},
   "source": [
    "#### Scenario: Helper method input violations\n",
    "Another set of tests on the helper methods, this time, 1s should be on the \"off-diagonal\""
   ]
  },
  {
   "cell_type": "code",
   "execution_count": 11,
   "id": "816a369a-22e9-4194-8599-fb7f6dbefafe",
   "metadata": {},
   "outputs": [
    {
     "data": {
      "text/html": [
       "<div>\n",
       "<style scoped>\n",
       "    .dataframe tbody tr th:only-of-type {\n",
       "        vertical-align: middle;\n",
       "    }\n",
       "\n",
       "    .dataframe tbody tr th {\n",
       "        vertical-align: top;\n",
       "    }\n",
       "\n",
       "    .dataframe thead th {\n",
       "        text-align: right;\n",
       "    }\n",
       "</style>\n",
       "<table border=\"1\" class=\"dataframe\">\n",
       "  <thead>\n",
       "    <tr style=\"text-align: right;\">\n",
       "      <th></th>\n",
       "      <th>ref_epitope</th>\n",
       "      <th>self_epitope</th>\n",
       "      <th>correlation</th>\n",
       "    </tr>\n",
       "  </thead>\n",
       "  <tbody>\n",
       "    <tr>\n",
       "      <th>0</th>\n",
       "      <td>1</td>\n",
       "      <td>1</td>\n",
       "      <td>-0.872404</td>\n",
       "    </tr>\n",
       "    <tr>\n",
       "      <th>1</th>\n",
       "      <td>1</td>\n",
       "      <td>2</td>\n",
       "      <td>1.000000</td>\n",
       "    </tr>\n",
       "    <tr>\n",
       "      <th>2</th>\n",
       "      <td>2</td>\n",
       "      <td>1</td>\n",
       "      <td>1.000000</td>\n",
       "    </tr>\n",
       "    <tr>\n",
       "      <th>3</th>\n",
       "      <td>2</td>\n",
       "      <td>2</td>\n",
       "      <td>-0.872404</td>\n",
       "    </tr>\n",
       "  </tbody>\n",
       "</table>\n",
       "</div>"
      ],
      "text/plain": [
       "  ref_epitope self_epitope  correlation\n",
       "0           1            1    -0.872404\n",
       "1           1            2     1.000000\n",
       "2           2            1     1.000000\n",
       "3           2            2    -0.872404"
      ]
     },
     "execution_count": 11,
     "metadata": {},
     "output_type": "execute_result"
    }
   ],
   "source": [
    "corr_df2 = flipped_poly._make_correlation_matrix(original_poly)\n",
    "assert len(corr_df2) == n_eps ** 2\n",
    "assert corr_df2.correlation.between(-1, 1).all()\n",
    "corr_df2"
   ]
  },
  {
   "cell_type": "code",
   "execution_count": 12,
   "id": "c89f357f-f9dd-4431-925e-46ca3cac0f8f",
   "metadata": {},
   "outputs": [],
   "source": [
    "true_map = numpy.array([[0, 1], [1, 0]])\n",
    "test_map = flipped_poly._create_max_correlation_mapping_matrix(corr_df2)\n",
    "assert numpy.array_equal(true_map, test_map)\n",
    "assert numpy.all(test_map.sum(axis=1) == 1)"
   ]
  },
  {
   "cell_type": "markdown",
   "id": "52de1e66-e45e-4163-b247-1b7b7d31f9bd",
   "metadata": {},
   "source": [
    "This test is to ensure the mapping dictionary creates the epitope pairs we intend it to"
   ]
  },
  {
   "cell_type": "code",
   "execution_count": 13,
   "id": "f1344ba7-3ddc-42c4-bb83-571292a29972",
   "metadata": {},
   "outputs": [],
   "source": [
    "# Test make_mapping_dict\n",
    "true_dict = {\"1\": \"2\", \"2\": \"1\"}\n",
    "test_dict = flipped_poly._make_mapping_dict(test_map, original_poly)\n",
    "assert true_dict == test_dict"
   ]
  },
  {
   "cell_type": "markdown",
   "id": "ba79ca4f-779b-4fd3-aa01-804243830d69",
   "metadata": {},
   "source": [
    "### Epitope harmonization\n",
    "\n",
    "Now we harmonize the flipped object with the original one -- since these are the exact same dataframes but with flipped epitopes, after harmonization, `flipped_poly.mut_escape_df` should be equal to `original_poly.mut_escape_df`.\n",
    "\n",
    "We should also have equal `activity_wt_df` and `_params` propertoes after harmonization as well."
   ]
  },
  {
   "cell_type": "code",
   "execution_count": 14,
   "id": "f9b42ab2-a604-4621-8a59-6bff620d4f6c",
   "metadata": {},
   "outputs": [],
   "source": [
    "assert not flipped_poly.mut_escape_df.equals(original_poly.mut_escape_df)\n",
    "assert not flipped_poly.activity_wt_df.equals(original_poly.activity_wt_df)\n",
    "assert not numpy.array_equal(original_poly._params, flipped_poly._params)\n",
    "flipped_poly.harmonize_epitopes_with(original_poly)\n",
    "assert flipped_poly.mut_escape_df.equals(original_poly.mut_escape_df)\n",
    "assert flipped_poly.mut_escape_df.equals(original_poly.mut_escape_df)\n",
    "assert flipped_poly.activity_wt_df.equals(original_poly.activity_wt_df)\n",
    "assert numpy.array_equal(original_poly._params, flipped_poly._params)"
   ]
  },
  {
   "cell_type": "markdown",
   "id": "9f42efb5-ec4f-41cd-b6cc-b963fc4c30d4",
   "metadata": {},
   "source": [
    "Now we want to test if the params are the same (i.e., if we update these DFs and use them to create a new polyclonal object, we should get the same parameters out)"
   ]
  },
  {
   "cell_type": "code",
   "execution_count": 15,
   "id": "c3d005b8-f9ac-4dd0-b746-0747a9733c06",
   "metadata": {},
   "outputs": [],
   "source": [
    "flipped_poly_clone = Polyclonal(\n",
    "    mut_escape_df=flipped_poly.mut_escape_df,\n",
    "    activity_wt_df=flipped_poly.activity_wt_df,\n",
    "    data_to_fit=None,\n",
    ")\n",
    "# Sanity checks\n",
    "assert flipped_poly_clone.mut_escape_df.equals(flipped_poly.mut_escape_df)\n",
    "assert flipped_poly_clone.activity_wt_df.equals(flipped_poly.activity_wt_df)\n",
    "assert numpy.array_equal(flipped_poly_clone._params, flipped_poly._params)"
   ]
  },
  {
   "cell_type": "markdown",
   "id": "34e02a76-3ecf-4890-b9dc-60d866306ded",
   "metadata": {},
   "source": [
    "### Throwing exceptions when expected\n",
    "Here, we test the behavior of the epitope harmonization when violations are violated.\n",
    "Examples of these violations include:\n",
    "\n",
    "* Epitopes aren't \"1-to-1\" (i.e., one epitope maps to multiple epitopes)\n",
    "* Models have differing numbers of epitopes (non-square mapping matrix)\n",
    "* Mapping matrix isn't binary (strictly 0/1 entries)"
   ]
  },
  {
   "cell_type": "code",
   "execution_count": 16,
   "id": "523e1c36-ed98-4a60-8d73-32f3397af0a9",
   "metadata": {},
   "outputs": [],
   "source": [
    "class ExceptionTests(unittest.TestCase):\n",
    "\n",
    "    # Returns true if 1 + '1' raises a TypeError\n",
    "    def test_non_diagonal_mapping_matrix(self):\n",
    "        self.test_corr_df = pd.DataFrame(\n",
    "            {\n",
    "                \"ref_epitope\": [1, 1, 2, 2],\n",
    "                \"self_epitope\": [1, 2, 1, 2],\n",
    "                \"correlation\": [0.5, 0.5, 0.5, 0.5],\n",
    "            }\n",
    "        )\n",
    "        with self.assertRaises(ValueError):\n",
    "            flipped_poly._create_max_correlation_mapping_matrix(self.test_corr_df)\n",
    "\n",
    "    def test_non_square_mapping_matrix(self):\n",
    "        test_mat = numpy.array([[1, 0], [0, 1], [0, 0]])\n",
    "        with self.assertRaises(ValueError):\n",
    "            flipped_poly._check_epitope_mapping_matrix(test_mat)\n",
    "\n",
    "    def test_mapping_matrix_values(self):\n",
    "        test_mat = numpy.array([[1, 0], [0, 2]])\n",
    "        with self.assertRaises(ValueError):\n",
    "            flipped_poly._check_epitope_mapping_matrix(test_mat)\n",
    "\n",
    "\n",
    "except_tests = ExceptionTests()\n",
    "except_tests.test_non_diagonal_mapping_matrix()\n",
    "except_tests.test_non_square_mapping_matrix()\n",
    "except_tests.test_mapping_matrix_values()"
   ]
  }
 ],
 "metadata": {
  "kernelspec": {
   "display_name": "Python 3 (ipykernel)",
   "language": "python",
   "name": "python3"
  },
  "language_info": {
   "codemirror_mode": {
    "name": "ipython",
    "version": 3
   },
   "file_extension": ".py",
   "mimetype": "text/x-python",
   "name": "python",
   "nbconvert_exporter": "python",
   "pygments_lexer": "ipython3",
   "version": "3.8.12"
  }
 },
 "nbformat": 4,
 "nbformat_minor": 5
}
