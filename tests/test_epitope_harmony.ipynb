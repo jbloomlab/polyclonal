{
 "cells": [
  {
   "cell_type": "markdown",
   "id": "de4e3acd-bf50-4bbf-a70f-cbac40ff7749",
   "metadata": {},
   "source": [
    "# Test epitope correlations and harmonizing"
   ]
  },
  {
   "cell_type": "markdown",
   "id": "ab3f766b-ea28-42e2-ac00-8d725f367b0c",
   "metadata": {},
   "source": [
    "First we create three models: two are identical, one has epitopes flipped relative to the others but listed in the same order, and the other has epitopes flipped and listed in the opposite order:"
   ]
  },
  {
   "cell_type": "code",
   "execution_count": 1,
   "id": "5935c6e6-a5ae-4d73-8f80-03c7d36775f0",
   "metadata": {
    "execution": {
     "iopub.execute_input": "2022-07-17T20:47:20.169916Z",
     "iopub.status.busy": "2022-07-17T20:47:20.169668Z",
     "iopub.status.idle": "2022-07-17T20:47:21.542438Z",
     "shell.execute_reply": "2022-07-17T20:47:21.541796Z",
     "shell.execute_reply.started": "2022-07-17T20:47:20.169833Z"
    },
    "tags": []
   },
   "outputs": [],
   "source": [
    "import copy\n",
    "\n",
    "import pandas as pd\n",
    "\n",
    "from polyclonal import Polyclonal\n",
    "\n",
    "\n",
    "activity_wt_df = pd.DataFrame({\"epitope\": [1, 2], \"activity\": [2.0, 1.0]})\n",
    "\n",
    "mut_escape_df = pd.DataFrame(\n",
    "    {\n",
    "        \"mutation\": [\n",
    "            \"M1C\",\n",
    "            \"M1C\",\n",
    "            \"G2A\",\n",
    "            \"G2A\",\n",
    "            \"A4K\",\n",
    "            \"A4K\",\n",
    "            \"A4L\",\n",
    "            \"A4L\",\n",
    "            \"A4Q\",\n",
    "            \"A4Q\",\n",
    "        ],\n",
    "        \"epitope\": [1, 2, 1, 2, 1, 2, 1, 2, 1, 2],\n",
    "        \"escape\": [2.0, 0.0, 3.0, 0.0, 0.0, 2.5, 0.0, 1.5, 0.0, 3.5],\n",
    "    }\n",
    ")\n",
    "\n",
    "model = Polyclonal(mut_escape_df=mut_escape_df, activity_wt_df=activity_wt_df)\n",
    "\n",
    "model_copy = copy.deepcopy(model)\n",
    "\n",
    "model_flipped = Polyclonal(\n",
    "    mut_escape_df=(\n",
    "        mut_escape_df.assign(\n",
    "            epitope=lambda x: x[\"epitope\"].map({1: 2, 2: 1})\n",
    "        ).sort_values(\"epitope\")\n",
    "    ),\n",
    "    activity_wt_df=(\n",
    "        activity_wt_df.assign(\n",
    "            epitope=lambda x: x[\"epitope\"].map({1: 2, 2: 1})\n",
    "        ).sort_values(\"epitope\")\n",
    "    ),\n",
    ")\n",
    "\n",
    "model_flipped_diff_order = Polyclonal(\n",
    "    mut_escape_df=(\n",
    "        mut_escape_df.assign(epitope=lambda x: x[\"epitope\"].map({1: 2, 2: 1}))\n",
    "    ),\n",
    "    activity_wt_df=(\n",
    "        activity_wt_df.assign(epitope=lambda x: x[\"epitope\"].map({1: 2, 2: 1}))\n",
    "    ),\n",
    ")"
   ]
  },
  {
   "cell_type": "markdown",
   "id": "4a72539c-902d-4aaa-a052-52416a7bfd81",
   "metadata": {},
   "source": [
    "Now look at correlations among epitopes:"
   ]
  },
  {
   "cell_type": "code",
   "execution_count": 2,
   "id": "0667e765-d0d7-40fc-b21b-c2da5fedec23",
   "metadata": {
    "execution": {
     "iopub.execute_input": "2022-07-17T20:47:21.545826Z",
     "iopub.status.busy": "2022-07-17T20:47:21.545691Z",
     "iopub.status.idle": "2022-07-17T20:47:21.589163Z",
     "shell.execute_reply": "2022-07-17T20:47:21.588736Z",
     "shell.execute_reply.started": "2022-07-17T20:47:21.545806Z"
    },
    "tags": []
   },
   "outputs": [
    {
     "data": {
      "text/html": [
       "<div>\n",
       "<style scoped>\n",
       "    .dataframe tbody tr th:only-of-type {\n",
       "        vertical-align: middle;\n",
       "    }\n",
       "\n",
       "    .dataframe tbody tr th {\n",
       "        vertical-align: top;\n",
       "    }\n",
       "\n",
       "    .dataframe thead th {\n",
       "        text-align: right;\n",
       "    }\n",
       "</style>\n",
       "<table border=\"1\" class=\"dataframe\">\n",
       "  <thead>\n",
       "    <tr style=\"text-align: right;\">\n",
       "      <th></th>\n",
       "      <th>ref_epitope</th>\n",
       "      <th>self_epitope</th>\n",
       "      <th>correlation</th>\n",
       "    </tr>\n",
       "  </thead>\n",
       "  <tbody>\n",
       "    <tr>\n",
       "      <th>0</th>\n",
       "      <td>1</td>\n",
       "      <td>1</td>\n",
       "      <td>1.000000</td>\n",
       "    </tr>\n",
       "    <tr>\n",
       "      <th>1</th>\n",
       "      <td>1</td>\n",
       "      <td>2</td>\n",
       "      <td>-0.860309</td>\n",
       "    </tr>\n",
       "    <tr>\n",
       "      <th>2</th>\n",
       "      <td>2</td>\n",
       "      <td>1</td>\n",
       "      <td>-0.860309</td>\n",
       "    </tr>\n",
       "    <tr>\n",
       "      <th>3</th>\n",
       "      <td>2</td>\n",
       "      <td>2</td>\n",
       "      <td>1.000000</td>\n",
       "    </tr>\n",
       "  </tbody>\n",
       "</table>\n",
       "</div>"
      ],
      "text/plain": [
       "  ref_epitope self_epitope  correlation\n",
       "0           1            1     1.000000\n",
       "1           1            2    -0.860309\n",
       "2           2            1    -0.860309\n",
       "3           2            2     1.000000"
      ]
     },
     "execution_count": 2,
     "metadata": {},
     "output_type": "execute_result"
    }
   ],
   "source": [
    "model.mut_escape_corr(model_copy)"
   ]
  },
  {
   "cell_type": "code",
   "execution_count": 3,
   "id": "dc7821f2-8572-4e0f-ab8a-14db2d72fbe7",
   "metadata": {
    "execution": {
     "iopub.execute_input": "2022-07-17T20:47:21.593141Z",
     "iopub.status.busy": "2022-07-17T20:47:21.592901Z",
     "iopub.status.idle": "2022-07-17T20:47:21.628337Z",
     "shell.execute_reply": "2022-07-17T20:47:21.627870Z",
     "shell.execute_reply.started": "2022-07-17T20:47:21.593120Z"
    },
    "tags": []
   },
   "outputs": [
    {
     "data": {
      "text/html": [
       "<div>\n",
       "<style scoped>\n",
       "    .dataframe tbody tr th:only-of-type {\n",
       "        vertical-align: middle;\n",
       "    }\n",
       "\n",
       "    .dataframe tbody tr th {\n",
       "        vertical-align: top;\n",
       "    }\n",
       "\n",
       "    .dataframe thead th {\n",
       "        text-align: right;\n",
       "    }\n",
       "</style>\n",
       "<table border=\"1\" class=\"dataframe\">\n",
       "  <thead>\n",
       "    <tr style=\"text-align: right;\">\n",
       "      <th></th>\n",
       "      <th>ref_epitope</th>\n",
       "      <th>self_epitope</th>\n",
       "      <th>correlation</th>\n",
       "    </tr>\n",
       "  </thead>\n",
       "  <tbody>\n",
       "    <tr>\n",
       "      <th>0</th>\n",
       "      <td>1</td>\n",
       "      <td>1</td>\n",
       "      <td>-0.860309</td>\n",
       "    </tr>\n",
       "    <tr>\n",
       "      <th>1</th>\n",
       "      <td>1</td>\n",
       "      <td>2</td>\n",
       "      <td>1.000000</td>\n",
       "    </tr>\n",
       "    <tr>\n",
       "      <th>2</th>\n",
       "      <td>2</td>\n",
       "      <td>1</td>\n",
       "      <td>1.000000</td>\n",
       "    </tr>\n",
       "    <tr>\n",
       "      <th>3</th>\n",
       "      <td>2</td>\n",
       "      <td>2</td>\n",
       "      <td>-0.860309</td>\n",
       "    </tr>\n",
       "  </tbody>\n",
       "</table>\n",
       "</div>"
      ],
      "text/plain": [
       "  ref_epitope self_epitope  correlation\n",
       "0           1            1    -0.860309\n",
       "1           1            2     1.000000\n",
       "2           2            1     1.000000\n",
       "3           2            2    -0.860309"
      ]
     },
     "execution_count": 3,
     "metadata": {},
     "output_type": "execute_result"
    }
   ],
   "source": [
    "model.mut_escape_corr(model_flipped)"
   ]
  },
  {
   "cell_type": "code",
   "execution_count": 4,
   "id": "7cb53b02-4c88-4087-9ff6-cab8b174bf66",
   "metadata": {
    "execution": {
     "iopub.execute_input": "2022-07-17T20:47:21.630673Z",
     "iopub.status.busy": "2022-07-17T20:47:21.630499Z",
     "iopub.status.idle": "2022-07-17T20:47:21.665758Z",
     "shell.execute_reply": "2022-07-17T20:47:21.665293Z",
     "shell.execute_reply.started": "2022-07-17T20:47:21.630655Z"
    },
    "tags": []
   },
   "outputs": [
    {
     "data": {
      "text/html": [
       "<div>\n",
       "<style scoped>\n",
       "    .dataframe tbody tr th:only-of-type {\n",
       "        vertical-align: middle;\n",
       "    }\n",
       "\n",
       "    .dataframe tbody tr th {\n",
       "        vertical-align: top;\n",
       "    }\n",
       "\n",
       "    .dataframe thead th {\n",
       "        text-align: right;\n",
       "    }\n",
       "</style>\n",
       "<table border=\"1\" class=\"dataframe\">\n",
       "  <thead>\n",
       "    <tr style=\"text-align: right;\">\n",
       "      <th></th>\n",
       "      <th>ref_epitope</th>\n",
       "      <th>self_epitope</th>\n",
       "      <th>correlation</th>\n",
       "    </tr>\n",
       "  </thead>\n",
       "  <tbody>\n",
       "    <tr>\n",
       "      <th>0</th>\n",
       "      <td>1</td>\n",
       "      <td>1</td>\n",
       "      <td>-0.860309</td>\n",
       "    </tr>\n",
       "    <tr>\n",
       "      <th>1</th>\n",
       "      <td>1</td>\n",
       "      <td>2</td>\n",
       "      <td>1.000000</td>\n",
       "    </tr>\n",
       "    <tr>\n",
       "      <th>2</th>\n",
       "      <td>2</td>\n",
       "      <td>1</td>\n",
       "      <td>1.000000</td>\n",
       "    </tr>\n",
       "    <tr>\n",
       "      <th>3</th>\n",
       "      <td>2</td>\n",
       "      <td>2</td>\n",
       "      <td>-0.860309</td>\n",
       "    </tr>\n",
       "  </tbody>\n",
       "</table>\n",
       "</div>"
      ],
      "text/plain": [
       "  ref_epitope self_epitope  correlation\n",
       "0           1            1    -0.860309\n",
       "1           1            2     1.000000\n",
       "2           2            1     1.000000\n",
       "3           2            2    -0.860309"
      ]
     },
     "execution_count": 4,
     "metadata": {},
     "output_type": "execute_result"
    }
   ],
   "source": [
    "model.mut_escape_corr(model_flipped_diff_order)"
   ]
  },
  {
   "cell_type": "markdown",
   "id": "76c084ad-73ad-448a-a2d9-2a882724934f",
   "metadata": {},
   "source": [
    "Now harmonize epitopes.\n",
    "First, if we harmonize the identical models, nothing should change:"
   ]
  },
  {
   "cell_type": "code",
   "execution_count": 5,
   "id": "b1f728e8-4fa1-4d2b-8c0d-0cd0adaacab3",
   "metadata": {
    "execution": {
     "iopub.execute_input": "2022-07-17T20:47:21.668300Z",
     "iopub.status.busy": "2022-07-17T20:47:21.668009Z",
     "iopub.status.idle": "2022-07-17T20:47:21.741971Z",
     "shell.execute_reply": "2022-07-17T20:47:21.740961Z",
     "shell.execute_reply.started": "2022-07-17T20:47:21.668282Z"
    },
    "tags": []
   },
   "outputs": [],
   "source": [
    "assert model.epitopes == model_copy.epitopes\n",
    "assert model.epitope_colors == model_copy.epitope_colors\n",
    "assert model.activity_wt_df.equals(model_copy.activity_wt_df)\n",
    "assert model.mut_escape_df.equals(model_copy.mut_escape_df)\n",
    "\n",
    "model_copy_harmonized, _ = model_copy.epitope_harmonized_model(model)\n",
    "\n",
    "assert model.epitopes == model_copy_harmonized.epitopes\n",
    "assert model.epitope_colors == model_copy_harmonized.epitope_colors\n",
    "assert model.activity_wt_df.equals(model_copy_harmonized.activity_wt_df)\n",
    "assert model.mut_escape_df.equals(model_copy_harmonized.mut_escape_df)"
   ]
  },
  {
   "cell_type": "markdown",
   "id": "a24857d5-ddba-42ba-9158-97b8a4356fa6",
   "metadata": {
    "tags": []
   },
   "source": [
    "Now harmonize model with different epitopes in same order:"
   ]
  },
  {
   "cell_type": "code",
   "execution_count": 6,
   "id": "b442f4eb-64db-45c4-b3f7-f82a5e32b043",
   "metadata": {
    "execution": {
     "iopub.execute_input": "2022-07-17T20:47:21.745158Z",
     "iopub.status.busy": "2022-07-17T20:47:21.745016Z",
     "iopub.status.idle": "2022-07-17T20:47:21.817197Z",
     "shell.execute_reply": "2022-07-17T20:47:21.816223Z",
     "shell.execute_reply.started": "2022-07-17T20:47:21.745139Z"
    },
    "tags": []
   },
   "outputs": [],
   "source": [
    "assert model.epitopes == model_flipped.epitopes\n",
    "assert model.epitope_colors == model_flipped.epitope_colors\n",
    "assert not model.activity_wt_df.equals(model_flipped.activity_wt_df)\n",
    "assert not model.mut_escape_df.equals(model_flipped.mut_escape_df)\n",
    "\n",
    "model_flipped_harmonized, _ = model_flipped.epitope_harmonized_model(model)\n",
    "\n",
    "assert model.epitopes == model_flipped_harmonized.epitopes\n",
    "assert model.epitope_colors == model_flipped_harmonized.epitope_colors\n",
    "assert model.activity_wt_df.equals(model_flipped_harmonized.activity_wt_df)\n",
    "assert model.mut_escape_df.equals(model_flipped_harmonized.mut_escape_df)"
   ]
  },
  {
   "cell_type": "markdown",
   "id": "29ed5f08-1dea-410c-adae-5b1fd42a45e9",
   "metadata": {
    "tags": []
   },
   "source": [
    "Now harmonize model with different epitopes in same order:"
   ]
  },
  {
   "cell_type": "code",
   "execution_count": 7,
   "id": "098ad681-2a96-4e1f-ace0-083fc9b63410",
   "metadata": {
    "execution": {
     "iopub.execute_input": "2022-07-17T20:47:21.820812Z",
     "iopub.status.busy": "2022-07-17T20:47:21.820681Z",
     "iopub.status.idle": "2022-07-17T20:47:21.883917Z",
     "shell.execute_reply": "2022-07-17T20:47:21.883339Z",
     "shell.execute_reply.started": "2022-07-17T20:47:21.820793Z"
    },
    "tags": []
   },
   "outputs": [],
   "source": [
    "assert model.epitopes != model_flipped_diff_order.epitopes\n",
    "assert model.epitope_colors != model_flipped_diff_order.epitope_colors\n",
    "assert not model.activity_wt_df.equals(model_flipped_diff_order.activity_wt_df)\n",
    "assert not model.mut_escape_df.equals(model_flipped_diff_order.mut_escape_df)\n",
    "\n",
    "(\n",
    "    model_flipped_diff_order_harmonized,\n",
    "    _,\n",
    ") = model_flipped_diff_order.epitope_harmonized_model(model)\n",
    "\n",
    "assert model.epitopes == model_flipped_diff_order_harmonized.epitopes\n",
    "assert model.epitope_colors == model_flipped_diff_order_harmonized.epitope_colors\n",
    "assert model.activity_wt_df.equals(model_flipped_diff_order_harmonized.activity_wt_df)\n",
    "assert model.mut_escape_df.equals(model_flipped_diff_order_harmonized.mut_escape_df)"
   ]
  }
 ],
 "metadata": {
  "kernelspec": {
   "display_name": "Python 3 (ipykernel)",
   "language": "python",
   "name": "python3"
  },
  "language_info": {
   "codemirror_mode": {
    "name": "ipython",
    "version": 3
   },
   "file_extension": ".py",
   "mimetype": "text/x-python",
   "name": "python",
   "nbconvert_exporter": "python",
   "pygments_lexer": "ipython3",
   "version": "3.8.12"
  }
 },
 "nbformat": 4,
 "nbformat_minor": 5
}
