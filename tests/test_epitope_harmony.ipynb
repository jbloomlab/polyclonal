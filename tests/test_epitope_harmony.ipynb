{
 "cells": [
  {
   "cell_type": "markdown",
   "id": "de4e3acd-bf50-4bbf-a70f-cbac40ff7749",
   "metadata": {},
   "source": [
    "# Test epitope harmonizing"
   ]
  },
  {
   "cell_type": "code",
   "execution_count": null,
   "id": "5935c6e6-a5ae-4d73-8f80-03c7d36775f0",
   "metadata": {},
   "outputs": [],
   "source": [
    "import numpy\n",
    "\n",
    "import random\n",
    "\n",
    "import pandas as pd\n",
    "\n",
    "from polyclonal import Polyclonal\n",
    "\n",
    "import polyclonal.utils as utils\n",
    "\n",
    "activity_wt_df = pd.DataFrame({\"epitope\": [\"e1\", \"e2\"], \"activity\": [2.0, 1.0]})\n",
    "\n",
    "mut_escape_df = pd.DataFrame(\n",
    "    {\n",
    "        \"mutation\": [\n",
    "            \"M1C\",\n",
    "            \"M1C\",\n",
    "            \"G2A\",\n",
    "            \"G2A\",\n",
    "            \"A4K\",\n",
    "            \"A4K\",\n",
    "            \"A4L\",\n",
    "            \"A4L\",\n",
    "            \"A4Q\",\n",
    "            \"A4Q\",\n",
    "        ],\n",
    "        \"epitope\": [\"e1\", \"e2\", \"e1\", \"e2\", \"e1\", \"e2\", \"e1\", \"e2\", \"e1\", \"e2\"],\n",
    "        \"escape\": [2.0, 0.0, 3.0, 0.0, 0.0, 2.5, 0.0, 1.5, 0.0, 3.5],\n",
    "    }\n",
    ")\n",
    "\n",
    "polyclonal_sim = Polyclonal(activity_wt_df=activity_wt_df, mut_escape_df=mut_escape_df)\n",
    "\n",
    "variants_df = pd.DataFrame.from_records(\n",
    "    [\n",
    "        (\"AA\", \"\"),\n",
    "        (\"AC\", \"M1C\"),\n",
    "        (\"AG\", \"G2A\"),\n",
    "        (\"AT\", \"A4K\"),\n",
    "        (\"TA\", \"A4L\"),\n",
    "        (\"GA\", \"A4Q\"),\n",
    "        (\"CA\", \"M1C G2A\"),\n",
    "        (\"CG\", \"M1C A4K\"),\n",
    "        (\"TT\", \"M1C A4L\"),\n",
    "        (\"GT\", \"M1C A4Q\"),\n",
    "        (\"CC\", \"G2A A4K\"),\n",
    "        (\"TC\", \"G2A A4L\"),\n",
    "        (\"GG\", \"G2A A4Q\"),\n",
    "        (\"CT\", \"M1C G2A A4K\"),\n",
    "        (\"TG\", \"M1C G2A A4L\"),\n",
    "        (\"GA\", \"M1C G2A A4Q\"),\n",
    "    ],\n",
    "    columns=[\"barcode\", \"aa_substitutions\"],\n",
    ")\n",
    "\n",
    "escape_probs = polyclonal_sim.prob_escape(\n",
    "    variants_df=variants_df, concentrations=[1.0, 2.0, 4.0]\n",
    ")\n",
    "\n",
    "data_to_fit = escape_probs.rename(columns={\"predicted_prob_escape\": \"prob_escape\"})"
   ]
  },
  {
   "cell_type": "code",
   "execution_count": null,
   "id": "e17d0c08-27d2-4cc9-bbd4-02abcd14d7c2",
   "metadata": {},
   "outputs": [],
   "source": [
    "n_eps = 2\n",
    "poly_one = Polyclonal(data_to_fit=data_to_fit, n_epitopes=n_eps, \n",
    "                      activity_wt_df=None, site_escape_df=None)\n",
    "poly_two = Polyclonal(data_to_fit=data_to_fit, n_epitopes=n_eps, \n",
    "                      activity_wt_df=None, site_escape_df=None)"
   ]
  },
  {
   "cell_type": "code",
   "execution_count": null,
   "id": "f6342877-1097-44e2-b55a-efdde6687c52",
   "metadata": {},
   "outputs": [],
   "source": [
    "random.seed(1)\n",
    "poly_one.fit(fit_site_level_first=False)\n",
    "poly_two.fit(fit_site_level_first=False)"
   ]
  },
  {
   "cell_type": "markdown",
   "id": "732f808e-be0a-4434-aa8e-f3b54896c2a3",
   "metadata": {},
   "source": [
    "### Tests"
   ]
  },
  {
   "cell_type": "markdown",
   "id": "9092e1f8-a762-4d54-9ef4-45fddea18b4c",
   "metadata": {},
   "source": [
    "The following tests assess if the helper methods for epitope harmonizing all work when we have two identical models (1s in correlation matrix should be on diagonal):"
   ]
  },
  {
   "cell_type": "code",
   "execution_count": null,
   "id": "bcee9d95-a18f-4885-92bf-f14b569a72ab",
   "metadata": {},
   "outputs": [],
   "source": [
    "corr_df = poly_two._make_correlation_matrix(poly_one)\n",
    "assert len(corr_df) == n_eps**2\n",
    "assert corr_df.r2.between(-1,1).all()\n",
    "corr_df"
   ]
  },
  {
   "cell_type": "code",
   "execution_count": null,
   "id": "e98d2a2c-94ea-4416-884e-608c2cdf81c2",
   "metadata": {},
   "outputs": [],
   "source": [
    "# This dataframe should return the following mapping matrix:\n",
    "true_map = numpy.array([[1, 0], \n",
    "                        [0, 1]])\n",
    "test_map = poly_two._create_mapping_matrix(corr_df)\n",
    "assert numpy.array_equal(true_map, test_map)"
   ]
  },
  {
   "cell_type": "markdown",
   "id": "9d9191a4-2e73-44f6-880c-b01f10c024d7",
   "metadata": {},
   "source": [
    "Now, we will create an example where we train two models that learn the same parameters but flip the epitopes (i.e., I'm just going to flip the values in `mut_escape_df` from one model, and re-create polyclonal objects:"
   ]
  },
  {
   "cell_type": "code",
   "execution_count": null,
   "id": "0207ee00-4d5a-4508-84d3-adff482e65b3",
   "metadata": {},
   "outputs": [],
   "source": [
    "# Create a test example where two models \"flipped\" the epitopes\n",
    "one_df = poly_one.mut_escape_df\n",
    "two_df = poly_two.mut_escape_df\n",
    "\n",
    "two_df.escape.iloc[5:10] = one_df.escape.iloc[0:5]\n",
    "two_df.escape.iloc[0:5] = one_df.escape.iloc[5:10]\n",
    "\n",
    "# Create polyclonal objects (can't seem to edit `mut_escape_df` bc it's a property)\n",
    "original_poly = Polyclonal(mut_escape_df=one_df, \n",
    "                           activity_wt_df=poly_one.activity_wt_df, \n",
    "                           data_to_fit=None)\n",
    "flipped_poly = Polyclonal(mut_escape_df=two_df, \n",
    "                          activity_wt_df=poly_two.activity_wt_df,\n",
    "                          data_to_fit=None)"
   ]
  },
  {
   "cell_type": "markdown",
   "id": "d2de6cb9-fdf1-42f3-9977-17f7eb1945d0",
   "metadata": {},
   "source": [
    "Another set of tests on the helper methods, this time, 1s should be on the \"off-diagonal\""
   ]
  },
  {
   "cell_type": "code",
   "execution_count": null,
   "id": "816a369a-22e9-4194-8599-fb7f6dbefafe",
   "metadata": {},
   "outputs": [],
   "source": [
    "corr_df2 = flipped_poly._make_correlation_matrix(original_poly)\n",
    "assert len(corr_df2) == n_eps**2\n",
    "assert corr_df2.r2.between(-1,1).all()\n",
    "corr_df2"
   ]
  },
  {
   "cell_type": "code",
   "execution_count": null,
   "id": "c89f357f-f9dd-4431-925e-46ca3cac0f8f",
   "metadata": {},
   "outputs": [],
   "source": [
    "true_map = numpy.array([[0, 1], \n",
    "                        [1, 0]])\n",
    "test_map = flipped_poly._create_mapping_matrix(corr_df2)\n",
    "assert numpy.array_equal(true_map, test_map)\n",
    "assert numpy.all(test_map.sum(axis=1) == 1)"
   ]
  },
  {
   "cell_type": "markdown",
   "id": "52de1e66-e45e-4163-b247-1b7b7d31f9bd",
   "metadata": {},
   "source": [
    "This test is to ensure the mapping dictionary creates the epitope pairs we intend it to"
   ]
  },
  {
   "cell_type": "code",
   "execution_count": null,
   "id": "f1344ba7-3ddc-42c4-bb83-571292a29972",
   "metadata": {},
   "outputs": [],
   "source": [
    "# Test make_mapping_dict\n",
    "true_dict = {'1':'2', '2':'1'}\n",
    "flipped_poly._make_mapping_dict(test_map, original_poly)\n",
    "assert true_dict == flipped_poly._mapping_dict"
   ]
  },
  {
   "cell_type": "markdown",
   "id": "ba79ca4f-779b-4fd3-aa01-804243830d69",
   "metadata": {},
   "source": [
    "Now we harmonize the flipped object with the original one -- since these are the exact same dataframes but with flipped epitopes, the `aligned_mut_escape_df` should match the original's `mut_escape_df`.\n",
    "\n",
    "We can also do the reverse:"
   ]
  },
  {
   "cell_type": "code",
   "execution_count": null,
   "id": "f9b42ab2-a604-4621-8a59-6bff620d4f6c",
   "metadata": {},
   "outputs": [],
   "source": [
    "flipped_poly.harmonize_epitopes_with(original_poly)\n",
    "assert flipped_poly.aligned_mut_escape_df.equals(original_poly.mut_escape_df)"
   ]
  },
  {
   "cell_type": "code",
   "execution_count": null,
   "id": "338a46fd-cbbe-411c-a58c-cac931e3e8c9",
   "metadata": {},
   "outputs": [],
   "source": [
    "original_poly.harmonize_epitopes_with(flipped_poly)\n",
    "assert original_poly.aligned_mut_escape_df.equals(flipped_poly.mut_escape_df)"
   ]
  }
 ],
 "metadata": {
  "kernelspec": {
   "display_name": "Python 3 (ipykernel)",
   "language": "python",
   "name": "python3"
  },
  "language_info": {
   "codemirror_mode": {
    "name": "ipython",
    "version": 3
   },
   "file_extension": ".py",
   "mimetype": "text/x-python",
   "name": "python",
   "nbconvert_exporter": "python",
   "pygments_lexer": "ipython3",
   "version": "3.8.12"
  }
 },
 "nbformat": 4,
 "nbformat_minor": 5
}
