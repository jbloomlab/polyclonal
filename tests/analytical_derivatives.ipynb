{
 "cells": [
  {
   "cell_type": "markdown",
   "id": "672618ef-e8b3-40a1-9cef-70b67c0854d1",
   "metadata": {},
   "source": [
    "# Testing of analytical derivatives\n",
    "\n",
    "Test that some of the analytical derivatives derived here are correct.\n",
    "\n",
    "First, test that for\n",
    "$$\n",
    "U = \\frac{1 - t}{1 + \\left(c e^{-\\phi}\\right)^n} + t\n",
    "$$\n",
    "it is in fact that the case that\n",
    "$$\n",
    "\\frac{\\partial U}{\\partial \\phi} = \\frac{n}{1 - t}\\left(1 - U\\right)\\left(U - t\\right)\n",
    "$$"
   ]
  },
  {
   "cell_type": "code",
   "execution_count": 1,
   "id": "55204dbf-c3e2-4339-93e4-fc11d78b8863",
   "metadata": {
    "execution": {
     "iopub.execute_input": "2023-02-13T21:41:47.073087Z",
     "iopub.status.busy": "2023-02-13T21:41:47.072593Z",
     "iopub.status.idle": "2023-02-13T21:41:51.374754Z",
     "shell.execute_reply": "2023-02-13T21:41:51.373931Z",
     "shell.execute_reply.started": "2023-02-13T21:41:47.073063Z"
    },
    "tags": []
   },
   "outputs": [],
   "source": [
    "import numpy\n",
    "\n",
    "import scipy.optimize\n",
    "\n",
    "\n",
    "def U(phi, c, t, n):\n",
    "    return (1 - t) / (1 + (c * numpy.exp(-phi)) ** n) + t\n",
    "\n",
    "\n",
    "def dU_dphi(phi, c, t, n):\n",
    "    u = U(phi, c, t, n)\n",
    "    return n / (1 - t) * (1 - u) * (u - t)\n",
    "\n",
    "\n",
    "for phi in [-1, 0, 1]:\n",
    "    for c in [0.5, 1, 2]:\n",
    "        for t in [0, 0.01, 0.1]:\n",
    "            for n in [0.5, 1, 2]:\n",
    "                err = scipy.optimize.check_grad(\n",
    "                    U,\n",
    "                    dU_dphi,\n",
    "                    numpy.array([phi]),\n",
    "                    c,\n",
    "                    t,\n",
    "                    n,\n",
    "                )\n",
    "                if err > 5e-8:\n",
    "                    raise ValueError(f\"{err=}, {phi=}, {c=}, {t=}, {n=}\")"
   ]
  },
  {
   "cell_type": "markdown",
   "id": "77d71531-79e6-4d2e-987a-5c86ac37b717",
   "metadata": {},
   "source": [
    "Now test that:\n",
    "$$\n",
    "\\frac{\\partial U}{\\partial n}\n",
    "=\n",
    "\\frac{\\left(\\phi - \\ln c\\right)}{\\left(1 - t\\right)} \\left(1 - U\\right)\\left(U - t\\right)\n",
    "$$"
   ]
  },
  {
   "cell_type": "code",
   "execution_count": 2,
   "id": "17e4fff9-2af7-454c-ad00-a2ac969d863f",
   "metadata": {
    "execution": {
     "iopub.execute_input": "2023-02-13T21:41:51.378377Z",
     "iopub.status.busy": "2023-02-13T21:41:51.378103Z",
     "iopub.status.idle": "2023-02-13T21:41:51.395497Z",
     "shell.execute_reply": "2023-02-13T21:41:51.394808Z",
     "shell.execute_reply.started": "2023-02-13T21:41:51.378355Z"
    },
    "tags": []
   },
   "outputs": [],
   "source": [
    "def U(n, phi, c, t):\n",
    "    return (1 - t) / (1 + (c * numpy.exp(-phi)) ** n) + t\n",
    "\n",
    "\n",
    "def dU_dn(n, phi, c, t):\n",
    "    u = U(n, phi, c, t)\n",
    "    return (phi - numpy.log(c)) / (1 - t) * (1 - u) * (u - t)\n",
    "\n",
    "\n",
    "for phi in [-1, 0, 1]:\n",
    "    for c in [0.5, 1, 2]:\n",
    "        for t in [0, 0.01, 0.1]:\n",
    "            for n in [0.5, 1, 2]:\n",
    "                err = scipy.optimize.check_grad(\n",
    "                    U,\n",
    "                    dU_dn,\n",
    "                    numpy.array([n]),\n",
    "                    phi,\n",
    "                    c,\n",
    "                    t,\n",
    "                )\n",
    "                if err > 5e-8:\n",
    "                    raise ValueError(f\"{err=}, {phi=}, {c=}, {t=}, {n=}\")"
   ]
  },
  {
   "cell_type": "markdown",
   "id": "53dc3cff-189a-490d-bb21-d4382ca465f5",
   "metadata": {},
   "source": [
    "Now test that:\n",
    "$$\n",
    "\\frac{\\partial U}{\\partial t}\n",
    "=\n",
    "\\frac{1 - U}{1 - t}\n",
    "$$"
   ]
  },
  {
   "cell_type": "code",
   "execution_count": 3,
   "id": "39c708d4-6625-43d3-b40c-0d1329affbab",
   "metadata": {
    "execution": {
     "iopub.execute_input": "2023-02-13T21:41:51.398337Z",
     "iopub.status.busy": "2023-02-13T21:41:51.398157Z",
     "iopub.status.idle": "2023-02-13T21:41:51.422410Z",
     "shell.execute_reply": "2023-02-13T21:41:51.420950Z",
     "shell.execute_reply.started": "2023-02-13T21:41:51.398319Z"
    },
    "tags": []
   },
   "outputs": [],
   "source": [
    "def U(t, phi, n, c):\n",
    "    return (1 - t) / (1 + (c * numpy.exp(-phi)) ** n) + t\n",
    "\n",
    "\n",
    "def dU_dt(t, phi, n, c):\n",
    "    u = U(t, phi, n, c)\n",
    "    return (1 - u) / (1 - t)\n",
    "\n",
    "\n",
    "for phi in [-1, 0, 1]:\n",
    "    for c in [0.5, 1, 2]:\n",
    "        for t in [0, 0.01, 0.1]:\n",
    "            for n in [0.5, 1, 2]:\n",
    "                err = scipy.optimize.check_grad(\n",
    "                    U,\n",
    "                    dU_dt,\n",
    "                    numpy.array([t]),\n",
    "                    phi,\n",
    "                    n,\n",
    "                    c,\n",
    "                )\n",
    "                if err > 5e-8:\n",
    "                    raise ValueError(f\"{err=}, {phi=}, {c=}, {t=}, {n=}\")"
   ]
  },
  {
   "cell_type": "code",
   "execution_count": null,
   "id": "63e1409a-4fcd-464d-aa17-e7c84c34d2b9",
   "metadata": {},
   "outputs": [],
   "source": []
  }
 ],
 "metadata": {
  "kernelspec": {
   "display_name": "Python 3 (ipykernel)",
   "language": "python",
   "name": "python3"
  },
  "language_info": {
   "codemirror_mode": {
    "name": "ipython",
    "version": 3
   },
   "file_extension": ".py",
   "mimetype": "text/x-python",
   "name": "python",
   "nbconvert_exporter": "python",
   "pygments_lexer": "ipython3",
   "version": "3.11.0"
  }
 },
 "nbformat": 4,
 "nbformat_minor": 5
}
