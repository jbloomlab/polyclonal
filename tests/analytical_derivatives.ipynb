{
 "cells": [
  {
   "cell_type": "markdown",
   "id": "672618ef-e8b3-40a1-9cef-70b67c0854d1",
   "metadata": {},
   "source": [
    "# Testing of analytical derivatives\n",
    "\n",
    "Test that some of the analytical derivatives derived here are correct.\n",
    "\n",
    "First, test that for\n",
    "$$\n",
    "U = \\frac{1 - t}{1 + \\left(c e^{-\\phi}\\right)^n} + t\n",
    "$$\n",
    "it is in fact that the case that\n",
    "$$\n",
    "\\frac{\\partial U}{\\partial \\phi} = \\frac{n}{1 - t}\\left(1 - U\\right)\\left(U - t\\right)\n",
    "$$"
   ]
  },
  {
   "cell_type": "code",
   "execution_count": 1,
   "id": "55204dbf-c3e2-4339-93e4-fc11d78b8863",
   "metadata": {
    "execution": {
     "iopub.execute_input": "2023-02-13T14:45:52.636706Z",
     "iopub.status.busy": "2023-02-13T14:45:52.636446Z",
     "iopub.status.idle": "2023-02-13T14:45:53.275274Z",
     "shell.execute_reply": "2023-02-13T14:45:53.274433Z",
     "shell.execute_reply.started": "2023-02-13T14:45:52.636680Z"
    },
    "tags": []
   },
   "outputs": [],
   "source": [
    "import numpy\n",
    "\n",
    "import scipy.optimize\n",
    "\n",
    "def U(phi, c, t, n):\n",
    "    return (1 - t) / (1 + (c * numpy.exp(-phi))**n) + t\n",
    "\n",
    "def dU_dphi(phi, c, t, n):\n",
    "    u = U(phi, c, t, n)\n",
    "    return n / (1 - t) * (1 - u) * (u - t) \n",
    "\n",
    "for phi in [-1, 0, 1]:\n",
    "    for c in [0.5, 1, 2]:\n",
    "        for t in [0, 0.01, 0.1]:\n",
    "            for n in [0.5, 1, 2]:\n",
    "                err = scipy.optimize.check_grad(\n",
    "                    U,\n",
    "                    dU_dphi,\n",
    "                    numpy.array([phi]),\n",
    "                    c,\n",
    "                    t,\n",
    "                    n,\n",
    "                )\n",
    "                if err > 5e-8:\n",
    "                    raise ValueError(f\"{err=}, {phi=}, {c=}, {t=}, {n=}\")"
   ]
  },
  {
   "cell_type": "code",
   "execution_count": null,
   "id": "81b2ea91-3bec-42b0-b1e5-d6b610479706",
   "metadata": {},
   "outputs": [],
   "source": []
  }
 ],
 "metadata": {
  "kernelspec": {
   "display_name": "Python 3 (ipykernel)",
   "language": "python",
   "name": "python3"
  },
  "language_info": {
   "codemirror_mode": {
    "name": "ipython",
    "version": 3
   },
   "file_extension": ".py",
   "mimetype": "text/x-python",
   "name": "python",
   "nbconvert_exporter": "python",
   "pygments_lexer": "ipython3",
   "version": "3.11.0"
  }
 },
 "nbformat": 4,
 "nbformat_minor": 5
}
