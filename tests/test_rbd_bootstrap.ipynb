{
 "cells": [
  {
   "cell_type": "markdown",
   "id": "c36de04a-7941-4b08-894f-1544f56eba13",
   "metadata": {},
   "source": [
    "# Bootstrapping the simulated RBD dataset"
   ]
  },
  {
   "cell_type": "markdown",
   "id": "d2dcddd6-723e-4fac-8e6f-bc57b7c0d955",
   "metadata": {},
   "source": [
    "## Imports and setup"
   ]
  },
  {
   "cell_type": "code",
   "execution_count": 1,
   "id": "e243e290-8060-453d-ac3f-cb071681a22b",
   "metadata": {},
   "outputs": [
    {
     "data": {
      "text/html": [
       "<div>\n",
       "<style scoped>\n",
       "    .dataframe tbody tr th:only-of-type {\n",
       "        vertical-align: middle;\n",
       "    }\n",
       "\n",
       "    .dataframe tbody tr th {\n",
       "        vertical-align: top;\n",
       "    }\n",
       "\n",
       "    .dataframe thead th {\n",
       "        text-align: right;\n",
       "    }\n",
       "</style>\n",
       "<table border=\"1\" class=\"dataframe\">\n",
       "  <thead>\n",
       "    <tr style=\"text-align: right;\">\n",
       "      <th></th>\n",
       "      <th>library</th>\n",
       "      <th>aa_substitutions</th>\n",
       "      <th>concentration</th>\n",
       "      <th>prob_escape</th>\n",
       "      <th>IC90</th>\n",
       "    </tr>\n",
       "  </thead>\n",
       "  <tbody>\n",
       "    <tr>\n",
       "      <th>0</th>\n",
       "      <td>avg2muts</td>\n",
       "      <td></td>\n",
       "      <td>0.25</td>\n",
       "      <td>0.05044</td>\n",
       "      <td>0.1128</td>\n",
       "    </tr>\n",
       "    <tr>\n",
       "      <th>1</th>\n",
       "      <td>avg2muts</td>\n",
       "      <td></td>\n",
       "      <td>0.25</td>\n",
       "      <td>0.14310</td>\n",
       "      <td>0.1128</td>\n",
       "    </tr>\n",
       "    <tr>\n",
       "      <th>2</th>\n",
       "      <td>avg2muts</td>\n",
       "      <td></td>\n",
       "      <td>0.25</td>\n",
       "      <td>0.05452</td>\n",
       "      <td>0.1128</td>\n",
       "    </tr>\n",
       "    <tr>\n",
       "      <th>3</th>\n",
       "      <td>avg2muts</td>\n",
       "      <td></td>\n",
       "      <td>0.25</td>\n",
       "      <td>0.08473</td>\n",
       "      <td>0.1128</td>\n",
       "    </tr>\n",
       "    <tr>\n",
       "      <th>4</th>\n",
       "      <td>avg2muts</td>\n",
       "      <td></td>\n",
       "      <td>0.25</td>\n",
       "      <td>0.04174</td>\n",
       "      <td>0.1128</td>\n",
       "    </tr>\n",
       "  </tbody>\n",
       "</table>\n",
       "</div>"
      ],
      "text/plain": [
       "    library aa_substitutions  concentration  prob_escape    IC90\n",
       "0  avg2muts                            0.25      0.05044  0.1128\n",
       "1  avg2muts                            0.25      0.14310  0.1128\n",
       "2  avg2muts                            0.25      0.05452  0.1128\n",
       "3  avg2muts                            0.25      0.08473  0.1128\n",
       "4  avg2muts                            0.25      0.04174  0.1128"
      ]
     },
     "execution_count": 1,
     "metadata": {},
     "output_type": "execute_result"
    }
   ],
   "source": [
    "import pandas as pd\n",
    "from polyclonal import Polyclonal, PolyclonalCollection\n",
    "import polyclonal.polyclonal_collection as boot\n",
    "import numpy as np\n",
    "\n",
    "rbd_data = (\n",
    "    pd.read_csv(\"../notebooks/RBD_variants_escape_noisy.csv\", na_filter=None)\n",
    "    .query('library == \"avg2muts\"')\n",
    "    .query(\"concentration in [0.25, 1, 4]\")\n",
    "    .reset_index(drop=True)\n",
    ")\n",
    "\n",
    "rbd_data.head()"
   ]
  },
  {
   "cell_type": "markdown",
   "id": "7aafd13b-355a-4319-9772-31f263d319c3",
   "metadata": {},
   "source": [
    "## Create and fit a `root_polyclonal` model to RBD"
   ]
  },
  {
   "cell_type": "code",
   "execution_count": 2,
   "id": "bc883f0a-0503-4ae7-a001-ee765945b241",
   "metadata": {},
   "outputs": [],
   "source": [
    "# Create a root polyclonal object\n",
    "rbd_poly = Polyclonal(\n",
    "    data_to_fit=rbd_data,\n",
    "    activity_wt_df=pd.DataFrame.from_records(\n",
    "        [\n",
    "            (\"1\", 1.0),\n",
    "            (\"2\", 3.0),\n",
    "            (\"3\", 2.0),\n",
    "        ],\n",
    "        columns=[\"epitope\", \"activity\"],\n",
    "    ),\n",
    "    site_escape_df=pd.DataFrame.from_records(\n",
    "        [\n",
    "            (\"1\", 417, 10.0),\n",
    "            (\"2\", 484, 10.0),\n",
    "            (\"3\", 444, 10.0),\n",
    "        ],\n",
    "        columns=[\"epitope\", \"site\", \"escape\"],\n",
    "    ),\n",
    "    data_mut_escape_overlap=\"fill_to_data\",\n",
    ")"
   ]
  },
  {
   "cell_type": "code",
   "execution_count": 3,
   "id": "a8944489-55bc-434a-905c-4b0c74c6d57d",
   "metadata": {},
   "outputs": [
    {
     "name": "stdout",
     "output_type": "stream",
     "text": [
      "# First fitting site-level model.\n",
      "# Starting optimization of 522 parameters at Thu Mar 10 16:09:29 2022.\n",
      "       step   time_sec       loss   fit_loss reg_escape  regspread\n",
      "          0   0.059647     9144.4     9144.2    0.29701          0\n",
      "        100     6.8575     1336.8     1333.2     3.5443          0\n",
      "        200     13.214     1313.2     1308.8     4.3872          0\n",
      "        300     19.418       1305     1299.8     5.1347          0\n",
      "        400     25.149     1301.8     1296.2     5.6246          0\n",
      "        500     31.024     1298.4     1292.5     5.8941          0\n",
      "        600     36.845     1297.8     1291.7     6.0372          0\n",
      "        700     43.025     1296.9     1290.4     6.5236          0\n",
      "        800     48.887     1296.4     1289.8     6.6654          0\n",
      "        900     54.739     1296.2     1289.4      6.759          0\n",
      "       1000     60.581     1295.7     1288.8     6.8687          0\n",
      "       1100     66.655     1295.4     1288.6      6.848          0\n",
      "       1200     72.483     1295.1     1288.2     6.8787          0\n",
      "       1300     78.424       1295     1288.1     6.8933          0\n",
      "       1327     79.909       1295     1288.1     6.9079          0\n",
      "# Successfully finished at Thu Mar 10 16:10:49 2022.\n",
      "# Starting optimization of 5799 parameters at Thu Mar 10 16:10:49 2022.\n",
      "       step   time_sec       loss   fit_loss reg_escape  regspread\n",
      "          0   0.067865     1638.9     1552.6     86.331 2.0049e-29\n",
      "        100     7.3919      840.1     742.48     86.054     11.569\n",
      "        200     15.002        823      722.8     84.969     15.233\n",
      "        300     22.166     814.93     715.01     81.327     18.598\n",
      "        400     29.479     808.61     713.03     77.361     18.217\n",
      "        500     36.824     797.44     707.43     71.416     18.591\n",
      "        600      44.15      787.5      704.1     63.484     19.917\n",
      "        700      51.61     779.41     701.56     57.656     20.192\n",
      "        800     58.918     773.29     700.96     52.552     19.778\n",
      "        900     65.999     767.01     698.89     47.897     20.223\n",
      "       1000     72.806     763.29     697.22     45.818     20.245\n",
      "       1100     80.165     757.65      693.1     43.495     21.052\n",
      "       1200     87.648     752.35     687.89     42.401     22.058\n",
      "       1300     95.004     746.77     680.45     42.599     23.722\n",
      "       1400     102.47     741.09     673.02     43.167      24.91\n",
      "       1500     109.71     735.39      664.1     44.328      26.96\n",
      "       1600     117.13     728.43        654     45.503     28.927\n",
      "       1700     124.24     723.22     645.61     46.896     30.714\n",
      "       1800     131.45     713.76     632.49     48.549     32.715\n",
      "       1900     138.59     696.67     611.33     50.353     34.985\n",
      "       2000     145.73     681.55     596.14     50.859     34.555\n",
      "       2100     152.99     670.83     583.91     51.702     35.218\n",
      "       2200     160.13     666.81     579.38     52.268     35.168\n",
      "       2300     167.19      665.7     578.31     52.536     34.853\n",
      "       2400     174.48     665.33     577.91     52.736     34.683\n",
      "       2500     181.52     665.16     577.76     52.881     34.528\n",
      "       2600     188.47     665.08     577.66      52.95     34.467\n",
      "       2634     190.99     665.06     577.64     52.976     34.452\n",
      "# Successfully finished at Thu Mar 10 16:14:00 2022.\n"
     ]
    }
   ],
   "source": [
    "# Fit model\n",
    "_ = rbd_poly.fit(logfreq=100)"
   ]
  },
  {
   "cell_type": "markdown",
   "id": "5f1f752f-8846-4fb5-8c75-3767024cf241",
   "metadata": {},
   "source": [
    "## Create and fit different `PolyclonalCollection` objects"
   ]
  },
  {
   "cell_type": "code",
   "execution_count": 4,
   "id": "4388c779-0811-426e-a095-8e7d1a08eff2",
   "metadata": {},
   "outputs": [],
   "source": [
    "# Now create two different polyclonal collection objects\n",
    "n_samps = 3\n",
    "n_threads = 32\n",
    "rbd_pc_a = PolyclonalCollection(\n",
    "    root_polyclonal=rbd_poly,\n",
    "    n_bootstrap_samples=n_samps,\n",
    "    n_threads=n_threads,\n",
    "    seed=0,\n",
    ")\n",
    "rbd_pc_b = PolyclonalCollection(\n",
    "    root_polyclonal=rbd_poly,\n",
    "    n_bootstrap_samples=n_samps,\n",
    "    n_threads=n_threads,\n",
    "    seed=10,\n",
    ")\n",
    "rbd_pc_a_copy = PolyclonalCollection(\n",
    "    root_polyclonal=rbd_poly,\n",
    "    n_bootstrap_samples=n_samps,\n",
    "    n_threads=n_threads,\n",
    "    seed=0,\n",
    ")\n",
    "rbd_pc_b_copy = PolyclonalCollection(\n",
    "    root_polyclonal=rbd_poly,\n",
    "    n_bootstrap_samples=n_samps,\n",
    "    n_threads=n_threads * 2,\n",
    "    seed=10,\n",
    ")"
   ]
  },
  {
   "cell_type": "code",
   "execution_count": 5,
   "id": "b39e72fa-de35-4daa-befb-a267b30545e7",
   "metadata": {},
   "outputs": [],
   "source": [
    "rbd_pc_a.fit_models(fit_site_level_first=False)\n",
    "rbd_pc_b.fit_models(fit_site_level_first=False)"
   ]
  },
  {
   "cell_type": "code",
   "execution_count": 6,
   "id": "3dc642de-0a87-4303-9f0b-de5364da1534",
   "metadata": {},
   "outputs": [],
   "source": [
    "rbd_pc_a_copy.fit_models(fit_site_level_first=False)\n",
    "rbd_pc_b_copy.fit_models(fit_site_level_first=False)"
   ]
  },
  {
   "cell_type": "markdown",
   "id": "7e2577da-965f-43af-b68e-05e67c91f64d",
   "metadata": {},
   "source": [
    "## Tests to see if seed is respected (different results)"
   ]
  },
  {
   "cell_type": "markdown",
   "id": "f1d21a13-1718-44c4-92a2-f75a476d4b24",
   "metadata": {},
   "source": [
    "The test for mutation frequency in the mutation frequency dictionary is not suitable here.\n",
    "With so many multi-variants, we may not come across situations where a mutation isn't sampled by at least one model.\n",
    "For our seed tests, I will just make sure we get different summary stats for each seed."
   ]
  },
  {
   "cell_type": "code",
   "execution_count": 7,
   "id": "2a301764-d7bb-4df4-8d32-17edc3087cdd",
   "metadata": {},
   "outputs": [],
   "source": [
    "(\n",
    "    rbd_pc_a_escape_dict,\n",
    "    rbd_pc_a_activity_wt_dict,\n",
    ") = rbd_pc_a.summarize_bootstrapped_params()\n",
    "(\n",
    "    rbd_pc_b_escape_dict,\n",
    "    rbd_pc_b_activity_wt_dict,\n",
    ") = rbd_pc_b.summarize_bootstrapped_params()\n",
    "(\n",
    "    rbd_pc_a_copy_escape_dict,\n",
    "    rbd_pc_a_copy_activity_wt_dict,\n",
    ") = rbd_pc_a_copy.summarize_bootstrapped_params()\n",
    "(\n",
    "    rbd_pc_b_copy_escape_dict,\n",
    "    rbd_pc_b_copy_activity_wt_dict,\n",
    ") = rbd_pc_b_copy.summarize_bootstrapped_params()"
   ]
  },
  {
   "cell_type": "code",
   "execution_count": 8,
   "id": "9b360b1f-1498-4c87-bfbf-89f135254da1",
   "metadata": {},
   "outputs": [],
   "source": [
    "# Test to see if inferreed params are the same with the same seed.\n",
    "assert rbd_pc_a_escape_dict[\"mean\"].equals(rbd_pc_a_copy_escape_dict[\"mean\"])\n",
    "assert rbd_pc_a_escape_dict[\"median\"].equals(rbd_pc_a_copy_escape_dict[\"median\"])\n",
    "assert rbd_pc_a_escape_dict[\"std\"].equals(rbd_pc_a_copy_escape_dict[\"std\"])"
   ]
  },
  {
   "cell_type": "code",
   "execution_count": 9,
   "id": "9570b418-aedb-411a-86c6-7ff84767c1dc",
   "metadata": {},
   "outputs": [],
   "source": [
    "assert rbd_pc_a_activity_wt_dict[\"mean\"].equals(rbd_pc_a_copy_activity_wt_dict[\"mean\"])\n",
    "assert rbd_pc_a_activity_wt_dict[\"median\"].equals(\n",
    "    rbd_pc_a_copy_activity_wt_dict[\"median\"]\n",
    ")\n",
    "assert rbd_pc_a_activity_wt_dict[\"std\"].equals(rbd_pc_a_copy_activity_wt_dict[\"std\"])"
   ]
  },
  {
   "cell_type": "code",
   "execution_count": 10,
   "id": "3d667494-47d9-4cb7-9913-30d256dbedb9",
   "metadata": {},
   "outputs": [],
   "source": [
    "# Test to see if inferred params are the same with same seed and different thread count\n",
    "assert rbd_pc_b_escape_dict[\"mean\"].equals(rbd_pc_b_copy_escape_dict[\"mean\"])\n",
    "assert rbd_pc_b_escape_dict[\"median\"].equals(rbd_pc_b_copy_escape_dict[\"median\"])\n",
    "assert rbd_pc_b_escape_dict[\"std\"].equals(rbd_pc_b_copy_escape_dict[\"std\"])\n",
    "\n",
    "assert rbd_pc_b_activity_wt_dict[\"mean\"].equals(rbd_pc_b_copy_activity_wt_dict[\"mean\"])\n",
    "assert rbd_pc_b_activity_wt_dict[\"median\"].equals(\n",
    "    rbd_pc_b_copy_activity_wt_dict[\"median\"]\n",
    ")\n",
    "assert rbd_pc_b_activity_wt_dict[\"std\"].equals(rbd_pc_b_copy_activity_wt_dict[\"std\"])"
   ]
  },
  {
   "cell_type": "code",
   "execution_count": 11,
   "id": "579172d6-1be5-4b31-9e22-66b886edebe2",
   "metadata": {},
   "outputs": [],
   "source": [
    "# Make sure inferred params are different\n",
    "assert not rbd_pc_a_escape_dict[\"mean\"].equals(rbd_pc_b_escape_dict[\"mean\"])\n",
    "assert not rbd_pc_a_escape_dict[\"median\"].equals(rbd_pc_b_escape_dict[\"median\"])\n",
    "assert not rbd_pc_a_escape_dict[\"std\"].equals(rbd_pc_b_escape_dict[\"std\"])"
   ]
  },
  {
   "cell_type": "code",
   "execution_count": 12,
   "id": "80424a67-9557-4335-ba3a-0de1337b2f0f",
   "metadata": {},
   "outputs": [],
   "source": [
    "assert not rbd_pc_a_activity_wt_dict[\"mean\"].equals(rbd_pc_b_activity_wt_dict[\"mean\"])\n",
    "assert not rbd_pc_a_activity_wt_dict[\"median\"].equals(\n",
    "    rbd_pc_b_activity_wt_dict[\"median\"]\n",
    ")\n",
    "assert not rbd_pc_a_activity_wt_dict[\"std\"].equals(rbd_pc_b_activity_wt_dict[\"std\"])"
   ]
  },
  {
   "cell_type": "code",
   "execution_count": 13,
   "id": "a478c4e3-568e-4fe7-9768-c9762b1da9bb",
   "metadata": {},
   "outputs": [],
   "source": [
    "test_df = rbd_data.sample(n=200, random_state=0)\n",
    "pc_a_preds = pd.concat(rbd_pc_a.make_predictions(test_df))\n",
    "pc_b_preds = pd.concat(rbd_pc_b.make_predictions(test_df))\n",
    "pc_a_copy_preds = pd.concat(rbd_pc_a_copy.make_predictions(test_df))\n",
    "pc_b_copy_preds = pd.concat(rbd_pc_b_copy.make_predictions(test_df))"
   ]
  },
  {
   "cell_type": "code",
   "execution_count": 14,
   "id": "687a9858-0317-4c67-888b-2fcca0c755d8",
   "metadata": {},
   "outputs": [],
   "source": [
    "assert pc_a_preds.equals(pc_a_copy_preds)"
   ]
  },
  {
   "cell_type": "code",
   "execution_count": 15,
   "id": "27d51146-47c0-4ccd-9d8b-63b5432294ff",
   "metadata": {},
   "outputs": [],
   "source": [
    "assert not pc_a_preds.equals(pc_b_preds)"
   ]
  },
  {
   "cell_type": "code",
   "execution_count": 16,
   "id": "27c46451-f768-4457-aa63-bd18bc217cba",
   "metadata": {},
   "outputs": [],
   "source": [
    "# Test threads for reproducability\n",
    "assert pc_b_preds.equals(pc_b_copy_preds)"
   ]
  }
 ],
 "metadata": {
  "kernelspec": {
   "display_name": "polyclonal",
   "language": "python",
   "name": "polyclonal"
  },
  "language_info": {
   "codemirror_mode": {
    "name": "ipython",
    "version": 3
   },
   "file_extension": ".py",
   "mimetype": "text/x-python",
   "name": "python",
   "nbconvert_exporter": "python",
   "pygments_lexer": "ipython3",
   "version": "3.10.2"
  }
 },
 "nbformat": 4,
 "nbformat_minor": 5
}
