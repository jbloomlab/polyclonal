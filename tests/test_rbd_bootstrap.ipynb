{
 "cells": [
  {
   "cell_type": "markdown",
   "id": "c36de04a-7941-4b08-894f-1544f56eba13",
   "metadata": {},
   "source": [
    "# Bootstrapping the simulated RBD dataset"
   ]
  },
  {
   "cell_type": "markdown",
   "id": "d2dcddd6-723e-4fac-8e6f-bc57b7c0d955",
   "metadata": {},
   "source": [
    "## Imports and setup"
   ]
  },
  {
   "cell_type": "code",
   "execution_count": 1,
   "id": "e243e290-8060-453d-ac3f-cb071681a22b",
   "metadata": {},
   "outputs": [
    {
     "data": {
      "text/html": [
       "<div>\n",
       "<style scoped>\n",
       "    .dataframe tbody tr th:only-of-type {\n",
       "        vertical-align: middle;\n",
       "    }\n",
       "\n",
       "    .dataframe tbody tr th {\n",
       "        vertical-align: top;\n",
       "    }\n",
       "\n",
       "    .dataframe thead th {\n",
       "        text-align: right;\n",
       "    }\n",
       "</style>\n",
       "<table border=\"1\" class=\"dataframe\">\n",
       "  <thead>\n",
       "    <tr style=\"text-align: right;\">\n",
       "      <th></th>\n",
       "      <th>library</th>\n",
       "      <th>aa_substitutions</th>\n",
       "      <th>concentration</th>\n",
       "      <th>prob_escape</th>\n",
       "      <th>IC90</th>\n",
       "    </tr>\n",
       "  </thead>\n",
       "  <tbody>\n",
       "    <tr>\n",
       "      <th>0</th>\n",
       "      <td>avg2muts</td>\n",
       "      <td></td>\n",
       "      <td>0.25</td>\n",
       "      <td>0.05044</td>\n",
       "      <td>0.1128</td>\n",
       "    </tr>\n",
       "    <tr>\n",
       "      <th>1</th>\n",
       "      <td>avg2muts</td>\n",
       "      <td></td>\n",
       "      <td>0.25</td>\n",
       "      <td>0.14310</td>\n",
       "      <td>0.1128</td>\n",
       "    </tr>\n",
       "    <tr>\n",
       "      <th>2</th>\n",
       "      <td>avg2muts</td>\n",
       "      <td></td>\n",
       "      <td>0.25</td>\n",
       "      <td>0.05452</td>\n",
       "      <td>0.1128</td>\n",
       "    </tr>\n",
       "    <tr>\n",
       "      <th>3</th>\n",
       "      <td>avg2muts</td>\n",
       "      <td></td>\n",
       "      <td>0.25</td>\n",
       "      <td>0.08473</td>\n",
       "      <td>0.1128</td>\n",
       "    </tr>\n",
       "    <tr>\n",
       "      <th>4</th>\n",
       "      <td>avg2muts</td>\n",
       "      <td></td>\n",
       "      <td>0.25</td>\n",
       "      <td>0.04174</td>\n",
       "      <td>0.1128</td>\n",
       "    </tr>\n",
       "  </tbody>\n",
       "</table>\n",
       "</div>"
      ],
      "text/plain": [
       "    library aa_substitutions  concentration  prob_escape    IC90\n",
       "0  avg2muts                            0.25      0.05044  0.1128\n",
       "1  avg2muts                            0.25      0.14310  0.1128\n",
       "2  avg2muts                            0.25      0.05452  0.1128\n",
       "3  avg2muts                            0.25      0.08473  0.1128\n",
       "4  avg2muts                            0.25      0.04174  0.1128"
      ]
     },
     "execution_count": 1,
     "metadata": {},
     "output_type": "execute_result"
    }
   ],
   "source": [
    "import pandas as pd\n",
    "from polyclonal import Polyclonal, PolyclonalCollection\n",
    "import polyclonal.polyclonal_collection as boot\n",
    "import numpy as np\n",
    "\n",
    "rbd_data = (\n",
    "    pd.read_csv(\"../notebooks/RBD_variants_escape_noisy.csv\", na_filter=None)\n",
    "    .query('library == \"avg2muts\"')\n",
    "    .query(\"concentration in [0.25, 1, 4]\")\n",
    "    .reset_index(drop=True)\n",
    ")\n",
    "\n",
    "rbd_data.head()"
   ]
  },
  {
   "cell_type": "markdown",
   "id": "7aafd13b-355a-4319-9772-31f263d319c3",
   "metadata": {},
   "source": [
    "## Create and fit a `root_polyclonal` model to RBD"
   ]
  },
  {
   "cell_type": "code",
   "execution_count": 2,
   "id": "bc883f0a-0503-4ae7-a001-ee765945b241",
   "metadata": {},
   "outputs": [],
   "source": [
    "# Create a root polyclonal object\n",
    "rbd_poly = Polyclonal(\n",
    "    data_to_fit=rbd_data,\n",
    "    activity_wt_df=pd.DataFrame.from_records(\n",
    "        [\n",
    "            (\"1\", 1.0),\n",
    "            (\"2\", 3.0),\n",
    "            (\"3\", 2.0),\n",
    "        ],\n",
    "        columns=[\"epitope\", \"activity\"],\n",
    "    ),\n",
    "    site_escape_df=pd.DataFrame.from_records(\n",
    "        [\n",
    "            (\"1\", 417, 10.0),\n",
    "            (\"2\", 484, 10.0),\n",
    "            (\"3\", 444, 10.0),\n",
    "        ],\n",
    "        columns=[\"epitope\", \"site\", \"escape\"],\n",
    "    ),\n",
    "    data_mut_escape_overlap=\"fill_to_data\",\n",
    ")"
   ]
  },
  {
   "cell_type": "code",
   "execution_count": 3,
   "id": "a8944489-55bc-434a-905c-4b0c74c6d57d",
   "metadata": {},
   "outputs": [
    {
     "name": "stdout",
     "output_type": "stream",
     "text": [
      "# First fitting site-level model.\n",
      "# Starting optimization of 522 parameters at Thu Feb 24 11:00:01 2022.\n",
      "       step   time_sec       loss   fit_loss reg_escape  regspread\n",
      "          0   0.052244     9144.4     9144.2    0.29701          0\n",
      "        100     6.8986     1336.8     1333.2     3.5443          0\n",
      "        200     13.906     1313.2     1308.8     4.3872          0\n",
      "        300      21.41       1305     1299.8     5.1347          0\n",
      "        400     28.214     1301.8     1296.2     5.6246          0\n",
      "        500     34.967     1298.4     1292.5     5.8941          0\n",
      "        600      41.68     1297.8     1291.7     6.0372          0\n",
      "        700     48.761     1296.9     1290.4     6.5236          0\n",
      "        800     55.565     1296.4     1289.8     6.6654          0\n",
      "        900     62.327     1296.2     1289.4      6.759          0\n",
      "       1000     69.127     1295.7     1288.8     6.8687          0\n",
      "       1100     76.115     1295.4     1288.6      6.848          0\n",
      "       1200     82.921     1295.1     1288.2     6.8787          0\n",
      "       1300     89.777       1295     1288.1     6.8933          0\n",
      "       1327     91.509       1295     1288.1     6.9079          0\n",
      "# Successfully finished at Thu Feb 24 11:01:32 2022.\n",
      "# Starting optimization of 5799 parameters at Thu Feb 24 11:01:33 2022.\n",
      "       step   time_sec       loss   fit_loss reg_escape  regspread\n",
      "          0   0.073138     1638.9     1552.6     86.331 2.0049e-29\n",
      "        100     8.5747      840.1     742.48     86.054     11.569\n",
      "        200     17.448        823      722.8     84.969     15.233\n",
      "        300     26.197     814.93     715.01     81.327     18.598\n",
      "        400     34.618     808.61     713.03     77.361     18.217\n",
      "        500     43.088     797.44     707.43     71.416     18.591\n",
      "        600     51.531      787.5      704.1     63.484     19.917\n",
      "        700     60.194     779.41     701.56     57.656     20.192\n",
      "        800      68.66     773.29     700.96     52.552     19.778\n",
      "        900     76.896     767.01     698.89     47.897     20.223\n",
      "       1000     84.959     763.29     697.22     45.818     20.245\n",
      "       1100     93.586     757.65      693.1     43.495     21.052\n",
      "       1200     102.91     752.35     687.89     42.401     22.058\n",
      "       1300     112.19     746.77     680.45     42.599     23.722\n",
      "       1400     120.92     741.09     673.02     43.167      24.91\n",
      "       1500     129.44     735.39      664.1     44.328      26.96\n",
      "       1600     138.13     728.43        654     45.503     28.927\n",
      "       1700     146.44     723.22     645.61     46.896     30.714\n",
      "       1800     154.71     713.76     632.49     48.549     32.715\n",
      "       1900     162.95     696.67     611.33     50.353     34.985\n",
      "       2000     171.19     681.55     596.14     50.859     34.555\n",
      "       2100     179.52     670.83     583.91     51.702     35.218\n",
      "       2200     187.77     666.81     579.38     52.268     35.168\n",
      "       2300     195.83      665.7     578.31     52.536     34.853\n",
      "       2400     204.23     665.33     577.91     52.736     34.683\n",
      "       2500     212.29     665.16     577.76     52.881     34.528\n",
      "       2600     220.31     665.08     577.66      52.95     34.467\n",
      "       2634     223.42     665.06     577.64     52.976     34.452\n",
      "# Successfully finished at Thu Feb 24 11:05:16 2022.\n"
     ]
    }
   ],
   "source": [
    "# Fit model\n",
    "_ = rbd_poly.fit(logfreq=100)"
   ]
  },
  {
   "cell_type": "markdown",
   "id": "5f1f752f-8846-4fb5-8c75-3767024cf241",
   "metadata": {},
   "source": [
    "## Create and fit two different `PolyclonalCollection` objects"
   ]
  },
  {
   "cell_type": "code",
   "execution_count": 4,
   "id": "4388c779-0811-426e-a095-8e7d1a08eff2",
   "metadata": {},
   "outputs": [],
   "source": [
    "# Now create two different polyclonal collection objects\n",
    "n_samps = 5\n",
    "n_threads = 32\n",
    "rbd_pc_a = PolyclonalCollection(\n",
    "    root_polyclonal=rbd_poly,\n",
    "    n_bootstrap_samples=n_samps,\n",
    "    n_threads=n_threads,\n",
    "    seed=0,\n",
    ")\n",
    "rbd_pc_b = PolyclonalCollection(\n",
    "    root_polyclonal=rbd_poly,\n",
    "    n_bootstrap_samples=n_samps,\n",
    "    n_threads=n_threads,\n",
    "    seed=10,\n",
    ")"
   ]
  },
  {
   "cell_type": "code",
   "execution_count": 5,
   "id": "b39e72fa-de35-4daa-befb-a267b30545e7",
   "metadata": {},
   "outputs": [],
   "source": [
    "rbd_pc_a.fit_models()\n",
    "rbd_pc_b.fit_models()"
   ]
  },
  {
   "cell_type": "markdown",
   "id": "7e2577da-965f-43af-b68e-05e67c91f64d",
   "metadata": {},
   "source": [
    "## Tests to see if seed is respected (different results)"
   ]
  },
  {
   "cell_type": "code",
   "execution_count": 6,
   "id": "2a301764-d7bb-4df4-8d32-17edc3087cdd",
   "metadata": {},
   "outputs": [],
   "source": [
    "# The test for the mutation frequency dictionary isn't suitable here\n",
    "# With so many multi-variants, we may not get situations where a mutation isn't sampled by all models\n",
    "# For our seed tests, I will just make sure we get different summary stats for each seed.\n",
    "(\n",
    "    rbd_pc_a_escape_dict,\n",
    "    rbd_pc_a_activity_wt_dict,\n",
    ") = rbd_pc_a._summarize_bootstrapped_params()\n",
    "(\n",
    "    rbd_pc_b_escape_dict,\n",
    "    rbd_pc_b_activity_wt_dict,\n",
    ") = rbd_pc_b._summarize_bootstrapped_params()"
   ]
  },
  {
   "cell_type": "code",
   "execution_count": 7,
   "id": "579172d6-1be5-4b31-9e22-66b886edebe2",
   "metadata": {},
   "outputs": [],
   "source": [
    "# Make sure inferred params are different\n",
    "assert not rbd_pc_a_escape_dict[\"mean\"].equals(rbd_pc_b_escape_dict[\"mean\"])\n",
    "assert not rbd_pc_a_escape_dict[\"median\"].equals(rbd_pc_b_escape_dict[\"median\"])\n",
    "assert not rbd_pc_a_escape_dict[\"std\"].equals(rbd_pc_b_escape_dict[\"std\"])"
   ]
  },
  {
   "cell_type": "code",
   "execution_count": 8,
   "id": "80424a67-9557-4335-ba3a-0de1337b2f0f",
   "metadata": {},
   "outputs": [],
   "source": [
    "assert not rbd_pc_a_activity_wt_dict[\"mean\"].equals(rbd_pc_b_activity_wt_dict[\"mean\"])\n",
    "assert not rbd_pc_a_activity_wt_dict[\"median\"].equals(\n",
    "    rbd_pc_b_activity_wt_dict[\"median\"]\n",
    ")\n",
    "assert not rbd_pc_a_activity_wt_dict[\"std\"].equals(rbd_pc_b_activity_wt_dict[\"std\"])"
   ]
  },
  {
   "cell_type": "code",
   "execution_count": 9,
   "id": "a478c4e3-568e-4fe7-9768-c9762b1da9bb",
   "metadata": {},
   "outputs": [],
   "source": [
    "test_df = rbd_data.sample(n=200, random_state=0)\n",
    "pc_a_preds = pd.concat(rbd_pc_a.make_predictions(test_df))\n",
    "pc_b_preds = pd.concat(rbd_pc_b.make_predictions(test_df))"
   ]
  },
  {
   "cell_type": "code",
   "execution_count": 10,
   "id": "27d51146-47c0-4ccd-9d8b-63b5432294ff",
   "metadata": {},
   "outputs": [],
   "source": [
    "assert not pc_a_preds.equals(pc_b_preds)"
   ]
  }
 ],
 "metadata": {
  "kernelspec": {
   "display_name": "polyclonal",
   "language": "python",
   "name": "polyclonal"
  },
  "language_info": {
   "codemirror_mode": {
    "name": "ipython",
    "version": 3
   },
   "file_extension": ".py",
   "mimetype": "text/x-python",
   "name": "python",
   "nbconvert_exporter": "python",
   "pygments_lexer": "ipython3",
   "version": "3.10.2"
  }
 },
 "nbformat": 4,
 "nbformat_minor": 5
}
