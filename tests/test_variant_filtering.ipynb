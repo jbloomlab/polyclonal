{
 "cells": [
  {
   "cell_type": "markdown",
   "id": "a753a0b7-5d6a-4673-bd19-97682e3584c9",
   "metadata": {},
   "source": [
    "# Test variant filtering"
   ]
  },
  {
   "cell_type": "code",
   "execution_count": 1,
   "id": "955499bc-a6ee-48e1-a078-269f61208fdd",
   "metadata": {},
   "outputs": [],
   "source": [
    "import pandas as pd\n",
    "import polyclonal"
   ]
  },
  {
   "cell_type": "markdown",
   "id": "69318c58-8f81-45af-b665-85de23f13b36",
   "metadata": {},
   "source": [
    "Lets say we train a model on this dataset."
   ]
  },
  {
   "cell_type": "code",
   "execution_count": 2,
   "id": "d7ae3d0f-f62f-4c9d-ad18-ca2ef0a09c27",
   "metadata": {},
   "outputs": [
    {
     "data": {
      "text/html": [
       "<div>\n",
       "<style scoped>\n",
       "    .dataframe tbody tr th:only-of-type {\n",
       "        vertical-align: middle;\n",
       "    }\n",
       "\n",
       "    .dataframe tbody tr th {\n",
       "        vertical-align: top;\n",
       "    }\n",
       "\n",
       "    .dataframe thead th {\n",
       "        text-align: right;\n",
       "    }\n",
       "</style>\n",
       "<table border=\"1\" class=\"dataframe\">\n",
       "  <thead>\n",
       "    <tr style=\"text-align: right;\">\n",
       "      <th></th>\n",
       "      <th>barcode</th>\n",
       "      <th>aa_substitutions</th>\n",
       "      <th>concentration</th>\n",
       "      <th>prob_escape</th>\n",
       "    </tr>\n",
       "  </thead>\n",
       "  <tbody>\n",
       "    <tr>\n",
       "      <th>0</th>\n",
       "      <td>var1</td>\n",
       "      <td></td>\n",
       "      <td>0.5</td>\n",
       "      <td>0.1</td>\n",
       "    </tr>\n",
       "    <tr>\n",
       "      <th>1</th>\n",
       "      <td>var2</td>\n",
       "      <td>M1A</td>\n",
       "      <td>0.5</td>\n",
       "      <td>0.2</td>\n",
       "    </tr>\n",
       "    <tr>\n",
       "      <th>2</th>\n",
       "      <td>var3</td>\n",
       "      <td>M1A G2A</td>\n",
       "      <td>0.5</td>\n",
       "      <td>0.3</td>\n",
       "    </tr>\n",
       "    <tr>\n",
       "      <th>3</th>\n",
       "      <td>var4</td>\n",
       "      <td>M1A G2C</td>\n",
       "      <td>0.5</td>\n",
       "      <td>0.4</td>\n",
       "    </tr>\n",
       "    <tr>\n",
       "      <th>4</th>\n",
       "      <td>var5</td>\n",
       "      <td>G2A</td>\n",
       "      <td>1.0</td>\n",
       "      <td>0.5</td>\n",
       "    </tr>\n",
       "    <tr>\n",
       "      <th>5</th>\n",
       "      <td>var6</td>\n",
       "      <td>M1A</td>\n",
       "      <td>1.0</td>\n",
       "      <td>0.6</td>\n",
       "    </tr>\n",
       "  </tbody>\n",
       "</table>\n",
       "</div>"
      ],
      "text/plain": [
       "  barcode aa_substitutions  concentration  prob_escape\n",
       "0    var1                             0.5          0.1\n",
       "1    var2              M1A            0.5          0.2\n",
       "2    var3          M1A G2A            0.5          0.3\n",
       "3    var4          M1A G2C            0.5          0.4\n",
       "4    var5              G2A            1.0          0.5\n",
       "5    var6              M1A            1.0          0.6"
      ]
     },
     "execution_count": 2,
     "metadata": {},
     "output_type": "execute_result"
    }
   ],
   "source": [
    "train_df = pd.DataFrame.from_records(\n",
    "    [\n",
    "        (\"var1\", \"\", 0.5, 0.1),\n",
    "        (\"var2\", \"M1A\", 0.5, 0.2),\n",
    "        (\"var3\", \"M1A G2A\", 0.5, 0.3),\n",
    "        (\"var4\", \"M1A G2C\", 0.5, 0.4),\n",
    "        (\"var5\", \"G2A\", 1, 0.5),\n",
    "        (\"var6\", \"M1A\", 1, 0.6),\n",
    "    ],\n",
    "    columns=[\"barcode\", \"aa_substitutions\", \"concentration\", \"prob_escape\"],\n",
    ")\n",
    "train_df"
   ]
  },
  {
   "cell_type": "markdown",
   "id": "a5e20342-51fc-4c67-8d3f-f4d26e0af40f",
   "metadata": {},
   "source": [
    "So, our model has \"seen\" the following mutations."
   ]
  },
  {
   "cell_type": "code",
   "execution_count": 3,
   "id": "13223dfd-27b2-4d01-b14b-155164546852",
   "metadata": {},
   "outputs": [
    {
     "data": {
      "text/plain": [
       "('M1A', 'G2A', 'G2C')"
      ]
     },
     "execution_count": 3,
     "metadata": {},
     "output_type": "execute_result"
    }
   ],
   "source": [
    "seen_mutations = (\"M1A\", \"G2A\", \"G2C\")\n",
    "seen_mutations"
   ]
  },
  {
   "cell_type": "markdown",
   "id": "6e611482-2a9f-49ae-b3a3-9563dbf956e7",
   "metadata": {},
   "source": [
    "Now, we want to predict the IC50's in a new dataset."
   ]
  },
  {
   "cell_type": "code",
   "execution_count": 4,
   "id": "b36fc682-d548-4cdc-b12c-b0981de1f1f3",
   "metadata": {},
   "outputs": [
    {
     "data": {
      "text/html": [
       "<div>\n",
       "<style scoped>\n",
       "    .dataframe tbody tr th:only-of-type {\n",
       "        vertical-align: middle;\n",
       "    }\n",
       "\n",
       "    .dataframe tbody tr th {\n",
       "        vertical-align: top;\n",
       "    }\n",
       "\n",
       "    .dataframe thead th {\n",
       "        text-align: right;\n",
       "    }\n",
       "</style>\n",
       "<table border=\"1\" class=\"dataframe\">\n",
       "  <thead>\n",
       "    <tr style=\"text-align: right;\">\n",
       "      <th></th>\n",
       "      <th>barcode</th>\n",
       "      <th>aa_substitutions</th>\n",
       "      <th>concentration</th>\n",
       "    </tr>\n",
       "  </thead>\n",
       "  <tbody>\n",
       "    <tr>\n",
       "      <th>0</th>\n",
       "      <td>var1</td>\n",
       "      <td></td>\n",
       "      <td>0.5</td>\n",
       "    </tr>\n",
       "    <tr>\n",
       "      <th>1</th>\n",
       "      <td>var2</td>\n",
       "      <td>M1C</td>\n",
       "      <td>0.5</td>\n",
       "    </tr>\n",
       "    <tr>\n",
       "      <th>2</th>\n",
       "      <td>var3</td>\n",
       "      <td>G2A</td>\n",
       "      <td>0.5</td>\n",
       "    </tr>\n",
       "    <tr>\n",
       "      <th>3</th>\n",
       "      <td>var4</td>\n",
       "      <td>M1C G2C</td>\n",
       "      <td>0.5</td>\n",
       "    </tr>\n",
       "    <tr>\n",
       "      <th>4</th>\n",
       "      <td>var5</td>\n",
       "      <td>G2A</td>\n",
       "      <td>1.0</td>\n",
       "    </tr>\n",
       "    <tr>\n",
       "      <th>5</th>\n",
       "      <td>var6</td>\n",
       "      <td>M1A G2A</td>\n",
       "      <td>1.0</td>\n",
       "    </tr>\n",
       "    <tr>\n",
       "      <th>6</th>\n",
       "      <td>var7</td>\n",
       "      <td>G2C</td>\n",
       "      <td>1.0</td>\n",
       "    </tr>\n",
       "  </tbody>\n",
       "</table>\n",
       "</div>"
      ],
      "text/plain": [
       "  barcode aa_substitutions  concentration\n",
       "0    var1                             0.5\n",
       "1    var2              M1C            0.5\n",
       "2    var3              G2A            0.5\n",
       "3    var4          M1C G2C            0.5\n",
       "4    var5              G2A            1.0\n",
       "5    var6          M1A G2A            1.0\n",
       "6    var7              G2C            1.0"
      ]
     },
     "execution_count": 4,
     "metadata": {},
     "output_type": "execute_result"
    }
   ],
   "source": [
    "predict_df = pd.DataFrame.from_records(\n",
    "    [\n",
    "        (\"var1\", \"\", 0.5),\n",
    "        (\"var2\", \"M1C\", 0.5),\n",
    "        (\"var3\", \"G2A\", 0.5),\n",
    "        (\"var4\", \"M1C G2C\", 0.5),\n",
    "        (\"var5\", \"G2A\", 1),\n",
    "        (\"var6\", \"M1A G2A\", 1),\n",
    "        (\"var7\", \"G2C\", 1),\n",
    "    ],\n",
    "    columns=[\"barcode\", \"aa_substitutions\", \"concentration\"],\n",
    ")\n",
    "predict_df"
   ]
  },
  {
   "cell_type": "markdown",
   "id": "1cd8b0a7-64a8-430e-a1cb-54b47b144caa",
   "metadata": {},
   "source": [
    "Note that there is a mutation (M1C) that our model did not observe."
   ]
  },
  {
   "cell_type": "code",
   "execution_count": 5,
   "id": "ee4a65e1-c105-471e-b44f-931f931bc3d1",
   "metadata": {},
   "outputs": [
    {
     "data": {
      "text/plain": [
       "('M1A', 'G2A', 'G2C', 'M1C')"
      ]
     },
     "execution_count": 5,
     "metadata": {},
     "output_type": "execute_result"
    }
   ],
   "source": [
    "predict_mutations = (\"M1A\", \"G2A\", \"G2C\", \"M1C\")\n",
    "predict_mutations"
   ]
  },
  {
   "cell_type": "markdown",
   "id": "b6c55115-e952-4b36-97c1-ad4db801faac",
   "metadata": {},
   "source": [
    "We define a function that takes `predict_df` as input and removes variants that contain mutations that were not observed by our model. "
   ]
  },
  {
   "cell_type": "markdown",
   "id": "f5dcd7e8-8112-4d01-9216-9c615ad9e376",
   "metadata": {},
   "source": [
    "Lets filter out variants that contain mutations that are not seen by the model."
   ]
  },
  {
   "cell_type": "code",
   "execution_count": 6,
   "id": "f32d48ed-39cf-40fc-aa4f-e19662da2b6f",
   "metadata": {},
   "outputs": [
    {
     "data": {
      "text/html": [
       "<div>\n",
       "<style scoped>\n",
       "    .dataframe tbody tr th:only-of-type {\n",
       "        vertical-align: middle;\n",
       "    }\n",
       "\n",
       "    .dataframe tbody tr th {\n",
       "        vertical-align: top;\n",
       "    }\n",
       "\n",
       "    .dataframe thead th {\n",
       "        text-align: right;\n",
       "    }\n",
       "</style>\n",
       "<table border=\"1\" class=\"dataframe\">\n",
       "  <thead>\n",
       "    <tr style=\"text-align: right;\">\n",
       "      <th></th>\n",
       "      <th>barcode</th>\n",
       "      <th>aa_substitutions</th>\n",
       "      <th>concentration</th>\n",
       "    </tr>\n",
       "  </thead>\n",
       "  <tbody>\n",
       "    <tr>\n",
       "      <th>0</th>\n",
       "      <td>var1</td>\n",
       "      <td></td>\n",
       "      <td>0.5</td>\n",
       "    </tr>\n",
       "    <tr>\n",
       "      <th>1</th>\n",
       "      <td>var3</td>\n",
       "      <td>G2A</td>\n",
       "      <td>0.5</td>\n",
       "    </tr>\n",
       "    <tr>\n",
       "      <th>2</th>\n",
       "      <td>var5</td>\n",
       "      <td>G2A</td>\n",
       "      <td>1.0</td>\n",
       "    </tr>\n",
       "    <tr>\n",
       "      <th>3</th>\n",
       "      <td>var6</td>\n",
       "      <td>M1A G2A</td>\n",
       "      <td>1.0</td>\n",
       "    </tr>\n",
       "    <tr>\n",
       "      <th>4</th>\n",
       "      <td>var7</td>\n",
       "      <td>G2C</td>\n",
       "      <td>1.0</td>\n",
       "    </tr>\n",
       "  </tbody>\n",
       "</table>\n",
       "</div>"
      ],
      "text/plain": [
       "  barcode aa_substitutions  concentration\n",
       "0    var1                             0.5\n",
       "1    var3              G2A            0.5\n",
       "2    var5              G2A            1.0\n",
       "3    var6          M1A G2A            1.0\n",
       "4    var7              G2C            1.0"
      ]
     },
     "execution_count": 6,
     "metadata": {},
     "output_type": "execute_result"
    }
   ],
   "source": [
    "poly_abs = polyclonal.Polyclonal(data_to_fit=train_df, n_epitopes=2)\n",
    "filtered_df = poly_abs.filter_variants_by_seen_muts(predict_df)\n",
    "filtered_df"
   ]
  },
  {
   "cell_type": "code",
   "execution_count": 7,
   "id": "b4aa8fea-d9b0-46b1-b5bd-1b91bf625fc5",
   "metadata": {},
   "outputs": [],
   "source": [
    "assert filtered_df[\"aa_substitutions\"].str.contains(\"M1C\").any() == False"
   ]
  },
  {
   "cell_type": "markdown",
   "id": "3ec36fcb-702b-4d2d-be89-de96ebd79dc6",
   "metadata": {},
   "source": [
    "Note how only variants containing M1C were removed from the dataframe."
   ]
  }
 ],
 "metadata": {
  "kernelspec": {
   "display_name": "Python 3 (ipykernel)",
   "language": "python",
   "name": "python3"
  },
  "language_info": {
   "codemirror_mode": {
    "name": "ipython",
    "version": 3
   },
   "file_extension": ".py",
   "mimetype": "text/x-python",
   "name": "python",
   "nbconvert_exporter": "python",
   "pygments_lexer": "ipython3",
   "version": "3.9.7"
  }
 },
 "nbformat": 4,
 "nbformat_minor": 5
}
