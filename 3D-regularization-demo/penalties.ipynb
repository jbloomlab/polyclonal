{
 "cells": [
  {
   "cell_type": "markdown",
   "metadata": {
    "id": "gvFPxAfa72j4"
   },
   "source": [
    "3D regularization for a site-wise least-squares problem\n",
    "==\n",
    "\n",
    "\n",
    "Download escape data"
   ]
  },
  {
   "cell_type": "code",
   "execution_count": 1,
   "metadata": {
    "id": "pfnYCvMYITty"
   },
   "outputs": [],
   "source": [
    "!curl -so escape_data.csv -L \"https://github.com/jbloomlab/SARS2_RBD_Ab_escape_maps/blob/main/processed_data/escape_data.csv?raw=true\""
   ]
  },
  {
   "cell_type": "markdown",
   "metadata": {
    "id": "yyLYXPX8757K"
   },
   "source": [
    "Download spike structure from PDB"
   ]
  },
  {
   "cell_type": "code",
   "execution_count": 2,
   "metadata": {
    "id": "J2NieKSrXXwd"
   },
   "outputs": [],
   "source": [
    "!curl -sOL \"https://files.rcsb.org/download/6M0J.pdb\""
   ]
  },
  {
   "cell_type": "code",
   "execution_count": 3,
   "metadata": {
    "id": "2aVPxi2Sabfs"
   },
   "outputs": [
    {
     "data": {
      "application/vnd.jupyter.widget-view+json": {
       "model_id": "feed978303394daead55ccff9166d081",
       "version_major": 2,
       "version_minor": 0
      },
      "text/plain": []
     },
     "metadata": {},
     "output_type": "display_data"
    }
   ],
   "source": [
    "from mushi import optimization as opt\n",
    "import jax.numpy as np\n",
    "from jax import grad, jit, random\n",
    "import matplotlib.pyplot as plt\n",
    "import seaborn as sns\n",
    "import warnings\n",
    "import Bio.PDB\n",
    "import pandas as pd\n",
    "import nglview as nv\n",
    "import pdb_prot_align\n",
    "import pdb_prot_align.colorschemes\n",
    "import pdb_prot_align.nglview_struct\n",
    "from scipy.spatial.distance import pdist, squareform"
   ]
  },
  {
   "cell_type": "markdown",
   "metadata": {
    "id": "R2dEPl8v8USt"
   },
   "source": [
    "Get sitewise escape data for one antibody, and also create a noisy signal based on it"
   ]
  },
  {
   "cell_type": "code",
   "execution_count": 4,
   "metadata": {
    "id": "kkvPU90x2MCu"
   },
   "outputs": [
    {
     "name": "stderr",
     "output_type": "stream",
     "text": [
      "WARNING:absl:No GPU/TPU found, falling back to CPU. (Set TF_CPP_MIN_LOG_LEVEL=0 and rerun for more info.)\n"
     ]
    }
   ],
   "source": [
    "seed = 0\n",
    "key = random.PRNGKey(seed)"
   ]
  },
  {
   "cell_type": "code",
   "execution_count": 5,
   "metadata": {
    "colab": {
     "base_uri": "https://localhost:8080/",
     "height": 691
    },
    "id": "PwSMnpbDSZMW",
    "outputId": "5e9f263e-e7f8-4961-bc87-9ae197cf9ea1"
   },
   "outputs": [
    {
     "name": "stderr",
     "output_type": "stream",
     "text": [
      "/Users/williamdewitt/Applications/miniconda2/envs/penalties/lib/python3.7/site-packages/IPython/core/interactiveshell.py:3457: DtypeWarning: Columns (4) have mixed types.Specify dtype option on import or set low_memory=False.\n",
      "  exec(code_obj, self.user_global_ns, self.user_ns)\n"
     ]
    },
    {
     "data": {
      "image/png": "[encoded data removed]",
      "text/plain": [
       "<Figure size 1800x216 with 1 Axes>"
      ]
     },
     "metadata": {
      "needs_background": "light"
     },
     "output_type": "display_data"
    },
    {
     "data": {
      "text/html": [
       "<div>\n",
       "<style scoped>\n",
       "    .dataframe tbody tr th:only-of-type {\n",
       "        vertical-align: middle;\n",
       "    }\n",
       "\n",
       "    .dataframe tbody tr th {\n",
       "        vertical-align: top;\n",
       "    }\n",
       "\n",
       "    .dataframe thead th {\n",
       "        text-align: right;\n",
       "    }\n",
       "</style>\n",
       "<table border=\"1\" class=\"dataframe\">\n",
       "  <thead>\n",
       "    <tr style=\"text-align: right;\">\n",
       "      <th></th>\n",
       "      <th>pdb_site</th>\n",
       "      <th>true_epitope</th>\n",
       "      <th>pdb_chain</th>\n",
       "      <th>signal</th>\n",
       "    </tr>\n",
       "  </thead>\n",
       "  <tbody>\n",
       "    <tr>\n",
       "      <th>0</th>\n",
       "      <td>331</td>\n",
       "      <td>0.0</td>\n",
       "      <td>E</td>\n",
       "      <td>0.000000</td>\n",
       "    </tr>\n",
       "    <tr>\n",
       "      <th>1</th>\n",
       "      <td>332</td>\n",
       "      <td>0.0</td>\n",
       "      <td>E</td>\n",
       "      <td>0.081589</td>\n",
       "    </tr>\n",
       "    <tr>\n",
       "      <th>2</th>\n",
       "      <td>333</td>\n",
       "      <td>0.0</td>\n",
       "      <td>E</td>\n",
       "      <td>0.016461</td>\n",
       "    </tr>\n",
       "    <tr>\n",
       "      <th>3</th>\n",
       "      <td>334</td>\n",
       "      <td>0.0</td>\n",
       "      <td>E</td>\n",
       "      <td>0.026143</td>\n",
       "    </tr>\n",
       "    <tr>\n",
       "      <th>4</th>\n",
       "      <td>335</td>\n",
       "      <td>0.0</td>\n",
       "      <td>E</td>\n",
       "      <td>0.000000</td>\n",
       "    </tr>\n",
       "    <tr>\n",
       "      <th>...</th>\n",
       "      <td>...</td>\n",
       "      <td>...</td>\n",
       "      <td>...</td>\n",
       "      <td>...</td>\n",
       "    </tr>\n",
       "    <tr>\n",
       "      <th>196</th>\n",
       "      <td>527</td>\n",
       "      <td>0.0</td>\n",
       "      <td>E</td>\n",
       "      <td>0.155724</td>\n",
       "    </tr>\n",
       "    <tr>\n",
       "      <th>197</th>\n",
       "      <td>528</td>\n",
       "      <td>0.0</td>\n",
       "      <td>E</td>\n",
       "      <td>0.000000</td>\n",
       "    </tr>\n",
       "    <tr>\n",
       "      <th>198</th>\n",
       "      <td>529</td>\n",
       "      <td>0.0</td>\n",
       "      <td>E</td>\n",
       "      <td>0.000000</td>\n",
       "    </tr>\n",
       "    <tr>\n",
       "      <th>199</th>\n",
       "      <td>530</td>\n",
       "      <td>0.0</td>\n",
       "      <td>E</td>\n",
       "      <td>0.131992</td>\n",
       "    </tr>\n",
       "    <tr>\n",
       "      <th>200</th>\n",
       "      <td>531</td>\n",
       "      <td>0.0</td>\n",
       "      <td>E</td>\n",
       "      <td>0.047740</td>\n",
       "    </tr>\n",
       "  </tbody>\n",
       "</table>\n",
       "<p>201 rows × 4 columns</p>\n",
       "</div>"
      ],
      "text/plain": [
       "     pdb_site  true_epitope pdb_chain    signal\n",
       "0         331           0.0         E  0.000000\n",
       "1         332           0.0         E  0.081589\n",
       "2         333           0.0         E  0.016461\n",
       "3         334           0.0         E  0.026143\n",
       "4         335           0.0         E  0.000000\n",
       "..        ...           ...       ...       ...\n",
       "196       527           0.0         E  0.155724\n",
       "197       528           0.0         E  0.000000\n",
       "198       529           0.0         E  0.000000\n",
       "199       530           0.0         E  0.131992\n",
       "200       531           0.0         E  0.047740\n",
       "\n",
       "[201 rows x 4 columns]"
      ]
     },
     "execution_count": 5,
     "metadata": {},
     "output_type": "execute_result"
    }
   ],
   "source": [
    "escape_df = pd.read_csv(\"escape_data.csv\")\n",
    "Ab = \"REGN10933\"\n",
    "sites_df = escape_df.loc[escape_df.condition == Ab].groupby(\"site\").site_total_escape.first().reset_index()\n",
    "sites_df[\"pdb_chain\"] = \"E\"\n",
    "sites_df.rename(columns={\"site\": \"pdb_site\", \"site_total_escape\": \"true_epitope\"}, inplace=True)\n",
    "sites_df[\"signal\"] = np.clip(sites_df[\"true_epitope\"].values + 0.1 * random.normal(key, (len(sites_df),)), 0)\n",
    "\n",
    "sites_df.plot(x=\"pdb_site\", y=[\"true_epitope\", \"signal\"], kind=\"bar\", figsize=(25, 3))\n",
    "plt.show()\n",
    "\n",
    "sites_df"
   ]
  },
  {
   "cell_type": "markdown",
   "metadata": {},
   "source": [
    "Color map for protein viz of signal"
   ]
  },
  {
   "cell_type": "code",
   "execution_count": 6,
   "metadata": {
    "colab": {
     "base_uri": "https://localhost:8080/",
     "height": 95
    },
    "id": "3poyHrf3p9yo",
    "outputId": "53d7330c-e2c2-495b-ec14-42559b6ab722"
   },
   "outputs": [
    {
     "data": {
      "image/png": "[encoded data removed]",
      "text/plain": [
       "<Figure size 252x28.8 with 1 Axes>"
      ]
     },
     "metadata": {
      "needs_background": "light"
     },
     "output_type": "display_data"
    }
   ],
   "source": [
    "cmap = pdb_prot_align.colorschemes.ValueToColorMap(\n",
    "                            minvalue=-1.5,\n",
    "                            maxvalue=1.5,\n",
    "                            cmap='seismic')\n",
    "\n",
    "cmap.scale_bar(label=None, orientation='horizontal');"
   ]
  },
  {
   "cell_type": "markdown",
   "metadata": {},
   "source": [
    "Register color schemes with nglview using Jesse's package"
   ]
  },
  {
   "cell_type": "code",
   "execution_count": 7,
   "metadata": {
    "colab": {
     "base_uri": "https://localhost:8080/",
     "height": 317
    },
    "id": "qj_si0OdsjXv",
    "outputId": "70d338da-e4f2-4025-d92e-b20b51817223"
   },
   "outputs": [],
   "source": [
    "pdb_prot_align.nglview_struct.colorscheme_by_site(\n",
    "                               'true_epitope',\n",
    "                                sites_df=sites_df,\n",
    "                                color_by=('true_epitope', cmap))\n",
    "\n",
    "pdb_prot_align.nglview_struct.colorscheme_by_site(\n",
    "                               'signal',\n",
    "                                sites_df=sites_df,\n",
    "                                color_by=('signal', cmap))"
   ]
  },
  {
   "cell_type": "markdown",
   "metadata": {},
   "source": [
    "Display true epitope"
   ]
  },
  {
   "cell_type": "code",
   "execution_count": 8,
   "metadata": {
    "id": "ZGFv6lToDNrP"
   },
   "outputs": [
    {
     "data": {
      "application/vnd.jupyter.widget-view+json": {
       "model_id": "e77db03b2c3d45829cfbf01cce46c091",
       "version_major": 2,
       "version_minor": 0
      },
      "text/plain": [
       "NGLWidget()"
      ]
     },
     "metadata": {},
     "output_type": "display_data"
    }
   ],
   "source": [
    "view = nv.show_structure_file(\"6M0J.pdb\", default_representation=False)\n",
    "view.add_surface(selection=\"protein and :E\", color=\"true_epitope\")\n",
    "view"
   ]
  },
  {
   "cell_type": "markdown",
   "metadata": {},
   "source": [
    "Display noisy signal based on epitope"
   ]
  },
  {
   "cell_type": "code",
   "execution_count": 9,
   "metadata": {},
   "outputs": [
    {
     "data": {
      "application/vnd.jupyter.widget-view+json": {
       "model_id": "c352b61ec3224f1cb972a36f7a037f5b",
       "version_major": 2,
       "version_minor": 0
      },
      "text/plain": [
       "NGLWidget()"
      ]
     },
     "metadata": {},
     "output_type": "display_data"
    }
   ],
   "source": [
    "view2 = nv.show_structure_file(\"6M0J.pdb\", default_representation=False)\n",
    "view2.add_surface(selection=\"protein and :E\", color=\"signal\")\n",
    "view2"
   ]
  },
  {
   "cell_type": "markdown",
   "metadata": {},
   "source": [
    "Caelan's function for getting 3D coordinates CA atoms in each residue/site.\n",
    "\n",
    "Note: when [PR #34](https://github.com/jbloomlab/polyclonal/pull/34) is merged, just import this function"
   ]
  },
  {
   "cell_type": "code",
   "execution_count": 10,
   "metadata": {
    "id": "L-x2ycGYB0vW"
   },
   "outputs": [],
   "source": [
    "def extract_atom_locations(\n",
    "    input_pdbfile,\n",
    "    target_chains,\n",
    "    target_atom=\"CA\",\n",
    "):\n",
    "    \"\"\"Extract atom locations from target chains of a PDB file.\n",
    "    By default the locations of alpha carbons are extracted, but any atom\n",
    "    can be specified. If a residue does not have the specified atom,\n",
    "    it is not included in the output file.\n",
    "    Parameters\n",
    "    ----------\n",
    "    input_pdbfile : str\n",
    "        Path to input PDB file.\n",
    "    target_chains : list\n",
    "        List of target chains to extract atom locations from. Chains must be in\n",
    "        the PDB and match the chain ids.\n",
    "    target_atom: str\n",
    "        Which type of atom to extract locations for. Default is alpha carbon, or\n",
    "        'CA'. If the specified type of atom is present multiple times for a\n",
    "        residue, that residue will end up having multiple entries in the output.\n",
    "    Returns\n",
    "    -------\n",
    "    pandas.DataFrame\n",
    "        Has columns 'chain', 'site', 'x', 'y', and 'z'.\n",
    "    Example\n",
    "    -------\n",
    "    Download PDB, do the re-assignment of B factors, read the lines\n",
    "    from the resulting re-assigned PDB:\n",
    "    >>> pdb_url = 'https://files.rcsb.org/download/6M0J.pdb'\n",
    "    >>> r = requests.get(pdb_url)\n",
    "    >>> with tempfile.TemporaryDirectory() as tmpdir:\n",
    "    ...    pdbfile = os.path.join(tmpdir, '6M0J.pdb')\n",
    "    ...    with open(pdbfile, 'wb') as f:\n",
    "    ...        _ = f.write(r.content)\n",
    "    ...    output = extract_atom_locations(pdbfile, ['A'])\n",
    "    Check the first ten lines of the ouput to make sure we got the expected\n",
    "    atom locations:\n",
    "    >>> output.head(n=10)\n",
    "      chain  site          x          y      z\n",
    "    0     A    19 -31.358999  50.852001  2.040\n",
    "    1     A    20 -29.424000  50.561001 -1.234\n",
    "    2     A    21 -30.722000  48.633999 -4.234\n",
    "    3     A    22 -28.080999  45.924999 -3.794\n",
    "    4     A    23 -28.982000  45.372002 -0.131\n",
    "    5     A    24 -32.637001  44.912998 -1.106\n",
    "    6     A    25 -31.709999  42.499001 -3.889\n",
    "    7     A    26 -29.688999  40.509998 -1.334\n",
    "    8     A    27 -32.740002  40.337002  0.917\n",
    "    9     A    28 -34.958000  39.424000 -2.028\n",
    "    \"\"\"\n",
    "\n",
    "    # read PDB, catch warnings about discontinuous chains\n",
    "    with warnings.catch_warnings():\n",
    "        warnings.simplefilter(\n",
    "            \"ignore\", category=Bio.PDB.PDBExceptions.PDBConstructionWarning\n",
    "        )\n",
    "        pdb = Bio.PDB.PDBParser().get_structure(\"_\", input_pdbfile)\n",
    "\n",
    "    # get the chains out of the PDB\n",
    "    chains = list(pdb.get_chains())\n",
    "    chain_ids = [chain.id for chain in chains]\n",
    "\n",
    "    # make sure the target chains are in the PDB\n",
    "    for chain in target_chains:\n",
    "        if chain not in chain_ids:\n",
    "            raise ValueError(f\"{chain} not in {input_pdbfile}\")\n",
    "\n",
    "    # make a list of chains to extract atom locations from\n",
    "    chains_to_use = []\n",
    "    for i, chain in enumerate(chain_ids):\n",
    "        if chain in target_chains:\n",
    "            chains_to_use.append(chains[i])\n",
    "\n",
    "    # extract atom locations from target chains\n",
    "    chain_list = []\n",
    "    residue_list = []\n",
    "    x_list = []\n",
    "    y_list = []\n",
    "    z_list = []\n",
    "    for chain in chains_to_use:\n",
    "        for residue in chain.get_residues():\n",
    "            residue_number = residue.get_id()[1]\n",
    "            atoms = residue.get_atoms()\n",
    "            for atom in atoms:\n",
    "                if atom.get_id() == target_atom:\n",
    "                    x, y, z = atom.get_coord()\n",
    "                    x_list.append(x)\n",
    "                    y_list.append(y)\n",
    "                    z_list.append(z)\n",
    "                    residue_list.append(residue_number)\n",
    "                    chain_list.append(chain.id)\n",
    "\n",
    "    # write output\n",
    "    output = pd.DataFrame(\n",
    "        {\n",
    "            \"chain\": chain_list,\n",
    "            \"site\": residue_list,\n",
    "            \"x\": x_list,\n",
    "            \"y\": y_list,\n",
    "            \"z\": z_list,\n",
    "        }\n",
    "    )\n",
    "\n",
    "    return output.reset_index(drop=True)\n"
   ]
  },
  {
   "cell_type": "code",
   "execution_count": 11,
   "metadata": {
    "colab": {
     "base_uri": "https://localhost:8080/",
     "height": 419
    },
    "id": "GShXQDlGY6dg",
    "outputId": "ca09b37b-f6b9-4586-df8c-4ef83170fd5c"
   },
   "outputs": [
    {
     "data": {
      "text/html": [
       "<div>\n",
       "<style scoped>\n",
       "    .dataframe tbody tr th:only-of-type {\n",
       "        vertical-align: middle;\n",
       "    }\n",
       "\n",
       "    .dataframe tbody tr th {\n",
       "        vertical-align: top;\n",
       "    }\n",
       "\n",
       "    .dataframe thead th {\n",
       "        text-align: right;\n",
       "    }\n",
       "</style>\n",
       "<table border=\"1\" class=\"dataframe\">\n",
       "  <thead>\n",
       "    <tr style=\"text-align: right;\">\n",
       "      <th></th>\n",
       "      <th>x</th>\n",
       "      <th>y</th>\n",
       "      <th>z</th>\n",
       "    </tr>\n",
       "    <tr>\n",
       "      <th>site</th>\n",
       "      <th></th>\n",
       "      <th></th>\n",
       "      <th></th>\n",
       "    </tr>\n",
       "  </thead>\n",
       "  <tbody>\n",
       "    <tr>\n",
       "      <th>333</th>\n",
       "      <td>-34.099998</td>\n",
       "      <td>15.480000</td>\n",
       "      <td>47.591999</td>\n",
       "    </tr>\n",
       "    <tr>\n",
       "      <th>334</th>\n",
       "      <td>-36.286999</td>\n",
       "      <td>15.087000</td>\n",
       "      <td>44.473999</td>\n",
       "    </tr>\n",
       "    <tr>\n",
       "      <th>335</th>\n",
       "      <td>-35.084000</td>\n",
       "      <td>14.305000</td>\n",
       "      <td>40.955002</td>\n",
       "    </tr>\n",
       "    <tr>\n",
       "      <th>336</th>\n",
       "      <td>-34.688000</td>\n",
       "      <td>17.165001</td>\n",
       "      <td>38.487999</td>\n",
       "    </tr>\n",
       "    <tr>\n",
       "      <th>337</th>\n",
       "      <td>-37.398998</td>\n",
       "      <td>16.812000</td>\n",
       "      <td>35.770000</td>\n",
       "    </tr>\n",
       "    <tr>\n",
       "      <th>...</th>\n",
       "      <td>...</td>\n",
       "      <td>...</td>\n",
       "      <td>...</td>\n",
       "    </tr>\n",
       "    <tr>\n",
       "      <th>522</th>\n",
       "      <td>-27.403999</td>\n",
       "      <td>26.365000</td>\n",
       "      <td>45.564999</td>\n",
       "    </tr>\n",
       "    <tr>\n",
       "      <th>523</th>\n",
       "      <td>-30.629000</td>\n",
       "      <td>24.422001</td>\n",
       "      <td>44.980000</td>\n",
       "    </tr>\n",
       "    <tr>\n",
       "      <th>524</th>\n",
       "      <td>-29.306000</td>\n",
       "      <td>22.125999</td>\n",
       "      <td>42.195000</td>\n",
       "    </tr>\n",
       "    <tr>\n",
       "      <th>525</th>\n",
       "      <td>-26.756001</td>\n",
       "      <td>19.419001</td>\n",
       "      <td>43.085999</td>\n",
       "    </tr>\n",
       "    <tr>\n",
       "      <th>526</th>\n",
       "      <td>-25.867001</td>\n",
       "      <td>15.855000</td>\n",
       "      <td>42.077000</td>\n",
       "    </tr>\n",
       "  </tbody>\n",
       "</table>\n",
       "<p>194 rows × 3 columns</p>\n",
       "</div>"
      ],
      "text/plain": [
       "              x          y          z\n",
       "site                                 \n",
       "333  -34.099998  15.480000  47.591999\n",
       "334  -36.286999  15.087000  44.473999\n",
       "335  -35.084000  14.305000  40.955002\n",
       "336  -34.688000  17.165001  38.487999\n",
       "337  -37.398998  16.812000  35.770000\n",
       "...         ...        ...        ...\n",
       "522  -27.403999  26.365000  45.564999\n",
       "523  -30.629000  24.422001  44.980000\n",
       "524  -29.306000  22.125999  42.195000\n",
       "525  -26.756001  19.419001  43.085999\n",
       "526  -25.867001  15.855000  42.077000\n",
       "\n",
       "[194 rows x 3 columns]"
      ]
     },
     "execution_count": 11,
     "metadata": {},
     "output_type": "execute_result"
    }
   ],
   "source": [
    "coords = extract_atom_locations(\"6M0J.pdb\", \"E\").set_index(\"site\").drop(\"chain\", axis=1)\n",
    "coords"
   ]
  },
  {
   "cell_type": "markdown",
   "metadata": {},
   "source": [
    "Use a gaussian kernel to compute the Laplacian. Display the adjacency matrix (contact map) to assess the choice of kernel bandwidth"
   ]
  },
  {
   "cell_type": "code",
   "execution_count": 12,
   "metadata": {},
   "outputs": [
    {
     "data": {
      "image/png": "[encoded data removed]",
      "text/plain": [
       "<Figure size 432x288 with 2 Axes>"
      ]
     },
     "metadata": {
      "needs_background": "light"
     },
     "output_type": "display_data"
    }
   ],
   "source": [
    "# bandwidth\n",
    "σ = 3\n",
    "# adjacency matrix\n",
    "A = np.exp(-squareform(pdist(coords)) / σ ** 2)\n",
    "# degree matrix\n",
    "D = np.diag(A.sum(1))\n",
    "# Laplacian matrix\n",
    "L = D - A\n",
    "\n",
    "sns.heatmap(\n",
    "    pd.DataFrame(A, columns=coords.index, index=coords.index, dtype=float),\n",
    "    cmap='Reds', vmin=0, square=True)\n",
    "plt.show()"
   ]
  },
  {
   "cell_type": "markdown",
   "metadata": {
    "id": "PqIzdXnXz1UC"
   },
   "source": [
    "Available penalties (all can be used in any combination).\n",
    "- `λ_lasso`: $\\ell_1$ norm, inducing sparsity\n",
    "- `λ_laplacian`: Laplacian smoothing\n",
    "- `λ_moment`: 2nd moment of spatial distribution of parameters (wrt centroid).\n",
    "- ~`λ_trend`: trend filtering, inducing piecewise polynomial solutions~ [need graph version of this]"
   ]
  },
  {
   "cell_type": "code",
   "execution_count": 60,
   "metadata": {
    "id": "ciJuY2tUsXfF"
   },
   "outputs": [],
   "source": [
    "λ_lasso = 1e-1\n",
    "λ_laplacian = 1e-4\n",
    "λ_moment = 1e-4\n",
    "# λ_trend = 0"
   ]
  },
  {
   "cell_type": "markdown",
   "metadata": {},
   "source": [
    "Run optimization to infer epitope from noisy signal"
   ]
  },
  {
   "cell_type": "code",
   "execution_count": 61,
   "metadata": {
    "colab": {
     "base_uri": "https://localhost:8080/",
     "height": 319
    },
    "id": "OosVN-DhbTlY",
    "outputId": "d1b7242d-4e6b-4bfc-c76a-6ddc8bfa43e3"
   },
   "outputs": [
    {
     "name": "stdout",
     "output_type": "stream",
     "text": [
      "initial objective 1.427900e+02\n",
      "iteration 100, objective 2.353e+00, relative change 0.000e+00                                                                               \n",
      "maximum iteration 100 reached with relative change in objective function 0\n"
     ]
    }
   ],
   "source": [
    "# trend_order = 3\n",
    "\n",
    "# smooth out the singularity in centroid estimation\n",
    "ϵ = 1e-3\n",
    "\n",
    "# JAX DeviceArray of epitope signal, only for sites in coords\n",
    "signal = np.array(sites_df.set_index(\"pdb_site\").loc[coords.index].signal.values)\n",
    "\n",
    "# JAX DeviceArray of spatial data\n",
    "xyz = np.array(coords.values)\n",
    "\n",
    "@jit\n",
    "def g(θ):\n",
    "    centroid = ((θ + ϵ)[:, None] * xyz).sum() / (θ + ϵ).sum()\n",
    "    return ((signal - θ) ** 2).sum() + λ_laplacian * θ.T @ L @ θ + λ_moment * (θ[:, None] * (xyz - centroid) ** 2).sum()\n",
    "\n",
    "grad_g = jit(grad(g))\n",
    "\n",
    "@jit\n",
    "def h1(θ):\n",
    "    return  λ_lasso * np.linalg.norm(θ, 1)\n",
    "\n",
    "@jit\n",
    "def prox_h1(u, s):\n",
    "    # note: outer clip is the bound constraint to non-negative orthant\n",
    "    return np.clip(np.sign(u) * np.clip(np.abs(u) - s * λ_lasso, 0), 0)\n",
    "\n",
    "# @jit\n",
    "# def h2(θ):\n",
    "#     return λ_trend * np.linalg.norm(np.diff(θ, trend_order), 1)\n",
    "\n",
    "# # no jit due to prox-tv module\n",
    "# def prox_h2(u, s):\n",
    "#     if λ_trend:\n",
    "#         trend_filterer = opt.TrendFilter((trend_order,), (s * λ_trend,))\n",
    "#         x = trend_filterer.run(u)\n",
    "#     else:\n",
    "#         x = u\n",
    "#     return np.clip(x, 0)\n",
    "\n",
    "\n",
    "# optimizer = opt.ThreeOpProxGrad(g, grad_g, h1, prox_h1, h2, prox_h2, verbose=True)\n",
    "optimizer = opt.AccProxGrad(g, grad_g, h1, prox_h1, verbose=True)\n",
    "\n",
    "key, subkey = random.split(key)\n",
    "θ = np.clip(random.normal(subkey, (len(xyz),)), 0)\n",
    "\n",
    "θ = optimizer.run(θ, tol=0)\n",
    "\n",
    "sites_df[\"inferred_epitope\"] = 0\n",
    "sites_df.loc[sites_df.pdb_site.isin(coords.index), \"inferred_epitope\"] = θ"
   ]
  },
  {
   "cell_type": "markdown",
   "metadata": {},
   "source": [
    "True Vs inferred sparsity "
   ]
  },
  {
   "cell_type": "code",
   "execution_count": 63,
   "metadata": {},
   "outputs": [
    {
     "data": {
      "text/plain": [
       "(14, 17)"
      ]
     },
     "execution_count": 63,
     "metadata": {},
     "output_type": "execute_result"
    }
   ],
   "source": [
    "sum(sites_df.true_epitope != 0), sum(sites_df.inferred_epitope != 0)"
   ]
  },
  {
   "cell_type": "code",
   "execution_count": 64,
   "metadata": {},
   "outputs": [
    {
     "data": {
      "image/png": "[encoded data removed]",
      "text/plain": [
       "<Figure size 2160x216 with 1 Axes>"
      ]
     },
     "metadata": {
      "needs_background": "light"
     },
     "output_type": "display_data"
    }
   ],
   "source": [
    "sites_df.plot(x=\"pdb_site\", y=[\"true_epitope\", \"signal\", \"inferred_epitope\"], kind=\"bar\", figsize=(30, 3))\n",
    "plt.show()"
   ]
  },
  {
   "cell_type": "code",
   "execution_count": 65,
   "metadata": {
    "scrolled": false
   },
   "outputs": [
    {
     "data": {
      "application/vnd.jupyter.widget-view+json": {
       "model_id": "94c2388030a542788e57ac6cc5855d11",
       "version_major": 2,
       "version_minor": 0
      },
      "text/plain": [
       "NGLWidget()"
      ]
     },
     "metadata": {},
     "output_type": "display_data"
    }
   ],
   "source": [
    "pdb_prot_align.nglview_struct.colorscheme_by_site(\n",
    "                               'inferred_epitope',\n",
    "                                sites_df=sites_df,\n",
    "                                color_by=('inferred_epitope', cmap))\n",
    "\n",
    "view3 = nv.show_structure_file(\"6M0J.pdb\", default_representation=False)\n",
    "view3.add_surface(selection=\"protein and :E\", color=\"inferred_epitope\")\n",
    "view3"
   ]
  },
  {
   "cell_type": "code",
   "execution_count": 66,
   "metadata": {},
   "outputs": [
    {
     "data": {
      "text/html": [
       "<div>\n",
       "<style scoped>\n",
       "    .dataframe tbody tr th:only-of-type {\n",
       "        vertical-align: middle;\n",
       "    }\n",
       "\n",
       "    .dataframe tbody tr th {\n",
       "        vertical-align: top;\n",
       "    }\n",
       "\n",
       "    .dataframe thead th {\n",
       "        text-align: right;\n",
       "    }\n",
       "</style>\n",
       "<table border=\"1\" class=\"dataframe\">\n",
       "  <thead>\n",
       "    <tr style=\"text-align: right;\">\n",
       "      <th></th>\n",
       "      <th>pdb_site</th>\n",
       "      <th>true_epitope</th>\n",
       "      <th>pdb_chain</th>\n",
       "      <th>signal</th>\n",
       "      <th>inferred_epitope</th>\n",
       "    </tr>\n",
       "  </thead>\n",
       "  <tbody>\n",
       "    <tr>\n",
       "      <th>0</th>\n",
       "      <td>331</td>\n",
       "      <td>0.0</td>\n",
       "      <td>E</td>\n",
       "      <td>0.000000</td>\n",
       "      <td>0.0</td>\n",
       "    </tr>\n",
       "    <tr>\n",
       "      <th>1</th>\n",
       "      <td>332</td>\n",
       "      <td>0.0</td>\n",
       "      <td>E</td>\n",
       "      <td>0.081589</td>\n",
       "      <td>0.0</td>\n",
       "    </tr>\n",
       "    <tr>\n",
       "      <th>2</th>\n",
       "      <td>333</td>\n",
       "      <td>0.0</td>\n",
       "      <td>E</td>\n",
       "      <td>0.016461</td>\n",
       "      <td>0.0</td>\n",
       "    </tr>\n",
       "    <tr>\n",
       "      <th>3</th>\n",
       "      <td>334</td>\n",
       "      <td>0.0</td>\n",
       "      <td>E</td>\n",
       "      <td>0.026143</td>\n",
       "      <td>0.0</td>\n",
       "    </tr>\n",
       "    <tr>\n",
       "      <th>4</th>\n",
       "      <td>335</td>\n",
       "      <td>0.0</td>\n",
       "      <td>E</td>\n",
       "      <td>0.000000</td>\n",
       "      <td>0.0</td>\n",
       "    </tr>\n",
       "    <tr>\n",
       "      <th>...</th>\n",
       "      <td>...</td>\n",
       "      <td>...</td>\n",
       "      <td>...</td>\n",
       "      <td>...</td>\n",
       "      <td>...</td>\n",
       "    </tr>\n",
       "    <tr>\n",
       "      <th>196</th>\n",
       "      <td>527</td>\n",
       "      <td>0.0</td>\n",
       "      <td>E</td>\n",
       "      <td>0.155724</td>\n",
       "      <td>0.0</td>\n",
       "    </tr>\n",
       "    <tr>\n",
       "      <th>197</th>\n",
       "      <td>528</td>\n",
       "      <td>0.0</td>\n",
       "      <td>E</td>\n",
       "      <td>0.000000</td>\n",
       "      <td>0.0</td>\n",
       "    </tr>\n",
       "    <tr>\n",
       "      <th>198</th>\n",
       "      <td>529</td>\n",
       "      <td>0.0</td>\n",
       "      <td>E</td>\n",
       "      <td>0.000000</td>\n",
       "      <td>0.0</td>\n",
       "    </tr>\n",
       "    <tr>\n",
       "      <th>199</th>\n",
       "      <td>530</td>\n",
       "      <td>0.0</td>\n",
       "      <td>E</td>\n",
       "      <td>0.131992</td>\n",
       "      <td>0.0</td>\n",
       "    </tr>\n",
       "    <tr>\n",
       "      <th>200</th>\n",
       "      <td>531</td>\n",
       "      <td>0.0</td>\n",
       "      <td>E</td>\n",
       "      <td>0.047740</td>\n",
       "      <td>0.0</td>\n",
       "    </tr>\n",
       "  </tbody>\n",
       "</table>\n",
       "<p>201 rows × 5 columns</p>\n",
       "</div>"
      ],
      "text/plain": [
       "     pdb_site  true_epitope pdb_chain    signal  inferred_epitope\n",
       "0         331           0.0         E  0.000000               0.0\n",
       "1         332           0.0         E  0.081589               0.0\n",
       "2         333           0.0         E  0.016461               0.0\n",
       "3         334           0.0         E  0.026143               0.0\n",
       "4         335           0.0         E  0.000000               0.0\n",
       "..        ...           ...       ...       ...               ...\n",
       "196       527           0.0         E  0.155724               0.0\n",
       "197       528           0.0         E  0.000000               0.0\n",
       "198       529           0.0         E  0.000000               0.0\n",
       "199       530           0.0         E  0.131992               0.0\n",
       "200       531           0.0         E  0.047740               0.0\n",
       "\n",
       "[201 rows x 5 columns]"
      ]
     },
     "execution_count": 66,
     "metadata": {},
     "output_type": "execute_result"
    }
   ],
   "source": [
    "sites_df"
   ]
  },
  {
   "cell_type": "code",
   "execution_count": null,
   "metadata": {},
   "outputs": [],
   "source": []
  }
 ],
 "metadata": {
  "colab": {
   "collapsed_sections": [],
   "name": "penalties.ipynb",
   "provenance": []
  },
  "kernelspec": {
   "display_name": "Python 3 (ipykernel)",
   "language": "python",
   "name": "python3"
  },
  "language_info": {
   "codemirror_mode": {
    "name": "ipython",
    "version": 3
   },
   "file_extension": ".py",
   "mimetype": "text/x-python",
   "name": "python",
   "nbconvert_exporter": "python",
   "pygments_lexer": "ipython3",
   "version": "3.7.11"
  }
 },
 "nbformat": 4,
 "nbformat_minor": 1
}
