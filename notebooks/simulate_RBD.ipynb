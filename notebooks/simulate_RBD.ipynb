{
 "cells": [
  {
   "cell_type": "markdown",
   "metadata": {
    "tags": []
   },
   "source": [
    "# Simulate experiment\n",
    "We will simulate data from a deep mutational scanning experiment using the RBD antibody mix in order to provide hypothetical data on which to fit a `Polyclonal` model.\n",
    "\n",
    "We first define a `Polyclonal` object that represents the antibody mix we want to simulate.\n",
    "This mix is again based on the three RBD antibodies targeting class 1, 2, and 3 epitopes.\n",
    "But to make the simulated data smaller and easier to fit in this example, we only include mutations in the range from site 400 to 500 in the RBD, which includes most of the major epitopes:"
   ]
  },
  {
   "cell_type": "code",
   "execution_count": 1,
   "metadata": {
    "execution": {
     "iopub.execute_input": "2021-11-08T00:25:29.321120Z",
     "iopub.status.busy": "2021-11-08T00:25:29.320949Z",
     "iopub.status.idle": "2021-11-08T00:25:30.733626Z",
     "shell.execute_reply": "2021-11-08T00:25:30.732794Z",
     "shell.execute_reply.started": "2021-11-08T00:25:29.321066Z"
    },
    "tags": []
   },
   "outputs": [
    {
     "name": "stdout",
     "output_type": "stream",
     "text": [
      "Epitopes: ('class 1', 'class 2', 'class 3')\n",
      "Number of mutations: 928\n",
      "Number of sites: 83\n"
     ]
    }
   ],
   "source": [
    "import pandas as pd\n",
    "\n",
    "import polyclonal\n",
    "\n",
    "# only keep mutations in this site range\n",
    "site_start = 400\n",
    "site_end = 500\n",
    "\n",
    "# read data needed to initialize `Polyclonal` object\n",
    "activity_wt_df = pd.read_csv('RBD_activity_wt_df.csv')\n",
    "mut_escape_df = pd.read_csv('RBD_mut_escape_df.csv')\n",
    "\n",
    "# get only mutations in site range\n",
    "mut_escape_df = (\n",
    "    mut_escape_df\n",
    "    .assign(site=lambda x: x['mutation'].str[1: -1].astype(int))\n",
    "    .query('(site >= @site_start) & (site <= @site_end)')\n",
    "    .reset_index(drop=True)\n",
    "    )\n",
    "\n",
    "# create `Polyclonal` object with actual antibody mix\n",
    "poly_abs = polyclonal.Polyclonal(\n",
    "                    activity_wt_df=activity_wt_df,\n",
    "                    mut_escape_df=mut_escape_df)\n",
    "\n",
    "print(f\"Epitopes: {poly_abs.epitopes}\")\n",
    "print(f\"Number of mutations: {len(poly_abs.mutations)}\")\n",
    "print(f\"Number of sites: {len(poly_abs.sites)}\")"
   ]
  },
  {
   "cell_type": "markdown",
   "metadata": {},
   "source": [
    "Now we simulate libraries of variants with an average of 2 and 3 mutations per gene.\n",
    "These libraries only contain mutations for which we defined mutation escape above.\n",
    "We a [dms_variants](https://jbloomlab.github.io/dms_variants/) `CodonVariantTable` for the RBD with these mutations.\n",
    "Note that because the `CodonVariantTable` requires sequential 1, 2, ... numbering, we have to do some shifting of sites back and forth with an offset of 399 since we defined the RBD region of interest for us to start at site 400:"
   ]
  },
  {
   "cell_type": "code",
   "execution_count": 2,
   "metadata": {
    "execution": {
     "iopub.execute_input": "2021-11-08T00:25:30.734725Z",
     "iopub.status.busy": "2021-11-08T00:25:30.734474Z",
     "iopub.status.idle": "2021-11-08T00:25:36.680625Z",
     "shell.execute_reply": "2021-11-08T00:25:36.679737Z",
     "shell.execute_reply.started": "2021-11-08T00:25:30.734705Z"
    },
    "tags": []
   },
   "outputs": [
    {
     "name": "stdout",
     "output_type": "stream",
     "text": [
      "There are 928 allowed amino-acid mutations.\n"
     ]
    }
   ],
   "source": [
    "import Bio.SeqIO\n",
    "\n",
    "import dms_variants.simulate\n",
    "\n",
    "import polyclonal.utils\n",
    "\n",
    "# read coding sequence, then slice to just region of interest\n",
    "# noting that RBD starts at residue 331\n",
    "geneseq = str(Bio.SeqIO.read('RBD_seq.fasta', 'fasta').seq)\n",
    "geneseq = geneseq[3 * (site_start - 331): 3 * (site_end - 331 + 1)]\n",
    "\n",
    "allowed_aa_muts = poly_abs.mut_escape_df['mutation'].unique()\n",
    "print(f\"There are {len(allowed_aa_muts)} allowed amino-acid mutations.\")\n",
    "\n",
    "variants = dms_variants.simulate.simulate_CodonVariantTable(\n",
    "                        geneseq=geneseq,\n",
    "                        bclen=16,\n",
    "                        library_specs={'avg2muts': {'avgmuts': 2.0,\n",
    "                                                    'nvariants': 20000},\n",
    "                                       'avg3muts': {'avgmuts': 3.0,\n",
    "                                                    'nvariants': 20000},\n",
    "                                       },\n",
    "                        allowed_aa_muts=[polyclonal.utils.shift_mut_site(m, -site_start + 1)\n",
    "                                         for m in allowed_aa_muts],\n",
    "                        )"
   ]
  },
  {
   "cell_type": "markdown",
   "metadata": {},
   "source": [
    "Now look at the distribution of the number of amino-acid mutations per-variant in the library.\n",
    "The mutation rate is relatively high as we pre-screened for tolerated mutations and need multiple mutants to decompose the sera mix:"
   ]
  },
  {
   "cell_type": "code",
   "execution_count": 3,
   "metadata": {
    "execution": {
     "iopub.execute_input": "2021-11-08T00:25:36.681845Z",
     "iopub.status.busy": "2021-11-08T00:25:36.681694Z",
     "iopub.status.idle": "2021-11-08T00:25:37.312116Z",
     "shell.execute_reply": "2021-11-08T00:25:37.311384Z",
     "shell.execute_reply.started": "2021-11-08T00:25:36.681829Z"
    },
    "tags": []
   },
   "outputs": [
    {
     "data": {
      "image/png": "[encoded data removed]",
      "text/plain": [
       "<Figure size 400x210 with 2 Axes>"
      ]
     },
     "metadata": {},
     "output_type": "display_data"
    }
   ],
   "source": [
    "p = variants.plotNumMutsHistogram(mut_type='aa', samples=None,\n",
    "                                  libraries=variants.libraries)\n",
    "_ = p.draw()"
   ]
  },
  {
   "cell_type": "markdown",
   "metadata": {},
   "source": [
    "We also look at the mutation rate across the gene.\n",
    "Note that this is sequential numbering of the sequence.\n",
    "Also, the per-site mutation frequency is uneven because we only include tolerated mutations, and there are different number of tolerated mutations per site:"
   ]
  },
  {
   "cell_type": "code",
   "execution_count": 4,
   "metadata": {
    "execution": {
     "iopub.execute_input": "2021-11-08T00:25:37.313367Z",
     "iopub.status.busy": "2021-11-08T00:25:37.313066Z",
     "iopub.status.idle": "2021-11-08T00:25:37.952960Z",
     "shell.execute_reply": "2021-11-08T00:25:37.952323Z",
     "shell.execute_reply.started": "2021-11-08T00:25:37.313343Z"
    },
    "tags": []
   },
   "outputs": [
    {
     "data": {
      "image/png": "[encoded data removed]",
      "text/plain": [
       "<Figure size 520x180 with 2 Axes>"
      ]
     },
     "metadata": {},
     "output_type": "display_data"
    }
   ],
   "source": [
    "p = variants.plotMutFreqs(variant_type='all', mut_type='aa',\n",
    "                          samples=None, libraries=variants.libraries)\n",
    "_ = p.draw()"
   ]
  },
  {
   "cell_type": "markdown",
   "metadata": {},
   "source": [
    "Now we get the data frame with the amino-acid substitutions for each variant, re-adding site offset to get back to RBD numbering:"
   ]
  },
  {
   "cell_type": "code",
   "execution_count": 5,
   "metadata": {
    "execution": {
     "iopub.execute_input": "2021-11-08T00:25:37.954100Z",
     "iopub.status.busy": "2021-11-08T00:25:37.953840Z",
     "iopub.status.idle": "2021-11-08T00:25:38.109058Z",
     "shell.execute_reply": "2021-11-08T00:25:38.108528Z",
     "shell.execute_reply.started": "2021-11-08T00:25:37.954082Z"
    },
    "tags": []
   },
   "outputs": [
    {
     "data": {
      "text/html": [
       "<div>\n",
       "<style scoped>\n",
       "    .dataframe tbody tr th:only-of-type {\n",
       "        vertical-align: middle;\n",
       "    }\n",
       "\n",
       "    .dataframe tbody tr th {\n",
       "        vertical-align: top;\n",
       "    }\n",
       "\n",
       "    .dataframe thead th {\n",
       "        text-align: right;\n",
       "    }\n",
       "</style>\n",
       "<table border=\"1\" class=\"dataframe\">\n",
       "  <thead>\n",
       "    <tr style=\"text-align: right;\">\n",
       "      <th></th>\n",
       "      <th>library</th>\n",
       "      <th>barcode</th>\n",
       "      <th>aa_substitutions</th>\n",
       "      <th>n_aa_substitutions</th>\n",
       "    </tr>\n",
       "  </thead>\n",
       "  <tbody>\n",
       "    <tr>\n",
       "      <th>0</th>\n",
       "      <td>avg2muts</td>\n",
       "      <td>AAAAAAAATTCAAGAT</td>\n",
       "      <td>A411S P479L</td>\n",
       "      <td>2</td>\n",
       "    </tr>\n",
       "    <tr>\n",
       "      <th>1</th>\n",
       "      <td>avg2muts</td>\n",
       "      <td>AAAAAAGGCTTATACT</td>\n",
       "      <td>E465Q N481V S494I</td>\n",
       "      <td>3</td>\n",
       "    </tr>\n",
       "    <tr>\n",
       "      <th>2</th>\n",
       "      <td>avg2muts</td>\n",
       "      <td>AAAAAAGTGTCTAAGC</td>\n",
       "      <td>Q414G</td>\n",
       "      <td>1</td>\n",
       "    </tr>\n",
       "    <tr>\n",
       "      <th>3</th>\n",
       "      <td>avg2muts</td>\n",
       "      <td>AAAAAATCAGCGGGAA</td>\n",
       "      <td>T430L T478V P479L S494P</td>\n",
       "      <td>4</td>\n",
       "    </tr>\n",
       "    <tr>\n",
       "      <th>4</th>\n",
       "      <td>avg2muts</td>\n",
       "      <td>AAAAACCAACCTTCGC</td>\n",
       "      <td>Y473F N481P Q498F</td>\n",
       "      <td>3</td>\n",
       "    </tr>\n",
       "    <tr>\n",
       "      <th>...</th>\n",
       "      <td>...</td>\n",
       "      <td>...</td>\n",
       "      <td>...</td>\n",
       "      <td>...</td>\n",
       "    </tr>\n",
       "    <tr>\n",
       "      <th>39995</th>\n",
       "      <td>avg3muts</td>\n",
       "      <td>TTTTTGCGATTTGGAG</td>\n",
       "      <td>G485H</td>\n",
       "      <td>1</td>\n",
       "    </tr>\n",
       "    <tr>\n",
       "      <th>39996</th>\n",
       "      <td>avg3muts</td>\n",
       "      <td>TTTTTGCGCGCTTTTC</td>\n",
       "      <td></td>\n",
       "      <td>0</td>\n",
       "    </tr>\n",
       "    <tr>\n",
       "      <th>39997</th>\n",
       "      <td>avg3muts</td>\n",
       "      <td>TTTTTTACCGACAAAG</td>\n",
       "      <td>D420M I468V</td>\n",
       "      <td>2</td>\n",
       "    </tr>\n",
       "    <tr>\n",
       "      <th>39998</th>\n",
       "      <td>avg3muts</td>\n",
       "      <td>TTTTTTCTTTATCTCT</td>\n",
       "      <td>I468Y T470L T478F V483G</td>\n",
       "      <td>4</td>\n",
       "    </tr>\n",
       "    <tr>\n",
       "      <th>39999</th>\n",
       "      <td>avg3muts</td>\n",
       "      <td>TTTTTTTCGTGGTAAC</td>\n",
       "      <td>E471Y</td>\n",
       "      <td>1</td>\n",
       "    </tr>\n",
       "  </tbody>\n",
       "</table>\n",
       "<p>40000 rows × 4 columns</p>\n",
       "</div>"
      ],
      "text/plain": [
       "        library           barcode         aa_substitutions  n_aa_substitutions\n",
       "0      avg2muts  AAAAAAAATTCAAGAT              A411S P479L                   2\n",
       "1      avg2muts  AAAAAAGGCTTATACT        E465Q N481V S494I                   3\n",
       "2      avg2muts  AAAAAAGTGTCTAAGC                    Q414G                   1\n",
       "3      avg2muts  AAAAAATCAGCGGGAA  T430L T478V P479L S494P                   4\n",
       "4      avg2muts  AAAAACCAACCTTCGC        Y473F N481P Q498F                   3\n",
       "...         ...               ...                      ...                 ...\n",
       "39995  avg3muts  TTTTTGCGATTTGGAG                    G485H                   1\n",
       "39996  avg3muts  TTTTTGCGCGCTTTTC                                            0\n",
       "39997  avg3muts  TTTTTTACCGACAAAG              D420M I468V                   2\n",
       "39998  avg3muts  TTTTTTCTTTATCTCT  I468Y T470L T478F V483G                   4\n",
       "39999  avg3muts  TTTTTTTCGTGGTAAC                    E471Y                   1\n",
       "\n",
       "[40000 rows x 4 columns]"
      ]
     },
     "execution_count": 5,
     "metadata": {},
     "output_type": "execute_result"
    }
   ],
   "source": [
    "variants_df = (\n",
    "    variants.barcode_variant_df\n",
    "    [['library', 'barcode', 'aa_substitutions', 'n_aa_substitutions']]\n",
    "    .assign(aa_substitutions=lambda x: x['aa_substitutions'].apply(\n",
    "                                polyclonal.utils.shift_mut_site, shift=site_start - 1)\n",
    "            )\n",
    "    )\n",
    "\n",
    "variants_df"
   ]
  },
  {
   "cell_type": "markdown",
   "metadata": {},
   "source": [
    "Now we use our `Polyclonal` object to compute the predicted probability of escape ($p_v\\left(c\\right)$) at multiple serum concentrations given the mutation escape values $\\beta_{m,e}$ and activities $a_{\\rm{wt},e}$ stored in the `Polyclonal` object.\n",
    "Since we will use these as the \"true\" values in our our simulation, we then rename the column with the predicted probabilities of escape to just be the probabilities of escape:"
   ]
  },
  {
   "cell_type": "code",
   "execution_count": 6,
   "metadata": {
    "execution": {
     "iopub.execute_input": "2021-11-08T00:25:38.110051Z",
     "iopub.status.busy": "2021-11-08T00:25:38.109793Z",
     "iopub.status.idle": "2021-11-08T00:25:39.624034Z",
     "shell.execute_reply": "2021-11-08T00:25:39.623405Z",
     "shell.execute_reply.started": "2021-11-08T00:25:38.110033Z"
    },
    "tags": []
   },
   "outputs": [
    {
     "data": {
      "text/html": [
       "<div>\n",
       "<style scoped>\n",
       "    .dataframe tbody tr th:only-of-type {\n",
       "        vertical-align: middle;\n",
       "    }\n",
       "\n",
       "    .dataframe tbody tr th {\n",
       "        vertical-align: top;\n",
       "    }\n",
       "\n",
       "    .dataframe thead th {\n",
       "        text-align: right;\n",
       "    }\n",
       "</style>\n",
       "<table border=\"1\" class=\"dataframe\">\n",
       "  <thead>\n",
       "    <tr style=\"text-align: right;\">\n",
       "      <th></th>\n",
       "      <th>library</th>\n",
       "      <th>barcode</th>\n",
       "      <th>aa_substitutions</th>\n",
       "      <th>n_aa_substitutions</th>\n",
       "      <th>concentration</th>\n",
       "      <th>prob_escape</th>\n",
       "    </tr>\n",
       "  </thead>\n",
       "  <tbody>\n",
       "    <tr>\n",
       "      <th>0</th>\n",
       "      <td>avg2muts</td>\n",
       "      <td>AAAAACTCTATCTCAT</td>\n",
       "      <td></td>\n",
       "      <td>0</td>\n",
       "      <td>0.125</td>\n",
       "      <td>0.085566</td>\n",
       "    </tr>\n",
       "    <tr>\n",
       "      <th>1</th>\n",
       "      <td>avg2muts</td>\n",
       "      <td>AAAAAGTAGCTGCTAT</td>\n",
       "      <td></td>\n",
       "      <td>0</td>\n",
       "      <td>0.125</td>\n",
       "      <td>0.085566</td>\n",
       "    </tr>\n",
       "    <tr>\n",
       "      <th>2</th>\n",
       "      <td>avg2muts</td>\n",
       "      <td>AAAACAAGCGAGACGG</td>\n",
       "      <td></td>\n",
       "      <td>0</td>\n",
       "      <td>0.125</td>\n",
       "      <td>0.085566</td>\n",
       "    </tr>\n",
       "    <tr>\n",
       "      <th>3</th>\n",
       "      <td>avg2muts</td>\n",
       "      <td>AAAACCCATGATCAGG</td>\n",
       "      <td></td>\n",
       "      <td>0</td>\n",
       "      <td>0.125</td>\n",
       "      <td>0.085566</td>\n",
       "    </tr>\n",
       "    <tr>\n",
       "      <th>4</th>\n",
       "      <td>avg2muts</td>\n",
       "      <td>AAAAGAAGTCCGTTCC</td>\n",
       "      <td></td>\n",
       "      <td>0</td>\n",
       "      <td>0.125</td>\n",
       "      <td>0.085566</td>\n",
       "    </tr>\n",
       "    <tr>\n",
       "      <th>...</th>\n",
       "      <td>...</td>\n",
       "      <td>...</td>\n",
       "      <td>...</td>\n",
       "      <td>...</td>\n",
       "      <td>...</td>\n",
       "      <td>...</td>\n",
       "    </tr>\n",
       "    <tr>\n",
       "      <th>239995</th>\n",
       "      <td>avg3muts</td>\n",
       "      <td>TAGCAGAGGTCGCCGT</td>\n",
       "      <td>Y489V S494R</td>\n",
       "      <td>2</td>\n",
       "      <td>4.000</td>\n",
       "      <td>0.105731</td>\n",
       "    </tr>\n",
       "    <tr>\n",
       "      <th>239996</th>\n",
       "      <td>avg2muts</td>\n",
       "      <td>GCGTTAGGGTACCGAG</td>\n",
       "      <td>Y489V T500L</td>\n",
       "      <td>2</td>\n",
       "      <td>4.000</td>\n",
       "      <td>0.004113</td>\n",
       "    </tr>\n",
       "    <tr>\n",
       "      <th>239997</th>\n",
       "      <td>avg2muts</td>\n",
       "      <td>ACCACTATATGCACGC</td>\n",
       "      <td>Y489W</td>\n",
       "      <td>1</td>\n",
       "      <td>4.000</td>\n",
       "      <td>0.001095</td>\n",
       "    </tr>\n",
       "    <tr>\n",
       "      <th>239998</th>\n",
       "      <td>avg2muts</td>\n",
       "      <td>GCCCCACCCAATTTTT</td>\n",
       "      <td>Y489W</td>\n",
       "      <td>1</td>\n",
       "      <td>4.000</td>\n",
       "      <td>0.001095</td>\n",
       "    </tr>\n",
       "    <tr>\n",
       "      <th>239999</th>\n",
       "      <td>avg2muts</td>\n",
       "      <td>GGACCCGCCCCCTCGT</td>\n",
       "      <td>Y489W</td>\n",
       "      <td>1</td>\n",
       "      <td>4.000</td>\n",
       "      <td>0.001095</td>\n",
       "    </tr>\n",
       "  </tbody>\n",
       "</table>\n",
       "<p>240000 rows × 6 columns</p>\n",
       "</div>"
      ],
      "text/plain": [
       "         library           barcode aa_substitutions  n_aa_substitutions  \\\n",
       "0       avg2muts  AAAAACTCTATCTCAT                                    0   \n",
       "1       avg2muts  AAAAAGTAGCTGCTAT                                    0   \n",
       "2       avg2muts  AAAACAAGCGAGACGG                                    0   \n",
       "3       avg2muts  AAAACCCATGATCAGG                                    0   \n",
       "4       avg2muts  AAAAGAAGTCCGTTCC                                    0   \n",
       "...          ...               ...              ...                 ...   \n",
       "239995  avg3muts  TAGCAGAGGTCGCCGT      Y489V S494R                   2   \n",
       "239996  avg2muts  GCGTTAGGGTACCGAG      Y489V T500L                   2   \n",
       "239997  avg2muts  ACCACTATATGCACGC            Y489W                   1   \n",
       "239998  avg2muts  GCCCCACCCAATTTTT            Y489W                   1   \n",
       "239999  avg2muts  GGACCCGCCCCCTCGT            Y489W                   1   \n",
       "\n",
       "        concentration  prob_escape  \n",
       "0               0.125     0.085566  \n",
       "1               0.125     0.085566  \n",
       "2               0.125     0.085566  \n",
       "3               0.125     0.085566  \n",
       "4               0.125     0.085566  \n",
       "...               ...          ...  \n",
       "239995          4.000     0.105731  \n",
       "239996          4.000     0.004113  \n",
       "239997          4.000     0.001095  \n",
       "239998          4.000     0.001095  \n",
       "239999          4.000     0.001095  \n",
       "\n",
       "[240000 rows x 6 columns]"
      ]
     },
     "execution_count": 6,
     "metadata": {},
     "output_type": "execute_result"
    }
   ],
   "source": [
    "variants_escape = poly_abs.prob_escape(\n",
    "                    variants_df=variants_df,\n",
    "                    concentrations=[0.125, 0.25, 0.5, 1, 2, 4])\n",
    "\n",
    "variants_escape = (variants_escape\n",
    "                   .rename(columns={'predicted_prob_escape': 'prob_escape'})\n",
    "                   )\n",
    "\n",
    "variants_escape"
   ]
  },
  {
   "cell_type": "markdown",
   "metadata": {},
   "source": [
    "Plot some features of the variants, namely the distribution of probability of escape for each number of mutations.\n",
    "As expected, variants with many mutations are more likely to escape the serum:"
   ]
  },
  {
   "cell_type": "code",
   "execution_count": 7,
   "metadata": {
    "execution": {
     "iopub.execute_input": "2021-11-08T00:25:39.625102Z",
     "iopub.status.busy": "2021-11-08T00:25:39.624822Z",
     "iopub.status.idle": "2021-11-08T00:25:49.420958Z",
     "shell.execute_reply": "2021-11-08T00:25:49.420108Z",
     "shell.execute_reply.started": "2021-11-08T00:25:39.625084Z"
    },
    "tags": []
   },
   "outputs": [
    {
     "data": {
      "image/png": "[encoded data removed]",
      "text/plain": [
       "<Figure size 640x480 with 2 Axes>"
      ]
     },
     "metadata": {},
     "output_type": "display_data"
    }
   ],
   "source": [
    "from plotnine import *\n",
    "\n",
    "p = (ggplot(variants_escape\n",
    "            .assign(n_aa_substitutions=lambda x: x['n_aa_substitutions'].map(\n",
    "                                            lambda n: str(n) if n <= 9 else '>9'),\n",
    "                    concentration=lambda x: pd.Categorical(x['concentration'])\n",
    "                    )\n",
    "            ) +\n",
    "     aes('n_aa_substitutions', 'prob_escape', fill='concentration') +\n",
    "     geom_boxplot(outlier_size=0.5, outlier_alpha=0.1) +\n",
    "     facet_wrap('~ library', ncol=1) +\n",
    "     theme(figure_size=(13, 6)) +\n",
    "     theme_classic()\n",
    "     )\n",
    "\n",
    "_ = p.draw()"
   ]
  },
  {
   "cell_type": "markdown",
   "metadata": {},
   "source": [
    "Also, just compute the overall average probability of escape for each library:"
   ]
  },
  {
   "cell_type": "code",
   "execution_count": 8,
   "metadata": {
    "execution": {
     "iopub.execute_input": "2021-11-08T00:25:49.422526Z",
     "iopub.status.busy": "2021-11-08T00:25:49.422277Z",
     "iopub.status.idle": "2021-11-08T00:25:49.449929Z",
     "shell.execute_reply": "2021-11-08T00:25:49.449106Z",
     "shell.execute_reply.started": "2021-11-08T00:25:49.422494Z"
    }
   },
   "outputs": [
    {
     "data": {
      "text/html": [
       "<div>\n",
       "<style scoped>\n",
       "    .dataframe tbody tr th:only-of-type {\n",
       "        vertical-align: middle;\n",
       "    }\n",
       "\n",
       "    .dataframe tbody tr th {\n",
       "        vertical-align: top;\n",
       "    }\n",
       "\n",
       "    .dataframe thead th {\n",
       "        text-align: right;\n",
       "    }\n",
       "</style>\n",
       "<table border=\"1\" class=\"dataframe\">\n",
       "  <thead>\n",
       "    <tr style=\"text-align: right;\">\n",
       "      <th></th>\n",
       "      <th></th>\n",
       "      <th>prob_escape</th>\n",
       "    </tr>\n",
       "    <tr>\n",
       "      <th>library</th>\n",
       "      <th>concentration</th>\n",
       "      <th></th>\n",
       "    </tr>\n",
       "  </thead>\n",
       "  <tbody>\n",
       "    <tr>\n",
       "      <th rowspan=\"6\" valign=\"top\">avg2muts</th>\n",
       "      <th>0.125</th>\n",
       "      <td>0.480040</td>\n",
       "    </tr>\n",
       "    <tr>\n",
       "      <th>0.250</th>\n",
       "      <td>0.345848</td>\n",
       "    </tr>\n",
       "    <tr>\n",
       "      <th>0.500</th>\n",
       "      <td>0.236641</td>\n",
       "    </tr>\n",
       "    <tr>\n",
       "      <th>1.000</th>\n",
       "      <td>0.157006</td>\n",
       "    </tr>\n",
       "    <tr>\n",
       "      <th>2.000</th>\n",
       "      <td>0.103368</td>\n",
       "    </tr>\n",
       "    <tr>\n",
       "      <th>4.000</th>\n",
       "      <td>0.069080</td>\n",
       "    </tr>\n",
       "    <tr>\n",
       "      <th rowspan=\"6\" valign=\"top\">avg3muts</th>\n",
       "      <th>0.125</th>\n",
       "      <td>0.643508</td>\n",
       "    </tr>\n",
       "    <tr>\n",
       "      <th>0.250</th>\n",
       "      <td>0.520242</td>\n",
       "    </tr>\n",
       "    <tr>\n",
       "      <th>0.500</th>\n",
       "      <td>0.402230</td>\n",
       "    </tr>\n",
       "    <tr>\n",
       "      <th>1.000</th>\n",
       "      <td>0.300628</td>\n",
       "    </tr>\n",
       "    <tr>\n",
       "      <th>2.000</th>\n",
       "      <td>0.220368</td>\n",
       "    </tr>\n",
       "    <tr>\n",
       "      <th>4.000</th>\n",
       "      <td>0.161077</td>\n",
       "    </tr>\n",
       "  </tbody>\n",
       "</table>\n",
       "</div>"
      ],
      "text/plain": [
       "                        prob_escape\n",
       "library  concentration             \n",
       "avg2muts 0.125             0.480040\n",
       "         0.250             0.345848\n",
       "         0.500             0.236641\n",
       "         1.000             0.157006\n",
       "         2.000             0.103368\n",
       "         4.000             0.069080\n",
       "avg3muts 0.125             0.643508\n",
       "         0.250             0.520242\n",
       "         0.500             0.402230\n",
       "         1.000             0.300628\n",
       "         2.000             0.220368\n",
       "         4.000             0.161077"
      ]
     },
     "execution_count": 8,
     "metadata": {},
     "output_type": "execute_result"
    }
   ],
   "source": [
    "(variants_escape\n",
    " .groupby(['library', 'concentration'])\n",
    " .aggregate({'prob_escape': 'mean'})\n",
    " )"
   ]
  },
  {
   "cell_type": "markdown",
   "metadata": {},
   "source": [
    "We also want to acknowledge the fact that a real experiment will have some noise in the data. This noise is likely to come in two forms:\n",
    "  \n",
    "  1. Inaccuracies in the measurements of the probabilities of escape, $p_v\\left(c\\right)$.\n",
    "  2. Occassional mis-assignment of which mutations are in a variant due to sequencing errors.\n",
    "  \n",
    "We therefore will make a \"noisy\" version of `variants_df` where we have incorporated both of these sources of noise by adding Gaussian measurement error to the escape probabilities (but then truncating them to be between 0 and 1), and by adding or subtracting a mutation to occassional variants to represent sequencing errors."
   ]
  },
  {
   "cell_type": "code",
   "execution_count": 9,
   "metadata": {
    "execution": {
     "iopub.execute_input": "2021-11-08T00:25:49.450906Z",
     "iopub.status.busy": "2021-11-08T00:25:49.450761Z",
     "iopub.status.idle": "2021-11-08T00:25:49.972691Z",
     "shell.execute_reply": "2021-11-08T00:25:49.971875Z",
     "shell.execute_reply.started": "2021-11-08T00:25:49.450890Z"
    },
    "tags": []
   },
   "outputs": [
    {
     "data": {
      "text/html": [
       "<div>\n",
       "<style scoped>\n",
       "    .dataframe tbody tr th:only-of-type {\n",
       "        vertical-align: middle;\n",
       "    }\n",
       "\n",
       "    .dataframe tbody tr th {\n",
       "        vertical-align: top;\n",
       "    }\n",
       "\n",
       "    .dataframe thead th {\n",
       "        text-align: right;\n",
       "    }\n",
       "</style>\n",
       "<table border=\"1\" class=\"dataframe\">\n",
       "  <thead>\n",
       "    <tr style=\"text-align: right;\">\n",
       "      <th></th>\n",
       "      <th>library</th>\n",
       "      <th>aa_substitutions</th>\n",
       "      <th>concentration</th>\n",
       "      <th>prob_escape</th>\n",
       "    </tr>\n",
       "  </thead>\n",
       "  <tbody>\n",
       "    <tr>\n",
       "      <th>0</th>\n",
       "      <td>avg2muts</td>\n",
       "      <td></td>\n",
       "      <td>0.125</td>\n",
       "      <td>0.166783</td>\n",
       "    </tr>\n",
       "    <tr>\n",
       "      <th>1</th>\n",
       "      <td>avg2muts</td>\n",
       "      <td></td>\n",
       "      <td>0.125</td>\n",
       "      <td>0.054978</td>\n",
       "    </tr>\n",
       "    <tr>\n",
       "      <th>2</th>\n",
       "      <td>avg2muts</td>\n",
       "      <td></td>\n",
       "      <td>0.125</td>\n",
       "      <td>0.059157</td>\n",
       "    </tr>\n",
       "    <tr>\n",
       "      <th>3</th>\n",
       "      <td>avg2muts</td>\n",
       "      <td></td>\n",
       "      <td>0.125</td>\n",
       "      <td>0.031918</td>\n",
       "    </tr>\n",
       "    <tr>\n",
       "      <th>4</th>\n",
       "      <td>avg2muts</td>\n",
       "      <td></td>\n",
       "      <td>0.125</td>\n",
       "      <td>0.128836</td>\n",
       "    </tr>\n",
       "    <tr>\n",
       "      <th>...</th>\n",
       "      <td>...</td>\n",
       "      <td>...</td>\n",
       "      <td>...</td>\n",
       "      <td>...</td>\n",
       "    </tr>\n",
       "    <tr>\n",
       "      <th>239995</th>\n",
       "      <td>avg3muts</td>\n",
       "      <td>Y489V S494R</td>\n",
       "      <td>4.000</td>\n",
       "      <td>0.087186</td>\n",
       "    </tr>\n",
       "    <tr>\n",
       "      <th>239996</th>\n",
       "      <td>avg2muts</td>\n",
       "      <td>Y489V T500L</td>\n",
       "      <td>4.000</td>\n",
       "      <td>0.000000</td>\n",
       "    </tr>\n",
       "    <tr>\n",
       "      <th>239997</th>\n",
       "      <td>avg2muts</td>\n",
       "      <td>Y489W</td>\n",
       "      <td>4.000</td>\n",
       "      <td>0.000000</td>\n",
       "    </tr>\n",
       "    <tr>\n",
       "      <th>239998</th>\n",
       "      <td>avg2muts</td>\n",
       "      <td>Y489W</td>\n",
       "      <td>4.000</td>\n",
       "      <td>0.000000</td>\n",
       "    </tr>\n",
       "    <tr>\n",
       "      <th>239999</th>\n",
       "      <td>avg2muts</td>\n",
       "      <td></td>\n",
       "      <td>4.000</td>\n",
       "      <td>0.062843</td>\n",
       "    </tr>\n",
       "  </tbody>\n",
       "</table>\n",
       "<p>240000 rows × 4 columns</p>\n",
       "</div>"
      ],
      "text/plain": [
       "         library aa_substitutions  concentration  prob_escape\n",
       "0       avg2muts                           0.125     0.166783\n",
       "1       avg2muts                           0.125     0.054978\n",
       "2       avg2muts                           0.125     0.059157\n",
       "3       avg2muts                           0.125     0.031918\n",
       "4       avg2muts                           0.125     0.128836\n",
       "...          ...              ...            ...          ...\n",
       "239995  avg3muts      Y489V S494R          4.000     0.087186\n",
       "239996  avg2muts      Y489V T500L          4.000     0.000000\n",
       "239997  avg2muts            Y489W          4.000     0.000000\n",
       "239998  avg2muts            Y489W          4.000     0.000000\n",
       "239999  avg2muts                           4.000     0.062843\n",
       "\n",
       "[240000 rows x 4 columns]"
      ]
     },
     "execution_count": 9,
     "metadata": {},
     "output_type": "execute_result"
    }
   ],
   "source": [
    "import numpy\n",
    "\n",
    "numpy.random.seed(1)  # seed for reproducible output\n",
    "\n",
    "def add_subtract_mutation(subs):\n",
    "    \"\"\"Sometimes add or subtract a mutation.\"\"\"\n",
    "    subs = subs.split()\n",
    "    sub_sites = [int(sub[1: -1]) for sub in subs]\n",
    "    rand = numpy.random.random()\n",
    "    if rand < 0.01:  # add mutation with 1% probability\n",
    "        mut = numpy.random.choice(poly_abs.mutations)\n",
    "        while int(mut[1: -1]) in sub_sites:\n",
    "            mut = numpy.random.choice(poly_abs.mutations)\n",
    "        subs.append(mut)\n",
    "    elif rand > 0.99 and subs:  # subtract mutation with 1% probability\n",
    "        subs.pop(numpy.random.randint(len(subs)))\n",
    "    return ' '.join(subs)\n",
    "\n",
    "# only keep needed columns in variants_escape\n",
    "variants_escape = (\n",
    "    variants_escape\n",
    "    [['library', 'aa_substitutions', 'concentration', 'prob_escape']]\n",
    "    )\n",
    "\n",
    "# simulate noisy variants\n",
    "noisy_variants_escape = (\n",
    "    variants_escape\n",
    "    .assign(\n",
    "        # add Gaussian noise with standard deviation of 0.05\n",
    "        prob_escape=lambda x: (x['prob_escape'] +\n",
    "                               numpy.random.normal(scale=0.05, size=len(x))\n",
    "                               ).clip(lower=0, upper=1),\n",
    "        # add rare sequencing errors to variants\n",
    "        aa_substitutions=lambda x: x['aa_substitutions'].map(add_subtract_mutation),\n",
    "        )\n",
    "    )\n",
    "\n",
    "noisy_variants_escape"
   ]
  },
  {
   "cell_type": "markdown",
   "metadata": {},
   "source": [
    "We will write these data frames giving the variants $v$ and their probabilities of escape $p_v\\left(c\\right)$ at each serum concentration $c$ to CSV files:\n",
    "\n",
    " - [RBD_variants_escape_exact.csv](RBD_variants_escape_exact.csv) for the measurements without noise\n",
    " - [RBD_variants_escape_noisy.csv](RBD_variants_escape_noisy.csv) for the measurements with realistic experimental noise\n",
    "\n",
    "The goal is to infer the properties of the escape mutations and the serum, $a_{\\rm{wt},e}$ and $\\beta_{m,e}$, from these data, which are what would be measured in a deep mutational scanning experiment."
   ]
  },
  {
   "cell_type": "code",
   "execution_count": 10,
   "metadata": {
    "execution": {
     "iopub.execute_input": "2021-11-08T00:25:49.973902Z",
     "iopub.status.busy": "2021-11-08T00:25:49.973611Z",
     "iopub.status.idle": "2021-11-08T00:25:51.462864Z",
     "shell.execute_reply": "2021-11-08T00:25:51.461921Z",
     "shell.execute_reply.started": "2021-11-08T00:25:49.973880Z"
    },
    "tags": []
   },
   "outputs": [],
   "source": [
    "variants_escape.to_csv('RBD_variants_escape_exact.csv',\n",
    "                       index=False, float_format='%.4g')\n",
    "noisy_variants_escape.to_csv('RBD_variants_escape_noisy.csv',\n",
    "                             index=False, float_format='%.4g')"
   ]
  }
 ],
 "metadata": {
  "kernelspec": {
   "display_name": "Python 3 (ipykernel)",
   "language": "python",
   "name": "python3"
  },
  "language_info": {
   "codemirror_mode": {
    "name": "ipython",
    "version": 3
   },
   "file_extension": ".py",
   "mimetype": "text/x-python",
   "name": "python",
   "nbconvert_exporter": "python",
   "pygments_lexer": "ipython3",
   "version": "3.8.12"
  }
 },
 "nbformat": 4,
 "nbformat_minor": 4
}
