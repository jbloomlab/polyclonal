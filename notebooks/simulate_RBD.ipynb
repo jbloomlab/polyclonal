{
 "cells": [
  {
   "cell_type": "markdown",
   "metadata": {
    "tags": []
   },
   "source": [
    "# Simulate experiment\n",
    "We will simulate data from a deep mutational scanning experiment using the RBD antibody mix in order to provide hypothetical data on which to fit a `Polyclonal` model.\n",
    "\n",
    "We first define a `Polyclonal` object that represents the antibody mix we want to simulate.\n",
    "This mix is again based on the three RBD antibodies targeting class 1, 2, and 3 epitopes.\n",
    "But to make the simulated data smaller and easier to fit in this example, we only include mutations in the range from site 415 to 490 in the RBD, which includes most of the major epitopes:"
   ]
  },
  {
   "cell_type": "code",
   "execution_count": 1,
   "metadata": {
    "execution": {
     "iopub.execute_input": "2021-11-09T23:59:50.407610Z",
     "iopub.status.busy": "2021-11-09T23:59:50.407057Z",
     "iopub.status.idle": "2021-11-09T23:59:52.109656Z",
     "shell.execute_reply": "2021-11-09T23:59:52.108777Z",
     "shell.execute_reply.started": "2021-11-09T23:59:50.407497Z"
    },
    "tags": []
   },
   "outputs": [
    {
     "name": "stdout",
     "output_type": "stream",
     "text": [
      "Epitopes: ('class 1', 'class 2', 'class 3')\n",
      "Number of mutations: 760\n",
      "Number of sites: 63\n"
     ]
    }
   ],
   "source": [
    "import pandas as pd\n",
    "\n",
    "import polyclonal\n",
    "\n",
    "# only keep mutations in this site range\n",
    "site_start = 415\n",
    "site_end = 490\n",
    "\n",
    "# read data needed to initialize `Polyclonal` object\n",
    "activity_wt_df = pd.read_csv('RBD_activity_wt_df.csv')\n",
    "mut_escape_df = pd.read_csv('RBD_mut_escape_df.csv')\n",
    "\n",
    "# get only mutations in site range\n",
    "mut_escape_df = (\n",
    "    mut_escape_df\n",
    "    .assign(site=lambda x: x['mutation'].str[1: -1].astype(int))\n",
    "    .query('(site >= @site_start) & (site <= @site_end)')\n",
    "    .reset_index(drop=True)\n",
    "    )\n",
    "\n",
    "# create `Polyclonal` object with actual antibody mix\n",
    "poly_abs = polyclonal.Polyclonal(\n",
    "                    activity_wt_df=activity_wt_df,\n",
    "                    mut_escape_df=mut_escape_df)\n",
    "\n",
    "print(f\"Epitopes: {poly_abs.epitopes}\")\n",
    "print(f\"Number of mutations: {len(poly_abs.mutations)}\")\n",
    "print(f\"Number of sites: {len(poly_abs.sites)}\")"
   ]
  },
  {
   "cell_type": "markdown",
   "metadata": {},
   "source": [
    "Now we simulate libraries of variants with an average of 2 and 3 mutations per gene.\n",
    "These libraries only contain mutations for which we defined mutation escape above.\n",
    "We a [dms_variants](https://jbloomlab.github.io/dms_variants/) `CodonVariantTable` for the RBD with these mutations.\n",
    "Note that because the `CodonVariantTable` requires sequential 1, 2, ... numbering, we have to do some shifting of sites back and forth with an offset of 399 since we defined the RBD region of interest for us to start at site 400:"
   ]
  },
  {
   "cell_type": "code",
   "execution_count": 2,
   "metadata": {
    "execution": {
     "iopub.execute_input": "2021-11-09T23:59:52.111271Z",
     "iopub.status.busy": "2021-11-09T23:59:52.111101Z",
     "iopub.status.idle": "2021-11-09T23:59:56.078426Z",
     "shell.execute_reply": "2021-11-09T23:59:56.077613Z",
     "shell.execute_reply.started": "2021-11-09T23:59:52.111249Z"
    },
    "tags": []
   },
   "outputs": [
    {
     "name": "stdout",
     "output_type": "stream",
     "text": [
      "There are 760 allowed amino-acid mutations.\n"
     ]
    }
   ],
   "source": [
    "import Bio.SeqIO\n",
    "\n",
    "import dms_variants.simulate\n",
    "\n",
    "import polyclonal.utils\n",
    "\n",
    "# read coding sequence, then slice to just region of interest\n",
    "# noting that RBD starts at residue 331\n",
    "geneseq = str(Bio.SeqIO.read('RBD_seq.fasta', 'fasta').seq)\n",
    "geneseq = geneseq[3 * (site_start - 331): 3 * (site_end - 331 + 1)]\n",
    "\n",
    "allowed_aa_muts = poly_abs.mut_escape_df['mutation'].unique()\n",
    "print(f\"There are {len(allowed_aa_muts)} allowed amino-acid mutations.\")\n",
    "\n",
    "variants = dms_variants.simulate.simulate_CodonVariantTable(\n",
    "                        geneseq=geneseq,\n",
    "                        bclen=16,\n",
    "                        library_specs={'avg2muts': {'avgmuts': 2.0,\n",
    "                                                    'nvariants': 10000},\n",
    "                                       'avg3muts': {'avgmuts': 3.0,\n",
    "                                                    'nvariants': 10000},\n",
    "                                       },\n",
    "                        allowed_aa_muts=[polyclonal.utils.shift_mut_site(m, -site_start + 1)\n",
    "                                         for m in allowed_aa_muts],\n",
    "                        )"
   ]
  },
  {
   "cell_type": "markdown",
   "metadata": {},
   "source": [
    "Now look at the distribution of the number of amino-acid mutations per-variant in the library.\n",
    "The mutation rate is relatively high as we pre-screened for tolerated mutations and need multiple mutants to decompose the sera mix:"
   ]
  },
  {
   "cell_type": "code",
   "execution_count": 3,
   "metadata": {
    "execution": {
     "iopub.execute_input": "2021-11-09T23:59:56.079499Z",
     "iopub.status.busy": "2021-11-09T23:59:56.079346Z",
     "iopub.status.idle": "2021-11-09T23:59:56.822774Z",
     "shell.execute_reply": "2021-11-09T23:59:56.821679Z",
     "shell.execute_reply.started": "2021-11-09T23:59:56.079480Z"
    },
    "tags": []
   },
   "outputs": [
    {
     "data": {
      "image/png": "[encoded data removed]",
      "text/plain": [
       "<Figure size 400x210 with 2 Axes>"
      ]
     },
     "metadata": {},
     "output_type": "display_data"
    }
   ],
   "source": [
    "p = variants.plotNumMutsHistogram(mut_type='aa', samples=None,\n",
    "                                  libraries=variants.libraries)\n",
    "_ = p.draw()"
   ]
  },
  {
   "cell_type": "markdown",
   "metadata": {},
   "source": [
    "We also look at the mutation rate across the gene.\n",
    "Note that this is sequential numbering of the sequence.\n",
    "Also, the per-site mutation frequency is uneven because we only include tolerated mutations, and there are different number of tolerated mutations per site:"
   ]
  },
  {
   "cell_type": "code",
   "execution_count": 4,
   "metadata": {
    "execution": {
     "iopub.execute_input": "2021-11-09T23:59:56.824655Z",
     "iopub.status.busy": "2021-11-09T23:59:56.824347Z",
     "iopub.status.idle": "2021-11-09T23:59:57.345767Z",
     "shell.execute_reply": "2021-11-09T23:59:57.345024Z",
     "shell.execute_reply.started": "2021-11-09T23:59:56.824628Z"
    },
    "tags": []
   },
   "outputs": [
    {
     "data": {
      "image/png": "[encoded data removed]",
      "text/plain": [
       "<Figure size 520x180 with 2 Axes>"
      ]
     },
     "metadata": {},
     "output_type": "display_data"
    }
   ],
   "source": [
    "p = variants.plotMutFreqs(variant_type='all', mut_type='aa',\n",
    "                          samples=None, libraries=variants.libraries)\n",
    "_ = p.draw()"
   ]
  },
  {
   "cell_type": "markdown",
   "metadata": {},
   "source": [
    "Now we get the data frame with the amino-acid substitutions for each variant, re-adding site offset to get back to RBD numbering:"
   ]
  },
  {
   "cell_type": "code",
   "execution_count": 5,
   "metadata": {
    "execution": {
     "iopub.execute_input": "2021-11-09T23:59:57.347029Z",
     "iopub.status.busy": "2021-11-09T23:59:57.346751Z",
     "iopub.status.idle": "2021-11-09T23:59:57.434984Z",
     "shell.execute_reply": "2021-11-09T23:59:57.434325Z",
     "shell.execute_reply.started": "2021-11-09T23:59:57.347005Z"
    },
    "tags": []
   },
   "outputs": [
    {
     "data": {
      "text/html": [
       "<div>\n",
       "<style scoped>\n",
       "    .dataframe tbody tr th:only-of-type {\n",
       "        vertical-align: middle;\n",
       "    }\n",
       "\n",
       "    .dataframe tbody tr th {\n",
       "        vertical-align: top;\n",
       "    }\n",
       "\n",
       "    .dataframe thead th {\n",
       "        text-align: right;\n",
       "    }\n",
       "</style>\n",
       "<table border=\"1\" class=\"dataframe\">\n",
       "  <thead>\n",
       "    <tr style=\"text-align: right;\">\n",
       "      <th></th>\n",
       "      <th>library</th>\n",
       "      <th>barcode</th>\n",
       "      <th>aa_substitutions</th>\n",
       "      <th>n_aa_substitutions</th>\n",
       "    </tr>\n",
       "  </thead>\n",
       "  <tbody>\n",
       "    <tr>\n",
       "      <th>0</th>\n",
       "      <td>avg2muts</td>\n",
       "      <td>AAAAAAAATTCAAGAT</td>\n",
       "      <td>S459L</td>\n",
       "      <td>1</td>\n",
       "    </tr>\n",
       "    <tr>\n",
       "      <th>1</th>\n",
       "      <td>avg2muts</td>\n",
       "      <td>AAAAAAGTCATACTCG</td>\n",
       "      <td>S443A</td>\n",
       "      <td>1</td>\n",
       "    </tr>\n",
       "    <tr>\n",
       "      <th>2</th>\n",
       "      <td>avg2muts</td>\n",
       "      <td>AAAAAAGTCCTATCAT</td>\n",
       "      <td>K444Q</td>\n",
       "      <td>1</td>\n",
       "    </tr>\n",
       "    <tr>\n",
       "      <th>3</th>\n",
       "      <td>avg2muts</td>\n",
       "      <td>AAAAAATCGCATCATA</td>\n",
       "      <td>G476R</td>\n",
       "      <td>1</td>\n",
       "    </tr>\n",
       "    <tr>\n",
       "      <th>4</th>\n",
       "      <td>avg2muts</td>\n",
       "      <td>AAAAACTCGCAAGTCG</td>\n",
       "      <td>K462Q</td>\n",
       "      <td>1</td>\n",
       "    </tr>\n",
       "    <tr>\n",
       "      <th>...</th>\n",
       "      <td>...</td>\n",
       "      <td>...</td>\n",
       "      <td>...</td>\n",
       "      <td>...</td>\n",
       "    </tr>\n",
       "    <tr>\n",
       "      <th>19995</th>\n",
       "      <td>avg3muts</td>\n",
       "      <td>TTTTTCCCGCGGGTCG</td>\n",
       "      <td>N487H</td>\n",
       "      <td>1</td>\n",
       "    </tr>\n",
       "    <tr>\n",
       "      <th>19996</th>\n",
       "      <td>avg3muts</td>\n",
       "      <td>TTTTTGGTCATCACTA</td>\n",
       "      <td>N440S K462V</td>\n",
       "      <td>2</td>\n",
       "    </tr>\n",
       "    <tr>\n",
       "      <th>19997</th>\n",
       "      <td>avg3muts</td>\n",
       "      <td>TTTTTTCCGAAGTCGA</td>\n",
       "      <td>N439Q N440S L441H G446V L452G N460I</td>\n",
       "      <td>6</td>\n",
       "    </tr>\n",
       "    <tr>\n",
       "      <th>19998</th>\n",
       "      <td>avg3muts</td>\n",
       "      <td>TTTTTTGTTCCTACAG</td>\n",
       "      <td>K417I D420R D427W G447L F456L N460D T470L I472...</td>\n",
       "      <td>9</td>\n",
       "    </tr>\n",
       "    <tr>\n",
       "      <th>19999</th>\n",
       "      <td>avg3muts</td>\n",
       "      <td>TTTTTTTACGAGCAGA</td>\n",
       "      <td>A475T</td>\n",
       "      <td>1</td>\n",
       "    </tr>\n",
       "  </tbody>\n",
       "</table>\n",
       "<p>20000 rows × 4 columns</p>\n",
       "</div>"
      ],
      "text/plain": [
       "        library           barcode  \\\n",
       "0      avg2muts  AAAAAAAATTCAAGAT   \n",
       "1      avg2muts  AAAAAAGTCATACTCG   \n",
       "2      avg2muts  AAAAAAGTCCTATCAT   \n",
       "3      avg2muts  AAAAAATCGCATCATA   \n",
       "4      avg2muts  AAAAACTCGCAAGTCG   \n",
       "...         ...               ...   \n",
       "19995  avg3muts  TTTTTCCCGCGGGTCG   \n",
       "19996  avg3muts  TTTTTGGTCATCACTA   \n",
       "19997  avg3muts  TTTTTTCCGAAGTCGA   \n",
       "19998  avg3muts  TTTTTTGTTCCTACAG   \n",
       "19999  avg3muts  TTTTTTTACGAGCAGA   \n",
       "\n",
       "                                        aa_substitutions  n_aa_substitutions  \n",
       "0                                                  S459L                   1  \n",
       "1                                                  S443A                   1  \n",
       "2                                                  K444Q                   1  \n",
       "3                                                  G476R                   1  \n",
       "4                                                  K462Q                   1  \n",
       "...                                                  ...                 ...  \n",
       "19995                                              N487H                   1  \n",
       "19996                                        N440S K462V                   2  \n",
       "19997                N439Q N440S L441H G446V L452G N460I                   6  \n",
       "19998  K417I D420R D427W G447L F456L N460D T470L I472...                   9  \n",
       "19999                                              A475T                   1  \n",
       "\n",
       "[20000 rows x 4 columns]"
      ]
     },
     "execution_count": 5,
     "metadata": {},
     "output_type": "execute_result"
    }
   ],
   "source": [
    "variants_df = (\n",
    "    variants.barcode_variant_df\n",
    "    [['library', 'barcode', 'aa_substitutions', 'n_aa_substitutions']]\n",
    "    .assign(aa_substitutions=lambda x: x['aa_substitutions'].apply(\n",
    "                                polyclonal.utils.shift_mut_site, shift=site_start - 1)\n",
    "            )\n",
    "    )\n",
    "\n",
    "variants_df"
   ]
  },
  {
   "cell_type": "markdown",
   "metadata": {},
   "source": [
    "Now we use our `Polyclonal` object to compute the predicted probability of escape ($p_v\\left(c\\right)$) at multiple serum concentrations given the mutation escape values $\\beta_{m,e}$ and activities $a_{\\rm{wt},e}$ stored in the `Polyclonal` object.\n",
    "Since we will use these as the \"true\" values in our our simulation, we then rename the column with the predicted probabilities of escape to just be the probabilities of escape:"
   ]
  },
  {
   "cell_type": "code",
   "execution_count": 6,
   "metadata": {
    "execution": {
     "iopub.execute_input": "2021-11-09T23:59:57.436171Z",
     "iopub.status.busy": "2021-11-09T23:59:57.435892Z",
     "iopub.status.idle": "2021-11-09T23:59:58.213214Z",
     "shell.execute_reply": "2021-11-09T23:59:58.212527Z",
     "shell.execute_reply.started": "2021-11-09T23:59:57.436149Z"
    },
    "tags": []
   },
   "outputs": [
    {
     "data": {
      "text/html": [
       "<div>\n",
       "<style scoped>\n",
       "    .dataframe tbody tr th:only-of-type {\n",
       "        vertical-align: middle;\n",
       "    }\n",
       "\n",
       "    .dataframe tbody tr th {\n",
       "        vertical-align: top;\n",
       "    }\n",
       "\n",
       "    .dataframe thead th {\n",
       "        text-align: right;\n",
       "    }\n",
       "</style>\n",
       "<table border=\"1\" class=\"dataframe\">\n",
       "  <thead>\n",
       "    <tr style=\"text-align: right;\">\n",
       "      <th></th>\n",
       "      <th>library</th>\n",
       "      <th>barcode</th>\n",
       "      <th>aa_substitutions</th>\n",
       "      <th>n_aa_substitutions</th>\n",
       "      <th>concentration</th>\n",
       "      <th>prob_escape</th>\n",
       "    </tr>\n",
       "  </thead>\n",
       "  <tbody>\n",
       "    <tr>\n",
       "      <th>0</th>\n",
       "      <td>avg2muts</td>\n",
       "      <td>AAAAATTTGAAGTATG</td>\n",
       "      <td></td>\n",
       "      <td>0</td>\n",
       "      <td>0.125</td>\n",
       "      <td>0.085566</td>\n",
       "    </tr>\n",
       "    <tr>\n",
       "      <th>1</th>\n",
       "      <td>avg2muts</td>\n",
       "      <td>AAAACGTAAGGCGGGC</td>\n",
       "      <td></td>\n",
       "      <td>0</td>\n",
       "      <td>0.125</td>\n",
       "      <td>0.085566</td>\n",
       "    </tr>\n",
       "    <tr>\n",
       "      <th>2</th>\n",
       "      <td>avg2muts</td>\n",
       "      <td>AAAACTCAGCCTTGGA</td>\n",
       "      <td></td>\n",
       "      <td>0</td>\n",
       "      <td>0.125</td>\n",
       "      <td>0.085566</td>\n",
       "    </tr>\n",
       "    <tr>\n",
       "      <th>3</th>\n",
       "      <td>avg2muts</td>\n",
       "      <td>AAAACTGGTACATGTG</td>\n",
       "      <td></td>\n",
       "      <td>0</td>\n",
       "      <td>0.125</td>\n",
       "      <td>0.085566</td>\n",
       "    </tr>\n",
       "    <tr>\n",
       "      <th>4</th>\n",
       "      <td>avg2muts</td>\n",
       "      <td>AAAAGCCGGACACTTG</td>\n",
       "      <td></td>\n",
       "      <td>0</td>\n",
       "      <td>0.125</td>\n",
       "      <td>0.085566</td>\n",
       "    </tr>\n",
       "    <tr>\n",
       "      <th>...</th>\n",
       "      <td>...</td>\n",
       "      <td>...</td>\n",
       "      <td>...</td>\n",
       "      <td>...</td>\n",
       "      <td>...</td>\n",
       "      <td>...</td>\n",
       "    </tr>\n",
       "    <tr>\n",
       "      <th>119995</th>\n",
       "      <td>avg3muts</td>\n",
       "      <td>ATAGCTGCTTGCTGGC</td>\n",
       "      <td>Y489V</td>\n",
       "      <td>1</td>\n",
       "      <td>4.000</td>\n",
       "      <td>0.001109</td>\n",
       "    </tr>\n",
       "    <tr>\n",
       "      <th>119996</th>\n",
       "      <td>avg3muts</td>\n",
       "      <td>GCATATGATACTTCTT</td>\n",
       "      <td>Y489V</td>\n",
       "      <td>1</td>\n",
       "      <td>4.000</td>\n",
       "      <td>0.001109</td>\n",
       "    </tr>\n",
       "    <tr>\n",
       "      <th>119997</th>\n",
       "      <td>avg3muts</td>\n",
       "      <td>TCGTACATCTTAAAGA</td>\n",
       "      <td>Y489V</td>\n",
       "      <td>1</td>\n",
       "      <td>4.000</td>\n",
       "      <td>0.001109</td>\n",
       "    </tr>\n",
       "    <tr>\n",
       "      <th>119998</th>\n",
       "      <td>avg2muts</td>\n",
       "      <td>ACCATGGTAGATTCAT</td>\n",
       "      <td>Y489W</td>\n",
       "      <td>1</td>\n",
       "      <td>4.000</td>\n",
       "      <td>0.001095</td>\n",
       "    </tr>\n",
       "    <tr>\n",
       "      <th>119999</th>\n",
       "      <td>avg2muts</td>\n",
       "      <td>GGACCGAGAGGGGTGG</td>\n",
       "      <td>Y489W</td>\n",
       "      <td>1</td>\n",
       "      <td>4.000</td>\n",
       "      <td>0.001095</td>\n",
       "    </tr>\n",
       "  </tbody>\n",
       "</table>\n",
       "<p>120000 rows × 6 columns</p>\n",
       "</div>"
      ],
      "text/plain": [
       "         library           barcode aa_substitutions  n_aa_substitutions  \\\n",
       "0       avg2muts  AAAAATTTGAAGTATG                                    0   \n",
       "1       avg2muts  AAAACGTAAGGCGGGC                                    0   \n",
       "2       avg2muts  AAAACTCAGCCTTGGA                                    0   \n",
       "3       avg2muts  AAAACTGGTACATGTG                                    0   \n",
       "4       avg2muts  AAAAGCCGGACACTTG                                    0   \n",
       "...          ...               ...              ...                 ...   \n",
       "119995  avg3muts  ATAGCTGCTTGCTGGC            Y489V                   1   \n",
       "119996  avg3muts  GCATATGATACTTCTT            Y489V                   1   \n",
       "119997  avg3muts  TCGTACATCTTAAAGA            Y489V                   1   \n",
       "119998  avg2muts  ACCATGGTAGATTCAT            Y489W                   1   \n",
       "119999  avg2muts  GGACCGAGAGGGGTGG            Y489W                   1   \n",
       "\n",
       "        concentration  prob_escape  \n",
       "0               0.125     0.085566  \n",
       "1               0.125     0.085566  \n",
       "2               0.125     0.085566  \n",
       "3               0.125     0.085566  \n",
       "4               0.125     0.085566  \n",
       "...               ...          ...  \n",
       "119995          4.000     0.001109  \n",
       "119996          4.000     0.001109  \n",
       "119997          4.000     0.001109  \n",
       "119998          4.000     0.001095  \n",
       "119999          4.000     0.001095  \n",
       "\n",
       "[120000 rows x 6 columns]"
      ]
     },
     "execution_count": 6,
     "metadata": {},
     "output_type": "execute_result"
    }
   ],
   "source": [
    "variants_escape = poly_abs.prob_escape(\n",
    "                    variants_df=variants_df,\n",
    "                    concentrations=[0.125, 0.25, 0.5, 1, 2, 4])\n",
    "\n",
    "variants_escape = (variants_escape\n",
    "                   .rename(columns={'predicted_prob_escape': 'prob_escape'})\n",
    "                   )\n",
    "\n",
    "variants_escape"
   ]
  },
  {
   "cell_type": "markdown",
   "metadata": {},
   "source": [
    "Plot some features of the variants, namely the distribution of probability of escape for each number of mutations.\n",
    "As expected, variants with many mutations are more likely to escape the serum:"
   ]
  },
  {
   "cell_type": "code",
   "execution_count": 7,
   "metadata": {
    "execution": {
     "iopub.execute_input": "2021-11-09T23:59:58.214652Z",
     "iopub.status.busy": "2021-11-09T23:59:58.214387Z",
     "iopub.status.idle": "2021-11-10T00:00:07.272656Z",
     "shell.execute_reply": "2021-11-10T00:00:07.271657Z",
     "shell.execute_reply.started": "2021-11-09T23:59:58.214632Z"
    },
    "tags": []
   },
   "outputs": [
    {
     "data": {
      "image/png": "[encoded data removed]",
      "text/plain": [
       "<Figure size 640x480 with 2 Axes>"
      ]
     },
     "metadata": {},
     "output_type": "display_data"
    }
   ],
   "source": [
    "from plotnine import *\n",
    "\n",
    "p = (ggplot(variants_escape\n",
    "            .assign(n_aa_substitutions=lambda x: x['n_aa_substitutions'].map(\n",
    "                                            lambda n: str(n) if n <= 9 else '>9'),\n",
    "                    concentration=lambda x: pd.Categorical(x['concentration'])\n",
    "                    )\n",
    "            ) +\n",
    "     aes('n_aa_substitutions', 'prob_escape', fill='concentration') +\n",
    "     geom_boxplot(outlier_size=0.5, outlier_alpha=0.1) +\n",
    "     facet_wrap('~ library', ncol=1) +\n",
    "     theme(figure_size=(13, 6)) +\n",
    "     theme_classic()\n",
    "     )\n",
    "\n",
    "_ = p.draw()"
   ]
  },
  {
   "cell_type": "markdown",
   "metadata": {},
   "source": [
    "Also, just compute the overall average probability of escape for each library:"
   ]
  },
  {
   "cell_type": "code",
   "execution_count": 8,
   "metadata": {
    "execution": {
     "iopub.execute_input": "2021-11-10T00:00:07.274938Z",
     "iopub.status.busy": "2021-11-10T00:00:07.274548Z",
     "iopub.status.idle": "2021-11-10T00:00:07.294493Z",
     "shell.execute_reply": "2021-11-10T00:00:07.293890Z",
     "shell.execute_reply.started": "2021-11-10T00:00:07.274909Z"
    }
   },
   "outputs": [
    {
     "data": {
      "text/html": [
       "<div>\n",
       "<style scoped>\n",
       "    .dataframe tbody tr th:only-of-type {\n",
       "        vertical-align: middle;\n",
       "    }\n",
       "\n",
       "    .dataframe tbody tr th {\n",
       "        vertical-align: top;\n",
       "    }\n",
       "\n",
       "    .dataframe thead th {\n",
       "        text-align: right;\n",
       "    }\n",
       "</style>\n",
       "<table border=\"1\" class=\"dataframe\">\n",
       "  <thead>\n",
       "    <tr style=\"text-align: right;\">\n",
       "      <th></th>\n",
       "      <th></th>\n",
       "      <th>prob_escape</th>\n",
       "    </tr>\n",
       "    <tr>\n",
       "      <th>library</th>\n",
       "      <th>concentration</th>\n",
       "      <th></th>\n",
       "    </tr>\n",
       "  </thead>\n",
       "  <tbody>\n",
       "    <tr>\n",
       "      <th rowspan=\"6\" valign=\"top\">avg2muts</th>\n",
       "      <th>0.125</th>\n",
       "      <td>0.485058</td>\n",
       "    </tr>\n",
       "    <tr>\n",
       "      <th>0.250</th>\n",
       "      <td>0.351169</td>\n",
       "    </tr>\n",
       "    <tr>\n",
       "      <th>0.500</th>\n",
       "      <td>0.241725</td>\n",
       "    </tr>\n",
       "    <tr>\n",
       "      <th>1.000</th>\n",
       "      <td>0.161721</td>\n",
       "    </tr>\n",
       "    <tr>\n",
       "      <th>2.000</th>\n",
       "      <td>0.107855</td>\n",
       "    </tr>\n",
       "    <tr>\n",
       "      <th>4.000</th>\n",
       "      <td>0.073475</td>\n",
       "    </tr>\n",
       "    <tr>\n",
       "      <th rowspan=\"6\" valign=\"top\">avg3muts</th>\n",
       "      <th>0.125</th>\n",
       "      <td>0.644892</td>\n",
       "    </tr>\n",
       "    <tr>\n",
       "      <th>0.250</th>\n",
       "      <td>0.522379</td>\n",
       "    </tr>\n",
       "    <tr>\n",
       "      <th>0.500</th>\n",
       "      <td>0.404985</td>\n",
       "    </tr>\n",
       "    <tr>\n",
       "      <th>1.000</th>\n",
       "      <td>0.303890</td>\n",
       "    </tr>\n",
       "    <tr>\n",
       "      <th>2.000</th>\n",
       "      <td>0.224104</td>\n",
       "    </tr>\n",
       "    <tr>\n",
       "      <th>4.000</th>\n",
       "      <td>0.165188</td>\n",
       "    </tr>\n",
       "  </tbody>\n",
       "</table>\n",
       "</div>"
      ],
      "text/plain": [
       "                        prob_escape\n",
       "library  concentration             \n",
       "avg2muts 0.125             0.485058\n",
       "         0.250             0.351169\n",
       "         0.500             0.241725\n",
       "         1.000             0.161721\n",
       "         2.000             0.107855\n",
       "         4.000             0.073475\n",
       "avg3muts 0.125             0.644892\n",
       "         0.250             0.522379\n",
       "         0.500             0.404985\n",
       "         1.000             0.303890\n",
       "         2.000             0.224104\n",
       "         4.000             0.165188"
      ]
     },
     "execution_count": 8,
     "metadata": {},
     "output_type": "execute_result"
    }
   ],
   "source": [
    "(variants_escape\n",
    " .groupby(['library', 'concentration'])\n",
    " .aggregate({'prob_escape': 'mean'})\n",
    " )"
   ]
  },
  {
   "cell_type": "markdown",
   "metadata": {},
   "source": [
    "We also want to acknowledge the fact that a real experiment will have some noise in the data. This noise is likely to come in two forms:\n",
    "  \n",
    "  1. Inaccuracies in the measurements of the probabilities of escape, $p_v\\left(c\\right)$.\n",
    "  2. Occassional mis-assignment of which mutations are in a variant due to sequencing errors.\n",
    "  \n",
    "We therefore will make a \"noisy\" version of `variants_df` where we have incorporated both of these sources of noise by adding Gaussian measurement error to the escape probabilities (but then truncating them to be between 0 and 1), and by adding or subtracting a mutation to occassional variants to represent sequencing errors."
   ]
  },
  {
   "cell_type": "code",
   "execution_count": 9,
   "metadata": {
    "execution": {
     "iopub.execute_input": "2021-11-10T00:00:07.295638Z",
     "iopub.status.busy": "2021-11-10T00:00:07.295440Z",
     "iopub.status.idle": "2021-11-10T00:00:07.597114Z",
     "shell.execute_reply": "2021-11-10T00:00:07.596531Z",
     "shell.execute_reply.started": "2021-11-10T00:00:07.295612Z"
    },
    "tags": []
   },
   "outputs": [
    {
     "data": {
      "text/html": [
       "<div>\n",
       "<style scoped>\n",
       "    .dataframe tbody tr th:only-of-type {\n",
       "        vertical-align: middle;\n",
       "    }\n",
       "\n",
       "    .dataframe tbody tr th {\n",
       "        vertical-align: top;\n",
       "    }\n",
       "\n",
       "    .dataframe thead th {\n",
       "        text-align: right;\n",
       "    }\n",
       "</style>\n",
       "<table border=\"1\" class=\"dataframe\">\n",
       "  <thead>\n",
       "    <tr style=\"text-align: right;\">\n",
       "      <th></th>\n",
       "      <th>library</th>\n",
       "      <th>aa_substitutions</th>\n",
       "      <th>concentration</th>\n",
       "      <th>prob_escape</th>\n",
       "    </tr>\n",
       "  </thead>\n",
       "  <tbody>\n",
       "    <tr>\n",
       "      <th>0</th>\n",
       "      <td>avg2muts</td>\n",
       "      <td></td>\n",
       "      <td>0.125</td>\n",
       "      <td>0.166783</td>\n",
       "    </tr>\n",
       "    <tr>\n",
       "      <th>1</th>\n",
       "      <td>avg2muts</td>\n",
       "      <td></td>\n",
       "      <td>0.125</td>\n",
       "      <td>0.054978</td>\n",
       "    </tr>\n",
       "    <tr>\n",
       "      <th>2</th>\n",
       "      <td>avg2muts</td>\n",
       "      <td></td>\n",
       "      <td>0.125</td>\n",
       "      <td>0.059157</td>\n",
       "    </tr>\n",
       "    <tr>\n",
       "      <th>3</th>\n",
       "      <td>avg2muts</td>\n",
       "      <td></td>\n",
       "      <td>0.125</td>\n",
       "      <td>0.031918</td>\n",
       "    </tr>\n",
       "    <tr>\n",
       "      <th>4</th>\n",
       "      <td>avg2muts</td>\n",
       "      <td></td>\n",
       "      <td>0.125</td>\n",
       "      <td>0.128836</td>\n",
       "    </tr>\n",
       "    <tr>\n",
       "      <th>...</th>\n",
       "      <td>...</td>\n",
       "      <td>...</td>\n",
       "      <td>...</td>\n",
       "      <td>...</td>\n",
       "    </tr>\n",
       "    <tr>\n",
       "      <th>119995</th>\n",
       "      <td>avg3muts</td>\n",
       "      <td>Y489V</td>\n",
       "      <td>4.000</td>\n",
       "      <td>0.000000</td>\n",
       "    </tr>\n",
       "    <tr>\n",
       "      <th>119996</th>\n",
       "      <td>avg3muts</td>\n",
       "      <td>Y489V</td>\n",
       "      <td>4.000</td>\n",
       "      <td>0.147430</td>\n",
       "    </tr>\n",
       "    <tr>\n",
       "      <th>119997</th>\n",
       "      <td>avg3muts</td>\n",
       "      <td>Y489V</td>\n",
       "      <td>4.000</td>\n",
       "      <td>0.007399</td>\n",
       "    </tr>\n",
       "    <tr>\n",
       "      <th>119998</th>\n",
       "      <td>avg2muts</td>\n",
       "      <td>Y489W</td>\n",
       "      <td>4.000</td>\n",
       "      <td>0.000000</td>\n",
       "    </tr>\n",
       "    <tr>\n",
       "      <th>119999</th>\n",
       "      <td>avg2muts</td>\n",
       "      <td>Y489W</td>\n",
       "      <td>4.000</td>\n",
       "      <td>0.034872</td>\n",
       "    </tr>\n",
       "  </tbody>\n",
       "</table>\n",
       "<p>120000 rows × 4 columns</p>\n",
       "</div>"
      ],
      "text/plain": [
       "         library aa_substitutions  concentration  prob_escape\n",
       "0       avg2muts                           0.125     0.166783\n",
       "1       avg2muts                           0.125     0.054978\n",
       "2       avg2muts                           0.125     0.059157\n",
       "3       avg2muts                           0.125     0.031918\n",
       "4       avg2muts                           0.125     0.128836\n",
       "...          ...              ...            ...          ...\n",
       "119995  avg3muts            Y489V          4.000     0.000000\n",
       "119996  avg3muts            Y489V          4.000     0.147430\n",
       "119997  avg3muts            Y489V          4.000     0.007399\n",
       "119998  avg2muts            Y489W          4.000     0.000000\n",
       "119999  avg2muts            Y489W          4.000     0.034872\n",
       "\n",
       "[120000 rows x 4 columns]"
      ]
     },
     "execution_count": 9,
     "metadata": {},
     "output_type": "execute_result"
    }
   ],
   "source": [
    "import numpy\n",
    "\n",
    "numpy.random.seed(1)  # seed for reproducible output\n",
    "\n",
    "def add_subtract_mutation(subs):\n",
    "    \"\"\"Sometimes add or subtract a mutation.\"\"\"\n",
    "    subs = subs.split()\n",
    "    sub_sites = [int(sub[1: -1]) for sub in subs]\n",
    "    rand = numpy.random.random()\n",
    "    if rand < 0.01:  # add mutation with 1% probability\n",
    "        mut = numpy.random.choice(poly_abs.mutations)\n",
    "        while int(mut[1: -1]) in sub_sites:\n",
    "            mut = numpy.random.choice(poly_abs.mutations)\n",
    "        subs.append(mut)\n",
    "    elif rand > 0.99 and subs:  # subtract mutation with 1% probability\n",
    "        subs.pop(numpy.random.randint(len(subs)))\n",
    "    return ' '.join(subs)\n",
    "\n",
    "# only keep needed columns in variants_escape\n",
    "variants_escape = (\n",
    "    variants_escape\n",
    "    [['library', 'aa_substitutions', 'concentration', 'prob_escape']]\n",
    "    )\n",
    "\n",
    "# simulate noisy variants\n",
    "noisy_variants_escape = (\n",
    "    variants_escape\n",
    "    .assign(\n",
    "        # add Gaussian noise with standard deviation of 0.05\n",
    "        prob_escape=lambda x: (x['prob_escape'] +\n",
    "                               numpy.random.normal(scale=0.05, size=len(x))\n",
    "                               ).clip(lower=0, upper=1),\n",
    "        # add rare sequencing errors to variants\n",
    "        aa_substitutions=lambda x: x['aa_substitutions'].map(add_subtract_mutation),\n",
    "        )\n",
    "    )\n",
    "\n",
    "noisy_variants_escape"
   ]
  },
  {
   "cell_type": "markdown",
   "metadata": {},
   "source": [
    "We will write these data frames giving the variants $v$ and their probabilities of escape $p_v\\left(c\\right)$ at each serum concentration $c$ to CSV files:\n",
    "\n",
    " - [RBD_variants_escape_exact.csv](RBD_variants_escape_exact.csv) for the measurements without noise\n",
    " - [RBD_variants_escape_noisy.csv](RBD_variants_escape_noisy.csv) for the measurements with realistic experimental noise\n",
    "\n",
    "The goal is to infer the properties of the escape mutations and the serum, $a_{\\rm{wt},e}$ and $\\beta_{m,e}$, from these data, which are what would be measured in a deep mutational scanning experiment."
   ]
  },
  {
   "cell_type": "code",
   "execution_count": 10,
   "metadata": {
    "execution": {
     "iopub.execute_input": "2021-11-10T00:00:07.598946Z",
     "iopub.status.busy": "2021-11-10T00:00:07.598437Z",
     "iopub.status.idle": "2021-11-10T00:00:08.376307Z",
     "shell.execute_reply": "2021-11-10T00:00:08.375478Z",
     "shell.execute_reply.started": "2021-11-10T00:00:07.598926Z"
    },
    "tags": []
   },
   "outputs": [],
   "source": [
    "variants_escape.to_csv('RBD_variants_escape_exact.csv',\n",
    "                       index=False, float_format='%.4g')\n",
    "noisy_variants_escape.to_csv('RBD_variants_escape_noisy.csv',\n",
    "                             index=False, float_format='%.4g')"
   ]
  }
 ],
 "metadata": {
  "kernelspec": {
   "display_name": "Python 3 (ipykernel)",
   "language": "python",
   "name": "python3"
  },
  "language_info": {
   "codemirror_mode": {
    "name": "ipython",
    "version": 3
   },
   "file_extension": ".py",
   "mimetype": "text/x-python",
   "name": "python",
   "nbconvert_exporter": "python",
   "pygments_lexer": "ipython3",
   "version": "3.8.12"
  }
 },
 "nbformat": 4,
 "nbformat_minor": 4
}
