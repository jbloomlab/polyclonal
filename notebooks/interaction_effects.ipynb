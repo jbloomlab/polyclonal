{
 "cells": [
  {
   "cell_type": "markdown",
   "id": "86798ed7-deb1-4bd6-89c8-4138f3240e30",
   "metadata": {},
   "source": [
    "# How do interaction effects between mutations at an epitope affect `Polyclonal`? \n",
    "\n",
    "We assume the antibody escape fraction can be modeled as:\n",
    "\n",
    "$$ p_v = \\prod_{e=1}^{E} S(-a_{wt,e} + \\sum_{m=1}^{M} \\beta_{m,e} b_m) $$\n",
    "\n",
    "where $S(.)$ is a sigmoid function.\n",
    "\n",
    "However, what if in reality, interactions between mutations at an epitope also contribute to $p_v$, like:\n",
    "\n",
    "$$ p_v = \\prod_{e=1}^{E} S(-a_{wt,e} + \\sum_{m=1}^{M} \\beta_{m,e} b_m + \\sum_{m < n}^{M} \\beta_{mn,e} b_m b_n + \\cdots) $$\n",
    "\n",
    "Does the absence of $\\beta_{mn,e}$ interaction terms lead to poorly inferred \"true\" individual mutation effects (i.e., $\\beta_{m,e}$)? Or, are the \"true\" $\\beta_{m,e}$ still inferred well, leaving the $a_{wt,e}$ terms to compensate for the interaction effects? In either case, I think the presence of interaction effects can lead to misinterpretation of escape mutations and wildtype epitope activities, as well as poor escape prediction. Here, I'll try and explore this through a simple simulation."
   ]
  },
  {
   "cell_type": "code",
   "execution_count": 1,
   "id": "52bf3d1f-dd75-4932-b584-6e5c3aeea0a0",
   "metadata": {},
   "outputs": [],
   "source": [
    "import random\n",
    "\n",
    "import polyclonal\n",
    "import pandas as pd\n",
    "import numpy as np\n",
    "import altair as alt\n",
    "\n",
    "from plotnine import *\n",
    "from sklearn.preprocessing import PolynomialFeatures\n",
    "from sympy.utilities.iterables import multiset_permutations"
   ]
  },
  {
   "cell_type": "markdown",
   "id": "b2a60cd3-5db6-44d8-89dd-96a2ce936fc3",
   "metadata": {},
   "source": [
    "Lets set some parameters. I'll simulate a simple DMS library containing 12 mutations. There will be 4 mutations located at each epitope, and 3 epitopes being targeted by the polyclonal serum. I'll also set the wildtype activities for each of the 3 epitopes here."
   ]
  },
  {
   "cell_type": "code",
   "execution_count": 2,
   "id": "465b2e4a-2b3a-4582-94b0-092ac2973b10",
   "metadata": {},
   "outputs": [],
   "source": [
    "n = 12 # number of mutations\n",
    "n_per_e = 4 # number of mutations that contribute to each epitope\n",
    "n_e = 3 # number of epitopes\n",
    "\n",
    "a_wt_1 = 3 # wildtype activity of epitope 1\n",
    "a_wt_2 = 5 # wildtype activity of epitope 2\n",
    "a_wt_3 = 4 # wildtype activity of epitope 3"
   ]
  },
  {
   "cell_type": "markdown",
   "id": "dac971af-1138-475b-aa9f-1ec43025f31e",
   "metadata": {},
   "source": [
    "Randomly generate some values for the individual mutation effects. These are all positive since I'm assuming all of them are beneficial to antibody escape. "
   ]
  },
  {
   "cell_type": "code",
   "execution_count": 3,
   "id": "e8c60d98-2d6a-4790-b224-bdbe1e15e270",
   "metadata": {},
   "outputs": [
    {
     "data": {
      "text/plain": [
       "array([1.80269689, 0.19475241, 4.63218526, 7.24933929, 4.20203605,\n",
       "       4.85427098, 0.12780815, 4.87371607, 9.41806652, 8.50795089,\n",
       "       7.2996447 , 1.08736072])"
      ]
     },
     "execution_count": 3,
     "metadata": {},
     "output_type": "execute_result"
    }
   ],
   "source": [
    "np.random.seed(11)\n",
    "params = np.random.uniform(low=0, high=10, size=(n,))\n",
    "params"
   ]
  },
  {
   "cell_type": "markdown",
   "id": "805a7ad4-a3c4-4ff3-a235-a508f1245399",
   "metadata": {},
   "source": [
    "Generate an array that contains binary representations of all $2^{N}$ possible variants. This is a simulation of the variants that we have measured escape for using DMS."
   ]
  },
  {
   "cell_type": "code",
   "execution_count": 4,
   "id": "297caaf9-e636-4e05-8ecf-fe1c5d1d7794",
   "metadata": {},
   "outputs": [
    {
     "name": "stdout",
     "output_type": "stream",
     "text": [
      "There are 4096 variants.\n"
     ]
    }
   ],
   "source": [
    "variants = []\n",
    "wt = list(np.zeros(n,).astype(int))\n",
    "variants.append(wt)\n",
    "\n",
    "for order in range(1,n+1):  \n",
    "    bg_seq = wt.copy()\n",
    "    for idx in range(order):\n",
    "        if bg_seq[idx] == 0:\n",
    "            bg_seq[idx] = 1\n",
    "    \n",
    "    for perm in list(multiset_permutations(bg_seq)):\n",
    "        variants.append(perm)\n",
    "\n",
    "print(f\"There are {len(variants)} variants.\")"
   ]
  },
  {
   "cell_type": "markdown",
   "id": "fc7879bd-31f7-41f5-ac1f-e65d6016fa1e",
   "metadata": {},
   "source": [
    "## Simulation and model inference when there are no interactions "
   ]
  },
  {
   "cell_type": "markdown",
   "id": "d52898da-7aea-4938-ac63-86ab21772069",
   "metadata": {},
   "source": [
    "Compute the \"true\" probability of escape for each variant given its set of mutations when there are no interaction effects between mutations. For simplicity, I will assume that the first 4 mutations affect escape from epitope 1, the next 4 mutations affect escape from epitope 2, and the last 4 mutations affect escape from epitope 3. "
   ]
  },
  {
   "cell_type": "code",
   "execution_count": 5,
   "id": "81967aea-6c1b-4a7d-b5de-8e3c9a497a73",
   "metadata": {},
   "outputs": [
    {
     "name": "stdout",
     "output_type": "stream",
     "text": [
      "[0.04503299 0.04973024 0.04806918 ... 0.9999817  0.99998234 0.99998161]\n",
      "[0.00753774 0.00667314 0.0065839  ... 0.99988641 0.99988182 0.99988708]\n",
      "[0.01886706 0.05211945 0.96663012 ... 0.99999968 1.         1.        ]\n",
      "[6.40437083e-06 1.72961919e-05 3.05921832e-04 ... 9.99867802e-01\n",
      " 9.99864161e-01 9.99868694e-01]\n"
     ]
    }
   ],
   "source": [
    "np.random.seed(123)\n",
    "\n",
    "def sigmoid(x):\n",
    "     return 1 / (1 + np.exp(-x))\n",
    "\n",
    "# first 4 mutations = epitope 1, next 4 mutations = epitope 2, last 4 mutations = epitope 3\n",
    "# add a little gaussian noise so the data isn't perfect\n",
    "\n",
    "e1 = sigmoid(np.matmul(np.array(variants)[:,:4], params[:4]) - a_wt_1 + np.random.normal(0, 0.05, len(variants)))\n",
    "print(e1)\n",
    "\n",
    "e2 = sigmoid(np.matmul(np.array(variants)[:,4:8], params[4:8]) - a_wt_2 + np.random.normal(0, 0.05, len(variants)))\n",
    "print(e2)\n",
    "\n",
    "e3 = sigmoid(np.matmul(np.array(variants)[:,8:], params[8:]) - a_wt_3 + np.random.normal(0, 0.05, len(variants)))\n",
    "print(e3)\n",
    "\n",
    "escape = np.prod([e1, e2, e3], axis=0)\n",
    "print(escape)"
   ]
  },
  {
   "cell_type": "markdown",
   "id": "522fda19-e219-4661-8978-5d8e7e040177",
   "metadata": {},
   "source": [
    "Visualize how probability of escape varies as a function of number of mutations."
   ]
  },
  {
   "cell_type": "code",
   "execution_count": 6,
   "id": "bd4ec896-7097-43b1-85f6-a63fc9f4d30c",
   "metadata": {},
   "outputs": [
    {
     "data": {
      "image/png": "[encoded data removed]",
      "text/plain": [
       "<Figure size 640x480 with 1 Axes>"
      ]
     },
     "metadata": {},
     "output_type": "display_data"
    },
    {
     "data": {
      "text/plain": [
       "<ggplot: (8790961668741)>"
      ]
     },
     "execution_count": 6,
     "metadata": {},
     "output_type": "execute_result"
    }
   ],
   "source": [
    "plot_data = pd.DataFrame(\n",
    "    {\n",
    "        'num_aa_substitutions' : np.sum(variants, 1),\n",
    "        'escape_fraction' : escape\n",
    "    }\n",
    ")\n",
    "\n",
    "(\n",
    "    ggplot(plot_data, aes(y = 'escape_fraction', x = 'factor(num_aa_substitutions)')) +\n",
    "    geom_boxplot(outlier_alpha = 0.3) +\n",
    "    theme_bw() +\n",
    "    labs(x = 'Number of AA substitutions', y = 'Escape fraction')\n",
    ")"
   ]
  },
  {
   "cell_type": "markdown",
   "id": "1dcc38ef-5a10-4b94-a328-41efe7cd333f",
   "metadata": {},
   "source": [
    "Combine everything from above into a dataframe that can be passed into `Polyclonal`."
   ]
  },
  {
   "cell_type": "code",
   "execution_count": 7,
   "id": "a4122781-9e4b-4ba7-9977-d2d2cdc5547a",
   "metadata": {},
   "outputs": [
    {
     "data": {
      "text/html": [
       "<div>\n",
       "<style scoped>\n",
       "    .dataframe tbody tr th:only-of-type {\n",
       "        vertical-align: middle;\n",
       "    }\n",
       "\n",
       "    .dataframe tbody tr th {\n",
       "        vertical-align: top;\n",
       "    }\n",
       "\n",
       "    .dataframe thead th {\n",
       "        text-align: right;\n",
       "    }\n",
       "</style>\n",
       "<table border=\"1\" class=\"dataframe\">\n",
       "  <thead>\n",
       "    <tr style=\"text-align: right;\">\n",
       "      <th></th>\n",
       "      <th>library</th>\n",
       "      <th>name</th>\n",
       "      <th>aa_substitutions</th>\n",
       "      <th>n_aa_substitutions</th>\n",
       "      <th>prob_escape</th>\n",
       "      <th>concentration</th>\n",
       "    </tr>\n",
       "  </thead>\n",
       "  <tbody>\n",
       "    <tr>\n",
       "      <th>0</th>\n",
       "      <td>lib1</td>\n",
       "      <td>simulated_sera</td>\n",
       "      <td></td>\n",
       "      <td>0</td>\n",
       "      <td>0.000006</td>\n",
       "      <td>1</td>\n",
       "    </tr>\n",
       "    <tr>\n",
       "      <th>1</th>\n",
       "      <td>lib1</td>\n",
       "      <td>simulated_sera</td>\n",
       "      <td>M12A</td>\n",
       "      <td>1</td>\n",
       "      <td>0.000017</td>\n",
       "      <td>1</td>\n",
       "    </tr>\n",
       "    <tr>\n",
       "      <th>2</th>\n",
       "      <td>lib1</td>\n",
       "      <td>simulated_sera</td>\n",
       "      <td>M11A</td>\n",
       "      <td>1</td>\n",
       "      <td>0.000306</td>\n",
       "      <td>1</td>\n",
       "    </tr>\n",
       "    <tr>\n",
       "      <th>3</th>\n",
       "      <td>lib1</td>\n",
       "      <td>simulated_sera</td>\n",
       "      <td>M10A</td>\n",
       "      <td>1</td>\n",
       "      <td>0.000268</td>\n",
       "      <td>1</td>\n",
       "    </tr>\n",
       "    <tr>\n",
       "      <th>4</th>\n",
       "      <td>lib1</td>\n",
       "      <td>simulated_sera</td>\n",
       "      <td>M9A</td>\n",
       "      <td>1</td>\n",
       "      <td>0.000301</td>\n",
       "      <td>1</td>\n",
       "    </tr>\n",
       "    <tr>\n",
       "      <th>...</th>\n",
       "      <td>...</td>\n",
       "      <td>...</td>\n",
       "      <td>...</td>\n",
       "      <td>...</td>\n",
       "      <td>...</td>\n",
       "      <td>...</td>\n",
       "    </tr>\n",
       "    <tr>\n",
       "      <th>4091</th>\n",
       "      <td>lib1</td>\n",
       "      <td>simulated_sera</td>\n",
       "      <td>M1A M2A M3A M4A M5A M6A M7A M8A M10A M11A M12A</td>\n",
       "      <td>11</td>\n",
       "      <td>0.999873</td>\n",
       "      <td>1</td>\n",
       "    </tr>\n",
       "    <tr>\n",
       "      <th>4092</th>\n",
       "      <td>lib1</td>\n",
       "      <td>simulated_sera</td>\n",
       "      <td>M1A M2A M3A M4A M5A M6A M7A M8A M9A M11A M12A</td>\n",
       "      <td>11</td>\n",
       "      <td>0.999865</td>\n",
       "      <td>1</td>\n",
       "    </tr>\n",
       "    <tr>\n",
       "      <th>4093</th>\n",
       "      <td>lib1</td>\n",
       "      <td>simulated_sera</td>\n",
       "      <td>M1A M2A M3A M4A M5A M6A M7A M8A M9A M10A M12A</td>\n",
       "      <td>11</td>\n",
       "      <td>0.999868</td>\n",
       "      <td>1</td>\n",
       "    </tr>\n",
       "    <tr>\n",
       "      <th>4094</th>\n",
       "      <td>lib1</td>\n",
       "      <td>simulated_sera</td>\n",
       "      <td>M1A M2A M3A M4A M5A M6A M7A M8A M9A M10A M11A</td>\n",
       "      <td>11</td>\n",
       "      <td>0.999864</td>\n",
       "      <td>1</td>\n",
       "    </tr>\n",
       "    <tr>\n",
       "      <th>4095</th>\n",
       "      <td>lib1</td>\n",
       "      <td>simulated_sera</td>\n",
       "      <td>M1A M2A M3A M4A M5A M6A M7A M8A M9A M10A M11A ...</td>\n",
       "      <td>12</td>\n",
       "      <td>0.999869</td>\n",
       "      <td>1</td>\n",
       "    </tr>\n",
       "  </tbody>\n",
       "</table>\n",
       "<p>4096 rows × 6 columns</p>\n",
       "</div>"
      ],
      "text/plain": [
       "     library            name  \\\n",
       "0       lib1  simulated_sera   \n",
       "1       lib1  simulated_sera   \n",
       "2       lib1  simulated_sera   \n",
       "3       lib1  simulated_sera   \n",
       "4       lib1  simulated_sera   \n",
       "...      ...             ...   \n",
       "4091    lib1  simulated_sera   \n",
       "4092    lib1  simulated_sera   \n",
       "4093    lib1  simulated_sera   \n",
       "4094    lib1  simulated_sera   \n",
       "4095    lib1  simulated_sera   \n",
       "\n",
       "                                       aa_substitutions  n_aa_substitutions  \\\n",
       "0                                                                         0   \n",
       "1                                                  M12A                   1   \n",
       "2                                                  M11A                   1   \n",
       "3                                                  M10A                   1   \n",
       "4                                                   M9A                   1   \n",
       "...                                                 ...                 ...   \n",
       "4091     M1A M2A M3A M4A M5A M6A M7A M8A M10A M11A M12A                  11   \n",
       "4092      M1A M2A M3A M4A M5A M6A M7A M8A M9A M11A M12A                  11   \n",
       "4093      M1A M2A M3A M4A M5A M6A M7A M8A M9A M10A M12A                  11   \n",
       "4094      M1A M2A M3A M4A M5A M6A M7A M8A M9A M10A M11A                  11   \n",
       "4095  M1A M2A M3A M4A M5A M6A M7A M8A M9A M10A M11A ...                  12   \n",
       "\n",
       "      prob_escape  concentration  \n",
       "0        0.000006              1  \n",
       "1        0.000017              1  \n",
       "2        0.000306              1  \n",
       "3        0.000268              1  \n",
       "4        0.000301              1  \n",
       "...           ...            ...  \n",
       "4091     0.999873              1  \n",
       "4092     0.999865              1  \n",
       "4093     0.999868              1  \n",
       "4094     0.999864              1  \n",
       "4095     0.999869              1  \n",
       "\n",
       "[4096 rows x 6 columns]"
      ]
     },
     "execution_count": 7,
     "metadata": {},
     "output_type": "execute_result"
    }
   ],
   "source": [
    "# mutation names are not significant, just something to make the simulation easy\n",
    "muts = ['M1A', 'M2A', 'M3A', 'M4A', 'M5A', 'M6A',\n",
    "        'M7A', 'M8A', 'M9A', 'M10A', 'M11A', 'M12A']\n",
    "\n",
    "var_strings = []\n",
    "for var in variants:\n",
    "    var_lst = []\n",
    "    for idx,i in enumerate(var):\n",
    "        if i == 1:\n",
    "            var_lst.append(muts[idx])\n",
    "            \n",
    "    var_strings.append(' '.join(var_lst))\n",
    "\n",
    "data = pd.DataFrame(\n",
    "    {\n",
    "        'library' : ['lib1'] * len(variants),\n",
    "        'name' : ['simulated_sera'] * len(variants),\n",
    "        'aa_substitutions' : var_strings,\n",
    "        'n_aa_substitutions' : np.sum(variants, 1),\n",
    "        'prob_escape' : escape,\n",
    "        'concentration' : [1] * len(variants)   \n",
    "    }\n",
    ")\n",
    "data"
   ]
  },
  {
   "cell_type": "markdown",
   "id": "0f0d3cff-7155-4ce9-bc30-f7d657107386",
   "metadata": {},
   "source": [
    "Randomly split the data into a training set (80%) and test set (20%)."
   ]
  },
  {
   "cell_type": "code",
   "execution_count": 8,
   "id": "24ae4717-95d3-4ec1-9f61-a255b06477d8",
   "metadata": {},
   "outputs": [
    {
     "name": "stdout",
     "output_type": "stream",
     "text": [
      "There are 3277 sequences in the training dataset.\n",
      "There are 819 sequences in the test dataset.\n"
     ]
    }
   ],
   "source": [
    "train_data = data.sample(frac = 0.8, random_state = 1)\n",
    "print(f\"There are {len(train_data)} sequences in the training dataset.\")\n",
    "\n",
    "train_data_idx = train_data.index\n",
    "test_data = data.drop(train_data_idx)\n",
    "print(f\"There are {len(test_data)} sequences in the test dataset.\")"
   ]
  },
  {
   "cell_type": "markdown",
   "id": "52c8398d-1d14-4a59-af9a-c7e4ae09deba",
   "metadata": {},
   "source": [
    "Fit a `Polyclonal` model to the training set with three epitopes."
   ]
  },
  {
   "cell_type": "code",
   "execution_count": 9,
   "id": "e12ba401-804f-4e84-bffa-b367d267531a",
   "metadata": {},
   "outputs": [
    {
     "name": "stdout",
     "output_type": "stream",
     "text": [
      "# First fitting site-level model.\n",
      "# Starting optimization of 39 parameters at Sat Feb 26 00:11:05 2022.\n",
      "       step   time_sec       loss   fit_loss reg_escape  regspread\n",
      "          0  0.0064096     1113.8     1113.8          0          0\n",
      "        200    0.89349     1.2373    0.71239    0.52488          0\n",
      "        379     1.5897     1.2053    0.68146    0.52382          0\n",
      "# Successfully finished at Sat Feb 26 00:11:07 2022.\n",
      "# Starting optimization of 39 parameters at Sat Feb 26 00:11:07 2022.\n",
      "       step   time_sec       loss   fit_loss reg_escape  regspread\n",
      "          0     0.0044     1.2053    0.68146    0.52382          0\n",
      "          2   0.013671     1.2053    0.68146    0.52382          0\n",
      "# Successfully finished at Sat Feb 26 00:11:07 2022.\n"
     ]
    }
   ],
   "source": [
    "poly_abs = polyclonal.Polyclonal(\n",
    "    data_to_fit=train_data,\n",
    "    n_epitopes=3,\n",
    ")\n",
    "\n",
    "opt_res = poly_abs.fit(logfreq=200)"
   ]
  },
  {
   "cell_type": "markdown",
   "id": "0f7d15d5-a9ff-4020-8c63-39652c03e992",
   "metadata": {},
   "source": [
    "Harmonize the fit epitopes with the true epitopes. This is because the epitope numbering is arbitrary, and we want to compare the fit coefficients to the actual coefficients."
   ]
  },
  {
   "cell_type": "code",
   "execution_count": 10,
   "id": "a22a74e8-1afd-47e2-8de0-1f6c4bdfc291",
   "metadata": {},
   "outputs": [],
   "source": [
    "e1_params = np.concatenate([params[:4], np.zeros(8)])\n",
    "e2_params = np.concatenate([np.zeros(4), params[4:8], np.zeros(4)])\n",
    "e3_params = np.concatenate([np.zeros(8), params[8:]])\n",
    "\n",
    "ref_df = (\n",
    "        poly_abs.mut_escape_df\n",
    "        .assign(escape = np.concatenate([e1_params, e2_params, e3_params]))\n",
    ")\n",
    "\n",
    "ref_poly_abs = polyclonal.Polyclonal(\n",
    "    activity_wt_df=pd.DataFrame(\n",
    "        {\n",
    "            'epitope' : ['1', '2', '3'],\n",
    "            'activity' : [a_wt_1, a_wt_2, a_wt_3]\n",
    "        }\n",
    "    ), \n",
    "    mut_escape_df=ref_df\n",
    ")\n",
    "        \n",
    "poly_abs.harmonize_epitopes_with(ref_poly_abs)"
   ]
  },
  {
   "cell_type": "markdown",
   "id": "5a4a9531-a82b-4b54-9673-c0d2345a593b",
   "metadata": {},
   "source": [
    "Plot the correlation between predicted and actual probability of escape. Note that this correlation is extremely strong, which is expected as the probability of escape values were generated under the exact same assumptions as `Polyclonal`."
   ]
  },
  {
   "cell_type": "code",
   "execution_count": 11,
   "id": "c27876e3-7a40-4c2f-97c1-9f5f1f06c49b",
   "metadata": {},
   "outputs": [
    {
     "name": "stdout",
     "output_type": "stream",
     "text": [
      "R2: 1.0\n"
     ]
    },
    {
     "data": {
      "image/png": "[encoded data removed]",
      "text/plain": [
       "<Figure size 640x480 with 1 Axes>"
      ]
     },
     "metadata": {},
     "output_type": "display_data"
    },
    {
     "data": {
      "text/plain": [
       "<ggplot: (8790959340307)>"
      ]
     },
     "execution_count": 11,
     "metadata": {},
     "output_type": "execute_result"
    }
   ],
   "source": [
    "plot_data = (\n",
    "    poly_abs.prob_escape(variants_df=test_data)\n",
    "            .rename(columns={\"prob_escape\": \"actual\", \n",
    "                             \"predicted_prob_escape\": \"predicted\"})\n",
    ")\n",
    "\n",
    "r2 = plot_data[\"actual\"].corr(plot_data[\"predicted\"]) ** 2\n",
    "print(f\"R2: {r2.round(3)}\")\n",
    "        \n",
    "(\n",
    "    ggplot(plot_data, aes(x = 'predicted', y = 'actual')) +\n",
    "    geom_point(aes(color = 'n_aa_substitutions'), alpha=0.8) +\n",
    "    theme_bw()\n",
    ")"
   ]
  },
  {
   "cell_type": "markdown",
   "id": "d97d8355-9ab1-48f6-9a60-7f2d900970b2",
   "metadata": {},
   "source": [
    "Also plot the wildtype activity coefficients, which also match up as expected."
   ]
  },
  {
   "cell_type": "code",
   "execution_count": 12,
   "id": "58152812-2ac8-451f-8905-c929547c59e4",
   "metadata": {},
   "outputs": [
    {
     "data": {
      "text/html": [
       "\n",
       "<div id=\"altair-viz-1de0f6ca8d2d4ecdbeff75fed6799a58\"></div>\n",
       "<script type=\"text/javascript\">\n",
       "  var VEGA_DEBUG = (typeof VEGA_DEBUG == \"undefined\") ? {} : VEGA_DEBUG;\n",
       "  (function(spec, embedOpt){\n",
       "    let outputDiv = document.currentScript.previousElementSibling;\n",
       "    if (outputDiv.id !== \"altair-viz-1de0f6ca8d2d4ecdbeff75fed6799a58\") {\n",
       "      outputDiv = document.getElementById(\"altair-viz-1de0f6ca8d2d4ecdbeff75fed6799a58\");\n",
       "    }\n",
       "    const paths = {\n",
       "      \"vega\": \"https://cdn.jsdelivr.net/npm//vega@5?noext\",\n",
       "      \"vega-lib\": \"https://cdn.jsdelivr.net/npm//vega-lib?noext\",\n",
       "      \"vega-lite\": \"https://cdn.jsdelivr.net/npm//vega-lite@4.17.0?noext\",\n",
       "      \"vega-embed\": \"https://cdn.jsdelivr.net/npm//vega-embed@6?noext\",\n",
       "    };\n",
       "\n",
       "    function maybeLoadScript(lib, version) {\n",
       "      var key = `${lib.replace(\"-\", \"\")}_version`;\n",
       "      return (VEGA_DEBUG[key] == version) ?\n",
       "        Promise.resolve(paths[lib]) :\n",
       "        new Promise(function(resolve, reject) {\n",
       "          var s = document.createElement('script');\n",
       "          document.getElementsByTagName(\"head\")[0].appendChild(s);\n",
       "          s.async = true;\n",
       "          s.onload = () => {\n",
       "            VEGA_DEBUG[key] = version;\n",
       "            return resolve(paths[lib]);\n",
       "          };\n",
       "          s.onerror = () => reject(`Error loading script: ${paths[lib]}`);\n",
       "          s.src = paths[lib];\n",
       "        });\n",
       "    }\n",
       "\n",
       "    function showError(err) {\n",
       "      outputDiv.innerHTML = `<div class=\"error\" style=\"color:red;\">${err}</div>`;\n",
       "      throw err;\n",
       "    }\n",
       "\n",
       "    function displayChart(vegaEmbed) {\n",
       "      vegaEmbed(outputDiv, spec, embedOpt)\n",
       "        .catch(err => showError(`Javascript Error: ${err.message}<br>This usually means there's a typo in your chart specification. See the javascript console for the full traceback.`));\n",
       "    }\n",
       "\n",
       "    if(typeof define === \"function\" && define.amd) {\n",
       "      requirejs.config({paths});\n",
       "      require([\"vega-embed\"], displayChart, err => showError(`Error loading script: ${err.message}`));\n",
       "    } else {\n",
       "      maybeLoadScript(\"vega\", \"5\")\n",
       "        .then(() => maybeLoadScript(\"vega-lite\", \"4.17.0\"))\n",
       "        .then(() => maybeLoadScript(\"vega-embed\", \"6\"))\n",
       "        .catch(showError)\n",
       "        .then(() => displayChart(vegaEmbed));\n",
       "    }\n",
       "  })({\"config\": {\"view\": {\"continuousWidth\": 400, \"continuousHeight\": 300}, \"axis\": {\"grid\": false}}, \"data\": {\"name\": \"data-f2b38c1b97053a843cdc40fa39b45781\"}, \"mark\": {\"type\": \"bar\", \"size\": 18.75}, \"encoding\": {\"color\": {\"field\": \"epitope\", \"legend\": null, \"scale\": {\"domain\": [\"1\", \"2\", \"3\"], \"range\": [\"#1f77b4\", \"#ff7f0e\", \"#2ca02c\"]}, \"type\": \"nominal\"}, \"tooltip\": [{\"field\": \"epitope\", \"type\": \"nominal\"}, {\"field\": \"activity\", \"format\": \".3g\", \"type\": \"quantitative\"}], \"x\": {\"field\": \"activity\", \"type\": \"quantitative\"}, \"y\": {\"field\": \"epitope\", \"type\": \"nominal\"}}, \"height\": {\"step\": 25}, \"width\": 110, \"$schema\": \"https://vega.github.io/schema/vega-lite/v4.17.0.json\", \"datasets\": {\"data-f2b38c1b97053a843cdc40fa39b45781\": [{\"epitope\": \"1\", \"activity\": 2.9907371814847763}, {\"epitope\": \"2\", \"activity\": 4.990806263623007}, {\"epitope\": \"3\", \"activity\": 3.9028622255348147}]}}, {\"mode\": \"vega-lite\"});\n",
       "</script>"
      ],
      "text/plain": [
       "alt.Chart(...)"
      ]
     },
     "execution_count": 12,
     "metadata": {},
     "output_type": "execute_result"
    }
   ],
   "source": [
    "poly_abs.activity_wt_barplot()"
   ]
  },
  {
   "cell_type": "markdown",
   "id": "4f91ffe0-aecf-4216-a37a-7eaa8c01a4bb",
   "metadata": {},
   "source": [
    "Lastly, plot the mutation effect coefficients. We can see that they match up well too, as expected. "
   ]
  },
  {
   "cell_type": "code",
   "execution_count": 13,
   "id": "83d7ff45-d196-4fc7-939c-2e33c1e06a7c",
   "metadata": {},
   "outputs": [
    {
     "data": {
      "text/html": [
       "\n",
       "<div id=\"altair-viz-82cb4b8547ee4429849917fc2625fb85\"></div>\n",
       "<script type=\"text/javascript\">\n",
       "  var VEGA_DEBUG = (typeof VEGA_DEBUG == \"undefined\") ? {} : VEGA_DEBUG;\n",
       "  (function(spec, embedOpt){\n",
       "    let outputDiv = document.currentScript.previousElementSibling;\n",
       "    if (outputDiv.id !== \"altair-viz-82cb4b8547ee4429849917fc2625fb85\") {\n",
       "      outputDiv = document.getElementById(\"altair-viz-82cb4b8547ee4429849917fc2625fb85\");\n",
       "    }\n",
       "    const paths = {\n",
       "      \"vega\": \"https://cdn.jsdelivr.net/npm//vega@5?noext\",\n",
       "      \"vega-lib\": \"https://cdn.jsdelivr.net/npm//vega-lib?noext\",\n",
       "      \"vega-lite\": \"https://cdn.jsdelivr.net/npm//vega-lite@4.17.0?noext\",\n",
       "      \"vega-embed\": \"https://cdn.jsdelivr.net/npm//vega-embed@6?noext\",\n",
       "    };\n",
       "\n",
       "    function maybeLoadScript(lib, version) {\n",
       "      var key = `${lib.replace(\"-\", \"\")}_version`;\n",
       "      return (VEGA_DEBUG[key] == version) ?\n",
       "        Promise.resolve(paths[lib]) :\n",
       "        new Promise(function(resolve, reject) {\n",
       "          var s = document.createElement('script');\n",
       "          document.getElementsByTagName(\"head\")[0].appendChild(s);\n",
       "          s.async = true;\n",
       "          s.onload = () => {\n",
       "            VEGA_DEBUG[key] = version;\n",
       "            return resolve(paths[lib]);\n",
       "          };\n",
       "          s.onerror = () => reject(`Error loading script: ${paths[lib]}`);\n",
       "          s.src = paths[lib];\n",
       "        });\n",
       "    }\n",
       "\n",
       "    function showError(err) {\n",
       "      outputDiv.innerHTML = `<div class=\"error\" style=\"color:red;\">${err}</div>`;\n",
       "      throw err;\n",
       "    }\n",
       "\n",
       "    function displayChart(vegaEmbed) {\n",
       "      vegaEmbed(outputDiv, spec, embedOpt)\n",
       "        .catch(err => showError(`Javascript Error: ${err.message}<br>This usually means there's a typo in your chart specification. See the javascript console for the full traceback.`));\n",
       "    }\n",
       "\n",
       "    if(typeof define === \"function\" && define.amd) {\n",
       "      requirejs.config({paths});\n",
       "      require([\"vega-embed\"], displayChart, err => showError(`Error loading script: ${err.message}`));\n",
       "    } else {\n",
       "      maybeLoadScript(\"vega\", \"5\")\n",
       "        .then(() => maybeLoadScript(\"vega-lite\", \"4.17.0\"))\n",
       "        .then(() => maybeLoadScript(\"vega-embed\", \"6\"))\n",
       "        .catch(showError)\n",
       "        .then(() => displayChart(vegaEmbed));\n",
       "    }\n",
       "  })({\"config\": {\"view\": {\"continuousWidth\": 400, \"continuousHeight\": 300}}, \"data\": {\"name\": \"data-ae6c8ec6b84ea4a8ed5a8d8d60c801c6\"}, \"mark\": \"bar\", \"encoding\": {\"color\": {\"field\": \"epitope\", \"scale\": {\"domain\": [\"1\", \"2\", \"3\"], \"range\": [\"#1f77b4\", \"#ff7f0e\", \"#2ca02c\"]}, \"type\": \"nominal\"}, \"column\": {\"field\": \"epitope\", \"type\": \"nominal\"}, \"row\": {\"field\": \"mutation\", \"sort\": {\"field\": \"site\"}, \"type\": \"nominal\"}, \"tooltip\": [{\"field\": \"epitope\", \"type\": \"nominal\"}, {\"field\": \"site\", \"type\": \"quantitative\"}, {\"field\": \"wildtype\", \"type\": \"nominal\"}, {\"field\": \"mutant\", \"type\": \"nominal\"}, {\"field\": \"variable\", \"type\": \"nominal\"}, {\"field\": \"value\", \"type\": \"quantitative\"}], \"x\": {\"field\": \"value\", \"title\": \"beta coefficient\", \"type\": \"quantitative\"}, \"y\": {\"field\": \"variable\", \"title\": null, \"type\": \"nominal\"}}, \"height\": 25, \"width\": 225, \"$schema\": \"https://vega.github.io/schema/vega-lite/v4.17.0.json\", \"datasets\": {\"data-ae6c8ec6b84ea4a8ed5a8d8d60c801c6\": [{\"epitope\": \"1\", \"site\": 1, \"wildtype\": \"M\", \"mutant\": \"A\", \"mutation\": \"M1A\", \"variable\": \"predicted\", \"value\": 1.8033798657635525}, {\"epitope\": \"1\", \"site\": 2, \"wildtype\": \"M\", \"mutant\": \"A\", \"mutation\": \"M2A\", \"variable\": \"predicted\", \"value\": 0.19329992065620386}, {\"epitope\": \"1\", \"site\": 3, \"wildtype\": \"M\", \"mutant\": \"A\", \"mutation\": \"M3A\", \"variable\": \"predicted\", \"value\": 4.624805813021353}, {\"epitope\": \"1\", \"site\": 4, \"wildtype\": \"M\", \"mutant\": \"A\", \"mutation\": \"M4A\", \"variable\": \"predicted\", \"value\": 7.228181799469526}, {\"epitope\": \"1\", \"site\": 5, \"wildtype\": \"M\", \"mutant\": \"A\", \"mutation\": \"M5A\", \"variable\": \"predicted\", \"value\": 0.00046115750514103004}, {\"epitope\": \"1\", \"site\": 6, \"wildtype\": \"M\", \"mutant\": \"A\", \"mutation\": \"M6A\", \"variable\": \"predicted\", \"value\": -0.012474364584542149}, {\"epitope\": \"1\", \"site\": 7, \"wildtype\": \"M\", \"mutant\": \"A\", \"mutation\": \"M7A\", \"variable\": \"predicted\", \"value\": 0.0003743547198867617}, {\"epitope\": \"1\", \"site\": 8, \"wildtype\": \"M\", \"mutant\": \"A\", \"mutation\": \"M8A\", \"variable\": \"predicted\", \"value\": -0.005701678923522785}, {\"epitope\": \"1\", \"site\": 9, \"wildtype\": \"M\", \"mutant\": \"A\", \"mutation\": \"M9A\", \"variable\": \"predicted\", \"value\": 0.0017281452846687297}, {\"epitope\": \"1\", \"site\": 10, \"wildtype\": \"M\", \"mutant\": \"A\", \"mutation\": \"M10A\", \"variable\": \"predicted\", \"value\": 0.000914030981384678}, {\"epitope\": \"1\", \"site\": 11, \"wildtype\": \"M\", \"mutant\": \"A\", \"mutation\": \"M11A\", \"variable\": \"predicted\", \"value\": -0.0018157021856404366}, {\"epitope\": \"1\", \"site\": 12, \"wildtype\": \"M\", \"mutant\": \"A\", \"mutation\": \"M12A\", \"variable\": \"predicted\", \"value\": 0.008690384260711899}, {\"epitope\": \"2\", \"site\": 1, \"wildtype\": \"M\", \"mutant\": \"A\", \"mutation\": \"M1A\", \"variable\": \"predicted\", \"value\": 0.006291195592902517}, {\"epitope\": \"2\", \"site\": 2, \"wildtype\": \"M\", \"mutant\": \"A\", \"mutation\": \"M2A\", \"variable\": \"predicted\", \"value\": 0.002763163355372876}, {\"epitope\": \"2\", \"site\": 3, \"wildtype\": \"M\", \"mutant\": \"A\", \"mutation\": \"M3A\", \"variable\": \"predicted\", \"value\": 0.004204531824620899}, {\"epitope\": \"2\", \"site\": 4, \"wildtype\": \"M\", \"mutant\": \"A\", \"mutation\": \"M4A\", \"variable\": \"predicted\", \"value\": 0.003424093860009207}, {\"epitope\": \"2\", \"site\": 5, \"wildtype\": \"M\", \"mutant\": \"A\", \"mutation\": \"M5A\", \"variable\": \"predicted\", \"value\": 4.195801727732849}, {\"epitope\": \"2\", \"site\": 6, \"wildtype\": \"M\", \"mutant\": \"A\", \"mutation\": \"M6A\", \"variable\": \"predicted\", \"value\": 4.8511642131208355}, {\"epitope\": \"2\", \"site\": 7, \"wildtype\": \"M\", \"mutant\": \"A\", \"mutation\": \"M7A\", \"variable\": \"predicted\", \"value\": 0.1251603402077842}, {\"epitope\": \"2\", \"site\": 8, \"wildtype\": \"M\", \"mutant\": \"A\", \"mutation\": \"M8A\", \"variable\": \"predicted\", \"value\": 4.864134933466682}, {\"epitope\": \"2\", \"site\": 9, \"wildtype\": \"M\", \"mutant\": \"A\", \"mutation\": \"M9A\", \"variable\": \"predicted\", \"value\": 0.0031033924197686083}, {\"epitope\": \"2\", \"site\": 10, \"wildtype\": \"M\", \"mutant\": \"A\", \"mutation\": \"M10A\", \"variable\": \"predicted\", \"value\": -0.006312556617376956}, {\"epitope\": \"2\", \"site\": 11, \"wildtype\": \"M\", \"mutant\": \"A\", \"mutation\": \"M11A\", \"variable\": \"predicted\", \"value\": -0.0066335320819396835}, {\"epitope\": \"2\", \"site\": 12, \"wildtype\": \"M\", \"mutant\": \"A\", \"mutation\": \"M12A\", \"variable\": \"predicted\", \"value\": -0.005344092418448889}, {\"epitope\": \"3\", \"site\": 1, \"wildtype\": \"M\", \"mutant\": \"A\", \"mutation\": \"M1A\", \"variable\": \"predicted\", \"value\": 0.012905985427590227}, {\"epitope\": \"3\", \"site\": 2, \"wildtype\": \"M\", \"mutant\": \"A\", \"mutation\": \"M2A\", \"variable\": \"predicted\", \"value\": -0.01031693957125314}, {\"epitope\": \"3\", \"site\": 3, \"wildtype\": \"M\", \"mutant\": \"A\", \"mutation\": \"M3A\", \"variable\": \"predicted\", \"value\": -0.0060688914108741185}, {\"epitope\": \"3\", \"site\": 4, \"wildtype\": \"M\", \"mutant\": \"A\", \"mutation\": \"M4A\", \"variable\": \"predicted\", \"value\": -0.00952873467490698}, {\"epitope\": \"3\", \"site\": 5, \"wildtype\": \"M\", \"mutant\": \"A\", \"mutation\": \"M5A\", \"variable\": \"predicted\", \"value\": -0.017731008614831727}, {\"epitope\": \"3\", \"site\": 6, \"wildtype\": \"M\", \"mutant\": \"A\", \"mutation\": \"M6A\", \"variable\": \"predicted\", \"value\": 0.013893592284240861}, {\"epitope\": \"3\", \"site\": 7, \"wildtype\": \"M\", \"mutant\": \"A\", \"mutation\": \"M7A\", \"variable\": \"predicted\", \"value\": 0.0012959793774843732}, {\"epitope\": \"3\", \"site\": 8, \"wildtype\": \"M\", \"mutant\": \"A\", \"mutation\": \"M8A\", \"variable\": \"predicted\", \"value\": 0.0018572345384578457}, {\"epitope\": \"3\", \"site\": 9, \"wildtype\": \"M\", \"mutant\": \"A\", \"mutation\": \"M9A\", \"variable\": \"predicted\", \"value\": 8.990368296638822}, {\"epitope\": \"3\", \"site\": 10, \"wildtype\": \"M\", \"mutant\": \"A\", \"mutation\": \"M10A\", \"variable\": \"predicted\", \"value\": 8.390606904032506}, {\"epitope\": \"3\", \"site\": 11, \"wildtype\": \"M\", \"mutant\": \"A\", \"mutation\": \"M11A\", \"variable\": \"predicted\", \"value\": 7.226353724314425}, {\"epitope\": \"3\", \"site\": 12, \"wildtype\": \"M\", \"mutant\": \"A\", \"mutation\": \"M12A\", \"variable\": \"predicted\", \"value\": 1.0077509227778683}, {\"epitope\": \"1\", \"site\": 1, \"wildtype\": \"M\", \"mutant\": \"A\", \"mutation\": \"M1A\", \"variable\": \"true\", \"value\": 1.802696888767692}, {\"epitope\": \"1\", \"site\": 2, \"wildtype\": \"M\", \"mutant\": \"A\", \"mutation\": \"M2A\", \"variable\": \"true\", \"value\": 0.19475241487624584}, {\"epitope\": \"1\", \"site\": 3, \"wildtype\": \"M\", \"mutant\": \"A\", \"mutation\": \"M3A\", \"variable\": \"true\", \"value\": 4.6321852649834465}, {\"epitope\": \"1\", \"site\": 4, \"wildtype\": \"M\", \"mutant\": \"A\", \"mutation\": \"M4A\", \"variable\": \"true\", \"value\": 7.249339291921478}, {\"epitope\": \"1\", \"site\": 5, \"wildtype\": \"M\", \"mutant\": \"A\", \"mutation\": \"M5A\", \"variable\": \"true\", \"value\": 0.0}, {\"epitope\": \"1\", \"site\": 6, \"wildtype\": \"M\", \"mutant\": \"A\", \"mutation\": \"M6A\", \"variable\": \"true\", \"value\": 0.0}, {\"epitope\": \"1\", \"site\": 7, \"wildtype\": \"M\", \"mutant\": \"A\", \"mutation\": \"M7A\", \"variable\": \"true\", \"value\": 0.0}, {\"epitope\": \"1\", \"site\": 8, \"wildtype\": \"M\", \"mutant\": \"A\", \"mutation\": \"M8A\", \"variable\": \"true\", \"value\": 0.0}, {\"epitope\": \"1\", \"site\": 9, \"wildtype\": \"M\", \"mutant\": \"A\", \"mutation\": \"M9A\", \"variable\": \"true\", \"value\": 0.0}, {\"epitope\": \"1\", \"site\": 10, \"wildtype\": \"M\", \"mutant\": \"A\", \"mutation\": \"M10A\", \"variable\": \"true\", \"value\": 0.0}, {\"epitope\": \"1\", \"site\": 11, \"wildtype\": \"M\", \"mutant\": \"A\", \"mutation\": \"M11A\", \"variable\": \"true\", \"value\": 0.0}, {\"epitope\": \"1\", \"site\": 12, \"wildtype\": \"M\", \"mutant\": \"A\", \"mutation\": \"M12A\", \"variable\": \"true\", \"value\": 0.0}, {\"epitope\": \"2\", \"site\": 1, \"wildtype\": \"M\", \"mutant\": \"A\", \"mutation\": \"M1A\", \"variable\": \"true\", \"value\": 0.0}, {\"epitope\": \"2\", \"site\": 2, \"wildtype\": \"M\", \"mutant\": \"A\", \"mutation\": \"M2A\", \"variable\": \"true\", \"value\": 0.0}, {\"epitope\": \"2\", \"site\": 3, \"wildtype\": \"M\", \"mutant\": \"A\", \"mutation\": \"M3A\", \"variable\": \"true\", \"value\": 0.0}, {\"epitope\": \"2\", \"site\": 4, \"wildtype\": \"M\", \"mutant\": \"A\", \"mutation\": \"M4A\", \"variable\": \"true\", \"value\": 0.0}, {\"epitope\": \"2\", \"site\": 5, \"wildtype\": \"M\", \"mutant\": \"A\", \"mutation\": \"M5A\", \"variable\": \"true\", \"value\": 4.202036045877274}, {\"epitope\": \"2\", \"site\": 6, \"wildtype\": \"M\", \"mutant\": \"A\", \"mutation\": \"M6A\", \"variable\": \"true\", \"value\": 4.854270981677824}, {\"epitope\": \"2\", \"site\": 7, \"wildtype\": \"M\", \"mutant\": \"A\", \"mutation\": \"M7A\", \"variable\": \"true\", \"value\": 0.12780814590608647}, {\"epitope\": \"2\", \"site\": 8, \"wildtype\": \"M\", \"mutant\": \"A\", \"mutation\": \"M8A\", \"variable\": \"true\", \"value\": 4.873716073198716}, {\"epitope\": \"2\", \"site\": 9, \"wildtype\": \"M\", \"mutant\": \"A\", \"mutation\": \"M9A\", \"variable\": \"true\", \"value\": 0.0}, {\"epitope\": \"2\", \"site\": 10, \"wildtype\": \"M\", \"mutant\": \"A\", \"mutation\": \"M10A\", \"variable\": \"true\", \"value\": 0.0}, {\"epitope\": \"2\", \"site\": 11, \"wildtype\": \"M\", \"mutant\": \"A\", \"mutation\": \"M11A\", \"variable\": \"true\", \"value\": 0.0}, {\"epitope\": \"2\", \"site\": 12, \"wildtype\": \"M\", \"mutant\": \"A\", \"mutation\": \"M12A\", \"variable\": \"true\", \"value\": 0.0}, {\"epitope\": \"3\", \"site\": 1, \"wildtype\": \"M\", \"mutant\": \"A\", \"mutation\": \"M1A\", \"variable\": \"true\", \"value\": 0.0}, {\"epitope\": \"3\", \"site\": 2, \"wildtype\": \"M\", \"mutant\": \"A\", \"mutation\": \"M2A\", \"variable\": \"true\", \"value\": 0.0}, {\"epitope\": \"3\", \"site\": 3, \"wildtype\": \"M\", \"mutant\": \"A\", \"mutation\": \"M3A\", \"variable\": \"true\", \"value\": 0.0}, {\"epitope\": \"3\", \"site\": 4, \"wildtype\": \"M\", \"mutant\": \"A\", \"mutation\": \"M4A\", \"variable\": \"true\", \"value\": 0.0}, {\"epitope\": \"3\", \"site\": 5, \"wildtype\": \"M\", \"mutant\": \"A\", \"mutation\": \"M5A\", \"variable\": \"true\", \"value\": 0.0}, {\"epitope\": \"3\", \"site\": 6, \"wildtype\": \"M\", \"mutant\": \"A\", \"mutation\": \"M6A\", \"variable\": \"true\", \"value\": 0.0}, {\"epitope\": \"3\", \"site\": 7, \"wildtype\": \"M\", \"mutant\": \"A\", \"mutation\": \"M7A\", \"variable\": \"true\", \"value\": 0.0}, {\"epitope\": \"3\", \"site\": 8, \"wildtype\": \"M\", \"mutant\": \"A\", \"mutation\": \"M8A\", \"variable\": \"true\", \"value\": 0.0}, {\"epitope\": \"3\", \"site\": 9, \"wildtype\": \"M\", \"mutant\": \"A\", \"mutation\": \"M9A\", \"variable\": \"true\", \"value\": 9.418066523433662}, {\"epitope\": \"3\", \"site\": 10, \"wildtype\": \"M\", \"mutant\": \"A\", \"mutation\": \"M10A\", \"variable\": \"true\", \"value\": 8.507950893767788}, {\"epitope\": \"3\", \"site\": 11, \"wildtype\": \"M\", \"mutant\": \"A\", \"mutation\": \"M11A\", \"variable\": \"true\", \"value\": 7.299644702208186}, {\"epitope\": \"3\", \"site\": 12, \"wildtype\": \"M\", \"mutant\": \"A\", \"mutation\": \"M12A\", \"variable\": \"true\", \"value\": 1.0873607186897494}]}}, {\"mode\": \"vega-lite\"});\n",
       "</script>"
      ],
      "text/plain": [
       "alt.Chart(...)"
      ]
     },
     "execution_count": 13,
     "metadata": {},
     "output_type": "execute_result"
    }
   ],
   "source": [
    "plot_data = pd.merge(\n",
    "    poly_abs.mut_escape_df.rename(columns={\"escape\": \"predicted\"}), \n",
    "    ref_df.rename(columns={\"escape\": \"true\"}), \n",
    "    on=['epitope', 'site', 'wildtype', 'mutant', 'mutation']\n",
    ").melt(id_vars = ['epitope', 'site', 'wildtype', 'mutant', 'mutation'])\n",
    "\n",
    "domain = list(poly_abs.epitope_colors.keys())\n",
    "rnge = list(poly_abs.epitope_colors.values())\n",
    "\n",
    "alt.Chart(plot_data).mark_bar().encode(\n",
    "    y=alt.Y('variable', title = None),\n",
    "    x=alt.X('value', title = 'beta coefficient'),\n",
    "    color=alt.Color('epitope', scale = alt.Scale(domain=domain, range=rnge)),\n",
    "    row=alt.Row('mutation', sort=alt.SortField(field='site')),\n",
    "    column ='epitope',\n",
    "    tooltip=['epitope', 'site', 'wildtype', 'mutant', 'variable', 'value']\n",
    ").properties(height = 25, width = 225)"
   ]
  },
  {
   "cell_type": "markdown",
   "id": "670e8b29-81ec-40a0-b95d-857cd8bd5a19",
   "metadata": {},
   "source": [
    "## Simulation and model inference when there are pairwise interactions"
   ]
  },
  {
   "cell_type": "markdown",
   "id": "8c26b4b4-fc19-4537-aaa2-b1f7357f1ff2",
   "metadata": {},
   "source": [
    "We'll use the same individual mutation effects as above. Now, we'll also randomly generate some values for the pairwise interaction mutation effects (between mutations at the same epitope)."
   ]
  },
  {
   "cell_type": "code",
   "execution_count": 14,
   "id": "ea1143f4-e306-40f6-9793-a102d7018211",
   "metadata": {},
   "outputs": [
    {
     "data": {
      "text/plain": [
       "array([-0.09194992, -1.46335065,  1.08179168, -0.23932517, -0.49112914,\n",
       "       -1.00227201,  0.9188215 , -1.1036321 ,  0.62649346, -0.56151378,\n",
       "        0.02885512, -0.23076719,  0.58775221,  0.75231758, -1.05850255,\n",
       "        1.05597241,  0.74775027,  1.06467659])"
      ]
     },
     "execution_count": 14,
     "metadata": {},
     "output_type": "execute_result"
    }
   ],
   "source": [
    "np.random.seed(22)\n",
    "interact_params = np.random.normal(loc=0, scale=1, size=(int(n_per_e*(n_per_e-1)/2) * n_e,))\n",
    "#interact_params = np.zeros((int(n_per_e*(n_per_e-1)/2) * n_e,))\n",
    "interact_params"
   ]
  },
  {
   "cell_type": "markdown",
   "id": "030c8363-d4fd-4a4a-b0c9-d8ee0a8c775d",
   "metadata": {},
   "source": [
    "Now, lets re-compute the probability of escape values for each variant under the assumption that there are pairwise interactions between mutations."
   ]
  },
  {
   "cell_type": "code",
   "execution_count": 15,
   "id": "a05d6665-9d3c-4ba1-a711-160a52777cff",
   "metadata": {},
   "outputs": [
    {
     "name": "stdout",
     "output_type": "stream",
     "text": [
      "[0.04503299 0.04973024 0.04806918 ... 0.99983386 0.99983963 0.999833  ]\n",
      "[0.00753774 0.00667314 0.0065839  ... 0.99984331 0.99983698 0.99984424]\n",
      "[0.01886706 0.05211945 0.96663012 ... 0.99999976 1.         1.        ]\n",
      "[6.40437083e-06 1.72961919e-05 3.05921832e-04 ... 9.99676955e-01\n",
      " 9.99676634e-01 9.99677264e-01]\n"
     ]
    }
   ],
   "source": [
    "np.random.seed(123)\n",
    "\n",
    "poly = PolynomialFeatures(2, interaction_only=True)\n",
    "\n",
    "def sigmoid(x):\n",
    "     return 1 / (1 + np.exp(-x))\n",
    "\n",
    "e1 = sigmoid(\n",
    "        np.matmul(\n",
    "            poly.fit_transform(np.array(variants)[:,:4])[:,1:], np.append(params[:4], interact_params[:6])\n",
    "        ) - a_wt_1 + np.random.normal(0, 0.05, len(variants)\n",
    "    )\n",
    ")\n",
    "print(e1)\n",
    "\n",
    "e2 = sigmoid(\n",
    "        np.matmul(\n",
    "            poly.fit_transform(np.array(variants)[:,4:8])[:,1:], np.append(params[4:8], interact_params[6:12])\n",
    "        ) - a_wt_2 + np.random.normal(0, 0.05, len(variants)\n",
    "    )\n",
    ")\n",
    "print(e2)\n",
    "\n",
    "e3 = sigmoid(\n",
    "        np.matmul(\n",
    "            poly.fit_transform(np.array(variants)[:,8:])[:,1:], np.append(params[8:], interact_params[12:])\n",
    "        ) - a_wt_3 + np.random.normal(0, 0.05, len(variants)\n",
    "    )\n",
    ")\n",
    "print(e3)\n",
    "\n",
    "escape_interact = np.prod([e1, e2, e3], axis=0)\n",
    "print(escape_interact)"
   ]
  },
  {
   "cell_type": "markdown",
   "id": "b802a34e-08f7-488c-a95d-a256c56c29ff",
   "metadata": {},
   "source": [
    "Visualize how probability of escape varies as a function of number of mutations."
   ]
  },
  {
   "cell_type": "code",
   "execution_count": 16,
   "id": "ae08e3ae-90eb-4c3c-8ab0-2798a5a19044",
   "metadata": {},
   "outputs": [
    {
     "data": {
      "image/png": "[encoded data removed]",
      "text/plain": [
       "<Figure size 640x480 with 1 Axes>"
      ]
     },
     "metadata": {},
     "output_type": "display_data"
    },
    {
     "data": {
      "text/plain": [
       "<ggplot: (8790959296509)>"
      ]
     },
     "execution_count": 16,
     "metadata": {},
     "output_type": "execute_result"
    }
   ],
   "source": [
    "plot_data = pd.DataFrame(\n",
    "    {\n",
    "        'num_aa_substitutions' : np.sum(variants, 1),\n",
    "        'escape_fraction' : escape_interact\n",
    "    }\n",
    ")\n",
    "\n",
    "(\n",
    "    ggplot(plot_data, aes(y = 'escape_fraction', x = 'factor(num_aa_substitutions)')) +\n",
    "    geom_boxplot(outlier_alpha = 0.3) +\n",
    "    theme_bw() +\n",
    "    labs(x = 'Number of AA substitutions', y = 'Escape fraction')\n",
    ")"
   ]
  },
  {
   "cell_type": "markdown",
   "id": "649456e0-d6a5-4b0a-a0f9-5fe57826b372",
   "metadata": {},
   "source": [
    "Combine everything from above into a dataframe that can be passed into `Polyclonal`."
   ]
  },
  {
   "cell_type": "code",
   "execution_count": 17,
   "id": "b82a7b6b-b8d8-44d2-8901-c832da1df7a2",
   "metadata": {},
   "outputs": [
    {
     "data": {
      "text/html": [
       "<div>\n",
       "<style scoped>\n",
       "    .dataframe tbody tr th:only-of-type {\n",
       "        vertical-align: middle;\n",
       "    }\n",
       "\n",
       "    .dataframe tbody tr th {\n",
       "        vertical-align: top;\n",
       "    }\n",
       "\n",
       "    .dataframe thead th {\n",
       "        text-align: right;\n",
       "    }\n",
       "</style>\n",
       "<table border=\"1\" class=\"dataframe\">\n",
       "  <thead>\n",
       "    <tr style=\"text-align: right;\">\n",
       "      <th></th>\n",
       "      <th>library</th>\n",
       "      <th>name</th>\n",
       "      <th>aa_substitutions</th>\n",
       "      <th>n_aa_substitutions</th>\n",
       "      <th>prob_escape</th>\n",
       "      <th>concentration</th>\n",
       "      <th>epistatic_effect</th>\n",
       "    </tr>\n",
       "  </thead>\n",
       "  <tbody>\n",
       "    <tr>\n",
       "      <th>0</th>\n",
       "      <td>lib1</td>\n",
       "      <td>simulated_sera</td>\n",
       "      <td></td>\n",
       "      <td>0</td>\n",
       "      <td>0.000006</td>\n",
       "      <td>1</td>\n",
       "      <td>0.000000</td>\n",
       "    </tr>\n",
       "    <tr>\n",
       "      <th>1</th>\n",
       "      <td>lib1</td>\n",
       "      <td>simulated_sera</td>\n",
       "      <td>M12A</td>\n",
       "      <td>1</td>\n",
       "      <td>0.000017</td>\n",
       "      <td>1</td>\n",
       "      <td>0.000000</td>\n",
       "    </tr>\n",
       "    <tr>\n",
       "      <th>2</th>\n",
       "      <td>lib1</td>\n",
       "      <td>simulated_sera</td>\n",
       "      <td>M11A</td>\n",
       "      <td>1</td>\n",
       "      <td>0.000306</td>\n",
       "      <td>1</td>\n",
       "      <td>0.000000</td>\n",
       "    </tr>\n",
       "    <tr>\n",
       "      <th>3</th>\n",
       "      <td>lib1</td>\n",
       "      <td>simulated_sera</td>\n",
       "      <td>M10A</td>\n",
       "      <td>1</td>\n",
       "      <td>0.000268</td>\n",
       "      <td>1</td>\n",
       "      <td>0.000000</td>\n",
       "    </tr>\n",
       "    <tr>\n",
       "      <th>4</th>\n",
       "      <td>lib1</td>\n",
       "      <td>simulated_sera</td>\n",
       "      <td>M9A</td>\n",
       "      <td>1</td>\n",
       "      <td>0.000301</td>\n",
       "      <td>1</td>\n",
       "      <td>0.000000</td>\n",
       "    </tr>\n",
       "    <tr>\n",
       "      <th>...</th>\n",
       "      <td>...</td>\n",
       "      <td>...</td>\n",
       "      <td>...</td>\n",
       "      <td>...</td>\n",
       "      <td>...</td>\n",
       "      <td>...</td>\n",
       "      <td>...</td>\n",
       "    </tr>\n",
       "    <tr>\n",
       "      <th>4091</th>\n",
       "      <td>lib1</td>\n",
       "      <td>simulated_sera</td>\n",
       "      <td>M1A M2A M3A M4A M5A M6A M7A M8A M10A M11A M12A</td>\n",
       "      <td>11</td>\n",
       "      <td>0.999690</td>\n",
       "      <td>1</td>\n",
       "      <td>0.000184</td>\n",
       "    </tr>\n",
       "    <tr>\n",
       "      <th>4092</th>\n",
       "      <td>lib1</td>\n",
       "      <td>simulated_sera</td>\n",
       "      <td>M1A M2A M3A M4A M5A M6A M7A M8A M9A M11A M12A</td>\n",
       "      <td>11</td>\n",
       "      <td>0.999664</td>\n",
       "      <td>1</td>\n",
       "      <td>0.000201</td>\n",
       "    </tr>\n",
       "    <tr>\n",
       "      <th>4093</th>\n",
       "      <td>lib1</td>\n",
       "      <td>simulated_sera</td>\n",
       "      <td>M1A M2A M3A M4A M5A M6A M7A M8A M9A M10A M12A</td>\n",
       "      <td>11</td>\n",
       "      <td>0.999677</td>\n",
       "      <td>1</td>\n",
       "      <td>0.000191</td>\n",
       "    </tr>\n",
       "    <tr>\n",
       "      <th>4094</th>\n",
       "      <td>lib1</td>\n",
       "      <td>simulated_sera</td>\n",
       "      <td>M1A M2A M3A M4A M5A M6A M7A M8A M9A M10A M11A</td>\n",
       "      <td>11</td>\n",
       "      <td>0.999677</td>\n",
       "      <td>1</td>\n",
       "      <td>0.000188</td>\n",
       "    </tr>\n",
       "    <tr>\n",
       "      <th>4095</th>\n",
       "      <td>lib1</td>\n",
       "      <td>simulated_sera</td>\n",
       "      <td>M1A M2A M3A M4A M5A M6A M7A M8A M9A M10A M11A ...</td>\n",
       "      <td>12</td>\n",
       "      <td>0.999677</td>\n",
       "      <td>1</td>\n",
       "      <td>0.000191</td>\n",
       "    </tr>\n",
       "  </tbody>\n",
       "</table>\n",
       "<p>4096 rows × 7 columns</p>\n",
       "</div>"
      ],
      "text/plain": [
       "     library            name  \\\n",
       "0       lib1  simulated_sera   \n",
       "1       lib1  simulated_sera   \n",
       "2       lib1  simulated_sera   \n",
       "3       lib1  simulated_sera   \n",
       "4       lib1  simulated_sera   \n",
       "...      ...             ...   \n",
       "4091    lib1  simulated_sera   \n",
       "4092    lib1  simulated_sera   \n",
       "4093    lib1  simulated_sera   \n",
       "4094    lib1  simulated_sera   \n",
       "4095    lib1  simulated_sera   \n",
       "\n",
       "                                       aa_substitutions  n_aa_substitutions  \\\n",
       "0                                                                         0   \n",
       "1                                                  M12A                   1   \n",
       "2                                                  M11A                   1   \n",
       "3                                                  M10A                   1   \n",
       "4                                                   M9A                   1   \n",
       "...                                                 ...                 ...   \n",
       "4091     M1A M2A M3A M4A M5A M6A M7A M8A M10A M11A M12A                  11   \n",
       "4092      M1A M2A M3A M4A M5A M6A M7A M8A M9A M11A M12A                  11   \n",
       "4093      M1A M2A M3A M4A M5A M6A M7A M8A M9A M10A M12A                  11   \n",
       "4094      M1A M2A M3A M4A M5A M6A M7A M8A M9A M10A M11A                  11   \n",
       "4095  M1A M2A M3A M4A M5A M6A M7A M8A M9A M10A M11A ...                  12   \n",
       "\n",
       "      prob_escape  concentration  epistatic_effect  \n",
       "0        0.000006              1          0.000000  \n",
       "1        0.000017              1          0.000000  \n",
       "2        0.000306              1          0.000000  \n",
       "3        0.000268              1          0.000000  \n",
       "4        0.000301              1          0.000000  \n",
       "...           ...            ...               ...  \n",
       "4091     0.999690              1          0.000184  \n",
       "4092     0.999664              1          0.000201  \n",
       "4093     0.999677              1          0.000191  \n",
       "4094     0.999677              1          0.000188  \n",
       "4095     0.999677              1          0.000191  \n",
       "\n",
       "[4096 rows x 7 columns]"
      ]
     },
     "execution_count": 17,
     "metadata": {},
     "output_type": "execute_result"
    }
   ],
   "source": [
    "muts = ['M1A', 'M2A', 'M3A', 'M4A', 'M5A', 'M6A',\n",
    "        'M7A', 'M8A', 'M9A', 'M10A', 'M11A', 'M12A']\n",
    "\n",
    "var_strings = []\n",
    "for var in variants:\n",
    "    var_lst = []\n",
    "    for idx,i in enumerate(var):\n",
    "        if i == 1:\n",
    "            var_lst.append(muts[idx])\n",
    "            \n",
    "    var_strings.append(' '.join(var_lst))\n",
    "\n",
    "data = pd.DataFrame(\n",
    "    {\n",
    "        'library' : ['lib1'] * len(variants),\n",
    "        'name' : ['simulated_sera'] * len(variants),\n",
    "        'aa_substitutions' : var_strings,\n",
    "        'n_aa_substitutions' : np.sum(variants, 1),\n",
    "        'prob_escape' : escape_interact,\n",
    "        'concentration' : [1] * len(variants),\n",
    "        'epistatic_effect': np.abs(escape_interact - escape)\n",
    "    }\n",
    ")\n",
    "data"
   ]
  },
  {
   "cell_type": "markdown",
   "id": "8f96518c-7e32-4fdc-bd93-9c306a84196a",
   "metadata": {},
   "source": [
    "Randomly split the data into a training set (80%) and test set (20%)."
   ]
  },
  {
   "cell_type": "code",
   "execution_count": 18,
   "id": "c0bb86ff-ed9f-4d11-8193-879c807323b5",
   "metadata": {},
   "outputs": [
    {
     "name": "stdout",
     "output_type": "stream",
     "text": [
      "There are 3277 sequences in the training dataset.\n",
      "There are 819 sequences in the test dataset.\n"
     ]
    }
   ],
   "source": [
    "train_data = data.sample(frac = 0.8, random_state = 1)\n",
    "print(f\"There are {len(train_data)} sequences in the training dataset.\")\n",
    "\n",
    "train_data_idx = train_data.index\n",
    "test_data = data.drop(train_data_idx)\n",
    "print(f\"There are {len(test_data)} sequences in the test dataset.\")"
   ]
  },
  {
   "cell_type": "markdown",
   "id": "90ae462d-9c12-4469-a466-394de6ed8b95",
   "metadata": {},
   "source": [
    "Fit a `Polyclonal` model to the training set with three epitopes."
   ]
  },
  {
   "cell_type": "code",
   "execution_count": 19,
   "id": "f21d132d-8625-47ff-8d0e-2c425090f234",
   "metadata": {},
   "outputs": [
    {
     "name": "stdout",
     "output_type": "stream",
     "text": [
      "# First fitting site-level model.\n",
      "# Starting optimization of 39 parameters at Sat Feb 26 00:11:09 2022.\n",
      "       step   time_sec       loss   fit_loss reg_escape  regspread\n",
      "          0  0.0058429     1035.8     1035.8          0          0\n",
      "        200      0.858     11.133     10.379    0.75443          0\n",
      "        400     1.6859     10.807     10.127     0.6798          0\n",
      "        600     2.5433     9.7814      9.258    0.52344          0\n",
      "        656     2.7663     9.7805     9.2561    0.52441          0\n",
      "# Successfully finished at Sat Feb 26 00:11:12 2022.\n",
      "# Starting optimization of 39 parameters at Sat Feb 26 00:11:12 2022.\n",
      "       step   time_sec       loss   fit_loss reg_escape  regspread\n",
      "          0  0.0048862     9.7805     9.2561    0.52441          0\n",
      "          2   0.014824     9.7805     9.2561    0.52441          0\n",
      "# Successfully finished at Sat Feb 26 00:11:12 2022.\n"
     ]
    }
   ],
   "source": [
    "poly_abs = polyclonal.Polyclonal(\n",
    "    data_to_fit=train_data,\n",
    "    n_epitopes=3,\n",
    ")\n",
    "\n",
    "opt_res = poly_abs.fit(logfreq=200)"
   ]
  },
  {
   "cell_type": "markdown",
   "id": "ffafb0eb-67c0-44a0-98bf-a206e4528c15",
   "metadata": {},
   "source": [
    "Harmonize the fit epitopes with the true epitopes. "
   ]
  },
  {
   "cell_type": "code",
   "execution_count": 20,
   "id": "97d6a39a-e826-4456-9d1e-5f8fd975c9b7",
   "metadata": {},
   "outputs": [],
   "source": [
    "e1_params = np.concatenate([params[:4], np.zeros(8)])\n",
    "e2_params = np.concatenate([np.zeros(4), params[4:8], np.zeros(4)])\n",
    "e3_params = np.concatenate([np.zeros(8), params[8:]])\n",
    "\n",
    "ref_df = (\n",
    "        poly_abs.mut_escape_df\n",
    "        .assign(escape = np.concatenate([e1_params, e2_params, e3_params]))\n",
    ")\n",
    "\n",
    "ref_poly_abs = polyclonal.Polyclonal(\n",
    "    activity_wt_df=pd.DataFrame(\n",
    "        {\n",
    "            'epitope' : ['1', '2', '3'],\n",
    "            'activity' : [a_wt_1, a_wt_2, a_wt_3]\n",
    "        }\n",
    "    ), \n",
    "    mut_escape_df=ref_df\n",
    ")\n",
    "        \n",
    "poly_abs.harmonize_epitopes_with(ref_poly_abs)"
   ]
  },
  {
   "cell_type": "markdown",
   "id": "c96ccab2-f9c4-4912-8206-5498c6f0aa45",
   "metadata": {},
   "source": [
    "Plot the correlation between predicted and actual probability of escape. The correlation is still quite strong, but notice how there is a cluster of variants that are now big outliers (over-predicted probability of escape). These variants also have large \"epistatic effects,\" calculated as the absolute value of the difference between the escape fraction with no interactions and escape fraction with pairwise interactions."
   ]
  },
  {
   "cell_type": "code",
   "execution_count": 21,
   "id": "450ef4e5-edeb-422b-b76a-0eb82fbe7ca6",
   "metadata": {},
   "outputs": [
    {
     "name": "stdout",
     "output_type": "stream",
     "text": [
      "R2: 0.66\n"
     ]
    },
    {
     "data": {
      "image/png": "[encoded data removed]",
      "text/plain": [
       "<Figure size 640x480 with 1 Axes>"
      ]
     },
     "metadata": {},
     "output_type": "display_data"
    },
    {
     "data": {
      "text/plain": [
       "<ggplot: (8790959436072)>"
      ]
     },
     "execution_count": 21,
     "metadata": {},
     "output_type": "execute_result"
    }
   ],
   "source": [
    "plot_data = (\n",
    "    poly_abs.prob_escape(variants_df=test_data)\n",
    "            .rename(columns={\"prob_escape\": \"actual\", \n",
    "                             \"predicted_prob_escape\": \"predicted\"})\n",
    ")\n",
    "\n",
    "r2 = plot_data[\"actual\"].corr(plot_data[\"predicted\"]) ** 2\n",
    "print(f\"R2: {r2.round(3)}\")\n",
    "        \n",
    "(\n",
    "    ggplot(plot_data, aes(x = 'predicted', y = 'actual')) +\n",
    "    geom_point(aes(color = 'epistatic_effect'), alpha=0.8) +\n",
    "    theme_bw()\n",
    ")"
   ]
  },
  {
   "cell_type": "markdown",
   "id": "9b8d23cb-e14b-4445-bc6e-ae84d6b61bbb",
   "metadata": {},
   "source": [
    "Also plot the wildtype activity coefficients, which no longer match up with what was expected."
   ]
  },
  {
   "cell_type": "code",
   "execution_count": 22,
   "id": "815e6852-2c9a-403d-84c4-59f350170ef7",
   "metadata": {},
   "outputs": [
    {
     "data": {
      "text/html": [
       "\n",
       "<div id=\"altair-viz-553abf8dd6b343fb87d27fe0217ba87d\"></div>\n",
       "<script type=\"text/javascript\">\n",
       "  var VEGA_DEBUG = (typeof VEGA_DEBUG == \"undefined\") ? {} : VEGA_DEBUG;\n",
       "  (function(spec, embedOpt){\n",
       "    let outputDiv = document.currentScript.previousElementSibling;\n",
       "    if (outputDiv.id !== \"altair-viz-553abf8dd6b343fb87d27fe0217ba87d\") {\n",
       "      outputDiv = document.getElementById(\"altair-viz-553abf8dd6b343fb87d27fe0217ba87d\");\n",
       "    }\n",
       "    const paths = {\n",
       "      \"vega\": \"https://cdn.jsdelivr.net/npm//vega@5?noext\",\n",
       "      \"vega-lib\": \"https://cdn.jsdelivr.net/npm//vega-lib?noext\",\n",
       "      \"vega-lite\": \"https://cdn.jsdelivr.net/npm//vega-lite@4.17.0?noext\",\n",
       "      \"vega-embed\": \"https://cdn.jsdelivr.net/npm//vega-embed@6?noext\",\n",
       "    };\n",
       "\n",
       "    function maybeLoadScript(lib, version) {\n",
       "      var key = `${lib.replace(\"-\", \"\")}_version`;\n",
       "      return (VEGA_DEBUG[key] == version) ?\n",
       "        Promise.resolve(paths[lib]) :\n",
       "        new Promise(function(resolve, reject) {\n",
       "          var s = document.createElement('script');\n",
       "          document.getElementsByTagName(\"head\")[0].appendChild(s);\n",
       "          s.async = true;\n",
       "          s.onload = () => {\n",
       "            VEGA_DEBUG[key] = version;\n",
       "            return resolve(paths[lib]);\n",
       "          };\n",
       "          s.onerror = () => reject(`Error loading script: ${paths[lib]}`);\n",
       "          s.src = paths[lib];\n",
       "        });\n",
       "    }\n",
       "\n",
       "    function showError(err) {\n",
       "      outputDiv.innerHTML = `<div class=\"error\" style=\"color:red;\">${err}</div>`;\n",
       "      throw err;\n",
       "    }\n",
       "\n",
       "    function displayChart(vegaEmbed) {\n",
       "      vegaEmbed(outputDiv, spec, embedOpt)\n",
       "        .catch(err => showError(`Javascript Error: ${err.message}<br>This usually means there's a typo in your chart specification. See the javascript console for the full traceback.`));\n",
       "    }\n",
       "\n",
       "    if(typeof define === \"function\" && define.amd) {\n",
       "      requirejs.config({paths});\n",
       "      require([\"vega-embed\"], displayChart, err => showError(`Error loading script: ${err.message}`));\n",
       "    } else {\n",
       "      maybeLoadScript(\"vega\", \"5\")\n",
       "        .then(() => maybeLoadScript(\"vega-lite\", \"4.17.0\"))\n",
       "        .then(() => maybeLoadScript(\"vega-embed\", \"6\"))\n",
       "        .catch(showError)\n",
       "        .then(() => displayChart(vegaEmbed));\n",
       "    }\n",
       "  })({\"config\": {\"view\": {\"continuousWidth\": 400, \"continuousHeight\": 300}, \"axis\": {\"grid\": false}}, \"data\": {\"name\": \"data-05502795076accafa1b95be73f74d6fc\"}, \"mark\": {\"type\": \"bar\", \"size\": 18.75}, \"encoding\": {\"color\": {\"field\": \"epitope\", \"legend\": null, \"scale\": {\"domain\": [\"1\", \"2\", \"3\"], \"range\": [\"#1f77b4\", \"#ff7f0e\", \"#2ca02c\"]}, \"type\": \"nominal\"}, \"tooltip\": [{\"field\": \"epitope\", \"type\": \"nominal\"}, {\"field\": \"activity\", \"format\": \".3g\", \"type\": \"quantitative\"}], \"x\": {\"field\": \"activity\", \"type\": \"quantitative\"}, \"y\": {\"field\": \"epitope\", \"type\": \"nominal\"}}, \"height\": {\"step\": 25}, \"width\": 110, \"$schema\": \"https://vega.github.io/schema/vega-lite/v4.17.0.json\", \"datasets\": {\"data-05502795076accafa1b95be73f74d6fc\": [{\"epitope\": \"1\", \"activity\": 4.576852746150206}, {\"epitope\": \"2\", \"activity\": 2.24455719592522}, {\"epitope\": \"3\", \"activity\": 4.812899506566414}]}}, {\"mode\": \"vega-lite\"});\n",
       "</script>"
      ],
      "text/plain": [
       "alt.Chart(...)"
      ]
     },
     "execution_count": 22,
     "metadata": {},
     "output_type": "execute_result"
    }
   ],
   "source": [
    "poly_abs.activity_wt_barplot()"
   ]
  },
  {
   "cell_type": "markdown",
   "id": "a3ac073c-3531-4d0e-8390-b13ee3678f31",
   "metadata": {},
   "source": [
    "Lastly, plot the mutation effect coefficients. Surprisingly, these have been preserved to some degree. Although there are some exceptions, with some mutations being misinterpreted as being individually deleterious to escape, when they are actually individually beneficial to escape, but have a negative epistatic interaction when together with another mutation."
   ]
  },
  {
   "cell_type": "code",
   "execution_count": 23,
   "id": "ca7e1d1a-c8b9-4052-a263-48b2fa57a352",
   "metadata": {},
   "outputs": [
    {
     "data": {
      "text/html": [
       "\n",
       "<div id=\"altair-viz-8c0bf1d5542a4b6199500867a499aa48\"></div>\n",
       "<script type=\"text/javascript\">\n",
       "  var VEGA_DEBUG = (typeof VEGA_DEBUG == \"undefined\") ? {} : VEGA_DEBUG;\n",
       "  (function(spec, embedOpt){\n",
       "    let outputDiv = document.currentScript.previousElementSibling;\n",
       "    if (outputDiv.id !== \"altair-viz-8c0bf1d5542a4b6199500867a499aa48\") {\n",
       "      outputDiv = document.getElementById(\"altair-viz-8c0bf1d5542a4b6199500867a499aa48\");\n",
       "    }\n",
       "    const paths = {\n",
       "      \"vega\": \"https://cdn.jsdelivr.net/npm//vega@5?noext\",\n",
       "      \"vega-lib\": \"https://cdn.jsdelivr.net/npm//vega-lib?noext\",\n",
       "      \"vega-lite\": \"https://cdn.jsdelivr.net/npm//vega-lite@4.17.0?noext\",\n",
       "      \"vega-embed\": \"https://cdn.jsdelivr.net/npm//vega-embed@6?noext\",\n",
       "    };\n",
       "\n",
       "    function maybeLoadScript(lib, version) {\n",
       "      var key = `${lib.replace(\"-\", \"\")}_version`;\n",
       "      return (VEGA_DEBUG[key] == version) ?\n",
       "        Promise.resolve(paths[lib]) :\n",
       "        new Promise(function(resolve, reject) {\n",
       "          var s = document.createElement('script');\n",
       "          document.getElementsByTagName(\"head\")[0].appendChild(s);\n",
       "          s.async = true;\n",
       "          s.onload = () => {\n",
       "            VEGA_DEBUG[key] = version;\n",
       "            return resolve(paths[lib]);\n",
       "          };\n",
       "          s.onerror = () => reject(`Error loading script: ${paths[lib]}`);\n",
       "          s.src = paths[lib];\n",
       "        });\n",
       "    }\n",
       "\n",
       "    function showError(err) {\n",
       "      outputDiv.innerHTML = `<div class=\"error\" style=\"color:red;\">${err}</div>`;\n",
       "      throw err;\n",
       "    }\n",
       "\n",
       "    function displayChart(vegaEmbed) {\n",
       "      vegaEmbed(outputDiv, spec, embedOpt)\n",
       "        .catch(err => showError(`Javascript Error: ${err.message}<br>This usually means there's a typo in your chart specification. See the javascript console for the full traceback.`));\n",
       "    }\n",
       "\n",
       "    if(typeof define === \"function\" && define.amd) {\n",
       "      requirejs.config({paths});\n",
       "      require([\"vega-embed\"], displayChart, err => showError(`Error loading script: ${err.message}`));\n",
       "    } else {\n",
       "      maybeLoadScript(\"vega\", \"5\")\n",
       "        .then(() => maybeLoadScript(\"vega-lite\", \"4.17.0\"))\n",
       "        .then(() => maybeLoadScript(\"vega-embed\", \"6\"))\n",
       "        .catch(showError)\n",
       "        .then(() => displayChart(vegaEmbed));\n",
       "    }\n",
       "  })({\"config\": {\"view\": {\"continuousWidth\": 400, \"continuousHeight\": 300}}, \"data\": {\"name\": \"data-cc110cb6d0d807027ade6a321de4ea0b\"}, \"mark\": \"bar\", \"encoding\": {\"color\": {\"field\": \"epitope\", \"scale\": {\"domain\": [\"1\", \"2\", \"3\"], \"range\": [\"#1f77b4\", \"#ff7f0e\", \"#2ca02c\"]}, \"type\": \"nominal\"}, \"column\": {\"field\": \"epitope\", \"type\": \"nominal\"}, \"row\": {\"field\": \"mutation\", \"sort\": {\"field\": \"site\"}, \"type\": \"nominal\"}, \"tooltip\": [{\"field\": \"epitope\", \"type\": \"nominal\"}, {\"field\": \"site\", \"type\": \"quantitative\"}, {\"field\": \"wildtype\", \"type\": \"nominal\"}, {\"field\": \"mutant\", \"type\": \"nominal\"}, {\"field\": \"variable\", \"type\": \"nominal\"}, {\"field\": \"value\", \"type\": \"quantitative\"}], \"x\": {\"field\": \"value\", \"title\": \"beta coefficient\", \"type\": \"quantitative\"}, \"y\": {\"field\": \"variable\", \"title\": null, \"type\": \"nominal\"}}, \"height\": 25, \"width\": 225, \"$schema\": \"https://vega.github.io/schema/vega-lite/v4.17.0.json\", \"datasets\": {\"data-cc110cb6d0d807027ade6a321de4ea0b\": [{\"epitope\": \"1\", \"site\": 1, \"wildtype\": \"M\", \"mutant\": \"A\", \"mutation\": \"M1A\", \"variable\": \"predicted\", \"value\": 1.2844631843623893}, {\"epitope\": \"1\", \"site\": 2, \"wildtype\": \"M\", \"mutant\": \"A\", \"mutation\": \"M2A\", \"variable\": \"predicted\", \"value\": 0.06544773289034275}, {\"epitope\": \"1\", \"site\": 3, \"wildtype\": \"M\", \"mutant\": \"A\", \"mutation\": \"M3A\", \"variable\": \"predicted\", \"value\": 4.046680486818452}, {\"epitope\": \"1\", \"site\": 4, \"wildtype\": \"M\", \"mutant\": \"A\", \"mutation\": \"M4A\", \"variable\": \"predicted\", \"value\": 6.770173651402499}, {\"epitope\": \"1\", \"site\": 5, \"wildtype\": \"M\", \"mutant\": \"A\", \"mutation\": \"M5A\", \"variable\": \"predicted\", \"value\": -0.013658912360515784}, {\"epitope\": \"1\", \"site\": 6, \"wildtype\": \"M\", \"mutant\": \"A\", \"mutation\": \"M6A\", \"variable\": \"predicted\", \"value\": -0.05900093862107012}, {\"epitope\": \"1\", \"site\": 7, \"wildtype\": \"M\", \"mutant\": \"A\", \"mutation\": \"M7A\", \"variable\": \"predicted\", \"value\": -0.004195728452234189}, {\"epitope\": \"1\", \"site\": 8, \"wildtype\": \"M\", \"mutant\": \"A\", \"mutation\": \"M8A\", \"variable\": \"predicted\", \"value\": -0.06525228890575908}, {\"epitope\": \"1\", \"site\": 9, \"wildtype\": \"M\", \"mutant\": \"A\", \"mutation\": \"M9A\", \"variable\": \"predicted\", \"value\": -0.06929553632288847}, {\"epitope\": \"1\", \"site\": 10, \"wildtype\": \"M\", \"mutant\": \"A\", \"mutation\": \"M10A\", \"variable\": \"predicted\", \"value\": -0.0694505279232199}, {\"epitope\": \"1\", \"site\": 11, \"wildtype\": \"M\", \"mutant\": \"A\", \"mutation\": \"M11A\", \"variable\": \"predicted\", \"value\": -0.07954981818269259}, {\"epitope\": \"1\", \"site\": 12, \"wildtype\": \"M\", \"mutant\": \"A\", \"mutation\": \"M12A\", \"variable\": \"predicted\", \"value\": -0.00791847662122558}, {\"epitope\": \"2\", \"site\": 1, \"wildtype\": \"M\", \"mutant\": \"A\", \"mutation\": \"M1A\", \"variable\": \"predicted\", \"value\": -0.016946367113518927}, {\"epitope\": \"2\", \"site\": 2, \"wildtype\": \"M\", \"mutant\": \"A\", \"mutation\": \"M2A\", \"variable\": \"predicted\", \"value\": -0.02169106008801349}, {\"epitope\": \"2\", \"site\": 3, \"wildtype\": \"M\", \"mutant\": \"A\", \"mutation\": \"M3A\", \"variable\": \"predicted\", \"value\": -0.004149790537343552}, {\"epitope\": \"2\", \"site\": 4, \"wildtype\": \"M\", \"mutant\": \"A\", \"mutation\": \"M4A\", \"variable\": \"predicted\", \"value\": 0.06148343254997316}, {\"epitope\": \"2\", \"site\": 5, \"wildtype\": \"M\", \"mutant\": \"A\", \"mutation\": \"M5A\", \"variable\": \"predicted\", \"value\": 3.791196185530711}, {\"epitope\": \"2\", \"site\": 6, \"wildtype\": \"M\", \"mutant\": \"A\", \"mutation\": \"M6A\", \"variable\": \"predicted\", \"value\": 4.6448885227300325}, {\"epitope\": \"2\", \"site\": 7, \"wildtype\": \"M\", \"mutant\": \"A\", \"mutation\": \"M7A\", \"variable\": \"predicted\", \"value\": -0.40504461587439616}, {\"epitope\": \"2\", \"site\": 8, \"wildtype\": \"M\", \"mutant\": \"A\", \"mutation\": \"M8A\", \"variable\": \"predicted\", \"value\": 4.8202382030108355}, {\"epitope\": \"2\", \"site\": 9, \"wildtype\": \"M\", \"mutant\": \"A\", \"mutation\": \"M9A\", \"variable\": \"predicted\", \"value\": -0.011229776250708933}, {\"epitope\": \"2\", \"site\": 10, \"wildtype\": \"M\", \"mutant\": \"A\", \"mutation\": \"M10A\", \"variable\": \"predicted\", \"value\": -0.0071780764966005274}, {\"epitope\": \"2\", \"site\": 11, \"wildtype\": \"M\", \"mutant\": \"A\", \"mutation\": \"M11A\", \"variable\": \"predicted\", \"value\": -0.0186101709376604}, {\"epitope\": \"2\", \"site\": 12, \"wildtype\": \"M\", \"mutant\": \"A\", \"mutation\": \"M12A\", \"variable\": \"predicted\", \"value\": -0.0029392572254374736}, {\"epitope\": \"3\", \"site\": 1, \"wildtype\": \"M\", \"mutant\": \"A\", \"mutation\": \"M1A\", \"variable\": \"predicted\", \"value\": -0.8355050317827126}, {\"epitope\": \"3\", \"site\": 2, \"wildtype\": \"M\", \"mutant\": \"A\", \"mutation\": \"M2A\", \"variable\": \"predicted\", \"value\": -0.20872163191185353}, {\"epitope\": \"3\", \"site\": 3, \"wildtype\": \"M\", \"mutant\": \"A\", \"mutation\": \"M3A\", \"variable\": \"predicted\", \"value\": -0.14958341116758642}, {\"epitope\": \"3\", \"site\": 4, \"wildtype\": \"M\", \"mutant\": \"A\", \"mutation\": \"M4A\", \"variable\": \"predicted\", \"value\": 1.643876163035771}, {\"epitope\": \"3\", \"site\": 5, \"wildtype\": \"M\", \"mutant\": \"A\", \"mutation\": \"M5A\", \"variable\": \"predicted\", \"value\": 0.04693436269661995}, {\"epitope\": \"3\", \"site\": 6, \"wildtype\": \"M\", \"mutant\": \"A\", \"mutation\": \"M6A\", \"variable\": \"predicted\", \"value\": -0.049004956734003007}, {\"epitope\": \"3\", \"site\": 7, \"wildtype\": \"M\", \"mutant\": \"A\", \"mutation\": \"M7A\", \"variable\": \"predicted\", \"value\": -0.009751861753154841}, {\"epitope\": \"3\", \"site\": 8, \"wildtype\": \"M\", \"mutant\": \"A\", \"mutation\": \"M8A\", \"variable\": \"predicted\", \"value\": -0.17578950016152578}, {\"epitope\": \"3\", \"site\": 9, \"wildtype\": \"M\", \"mutant\": \"A\", \"mutation\": \"M9A\", \"variable\": \"predicted\", \"value\": 8.296194548370204}, {\"epitope\": \"3\", \"site\": 10, \"wildtype\": \"M\", \"mutant\": \"A\", \"mutation\": \"M10A\", \"variable\": \"predicted\", \"value\": 8.265058093660754}, {\"epitope\": \"3\", \"site\": 11, \"wildtype\": \"M\", \"mutant\": \"A\", \"mutation\": \"M11A\", \"variable\": \"predicted\", \"value\": 7.940866983151748}, {\"epitope\": \"3\", \"site\": 12, \"wildtype\": \"M\", \"mutant\": \"A\", \"mutation\": \"M12A\", \"variable\": \"predicted\", \"value\": 0.4665610002837709}, {\"epitope\": \"1\", \"site\": 1, \"wildtype\": \"M\", \"mutant\": \"A\", \"mutation\": \"M1A\", \"variable\": \"true\", \"value\": 1.802696888767692}, {\"epitope\": \"1\", \"site\": 2, \"wildtype\": \"M\", \"mutant\": \"A\", \"mutation\": \"M2A\", \"variable\": \"true\", \"value\": 0.19475241487624584}, {\"epitope\": \"1\", \"site\": 3, \"wildtype\": \"M\", \"mutant\": \"A\", \"mutation\": \"M3A\", \"variable\": \"true\", \"value\": 4.6321852649834465}, {\"epitope\": \"1\", \"site\": 4, \"wildtype\": \"M\", \"mutant\": \"A\", \"mutation\": \"M4A\", \"variable\": \"true\", \"value\": 7.249339291921478}, {\"epitope\": \"1\", \"site\": 5, \"wildtype\": \"M\", \"mutant\": \"A\", \"mutation\": \"M5A\", \"variable\": \"true\", \"value\": 0.0}, {\"epitope\": \"1\", \"site\": 6, \"wildtype\": \"M\", \"mutant\": \"A\", \"mutation\": \"M6A\", \"variable\": \"true\", \"value\": 0.0}, {\"epitope\": \"1\", \"site\": 7, \"wildtype\": \"M\", \"mutant\": \"A\", \"mutation\": \"M7A\", \"variable\": \"true\", \"value\": 0.0}, {\"epitope\": \"1\", \"site\": 8, \"wildtype\": \"M\", \"mutant\": \"A\", \"mutation\": \"M8A\", \"variable\": \"true\", \"value\": 0.0}, {\"epitope\": \"1\", \"site\": 9, \"wildtype\": \"M\", \"mutant\": \"A\", \"mutation\": \"M9A\", \"variable\": \"true\", \"value\": 0.0}, {\"epitope\": \"1\", \"site\": 10, \"wildtype\": \"M\", \"mutant\": \"A\", \"mutation\": \"M10A\", \"variable\": \"true\", \"value\": 0.0}, {\"epitope\": \"1\", \"site\": 11, \"wildtype\": \"M\", \"mutant\": \"A\", \"mutation\": \"M11A\", \"variable\": \"true\", \"value\": 0.0}, {\"epitope\": \"1\", \"site\": 12, \"wildtype\": \"M\", \"mutant\": \"A\", \"mutation\": \"M12A\", \"variable\": \"true\", \"value\": 0.0}, {\"epitope\": \"2\", \"site\": 1, \"wildtype\": \"M\", \"mutant\": \"A\", \"mutation\": \"M1A\", \"variable\": \"true\", \"value\": 0.0}, {\"epitope\": \"2\", \"site\": 2, \"wildtype\": \"M\", \"mutant\": \"A\", \"mutation\": \"M2A\", \"variable\": \"true\", \"value\": 0.0}, {\"epitope\": \"2\", \"site\": 3, \"wildtype\": \"M\", \"mutant\": \"A\", \"mutation\": \"M3A\", \"variable\": \"true\", \"value\": 0.0}, {\"epitope\": \"2\", \"site\": 4, \"wildtype\": \"M\", \"mutant\": \"A\", \"mutation\": \"M4A\", \"variable\": \"true\", \"value\": 0.0}, {\"epitope\": \"2\", \"site\": 5, \"wildtype\": \"M\", \"mutant\": \"A\", \"mutation\": \"M5A\", \"variable\": \"true\", \"value\": 4.202036045877274}, {\"epitope\": \"2\", \"site\": 6, \"wildtype\": \"M\", \"mutant\": \"A\", \"mutation\": \"M6A\", \"variable\": \"true\", \"value\": 4.854270981677824}, {\"epitope\": \"2\", \"site\": 7, \"wildtype\": \"M\", \"mutant\": \"A\", \"mutation\": \"M7A\", \"variable\": \"true\", \"value\": 0.12780814590608647}, {\"epitope\": \"2\", \"site\": 8, \"wildtype\": \"M\", \"mutant\": \"A\", \"mutation\": \"M8A\", \"variable\": \"true\", \"value\": 4.873716073198716}, {\"epitope\": \"2\", \"site\": 9, \"wildtype\": \"M\", \"mutant\": \"A\", \"mutation\": \"M9A\", \"variable\": \"true\", \"value\": 0.0}, {\"epitope\": \"2\", \"site\": 10, \"wildtype\": \"M\", \"mutant\": \"A\", \"mutation\": \"M10A\", \"variable\": \"true\", \"value\": 0.0}, {\"epitope\": \"2\", \"site\": 11, \"wildtype\": \"M\", \"mutant\": \"A\", \"mutation\": \"M11A\", \"variable\": \"true\", \"value\": 0.0}, {\"epitope\": \"2\", \"site\": 12, \"wildtype\": \"M\", \"mutant\": \"A\", \"mutation\": \"M12A\", \"variable\": \"true\", \"value\": 0.0}, {\"epitope\": \"3\", \"site\": 1, \"wildtype\": \"M\", \"mutant\": \"A\", \"mutation\": \"M1A\", \"variable\": \"true\", \"value\": 0.0}, {\"epitope\": \"3\", \"site\": 2, \"wildtype\": \"M\", \"mutant\": \"A\", \"mutation\": \"M2A\", \"variable\": \"true\", \"value\": 0.0}, {\"epitope\": \"3\", \"site\": 3, \"wildtype\": \"M\", \"mutant\": \"A\", \"mutation\": \"M3A\", \"variable\": \"true\", \"value\": 0.0}, {\"epitope\": \"3\", \"site\": 4, \"wildtype\": \"M\", \"mutant\": \"A\", \"mutation\": \"M4A\", \"variable\": \"true\", \"value\": 0.0}, {\"epitope\": \"3\", \"site\": 5, \"wildtype\": \"M\", \"mutant\": \"A\", \"mutation\": \"M5A\", \"variable\": \"true\", \"value\": 0.0}, {\"epitope\": \"3\", \"site\": 6, \"wildtype\": \"M\", \"mutant\": \"A\", \"mutation\": \"M6A\", \"variable\": \"true\", \"value\": 0.0}, {\"epitope\": \"3\", \"site\": 7, \"wildtype\": \"M\", \"mutant\": \"A\", \"mutation\": \"M7A\", \"variable\": \"true\", \"value\": 0.0}, {\"epitope\": \"3\", \"site\": 8, \"wildtype\": \"M\", \"mutant\": \"A\", \"mutation\": \"M8A\", \"variable\": \"true\", \"value\": 0.0}, {\"epitope\": \"3\", \"site\": 9, \"wildtype\": \"M\", \"mutant\": \"A\", \"mutation\": \"M9A\", \"variable\": \"true\", \"value\": 9.418066523433662}, {\"epitope\": \"3\", \"site\": 10, \"wildtype\": \"M\", \"mutant\": \"A\", \"mutation\": \"M10A\", \"variable\": \"true\", \"value\": 8.507950893767788}, {\"epitope\": \"3\", \"site\": 11, \"wildtype\": \"M\", \"mutant\": \"A\", \"mutation\": \"M11A\", \"variable\": \"true\", \"value\": 7.299644702208186}, {\"epitope\": \"3\", \"site\": 12, \"wildtype\": \"M\", \"mutant\": \"A\", \"mutation\": \"M12A\", \"variable\": \"true\", \"value\": 1.0873607186897494}]}}, {\"mode\": \"vega-lite\"});\n",
       "</script>"
      ],
      "text/plain": [
       "alt.Chart(...)"
      ]
     },
     "execution_count": 23,
     "metadata": {},
     "output_type": "execute_result"
    }
   ],
   "source": [
    "plot_data = pd.merge(\n",
    "    poly_abs.mut_escape_df.rename(columns={\"escape\": \"predicted\"}), \n",
    "    ref_df.rename(columns={\"escape\": \"true\"}), \n",
    "    on=['epitope', 'site', 'wildtype', 'mutant', 'mutation']\n",
    ").melt(id_vars = ['epitope', 'site', 'wildtype', 'mutant', 'mutation'])\n",
    "\n",
    "domain = list(poly_abs.epitope_colors.keys())\n",
    "rnge = list(poly_abs.epitope_colors.values())\n",
    "\n",
    "alt.Chart(plot_data).mark_bar().encode(\n",
    "    y=alt.Y('variable', title = None),\n",
    "    x=alt.X('value', title = 'beta coefficient'),\n",
    "    color=alt.Color('epitope', scale = alt.Scale(domain=domain, range=rnge)),\n",
    "    row=alt.Row('mutation', sort=alt.SortField(field='site')),\n",
    "    column ='epitope',\n",
    "    tooltip=['epitope', 'site', 'wildtype', 'mutant', 'variable', 'value']\n",
    ").properties(height = 25, width = 225)"
   ]
  },
  {
   "cell_type": "markdown",
   "id": "0eea7810-fd79-4810-bc4e-79314454bc73",
   "metadata": {},
   "source": [
    "Overall, I think this simulation suggests that epistatic interactions are worth thinking about. Optimistically, we should be able to tell if epistatic interactions are a problem from a poor out-of-sample escape prediction. However, the question of how to add interactions to `Polyclonal` isn't trivial, as there are so many possible pairwise interactions in multi-mutant DMS. "
   ]
  },
  {
   "cell_type": "code",
   "execution_count": 24,
   "id": "7825d2c1-4d75-41e0-b604-0dbbefb3b364",
   "metadata": {},
   "outputs": [
    {
     "name": "stdout",
     "output_type": "stream",
     "text": [
      "[NbConvertApp] Converting notebook interaction_effects.ipynb to HTML\n",
      "[NbConvertApp] Writing 863402 bytes to interaction_effects.html\n"
     ]
    }
   ],
   "source": [
    "!jupyter nbconvert interaction_effects.ipynb --to HTML"
   ]
  }
 ],
 "metadata": {
  "kernelspec": {
   "display_name": "Python 3 (ipykernel)",
   "language": "python",
   "name": "python3"
  },
  "language_info": {
   "codemirror_mode": {
    "name": "ipython",
    "version": 3
   },
   "file_extension": ".py",
   "mimetype": "text/x-python",
   "name": "python",
   "nbconvert_exporter": "python",
   "pygments_lexer": "ipython3",
   "version": "3.8.12"
  }
 },
 "nbformat": 4,
 "nbformat_minor": 5
}
