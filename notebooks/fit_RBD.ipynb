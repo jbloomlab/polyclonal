{
 "cells": [
  {
   "cell_type": "markdown",
   "id": "90a6bd76-386e-484b-8a18-27a0fec48ca6",
   "metadata": {},
   "source": [
    "# Fit model to data\n",
    "We will fit a `Polyclonal` model to the RBD antibody mix we simulated.\n",
    "\n",
    "First, we read in that simulated data.\n",
    "Recall that we simulated both \"exact\" and \"noisy\" data, with several average per-library mutations rates, and at six different concentrations.\n",
    "Here we analyze the noisy data for the library with an average of 2 mutations per gene, measured at three different concentrations, as this represents a fairly realistic representation of a real experiment:"
   ]
  },
  {
   "cell_type": "code",
   "execution_count": 1,
   "id": "18a5882b-3a28-4fdb-948c-2ab8dc9b82e7",
   "metadata": {
    "tags": []
   },
   "outputs": [
    {
     "data": {
      "text/html": [
       "<div>\n",
       "<style scoped>\n",
       "    .dataframe tbody tr th:only-of-type {\n",
       "        vertical-align: middle;\n",
       "    }\n",
       "\n",
       "    .dataframe tbody tr th {\n",
       "        vertical-align: top;\n",
       "    }\n",
       "\n",
       "    .dataframe thead th {\n",
       "        text-align: right;\n",
       "    }\n",
       "</style>\n",
       "<table border=\"1\" class=\"dataframe\">\n",
       "  <thead>\n",
       "    <tr style=\"text-align: right;\">\n",
       "      <th></th>\n",
       "      <th>library</th>\n",
       "      <th>aa_substitutions</th>\n",
       "      <th>concentration</th>\n",
       "      <th>prob_escape</th>\n",
       "      <th>IC90</th>\n",
       "    </tr>\n",
       "  </thead>\n",
       "  <tbody>\n",
       "    <tr>\n",
       "      <th>0</th>\n",
       "      <td>avg2muts</td>\n",
       "      <td></td>\n",
       "      <td>0.25</td>\n",
       "      <td>0.050440</td>\n",
       "      <td>0.1128</td>\n",
       "    </tr>\n",
       "    <tr>\n",
       "      <th>1</th>\n",
       "      <td>avg2muts</td>\n",
       "      <td></td>\n",
       "      <td>0.25</td>\n",
       "      <td>0.143100</td>\n",
       "      <td>0.1128</td>\n",
       "    </tr>\n",
       "    <tr>\n",
       "      <th>2</th>\n",
       "      <td>avg2muts</td>\n",
       "      <td></td>\n",
       "      <td>0.25</td>\n",
       "      <td>0.054520</td>\n",
       "      <td>0.1128</td>\n",
       "    </tr>\n",
       "    <tr>\n",
       "      <th>3</th>\n",
       "      <td>avg2muts</td>\n",
       "      <td></td>\n",
       "      <td>0.25</td>\n",
       "      <td>0.084730</td>\n",
       "      <td>0.1128</td>\n",
       "    </tr>\n",
       "    <tr>\n",
       "      <th>4</th>\n",
       "      <td>avg2muts</td>\n",
       "      <td></td>\n",
       "      <td>0.25</td>\n",
       "      <td>0.041740</td>\n",
       "      <td>0.1128</td>\n",
       "    </tr>\n",
       "    <tr>\n",
       "      <th>...</th>\n",
       "      <td>...</td>\n",
       "      <td>...</td>\n",
       "      <td>...</td>\n",
       "      <td>...</td>\n",
       "      <td>...</td>\n",
       "    </tr>\n",
       "    <tr>\n",
       "      <th>89995</th>\n",
       "      <td>avg2muts</td>\n",
       "      <td>Y396T Y473L</td>\n",
       "      <td>4.00</td>\n",
       "      <td>0.000000</td>\n",
       "      <td>0.5832</td>\n",
       "    </tr>\n",
       "    <tr>\n",
       "      <th>89996</th>\n",
       "      <td>avg2muts</td>\n",
       "      <td>Y421W S359K</td>\n",
       "      <td>4.00</td>\n",
       "      <td>0.044600</td>\n",
       "      <td>0.5777</td>\n",
       "    </tr>\n",
       "    <tr>\n",
       "      <th>89997</th>\n",
       "      <td>avg2muts</td>\n",
       "      <td>Y449L V503T L335M</td>\n",
       "      <td>4.00</td>\n",
       "      <td>0.000000</td>\n",
       "      <td>1.0520</td>\n",
       "    </tr>\n",
       "    <tr>\n",
       "      <th>89998</th>\n",
       "      <td>avg2muts</td>\n",
       "      <td>Y473E L518F D427L</td>\n",
       "      <td>4.00</td>\n",
       "      <td>0.002918</td>\n",
       "      <td>1.1600</td>\n",
       "    </tr>\n",
       "    <tr>\n",
       "      <th>89999</th>\n",
       "      <td>avg2muts</td>\n",
       "      <td>Y505N H519T</td>\n",
       "      <td>4.00</td>\n",
       "      <td>0.000000</td>\n",
       "      <td>0.3505</td>\n",
       "    </tr>\n",
       "  </tbody>\n",
       "</table>\n",
       "<p>90000 rows × 5 columns</p>\n",
       "</div>"
      ],
      "text/plain": [
       "        library   aa_substitutions  concentration  prob_escape    IC90\n",
       "0      avg2muts                              0.25     0.050440  0.1128\n",
       "1      avg2muts                              0.25     0.143100  0.1128\n",
       "2      avg2muts                              0.25     0.054520  0.1128\n",
       "3      avg2muts                              0.25     0.084730  0.1128\n",
       "4      avg2muts                              0.25     0.041740  0.1128\n",
       "...         ...                ...            ...          ...     ...\n",
       "89995  avg2muts        Y396T Y473L           4.00     0.000000  0.5832\n",
       "89996  avg2muts        Y421W S359K           4.00     0.044600  0.5777\n",
       "89997  avg2muts  Y449L V503T L335M           4.00     0.000000  1.0520\n",
       "89998  avg2muts  Y473E L518F D427L           4.00     0.002918  1.1600\n",
       "89999  avg2muts        Y505N H519T           4.00     0.000000  0.3505\n",
       "\n",
       "[90000 rows x 5 columns]"
      ]
     },
     "execution_count": 1,
     "metadata": {},
     "output_type": "execute_result"
    }
   ],
   "source": [
    "import pandas as pd\n",
    "\n",
    "import polyclonal\n",
    "\n",
    "noisy_data = (\n",
    "    pd.read_csv(\"RBD_variants_escape_noisy.csv\", na_filter=None)\n",
    "    .query('library == \"avg2muts\"')\n",
    "    .query(\"concentration in [0.25, 1, 4]\")\n",
    "    .reset_index(drop=True)\n",
    ")\n",
    "\n",
    "noisy_data"
   ]
  },
  {
   "cell_type": "markdown",
   "id": "bc6da22e-9072-49d8-a32c-5c45c37a06aa",
   "metadata": {},
   "source": [
    "Initialize a `Polyclonal` model with these data, including three epitopes.\n",
    "We know from [prior work](https://www.nature.com/articles/s41467-021-24435-8) the three most important epitopes and a key mutation in each, so we use this prior knowledge to \"seed\" initial guesses that assign large escape values to a key site in each epitope:\n",
    "\n",
    " - site 417 for class 1 epitope, which is often the least important\n",
    " - site 484 for class 2 epitope, which is often the dominant one\n",
    " - site 444 for class 3 epitope, which is often the second most dominant one"
   ]
  },
  {
   "cell_type": "code",
   "execution_count": 2,
   "id": "5298ee7a-028e-4a80-8d3b-89a721d894f8",
   "metadata": {
    "tags": []
   },
   "outputs": [],
   "source": [
    "poly_abs = polyclonal.Polyclonal(\n",
    "    data_to_fit=noisy_data,\n",
    "    activity_wt_df=pd.DataFrame.from_records(\n",
    "        [\n",
    "            (\"1\", 1.0),\n",
    "            (\"2\", 3.0),\n",
    "            (\"3\", 2.0),\n",
    "        ],\n",
    "        columns=[\"epitope\", \"activity\"],\n",
    "    ),\n",
    "    site_escape_df=pd.DataFrame.from_records(\n",
    "        [\n",
    "            (\"1\", 417, 10.0),\n",
    "            (\"2\", 484, 10.0),\n",
    "            (\"3\", 444, 10.0),\n",
    "        ],\n",
    "        columns=[\"epitope\", \"site\", \"escape\"],\n",
    "    ),\n",
    "    data_mut_escape_overlap=\"fill_to_data\",\n",
    ")"
   ]
  },
  {
   "cell_type": "markdown",
   "id": "8b75fb60-3317-4940-986a-dfdc9da10fc6",
   "metadata": {},
   "source": [
    "Now fit the `Polyclonal` model using the default optimization settings and logging output every 100 steps.\n",
    "Note how the fitting first just fits a site level model to estimate the average effects of mutations at each site, and then fits the full model:"
   ]
  },
  {
   "cell_type": "code",
   "execution_count": null,
   "id": "510d3eff-6f3e-4268-8cac-3fb4b5d37699",
   "metadata": {
    "tags": []
   },
   "outputs": [
    {
     "name": "stdout",
     "output_type": "stream",
     "text": [
      "# First fitting site-level model.\n",
      "# Starting optimization of 522 parameters at Fri Feb  4 10:26:46 2022.\n",
      "       step   time_sec       loss   fit_loss reg_escape  regspread\n",
      "          0   0.034904     9144.4     9144.2    0.29701          0\n",
      "        100     3.7368     1337.2     1333.7     3.5252          0\n",
      "        200     7.2487       1313     1308.6     4.4572          0\n",
      "        300      11.52     1305.1       1300     5.1307          0\n",
      "        400     15.626     1301.8     1296.1     5.7475          0\n",
      "        500     18.991     1298.1     1291.9      6.185          0\n",
      "        600     23.114     1297.3     1290.9     6.3428          0\n",
      "        700     28.403     1296.7     1290.1     6.6059          0\n",
      "        800     34.377     1296.2     1289.3     6.8557          0\n",
      "        900      39.49     1295.8     1288.8     6.9932          0\n",
      "       1000     42.902     1295.5     1288.4     7.0917          0\n",
      "       1100     46.283     1295.2     1288.1     7.1557          0\n",
      "       1200     50.025     1294.8     1287.6     7.2371          0\n",
      "       1298     53.475     1294.7     1287.5     7.2438          0\n",
      "# Successfully finished at Fri Feb  4 10:27:39 2022.\n",
      "# Starting optimization of 5799 parameters at Fri Feb  4 10:27:39 2022.\n",
      "       step   time_sec       loss   fit_loss reg_escape  regspread\n",
      "          0   0.042536       1642       1552     90.045 2.2125e-29\n",
      "        100      4.986     835.44     732.95     89.551     12.943\n",
      "        200     9.9026      824.8     720.25     88.166     16.383\n",
      "        300      14.44     816.49     714.22     83.907     18.361\n",
      "        400     20.842      808.6     711.36     78.984     18.252\n",
      "        500     25.005     798.57     705.97     73.467     19.131\n",
      "        600     29.748     789.89        703     67.165     19.729\n",
      "        700     35.266     782.04     701.33     60.617     20.092\n",
      "        800     40.486     775.85     700.76     55.206     19.884\n",
      "        900     45.739     769.92     698.75      51.27     19.897\n",
      "       1000     50.987     765.03     696.89     47.523     20.613\n",
      "       1100     55.975     759.35      692.7     45.257     21.391\n",
      "       1200     61.719     755.27     689.93     43.724     21.622\n"
     ]
    }
   ],
   "source": [
    "# NBVAL_IGNORE_OUTPUT\n",
    "opt_res = poly_abs.fit(logfreq=100)"
   ]
  },
  {
   "cell_type": "markdown",
   "id": "31c2c9c9-8c6b-40d1-94d7-711e42f4bdd4",
   "metadata": {},
   "source": [
    "We can now visualize the resulting fits for the activities and escape values, and they can be compared back to the earlier \"true\" results used to simulate the data:"
   ]
  },
  {
   "cell_type": "code",
   "execution_count": null,
   "id": "c8d114a7-cb14-4a0f-86a8-a5b9b69cdd42",
   "metadata": {
    "tags": []
   },
   "outputs": [],
   "source": [
    "# NBVAL_IGNORE_OUTPUT\n",
    "poly_abs.activity_wt_barplot()"
   ]
  },
  {
   "cell_type": "code",
   "execution_count": null,
   "id": "e88070ba-ecc3-43f4-8660-4564e235d89f",
   "metadata": {
    "tags": []
   },
   "outputs": [],
   "source": [
    "# NBVAL_IGNORE_OUTPUT\n",
    "poly_abs.mut_escape_lineplot()"
   ]
  },
  {
   "cell_type": "code",
   "execution_count": null,
   "id": "b564e1ed-3734-4059-acbb-e45e40626997",
   "metadata": {
    "tags": []
   },
   "outputs": [],
   "source": [
    "# NBVAL_IGNORE_OUTPUT\n",
    "poly_abs.mut_escape_heatmap()"
   ]
  },
  {
   "cell_type": "markdown",
   "id": "dc0d7894-36f5-4e0b-85f2-9f96f4e22775",
   "metadata": {},
   "source": [
    "For these simulated data, we can also see how well the fit model does on the \"true\" simulated values from a library with a different (higher) mutation rate.\n",
    "We therefore read in the \"exact\" simulated data from a library with a different mutation rate:"
   ]
  },
  {
   "cell_type": "code",
   "execution_count": null,
   "id": "70b08e11-2cfc-4978-8543-aa3fba9542be",
   "metadata": {
    "tags": []
   },
   "outputs": [],
   "source": [
    "exact_data = (\n",
    "    pd.read_csv(\"RBD_variants_escape_exact.csv\", na_filter=None)\n",
    "    .query('library == \"avg3muts\"')\n",
    "    .query(\"concentration in [0.25, 1, 0.5]\")\n",
    "    .reset_index(drop=True)\n",
    ")"
   ]
  },
  {
   "cell_type": "markdown",
   "id": "93664ba9-2b0c-4ca2-a73c-008ab954cc13",
   "metadata": {},
   "source": [
    "First, we will compare the true simulated IC90 values to those predicted by the fit model.\n",
    "We make the comparison on a log scale, and clip IC90s at values >50 as likely to be way outside the dynamic range given the concentrations used:"
   ]
  },
  {
   "cell_type": "code",
   "execution_count": null,
   "id": "eecc461e-dae7-42ec-b3b8-c2b2ac8d9a63",
   "metadata": {
    "tags": []
   },
   "outputs": [],
   "source": [
    "import numpy\n",
    "\n",
    "from plotnine import *\n",
    "\n",
    "max_ic90 = 50\n",
    "\n",
    "# we only need the variants, not the concentration for the IC90 comparison\n",
    "ic90s = (\n",
    "    exact_data[[\"aa_substitutions\", \"IC90\"]]\n",
    "    .assign(IC90=lambda x: x[\"IC90\"].clip(upper=max_ic90))\n",
    "    .drop_duplicates()\n",
    ")\n",
    "\n",
    "ic90s = poly_abs.icXX(ic90s, x=0.9, col=\"predicted_IC90\", max_c=max_ic90)\n",
    "\n",
    "ic90s = ic90s.assign(\n",
    "    log_IC90=lambda x: numpy.log10(x[\"IC90\"]),\n",
    "    predicted_log_IC90=lambda x: numpy.log10(x[\"predicted_IC90\"]),\n",
    ")\n",
    "\n",
    "corr = ic90s[\"log_IC90\"].corr(ic90s[\"predicted_log_IC90\"]) ** 2\n",
    "print(f\"Correlation (R^2) is {corr:.2f}\")\n",
    "\n",
    "ic90_corr_plot = (\n",
    "    ggplot(ic90s)\n",
    "    + aes(\"log_IC90\", \"predicted_log_IC90\")\n",
    "    + geom_point(alpha=0.1, size=1)\n",
    "    + theme_classic()\n",
    "    + theme(figure_size=(3, 3))\n",
    ")\n",
    "\n",
    "_ = ic90_corr_plot.draw()"
   ]
  },
  {
   "cell_type": "markdown",
   "id": "3bc4ee4b-91f4-4d7a-b02b-0ab59b52f259",
   "metadata": {},
   "source": [
    "Next we see how well the model predicts the variant-level escape probabilities $p_v\\left(c\\right)$, by reading in exact data from the simulations, and then making predictions of escape probabilities.\n",
    "We both examine and plot the correlations:"
   ]
  },
  {
   "cell_type": "code",
   "execution_count": null,
   "id": "327b04a6-680a-4711-b1de-1a23dc1f9983",
   "metadata": {
    "tags": []
   },
   "outputs": [],
   "source": [
    "exact_vs_pred = poly_abs.prob_escape(variants_df=exact_data)\n",
    "\n",
    "print(f\"Correlations (R^2) at each concentration:\")\n",
    "display(\n",
    "    exact_vs_pred.groupby(\"concentration\")\n",
    "    .apply(lambda x: x[\"prob_escape\"].corr(x[\"predicted_prob_escape\"]) ** 2)\n",
    "    .rename(\"correlation (R^2)\")\n",
    "    .reset_index()\n",
    "    .round(2)\n",
    ")\n",
    "\n",
    "pv_corr_plot = (\n",
    "    ggplot(exact_vs_pred)\n",
    "    + aes(\"prob_escape\", \"predicted_prob_escape\")\n",
    "    + geom_point(alpha=0.1, size=1)\n",
    "    + facet_wrap(\"~ concentration\", nrow=1)\n",
    "    + theme_classic()\n",
    "    + theme(figure_size=(3 * exact_vs_pred[\"concentration\"].nunique(), 3))\n",
    ")\n",
    "\n",
    "_ = pv_corr_plot.draw()"
   ]
  },
  {
   "cell_type": "markdown",
   "id": "b6964286-e1f3-4eb7-aab0-816c12343124",
   "metadata": {
    "execution": {
     "iopub.execute_input": "2021-11-18T14:00:53.858336Z",
     "iopub.status.busy": "2021-11-18T14:00:53.857951Z",
     "iopub.status.idle": "2021-11-18T14:00:54.830072Z",
     "shell.execute_reply": "2021-11-18T14:00:54.829519Z",
     "shell.execute_reply.started": "2021-11-18T14:00:53.858294Z"
    },
    "tags": []
   },
   "source": [
    "We also examine the correlation between the \"true\" and inferred mutation-escape values, $\\beta_{m,e}$.\n",
    "In general, it's necessary to ensure the epitopes match up for this type of comparison as it is arbitrary which epitope in the model is given which name.\n",
    "But above we seeded the epitopes at the site level using `site_effects_df` when we initialized the `Polyclonal` object, so they match up with class 1, 2, and 3:"
   ]
  },
  {
   "cell_type": "code",
   "execution_count": null,
   "id": "653928f4-fed2-4fd2-9d52-0c9411f7e9a5",
   "metadata": {
    "tags": []
   },
   "outputs": [],
   "source": [
    "# NBVAL_IGNORE_OUTPUT\n",
    "\n",
    "import altair as alt\n",
    "\n",
    "mut_escape_pred = pd.read_csv(\"RBD_mut_escape_df.csv\").merge(\n",
    "    (\n",
    "        poly_abs.mut_escape_df.assign(\n",
    "            epitope=lambda x: \"class \" + x[\"epitope\"].astype(str)\n",
    "        ).rename(columns={\"escape\": \"predicted escape\"})\n",
    "    ),\n",
    "    on=[\"mutation\", \"epitope\"],\n",
    "    validate=\"one_to_one\",\n",
    ")\n",
    "\n",
    "print(\"Correlation (R^2) between predicted and true values:\")\n",
    "corr = (\n",
    "    mut_escape_pred.groupby(\"epitope\")\n",
    "    .apply(lambda x: x[\"escape\"].corr(x[\"predicted escape\"]) ** 2)\n",
    "    .rename(\"correlation (R^2)\")\n",
    "    .reset_index()\n",
    ")\n",
    "display(corr.round(2))\n",
    "\n",
    "# for testing since we nbval ignore cell output\n",
    "numpy.allclose(corr[\"correlation (R^2)\"], numpy.array([0.82, 0.96, 0.93]), atol=0.02)\n",
    "\n",
    "corr_chart = (\n",
    "    alt.Chart(mut_escape_pred)\n",
    "    .encode(\n",
    "        x=\"escape\",\n",
    "        y=\"predicted escape\",\n",
    "        color=\"epitope\",\n",
    "        tooltip=[\"mutation\", \"epitope\"],\n",
    "    )\n",
    "    .mark_point(opacity=0.5)\n",
    "    .properties(width=250, height=250)\n",
    "    .facet(column=\"epitope\")\n",
    "    .resolve_scale(\n",
    "        x=\"independent\",\n",
    "        y=\"independent\",\n",
    "    )\n",
    ")\n",
    "\n",
    "corr_chart"
   ]
  },
  {
   "cell_type": "markdown",
   "id": "595a73ce-aaa7-439b-bbdc-6d3c7c23ab1c",
   "metadata": {},
   "source": [
    "The correlations are strongest for the dominant epitope (class 2), which makes sense as this will drive the highest escape signal."
   ]
  }
 ],
 "metadata": {
  "kernelspec": {
   "display_name": "Python 3 (ipykernel)",
   "language": "python",
   "name": "python3"
  },
  "language_info": {
   "codemirror_mode": {
    "name": "ipython",
    "version": 3
   },
   "file_extension": ".py",
   "mimetype": "text/x-python",
   "name": "python",
   "nbconvert_exporter": "python",
   "pygments_lexer": "ipython3",
   "version": "3.9.7"
  }
 },
 "nbformat": 4,
 "nbformat_minor": 5
}
