{
 "cells": [
  {
   "cell_type": "markdown",
   "id": "5acd4b30-00d3-4244-bae4-f7cb3be198f6",
   "metadata": {},
   "source": [
    "# Reference site numbering\n",
    "So far all the preceding examples have involved analysis of proteins with sequential integer site numbers (e.g., 1, 2, 3, ...).\n",
    "This sequential integer numbering can also start at sites other than one (e.g., 331, 332, 333, ...).\n",
    "\n",
    "However, often proteins are numbered in relation to alignment to sequential integer numbering of some reference homolog.\n",
    "For instance, SARS-CoV-2 spike sequences are usually numbered in relation to the Wuhan-Hu-1 reference.\n",
    "But if the protein has accumulated insertions or deletions relative to the reference, there may be missing sites (gaps) or insertions (typically numbered as `214`, `214a`, `214b`, etc).\n",
    "\n",
    "This notebook shows how to use a \"site-numbering map\" that converts the sequential integer numbering to reference site numbering for display.\n",
    "\n",
    "First, import Python modules:"
   ]
  },
  {
   "cell_type": "code",
   "execution_count": null,
   "id": "13d43c34-b428-4675-9238-8f7da4828bc6",
   "metadata": {
    "tags": []
   },
   "outputs": [],
   "source": [
    "import polyclonal\n",
    "\n",
    "import pandas as pd"
   ]
  },
  {
   "cell_type": "markdown",
   "id": "1d6d5606-8c97-40a3-b8db-8ec834fca627",
   "metadata": {},
   "source": [
    "First, read the file that maps sequential to reference site numbering.\n",
    "It is required to have columns named `sequential_site` and `reference_site`.\n",
    "Other columns are allowed, but are ignored.\n",
    "The `sequential_site` column **must** be integer (as those are sequential integers), but the `reference_site` column can be integer or string (will be latter if there are insertions numbered like `214a`, etc):"
   ]
  },
  {
   "cell_type": "code",
   "execution_count": null,
   "id": "67b3177c-a673-4392-a70d-71c2b7a71297",
   "metadata": {
    "tags": []
   },
   "outputs": [],
   "source": [
    "site_numbering_map = pd.read_csv(\"BA.1_site_numbering_map.csv\")\n",
    "\n",
    "site_numbering_map.head()"
   ]
  },
  {
   "cell_type": "markdown",
   "id": "79c6083e-44cf-4eb8-ae6b-26e57a26f020",
   "metadata": {},
   "source": [
    "You can see there are indels that lead to differences in sequential and reference numbers, such as a deletion of reference site 157 and 158:"
   ]
  },
  {
   "cell_type": "code",
   "execution_count": null,
   "id": "22ab29f1-aca5-4fd1-a60e-11540df75447",
   "metadata": {
    "tags": []
   },
   "outputs": [],
   "source": [
    "site_numbering_map.query(\"sequential_site >= 155\").head()"
   ]
  },
  {
   "cell_type": "markdown",
   "id": "e64b26d4-2ecf-4248-9092-2f822504d918",
   "metadata": {},
   "source": [
    "Now read the data to fit:"
   ]
  },
  {
   "cell_type": "code",
   "execution_count": null,
   "id": "72773c10-b8d3-4e10-8a2f-fe833053c434",
   "metadata": {
    "tags": []
   },
   "outputs": [],
   "source": [
    "# read data w `na_filter=None` so empty aa_substitutions read as such rather than NA\n",
    "data_to_fit = pd.read_csv(\n",
    "    \"Lib-2_2022-06-22_thaw-1_LyCoV-1404_1_prob_escape.csv\",\n",
    "    na_filter=None,\n",
    ")"
   ]
  },
  {
   "cell_type": "markdown",
   "id": "84655b82-b525-453c-86a2-a981780492a2",
   "metadata": {},
   "source": [
    "Fit the polyclonal model:"
   ]
  },
  {
   "cell_type": "code",
   "execution_count": null,
   "id": "99ca8235-2bd0-4f13-8145-9641ce101a78",
   "metadata": {
    "tags": []
   },
   "outputs": [],
   "source": [
    "# NBVAL_IGNORE_OUTPUT\n",
    "\n",
    "model = polyclonal.Polyclonal(\n",
    "    # `polyclonal` expects the concentration column to be named \"concentration\"\n",
    "    data_to_fit=data_to_fit.rename(columns={\"antibody_concentration\": \"concentration\"}),\n",
    "    n_epitopes=1,\n",
    "    alphabet=polyclonal.AAS_WITHSTOP_WITHGAP,\n",
    ")\n",
    "\n",
    "_ = model.fit(logfreq=100, reg_escape_weight=0.1)"
   ]
  }
 ],
 "metadata": {
  "kernelspec": {
   "display_name": "Python 3 (ipykernel)",
   "language": "python",
   "name": "python3"
  },
  "language_info": {
   "codemirror_mode": {
    "name": "ipython",
    "version": 3
   },
   "file_extension": ".py",
   "mimetype": "text/x-python",
   "name": "python",
   "nbconvert_exporter": "python",
   "pygments_lexer": "ipython3",
   "version": "3.8.12"
  }
 },
 "nbformat": 4,
 "nbformat_minor": 5
}
