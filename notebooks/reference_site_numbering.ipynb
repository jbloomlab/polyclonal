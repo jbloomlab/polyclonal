{
 "cells": [
  {
   "cell_type": "markdown",
   "id": "5acd4b30-00d3-4244-bae4-f7cb3be198f6",
   "metadata": {},
   "source": [
    "# Reference site numbering\n",
    "So far all the preceding examples have involved analysis of proteins with sequential integer site numbers (e.g., 1, 2, 3, ...).\n",
    "This sequential integer numbering can also start at sites other than one (e.g., 331, 332, 333, ...).\n",
    "\n",
    "However, often proteins are numbered in relation to alignment to sequential integer numbering of some reference homolog.\n",
    "For instance, SARS-CoV-2 spike sequences are usually numbered in relation to the Wuhan-Hu-1 reference.\n",
    "But if the protein has accumulated insertions or deletions relative to the reference, there may be missing sites (gaps) or insertions (typically numbered as `214`, `214a`, `214b`, etc).\n",
    "\n",
    "This notebook shows how to perform an analysis and analyze the results with non-sequential reference site numbering.\n",
    "The advantage of doing this is that the results can directly be visualized/analyzed using the conventional site numbering scheme.\n",
    "\n",
    "It does this by analyzing deep mutational scanning of the SARS-CoV-2 Omicron BA.1 spike, which has several indels relative to the Wuhan-Hu-1 numbering reference."
   ]
  },
  {
   "cell_type": "markdown",
   "id": "e114c212-7f8d-4066-a522-1892674cf8d1",
   "metadata": {},
   "source": [
    "## Fit and visualize a model with non-integer site numbering\n",
    "\n",
    "First, import Python modules:"
   ]
  },
  {
   "cell_type": "code",
   "execution_count": 1,
   "id": "13d43c34-b428-4675-9238-8f7da4828bc6",
   "metadata": {
    "execution": {
     "iopub.execute_input": "2022-07-31T22:09:10.903276Z",
     "iopub.status.busy": "2022-07-31T22:09:10.902882Z",
     "iopub.status.idle": "2022-07-31T22:09:12.277155Z",
     "shell.execute_reply": "2022-07-31T22:09:12.276303Z",
     "shell.execute_reply.started": "2022-07-31T22:09:10.903196Z"
    },
    "tags": []
   },
   "outputs": [],
   "source": [
    "import numpy\n",
    "\n",
    "import polyclonal\n",
    "\n",
    "import pandas as pd"
   ]
  },
  {
   "cell_type": "markdown",
   "id": "463f9dc1-97b1-4313-ba35-fbc3f2e05bb0",
   "metadata": {},
   "source": [
    "Now read the data to fit:"
   ]
  },
  {
   "cell_type": "code",
   "execution_count": 2,
   "id": "a33d342d-5a40-4d6a-a9c2-62db50aadca5",
   "metadata": {
    "execution": {
     "iopub.execute_input": "2022-07-31T22:09:12.280552Z",
     "iopub.status.busy": "2022-07-31T22:09:12.280395Z",
     "iopub.status.idle": "2022-07-31T22:09:12.771600Z",
     "shell.execute_reply": "2022-07-31T22:09:12.770945Z",
     "shell.execute_reply.started": "2022-07-31T22:09:12.280533Z"
    },
    "tags": []
   },
   "outputs": [
    {
     "data": {
      "text/html": [
       "<div>\n",
       "<style scoped>\n",
       "    .dataframe tbody tr th:only-of-type {\n",
       "        vertical-align: middle;\n",
       "    }\n",
       "\n",
       "    .dataframe tbody tr th {\n",
       "        vertical-align: top;\n",
       "    }\n",
       "\n",
       "    .dataframe thead th {\n",
       "        text-align: right;\n",
       "    }\n",
       "</style>\n",
       "<table border=\"1\" class=\"dataframe\">\n",
       "  <thead>\n",
       "    <tr style=\"text-align: right;\">\n",
       "      <th></th>\n",
       "      <th>antibody_concentration</th>\n",
       "      <th>barcode</th>\n",
       "      <th>aa_substitutions_sequential</th>\n",
       "      <th>aa_substitutions_reference</th>\n",
       "      <th>n_aa_substitutions</th>\n",
       "      <th>prob_escape</th>\n",
       "      <th>prob_escape_uncensored</th>\n",
       "      <th>no-antibody_count</th>\n",
       "    </tr>\n",
       "  </thead>\n",
       "  <tbody>\n",
       "    <tr>\n",
       "      <th>0</th>\n",
       "      <td>0.654</td>\n",
       "      <td>AAGAGCTTACTCTCGA</td>\n",
       "      <td>S443P S1167P</td>\n",
       "      <td>S446P S1170P</td>\n",
       "      <td>2</td>\n",
       "      <td>0.9004</td>\n",
       "      <td>0.9004</td>\n",
       "      <td>2890</td>\n",
       "    </tr>\n",
       "    <tr>\n",
       "      <th>1</th>\n",
       "      <td>0.654</td>\n",
       "      <td>ATAAGATAGATTTAGG</td>\n",
       "      <td>K441T A519S</td>\n",
       "      <td>K444T A522S</td>\n",
       "      <td>2</td>\n",
       "      <td>0.8006</td>\n",
       "      <td>0.8006</td>\n",
       "      <td>2217</td>\n",
       "    </tr>\n",
       "    <tr>\n",
       "      <th>2</th>\n",
       "      <td>0.654</td>\n",
       "      <td>GATCGAGTGTGTAGCA</td>\n",
       "      <td>F152T K441E</td>\n",
       "      <td>F157T K444E</td>\n",
       "      <td>2</td>\n",
       "      <td>0.5797</td>\n",
       "      <td>0.5797</td>\n",
       "      <td>2966</td>\n",
       "    </tr>\n",
       "    <tr>\n",
       "      <th>3</th>\n",
       "      <td>0.654</td>\n",
       "      <td>CCAAACGGTATGATGA</td>\n",
       "      <td>Q14H V67P D212H N445T I1224M</td>\n",
       "      <td>Q14H V67P D215H N448T I1227M</td>\n",
       "      <td>5</td>\n",
       "      <td>0.4125</td>\n",
       "      <td>0.4125</td>\n",
       "      <td>4131</td>\n",
       "    </tr>\n",
       "    <tr>\n",
       "      <th>4</th>\n",
       "      <td>0.654</td>\n",
       "      <td>TTACTGTGCAACCCAA</td>\n",
       "      <td>F163L N445S</td>\n",
       "      <td>F168L N448S</td>\n",
       "      <td>2</td>\n",
       "      <td>0.3600</td>\n",
       "      <td>0.3600</td>\n",
       "      <td>4275</td>\n",
       "    </tr>\n",
       "  </tbody>\n",
       "</table>\n",
       "</div>"
      ],
      "text/plain": [
       "   antibody_concentration           barcode   aa_substitutions_sequential  \\\n",
       "0                   0.654  AAGAGCTTACTCTCGA                  S443P S1167P   \n",
       "1                   0.654  ATAAGATAGATTTAGG                   K441T A519S   \n",
       "2                   0.654  GATCGAGTGTGTAGCA                   F152T K441E   \n",
       "3                   0.654  CCAAACGGTATGATGA  Q14H V67P D212H N445T I1224M   \n",
       "4                   0.654  TTACTGTGCAACCCAA                   F163L N445S   \n",
       "\n",
       "     aa_substitutions_reference  n_aa_substitutions  prob_escape  \\\n",
       "0                  S446P S1170P                   2       0.9004   \n",
       "1                   K444T A522S                   2       0.8006   \n",
       "2                   F157T K444E                   2       0.5797   \n",
       "3  Q14H V67P D215H N448T I1227M                   5       0.4125   \n",
       "4                   F168L N448S                   2       0.3600   \n",
       "\n",
       "   prob_escape_uncensored  no-antibody_count  \n",
       "0                  0.9004               2890  \n",
       "1                  0.8006               2217  \n",
       "2                  0.5797               2966  \n",
       "3                  0.4125               4131  \n",
       "4                  0.3600               4275  "
      ]
     },
     "execution_count": 2,
     "metadata": {},
     "output_type": "execute_result"
    }
   ],
   "source": [
    "# read data w `na_filter=None` so empty aa_substitutions read as such rather than NA\n",
    "data_to_fit = pd.read_csv(\n",
    "    \"Lib-2_2022-06-22_thaw-1_LyCoV-1404_1_prob_escape.csv\",\n",
    "    na_filter=None,\n",
    ")\n",
    "\n",
    "data_to_fit.head()"
   ]
  },
  {
   "cell_type": "markdown",
   "id": "71d89c5c-d5d1-4ee2-8e9e-f0b446af53e4",
   "metadata": {},
   "source": [
    "Notice how these data have sites numbered in two different schemes:\n",
    "\n",
    " 1. `aa_substitutions_sequential`: sequential integer numbering (1, 2, 3, ...) of the protein used in the experiment. You could just analyze the mutations this way, but then the results will not be in standard reference numbering scheme.\n",
    " \n",
    " 2. `aa_substitutions_reference`: the referencey based site numbering, which skips sites with indels and has some non-numeric sites where there are insertions (eg, `214a`), as for example in the variant shown below:"
   ]
  },
  {
   "cell_type": "code",
   "execution_count": 3,
   "id": "b2d6c52d-e055-4b15-afba-dd8c24b27edb",
   "metadata": {
    "execution": {
     "iopub.execute_input": "2022-07-31T22:09:12.776403Z",
     "iopub.status.busy": "2022-07-31T22:09:12.776126Z",
     "iopub.status.idle": "2022-07-31T22:09:12.919863Z",
     "shell.execute_reply": "2022-07-31T22:09:12.919211Z",
     "shell.execute_reply.started": "2022-07-31T22:09:12.776380Z"
    },
    "tags": []
   },
   "outputs": [
    {
     "data": {
      "text/html": [
       "<div>\n",
       "<style scoped>\n",
       "    .dataframe tbody tr th:only-of-type {\n",
       "        vertical-align: middle;\n",
       "    }\n",
       "\n",
       "    .dataframe tbody tr th {\n",
       "        vertical-align: top;\n",
       "    }\n",
       "\n",
       "    .dataframe thead th {\n",
       "        text-align: right;\n",
       "    }\n",
       "</style>\n",
       "<table border=\"1\" class=\"dataframe\">\n",
       "  <thead>\n",
       "    <tr style=\"text-align: right;\">\n",
       "      <th></th>\n",
       "      <th>antibody_concentration</th>\n",
       "      <th>barcode</th>\n",
       "      <th>aa_substitutions_sequential</th>\n",
       "      <th>aa_substitutions_reference</th>\n",
       "      <th>n_aa_substitutions</th>\n",
       "      <th>prob_escape</th>\n",
       "      <th>prob_escape_uncensored</th>\n",
       "      <th>no-antibody_count</th>\n",
       "    </tr>\n",
       "  </thead>\n",
       "  <tbody>\n",
       "    <tr>\n",
       "      <th>32</th>\n",
       "      <td>0.654</td>\n",
       "      <td>CTAGATAAATCCCTGC</td>\n",
       "      <td>E209A K441N</td>\n",
       "      <td>E214aA K444N</td>\n",
       "      <td>2</td>\n",
       "      <td>0.3965</td>\n",
       "      <td>0.3965</td>\n",
       "      <td>2214</td>\n",
       "    </tr>\n",
       "  </tbody>\n",
       "</table>\n",
       "</div>"
      ],
      "text/plain": [
       "    antibody_concentration           barcode aa_substitutions_sequential  \\\n",
       "32                   0.654  CTAGATAAATCCCTGC                 E209A K441N   \n",
       "\n",
       "   aa_substitutions_reference  n_aa_substitutions  prob_escape  \\\n",
       "32               E214aA K444N                   2       0.3965   \n",
       "\n",
       "    prob_escape_uncensored  no-antibody_count  \n",
       "32                  0.3965               2214  "
      ]
     },
     "execution_count": 3,
     "metadata": {},
     "output_type": "execute_result"
    }
   ],
   "source": [
    "data_to_fit.query(\"aa_substitutions_reference.str.contains('a')\").head(n=1)"
   ]
  },
  {
   "cell_type": "markdown",
   "id": "1d6d5606-8c97-40a3-b8db-8ec834fca627",
   "metadata": {},
   "source": [
    "Here we will use the reference based amino-acid substitutions, so create a column with the name used by `Polyclonal` (the \"aa_substitutions\" column) that uses this numbering scheme:"
   ]
  },
  {
   "cell_type": "code",
   "execution_count": 4,
   "id": "922c252a-fedf-4dc9-a08f-a34464c7e50f",
   "metadata": {
    "execution": {
     "iopub.execute_input": "2022-07-31T22:09:12.922795Z",
     "iopub.status.busy": "2022-07-31T22:09:12.922661Z",
     "iopub.status.idle": "2022-07-31T22:09:12.929154Z",
     "shell.execute_reply": "2022-07-31T22:09:12.928598Z",
     "shell.execute_reply.started": "2022-07-31T22:09:12.922777Z"
    },
    "tags": []
   },
   "outputs": [],
   "source": [
    "data_to_fit[\"aa_substitutions\"] = data_to_fit[\"aa_substitutions_reference\"]"
   ]
  },
  {
   "cell_type": "markdown",
   "id": "00e87dbb-b285-4a10-9003-b6a291795adb",
   "metadata": {},
   "source": [
    "Importantly, in order to use reference based numbering that is not sequential integer, you also have to provide a list of the sites in order.\n",
    "The reason is that otherwise it's not possible for `Polyclonal` to figure out for instance if sites are just missing from the data are are actually deletions.\n",
    "\n",
    "Here we read a data frame that maps sequential to reference site numbering, and then use that to extract the list of reference sites:"
   ]
  },
  {
   "cell_type": "code",
   "execution_count": 5,
   "id": "a395ea88-77b4-4196-8a03-621b3bb95c18",
   "metadata": {
    "execution": {
     "iopub.execute_input": "2022-07-31T22:09:12.931992Z",
     "iopub.status.busy": "2022-07-31T22:09:12.931772Z",
     "iopub.status.idle": "2022-07-31T22:09:12.947360Z",
     "shell.execute_reply": "2022-07-31T22:09:12.946765Z",
     "shell.execute_reply.started": "2022-07-31T22:09:12.931970Z"
    },
    "tags": []
   },
   "outputs": [
    {
     "data": {
      "text/html": [
       "<div>\n",
       "<style scoped>\n",
       "    .dataframe tbody tr th:only-of-type {\n",
       "        vertical-align: middle;\n",
       "    }\n",
       "\n",
       "    .dataframe tbody tr th {\n",
       "        vertical-align: top;\n",
       "    }\n",
       "\n",
       "    .dataframe thead th {\n",
       "        text-align: right;\n",
       "    }\n",
       "</style>\n",
       "<table border=\"1\" class=\"dataframe\">\n",
       "  <thead>\n",
       "    <tr style=\"text-align: right;\">\n",
       "      <th></th>\n",
       "      <th>sequential_site</th>\n",
       "      <th>reference_site</th>\n",
       "    </tr>\n",
       "  </thead>\n",
       "  <tbody>\n",
       "    <tr>\n",
       "      <th>0</th>\n",
       "      <td>1</td>\n",
       "      <td>1</td>\n",
       "    </tr>\n",
       "    <tr>\n",
       "      <th>1</th>\n",
       "      <td>2</td>\n",
       "      <td>2</td>\n",
       "    </tr>\n",
       "    <tr>\n",
       "      <th>2</th>\n",
       "      <td>3</td>\n",
       "      <td>3</td>\n",
       "    </tr>\n",
       "    <tr>\n",
       "      <th>3</th>\n",
       "      <td>4</td>\n",
       "      <td>4</td>\n",
       "    </tr>\n",
       "    <tr>\n",
       "      <th>4</th>\n",
       "      <td>5</td>\n",
       "      <td>5</td>\n",
       "    </tr>\n",
       "  </tbody>\n",
       "</table>\n",
       "</div>"
      ],
      "text/plain": [
       "   sequential_site reference_site\n",
       "0                1              1\n",
       "1                2              2\n",
       "2                3              3\n",
       "3                4              4\n",
       "4                5              5"
      ]
     },
     "metadata": {},
     "output_type": "display_data"
    },
    {
     "name": "stdout",
     "output_type": "stream",
     "text": [
      "Note how some reference sites differ from sequential ones due to indels:\n"
     ]
    },
    {
     "data": {
      "text/html": [
       "<div>\n",
       "<style scoped>\n",
       "    .dataframe tbody tr th:only-of-type {\n",
       "        vertical-align: middle;\n",
       "    }\n",
       "\n",
       "    .dataframe tbody tr th {\n",
       "        vertical-align: top;\n",
       "    }\n",
       "\n",
       "    .dataframe thead th {\n",
       "        text-align: right;\n",
       "    }\n",
       "</style>\n",
       "<table border=\"1\" class=\"dataframe\">\n",
       "  <thead>\n",
       "    <tr style=\"text-align: right;\">\n",
       "      <th></th>\n",
       "      <th>sequential_site</th>\n",
       "      <th>reference_site</th>\n",
       "    </tr>\n",
       "  </thead>\n",
       "  <tbody>\n",
       "    <tr>\n",
       "      <th>68</th>\n",
       "      <td>69</td>\n",
       "      <td>71</td>\n",
       "    </tr>\n",
       "    <tr>\n",
       "      <th>69</th>\n",
       "      <td>70</td>\n",
       "      <td>72</td>\n",
       "    </tr>\n",
       "    <tr>\n",
       "      <th>70</th>\n",
       "      <td>71</td>\n",
       "      <td>73</td>\n",
       "    </tr>\n",
       "    <tr>\n",
       "      <th>71</th>\n",
       "      <td>72</td>\n",
       "      <td>74</td>\n",
       "    </tr>\n",
       "    <tr>\n",
       "      <th>72</th>\n",
       "      <td>73</td>\n",
       "      <td>75</td>\n",
       "    </tr>\n",
       "  </tbody>\n",
       "</table>\n",
       "</div>"
      ],
      "text/plain": [
       "    sequential_site reference_site\n",
       "68               69             71\n",
       "69               70             72\n",
       "70               71             73\n",
       "71               72             74\n",
       "72               73             75"
      ]
     },
     "metadata": {},
     "output_type": "display_data"
    }
   ],
   "source": [
    "site_numbering_map = pd.read_csv(\"BA.1_site_numbering_map.csv\")\n",
    "display(site_numbering_map.head())\n",
    "\n",
    "print(\"Note how some reference sites differ from sequential ones due to indels:\")\n",
    "display(\n",
    "    site_numbering_map[\n",
    "        site_numbering_map[\"sequential_site\"].astype(str)\n",
    "        != site_numbering_map[\"reference_site\"]\n",
    "    ].head()\n",
    ")\n",
    "\n",
    "sites = site_numbering_map[\"reference_site\"].tolist()"
   ]
  },
  {
   "cell_type": "markdown",
   "id": "7b95c2b0-4bd5-4dfd-95b7-2ddeb0823db9",
   "metadata": {},
   "source": [
    "Now initialize and fit the `Polyclonal` model, but pass the `sites` argument so we can use these non-sequential-integer reference sites.\n",
    "(If you don't pass the `sites` argument, sites are assumed to be sequential integer):"
   ]
  },
  {
   "cell_type": "code",
   "execution_count": 6,
   "id": "270bc545-748a-4adc-8295-338058433dff",
   "metadata": {
    "execution": {
     "iopub.execute_input": "2022-07-31T22:09:12.950842Z",
     "iopub.status.busy": "2022-07-31T22:09:12.950584Z",
     "iopub.status.idle": "2022-07-31T22:09:16.458016Z",
     "shell.execute_reply": "2022-07-31T22:09:16.457131Z",
     "shell.execute_reply.started": "2022-07-31T22:09:12.950819Z"
    },
    "tags": []
   },
   "outputs": [],
   "source": [
    "model = polyclonal.Polyclonal(\n",
    "    # `polyclonal` expects the concentration column to be named \"concentration\"\n",
    "    data_to_fit=data_to_fit.rename(columns={\"antibody_concentration\": \"concentration\"}),\n",
    "    n_epitopes=1,\n",
    "    alphabet=polyclonal.AAS_WITHSTOP_WITHGAP,\n",
    "    sites=sites,\n",
    ")"
   ]
  },
  {
   "cell_type": "markdown",
   "id": "623ea438-e6f7-47b7-a050-a1986bbb8ded",
   "metadata": {},
   "source": [
    "Note how the model has its `sequential_integer_sites` attribute set to `False`:"
   ]
  },
  {
   "cell_type": "code",
   "execution_count": 7,
   "id": "6e26d11a-f7d6-48a5-9d5e-348ebc3df0e3",
   "metadata": {
    "execution": {
     "iopub.execute_input": "2022-07-31T22:09:16.461120Z",
     "iopub.status.busy": "2022-07-31T22:09:16.460964Z",
     "iopub.status.idle": "2022-07-31T22:09:16.464257Z",
     "shell.execute_reply": "2022-07-31T22:09:16.463767Z",
     "shell.execute_reply.started": "2022-07-31T22:09:16.461097Z"
    },
    "tags": []
   },
   "outputs": [],
   "source": [
    "assert set(model.sites) == set(sites)\n",
    "\n",
    "assert model.sequential_integer_sites is False"
   ]
  },
  {
   "cell_type": "markdown",
   "id": "7353bc97-ed75-4c93-bf17-19146be96255",
   "metadata": {},
   "source": [
    "Now fit the model:"
   ]
  },
  {
   "cell_type": "code",
   "execution_count": 8,
   "id": "67b3177c-a673-4392-a70d-71c2b7a71297",
   "metadata": {
    "execution": {
     "iopub.execute_input": "2022-07-31T22:09:16.466840Z",
     "iopub.status.busy": "2022-07-31T22:09:16.466597Z",
     "iopub.status.idle": "2022-07-31T22:09:55.361879Z",
     "shell.execute_reply": "2022-07-31T22:09:55.361186Z",
     "shell.execute_reply.started": "2022-07-31T22:09:16.466817Z"
    },
    "tags": []
   },
   "outputs": [
    {
     "name": "stdout",
     "output_type": "stream",
     "text": [
      "# First fitting site-level model.\n",
      "# Starting optimization of 1248 parameters at Sun Jul 31 15:09:19 2022.\n",
      "         step     time_sec         loss     fit_loss   reg_escape   reg_spread reg_activity\n",
      "            0     0.052314        37315        37314            0            0      0.90499\n",
      "          100       6.5281       4867.4       4825.8       37.948            0       3.6703\n",
      "          188       11.691       4865.6       4822.7       39.237            0       3.6724\n",
      "# Successfully finished at Sun Jul 31 15:09:31 2022.\n",
      "# Starting optimization of 8450 parameters at Sun Jul 31 15:09:31 2022.\n",
      "         step     time_sec         loss     fit_loss   reg_escape   reg_spread reg_activity\n",
      "            0     0.091255       7299.1       7031.4       264.09   8.7534e-31       3.6724\n",
      "          100       8.3385       6826.9         6719       83.863       19.734       4.3189\n",
      "          200       16.279       6821.7       6715.9       80.416       21.021       4.3081\n",
      "          299       23.978       6821.1       6714.3       81.169       21.295       4.3101\n",
      "# Successfully finished at Sun Jul 31 15:09:55 2022.\n"
     ]
    }
   ],
   "source": [
    "_ = model.fit(logfreq=100, reg_escape_weight=0.1)"
   ]
  },
  {
   "cell_type": "markdown",
   "id": "393dc311-8a2f-4beb-8cce-a843d44a0779",
   "metadata": {},
   "source": [
    "Look at output.\n",
    "First we look at the `mut_escape_df`.\n",
    "The site entries are str:"
   ]
  },
  {
   "cell_type": "code",
   "execution_count": 9,
   "id": "441aad6f-0fc7-47d1-a7ef-3b7f3ace58e4",
   "metadata": {
    "execution": {
     "iopub.execute_input": "2022-07-31T22:09:55.365657Z",
     "iopub.status.busy": "2022-07-31T22:09:55.365282Z",
     "iopub.status.idle": "2022-07-31T22:09:55.501044Z",
     "shell.execute_reply": "2022-07-31T22:09:55.500611Z",
     "shell.execute_reply.started": "2022-07-31T22:09:55.365627Z"
    },
    "tags": []
   },
   "outputs": [
    {
     "data": {
      "text/html": [
       "<div>\n",
       "<style scoped>\n",
       "    .dataframe tbody tr th:only-of-type {\n",
       "        vertical-align: middle;\n",
       "    }\n",
       "\n",
       "    .dataframe tbody tr th {\n",
       "        vertical-align: top;\n",
       "    }\n",
       "\n",
       "    .dataframe thead th {\n",
       "        text-align: right;\n",
       "    }\n",
       "</style>\n",
       "<table border=\"1\" class=\"dataframe\">\n",
       "  <thead>\n",
       "    <tr style=\"text-align: right;\">\n",
       "      <th></th>\n",
       "      <th>epitope</th>\n",
       "      <th>site</th>\n",
       "      <th>wildtype</th>\n",
       "      <th>mutant</th>\n",
       "      <th>mutation</th>\n",
       "      <th>escape</th>\n",
       "      <th>times_seen</th>\n",
       "    </tr>\n",
       "  </thead>\n",
       "  <tbody>\n",
       "    <tr>\n",
       "      <th>0</th>\n",
       "      <td>1</td>\n",
       "      <td>1</td>\n",
       "      <td>M</td>\n",
       "      <td>I</td>\n",
       "      <td>M1I</td>\n",
       "      <td>-0.003252</td>\n",
       "      <td>1</td>\n",
       "    </tr>\n",
       "    <tr>\n",
       "      <th>1</th>\n",
       "      <td>1</td>\n",
       "      <td>1</td>\n",
       "      <td>M</td>\n",
       "      <td>T</td>\n",
       "      <td>M1T</td>\n",
       "      <td>-0.005627</td>\n",
       "      <td>2</td>\n",
       "    </tr>\n",
       "    <tr>\n",
       "      <th>2</th>\n",
       "      <td>1</td>\n",
       "      <td>2</td>\n",
       "      <td>F</td>\n",
       "      <td>I</td>\n",
       "      <td>F2I</td>\n",
       "      <td>0.000555</td>\n",
       "      <td>2</td>\n",
       "    </tr>\n",
       "    <tr>\n",
       "      <th>3</th>\n",
       "      <td>1</td>\n",
       "      <td>2</td>\n",
       "      <td>F</td>\n",
       "      <td>L</td>\n",
       "      <td>F2L</td>\n",
       "      <td>0.010234</td>\n",
       "      <td>14</td>\n",
       "    </tr>\n",
       "    <tr>\n",
       "      <th>4</th>\n",
       "      <td>1</td>\n",
       "      <td>2</td>\n",
       "      <td>F</td>\n",
       "      <td>S</td>\n",
       "      <td>F2S</td>\n",
       "      <td>-0.006794</td>\n",
       "      <td>14</td>\n",
       "    </tr>\n",
       "  </tbody>\n",
       "</table>\n",
       "</div>"
      ],
      "text/plain": [
       "  epitope site wildtype mutant mutation    escape  times_seen\n",
       "0       1    1        M      I      M1I -0.003252           1\n",
       "1       1    1        M      T      M1T -0.005627           2\n",
       "2       1    2        F      I      F2I  0.000555           2\n",
       "3       1    2        F      L      F2L  0.010234          14\n",
       "4       1    2        F      S      F2S -0.006794          14"
      ]
     },
     "execution_count": 9,
     "metadata": {},
     "output_type": "execute_result"
    }
   ],
   "source": [
    "assert all(model.mut_escape_df[\"site\"].astype(str) == model.mut_escape_df[\"site\"])\n",
    "assert set(model.mut_escape_df[\"site\"]).issubset(sites)\n",
    "\n",
    "model.mut_escape_df.head()"
   ]
  },
  {
   "cell_type": "markdown",
   "id": "ed0ff4f3-a82c-4952-8ee3-ed05278aff5b",
   "metadata": {},
   "source": [
    "The same is true for `mut_escape_site_summary_df`:"
   ]
  },
  {
   "cell_type": "code",
   "execution_count": 10,
   "id": "746f6c41-29c3-4908-a213-a5f63da2a32e",
   "metadata": {
    "execution": {
     "iopub.execute_input": "2022-07-31T22:09:55.502192Z",
     "iopub.status.busy": "2022-07-31T22:09:55.501961Z",
     "iopub.status.idle": "2022-07-31T22:09:55.700298Z",
     "shell.execute_reply": "2022-07-31T22:09:55.699749Z",
     "shell.execute_reply.started": "2022-07-31T22:09:55.502176Z"
    },
    "tags": []
   },
   "outputs": [
    {
     "data": {
      "text/html": [
       "<div>\n",
       "<style scoped>\n",
       "    .dataframe tbody tr th:only-of-type {\n",
       "        vertical-align: middle;\n",
       "    }\n",
       "\n",
       "    .dataframe tbody tr th {\n",
       "        vertical-align: top;\n",
       "    }\n",
       "\n",
       "    .dataframe thead th {\n",
       "        text-align: right;\n",
       "    }\n",
       "</style>\n",
       "<table border=\"1\" class=\"dataframe\">\n",
       "  <thead>\n",
       "    <tr style=\"text-align: right;\">\n",
       "      <th></th>\n",
       "      <th>epitope</th>\n",
       "      <th>site</th>\n",
       "      <th>wildtype</th>\n",
       "      <th>mean</th>\n",
       "      <th>total positive</th>\n",
       "      <th>max</th>\n",
       "      <th>min</th>\n",
       "      <th>total negative</th>\n",
       "      <th>n mutations</th>\n",
       "    </tr>\n",
       "  </thead>\n",
       "  <tbody>\n",
       "    <tr>\n",
       "      <th>0</th>\n",
       "      <td>1</td>\n",
       "      <td>1</td>\n",
       "      <td>M</td>\n",
       "      <td>-0.004440</td>\n",
       "      <td>0.000000</td>\n",
       "      <td>-0.003252</td>\n",
       "      <td>-0.005627</td>\n",
       "      <td>-0.008880</td>\n",
       "      <td>2</td>\n",
       "    </tr>\n",
       "    <tr>\n",
       "      <th>1</th>\n",
       "      <td>1</td>\n",
       "      <td>2</td>\n",
       "      <td>F</td>\n",
       "      <td>0.006602</td>\n",
       "      <td>0.033203</td>\n",
       "      <td>0.022414</td>\n",
       "      <td>-0.006794</td>\n",
       "      <td>-0.006794</td>\n",
       "      <td>4</td>\n",
       "    </tr>\n",
       "    <tr>\n",
       "      <th>2</th>\n",
       "      <td>1</td>\n",
       "      <td>3</td>\n",
       "      <td>V</td>\n",
       "      <td>0.062742</td>\n",
       "      <td>0.643100</td>\n",
       "      <td>0.562297</td>\n",
       "      <td>-0.118661</td>\n",
       "      <td>-0.141163</td>\n",
       "      <td>8</td>\n",
       "    </tr>\n",
       "    <tr>\n",
       "      <th>3</th>\n",
       "      <td>1</td>\n",
       "      <td>4</td>\n",
       "      <td>F</td>\n",
       "      <td>0.222067</td>\n",
       "      <td>1.117960</td>\n",
       "      <td>1.024416</td>\n",
       "      <td>-0.005115</td>\n",
       "      <td>-0.007626</td>\n",
       "      <td>5</td>\n",
       "    </tr>\n",
       "    <tr>\n",
       "      <th>4</th>\n",
       "      <td>1</td>\n",
       "      <td>5</td>\n",
       "      <td>L</td>\n",
       "      <td>0.015171</td>\n",
       "      <td>2.084054</td>\n",
       "      <td>0.942382</td>\n",
       "      <td>-0.890501</td>\n",
       "      <td>-1.780636</td>\n",
       "      <td>20</td>\n",
       "    </tr>\n",
       "  </tbody>\n",
       "</table>\n",
       "</div>"
      ],
      "text/plain": [
       "  epitope site wildtype      mean  total positive       max       min  \\\n",
       "0       1    1        M -0.004440        0.000000 -0.003252 -0.005627   \n",
       "1       1    2        F  0.006602        0.033203  0.022414 -0.006794   \n",
       "2       1    3        V  0.062742        0.643100  0.562297 -0.118661   \n",
       "3       1    4        F  0.222067        1.117960  1.024416 -0.005115   \n",
       "4       1    5        L  0.015171        2.084054  0.942382 -0.890501   \n",
       "\n",
       "   total negative  n mutations  \n",
       "0       -0.008880            2  \n",
       "1       -0.006794            4  \n",
       "2       -0.141163            8  \n",
       "3       -0.007626            5  \n",
       "4       -1.780636           20  "
      ]
     },
     "execution_count": 10,
     "metadata": {},
     "output_type": "execute_result"
    }
   ],
   "source": [
    "assert all(\n",
    "    model.mut_escape_site_summary_df()[\"site\"].astype(str)\n",
    "    == model.mut_escape_site_summary_df()[\"site\"]\n",
    ")\n",
    "assert set(model.mut_escape_site_summary_df()[\"site\"]).issubset(sites)\n",
    "\n",
    "model.mut_escape_site_summary_df().head()"
   ]
  },
  {
   "cell_type": "markdown",
   "id": "9c4f73fd-359b-4d77-9dcc-29efc1a6ffce",
   "metadata": {},
   "source": [
    "## Confirm same results for reference and sequential integer number\n",
    "To demonstrate how the results are the same regardless of which numbering scheme is used for the fitting, we also fit a model with the sequentially numbered variants.\n",
    "This section of the notebook can almost be considered a test rather than an example."
   ]
  },
  {
   "cell_type": "code",
   "execution_count": 11,
   "id": "0bd66983-e6ba-49ad-a67f-e2a5c3ebdf58",
   "metadata": {
    "execution": {
     "iopub.execute_input": "2022-07-31T22:09:55.701426Z",
     "iopub.status.busy": "2022-07-31T22:09:55.701164Z",
     "iopub.status.idle": "2022-07-31T22:10:34.589865Z",
     "shell.execute_reply": "2022-07-31T22:10:34.589149Z",
     "shell.execute_reply.started": "2022-07-31T22:09:55.701404Z"
    },
    "tags": []
   },
   "outputs": [
    {
     "name": "stdout",
     "output_type": "stream",
     "text": [
      "# First fitting site-level model.\n",
      "# Starting optimization of 1248 parameters at Sun Jul 31 15:10:02 2022.\n",
      "         step     time_sec         loss     fit_loss   reg_escape   reg_spread reg_activity\n",
      "            0     0.052583        37315        37314            0            0      0.90499\n",
      "          100       6.6108       4867.4       4825.7       37.948            0       3.6702\n",
      "          188        12.02       4865.6       4822.6       39.396            0       3.6721\n",
      "# Successfully finished at Sun Jul 31 15:10:14 2022.\n",
      "# Starting optimization of 8450 parameters at Sun Jul 31 15:10:14 2022.\n",
      "         step     time_sec         loss     fit_loss   reg_escape   reg_spread reg_activity\n",
      "            0      0.07094         7300       7031.3       265.04   8.9894e-31       3.6721\n",
      "          100       8.4684       6826.5       6718.9       83.282       19.982       4.3163\n",
      "          200       16.449       6821.6       6715.8       80.443       21.032       4.3093\n",
      "          245       20.259       6821.4       6715.2       80.692       21.171       4.3108\n",
      "# Successfully finished at Sun Jul 31 15:10:34 2022.\n"
     ]
    }
   ],
   "source": [
    "model_sequential = polyclonal.Polyclonal(\n",
    "    data_to_fit=(\n",
    "        data_to_fit\n",
    "        .drop(columns=\"aa_substitutions\")\n",
    "        .rename(\n",
    "            columns={\n",
    "                \"antibody_concentration\": \"concentration\",\n",
    "                \"aa_substitutions_sequential\": \"aa_substitutions\",\n",
    "            }\n",
    "        )\n",
    "    ),\n",
    "    n_epitopes=1,\n",
    "    alphabet=polyclonal.AAS_WITHSTOP_WITHGAP,\n",
    ")\n",
    "\n",
    "assert model_sequential.sequential_integer_sites is True\n",
    "\n",
    "_ = model_sequential.fit(logfreq=100, reg_escape_weight=0.1)"
   ]
  },
  {
   "cell_type": "markdown",
   "id": "f906ad3f-461c-41d3-ac77-c0cc859611c7",
   "metadata": {
    "execution": {
     "iopub.execute_input": "2022-07-31T21:35:32.660923Z",
     "iopub.status.busy": "2022-07-31T21:35:32.660504Z",
     "iopub.status.idle": "2022-07-31T21:35:32.673648Z",
     "shell.execute_reply": "2022-07-31T21:35:32.672781Z",
     "shell.execute_reply.started": "2022-07-31T21:35:32.660880Z"
    },
    "tags": []
   },
   "source": [
    "Now make sure the fitting gives nearly the same result regardless of which site numbering is used.\n",
    "First check the activity values:"
   ]
  },
  {
   "cell_type": "code",
   "execution_count": 12,
   "id": "127732be-fd77-4c3d-be0c-4450eea8863e",
   "metadata": {
    "execution": {
     "iopub.execute_input": "2022-07-31T22:10:34.591306Z",
     "iopub.status.busy": "2022-07-31T22:10:34.591029Z",
     "iopub.status.idle": "2022-07-31T22:10:34.597866Z",
     "shell.execute_reply": "2022-07-31T22:10:34.596951Z",
     "shell.execute_reply.started": "2022-07-31T22:10:34.591279Z"
    },
    "tags": []
   },
   "outputs": [],
   "source": [
    "pd.testing.assert_frame_equal(\n",
    "    model_sequential.activity_wt_df, model.activity_wt_df, atol=0.01,\n",
    ")"
   ]
  },
  {
   "cell_type": "markdown",
   "id": "52cee5e1-3141-45cd-873b-292f376aa25e",
   "metadata": {
    "execution": {
     "iopub.execute_input": "2022-07-31T21:36:53.745074Z",
     "iopub.status.busy": "2022-07-31T21:36:53.744547Z",
     "iopub.status.idle": "2022-07-31T21:36:53.751777Z",
     "shell.execute_reply": "2022-07-31T21:36:53.750914Z",
     "shell.execute_reply.started": "2022-07-31T21:36:53.745027Z"
    },
    "tags": []
   },
   "source": [
    "Now compare the mutation-escape values.\n",
    "In order to do this, we have to re-number the sequential values to reference numbering:"
   ]
  },
  {
   "cell_type": "code",
   "execution_count": 13,
   "id": "39cc1d6f-c2f1-4ffb-9ccf-477b473a5854",
   "metadata": {
    "execution": {
     "iopub.execute_input": "2022-07-31T22:10:34.599227Z",
     "iopub.status.busy": "2022-07-31T22:10:34.598936Z",
     "iopub.status.idle": "2022-07-31T22:10:34.940159Z",
     "shell.execute_reply": "2022-07-31T22:10:34.939621Z",
     "shell.execute_reply.started": "2022-07-31T22:10:34.599195Z"
    },
    "tags": []
   },
   "outputs": [],
   "source": [
    "min_times_seen = 50\n",
    "\n",
    "mut_escape = model.mut_escape_df.drop(columns=\"mutation\")\n",
    "\n",
    "mut_escape_sequential = (\n",
    "    model_sequential.mut_escape_df.assign(\n",
    "        site=lambda x: x[\"site\"].map(\n",
    "            site_numbering_map.set_index(\"sequential_site\")[\"reference_site\"].to_dict()\n",
    "        )\n",
    "    )\n",
    "    .drop(columns=\"mutation\")\n",
    ")\n",
    "    \n",
    "# have to use fairly big atol to test this, so also do correlations\n",
    "pd.testing.assert_frame_equal(\n",
    "    mut_escape, mut_escape_sequential, atol=1.5,\n",
    ")\n",
    "assert 0.99  < mut_escape[\"escape\"].corr(mut_escape_sequential[\"escape\"])"
   ]
  }
 ],
 "metadata": {
  "kernelspec": {
   "display_name": "Python 3 (ipykernel)",
   "language": "python",
   "name": "python3"
  },
  "language_info": {
   "codemirror_mode": {
    "name": "ipython",
    "version": 3
   },
   "file_extension": ".py",
   "mimetype": "text/x-python",
   "name": "python",
   "nbconvert_exporter": "python",
   "pygments_lexer": "ipython3",
   "version": "3.8.12"
  }
 },
 "nbformat": 4,
 "nbformat_minor": 5
}
