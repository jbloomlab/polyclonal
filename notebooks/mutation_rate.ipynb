{
 "cells": [
  {
   "cell_type": "markdown",
   "metadata": {},
   "source": [
    "# Choosing a library mutation rate"
   ]
  },
  {
   "cell_type": "markdown",
   "metadata": {},
   "source": [
    "We’ll use simulated data to show how the average mutation rate of variants in a DMS library affects the performance of `Polyclonal` models. "
   ]
  },
  {
   "cell_type": "code",
   "execution_count": 10,
   "metadata": {},
   "outputs": [],
   "source": [
    "import time\n",
    "import os\n",
    "import pickle\n",
    "\n",
    "import pandas as pd\n",
    "import numpy as np\n",
    "import altair as alt\n",
    "import polyclonal"
   ]
  },
  {
   "cell_type": "markdown",
   "metadata": {},
   "source": [
    "We have simulated 4 libraries with noisy measurements. The libraries contain variants with an average of 1, 2, 3, or 4 mutations measured at three different sera concentrations."
   ]
  },
  {
   "cell_type": "code",
   "execution_count": 11,
   "metadata": {},
   "outputs": [
    {
     "data": {
      "text/html": [
       "<div>\n",
       "<style scoped>\n",
       "    .dataframe tbody tr th:only-of-type {\n",
       "        vertical-align: middle;\n",
       "    }\n",
       "\n",
       "    .dataframe tbody tr th {\n",
       "        vertical-align: top;\n",
       "    }\n",
       "\n",
       "    .dataframe thead th {\n",
       "        text-align: right;\n",
       "    }\n",
       "</style>\n",
       "<table border=\"1\" class=\"dataframe\">\n",
       "  <thead>\n",
       "    <tr style=\"text-align: right;\">\n",
       "      <th></th>\n",
       "      <th>library</th>\n",
       "      <th>aa_substitutions</th>\n",
       "      <th>concentration</th>\n",
       "      <th>prob_escape</th>\n",
       "      <th>IC90</th>\n",
       "    </tr>\n",
       "  </thead>\n",
       "  <tbody>\n",
       "    <tr>\n",
       "      <th>0</th>\n",
       "      <td>avg1muts</td>\n",
       "      <td></td>\n",
       "      <td>0.25</td>\n",
       "      <td>0.087480</td>\n",
       "      <td>0.1128</td>\n",
       "    </tr>\n",
       "    <tr>\n",
       "      <th>1</th>\n",
       "      <td>avg1muts</td>\n",
       "      <td></td>\n",
       "      <td>0.25</td>\n",
       "      <td>0.034240</td>\n",
       "      <td>0.1128</td>\n",
       "    </tr>\n",
       "    <tr>\n",
       "      <th>2</th>\n",
       "      <td>avg1muts</td>\n",
       "      <td></td>\n",
       "      <td>0.25</td>\n",
       "      <td>0.037880</td>\n",
       "      <td>0.1128</td>\n",
       "    </tr>\n",
       "    <tr>\n",
       "      <th>3</th>\n",
       "      <td>avg1muts</td>\n",
       "      <td></td>\n",
       "      <td>0.25</td>\n",
       "      <td>0.035730</td>\n",
       "      <td>0.1128</td>\n",
       "    </tr>\n",
       "    <tr>\n",
       "      <th>4</th>\n",
       "      <td>avg1muts</td>\n",
       "      <td></td>\n",
       "      <td>0.25</td>\n",
       "      <td>0.000000</td>\n",
       "      <td>0.1128</td>\n",
       "    </tr>\n",
       "    <tr>\n",
       "      <th>...</th>\n",
       "      <td>...</td>\n",
       "      <td>...</td>\n",
       "      <td>...</td>\n",
       "      <td>...</td>\n",
       "      <td>...</td>\n",
       "    </tr>\n",
       "    <tr>\n",
       "      <th>359995</th>\n",
       "      <td>avg2muts</td>\n",
       "      <td>Y473E L518F D427L</td>\n",
       "      <td>4.00</td>\n",
       "      <td>0.002918</td>\n",
       "      <td>1.1600</td>\n",
       "    </tr>\n",
       "    <tr>\n",
       "      <th>359996</th>\n",
       "      <td>avg1muts</td>\n",
       "      <td>Y473S G413Q</td>\n",
       "      <td>4.00</td>\n",
       "      <td>0.000000</td>\n",
       "      <td>0.5780</td>\n",
       "    </tr>\n",
       "    <tr>\n",
       "      <th>359997</th>\n",
       "      <td>avg1muts</td>\n",
       "      <td>Y473V P479R F392W</td>\n",
       "      <td>4.00</td>\n",
       "      <td>0.160200</td>\n",
       "      <td>1.4550</td>\n",
       "    </tr>\n",
       "    <tr>\n",
       "      <th>359998</th>\n",
       "      <td>avg3muts</td>\n",
       "      <td>Y489Q N501Y</td>\n",
       "      <td>4.00</td>\n",
       "      <td>0.000000</td>\n",
       "      <td>0.5881</td>\n",
       "    </tr>\n",
       "    <tr>\n",
       "      <th>359999</th>\n",
       "      <td>avg2muts</td>\n",
       "      <td>Y505N H519T</td>\n",
       "      <td>4.00</td>\n",
       "      <td>0.000000</td>\n",
       "      <td>0.3505</td>\n",
       "    </tr>\n",
       "  </tbody>\n",
       "</table>\n",
       "<p>360000 rows × 5 columns</p>\n",
       "</div>"
      ],
      "text/plain": [
       "         library   aa_substitutions  concentration  prob_escape    IC90\n",
       "0       avg1muts                              0.25     0.087480  0.1128\n",
       "1       avg1muts                              0.25     0.034240  0.1128\n",
       "2       avg1muts                              0.25     0.037880  0.1128\n",
       "3       avg1muts                              0.25     0.035730  0.1128\n",
       "4       avg1muts                              0.25     0.000000  0.1128\n",
       "...          ...                ...            ...          ...     ...\n",
       "359995  avg2muts  Y473E L518F D427L           4.00     0.002918  1.1600\n",
       "359996  avg1muts        Y473S G413Q           4.00     0.000000  0.5780\n",
       "359997  avg1muts  Y473V P479R F392W           4.00     0.160200  1.4550\n",
       "359998  avg3muts        Y489Q N501Y           4.00     0.000000  0.5881\n",
       "359999  avg2muts        Y505N H519T           4.00     0.000000  0.3505\n",
       "\n",
       "[360000 rows x 5 columns]"
      ]
     },
     "execution_count": 11,
     "metadata": {},
     "output_type": "execute_result"
    }
   ],
   "source": [
    "noisy_data = (\n",
    "    pd.read_csv('RBD_variants_escape_noisy.csv', na_filter=None)\n",
    "    .query('concentration in [0.25, 1, 4]')\n",
    "    .reset_index(drop=True)\n",
    "    )\n",
    "\n",
    "noisy_data"
   ]
  },
  {
   "cell_type": "markdown",
   "metadata": {},
   "source": [
    "We’ll fit a `Polyclonal` model to each library."
   ]
  },
  {
   "cell_type": "code",
   "execution_count": 12,
   "metadata": {},
   "outputs": [
    {
     "name": "stdout",
     "output_type": "stream",
     "text": [
      "Model with 1 average mutation rate was already fit.\n",
      "Model with 2 average mutation rate was already fit.\n",
      "Model with 3 average mutation rate was already fit.\n",
      "Model with 4 average mutation rate was already fit.\n"
     ]
    }
   ],
   "source": [
    "avg_mut_rates = [1,2,3,4]\n",
    "os.makedirs('fit_polyclonal_models', exist_ok=True)\n",
    "       \n",
    "def fit_polyclonal(num):\n",
    "    \"\"\"\n",
    "    Fit `Polyclonal` model on a library with a specific mutation rate.\n",
    "    Returns fit `Polyclonal` object.\n",
    "    \"\"\"\n",
    "    poly_abs = polyclonal.Polyclonal(data_to_fit=noisy_data.query(f\"library == 'avg{num}muts'\"),\n",
    "                                     activity_wt_df=pd.DataFrame.from_records(\n",
    "                                         [('1', 1.0),\n",
    "                                          ('2', 3.0),\n",
    "                                          ('3', 2.0),\n",
    "                                          ],\n",
    "                                         columns=['epitope', 'activity'],\n",
    "                                         ),\n",
    "                                     site_escape_df=pd.DataFrame.from_records(\n",
    "                                         [('1', 417, 10.0),\n",
    "                                          ('2', 484, 10.0),\n",
    "                                          ('3', 444, 10.0),\n",
    "                                          ],\n",
    "                                         columns=['epitope', 'site', 'escape'],\n",
    "                                         ),\n",
    "                                     data_mut_escape_overlap='fill_to_data',\n",
    "                                 )\n",
    "    start = time.time()\n",
    "    poly_abs.fit()\n",
    "    return poly_abs, time.time() - start\n",
    "\n",
    "# Store all fit models in a dictionary for future lookup\n",
    "fit_models = {}\n",
    "for n in avg_mut_rates:\n",
    "    # keys for models\n",
    "    model_string = f'noisy_[0.25, 1, 4]conc_{n}muts'\n",
    "    \n",
    "    # if model has already been fit, load pickled model and add to fit_models. Otherwise, fit model.\n",
    "    if os.path.exists(f'fit_polyclonal_models/{model_string}.pkl') is True:\n",
    "        model = pickle.load(open(f'fit_polyclonal_models/{model_string}.pkl', 'rb'))\n",
    "        fit_models.update({model_string : model})\n",
    "        print(f\"Model with {n} average mutation rate was already fit.\")\n",
    "    else:\n",
    "        model, time_elapsed = fit_polyclonal(n)\n",
    "        fit_models.update({model_string : model})\n",
    "        pickle.dump(model, open(f'fit_polyclonal_models/noisy_[0.25, 1, 4]conc_{n}muts.pkl', 'wb'))\n",
    "        print(f\"Model with {n} average mutation rate fit in {time_elapsed:.1f} seconds.\")  "
   ]
  },
  {
   "cell_type": "markdown",
   "metadata": {},
   "source": [
    "We can look at the correlation between predicted and true beta coefficients (mutation effects at each epitope) for the fit models."
   ]
  },
  {
   "cell_type": "code",
   "execution_count": 13,
   "metadata": {},
   "outputs": [],
   "source": [
    "all_corrs = pd.DataFrame({'epitope' : [], \n",
    "                          'correlation' : [], \n",
    "                          'mutation_rate' : []})\n",
    "\n",
    "for n in avg_mut_rates:\n",
    "    model = fit_models[f'noisy_[0.25, 1, 4]conc_{n}muts']\n",
    "\n",
    "    mut_escape_pred = (\n",
    "        pd.read_csv('RBD_mut_escape_df.csv')\n",
    "        .merge((model.mut_escape_df\n",
    "                .assign(epitope=lambda x: 'class ' + x['epitope'].astype(str))\n",
    "                .rename(columns={'escape': 'predicted escape'})\n",
    "                ),\n",
    "               on=['mutation', 'epitope'],\n",
    "               validate='one_to_one',\n",
    "               )\n",
    "        )\n",
    "\n",
    "    corr = (mut_escape_pred\n",
    "            .groupby('epitope')\n",
    "            .apply(lambda x: x['escape'].corr(x['predicted escape']))\n",
    "            .rename('correlation')\n",
    "            .reset_index()\n",
    "            )\n",
    "    \n",
    "    all_corrs = pd.concat([all_corrs, \n",
    "                    corr.assign(mutation_rate = [f'avg{n}muts'] * len(corr.index))\n",
    "                        ])"
   ]
  },
  {
   "cell_type": "code",
   "execution_count": 14,
   "metadata": {},
   "outputs": [
    {
     "data": {
      "text/html": [
       "\n",
       "<div id=\"altair-viz-7b387802bdae45e3bf08b44782bcad2b\"></div>\n",
       "<script type=\"text/javascript\">\n",
       "  (function(spec, embedOpt){\n",
       "    let outputDiv = document.currentScript.previousElementSibling;\n",
       "    if (outputDiv.id !== \"altair-viz-7b387802bdae45e3bf08b44782bcad2b\") {\n",
       "      outputDiv = document.getElementById(\"altair-viz-7b387802bdae45e3bf08b44782bcad2b\");\n",
       "    }\n",
       "    const paths = {\n",
       "      \"vega\": \"https://cdn.jsdelivr.net/npm//vega@5?noext\",\n",
       "      \"vega-lib\": \"https://cdn.jsdelivr.net/npm//vega-lib?noext\",\n",
       "      \"vega-lite\": \"https://cdn.jsdelivr.net/npm//vega-lite@4.17.0?noext\",\n",
       "      \"vega-embed\": \"https://cdn.jsdelivr.net/npm//vega-embed@6?noext\",\n",
       "    };\n",
       "\n",
       "    function loadScript(lib) {\n",
       "      return new Promise(function(resolve, reject) {\n",
       "        var s = document.createElement('script');\n",
       "        s.src = paths[lib];\n",
       "        s.async = true;\n",
       "        s.onload = () => resolve(paths[lib]);\n",
       "        s.onerror = () => reject(`Error loading script: ${paths[lib]}`);\n",
       "        document.getElementsByTagName(\"head\")[0].appendChild(s);\n",
       "      });\n",
       "    }\n",
       "\n",
       "    function showError(err) {\n",
       "      outputDiv.innerHTML = `<div class=\"error\" style=\"color:red;\">${err}</div>`;\n",
       "      throw err;\n",
       "    }\n",
       "\n",
       "    function displayChart(vegaEmbed) {\n",
       "      vegaEmbed(outputDiv, spec, embedOpt)\n",
       "        .catch(err => showError(`Javascript Error: ${err.message}<br>This usually means there's a typo in your chart specification. See the javascript console for the full traceback.`));\n",
       "    }\n",
       "\n",
       "    if(typeof define === \"function\" && define.amd) {\n",
       "      requirejs.config({paths});\n",
       "      require([\"vega-embed\"], displayChart, err => showError(`Error loading script: ${err.message}`));\n",
       "    } else if (typeof vegaEmbed === \"function\") {\n",
       "      displayChart(vegaEmbed);\n",
       "    } else {\n",
       "      loadScript(\"vega\")\n",
       "        .then(() => loadScript(\"vega-lite\"))\n",
       "        .then(() => loadScript(\"vega-embed\"))\n",
       "        .catch(showError)\n",
       "        .then(() => displayChart(vegaEmbed));\n",
       "    }\n",
       "  })({\"config\": {\"view\": {\"continuousWidth\": 400, \"continuousHeight\": 300}}, \"data\": {\"name\": \"data-1584e30cbc765761ee51a7f3ad7cb2a4\"}, \"mark\": {\"type\": \"circle\", \"size\": 125}, \"encoding\": {\"color\": {\"field\": \"epitope\", \"legend\": null, \"type\": \"nominal\"}, \"column\": {\"field\": \"epitope\", \"type\": \"nominal\"}, \"tooltip\": [{\"field\": \"mutation_rate\", \"type\": \"nominal\"}, {\"field\": \"correlation\", \"format\": \".3f\", \"type\": \"quantitative\"}], \"x\": {\"field\": \"mutation_rate\", \"sort\": {\"field\": \"x\", \"order\": \"descending\"}, \"type\": \"ordinal\"}, \"y\": {\"field\": \"correlation\", \"type\": \"quantitative\"}}, \"height\": 200, \"title\": \"predicted vs. true beta coefficients\", \"width\": 200, \"$schema\": \"https://vega.github.io/schema/vega-lite/v4.17.0.json\", \"datasets\": {\"data-1584e30cbc765761ee51a7f3ad7cb2a4\": [{\"epitope\": \"class 1\", \"correlation\": 0.12796044398108936, \"mutation_rate\": \"avg1muts\"}, {\"epitope\": \"class 2\", \"correlation\": 0.857028982577385, \"mutation_rate\": \"avg1muts\"}, {\"epitope\": \"class 3\", \"correlation\": 0.6538580166192145, \"mutation_rate\": \"avg1muts\"}, {\"epitope\": \"class 1\", \"correlation\": 0.8124616185199585, \"mutation_rate\": \"avg2muts\"}, {\"epitope\": \"class 2\", \"correlation\": 0.9565890154532138, \"mutation_rate\": \"avg2muts\"}, {\"epitope\": \"class 3\", \"correlation\": 0.928755819226252, \"mutation_rate\": \"avg2muts\"}, {\"epitope\": \"class 1\", \"correlation\": 0.8828352439294088, \"mutation_rate\": \"avg3muts\"}, {\"epitope\": \"class 2\", \"correlation\": 0.9729747874088035, \"mutation_rate\": \"avg3muts\"}, {\"epitope\": \"class 3\", \"correlation\": 0.94969585001127, \"mutation_rate\": \"avg3muts\"}, {\"epitope\": \"class 1\", \"correlation\": 0.8896793775467687, \"mutation_rate\": \"avg4muts\"}, {\"epitope\": \"class 2\", \"correlation\": 0.9693371499510837, \"mutation_rate\": \"avg4muts\"}, {\"epitope\": \"class 3\", \"correlation\": 0.9592697463846838, \"mutation_rate\": \"avg4muts\"}]}}, {\"mode\": \"vega-lite\"});\n",
       "</script>"
      ],
      "text/plain": [
       "alt.Chart(...)"
      ]
     },
     "execution_count": 14,
     "metadata": {},
     "output_type": "execute_result"
    }
   ],
   "source": [
    "# NBVAL_IGNORE_OUTPUT\n",
    "alt.Chart(all_corrs).mark_circle(size=125).encode(\n",
    "    x= alt.X('mutation_rate:O', \n",
    "             sort=alt.EncodingSortField('x', order='descending')),\n",
    "    y='correlation:Q',\n",
    "    column='epitope:N',\n",
    "    tooltip = ['mutation_rate', alt.Tooltip('correlation', format='.3f')],\n",
    "    color=alt.Color('epitope', legend=None),\n",
    ").properties(width=200, height=200, title='predicted vs. true beta coefficients')"
   ]
  },
  {
   "cell_type": "markdown",
   "metadata": {},
   "source": [
    "Additionally, we’ll look at the correlation between predicted and true IC90’s for each of the fit models. To do this, we’ll predict the IC90’s of variants in a different simulated library that our models were not fit on."
   ]
  },
  {
   "cell_type": "code",
   "execution_count": 15,
   "metadata": {},
   "outputs": [],
   "source": [
    "exact_data = (\n",
    "    pd.read_csv('RBD_variants_escape_exact.csv', na_filter=None)\n",
    "    .query('library == \"avg4muts\"')\n",
    "    .query('concentration in [0.5]')\n",
    "    .reset_index(drop=True)\n",
    "    )"
   ]
  },
  {
   "cell_type": "markdown",
   "metadata": {},
   "source": [
    "We’ll make the comparison on a log scale, and clip IC90s at values >50 as that is likely to be way outside the dynamic range given the concentrations used."
   ]
  },
  {
   "cell_type": "code",
   "execution_count": 16,
   "metadata": {},
   "outputs": [],
   "source": [
    "ic90_corrs = pd.DataFrame({'correlation' : [], \n",
    "                           'mutation_rate' : []})\n",
    "\n",
    "ic90_data = pd.DataFrame({'log_IC90' : [],\n",
    "                          'predicted_log_IC90' : [],\n",
    "                          'mutation_rate' : []})\n",
    "max_ic90 = 50\n",
    "for n in avg_mut_rates:\n",
    "    model = fit_models[f'noisy_[0.25, 1, 4]conc_{n}muts']\n",
    "    \n",
    "    ic90s = (exact_data[['aa_substitutions', 'IC90']]\n",
    "         .assign(IC90=lambda x: x['IC90'].clip(upper=max_ic90))\n",
    "         .drop_duplicates()\n",
    "         )\n",
    "    ic90s = model.filter_variants_by_seen_muts(ic90s)\n",
    "    ic90s = model.icXX(ic90s, x=0.9, col='predicted_IC90', max_c=max_ic90)\n",
    "\n",
    "    ic90s = (\n",
    "        ic90s\n",
    "        .assign(log_IC90=lambda x: np.log10(x['IC90']),\n",
    "            predicted_log_IC90=lambda x: np.log10(x['predicted_IC90']),\n",
    "            )\n",
    "    )\n",
    "\n",
    "    corr = ic90s['log_IC90'].corr(ic90s['predicted_log_IC90'])\n",
    "    \n",
    "    ic90_corrs = pd.concat([ic90_corrs,\n",
    "                    pd.DataFrame({'correlation' : corr,\n",
    "                                  'mutation_rate' : [f'avg{n}muts']})])\n",
    "    ic90_data = pd.concat([ic90_data,\n",
    "                    pd.DataFrame({'log_IC90' : ic90s['log_IC90'],\n",
    "                                  'predicted_log_IC90' : ic90s['predicted_log_IC90'],\n",
    "                                  'mutation_rate' : [f'avg{n}muts'] * len(ic90s)})])\n",
    "    "
   ]
  },
  {
   "cell_type": "code",
   "execution_count": 17,
   "metadata": {},
   "outputs": [
    {
     "data": {
      "text/html": [
       "\n",
       "<div id=\"altair-viz-a01de622df054c22ac564cf5cb83769f\"></div>\n",
       "<script type=\"text/javascript\">\n",
       "  (function(spec, embedOpt){\n",
       "    let outputDiv = document.currentScript.previousElementSibling;\n",
       "    if (outputDiv.id !== \"altair-viz-a01de622df054c22ac564cf5cb83769f\") {\n",
       "      outputDiv = document.getElementById(\"altair-viz-a01de622df054c22ac564cf5cb83769f\");\n",
       "    }\n",
       "    const paths = {\n",
       "      \"vega\": \"https://cdn.jsdelivr.net/npm//vega@5?noext\",\n",
       "      \"vega-lib\": \"https://cdn.jsdelivr.net/npm//vega-lib?noext\",\n",
       "      \"vega-lite\": \"https://cdn.jsdelivr.net/npm//vega-lite@4.17.0?noext\",\n",
       "      \"vega-embed\": \"https://cdn.jsdelivr.net/npm//vega-embed@6?noext\",\n",
       "    };\n",
       "\n",
       "    function loadScript(lib) {\n",
       "      return new Promise(function(resolve, reject) {\n",
       "        var s = document.createElement('script');\n",
       "        s.src = paths[lib];\n",
       "        s.async = true;\n",
       "        s.onload = () => resolve(paths[lib]);\n",
       "        s.onerror = () => reject(`Error loading script: ${paths[lib]}`);\n",
       "        document.getElementsByTagName(\"head\")[0].appendChild(s);\n",
       "      });\n",
       "    }\n",
       "\n",
       "    function showError(err) {\n",
       "      outputDiv.innerHTML = `<div class=\"error\" style=\"color:red;\">${err}</div>`;\n",
       "      throw err;\n",
       "    }\n",
       "\n",
       "    function displayChart(vegaEmbed) {\n",
       "      vegaEmbed(outputDiv, spec, embedOpt)\n",
       "        .catch(err => showError(`Javascript Error: ${err.message}<br>This usually means there's a typo in your chart specification. See the javascript console for the full traceback.`));\n",
       "    }\n",
       "\n",
       "    if(typeof define === \"function\" && define.amd) {\n",
       "      requirejs.config({paths});\n",
       "      require([\"vega-embed\"], displayChart, err => showError(`Error loading script: ${err.message}`));\n",
       "    } else if (typeof vegaEmbed === \"function\") {\n",
       "      displayChart(vegaEmbed);\n",
       "    } else {\n",
       "      loadScript(\"vega\")\n",
       "        .then(() => loadScript(\"vega-lite\"))\n",
       "        .then(() => loadScript(\"vega-embed\"))\n",
       "        .catch(showError)\n",
       "        .then(() => displayChart(vegaEmbed));\n",
       "    }\n",
       "  })({\"config\": {\"view\": {\"continuousWidth\": 400, \"continuousHeight\": 300}}, \"data\": {\"name\": \"data-67bb067a9ba59a560e878f29256370ed\"}, \"mark\": {\"type\": \"circle\", \"size\": 125}, \"encoding\": {\"tooltip\": [{\"field\": \"mutation_rate\", \"type\": \"nominal\"}, {\"field\": \"correlation\", \"type\": \"quantitative\"}], \"x\": {\"field\": \"mutation_rate\", \"type\": \"ordinal\"}, \"y\": {\"field\": \"correlation\", \"type\": \"quantitative\"}}, \"height\": 200, \"title\": \"predicted vs. true IC90\", \"width\": 200, \"$schema\": \"https://vega.github.io/schema/vega-lite/v4.17.0.json\", \"datasets\": {\"data-67bb067a9ba59a560e878f29256370ed\": [{\"correlation\": 0.952841074428871, \"mutation_rate\": \"avg1muts\"}, {\"correlation\": 0.9919761813058768, \"mutation_rate\": \"avg2muts\"}, {\"correlation\": 0.9966442796637273, \"mutation_rate\": \"avg3muts\"}, {\"correlation\": 0.9985309120166034, \"mutation_rate\": \"avg4muts\"}]}}, {\"mode\": \"vega-lite\"});\n",
       "</script>"
      ],
      "text/plain": [
       "alt.Chart(...)"
      ]
     },
     "execution_count": 17,
     "metadata": {},
     "output_type": "execute_result"
    }
   ],
   "source": [
    "#NBVAL_IGNORE_OUTPUT\n",
    "alt.Chart(ic90_corrs).mark_circle(size=125).encode(\n",
    "    x='mutation_rate:O',\n",
    "    y='correlation:Q',\n",
    "    tooltip = ['mutation_rate', 'correlation']\n",
    ").properties(width=200, height=200, title='predicted vs. true IC90')"
   ]
  },
  {
   "cell_type": "markdown",
   "metadata": {},
   "source": [
    "## Summary"
   ]
  },
  {
   "cell_type": "markdown",
   "metadata": {},
   "source": [
    "An average of at least 2 mutations per variant is needed to infer the beta coefficients for all epitopes targeted by polyclonal antibodies. Our simulation experiments reveal that when there is an average of 1 mutation per variant, the correlation between predicted and true beta coefficients is highest for the most immunodominant epitope 2 and lowest for the most subdominant epitope 1. This is expected, as we should not observe escape for variants with a single mutation in a subdominant epitope. "
   ]
  }
 ],
 "metadata": {
  "kernelspec": {
   "display_name": "Python 3 (ipykernel)",
   "language": "python",
   "name": "python3"
  },
  "language_info": {
   "codemirror_mode": {
    "name": "ipython",
    "version": 3
   },
   "file_extension": ".py",
   "mimetype": "text/x-python",
   "name": "python",
   "nbconvert_exporter": "python",
   "pygments_lexer": "ipython3",
   "version": "3.9.7"
  }
 },
 "nbformat": 4,
 "nbformat_minor": 4
}
