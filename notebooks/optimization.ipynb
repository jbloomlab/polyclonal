{
 "cells": [
  {
   "cell_type": "markdown",
   "id": "eee2a908-c776-4836-9acf-81b001a1ab69",
   "metadata": {},
   "source": [
    "# Details on fitting\n",
    "Here we describe how the `polyclonal` package actually fits the models.\n",
    "\n",
    "The basic idea is to minimize the difference between the predicted and measured variant-level escape probabilities, $p_v\\left(c\\right)$, using a loss function that is not overly sensitive to outliers. In addition, there is regularization to encourage parameters to behave under biologically motivated constraints. \n",
    "\n",
    "## Implementation\n",
    "The fitting is implemented in the `Polyclonal.fit` function, which allows adjustment of the weights for the regularization.\n",
    "By default the optimization uses the gradient-based L-BFGS-B method implemented in [scipy.optimize.minimize](https://docs.scipy.org/doc/scipy/reference/generated/scipy.optimize.minimize.html) and simply continues optimization until the minimization converges.\n",
    "\n",
    "Some key details about the fitting are as follows:\n",
    "\n",
    " 1. By default, the fitting first fits a \"site-level\" model in which all mutations are lumped together so there are just two characters (wildtype and mutant). The escape values from this initial site-level fitting are then used to initialize the full mutation-level escape values which are then further optimized. The idea is that first fitting a simpler model with less parameters helps get the parameters into a \"reasonable\" space before full model optimization. This option is implemented via the `fit_site_level_first` parameter to `Polyclonal.fit`, and it is recommended to use this approach as testing indicates it helps.\n",
    " \n",
    " 2. By default, if you are using free-parameter Hill coefficients or non-neutralized fractions, a model with those fixed is fit first via `fit_fixed_first`. It is fit with stronger regulation on the activities (via `fit_fixed_first_reg_activity_weight`) to keep epitopes from dropping too low in activity to be picked up in subsequent all-parameter optimization. When this model is being used, the site model is fit with this fixed model, not the later full model.\n",
    " \n",
    " 3. By default, if there are multiple variants with the same mutations, they are by default treated as independent measurements that are fit. This can be changed to \"collapse\" them to a single variant that is then given a weight proportional to the number of constituent variants that is used when calculating the loss. This option is implemented by default via `collapse_identical_variants` during the initialization of a `Polyclonal` object. It speeds up fitting without (usually) substantially changing the fitting results. However, do **not** collaps if you are using bootstrapping.\n",
    " \n",
    "The `Polyclonal.fit` also allows you to adjust the weights on the regularizations.\n",
    "The default should be sensible, but you may want to try adjusting them about.\n",
    "You can also adjust the $\\delta$ values for the [Pseudo-Huber](https://en.wikipedia.org/wiki/Huber_loss#Pseudo-Huber_loss_function) loss / regularization terms (see below), although the defaults are probably pretty good for these as they are chosen to be L1-like on most the range that values are expected to span.\n",
    "\n",
    "## Loss function\n",
    "\n",
    "We use a scaled [Pseudo-Huber](https://en.wikipedia.org/wiki/Huber_loss#Pseudo-Huber_loss_function) loss function on the difference between the predicted and measure escape probabilities.\n",
    "Note that the Pseudo-Huber function is defined as $\\hat{h}_{\\delta}\\left(x\\right) = \\delta^2 \\left(\\sqrt{1 + \\left(x/\\delta\\right)^2} - 1\\right)$ where $\\delta$ is a parameter that indicates when the loss transitions from being quadratic (L2-like) to linear (L1-like) in $a$.\n",
    "Note that we will actually use a scaled Pseudo-Huber function of $h_{\\delta}\\left(x\\right) = \\hat{h}_{\\delta}\\left(x\\right)/\\delta$ so the slope of the loss is one in the linear range.\n",
    "The rationale for a Pseudo-Huber loss is to be robust to outliers (L1-like for large residuals).\n",
    "\n",
    "Specifically, let $r_v\\left(c\\right) = p_v\\left(c\\right) - y_{v,c}$ be the residual for the predicted of the escape probability of variant $v$ at concentration $c$, where we are using $y_{v,c}$ to denote the measured value.\n",
    "Then the loss for variant $v$ at concentration $c$ is $L_{\\delta_{\\rm{loss}}}\\left(r_v\\left(c\\right)\\right) = h_{\\delta_{\\rm{loss}}}\\left(r_v\\left(c\\right)\\right)$, and the overall loss is:\n",
    "$$ L = \\sum_{v,c} h_{\\delta_{\\rm{loss}}}\\left(r_v\\left(c\\right)\\right).$$"
   ]
  },
  {
   "cell_type": "markdown",
   "id": "14b03b88-b067-4c15-aafa-0b35b52a5ff1",
   "metadata": {},
   "source": [
    "## Regularization\n",
    "We also regularize the mutation escape values ($\\beta_{m,e}$) and the epitope activities ($a_{\\rm{wt}, e}$) based on the notions:\n",
    "\n",
    " 1. Most mutations should not mediate escape,\n",
    " 2. When a site is involved in escape for a given epitope, most mutations at a site will have similar-ish effects.\n",
    " 3. Epitopes should be mostly unique: a site involved in escape should usually only mediate escape from a single epitope.\n",
    " 4. Epitopes should be relatively spatially compact (requires structural information).\n",
    " 5. Epitope activities should be small (or negative) except when clear evidence to the contrary."
   ]
  },
  {
   "cell_type": "markdown",
   "id": "ecea750e-7010-4615-af90-10c57823b263",
   "metadata": {},
   "source": [
    "### Regularization of escape values \n",
    "We regularize the escape values $\\beta_{m,e}$ using a simple Pseudo-Huber function, so that\n",
    "$$R_{\\rm{escape}} = \\lambda_{\\rm{escape}} \\sum_{m,e} h_{\\delta_{\\rm{escape}}}\\left(\\beta_{m,e}\\right)$$\n",
    "where $\\lambda_{\\rm{escape}}$ is the strength of the regularization and $\\delta_{\\rm{escape}}$ is the Psdeuo-Huber delta parameter."
   ]
  },
  {
   "cell_type": "markdown",
   "id": "635cf7a7-b76b-4492-bb67-be2f7f355f51",
   "metadata": {},
   "source": [
    "### Regularization of spread of escape values at each site and epitope\n",
    "We regularize the variance of the escape values at each site, so that\n",
    "$$R_{\\rm{spread}} = \\lambda_{\\rm{spread}} \\sum_{e,i} \\frac{1}{M_i}\\sum_{m \\in i}\\left(\\beta_{m,e} - \\frac{1}{M_i} \\sum_{m' \\in i} \\beta_{m',e}\\right)^2$$\n",
    "where $i$ ranges over all sites, $M_i$ is the number of mutations at site $i$, and $m \\in i$ indicates all mutations at site $i$."
   ]
  },
  {
   "cell_type": "markdown",
   "id": "5c007c88-f11e-490b-8df3-1ff9ed4f4c15",
   "metadata": {},
   "source": [
    "### Regularization of spatial spread of epitopes\n",
    "To regularize the spatial spread of epitopes, we first define a differentiable measure of the average absolute value of escape at a site for an epitope $e$ as\n",
    "$$\n",
    "s_{r,e} = \\sqrt{\\frac{1}{M_r} \\sum_{m \\in r} \\beta_{m,e}^2 + \\epsilon} - \\sqrt{\\epsilon}\n",
    "$$\n",
    "where $\\epsilon$ is a small number and $m$ ranges over all mutations at site $r$.\n",
    "\n",
    "We then further assume that we have an experimental measure of $d_{r,r'}$ of the distance between each pair of residues $r$ and $r'$.\n",
    "\n",
    "The regularization term is then:\n",
    "$$\n",
    "R_{\\rm{spatial}} = \\frac{1}{2}\\sum_e \\sum_r \\sum_{r'} \\left(\\lambda_{\\rm{spatial},1} d_{r,r'} + \\lambda_{\\rm{spatial},2} d_{r,r'}^2\\right)s_{r,e} s_{r',e}\n",
    "$$\n",
    "Note how this term has weights enabling regularization on both the distances and squared distances.\n",
    "The factor of $\\frac{1}{2}$ is to avoid double counting pairs, noting that the diagonal elements are always zero since the self distances are zero."
   ]
  },
  {
   "cell_type": "markdown",
   "id": "c9db9477-92ba-49df-9acd-eb3e5a499d84",
   "metadata": {},
   "source": [
    "### Regularization of epitope uniqueness\n",
    "To regularize to ensure epitopes contain largely unique sites, we define the following term which uses the differentiable average absolute value of escape at a site for an epitope $s_{r,e}$ defined above:\n",
    "$$\n",
    "R_{\\rm{uniqueness}} = \\frac{1}{2}\\lambda_{\\rm{uniqueness}} \\sum_r \\sum_e \\sum_{e' \\ne e} s_{r,e} s_{r,e'}\n",
    "$$\n",
    "where $e$ and $e'$ range over all pairs of epitopes, and $r$ ranges over all sites."
   ]
  },
  {
   "cell_type": "markdown",
   "id": "26663350-97d0-49c6-8edb-72015dac6e46",
   "metadata": {},
   "source": [
    "### Regularization of epitope uniqueness$^2$\n",
    "This is a second regularization to ensure epitopes contain largely unique sites, but this one operates on the **squared** product of escape at a site, and so will more strongly penalize very large escape at same site, but less penalize weak shared constraint:\n",
    "$$ R_{\\rm{uniqueness}^2} = \\lambda_{\\rm{uniqueness}^2} \\sum_{i} \\sum_{j > i} \\sum_{k} \\left(\\sum_{m' \\in S_{k}} \\beta_{m',i}^2\\right)\\left(\\sum_{m' \\in S_{k}} \\beta_{m',j}^2\\right)$$\n",
    "where $i$, $j$ range over all epitopes $E$, $k$ is the site index, and $m' \\in S_{k}$ represents all mutations at site $k$."
   ]
  },
  {
   "cell_type": "markdown",
   "id": "44aa1216-b212-4209-beda-714c1feae8ec",
   "metadata": {},
   "source": [
    "### Regularization of epitope activities\n",
    "We regularize the epitope activities $a_{\\rm{wt}, e}$ to be close to zero using Pseudo-Huber function.\n",
    "Note that the activities are confounded with the concentration scale, so for this regularization we first compute the geometric mean concentration $c_{GM}$ and incorporate that so the strength of the regularization is about the same regardless of the concentrations.\n",
    "Specifically, the regularization is:\n",
    "$$\n",
    "R_{\\rm{activity}} = \\lambda_{\\rm{activity}} h_{\\delta_{\\rm{activity}}}\\left(a_{\\rm{wt}, e} + \\log c_{GM} \\right)\n",
    "$$\n",
    "where $\\lambda_{\\rm{activity}}$ is the strength of the regularization and $\\delta_{\\rm{activity}}$ is the Psdeuo-Huber delta parameter."
   ]
  },
  {
   "cell_type": "markdown",
   "id": "250a0349-831d-470f-af41-6230d321062d",
   "metadata": {},
   "source": [
    "### Regularization of Hill coefficients\n",
    "We regularize the Hill coefficients $n_e$ to be close to one using the regularization, using a penalty that essentially operates on the log of $n_e$ so the values are bounded by 0 and infinity:\n",
    "$$\n",
    "R_{\\rm{Hill coefficient}}\n",
    "=\n",
    "\\begin{cases}\n",
    "\\lambda_{\\rm{Hill coefficient}} n_e^2 & \\rm{if\\;} n_e \\ge 1 \\\\\n",
    "\\lambda_{\\rm{Hill coefficient}} \\left(1 - 1/n_e\\right)^2 & \\rm{if\\;} n_e < 1 \\\\\n",
    "\\end{cases}\n",
    "$$\n",
    "where $\\lambda_{\\rm{Hill coefficient}}$ is the strength of the regularization.\n",
    "Note that it is important that the Hill coefficients be fairly strongly normalized.\n",
    "For instance, a value of $\\lambda_{\\rm{Hill coefficient}} = 50$ creates a penalty of 200 when $n_e = 1/3$ or $n_e = 3$, a penalty of 50 when $n_e = 1/2$ or $n_e = 2$, and a penalty of 12.5 when $n_e = 1.5$ or $n_e = 1 / 1.5$.\n",
    "Note also that the minimization bounds $0 < n_e$."
   ]
  },
  {
   "cell_type": "markdown",
   "id": "fe23107a-a7d0-40a9-8162-617cdacdb277",
   "metadata": {},
   "source": [
    "### Regularization of non-neutralizable fraction\n",
    "We regularize the non-neutralizable fraction $t_e$ to be close to zero, and also during the minimization set a bound so it cannot go below zero or above one.\n",
    "The regularization is:\n",
    "$$\n",
    "R_{\\rm{non-neutralized-frac}}\n",
    "=\n",
    "\\lambda_{\\rm{non-neutralized-frac}} t_e^2\n",
    "$$\n",
    "where $\\lambda_{\\rm{non-neutralized-frac}}$ is the strength of the regularization.\n",
    "Note that the regularization should be fairly strong.\n",
    "For instance, value of $\\lambda_{\\rm{non-neutralized-frac}} = 1000$ creates a penalty of 10 when $t_e = 0.1$ and a penalty of 62.5 when $t_e = 0.25$.\n",
    "Note also that the minimization bounds $0.5 \\ge t_e \\ge 0$."
   ]
  },
  {
   "cell_type": "markdown",
   "id": "bd6e0904-7d92-4996-a588-f957192311e9",
   "metadata": {},
   "source": [
    "## Gradients used for optimization\n",
    "Here are the formulas used to calculate the gradients in the optimization.\n",
    "\n",
    "### Gradient of loss function\n",
    "For the loss function, the gradients are as follows:\n",
    "\n",
    "$$\n",
    "\\frac{\\partial L}{\\partial \\beta_{m,e}} =\n",
    "\\sum_{v,c}\n",
    "\\frac{r_v\\left(c\\right)}{h_{\\delta}\\left(r_v\\left(c\\right)\\right) + \\delta}\n",
    "p_v\\left(c\\right) \\frac{n_e}{1 - t_e} \\frac{\\left[U_e\\left(v, c\\right) - t_e\\right]\\left[1 - U_e\\left(v, c\\right)\\right]}{U_e\\left(v, c\\right)} b\\left(v\\right)_m\n",
    "$$\n",
    "\n",
    "$$\n",
    "\\frac{\\partial L}{\\partial a_{\\rm{wt},e}} =\n",
    "-\\sum_{v,c}\n",
    "\\frac{r_v\\left(c\\right)}{h_{\\delta}\\left(r_v\\left(c\\right)\\right) + \\delta}\n",
    "p_v\\left(c\\right) \\frac{n_e}{1 - t_e} \\frac{\\left[U_e\\left(v, c\\right) - t_e\\right]\\left[1 - U_e\\left(v, c\\right)\\right]}{U_e\\left(v, c\\right)}\n",
    "$$\n",
    "\n",
    "$$\n",
    "\\frac{\\partial L}{\\partial n_e}\n",
    "=\n",
    "\\sum_{v,c}\n",
    "\\frac{r_v\\left(c\\right)}{h_{\\delta}\\left(r_v\\left(c\\right)\\right) + \\delta}\n",
    "p_v\\left(c\\right) \\frac{\\left(\\phi_e\\left(v\\right) - \\ln c\\right)}{\\left(1 - t_e\\right)}\n",
    "\\frac{\\left[1 - U_e\\left(v, c\\right)\\right]\\left[U_e\\left(v, c\\right) - t_e\\right]}{U_e\\left(v, c\\right)}.\n",
    "$$\n",
    "\n",
    "$$\n",
    "\\frac{\\partial L}{\\partial t_e} =\n",
    "\\frac{r_v\\left(c\\right)}{h_{\\delta}\\left(r_v\\left(c\\right)\\right) + \\delta}\n",
    "\\left(\\frac{p_v\\left(c\\right)}{U_e\\left(v, c\\right)}\\right)\n",
    "\\frac{1 - U_e\\left(v, c\\right)}{1 - t_e}\n",
    "$$\n",
    "\n",
    "See below for how the sub-components that lead to these were calculated."
   ]
  },
  {
   "cell_type": "markdown",
   "id": "8027e394-8ea5-4db9-8f92-a4a52d74313d",
   "metadata": {},
   "source": [
    "#### Calculating $\\frac{\\partial \\left[h_{\\delta}\\left(r\\right)\\right]}{\\partial r}$\n",
    "\n",
    "We have\n",
    "$$ \\frac{\\partial \\left[h_{\\delta}\\left(r\\right)\\right]}{\\partial r}\n",
    "= \\delta \\frac{\\partial \\left(\\sqrt{1 + \\left(r/\\delta\\right)^2} - 1\\right)}{\\partial r}\n",
    "= \\frac{\\delta}{2 \\sqrt{1 + \\left(r/\\delta\\right)^2}} \\frac{2r}{\\delta^2}\n",
    "= \\frac{r}{h_{\\delta}\\left(r\\right) + \\delta}\n",
    "$$"
   ]
  },
  {
   "cell_type": "markdown",
   "id": "a540a53a-ea1d-47f0-bdb0-9ed8221c0ad8",
   "metadata": {},
   "source": [
    "#### Calculating $\\frac{\\partial p_v\\left(c\\right)}{\\partial \\beta_{m,e}}$\n",
    "\n",
    "First, note \n",
    "\n",
    "$$\n",
    "\\frac{\\partial p_v\\left(c\\right)}{\\partial \\beta_{m,e}} = \\frac{\\partial U_e\\left(v, c\\right)}{\\partial \\beta_{m,e}} \\frac{p_v\\left(c\\right)}{U_e\\left(v, c\\right)}.\n",
    "$$\n",
    "\n",
    "\n",
    "Next, note\n",
    "$$\n",
    "\\frac{\\partial U_e\\left(v, c\\right)}{\\partial \\beta_{m,e}} = \\frac{\\partial \\phi_e\\left(v\\right)}{\\partial \\beta_{m,e}}\n",
    "\\frac{n \\left(1 - t_e\\right) \\left[c \\exp\\left(-\\phi_e\\left(v\\right)\\right)\\right]^{n_e}}{\\left[1 + \\left[c \\exp\\left(-\\phi_e\\left(v\\right)\\right)\\right]^{n_e}\\right]^2}\n",
    "=\n",
    "\\frac{\\partial \\phi_e\\left(v\\right)}{\\partial \\beta_{m,e}} \\frac{n_e}{1 - t_e}\\left[U_e\\left(v, c\\right) - t_e\\right] \\left[1 - U_e\\left(v, c\\right)\\right]\n",
    "$$\n",
    "where the last step uses the simplification [here](https://math.stackexchange.com/a/1225116).\n",
    "\n",
    "Finally, note\n",
    "$$\\frac{\\partial \\phi_e\\left(v\\right)}{\\partial \\beta_{m,e}} = b\\left(v\\right)_m.$$\n",
    "\n",
    "Putting it all together, we have:\n",
    "$$\n",
    "\\frac{\\partial p_v\\left(c\\right)}{\\partial \\beta_{m,e}}\n",
    "=\n",
    "p_v\\left(c\\right) \\frac{n_e}{1 - t_e} \\frac{\\left[U_e\\left(v, c\\right) - t_e\\right]\\left[1 - U_e\\left(v, c\\right)\\right]}{U_e\\left(v, c\\right)} b\\left(v\\right)_m.\n",
    "$$"
   ]
  },
  {
   "cell_type": "markdown",
   "id": "08a4f494-0764-44e8-ab25-753b5e9c7ac6",
   "metadata": {},
   "source": [
    "#### Calculating $\\frac{\\partial p_v\\left(c\\right)}{\\partial a_{\\rm{wt},e}}$\n",
    "\n",
    "The only difference from above is the sign, so:\n",
    "$$\n",
    "\\frac{\\partial p_v\\left(c\\right)}{\\partial a_{\\rm{wt},e}}\n",
    "=\n",
    "-p_v\\left(c\\right) \\frac{n_e}{1 - t_e} \\frac{\\left[U_e\\left(v, c\\right) - t_e\\right]\\left[1 - U_e\\left(v, c\\right)\\right]}{U_e\\left(v, c\\right)}.\n",
    "$$"
   ]
  },
  {
   "cell_type": "markdown",
   "id": "dc6cfe1f-6f02-4977-9aef-d5bc6576277b",
   "metadata": {},
   "source": [
    "#### Calculating $\\frac{\\partial U_e\\left(v, c\\right)}{\\partial n_e}$\n",
    "\n",
    "$$\n",
    "\\frac{\\partial U_e\\left(v, c\\right)}{\\partial n_e}\n",
    "=\n",
    "\\frac{\\left(\\phi_e\\left(v\\right) - \\ln c\\right)}{\\left(1 - t_e\\right)} \\left[1 - U_e\\left(v, c\\right)\\right]\\left[U_e\\left(v, c\\right) - t_e\\right].\n",
    "$$"
   ]
  },
  {
   "cell_type": "markdown",
   "id": "d64ef479-cfd6-40d4-99bd-785d5f420665",
   "metadata": {},
   "source": [
    "#### Calculating $\\frac{\\partial U_e\\left(v, c\\right)}{\\partial t_e}$\n",
    "\n",
    "$$\n",
    "\\frac{\\partial U_e\\left(v, c\\right)}{\\partial t_e}\n",
    "=\n",
    "\\frac{1 - U_e\\left(v, c\\right)}{1 - t_e}.\n",
    "$$"
   ]
  },
  {
   "cell_type": "markdown",
   "id": "4de0e16c-de3b-499e-8171-329804414755",
   "metadata": {},
   "source": [
    "### Gradients of regularizations\n",
    "\n",
    "#### Calculating $\\frac{\\partial R_{\\rm{escape}}}{\\partial \\beta_{m,e}}$\n",
    "\n",
    "$$\\frac{\\partial R_{\\rm{escape}}}{\\partial \\beta_{m,e}} = \\frac{\\lambda_{\\rm{escape}}\\beta_{m,e}}{h_{\\delta_{\\rm{escape}}}\\left(\\beta_{m,e}\\right) + \\delta_{\\rm{escape}}} $$"
   ]
  },
  {
   "cell_type": "markdown",
   "id": "99c9e3ab-505d-4fc3-9f66-11e064e031f7",
   "metadata": {
    "tags": []
   },
   "source": [
    "#### Calculating $\\frac{\\partial R_{\\rm{spread}}}{\\partial \\beta_{m,e}}$\n",
    "$$\\frac{\\partial R_{\\rm{spread}}}{\\partial \\beta_{m,e}} = \\frac{2\\lambda_{\\rm{spread}}}{M_i} \\left(\\beta_{m,e} - \\frac{1}{M_i} \\sum_{m' \\in i} \\beta_{m',e}\\right)$$"
   ]
  },
  {
   "cell_type": "markdown",
   "id": "a200cfb3-33dd-403f-9dd0-3ed1b50120bb",
   "metadata": {},
   "source": [
    "#### Calculating $\\frac{\\partial s_{r,e}}{\\partial \\beta_{m,e}}$\n",
    "$$\n",
    "\\frac{\\partial s_{r,e}}{\\partial \\beta_{m,e'}} =\n",
    "\\begin{cases}\n",
    "\\frac{\\beta_{m,e'}}{\\sqrt{M_r \\sum_{m' \\in r} \\beta_{m',e'}^2 + \\epsilon}} \n",
    "& \\rm{if\\,} m \\in r \\rm{\\, and \\,} e = e'\\\\\n",
    "0 & \\rm{otherwise} \\\\\n",
    "\\end{cases}\n",
    "$$"
   ]
  },
  {
   "cell_type": "markdown",
   "id": "459c50e8-215d-4071-a9cd-231afe1eca59",
   "metadata": {},
   "source": [
    "#### Calculating $\\frac{\\partial R_{\\rm{spatial}}}{\\partial \\beta_{m,e}}$\n",
    "$$\n",
    "\\frac{R_{\\rm{spatial}}}{\\partial \\beta_{m,e}}\n",
    "=\n",
    "\\frac{1}{2}\\sum_r \\sum_{r'} \\left(\\lambda_{\\rm{spatial},1} d_{r,r'} + \\lambda_{\\rm{spatial},2} d_{r,r'}^2\\right)\n",
    "\\left(\n",
    "\\frac{s_{r,e}}{\\partial \\beta_{m,e}} s_{r',e} + s_{r,e} \\frac{\\partial s_{r',e}}{\\partial \\beta_{m,e}}\n",
    "\\right)\n",
    "=\n",
    "\\sum_r\n",
    "\\left(\\lambda_{\\rm{spatial},1} d_{r,r_m} + \\lambda_{\\rm{spatial},2} d_{r,r_m}^2\\right) s_{r,e} \\frac{\\partial s_{r_m,e}}{\\partial \\beta_{m,e}}\n",
    "$$\n",
    "where $r_m$ is the site of mutation $m$."
   ]
  },
  {
   "cell_type": "markdown",
   "id": "b0707fe5-eb16-4c9a-8c40-2308509362a8",
   "metadata": {},
   "source": [
    "#### Calculating $\\frac{\\partial R_{\\rm{uniqueness}}}{\\partial \\beta_{m,e}}$\n",
    "$$\n",
    "\\frac{\\partial R_{\\rm{uniqueness}}}{\\partial \\beta_{m,e}}\n",
    "=\n",
    "\\frac{1}{2}\\lambda_{\\rm{uniqueness}} \\sum_r \\sum_{e'} \\sum_{e'' \\ne e'}\n",
    "\\left(\n",
    "\\frac{\\partial s_{r,e'}}{\\partial \\beta_{m,e}} s_{r,e''} + s_{r,e'} \\frac{\\partial s_{r,e''}}{\\partial \\beta_{m,e}}\n",
    "\\right)\n",
    "=\n",
    "\\lambda_{\\rm{uniqueness}} \\sum_{e' \\ne e}\n",
    "\\frac{\\partial s_{r_m,e}}{\\partial \\beta_{m,e}} s_{r_m,e'}\n",
    "$$"
   ]
  },
  {
   "cell_type": "markdown",
   "id": "7a233635-cd39-4b6b-8655-2845ba63aa7e",
   "metadata": {},
   "source": [
    "#### Calculating $\\frac{\\partial R_{\\rm{uniqueness}^2}}{\\partial \\beta_{m,e}}$\n",
    "$$ \\frac{\\partial{R_{\\rm{uniqueness}^2}}}{\\partial{\\beta_{m,e}}} = 2\\lambda_{\\rm{uniqueness}^2} \\beta_{m,e} \\sum_{j \\neq e} \\sum_{m' \\in S_k}\\left(\\beta_{m',j}^2\\right)$$"
   ]
  },
  {
   "cell_type": "markdown",
   "id": "4faa44e7-c8e6-4016-8ffc-cacd523da8c0",
   "metadata": {},
   "source": [
    "#### Calculating $\\frac{\\partial R_{\\rm{activity}}}{\\partial a_{\\rm{wt}, e}}$\n",
    "\n",
    "$$\\frac{\\partial R_{\\rm{activity}}}{\\partial a_{\\rm{wt}, e}} =\n",
    "\\frac{\\lambda_{\\rm{escape}}\\left(a_{\\rm{wt}, e} + \\log c_{GM}\\right)}{h_{\\delta_{\\rm{activity}}}\\left(a_{\\rm{wt}, e} + \\log c_{GM}\\right) + \\delta_{\\rm{activity}}} \n",
    "$$"
   ]
  },
  {
   "cell_type": "markdown",
   "id": "8f855dae-268e-462d-9b15-0b5e87147b3d",
   "metadata": {},
   "source": [
    "#### Calculating $\\frac{\\partial R_{\\rm{Hill coefficient}}}{\\partial n_e}$\n",
    "$$\n",
    "\\frac{\\partial R_{\\rm{Hill coefficient}}}{\\partial n_e}\n",
    "=\n",
    "\\begin{cases}\n",
    "2\\left(x - 1\\right) & \\rm{if\\;} x \\ge 1 \\\\\n",
    "2 / x^2 - 2 / x^3 & \\rm{if\\;} x < 1 \\\\\n",
    "\\end{cases}\n",
    "$$"
   ]
  },
  {
   "cell_type": "markdown",
   "id": "61aead7b-e6eb-4cb1-af77-49aee18f2c4a",
   "metadata": {},
   "source": [
    "#### Calculating $\\frac{\\partial R_{\\rm{non-neutralized-frac}}}{\\partial t_e}$\n",
    "$$\n",
    "\\frac{\\partial R_{\\rm{non-neutralized-frac}}}{\\partial t_e}\n",
    "=\n",
    "2 \\lambda_{\\rm{non-neutralized-frac}} t_e\n",
    "$$"
   ]
  },
  {
   "cell_type": "markdown",
   "id": "55966e74-705d-4073-a84a-dd559cd68a17",
   "metadata": {},
   "source": [
    "## Bootstrapping\n",
    "For the bootstrapping implemented by `PolyclonalBootstrap`, we start with a single pre-fit model to all the data.\n",
    "We then draw bootstrap replicates of the data used to fit that model, by default sampling the same variants at each concentration (see `sample_by` option of `PolyclonalBootstrap`).\n",
    "We then fit each of these bootstrapped models starting from the initial values from the pre-fit model on all of the data.\n",
    "Finally, the fit parameters or predictions from the models are summarized.\n",
    "Note that mutations may not be present in some bootstrap replicates if they are only in a few variants, and this can be assessed by looking at the `frac_boostrap_replicates` column in the output from `PolyclonalBootstrap`."
   ]
  },
  {
   "cell_type": "code",
   "execution_count": null,
   "id": "d4b55a9b-ee9c-4406-840d-09327a5e76a1",
   "metadata": {},
   "outputs": [],
   "source": []
  }
 ],
 "metadata": {
  "kernelspec": {
   "display_name": "Python 3 (ipykernel)",
   "language": "python",
   "name": "python3"
  },
  "language_info": {
   "codemirror_mode": {
    "name": "ipython",
    "version": 3
   },
   "file_extension": ".py",
   "mimetype": "text/x-python",
   "name": "python",
   "nbconvert_exporter": "python",
   "pygments_lexer": "ipython3",
   "version": "3.11.0"
  }
 },
 "nbformat": 4,
 "nbformat_minor": 5
}
