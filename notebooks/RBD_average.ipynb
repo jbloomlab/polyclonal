{
 "cells": [
  {
   "cell_type": "markdown",
   "id": "c36de04a-7941-4b08-894f-1544f56eba13",
   "metadata": {},
   "source": [
    "# Averaging models\n",
    "Probably the best way to ensure robust inferences and estimate error isn't to use bootstrapping of a single model, but rather to actuall have multiple experimental replicates, ideally on different libraries.\n",
    "\n",
    "Here we describe how to average model fits across libraries and/or replicates."
   ]
  },
  {
   "cell_type": "markdown",
   "id": "ae47a309-12f1-4348-81d4-4f80f73606c6",
   "metadata": {},
   "source": [
    "## Split data into replicates\n",
    "We will use our data for the RBD as an earlier examples, but split it into several libraries / replicates.\n",
    "\n",
    "Specifically, we will fit two different libraries: `avg3muts` and `avg4muts`, which have different barcodes and also different mutation rates (although of course in real life you might sometimes want to average results from different libraries with the same mutation rates).\n",
    "We will also simulate having two replicates for each library just by drawing bootstrap samples from each library and then dropping duplicates in samples:"
   ]
  },
  {
   "cell_type": "code",
   "execution_count": 1,
   "id": "8b085a97-b5d8-43dd-a904-e10bb5d5e7be",
   "metadata": {
    "execution": {
     "iopub.execute_input": "2022-07-16T14:10:01.780979Z",
     "iopub.status.busy": "2022-07-16T14:10:01.780691Z",
     "iopub.status.idle": "2022-07-16T14:10:04.453126Z",
     "shell.execute_reply": "2022-07-16T14:10:04.452297Z",
     "shell.execute_reply.started": "2022-07-16T14:10:01.780903Z"
    },
    "tags": []
   },
   "outputs": [],
   "source": [
    "import pandas as pd\n",
    "\n",
    "import polyclonal.polyclonal\n",
    "import polyclonal.polyclonal_collection\n",
    "\n",
    "\n",
    "# read data\n",
    "all_data = pd.read_csv(\"RBD_variants_escape_noisy.csv\", na_filter=None)\n",
    "\n",
    "# split by library and replicates\n",
    "libraries = [\"avg3muts\", \"avg4muts\"]  # the two libraries to use\n",
    "concentrations = [1, 4]  # use juste these two concentrations\n",
    "n_replicates = 2  # number of replicates per library\n",
    "\n",
    "data_by_replicate = {\n",
    "    (library, replicate + 1): polyclonal.polyclonal_collection.create_bootstrap_sample(\n",
    "        all_data.query(\"library == @library\").query(\"concentration in @concentrations\"),\n",
    "        seed=replicate + 1,\n",
    "    ).drop_duplicates()\n",
    "    for library in libraries\n",
    "    for replicate in range(n_replicates)\n",
    "}"
   ]
  },
  {
   "cell_type": "markdown",
   "id": "d2dcddd6-723e-4fac-8e6f-bc57b7c0d955",
   "metadata": {},
   "source": [
    "## Fit models to each replicate\n",
    "We now fit a `Polyclonal` model to each replicate using 3 epitopes.\n",
    "We arrange the models in a data frame:"
   ]
  },
  {
   "cell_type": "code",
   "execution_count": 2,
   "id": "210eda7c-de7f-4442-8c1c-b364656a2259",
   "metadata": {
    "execution": {
     "iopub.execute_input": "2022-07-16T14:10:04.457259Z",
     "iopub.status.busy": "2022-07-16T14:10:04.457024Z",
     "iopub.status.idle": "2022-07-16T14:13:17.218471Z",
     "shell.execute_reply": "2022-07-16T14:13:17.217184Z",
     "shell.execute_reply.started": "2022-07-16T14:10:04.457238Z"
    },
    "tags": []
   },
   "outputs": [],
   "source": [
    "# first create a data frame with all the models\n",
    "models_by_replicate = {}\n",
    "for (library, replicate), data in data_by_replicate.items():\n",
    "    model = polyclonal.Polyclonal(data_to_fit=data, n_epitopes=3)\n",
    "    models_by_replicate[(library, replicate)] = model\n",
    "models_df = (\n",
    "    pd.Series(models_by_replicate, name=\"model\")\n",
    "    .rename_axis([\"library\", \"replicate\"])\n",
    "    .reset_index()\n",
    ")\n",
    "\n",
    "# now fit the models\n",
    "n_fit, n_failed, models_df[\"model\"] = polyclonal.polyclonal_collection.fit_models(\n",
    "    models_df[\"model\"],\n",
    "    n_threads=2,\n",
    ")"
   ]
  },
  {
   "cell_type": "markdown",
   "id": "31049cc0-0b3d-440b-a3f9-0f627a9fb3ba",
   "metadata": {},
   "source": [
    "Note how the models are arranged in a data frame:"
   ]
  },
  {
   "cell_type": "code",
   "execution_count": 3,
   "id": "72c38e26-fb9d-4b2d-b646-a191571aac43",
   "metadata": {
    "execution": {
     "iopub.execute_input": "2022-07-16T14:13:17.230577Z",
     "iopub.status.busy": "2022-07-16T14:13:17.229891Z",
     "iopub.status.idle": "2022-07-16T14:13:17.254496Z",
     "shell.execute_reply": "2022-07-16T14:13:17.253688Z",
     "shell.execute_reply.started": "2022-07-16T14:13:17.230510Z"
    },
    "tags": []
   },
   "outputs": [
    {
     "data": {
      "text/html": [
       "<div>\n",
       "<style scoped>\n",
       "    .dataframe tbody tr th:only-of-type {\n",
       "        vertical-align: middle;\n",
       "    }\n",
       "\n",
       "    .dataframe tbody tr th {\n",
       "        vertical-align: top;\n",
       "    }\n",
       "\n",
       "    .dataframe thead th {\n",
       "        text-align: right;\n",
       "    }\n",
       "</style>\n",
       "<table border=\"1\" class=\"dataframe\">\n",
       "  <thead>\n",
       "    <tr style=\"text-align: right;\">\n",
       "      <th></th>\n",
       "      <th>library</th>\n",
       "      <th>replicate</th>\n",
       "      <th>model</th>\n",
       "    </tr>\n",
       "  </thead>\n",
       "  <tbody>\n",
       "    <tr>\n",
       "      <th>0</th>\n",
       "      <td>avg3muts</td>\n",
       "      <td>1</td>\n",
       "      <td>&lt;polyclonal.polyclonal.Polyclonal object at 0x...</td>\n",
       "    </tr>\n",
       "    <tr>\n",
       "      <th>1</th>\n",
       "      <td>avg3muts</td>\n",
       "      <td>2</td>\n",
       "      <td>&lt;polyclonal.polyclonal.Polyclonal object at 0x...</td>\n",
       "    </tr>\n",
       "    <tr>\n",
       "      <th>2</th>\n",
       "      <td>avg4muts</td>\n",
       "      <td>1</td>\n",
       "      <td>&lt;polyclonal.polyclonal.Polyclonal object at 0x...</td>\n",
       "    </tr>\n",
       "    <tr>\n",
       "      <th>3</th>\n",
       "      <td>avg4muts</td>\n",
       "      <td>2</td>\n",
       "      <td>&lt;polyclonal.polyclonal.Polyclonal object at 0x...</td>\n",
       "    </tr>\n",
       "  </tbody>\n",
       "</table>\n",
       "</div>"
      ],
      "text/plain": [
       "    library  replicate                                              model\n",
       "0  avg3muts          1  <polyclonal.polyclonal.Polyclonal object at 0x...\n",
       "1  avg3muts          2  <polyclonal.polyclonal.Polyclonal object at 0x...\n",
       "2  avg4muts          1  <polyclonal.polyclonal.Polyclonal object at 0x...\n",
       "3  avg4muts          2  <polyclonal.polyclonal.Polyclonal object at 0x..."
      ]
     },
     "execution_count": 3,
     "metadata": {},
     "output_type": "execute_result"
    }
   ],
   "source": [
    "# NBVAL_IGNORE_OUTPUT\n",
    "models_df"
   ]
  },
  {
   "cell_type": "markdown",
   "id": "ad5b4dcc-f7ae-48b3-a6ca-08ee2bbf09c0",
   "metadata": {},
   "source": [
    "## Average the models\n",
    "**Still need to write this section after implement `PolyclonalAverage`**"
   ]
  }
 ],
 "metadata": {
  "kernelspec": {
   "display_name": "Python 3 (ipykernel)",
   "language": "python",
   "name": "python3"
  },
  "language_info": {
   "codemirror_mode": {
    "name": "ipython",
    "version": 3
   },
   "file_extension": ".py",
   "mimetype": "text/x-python",
   "name": "python",
   "nbconvert_exporter": "python",
   "pygments_lexer": "ipython3",
   "version": "3.8.12"
  }
 },
 "nbformat": 4,
 "nbformat_minor": 5
}
