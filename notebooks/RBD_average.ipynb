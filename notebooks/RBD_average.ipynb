{
 "cells": [
  {
   "cell_type": "markdown",
   "id": "c36de04a-7941-4b08-894f-1544f56eba13",
   "metadata": {},
   "source": [
    "# Averaging models\n",
    "Probably the best way to ensure robust inferences and estimate error isn't to use bootstrapping of a single model, but rather to actuall have multiple experimental replicates, ideally on different libraries.\n",
    "\n",
    "Here we describe how to average model fits across libraries and/or replicates."
   ]
  },
  {
   "cell_type": "markdown",
   "id": "ae47a309-12f1-4348-81d4-4f80f73606c6",
   "metadata": {},
   "source": [
    "## Split data into replicates\n",
    "We will use our data for the RBD as an earlier examples, but split it into several libraries / replicates.\n",
    "\n",
    "Specifically, we will fit two different libraries: `avg3muts` and `avg4muts`, which have different barcodes and also different mutation rates (although of course in real life you might sometimes want to average results from different libraries with the same mutation rates).\n",
    "We will also simulate having two replicates for each library just by drawing bootstrap samples from each library and then dropping duplicates in samples:"
   ]
  },
  {
   "cell_type": "code",
   "execution_count": 1,
   "id": "8b085a97-b5d8-43dd-a904-e10bb5d5e7be",
   "metadata": {
    "execution": {
     "iopub.execute_input": "2022-07-15T14:10:19.951239Z",
     "iopub.status.busy": "2022-07-15T14:10:19.950776Z",
     "iopub.status.idle": "2022-07-15T14:10:27.824235Z",
     "shell.execute_reply": "2022-07-15T14:10:27.823551Z",
     "shell.execute_reply.started": "2022-07-15T14:10:19.951031Z"
    },
    "tags": []
   },
   "outputs": [],
   "source": [
    "import pandas as pd\n",
    "\n",
    "import polyclonal.polyclonal\n",
    "import polyclonal.polyclonal_collection\n",
    "\n",
    "\n",
    "# read data\n",
    "all_data = pd.read_csv(\"RBD_variants_escape_noisy.csv\", na_filter=None)\n",
    "\n",
    "# split by library and replicates\n",
    "libraries = [\"avg3muts\", \"avg4muts\"]  # the two libraries to use\n",
    "concentrations = [0.25, 1, 4]  # use these concentrations\n",
    "n_replicates = 2  # number of replicates per library\n",
    "\n",
    "data_by_replicate = {\n",
    "    (library, replicate + 1): polyclonal.polyclonal_collection.create_bootstrap_sample(\n",
    "        all_data.query(\"library == @library\").query(\"concentration in @concentrations\"),\n",
    "        seed=replicate + 1,\n",
    "    ).drop_duplicates()\n",
    "    for library in libraries\n",
    "    for replicate in range(n_replicates)\n",
    "}"
   ]
  },
  {
   "cell_type": "markdown",
   "id": "d2dcddd6-723e-4fac-8e6f-bc57b7c0d955",
   "metadata": {},
   "source": [
    "## Fit models to each replicate\n",
    "We now fit a `Polyclonal` model to each replicate using 3 epitopes:"
   ]
  },
  {
   "cell_type": "code",
   "execution_count": 2,
   "id": "210eda7c-de7f-4442-8c1c-b364656a2259",
   "metadata": {
    "execution": {
     "iopub.execute_input": "2022-07-15T14:10:27.825460Z",
     "iopub.status.busy": "2022-07-15T14:10:27.825314Z",
     "iopub.status.idle": "2022-07-15T14:20:36.313800Z",
     "shell.execute_reply": "2022-07-15T14:20:36.312275Z",
     "shell.execute_reply.started": "2022-07-15T14:10:27.825442Z"
    },
    "tags": []
   },
   "outputs": [],
   "source": [
    "models_by_replicate = {}\n",
    "for (library, replicate), data in data_by_replicate.items():\n",
    "    model = polyclonal.Polyclonal(data_to_fit=data, n_epitopes=3)\n",
    "    models_by_replicate[(library, replicate)] = model\n",
    "\n",
    "_ = polyclonal.polyclonal_collection.fit_models(\n",
    "    models_by_replicate.values(),\n",
    "    n_threads=2,\n",
    ")"
   ]
  },
  {
   "cell_type": "markdown",
   "id": "31049cc0-0b3d-440b-a3f9-0f627a9fb3ba",
   "metadata": {},
   "source": [
    "Now make a data frame with each model and other information describing it:"
   ]
  },
  {
   "cell_type": "code",
   "execution_count": 3,
   "id": "72c38e26-fb9d-4b2d-b646-a191571aac43",
   "metadata": {
    "execution": {
     "iopub.execute_input": "2022-07-15T14:20:36.317485Z",
     "iopub.status.busy": "2022-07-15T14:20:36.317095Z",
     "iopub.status.idle": "2022-07-15T14:20:36.330460Z",
     "shell.execute_reply": "2022-07-15T14:20:36.329672Z",
     "shell.execute_reply.started": "2022-07-15T14:20:36.317432Z"
    },
    "tags": []
   },
   "outputs": [],
   "source": [
    "models_df = (\n",
    "    pd.Series(models_by_replicate, name=\"model\")\n",
    "    .rename_axis([\"library\", \"replicate\"])\n",
    "    .reset_index()\n",
    ")"
   ]
  },
  {
   "cell_type": "markdown",
   "id": "ad5b4dcc-f7ae-48b3-a6ca-08ee2bbf09c0",
   "metadata": {},
   "source": [
    "## Average the models"
   ]
  },
  {
   "cell_type": "code",
   "execution_count": null,
   "id": "914f0019-ea5c-4b72-b695-c97796de7982",
   "metadata": {},
   "outputs": [],
   "source": []
  }
 ],
 "metadata": {
  "kernelspec": {
   "display_name": "Python 3 (ipykernel)",
   "language": "python",
   "name": "python3"
  },
  "language_info": {
   "codemirror_mode": {
    "name": "ipython",
    "version": 3
   },
   "file_extension": ".py",
   "mimetype": "text/x-python",
   "name": "python",
   "nbconvert_exporter": "python",
   "pygments_lexer": "ipython3",
   "version": "3.8.12"
  }
 },
 "nbformat": 4,
 "nbformat_minor": 5
}
