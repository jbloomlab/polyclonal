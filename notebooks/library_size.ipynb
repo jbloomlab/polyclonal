{
 "cells": [
  {
   "cell_type": "markdown",
   "metadata": {},
   "source": [
    "# Library size"
   ]
  },
  {
   "cell_type": "markdown",
   "metadata": {},
   "source": [
    "We’ll use simulated data to show how the number of variants in a DMS library affects the performance of `Polyclonal` models."
   ]
  },
  {
   "cell_type": "code",
   "execution_count": 1,
   "metadata": {},
   "outputs": [],
   "source": [
    "import time\n",
    "import os\n",
    "\n",
    "import pandas as pd\n",
    "import altair as alt\n",
    "import numpy as np\n",
    "import polyclonal"
   ]
  },
  {
   "cell_type": "markdown",
   "metadata": {},
   "source": [
    "We have simulated a noisy DMS library containing 30,000 variants measured at 3 different sera concentrations. The variants in this library were simulated to contain a Poisson-distributed number of mutations, with 3 mutations on average."
   ]
  },
  {
   "cell_type": "code",
   "execution_count": 3,
   "metadata": {},
   "outputs": [
    {
     "data": {
      "text/html": [
       "<div>\n",
       "<style scoped>\n",
       "    .dataframe tbody tr th:only-of-type {\n",
       "        vertical-align: middle;\n",
       "    }\n",
       "\n",
       "    .dataframe tbody tr th {\n",
       "        vertical-align: top;\n",
       "    }\n",
       "\n",
       "    .dataframe thead th {\n",
       "        text-align: right;\n",
       "    }\n",
       "</style>\n",
       "<table border=\"1\" class=\"dataframe\">\n",
       "  <thead>\n",
       "    <tr style=\"text-align: right;\">\n",
       "      <th></th>\n",
       "      <th>library</th>\n",
       "      <th>aa_substitutions</th>\n",
       "      <th>concentration</th>\n",
       "      <th>prob_escape</th>\n",
       "      <th>IC90</th>\n",
       "    </tr>\n",
       "  </thead>\n",
       "  <tbody>\n",
       "    <tr>\n",
       "      <th>0</th>\n",
       "      <td>avg3muts</td>\n",
       "      <td></td>\n",
       "      <td>0.25</td>\n",
       "      <td>0.00000</td>\n",
       "      <td>0.1128</td>\n",
       "    </tr>\n",
       "    <tr>\n",
       "      <th>1</th>\n",
       "      <td>avg3muts</td>\n",
       "      <td></td>\n",
       "      <td>0.25</td>\n",
       "      <td>0.01090</td>\n",
       "      <td>0.1128</td>\n",
       "    </tr>\n",
       "    <tr>\n",
       "      <th>2</th>\n",
       "      <td>avg3muts</td>\n",
       "      <td></td>\n",
       "      <td>0.25</td>\n",
       "      <td>0.01458</td>\n",
       "      <td>0.1128</td>\n",
       "    </tr>\n",
       "    <tr>\n",
       "      <th>3</th>\n",
       "      <td>avg3muts</td>\n",
       "      <td></td>\n",
       "      <td>0.25</td>\n",
       "      <td>0.09465</td>\n",
       "      <td>0.1128</td>\n",
       "    </tr>\n",
       "    <tr>\n",
       "      <th>4</th>\n",
       "      <td>avg3muts</td>\n",
       "      <td></td>\n",
       "      <td>0.25</td>\n",
       "      <td>0.03299</td>\n",
       "      <td>0.1128</td>\n",
       "    </tr>\n",
       "    <tr>\n",
       "      <th>...</th>\n",
       "      <td>...</td>\n",
       "      <td>...</td>\n",
       "      <td>...</td>\n",
       "      <td>...</td>\n",
       "      <td>...</td>\n",
       "    </tr>\n",
       "    <tr>\n",
       "      <th>89995</th>\n",
       "      <td>avg3muts</td>\n",
       "      <td>Y449I L518Y C525R L461I</td>\n",
       "      <td>4.00</td>\n",
       "      <td>0.02197</td>\n",
       "      <td>2.3100</td>\n",
       "    </tr>\n",
       "    <tr>\n",
       "      <th>89996</th>\n",
       "      <td>avg3muts</td>\n",
       "      <td>Y449V K529R N394R</td>\n",
       "      <td>4.00</td>\n",
       "      <td>0.04925</td>\n",
       "      <td>0.9473</td>\n",
       "    </tr>\n",
       "    <tr>\n",
       "      <th>89997</th>\n",
       "      <td>avg3muts</td>\n",
       "      <td>Y451L N481T F490V</td>\n",
       "      <td>4.00</td>\n",
       "      <td>0.02315</td>\n",
       "      <td>0.9301</td>\n",
       "    </tr>\n",
       "    <tr>\n",
       "      <th>89998</th>\n",
       "      <td>avg3muts</td>\n",
       "      <td>Y453R V483G L492V N501P I332P</td>\n",
       "      <td>4.00</td>\n",
       "      <td>0.00000</td>\n",
       "      <td>5.0120</td>\n",
       "    </tr>\n",
       "    <tr>\n",
       "      <th>89999</th>\n",
       "      <td>avg3muts</td>\n",
       "      <td>Y489Q N501Y</td>\n",
       "      <td>4.00</td>\n",
       "      <td>0.00000</td>\n",
       "      <td>0.5881</td>\n",
       "    </tr>\n",
       "  </tbody>\n",
       "</table>\n",
       "<p>90000 rows × 5 columns</p>\n",
       "</div>"
      ],
      "text/plain": [
       "        library               aa_substitutions  concentration  prob_escape  \\\n",
       "0      avg3muts                                          0.25      0.00000   \n",
       "1      avg3muts                                          0.25      0.01090   \n",
       "2      avg3muts                                          0.25      0.01458   \n",
       "3      avg3muts                                          0.25      0.09465   \n",
       "4      avg3muts                                          0.25      0.03299   \n",
       "...         ...                            ...            ...          ...   \n",
       "89995  avg3muts        Y449I L518Y C525R L461I           4.00      0.02197   \n",
       "89996  avg3muts              Y449V K529R N394R           4.00      0.04925   \n",
       "89997  avg3muts              Y451L N481T F490V           4.00      0.02315   \n",
       "89998  avg3muts  Y453R V483G L492V N501P I332P           4.00      0.00000   \n",
       "89999  avg3muts                    Y489Q N501Y           4.00      0.00000   \n",
       "\n",
       "         IC90  \n",
       "0      0.1128  \n",
       "1      0.1128  \n",
       "2      0.1128  \n",
       "3      0.1128  \n",
       "4      0.1128  \n",
       "...       ...  \n",
       "89995  2.3100  \n",
       "89996  0.9473  \n",
       "89997  0.9301  \n",
       "89998  5.0120  \n",
       "89999  0.5881  \n",
       "\n",
       "[90000 rows x 5 columns]"
      ]
     },
     "execution_count": 3,
     "metadata": {},
     "output_type": "execute_result"
    }
   ],
   "source": [
    "noisy_data = (\n",
    "    pd.read_csv('RBD_variants_escape_noisy.csv', na_filter=None)\n",
    "    .query(\"library == 'avg3muts'\")\n",
    "    .query('concentration in [0.25, 1, 4]')\n",
    "    .reset_index(drop=True)\n",
    "    )\n",
    "\n",
    "noisy_data"
   ]
  },
  {
   "cell_type": "markdown",
   "metadata": {},
   "source": [
    "We’ll randomly subsample smaller fractions of variants in our library and fit a `Polyclonal` model to each of the subsets."
   ]
  },
  {
   "cell_type": "code",
   "execution_count": 7,
   "metadata": {},
   "outputs": [
    {
     "name": "stdout",
     "output_type": "stream",
     "text": [
      "Fitting model on library with 1000 variants.\n",
      "Fitting model on library with 2500 variants.\n",
      "Fitting model on library with 5000 variants.\n",
      "Fitting model on library with 10000 variants.\n",
      "Fitting model on library with 20000 variants.\n",
      "Fitting model on library with 30000 variants.\n"
     ]
    }
   ],
   "source": [
    "library_sizes = [1000, 2500, 5000, 10000, 20000, 30000]\n",
    "\n",
    "# Store all fit models in a dictionary for future lookup\n",
    "fit_models = {}\n",
    "\n",
    "for n in library_sizes:\n",
    "    # key name for model\n",
    "    model_string = f'{n}variants'\n",
    "\n",
    "    poly_abs = polyclonal.Polyclonal(data_to_fit=noisy_data.groupby('concentration')\n",
    "                                                           .apply(lambda x: x.sample(n=n, random_state=123))\n",
    "                                                           .reset_index(drop = True),\n",
    "                                     activity_wt_df=pd.DataFrame.from_records(\n",
    "                                         [('1', 1.0),\n",
    "                                          ('2', 3.0),\n",
    "                                          ('3', 2.0),\n",
    "                                          ],\n",
    "                                         columns=['epitope', 'activity'],\n",
    "                                         ),\n",
    "                                     site_escape_df=pd.DataFrame.from_records(\n",
    "                                         [('1', 417, 10.0),\n",
    "                                          ('2', 484, 10.0),\n",
    "                                          ('3', 444, 10.0),\n",
    "                                          ],\n",
    "                                         columns=['epitope', 'site', 'escape'],\n",
    "                                         ),\n",
    "                                     data_mut_escape_overlap='fill_to_data',\n",
    "                                 )\n",
    "    print(f\"Fitting model on library with {n} variants.\")\n",
    "    poly_abs.fit()\n",
    "    fit_models.update({model_string : poly_abs})"
   ]
  },
  {
   "cell_type": "markdown",
   "metadata": {},
   "source": [
    "We can look at the correlation between predicted and true beta coefficients (mutation effects at each epitope) for the fit models."
   ]
  },
  {
   "cell_type": "code",
   "execution_count": 8,
   "metadata": {},
   "outputs": [],
   "source": [
    "all_corrs = pd.DataFrame({'epitope' : [], \n",
    "                          'correlation' : [], \n",
    "                          'num_variants' : []})\n",
    "\n",
    "for size in library_sizes:\n",
    "    model = fit_models[f'{size}variants']\n",
    "\n",
    "    mut_escape_pred = (\n",
    "        pd.read_csv('RBD_mut_escape_df.csv')\n",
    "        .merge((model.mut_escape_df\n",
    "                .assign(epitope=lambda x: 'class ' + x['epitope'].astype(str))\n",
    "                .rename(columns={'escape': 'predicted escape'})\n",
    "                ),\n",
    "               on=['mutation', 'epitope'],\n",
    "               validate='one_to_one',\n",
    "               )\n",
    "        )\n",
    "\n",
    "    corr = (mut_escape_pred\n",
    "            .groupby('epitope')\n",
    "            .apply(lambda x: x['escape'].corr(x['predicted escape']))\n",
    "            .rename('correlation')\n",
    "            .reset_index()\n",
    "            )\n",
    "    \n",
    "    all_corrs = pd.concat([all_corrs, \n",
    "                    corr.assign(num_variants = [str(size)]* len(corr.index))\n",
    "                        ])"
   ]
  },
  {
   "cell_type": "code",
   "execution_count": 9,
   "metadata": {},
   "outputs": [
    {
     "data": {
      "text/html": [
       "\n",
       "<div id=\"altair-viz-5b7fdbfabf0f43f7a801e09e02344cbf\"></div>\n",
       "<script type=\"text/javascript\">\n",
       "  (function(spec, embedOpt){\n",
       "    let outputDiv = document.currentScript.previousElementSibling;\n",
       "    if (outputDiv.id !== \"altair-viz-5b7fdbfabf0f43f7a801e09e02344cbf\") {\n",
       "      outputDiv = document.getElementById(\"altair-viz-5b7fdbfabf0f43f7a801e09e02344cbf\");\n",
       "    }\n",
       "    const paths = {\n",
       "      \"vega\": \"https://cdn.jsdelivr.net/npm//vega@5?noext\",\n",
       "      \"vega-lib\": \"https://cdn.jsdelivr.net/npm//vega-lib?noext\",\n",
       "      \"vega-lite\": \"https://cdn.jsdelivr.net/npm//vega-lite@4.17.0?noext\",\n",
       "      \"vega-embed\": \"https://cdn.jsdelivr.net/npm//vega-embed@6?noext\",\n",
       "    };\n",
       "\n",
       "    function loadScript(lib) {\n",
       "      return new Promise(function(resolve, reject) {\n",
       "        var s = document.createElement('script');\n",
       "        s.src = paths[lib];\n",
       "        s.async = true;\n",
       "        s.onload = () => resolve(paths[lib]);\n",
       "        s.onerror = () => reject(`Error loading script: ${paths[lib]}`);\n",
       "        document.getElementsByTagName(\"head\")[0].appendChild(s);\n",
       "      });\n",
       "    }\n",
       "\n",
       "    function showError(err) {\n",
       "      outputDiv.innerHTML = `<div class=\"error\" style=\"color:red;\">${err}</div>`;\n",
       "      throw err;\n",
       "    }\n",
       "\n",
       "    function displayChart(vegaEmbed) {\n",
       "      vegaEmbed(outputDiv, spec, embedOpt)\n",
       "        .catch(err => showError(`Javascript Error: ${err.message}<br>This usually means there's a typo in your chart specification. See the javascript console for the full traceback.`));\n",
       "    }\n",
       "\n",
       "    if(typeof define === \"function\" && define.amd) {\n",
       "      requirejs.config({paths});\n",
       "      require([\"vega-embed\"], displayChart, err => showError(`Error loading script: ${err.message}`));\n",
       "    } else if (typeof vegaEmbed === \"function\") {\n",
       "      displayChart(vegaEmbed);\n",
       "    } else {\n",
       "      loadScript(\"vega\")\n",
       "        .then(() => loadScript(\"vega-lite\"))\n",
       "        .then(() => loadScript(\"vega-embed\"))\n",
       "        .catch(showError)\n",
       "        .then(() => displayChart(vegaEmbed));\n",
       "    }\n",
       "  })({\"config\": {\"view\": {\"continuousWidth\": 400, \"continuousHeight\": 300}}, \"layer\": [{\"mark\": \"point\", \"encoding\": {\"color\": {\"field\": \"epitope\", \"type\": \"nominal\"}, \"tooltip\": [{\"field\": \"num_variants\", \"type\": \"nominal\"}, {\"field\": \"correlation\", \"format\": \".3f\", \"type\": \"quantitative\"}, {\"field\": \"epitope\", \"type\": \"nominal\"}], \"x\": {\"field\": \"num_variants\", \"type\": \"quantitative\"}, \"y\": {\"field\": \"correlation\", \"type\": \"quantitative\"}}}, {\"mark\": {\"type\": \"line\", \"size\": 2.5}, \"encoding\": {\"color\": {\"field\": \"epitope\", \"type\": \"nominal\"}, \"tooltip\": [{\"field\": \"num_variants\", \"type\": \"nominal\"}, {\"field\": \"correlation\", \"format\": \".3f\", \"type\": \"quantitative\"}, {\"field\": \"epitope\", \"type\": \"nominal\"}], \"x\": {\"field\": \"num_variants\", \"type\": \"quantitative\"}, \"y\": {\"field\": \"correlation\", \"type\": \"quantitative\"}}, \"title\": \"predicted vs. true beta coefficients\", \"transform\": [{\"loess\": \"correlation\", \"on\": \"num_variants\", \"groupby\": [\"epitope\"]}]}], \"data\": {\"name\": \"data-df6bee3dc8410de22cab87c576160fa5\"}, \"$schema\": \"https://vega.github.io/schema/vega-lite/v4.17.0.json\", \"datasets\": {\"data-df6bee3dc8410de22cab87c576160fa5\": [{\"epitope\": \"class 1\", \"correlation\": 0.07218205218117564, \"num_variants\": \"1000\"}, {\"epitope\": \"class 2\", \"correlation\": 0.6193939130573645, \"num_variants\": \"1000\"}, {\"epitope\": \"class 3\", \"correlation\": 0.14283525086211518, \"num_variants\": \"1000\"}, {\"epitope\": \"class 1\", \"correlation\": 0.07485263251345038, \"num_variants\": \"2500\"}, {\"epitope\": \"class 2\", \"correlation\": 0.7631061270887695, \"num_variants\": \"2500\"}, {\"epitope\": \"class 3\", \"correlation\": 0.6008243893232577, \"num_variants\": \"2500\"}, {\"epitope\": \"class 1\", \"correlation\": 0.18918520043065443, \"num_variants\": \"5000\"}, {\"epitope\": \"class 2\", \"correlation\": 0.8092677701815656, \"num_variants\": \"5000\"}, {\"epitope\": \"class 3\", \"correlation\": 0.6447936408706487, \"num_variants\": \"5000\"}, {\"epitope\": \"class 1\", \"correlation\": 0.7542994577416787, \"num_variants\": \"10000\"}, {\"epitope\": \"class 2\", \"correlation\": 0.9297299063893005, \"num_variants\": \"10000\"}, {\"epitope\": \"class 3\", \"correlation\": 0.8895653185132256, \"num_variants\": \"10000\"}, {\"epitope\": \"class 1\", \"correlation\": 0.8304737362222792, \"num_variants\": \"20000\"}, {\"epitope\": \"class 2\", \"correlation\": 0.9658589813965135, \"num_variants\": \"20000\"}, {\"epitope\": \"class 3\", \"correlation\": 0.9364439836455705, \"num_variants\": \"20000\"}, {\"epitope\": \"class 1\", \"correlation\": 0.8906166297185629, \"num_variants\": \"30000\"}, {\"epitope\": \"class 2\", \"correlation\": 0.9728646538300674, \"num_variants\": \"30000\"}, {\"epitope\": \"class 3\", \"correlation\": 0.9493930496177673, \"num_variants\": \"30000\"}]}}, {\"mode\": \"vega-lite\"});\n",
       "</script>"
      ],
      "text/plain": [
       "alt.LayerChart(...)"
      ]
     },
     "execution_count": 9,
     "metadata": {},
     "output_type": "execute_result"
    }
   ],
   "source": [
    "# NBVAL_IGNORE_OUTPUT\n",
    "base = alt.Chart(all_corrs).mark_point().encode(\n",
    "    alt.X('num_variants:Q'),\n",
    "    alt.Y('correlation:Q'),\n",
    "    alt.Color('epitope:N'),\n",
    "    tooltip=['num_variants', alt.Tooltip('correlation', format='.3f'), 'epitope']\n",
    ")\n",
    "base + base.transform_loess('num_variants', 'correlation', groupby=['epitope']\n",
    "                           ).mark_line(size=2.5\n",
    "                                      ).properties(title='predicted vs. true beta coefficients')"
   ]
  },
  {
   "cell_type": "markdown",
   "metadata": {},
   "source": [
    "Additionally, we’ll look at the correlation between predicted and true IC90’s for each of the fit models. To do this, we’ll predict the IC90’s of variants in a different simulated library that our models were not fit on."
   ]
  },
  {
   "cell_type": "code",
   "execution_count": 10,
   "metadata": {},
   "outputs": [],
   "source": [
    "exact_data = (\n",
    "    pd.read_csv('RBD_variants_escape_exact.csv', na_filter=None)\n",
    "    .query('library == \"avg4muts\"')\n",
    "    .query('concentration in [1]')\n",
    "    .reset_index(drop=True)\n",
    "    )"
   ]
  },
  {
   "cell_type": "markdown",
   "metadata": {},
   "source": [
    "We’ll make the comparison on a log scale, and clip IC90s at values >50 as that is likely to be way outside the dynamic range given the concentrations used."
   ]
  },
  {
   "cell_type": "code",
   "execution_count": 12,
   "metadata": {},
   "outputs": [],
   "source": [
    "ic90_corrs = pd.DataFrame({'correlation' : [], \n",
    "                           'num_variants' : []})\n",
    "\n",
    "max_ic90 = 50\n",
    "for size in library_sizes:\n",
    "    model = fit_models[f'{size}variants']\n",
    "    \n",
    "    ic90s = (exact_data[['aa_substitutions', 'IC90']]\n",
    "         .assign(IC90=lambda x: x['IC90'].clip(upper=max_ic90))\n",
    "         .drop_duplicates()\n",
    "         )\n",
    "    ic90s = model.filter_variants_by_seen_muts(ic90s)\n",
    "    ic90s = model.icXX(ic90s, x=0.9, col='predicted_IC90', max_c=max_ic90)\n",
    "\n",
    "    ic90s = (\n",
    "        ic90s\n",
    "        .assign(log_IC90=lambda x: np.log10(x['IC90']),\n",
    "            predicted_log_IC90=lambda x: np.log10(x['predicted_IC90']),\n",
    "            )\n",
    "    )\n",
    "\n",
    "    corr = ic90s['log_IC90'].corr(ic90s['predicted_log_IC90'])\n",
    "    \n",
    "    ic90_corrs = pd.concat([ic90_corrs,\n",
    "                    pd.DataFrame({'correlation' : corr,\n",
    "                                  'num_variants' : [str(size)]})])"
   ]
  },
  {
   "cell_type": "code",
   "execution_count": 13,
   "metadata": {},
   "outputs": [
    {
     "data": {
      "text/html": [
       "\n",
       "<div id=\"altair-viz-f26369fdc12b4031bbcdb3b07904d122\"></div>\n",
       "<script type=\"text/javascript\">\n",
       "  (function(spec, embedOpt){\n",
       "    let outputDiv = document.currentScript.previousElementSibling;\n",
       "    if (outputDiv.id !== \"altair-viz-f26369fdc12b4031bbcdb3b07904d122\") {\n",
       "      outputDiv = document.getElementById(\"altair-viz-f26369fdc12b4031bbcdb3b07904d122\");\n",
       "    }\n",
       "    const paths = {\n",
       "      \"vega\": \"https://cdn.jsdelivr.net/npm//vega@5?noext\",\n",
       "      \"vega-lib\": \"https://cdn.jsdelivr.net/npm//vega-lib?noext\",\n",
       "      \"vega-lite\": \"https://cdn.jsdelivr.net/npm//vega-lite@4.17.0?noext\",\n",
       "      \"vega-embed\": \"https://cdn.jsdelivr.net/npm//vega-embed@6?noext\",\n",
       "    };\n",
       "\n",
       "    function loadScript(lib) {\n",
       "      return new Promise(function(resolve, reject) {\n",
       "        var s = document.createElement('script');\n",
       "        s.src = paths[lib];\n",
       "        s.async = true;\n",
       "        s.onload = () => resolve(paths[lib]);\n",
       "        s.onerror = () => reject(`Error loading script: ${paths[lib]}`);\n",
       "        document.getElementsByTagName(\"head\")[0].appendChild(s);\n",
       "      });\n",
       "    }\n",
       "\n",
       "    function showError(err) {\n",
       "      outputDiv.innerHTML = `<div class=\"error\" style=\"color:red;\">${err}</div>`;\n",
       "      throw err;\n",
       "    }\n",
       "\n",
       "    function displayChart(vegaEmbed) {\n",
       "      vegaEmbed(outputDiv, spec, embedOpt)\n",
       "        .catch(err => showError(`Javascript Error: ${err.message}<br>This usually means there's a typo in your chart specification. See the javascript console for the full traceback.`));\n",
       "    }\n",
       "\n",
       "    if(typeof define === \"function\" && define.amd) {\n",
       "      requirejs.config({paths});\n",
       "      require([\"vega-embed\"], displayChart, err => showError(`Error loading script: ${err.message}`));\n",
       "    } else if (typeof vegaEmbed === \"function\") {\n",
       "      displayChart(vegaEmbed);\n",
       "    } else {\n",
       "      loadScript(\"vega\")\n",
       "        .then(() => loadScript(\"vega-lite\"))\n",
       "        .then(() => loadScript(\"vega-embed\"))\n",
       "        .catch(showError)\n",
       "        .then(() => displayChart(vegaEmbed));\n",
       "    }\n",
       "  })({\"config\": {\"view\": {\"continuousWidth\": 400, \"continuousHeight\": 300}}, \"layer\": [{\"mark\": \"point\", \"encoding\": {\"tooltip\": [{\"field\": \"num_variants\", \"type\": \"nominal\"}, {\"field\": \"correlation\", \"format\": \".3f\", \"type\": \"quantitative\"}], \"x\": {\"field\": \"num_variants\", \"type\": \"quantitative\"}, \"y\": {\"field\": \"correlation\", \"type\": \"quantitative\"}}}, {\"mark\": {\"type\": \"line\", \"size\": 2.5}, \"encoding\": {\"tooltip\": [{\"field\": \"num_variants\", \"type\": \"nominal\"}, {\"field\": \"correlation\", \"format\": \".3f\", \"type\": \"quantitative\"}], \"x\": {\"field\": \"num_variants\", \"type\": \"quantitative\"}, \"y\": {\"field\": \"correlation\", \"type\": \"quantitative\"}}, \"title\": \"predicted vs. true IC90\", \"transform\": [{\"loess\": \"correlation\", \"on\": \"num_variants\"}]}], \"data\": {\"name\": \"data-0c4db5e4f79981648641d8934b4f922d\"}, \"$schema\": \"https://vega.github.io/schema/vega-lite/v4.17.0.json\", \"datasets\": {\"data-0c4db5e4f79981648641d8934b4f922d\": [{\"correlation\": 0.9047602052241313, \"num_variants\": \"1000\"}, {\"correlation\": 0.9476120671799916, \"num_variants\": \"2500\"}, {\"correlation\": 0.9546141373522637, \"num_variants\": \"5000\"}, {\"correlation\": 0.9866242259717083, \"num_variants\": \"10000\"}, {\"correlation\": 0.9946314692709969, \"num_variants\": \"20000\"}, {\"correlation\": 0.996683899105829, \"num_variants\": \"30000\"}]}}, {\"mode\": \"vega-lite\"});\n",
       "</script>"
      ],
      "text/plain": [
       "alt.LayerChart(...)"
      ]
     },
     "execution_count": 13,
     "metadata": {},
     "output_type": "execute_result"
    }
   ],
   "source": [
    "# NBVAL_IGNORE_OUTPUT\n",
    "base = alt.Chart(ic90_corrs).mark_point().encode(\n",
    "    alt.X('num_variants:Q'),\n",
    "    alt.Y('correlation:Q'),\n",
    "    tooltip=['num_variants', alt.Tooltip('correlation', format='.3f')]\n",
    ")\n",
    "base + base.transform_loess('num_variants', 'correlation'\n",
    "                           ).mark_line(size=2.5\n",
    "                                      ).properties(title='predicted vs. true IC90')"
   ]
  },
  {
   "cell_type": "markdown",
   "metadata": {},
   "source": [
    "## Summary"
   ]
  },
  {
   "cell_type": "markdown",
   "metadata": {},
   "source": [
    "Library size is an important factor. Having greater than 10,000 (functional) multiply-mutated variants led to higher correlation between predicted and true beta coefficients for each epitope, particularly the subdominant epitopes."
   ]
  }
 ],
 "metadata": {
  "kernelspec": {
   "display_name": "Python 3 (ipykernel)",
   "language": "python",
   "name": "python3"
  },
  "language_info": {
   "codemirror_mode": {
    "name": "ipython",
    "version": 3
   },
   "file_extension": ".py",
   "mimetype": "text/x-python",
   "name": "python",
   "nbconvert_exporter": "python",
   "pygments_lexer": "ipython3",
   "version": "3.9.7"
  }
 },
 "nbformat": 4,
 "nbformat_minor": 4
}
