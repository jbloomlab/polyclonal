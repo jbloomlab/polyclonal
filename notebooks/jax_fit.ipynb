{
 "cells": [
  {
   "cell_type": "code",
   "execution_count": 1,
   "id": "895723cb",
   "metadata": {},
   "outputs": [],
   "source": [
    "import pandas as pd\n",
    "\n",
    "import polyclonal\n",
    "import polyclonal.fit as fit"
   ]
  },
  {
   "cell_type": "markdown",
   "id": "edee1ea3",
   "metadata": {},
   "source": [
    "We're going to start with a data set and some pretty well-fitting parameters.\n",
    "These are the parameters that we get from fitting the \"exact\" version of the data set."
   ]
  },
  {
   "cell_type": "code",
   "execution_count": 2,
   "id": "1b915195",
   "metadata": {},
   "outputs": [],
   "source": [
    "data_path = \"RBD_variants_escape_noisy.csv\"\n",
    "data = (\n",
    "    pd.read_csv(data_path, na_filter=None)\n",
    "    .query('library == \"avg2muts\"')\n",
    "    .query(\"concentration in [0.25, 1, 4]\")\n",
    "    .reset_index(drop=True)\n",
    ")\n",
    "mut_escape_df = pd.read_csv(\"exact_mut_escape_df.csv\")\n",
    "activity_wt_df = pd.read_csv(\"exact_activity_wt_df.csv\")\n",
    "poly_abs = polyclonal.Polyclonal(\n",
    "    data_to_fit=data,\n",
    "    activity_wt_df=activity_wt_df,\n",
    "    mut_escape_df=mut_escape_df,\n",
    ")\n",
    "\n",
    "orig_params = poly_abs._params"
   ]
  },
  {
   "cell_type": "markdown",
   "id": "f9f2f031",
   "metadata": {},
   "source": [
    "We start by making an object we can use for fitting.\n",
    "This takes some time, and could be made a lot faster by not converting to and from a dense matrix."
   ]
  },
  {
   "cell_type": "code",
   "execution_count": 3,
   "id": "ee219a81",
   "metadata": {},
   "outputs": [
    {
     "name": "stderr",
     "output_type": "stream",
     "text": [
      "WARNING:absl:No GPU/TPU found, falling back to CPU. (Set TF_CPP_MIN_LOG_LEVEL=0 and rerun for more info.)\n"
     ]
    },
    {
     "name": "stdout",
     "output_type": "stream",
     "text": [
      "CPU times: user 16 s, sys: 8.44 s, total: 24.4 s\n",
      "Wall time: 18.8 s\n"
     ]
    }
   ],
   "source": [
    "%%time\n",
    "\n",
    "prox_grad = fit.prox_grad_of_polyclonal(poly_abs)"
   ]
  },
  {
   "cell_type": "markdown",
   "id": "1f040a51",
   "metadata": {},
   "source": [
    "Now we run the JAX version of the fitting code."
   ]
  },
  {
   "cell_type": "code",
   "execution_count": 4,
   "id": "dcc3d6a0",
   "metadata": {},
   "outputs": [
    {
     "name": "stdout",
     "output_type": "stream",
     "text": [
      "initial objective 7.293724e+02\n",
      "iteration 2670, objective 6.650e+02, relative change 9.976e-08                                                                                       \n",
      "relative change in objective function 1e-07 is within tolerance 1e-07 after 2670 iterations\n",
      "CPU times: user 2min 26s, sys: 3.16 s, total: 2min 29s\n",
      "Wall time: 2min 16s\n"
     ]
    }
   ],
   "source": [
    "%%time\n",
    "\n",
    "jax_params = prox_grad.run(poly_abs._params, tol=1e-7, max_iter=5000)"
   ]
  },
  {
   "cell_type": "markdown",
   "id": "2de3ab98",
   "metadata": {},
   "source": [
    "Let's see what the original Polyclonal fitting code thinks of these parameters:"
   ]
  },
  {
   "cell_type": "code",
   "execution_count": 5,
   "id": "bc347295",
   "metadata": {},
   "outputs": [
    {
     "name": "stdout",
     "output_type": "stream",
     "text": [
      "# Starting optimization of 5799 parameters at Sat Jan  1 04:55:26 2022.\n",
      "       step   time_sec       loss   fit_loss reg_escape  regspread\n",
      "          0     3.8362     665.01     577.56     53.165     34.287\n",
      "          3     4.2407        665     577.56     53.166     34.279\n",
      "# Successfully finished at Sat Jan  1 04:55:30 2022.\n"
     ]
    },
    {
     "data": {
      "text/plain": [
       "      fun: 665.0017719527469\n",
       " hess_inv: <5799x5799 LbfgsInvHessProduct with dtype=float64>\n",
       "      jac: array([-7.37749212e-02, -3.12951089e-01, -1.08871757e-01, ...,\n",
       "       -5.09604685e-04,  1.63759945e-03, -3.19200632e-05])\n",
       "  message: 'CONVERGENCE: REL_REDUCTION_OF_F_<=_FACTR*EPSMCH'\n",
       "     nfev: 5\n",
       "      nit: 2\n",
       "     njev: 5\n",
       "   status: 0\n",
       "  success: True\n",
       "        x: array([1.07566616, 3.22843841, 1.94317282, ..., 0.33487041, 0.69202319,\n",
       "       0.33282094])"
      ]
     },
     "execution_count": 5,
     "metadata": {},
     "output_type": "execute_result"
    }
   ],
   "source": [
    "poly_abs._params = jax_params\n",
    "poly_abs.fit(logfreq=100, fit_site_level_first=False)"
   ]
  },
  {
   "cell_type": "markdown",
   "id": "ff3ce722",
   "metadata": {},
   "source": [
    "It thinks they are good!\n",
    "\n",
    "Now let's see how fast the original code is:"
   ]
  },
  {
   "cell_type": "code",
   "execution_count": 6,
   "id": "51974a8b",
   "metadata": {},
   "outputs": [
    {
     "name": "stdout",
     "output_type": "stream",
     "text": [
      "# Starting optimization of 5799 parameters at Sat Jan  1 04:55:30 2022.\n",
      "       step   time_sec       loss   fit_loss reg_escape  regspread\n",
      "          0   0.097575     729.37     643.32     53.454     32.601\n",
      "        100     8.4999     669.78      582.8     53.237      33.75\n",
      "        200     16.668     666.22     579.05       53.2     33.963\n",
      "        300     24.949     665.51     577.98     53.234     34.302\n",
      "        400     33.036     665.19     577.68     53.228     34.281\n",
      "        500     41.564     665.07     577.63       53.2     34.248\n",
      "        554     46.148     665.05      577.6     53.198      34.25\n",
      "# Successfully finished at Sat Jan  1 04:56:16 2022.\n",
      "CPU times: user 46.2 s, sys: 0 ns, total: 46.2 s\n",
      "Wall time: 46.2 s\n"
     ]
    },
    {
     "data": {
      "text/plain": [
       "      fun: 665.0514594266459\n",
       " hess_inv: <5799x5799 LbfgsInvHessProduct with dtype=float64>\n",
       "      jac: array([-1.39084482e-01, -6.24127208e-01, -2.24530265e-01, ...,\n",
       "        2.38510511e-04, -3.84253065e-04, -8.32234644e-04])\n",
       "  message: 'CONVERGENCE: REL_REDUCTION_OF_F_<=_FACTR*EPSMCH'\n",
       "     nfev: 612\n",
       "      nit: 553\n",
       "     njev: 612\n",
       "   status: 0\n",
       "  success: True\n",
       "        x: array([1.07311803, 3.22757754, 1.94642557, ..., 0.32831496, 0.69195178,\n",
       "       0.33004297])"
      ]
     },
     "execution_count": 6,
     "metadata": {},
     "output_type": "execute_result"
    }
   ],
   "source": [
    "%%time\n",
    "\n",
    "poly_abs._params = orig_params\n",
    "poly_abs.fit(logfreq=100, fit_site_level_first=False)"
   ]
  },
  {
   "cell_type": "markdown",
   "id": "97e82b09",
   "metadata": {},
   "source": [
    "The JAX code takes about 3.5 times as long if you include the setup time."
   ]
  },
  {
   "cell_type": "code",
   "execution_count": null,
   "id": "a267df8e",
   "metadata": {},
   "outputs": [],
   "source": []
  }
 ],
 "metadata": {
  "kernelspec": {
   "display_name": "Python 3 (ipykernel)",
   "language": "python",
   "name": "python3"
  },
  "language_info": {
   "codemirror_mode": {
    "name": "ipython",
    "version": 3
   },
   "file_extension": ".py",
   "mimetype": "text/x-python",
   "name": "python",
   "nbconvert_exporter": "python",
   "pygments_lexer": "ipython3",
   "version": "3.8.12"
  }
 },
 "nbformat": 4,
 "nbformat_minor": 5
}
