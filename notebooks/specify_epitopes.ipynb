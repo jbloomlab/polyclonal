{
 "cells": [
  {
   "cell_type": "markdown",
   "metadata": {},
   "source": [
    "# Specifying epitopes"
   ]
  },
  {
   "cell_type": "markdown",
   "metadata": {},
   "source": [
    "Polyclonal sera contains antibodies that can target multiple distinct epitopes on a viral protein, but we do not know the exact composition of this sera and which epitopes are targeted. At minimum, `Polyclonal` requires a user to specify the number of epitopes prior to fitting. Alternatively, a user may opt to seed initial guesses for the mutation-escape values of key epitope sites.\n",
    "\n",
    "Here, we’ll use simulated data to show how the number of epitopes and seeding of key sites can affect the performance of `Polyclonal` models. We'll also use this to provide guidance on how to systematically determine the optimal number of epitopes. "
   ]
  },
  {
   "cell_type": "code",
   "execution_count": 1,
   "metadata": {},
   "outputs": [],
   "source": [
    "import itertools\n",
    "import os\n",
    "import pickle\n",
    "\n",
    "import altair as alt\n",
    "import numpy as np\n",
    "import pandas as pd\n",
    "import polyclonal"
   ]
  },
  {
   "cell_type": "markdown",
   "metadata": {},
   "source": [
    "First, we read in a simulated “noisy” dataset containing 30,000 variants measured at three different sera concentrations. The variants in this library were simulated to contain a Poisson-distributed number of mutations, with an average of three mutations per gene."
   ]
  },
  {
   "cell_type": "code",
   "execution_count": 2,
   "metadata": {},
   "outputs": [
    {
     "data": {
      "text/html": [
       "<div>\n",
       "<style scoped>\n",
       "    .dataframe tbody tr th:only-of-type {\n",
       "        vertical-align: middle;\n",
       "    }\n",
       "\n",
       "    .dataframe tbody tr th {\n",
       "        vertical-align: top;\n",
       "    }\n",
       "\n",
       "    .dataframe thead th {\n",
       "        text-align: right;\n",
       "    }\n",
       "</style>\n",
       "<table border=\"1\" class=\"dataframe\">\n",
       "  <thead>\n",
       "    <tr style=\"text-align: right;\">\n",
       "      <th></th>\n",
       "      <th>library</th>\n",
       "      <th>aa_substitutions</th>\n",
       "      <th>concentration</th>\n",
       "      <th>prob_escape</th>\n",
       "      <th>IC90</th>\n",
       "    </tr>\n",
       "  </thead>\n",
       "  <tbody>\n",
       "    <tr>\n",
       "      <th>0</th>\n",
       "      <td>avg3muts</td>\n",
       "      <td></td>\n",
       "      <td>0.25</td>\n",
       "      <td>0.00000</td>\n",
       "      <td>0.1128</td>\n",
       "    </tr>\n",
       "    <tr>\n",
       "      <th>1</th>\n",
       "      <td>avg3muts</td>\n",
       "      <td></td>\n",
       "      <td>0.25</td>\n",
       "      <td>0.01090</td>\n",
       "      <td>0.1128</td>\n",
       "    </tr>\n",
       "    <tr>\n",
       "      <th>2</th>\n",
       "      <td>avg3muts</td>\n",
       "      <td></td>\n",
       "      <td>0.25</td>\n",
       "      <td>0.01458</td>\n",
       "      <td>0.1128</td>\n",
       "    </tr>\n",
       "    <tr>\n",
       "      <th>3</th>\n",
       "      <td>avg3muts</td>\n",
       "      <td></td>\n",
       "      <td>0.25</td>\n",
       "      <td>0.09465</td>\n",
       "      <td>0.1128</td>\n",
       "    </tr>\n",
       "    <tr>\n",
       "      <th>4</th>\n",
       "      <td>avg3muts</td>\n",
       "      <td></td>\n",
       "      <td>0.25</td>\n",
       "      <td>0.03299</td>\n",
       "      <td>0.1128</td>\n",
       "    </tr>\n",
       "    <tr>\n",
       "      <th>...</th>\n",
       "      <td>...</td>\n",
       "      <td>...</td>\n",
       "      <td>...</td>\n",
       "      <td>...</td>\n",
       "      <td>...</td>\n",
       "    </tr>\n",
       "    <tr>\n",
       "      <th>89995</th>\n",
       "      <td>avg3muts</td>\n",
       "      <td>Y449I L518Y C525R L461I</td>\n",
       "      <td>4.00</td>\n",
       "      <td>0.02197</td>\n",
       "      <td>2.3100</td>\n",
       "    </tr>\n",
       "    <tr>\n",
       "      <th>89996</th>\n",
       "      <td>avg3muts</td>\n",
       "      <td>Y449V K529R N394R</td>\n",
       "      <td>4.00</td>\n",
       "      <td>0.04925</td>\n",
       "      <td>0.9473</td>\n",
       "    </tr>\n",
       "    <tr>\n",
       "      <th>89997</th>\n",
       "      <td>avg3muts</td>\n",
       "      <td>Y451L N481T F490V</td>\n",
       "      <td>4.00</td>\n",
       "      <td>0.02315</td>\n",
       "      <td>0.9301</td>\n",
       "    </tr>\n",
       "    <tr>\n",
       "      <th>89998</th>\n",
       "      <td>avg3muts</td>\n",
       "      <td>Y453R V483G L492V N501P I332P</td>\n",
       "      <td>4.00</td>\n",
       "      <td>0.00000</td>\n",
       "      <td>5.0120</td>\n",
       "    </tr>\n",
       "    <tr>\n",
       "      <th>89999</th>\n",
       "      <td>avg3muts</td>\n",
       "      <td>Y489Q N501Y</td>\n",
       "      <td>4.00</td>\n",
       "      <td>0.00000</td>\n",
       "      <td>0.5881</td>\n",
       "    </tr>\n",
       "  </tbody>\n",
       "</table>\n",
       "<p>90000 rows × 5 columns</p>\n",
       "</div>"
      ],
      "text/plain": [
       "        library               aa_substitutions  concentration  prob_escape  \\\n",
       "0      avg3muts                                          0.25      0.00000   \n",
       "1      avg3muts                                          0.25      0.01090   \n",
       "2      avg3muts                                          0.25      0.01458   \n",
       "3      avg3muts                                          0.25      0.09465   \n",
       "4      avg3muts                                          0.25      0.03299   \n",
       "...         ...                            ...            ...          ...   \n",
       "89995  avg3muts        Y449I L518Y C525R L461I           4.00      0.02197   \n",
       "89996  avg3muts              Y449V K529R N394R           4.00      0.04925   \n",
       "89997  avg3muts              Y451L N481T F490V           4.00      0.02315   \n",
       "89998  avg3muts  Y453R V483G L492V N501P I332P           4.00      0.00000   \n",
       "89999  avg3muts                    Y489Q N501Y           4.00      0.00000   \n",
       "\n",
       "         IC90  \n",
       "0      0.1128  \n",
       "1      0.1128  \n",
       "2      0.1128  \n",
       "3      0.1128  \n",
       "4      0.1128  \n",
       "...       ...  \n",
       "89995  2.3100  \n",
       "89996  0.9473  \n",
       "89997  0.9301  \n",
       "89998  5.0120  \n",
       "89999  0.5881  \n",
       "\n",
       "[90000 rows x 5 columns]"
      ]
     },
     "execution_count": 2,
     "metadata": {},
     "output_type": "execute_result"
    }
   ],
   "source": [
    "noisy_data = (\n",
    "    pd.read_csv(\"RBD_variants_escape_noisy.csv\", na_filter=None)\n",
    "    .query('library == \"avg3muts\"')\n",
    "    .query(\"concentration in [0.25, 1, 4]\")\n",
    "    .reset_index(drop=True)\n",
    ")\n",
    "noisy_data"
   ]
  },
  {
   "cell_type": "markdown",
   "metadata": {},
   "source": [
    "We'll also read in the \"true\" mutation-escape values, $\\beta_{m,e}$, as a reference for later."
   ]
  },
  {
   "cell_type": "code",
   "execution_count": 3,
   "metadata": {},
   "outputs": [
    {
     "data": {
      "text/html": [
       "<div>\n",
       "<style scoped>\n",
       "    .dataframe tbody tr th:only-of-type {\n",
       "        vertical-align: middle;\n",
       "    }\n",
       "\n",
       "    .dataframe tbody tr th {\n",
       "        vertical-align: top;\n",
       "    }\n",
       "\n",
       "    .dataframe thead th {\n",
       "        text-align: right;\n",
       "    }\n",
       "</style>\n",
       "<table border=\"1\" class=\"dataframe\">\n",
       "  <thead>\n",
       "    <tr style=\"text-align: right;\">\n",
       "      <th></th>\n",
       "      <th>epitope</th>\n",
       "      <th>mutation</th>\n",
       "      <th>escape</th>\n",
       "    </tr>\n",
       "  </thead>\n",
       "  <tbody>\n",
       "    <tr>\n",
       "      <th>0</th>\n",
       "      <td>1</td>\n",
       "      <td>N331A</td>\n",
       "      <td>0.08226</td>\n",
       "    </tr>\n",
       "    <tr>\n",
       "      <th>1</th>\n",
       "      <td>1</td>\n",
       "      <td>N331D</td>\n",
       "      <td>0.77700</td>\n",
       "    </tr>\n",
       "    <tr>\n",
       "      <th>2</th>\n",
       "      <td>1</td>\n",
       "      <td>N331E</td>\n",
       "      <td>0.08226</td>\n",
       "    </tr>\n",
       "    <tr>\n",
       "      <th>3</th>\n",
       "      <td>1</td>\n",
       "      <td>N331F</td>\n",
       "      <td>0.08226</td>\n",
       "    </tr>\n",
       "    <tr>\n",
       "      <th>4</th>\n",
       "      <td>1</td>\n",
       "      <td>N331G</td>\n",
       "      <td>1.70100</td>\n",
       "    </tr>\n",
       "    <tr>\n",
       "      <th>...</th>\n",
       "      <td>...</td>\n",
       "      <td>...</td>\n",
       "      <td>...</td>\n",
       "    </tr>\n",
       "    <tr>\n",
       "      <th>5791</th>\n",
       "      <td>3</td>\n",
       "      <td>T531R</td>\n",
       "      <td>0.72620</td>\n",
       "    </tr>\n",
       "    <tr>\n",
       "      <th>5792</th>\n",
       "      <td>3</td>\n",
       "      <td>T531S</td>\n",
       "      <td>0.72620</td>\n",
       "    </tr>\n",
       "    <tr>\n",
       "      <th>5793</th>\n",
       "      <td>3</td>\n",
       "      <td>T531V</td>\n",
       "      <td>0.72480</td>\n",
       "    </tr>\n",
       "    <tr>\n",
       "      <th>5794</th>\n",
       "      <td>3</td>\n",
       "      <td>T531W</td>\n",
       "      <td>0.72280</td>\n",
       "    </tr>\n",
       "    <tr>\n",
       "      <th>5795</th>\n",
       "      <td>3</td>\n",
       "      <td>T531Y</td>\n",
       "      <td>0.72620</td>\n",
       "    </tr>\n",
       "  </tbody>\n",
       "</table>\n",
       "<p>5796 rows × 3 columns</p>\n",
       "</div>"
      ],
      "text/plain": [
       "     epitope mutation   escape\n",
       "0          1    N331A  0.08226\n",
       "1          1    N331D  0.77700\n",
       "2          1    N331E  0.08226\n",
       "3          1    N331F  0.08226\n",
       "4          1    N331G  1.70100\n",
       "...      ...      ...      ...\n",
       "5791       3    T531R  0.72620\n",
       "5792       3    T531S  0.72620\n",
       "5793       3    T531V  0.72480\n",
       "5794       3    T531W  0.72280\n",
       "5795       3    T531Y  0.72620\n",
       "\n",
       "[5796 rows x 3 columns]"
      ]
     },
     "execution_count": 3,
     "metadata": {},
     "output_type": "execute_result"
    }
   ],
   "source": [
    "true_mut_escape_df = pd.read_csv(\"RBD_mut_escape_df.csv\").replace(\n",
    "    \"class \", \"\", regex=True\n",
    ")\n",
    "true_mut_escape_df"
   ]
  },
  {
   "cell_type": "markdown",
   "metadata": {},
   "source": [
    "Additionally, we’ll make a directory for storing our fit models as [pickle](https://docs.python.org/3/library/pickle.html#module-pickle) files, so that we can conveniently load them in the future without having to fit again."
   ]
  },
  {
   "cell_type": "code",
   "execution_count": 4,
   "metadata": {},
   "outputs": [],
   "source": [
    "os.makedirs(\"fit_polyclonal_models\", exist_ok=True)"
   ]
  },
  {
   "cell_type": "markdown",
   "metadata": {},
   "source": [
    "## Specifying epitopes without prior knowledge"
   ]
  },
  {
   "cell_type": "markdown",
   "metadata": {},
   "source": [
    "First, we'll simulate a case in which we have no prior knowledge about which sites confer antibody escape. Thus, we will only supply guesses for the number of epitopes targeted by the polyclonal sera. We can guess that there are probably at least 2 epitopes targeted by polyclonal sera, so we'll start by specifying 2 epitopes and iteratively fit `Polyclonal` models with increasing number of epitopes.  "
   ]
  },
  {
   "cell_type": "code",
   "execution_count": 5,
   "metadata": {},
   "outputs": [
    {
     "name": "stdout",
     "output_type": "stream",
     "text": [
      "Model with 2 epitopes specified was already fit.\n",
      "Model with 3 epitopes specified was already fit.\n",
      "Model with 4 epitopes specified was already fit.\n"
     ]
    }
   ],
   "source": [
    "n_epitopes = [2, 3, 4]\n",
    "\n",
    "# store fit models for future lookup\n",
    "fit_mut_escape = {}\n",
    "\n",
    "for e in n_epitopes:\n",
    "    # The key for the fit model\n",
    "    model_string = f\"noisy_[0.25, 1, 4]conc_3muts_{e}epitopes_noinit\"\n",
    "\n",
    "    # If the pickled model exists in the fit_polyclonal_models directory, load it.\n",
    "    if os.path.exists(f\"fit_polyclonal_models/{model_string}.pkl\") is True:\n",
    "        model = pickle.load(open(f\"fit_polyclonal_models/{model_string}.pkl\", \"rb\"))\n",
    "        fit_mut_escape.update({model_string: model})\n",
    "        print(f\"Model with {e} epitopes specified was already fit.\")\n",
    "    else:\n",
    "        # Else, fit a model and save it to the fit_polyclonal_models directory.\n",
    "        model = polyclonal.Polyclonal(\n",
    "            data_to_fit=noisy_data,\n",
    "            n_epitopes=e,\n",
    "        )\n",
    "        opt_res = model.fit(logfreq=500)\n",
    "        fit_mut_escape.update({model_string: model})\n",
    "        pickle.dump(model, open(f\"fit_polyclonal_models/{model_string}.pkl\", \"wb\"))"
   ]
  },
  {
   "cell_type": "markdown",
   "metadata": {},
   "source": [
    "We can correlate the $\\beta_{m,e}$ values for each of the epitopes fit by `Polyclonal` to the $\\beta_{m,e}$ values for each of the three \"true\" epitopes. These $\\beta_{m,e}$ values represent the extent to which mutations mediate escape from specific epitopes."
   ]
  },
  {
   "cell_type": "code",
   "execution_count": 6,
   "metadata": {},
   "outputs": [],
   "source": [
    "plot_data = pd.DataFrame()\n",
    "for e in n_epitopes:\n",
    "    model = fit_mut_escape[f\"noisy_[0.25, 1, 4]conc_3muts_{e}epitopes_noinit\"]\n",
    "\n",
    "    # get correlation of mutation-escape values between all pairwise combinations of fit vs. true epitopes\n",
    "    for true_e, fit_e in list(\n",
    "        itertools.product(\n",
    "            true_mut_escape_df[\"epitope\"].unique(),\n",
    "            model.mut_escape_df[\"epitope\"].unique(),\n",
    "        )\n",
    "    ):\n",
    "\n",
    "        df = true_mut_escape_df.query(f'epitope == \"{true_e}\"').merge(\n",
    "            (\n",
    "                model.mut_escape_df.rename(\n",
    "                    columns={\n",
    "                        \"escape\": \"predicted escape\",\n",
    "                        \"epitope\": \"predicted epitope\",\n",
    "                    }\n",
    "                ).query(f'`predicted epitope` == \"{fit_e}\"')\n",
    "            ),\n",
    "            on=\"mutation\",\n",
    "            validate=\"one_to_one\",\n",
    "        )\n",
    "\n",
    "        corr = df[\"escape\"].corr(df[\"predicted escape\"] ** 2)\n",
    "\n",
    "        plot_data = pd.concat(\n",
    "            [\n",
    "                plot_data,\n",
    "                pd.DataFrame(\n",
    "                    data={\n",
    "                        \"Number of fit epitopes\": [e],\n",
    "                        \"True epitope class\": [true_e],\n",
    "                        \"Fit epitope class\": [fit_e],\n",
    "                        \"Correlation (R^2)\": [corr],\n",
    "                    }\n",
    "                ),\n",
    "            ]\n",
    "        ).reset_index(drop=True)"
   ]
  },
  {
   "cell_type": "code",
   "execution_count": 7,
   "metadata": {},
   "outputs": [
    {
     "data": {
      "text/html": [
       "\n",
       "<div id=\"altair-viz-ad745dcf1d4e450c9dad001acb147cbe\"></div>\n",
       "<script type=\"text/javascript\">\n",
       "  (function(spec, embedOpt){\n",
       "    let outputDiv = document.currentScript.previousElementSibling;\n",
       "    if (outputDiv.id !== \"altair-viz-ad745dcf1d4e450c9dad001acb147cbe\") {\n",
       "      outputDiv = document.getElementById(\"altair-viz-ad745dcf1d4e450c9dad001acb147cbe\");\n",
       "    }\n",
       "    const paths = {\n",
       "      \"vega\": \"https://cdn.jsdelivr.net/npm//vega@5?noext\",\n",
       "      \"vega-lib\": \"https://cdn.jsdelivr.net/npm//vega-lib?noext\",\n",
       "      \"vega-lite\": \"https://cdn.jsdelivr.net/npm//vega-lite@4.8.1?noext\",\n",
       "      \"vega-embed\": \"https://cdn.jsdelivr.net/npm//vega-embed@6?noext\",\n",
       "    };\n",
       "\n",
       "    function loadScript(lib) {\n",
       "      return new Promise(function(resolve, reject) {\n",
       "        var s = document.createElement('script');\n",
       "        s.src = paths[lib];\n",
       "        s.async = true;\n",
       "        s.onload = () => resolve(paths[lib]);\n",
       "        s.onerror = () => reject(`Error loading script: ${paths[lib]}`);\n",
       "        document.getElementsByTagName(\"head\")[0].appendChild(s);\n",
       "      });\n",
       "    }\n",
       "\n",
       "    function showError(err) {\n",
       "      outputDiv.innerHTML = `<div class=\"error\" style=\"color:red;\">${err}</div>`;\n",
       "      throw err;\n",
       "    }\n",
       "\n",
       "    function displayChart(vegaEmbed) {\n",
       "      vegaEmbed(outputDiv, spec, embedOpt)\n",
       "        .catch(err => showError(`Javascript Error: ${err.message}<br>This usually means there's a typo in your chart specification. See the javascript console for the full traceback.`));\n",
       "    }\n",
       "\n",
       "    if(typeof define === \"function\" && define.amd) {\n",
       "      requirejs.config({paths});\n",
       "      require([\"vega-embed\"], displayChart, err => showError(`Error loading script: ${err.message}`));\n",
       "    } else if (typeof vegaEmbed === \"function\") {\n",
       "      displayChart(vegaEmbed);\n",
       "    } else {\n",
       "      loadScript(\"vega\")\n",
       "        .then(() => loadScript(\"vega-lite\"))\n",
       "        .then(() => loadScript(\"vega-embed\"))\n",
       "        .catch(showError)\n",
       "        .then(() => displayChart(vegaEmbed));\n",
       "    }\n",
       "  })({\"config\": {\"view\": {\"continuousWidth\": 400, \"continuousHeight\": 300}}, \"data\": {\"name\": \"data-a0abb9e57bde10b2377bfc5503a91b5a\"}, \"facet\": {\"type\": \"quantitative\", \"field\": \"Number of fit epitopes\"}, \"spec\": {\"mark\": {\"type\": \"rect\", \"opacity\": 0.95, \"stroke\": \"black\"}, \"encoding\": {\"color\": {\"type\": \"quantitative\", \"field\": \"Correlation (R^2)\", \"scale\": {\"scheme\": \"viridis\"}}, \"tooltip\": [{\"type\": \"ordinal\", \"field\": \"Fit epitope class\"}, {\"type\": \"ordinal\", \"field\": \"True epitope class\"}, {\"type\": \"quantitative\", \"field\": \"Correlation (R^2)\", \"format\": \".3f\"}], \"x\": {\"type\": \"ordinal\", \"field\": \"Fit epitope class\"}, \"y\": {\"type\": \"ordinal\", \"field\": \"True epitope class\"}}, \"height\": 100, \"width\": 130}, \"$schema\": \"https://vega.github.io/schema/vega-lite/v4.8.1.json\", \"datasets\": {\"data-a0abb9e57bde10b2377bfc5503a91b5a\": [{\"Number of fit epitopes\": 2, \"True epitope class\": \"1\", \"Fit epitope class\": \"1\", \"Correlation (R^2)\": 0.01860005620972356}, {\"Number of fit epitopes\": 2, \"True epitope class\": \"1\", \"Fit epitope class\": \"2\", \"Correlation (R^2)\": 0.1302369706405676}, {\"Number of fit epitopes\": 2, \"True epitope class\": \"2\", \"Fit epitope class\": \"1\", \"Correlation (R^2)\": -0.05939077406935022}, {\"Number of fit epitopes\": 2, \"True epitope class\": \"2\", \"Fit epitope class\": \"2\", \"Correlation (R^2)\": 0.8885633539790244}, {\"Number of fit epitopes\": 2, \"True epitope class\": \"3\", \"Fit epitope class\": \"1\", \"Correlation (R^2)\": 0.8187929458069568}, {\"Number of fit epitopes\": 2, \"True epitope class\": \"3\", \"Fit epitope class\": \"2\", \"Correlation (R^2)\": -0.05613237024538183}, {\"Number of fit epitopes\": 3, \"True epitope class\": \"1\", \"Fit epitope class\": \"1\", \"Correlation (R^2)\": 0.8545632612768838}, {\"Number of fit epitopes\": 3, \"True epitope class\": \"1\", \"Fit epitope class\": \"2\", \"Correlation (R^2)\": 0.06873601010461954}, {\"Number of fit epitopes\": 3, \"True epitope class\": \"1\", \"Fit epitope class\": \"3\", \"Correlation (R^2)\": -0.08687005108718257}, {\"Number of fit epitopes\": 3, \"True epitope class\": \"2\", \"Fit epitope class\": \"1\", \"Correlation (R^2)\": 0.21710435049598475}, {\"Number of fit epitopes\": 3, \"True epitope class\": \"2\", \"Fit epitope class\": \"2\", \"Correlation (R^2)\": 0.969576703939707}, {\"Number of fit epitopes\": 3, \"True epitope class\": \"2\", \"Fit epitope class\": \"3\", \"Correlation (R^2)\": -0.06041333355663639}, {\"Number of fit epitopes\": 3, \"True epitope class\": \"3\", \"Fit epitope class\": \"1\", \"Correlation (R^2)\": -0.061713952428458174}, {\"Number of fit epitopes\": 3, \"True epitope class\": \"3\", \"Fit epitope class\": \"2\", \"Correlation (R^2)\": -0.05545171750898726}, {\"Number of fit epitopes\": 3, \"True epitope class\": \"3\", \"Fit epitope class\": \"3\", \"Correlation (R^2)\": 0.951086206025587}, {\"Number of fit epitopes\": 4, \"True epitope class\": \"1\", \"Fit epitope class\": \"1\", \"Correlation (R^2)\": 0.8544979268592466}, {\"Number of fit epitopes\": 4, \"True epitope class\": \"1\", \"Fit epitope class\": \"2\", \"Correlation (R^2)\": 0.06872972036736467}, {\"Number of fit epitopes\": 4, \"True epitope class\": \"1\", \"Fit epitope class\": \"3\", \"Correlation (R^2)\": -0.0871031930653048}, {\"Number of fit epitopes\": 4, \"True epitope class\": \"1\", \"Fit epitope class\": \"4\", \"Correlation (R^2)\": 0.02150491245465886}, {\"Number of fit epitopes\": 4, \"True epitope class\": \"2\", \"Fit epitope class\": \"1\", \"Correlation (R^2)\": 0.21580555182889352}, {\"Number of fit epitopes\": 4, \"True epitope class\": \"2\", \"Fit epitope class\": \"2\", \"Correlation (R^2)\": 0.9688941703510153}, {\"Number of fit epitopes\": 4, \"True epitope class\": \"2\", \"Fit epitope class\": \"3\", \"Correlation (R^2)\": -0.06037957743903339}, {\"Number of fit epitopes\": 4, \"True epitope class\": \"2\", \"Fit epitope class\": \"4\", \"Correlation (R^2)\": 0.3092167792298324}, {\"Number of fit epitopes\": 4, \"True epitope class\": \"3\", \"Fit epitope class\": \"1\", \"Correlation (R^2)\": -0.060873105128673125}, {\"Number of fit epitopes\": 4, \"True epitope class\": \"3\", \"Fit epitope class\": \"2\", \"Correlation (R^2)\": -0.055395654919189505}, {\"Number of fit epitopes\": 4, \"True epitope class\": \"3\", \"Fit epitope class\": \"3\", \"Correlation (R^2)\": 0.9512655279282338}, {\"Number of fit epitopes\": 4, \"True epitope class\": \"3\", \"Fit epitope class\": \"4\", \"Correlation (R^2)\": 0.1582557484756849}]}}, {\"mode\": \"vega-lite\"});\n",
       "</script>"
      ],
      "text/plain": [
       "alt.FacetChart(...)"
      ]
     },
     "execution_count": 7,
     "metadata": {},
     "output_type": "execute_result"
    }
   ],
   "source": [
    "alt.Chart(plot_data).mark_rect(opacity=0.95, stroke=\"black\",).encode(\n",
    "    x=\"Fit epitope class:O\",\n",
    "    y=\"True epitope class:O\",\n",
    "    color=alt.Color(\"Correlation (R^2):Q\", scale=alt.Scale(scheme=\"viridis\")),\n",
    "    tooltip=[\n",
    "        \"Fit epitope class:O\",\n",
    "        \"True epitope class:O\",\n",
    "        alt.Tooltip(\"Correlation (R^2)\", format=\".3f\"),\n",
    "    ],\n",
    ").properties(width=130, height=100,).facet(\n",
    "    \"Number of fit epitopes\",\n",
    ")"
   ]
  },
  {
   "cell_type": "markdown",
   "metadata": {},
   "source": [
    "We can also visualize the wildtype activity values, $a_{wt,e}$."
   ]
  },
  {
   "cell_type": "code",
   "execution_count": 8,
   "metadata": {},
   "outputs": [
    {
     "name": "stdout",
     "output_type": "stream",
     "text": [
      "Number of fit epitopes: 2\n"
     ]
    },
    {
     "data": {
      "text/html": [
       "\n",
       "<div id=\"altair-viz-1addb9012cdc44af9ac97d51ca84a18d\"></div>\n",
       "<script type=\"text/javascript\">\n",
       "  (function(spec, embedOpt){\n",
       "    let outputDiv = document.currentScript.previousElementSibling;\n",
       "    if (outputDiv.id !== \"altair-viz-1addb9012cdc44af9ac97d51ca84a18d\") {\n",
       "      outputDiv = document.getElementById(\"altair-viz-1addb9012cdc44af9ac97d51ca84a18d\");\n",
       "    }\n",
       "    const paths = {\n",
       "      \"vega\": \"https://cdn.jsdelivr.net/npm//vega@5?noext\",\n",
       "      \"vega-lib\": \"https://cdn.jsdelivr.net/npm//vega-lib?noext\",\n",
       "      \"vega-lite\": \"https://cdn.jsdelivr.net/npm//vega-lite@4.8.1?noext\",\n",
       "      \"vega-embed\": \"https://cdn.jsdelivr.net/npm//vega-embed@6?noext\",\n",
       "    };\n",
       "\n",
       "    function loadScript(lib) {\n",
       "      return new Promise(function(resolve, reject) {\n",
       "        var s = document.createElement('script');\n",
       "        s.src = paths[lib];\n",
       "        s.async = true;\n",
       "        s.onload = () => resolve(paths[lib]);\n",
       "        s.onerror = () => reject(`Error loading script: ${paths[lib]}`);\n",
       "        document.getElementsByTagName(\"head\")[0].appendChild(s);\n",
       "      });\n",
       "    }\n",
       "\n",
       "    function showError(err) {\n",
       "      outputDiv.innerHTML = `<div class=\"error\" style=\"color:red;\">${err}</div>`;\n",
       "      throw err;\n",
       "    }\n",
       "\n",
       "    function displayChart(vegaEmbed) {\n",
       "      vegaEmbed(outputDiv, spec, embedOpt)\n",
       "        .catch(err => showError(`Javascript Error: ${err.message}<br>This usually means there's a typo in your chart specification. See the javascript console for the full traceback.`));\n",
       "    }\n",
       "\n",
       "    if(typeof define === \"function\" && define.amd) {\n",
       "      requirejs.config({paths});\n",
       "      require([\"vega-embed\"], displayChart, err => showError(`Error loading script: ${err.message}`));\n",
       "    } else if (typeof vegaEmbed === \"function\") {\n",
       "      displayChart(vegaEmbed);\n",
       "    } else {\n",
       "      loadScript(\"vega\")\n",
       "        .then(() => loadScript(\"vega-lite\"))\n",
       "        .then(() => loadScript(\"vega-embed\"))\n",
       "        .catch(showError)\n",
       "        .then(() => displayChart(vegaEmbed));\n",
       "    }\n",
       "  })({\"config\": {\"view\": {\"continuousWidth\": 400, \"continuousHeight\": 300}, \"axis\": {\"grid\": false}}, \"data\": {\"name\": \"data-d9812fe155ed5f7728ae3bca008aafb1\"}, \"mark\": {\"type\": \"bar\", \"size\": 18.75}, \"encoding\": {\"color\": {\"type\": \"nominal\", \"field\": \"epitope\", \"legend\": null, \"scale\": {\"domain\": [\"1\", \"2\"], \"range\": [\"#1f77b4\", \"#ff7f0e\"]}}, \"tooltip\": [{\"type\": \"nominal\", \"field\": \"epitope\"}, {\"type\": \"quantitative\", \"field\": \"activity\", \"format\": \".3g\"}], \"x\": {\"type\": \"quantitative\", \"field\": \"activity\"}, \"y\": {\"type\": \"nominal\", \"field\": \"epitope\"}}, \"height\": {\"step\": 25}, \"width\": 110, \"$schema\": \"https://vega.github.io/schema/vega-lite/v4.8.1.json\", \"datasets\": {\"data-d9812fe155ed5f7728ae3bca008aafb1\": [{\"epitope\": \"1\", \"activity\": 2.3663516417691577}, {\"epitope\": \"2\", \"activity\": 3.381695183658492}]}}, {\"mode\": \"vega-lite\"});\n",
       "</script>"
      ],
      "text/plain": [
       "alt.Chart(...)"
      ]
     },
     "metadata": {},
     "output_type": "display_data"
    },
    {
     "name": "stdout",
     "output_type": "stream",
     "text": [
      "Number of fit epitopes: 3\n"
     ]
    },
    {
     "data": {
      "text/html": [
       "\n",
       "<div id=\"altair-viz-390bc2f8be9c48a89a6c6852ee22cb2a\"></div>\n",
       "<script type=\"text/javascript\">\n",
       "  (function(spec, embedOpt){\n",
       "    let outputDiv = document.currentScript.previousElementSibling;\n",
       "    if (outputDiv.id !== \"altair-viz-390bc2f8be9c48a89a6c6852ee22cb2a\") {\n",
       "      outputDiv = document.getElementById(\"altair-viz-390bc2f8be9c48a89a6c6852ee22cb2a\");\n",
       "    }\n",
       "    const paths = {\n",
       "      \"vega\": \"https://cdn.jsdelivr.net/npm//vega@5?noext\",\n",
       "      \"vega-lib\": \"https://cdn.jsdelivr.net/npm//vega-lib?noext\",\n",
       "      \"vega-lite\": \"https://cdn.jsdelivr.net/npm//vega-lite@4.8.1?noext\",\n",
       "      \"vega-embed\": \"https://cdn.jsdelivr.net/npm//vega-embed@6?noext\",\n",
       "    };\n",
       "\n",
       "    function loadScript(lib) {\n",
       "      return new Promise(function(resolve, reject) {\n",
       "        var s = document.createElement('script');\n",
       "        s.src = paths[lib];\n",
       "        s.async = true;\n",
       "        s.onload = () => resolve(paths[lib]);\n",
       "        s.onerror = () => reject(`Error loading script: ${paths[lib]}`);\n",
       "        document.getElementsByTagName(\"head\")[0].appendChild(s);\n",
       "      });\n",
       "    }\n",
       "\n",
       "    function showError(err) {\n",
       "      outputDiv.innerHTML = `<div class=\"error\" style=\"color:red;\">${err}</div>`;\n",
       "      throw err;\n",
       "    }\n",
       "\n",
       "    function displayChart(vegaEmbed) {\n",
       "      vegaEmbed(outputDiv, spec, embedOpt)\n",
       "        .catch(err => showError(`Javascript Error: ${err.message}<br>This usually means there's a typo in your chart specification. See the javascript console for the full traceback.`));\n",
       "    }\n",
       "\n",
       "    if(typeof define === \"function\" && define.amd) {\n",
       "      requirejs.config({paths});\n",
       "      require([\"vega-embed\"], displayChart, err => showError(`Error loading script: ${err.message}`));\n",
       "    } else if (typeof vegaEmbed === \"function\") {\n",
       "      displayChart(vegaEmbed);\n",
       "    } else {\n",
       "      loadScript(\"vega\")\n",
       "        .then(() => loadScript(\"vega-lite\"))\n",
       "        .then(() => loadScript(\"vega-embed\"))\n",
       "        .catch(showError)\n",
       "        .then(() => displayChart(vegaEmbed));\n",
       "    }\n",
       "  })({\"config\": {\"view\": {\"continuousWidth\": 400, \"continuousHeight\": 300}, \"axis\": {\"grid\": false}}, \"data\": {\"name\": \"data-43d29990f571ff65ca057dd6411b5806\"}, \"mark\": {\"type\": \"bar\", \"size\": 18.75}, \"encoding\": {\"color\": {\"type\": \"nominal\", \"field\": \"epitope\", \"legend\": null, \"scale\": {\"domain\": [\"1\", \"2\", \"3\"], \"range\": [\"#1f77b4\", \"#ff7f0e\", \"#2ca02c\"]}}, \"tooltip\": [{\"type\": \"nominal\", \"field\": \"epitope\"}, {\"type\": \"quantitative\", \"field\": \"activity\", \"format\": \".3g\"}], \"x\": {\"type\": \"quantitative\", \"field\": \"activity\"}, \"y\": {\"type\": \"nominal\", \"field\": \"epitope\"}}, \"height\": {\"step\": 25}, \"width\": 110, \"$schema\": \"https://vega.github.io/schema/vega-lite/v4.8.1.json\", \"datasets\": {\"data-43d29990f571ff65ca057dd6411b5806\": [{\"epitope\": \"1\", \"activity\": 1.1264416346216721}, {\"epitope\": \"2\", \"activity\": 3.1717961959701473}, {\"epitope\": \"3\", \"activity\": 2.0517223378334712}]}}, {\"mode\": \"vega-lite\"});\n",
       "</script>"
      ],
      "text/plain": [
       "alt.Chart(...)"
      ]
     },
     "metadata": {},
     "output_type": "display_data"
    },
    {
     "name": "stdout",
     "output_type": "stream",
     "text": [
      "Number of fit epitopes: 4\n"
     ]
    },
    {
     "data": {
      "text/html": [
       "\n",
       "<div id=\"altair-viz-a54d460beca746738709f26543d77f63\"></div>\n",
       "<script type=\"text/javascript\">\n",
       "  (function(spec, embedOpt){\n",
       "    let outputDiv = document.currentScript.previousElementSibling;\n",
       "    if (outputDiv.id !== \"altair-viz-a54d460beca746738709f26543d77f63\") {\n",
       "      outputDiv = document.getElementById(\"altair-viz-a54d460beca746738709f26543d77f63\");\n",
       "    }\n",
       "    const paths = {\n",
       "      \"vega\": \"https://cdn.jsdelivr.net/npm//vega@5?noext\",\n",
       "      \"vega-lib\": \"https://cdn.jsdelivr.net/npm//vega-lib?noext\",\n",
       "      \"vega-lite\": \"https://cdn.jsdelivr.net/npm//vega-lite@4.8.1?noext\",\n",
       "      \"vega-embed\": \"https://cdn.jsdelivr.net/npm//vega-embed@6?noext\",\n",
       "    };\n",
       "\n",
       "    function loadScript(lib) {\n",
       "      return new Promise(function(resolve, reject) {\n",
       "        var s = document.createElement('script');\n",
       "        s.src = paths[lib];\n",
       "        s.async = true;\n",
       "        s.onload = () => resolve(paths[lib]);\n",
       "        s.onerror = () => reject(`Error loading script: ${paths[lib]}`);\n",
       "        document.getElementsByTagName(\"head\")[0].appendChild(s);\n",
       "      });\n",
       "    }\n",
       "\n",
       "    function showError(err) {\n",
       "      outputDiv.innerHTML = `<div class=\"error\" style=\"color:red;\">${err}</div>`;\n",
       "      throw err;\n",
       "    }\n",
       "\n",
       "    function displayChart(vegaEmbed) {\n",
       "      vegaEmbed(outputDiv, spec, embedOpt)\n",
       "        .catch(err => showError(`Javascript Error: ${err.message}<br>This usually means there's a typo in your chart specification. See the javascript console for the full traceback.`));\n",
       "    }\n",
       "\n",
       "    if(typeof define === \"function\" && define.amd) {\n",
       "      requirejs.config({paths});\n",
       "      require([\"vega-embed\"], displayChart, err => showError(`Error loading script: ${err.message}`));\n",
       "    } else if (typeof vegaEmbed === \"function\") {\n",
       "      displayChart(vegaEmbed);\n",
       "    } else {\n",
       "      loadScript(\"vega\")\n",
       "        .then(() => loadScript(\"vega-lite\"))\n",
       "        .then(() => loadScript(\"vega-embed\"))\n",
       "        .catch(showError)\n",
       "        .then(() => displayChart(vegaEmbed));\n",
       "    }\n",
       "  })({\"config\": {\"view\": {\"continuousWidth\": 400, \"continuousHeight\": 300}, \"axis\": {\"grid\": false}}, \"data\": {\"name\": \"data-9ab562be3586aedfbb67b18d1c0e0ec7\"}, \"mark\": {\"type\": \"bar\", \"size\": 18.75}, \"encoding\": {\"color\": {\"type\": \"nominal\", \"field\": \"epitope\", \"legend\": null, \"scale\": {\"domain\": [\"1\", \"2\", \"3\", \"4\"], \"range\": [\"#1f77b4\", \"#ff7f0e\", \"#2ca02c\", \"#d62728\"]}}, \"tooltip\": [{\"type\": \"nominal\", \"field\": \"epitope\"}, {\"type\": \"quantitative\", \"field\": \"activity\", \"format\": \".3g\"}], \"x\": {\"type\": \"quantitative\", \"field\": \"activity\"}, \"y\": {\"type\": \"nominal\", \"field\": \"epitope\"}}, \"height\": {\"step\": 25}, \"width\": 110, \"$schema\": \"https://vega.github.io/schema/vega-lite/v4.8.1.json\", \"datasets\": {\"data-9ab562be3586aedfbb67b18d1c0e0ec7\": [{\"epitope\": \"1\", \"activity\": 1.1275469136918395}, {\"epitope\": \"2\", \"activity\": 3.1720027404558793}, {\"epitope\": \"3\", \"activity\": 2.050891164940849}, {\"epitope\": \"4\", \"activity\": -13.029426433826405}]}}, {\"mode\": \"vega-lite\"});\n",
       "</script>"
      ],
      "text/plain": [
       "alt.Chart(...)"
      ]
     },
     "metadata": {},
     "output_type": "display_data"
    }
   ],
   "source": [
    "for e in n_epitopes:\n",
    "    model = fit_mut_escape[f\"noisy_[0.25, 1, 4]conc_3muts_{e}epitopes_noinit\"]\n",
    "    print(f\"Number of fit epitopes: {e}\")\n",
    "    display(model.activity_wt_barplot())"
   ]
  },
  {
   "cell_type": "markdown",
   "metadata": {},
   "source": [
    "In the simulation ground truth, there are three epitopes (class 1, 2, and 3). The order of immunodominance from highest to lowest is class 2 > class 3 > class 1.\n",
    "\n",
    "- The model that specified two epitopes (left heatmap) fit mutation-escape values that strongly correlate with that of the true class 2 and 3 epitopes. This is expected, as the model prioritizes epitopes by their immunodominance and ignores the most subdominant class 1 epitope.\n",
    "\n",
    "- The model that specified three epitopes (center heatmap) fit mutation-escape values that strongly correlate with that of the true class 1, 2, and 3 epitopes. This is also expected, suggesting that the class 1 epitope, though subdominant, is not redundant. \n",
    "\n",
    "- The model that specified four epitopes (right heatmap) fit three epitopes with mutation-escape values that strongly correlate with that of the true class 1, 2, and 3 epitopes. However, the fourth fit epitope did not correlate with any of the true epitopes. This \"redundant\" epitope also had a strongly negative wildtype activity value, suggesting that antibodies targeting that \"epitope\" don't make an appreciable contribution to the observed data."
   ]
  },
  {
   "cell_type": "markdown",
   "metadata": {},
   "source": [
    "Additionally, we can look at the correlation between “true” and predicted IC90’s for each of the fit models. To do this, we’ll predict the IC90’s of variants in a separate library with a different (higher) mutation rate. We therefore read in the “exact” simulated data from a library containing variants with an average of four mutations per gene."
   ]
  },
  {
   "cell_type": "code",
   "execution_count": 9,
   "metadata": {},
   "outputs": [],
   "source": [
    "exact_data = (\n",
    "    pd.read_csv(\"RBD_variants_escape_exact.csv\", na_filter=None)\n",
    "    .query('library == \"avg4muts\"')\n",
    "    .query(\"concentration in [1]\")\n",
    "    .reset_index(drop=True)\n",
    ")"
   ]
  },
  {
   "cell_type": "markdown",
   "metadata": {},
   "source": [
    "We’ll make the comparison on a log scale, and clip IC90s at values >50 as that is likely to be way outside the dynamic range given the concentrations used."
   ]
  },
  {
   "cell_type": "code",
   "execution_count": 10,
   "metadata": {},
   "outputs": [],
   "source": [
    "ic90_corrs = pd.DataFrame()\n",
    "\n",
    "max_ic90 = 50\n",
    "for e in n_epitopes:\n",
    "    model = fit_mut_escape[f\"noisy_[0.25, 1, 4]conc_3muts_{e}epitopes_noinit\"]\n",
    "\n",
    "    ic90s = (\n",
    "        exact_data[[\"aa_substitutions\", \"IC90\"]]\n",
    "        .assign(IC90=lambda x: x[\"IC90\"].clip(upper=max_ic90))\n",
    "        .drop_duplicates()\n",
    "    )\n",
    "    ic90s = model.filter_variants_by_seen_muts(ic90s)\n",
    "    ic90s = model.icXX(ic90s, x=0.9, col=\"predicted_IC90\", max_c=max_ic90)\n",
    "\n",
    "    ic90s = ic90s.assign(\n",
    "        log_IC90=lambda x: np.log10(x[\"IC90\"]),\n",
    "        predicted_log_IC90=lambda x: np.log10(x[\"predicted_IC90\"]),\n",
    "    )\n",
    "\n",
    "    corr = ic90s[\"log_IC90\"].corr(ic90s[\"predicted_log_IC90\"]) ** 2\n",
    "\n",
    "    ic90_corrs = pd.concat(\n",
    "        [\n",
    "            ic90_corrs,\n",
    "            pd.DataFrame(\n",
    "                {\n",
    "                    \"Correlation (R^2)\": corr,\n",
    "                    \"Number of fit epitopes\": [e],\n",
    "                }\n",
    "            ),\n",
    "        ]\n",
    "    )"
   ]
  },
  {
   "cell_type": "code",
   "execution_count": 11,
   "metadata": {},
   "outputs": [
    {
     "data": {
      "text/html": [
       "\n",
       "<div id=\"altair-viz-cee9abbe4d364ee791b36951fe3d7a12\"></div>\n",
       "<script type=\"text/javascript\">\n",
       "  (function(spec, embedOpt){\n",
       "    let outputDiv = document.currentScript.previousElementSibling;\n",
       "    if (outputDiv.id !== \"altair-viz-cee9abbe4d364ee791b36951fe3d7a12\") {\n",
       "      outputDiv = document.getElementById(\"altair-viz-cee9abbe4d364ee791b36951fe3d7a12\");\n",
       "    }\n",
       "    const paths = {\n",
       "      \"vega\": \"https://cdn.jsdelivr.net/npm//vega@5?noext\",\n",
       "      \"vega-lib\": \"https://cdn.jsdelivr.net/npm//vega-lib?noext\",\n",
       "      \"vega-lite\": \"https://cdn.jsdelivr.net/npm//vega-lite@4.8.1?noext\",\n",
       "      \"vega-embed\": \"https://cdn.jsdelivr.net/npm//vega-embed@6?noext\",\n",
       "    };\n",
       "\n",
       "    function loadScript(lib) {\n",
       "      return new Promise(function(resolve, reject) {\n",
       "        var s = document.createElement('script');\n",
       "        s.src = paths[lib];\n",
       "        s.async = true;\n",
       "        s.onload = () => resolve(paths[lib]);\n",
       "        s.onerror = () => reject(`Error loading script: ${paths[lib]}`);\n",
       "        document.getElementsByTagName(\"head\")[0].appendChild(s);\n",
       "      });\n",
       "    }\n",
       "\n",
       "    function showError(err) {\n",
       "      outputDiv.innerHTML = `<div class=\"error\" style=\"color:red;\">${err}</div>`;\n",
       "      throw err;\n",
       "    }\n",
       "\n",
       "    function displayChart(vegaEmbed) {\n",
       "      vegaEmbed(outputDiv, spec, embedOpt)\n",
       "        .catch(err => showError(`Javascript Error: ${err.message}<br>This usually means there's a typo in your chart specification. See the javascript console for the full traceback.`));\n",
       "    }\n",
       "\n",
       "    if(typeof define === \"function\" && define.amd) {\n",
       "      requirejs.config({paths});\n",
       "      require([\"vega-embed\"], displayChart, err => showError(`Error loading script: ${err.message}`));\n",
       "    } else if (typeof vegaEmbed === \"function\") {\n",
       "      displayChart(vegaEmbed);\n",
       "    } else {\n",
       "      loadScript(\"vega\")\n",
       "        .then(() => loadScript(\"vega-lite\"))\n",
       "        .then(() => loadScript(\"vega-embed\"))\n",
       "        .catch(showError)\n",
       "        .then(() => displayChart(vegaEmbed));\n",
       "    }\n",
       "  })({\"config\": {\"view\": {\"continuousWidth\": 400, \"continuousHeight\": 300}}, \"data\": {\"name\": \"data-4b8ca4fc58c6fecc25b363c7ef0f912c\"}, \"mark\": {\"type\": \"circle\", \"size\": 125}, \"encoding\": {\"tooltip\": [{\"type\": \"quantitative\", \"field\": \"Number of fit epitopes\"}, {\"type\": \"quantitative\", \"field\": \"Correlation (R^2)\", \"format\": \".3f\"}], \"x\": {\"type\": \"ordinal\", \"field\": \"Number of fit epitopes\"}, \"y\": {\"type\": \"quantitative\", \"field\": \"Correlation (R^2)\"}}, \"height\": 150, \"title\": \"predicted vs. true IC90\", \"width\": 200, \"$schema\": \"https://vega.github.io/schema/vega-lite/v4.8.1.json\", \"datasets\": {\"data-4b8ca4fc58c6fecc25b363c7ef0f912c\": [{\"Correlation (R^2)\": 0.9672112406399337, \"Number of fit epitopes\": 2}, {\"Correlation (R^2)\": 0.9931830835546347, \"Number of fit epitopes\": 3}, {\"Correlation (R^2)\": 0.993196293479316, \"Number of fit epitopes\": 4}]}}, {\"mode\": \"vega-lite\"});\n",
       "</script>"
      ],
      "text/plain": [
       "alt.Chart(...)"
      ]
     },
     "execution_count": 11,
     "metadata": {},
     "output_type": "execute_result"
    }
   ],
   "source": [
    "# NBVAL_IGNORE_OUTPUT\n",
    "alt.Chart(ic90_corrs).mark_circle(size=125).encode(\n",
    "    x=\"Number of fit epitopes:O\",\n",
    "    y=\"Correlation (R^2):Q\",\n",
    "    tooltip=[\"Number of fit epitopes\", alt.Tooltip(\"Correlation (R^2)\", format=\".3f\")],\n",
    ").properties(width=200, height=150, title=\"predicted vs. true IC90\")"
   ]
  },
  {
   "cell_type": "markdown",
   "metadata": {},
   "source": [
    "Although the IC90 prediction appears excellent regardless of the number of fit epitopes, adding the 3rd epitope does lead to a small improvement in the prediction."
   ]
  },
  {
   "cell_type": "markdown",
   "metadata": {},
   "source": [
    "## Specifying epitopes with prior knowledge"
   ]
  },
  {
   "cell_type": "markdown",
   "metadata": {},
   "source": [
    "Next, we'll explore the consequences of cases where we think we have prior knowledge of some sites that confer antibody escape, but do not know the exact number of epitopes that are targeted."
   ]
  },
  {
   "cell_type": "markdown",
   "metadata": {},
   "source": [
    "We can start by \"seeding\" initial guesses for 2 epitopes and iteratively fitting `Polyclonal` models with more initial guesses. We know from prior knowledge that site 484 and site 444 are key epitope sites, so we seed them with large mutation-escape values."
   ]
  },
  {
   "cell_type": "code",
   "execution_count": 12,
   "metadata": {},
   "outputs": [
    {
     "name": "stdout",
     "output_type": "stream",
     "text": [
      "Model with 2 epitopes seeded at 484 and 444 was already fit.\n"
     ]
    }
   ],
   "source": [
    "# The key for the fit model\n",
    "model_string = \"noisy_[0.25, 1, 4]conc_3muts_2epitopes_seed484_444\"\n",
    "\n",
    "# If the pickled model exists in the fit_polyclonal_models directory, load it.\n",
    "if os.path.exists(f\"fit_polyclonal_models/{model_string}.pkl\") is True:\n",
    "    model = pickle.load(open(f\"fit_polyclonal_models/{model_string}.pkl\", \"rb\"))\n",
    "    fit_mut_escape.update({model_string: model})\n",
    "    print(f\"Model with 2 epitopes seeded at 484 and 444 was already fit.\")\n",
    "else:\n",
    "    # Else, fit a model and save it to the fit_polyclonal_models directory.\n",
    "    model = polyclonal.Polyclonal(\n",
    "        data_to_fit=noisy_data,\n",
    "        activity_wt_df=pd.DataFrame.from_records(\n",
    "            [\n",
    "                (\"1\", 2.0),\n",
    "                (\"2\", 1.0),\n",
    "            ],\n",
    "            columns=[\"epitope\", \"activity\"],\n",
    "        ),\n",
    "        site_escape_df=pd.DataFrame.from_records(\n",
    "            [\n",
    "                (\"1\", 484, 10.0),\n",
    "                (\"2\", 444, 10.0),\n",
    "            ],\n",
    "            columns=[\"epitope\", \"site\", \"escape\"],\n",
    "        ),\n",
    "        data_mut_escape_overlap=\"fill_to_data\",\n",
    "    )\n",
    "    opt_res = model.fit(logfreq=500)\n",
    "    fit_mut_escape.update({model_string: model})\n",
    "    pickle.dump(model, open(f\"fit_polyclonal_models/{model_string}.pkl\", \"wb\"))"
   ]
  },
  {
   "cell_type": "markdown",
   "metadata": {},
   "source": [
    "Now, we'll fit a `Polyclonal` model with 3 epitopes by seeding an additional key site, 417, which is often considered to be in the most subdominant class 1 epitope."
   ]
  },
  {
   "cell_type": "code",
   "execution_count": 13,
   "metadata": {},
   "outputs": [
    {
     "name": "stdout",
     "output_type": "stream",
     "text": [
      "Model with 3 epitopes seeded at 417, 484, and 444 was already fit.\n"
     ]
    }
   ],
   "source": [
    "# The key for the fit model\n",
    "model_string = \"noisy_[0.25, 1, 4]conc_3muts_3epitopes_seed417_484_444\"\n",
    "\n",
    "# If the pickled model exists in the fit_polyclonal_models directory, load it.\n",
    "if os.path.exists(f\"fit_polyclonal_models/{model_string}.pkl\") is True:\n",
    "    model = pickle.load(open(f\"fit_polyclonal_models/{model_string}.pkl\", \"rb\"))\n",
    "    fit_mut_escape.update({model_string: model})\n",
    "    print(f\"Model with 3 epitopes seeded at 417, 484, and 444 was already fit.\")\n",
    "else:\n",
    "    # Else, fit a model and save it to the fit_polyclonal_models directory.\n",
    "    model = polyclonal.Polyclonal(\n",
    "        data_to_fit=noisy_data,\n",
    "        activity_wt_df=pd.DataFrame.from_records(\n",
    "            [\n",
    "                (\"1\", 1.0),\n",
    "                (\"2\", 3.0),\n",
    "                (\"3\", 2.0),\n",
    "            ],\n",
    "            columns=[\"epitope\", \"activity\"],\n",
    "        ),\n",
    "        site_escape_df=pd.DataFrame.from_records(\n",
    "            [\n",
    "                (\"1\", 417, 10.0),\n",
    "                (\"2\", 484, 10.0),\n",
    "                (\"3\", 444, 10.0),\n",
    "            ],\n",
    "            columns=[\"epitope\", \"site\", \"escape\"],\n",
    "        ),\n",
    "        data_mut_escape_overlap=\"fill_to_data\",\n",
    "    )\n",
    "    opt_res = model.fit(logfreq=500)\n",
    "    fit_mut_escape.update({model_string: model})\n",
    "    pickle.dump(model, open(f\"fit_polyclonal_models/{model_string}.pkl\", \"wb\"))"
   ]
  },
  {
   "cell_type": "markdown",
   "metadata": {},
   "source": [
    "Next, we'll fit a `Polyclonal` model with 4 epitopes and try seeding an additional key site, 386, that is **not** actually in an epitope that is targeted by polyclonal antibodies."
   ]
  },
  {
   "cell_type": "code",
   "execution_count": 14,
   "metadata": {},
   "outputs": [
    {
     "name": "stdout",
     "output_type": "stream",
     "text": [
      "Model with 4 epitopes seeded at 417, 484, 444, and 386 was already fit.\n"
     ]
    }
   ],
   "source": [
    "# The key for the fit model\n",
    "model_string = \"noisy_[0.25, 1, 4]conc_3muts_4epitopes_seed417_484_444_386\"\n",
    "\n",
    "# If the pickled model exists in the fit_polyclonal_models directory, load it.\n",
    "if os.path.exists(f\"fit_polyclonal_models/{model_string}.pkl\") is True:\n",
    "    model = pickle.load(open(f\"fit_polyclonal_models/{model_string}.pkl\", \"rb\"))\n",
    "    fit_mut_escape.update({model_string: model})\n",
    "    print(f\"Model with 4 epitopes seeded at 417, 484, 444, and 386 was already fit.\")\n",
    "else:\n",
    "    # Else, fit a model and save it to the fit_polyclonal_models directory.\n",
    "    model = polyclonal.Polyclonal(\n",
    "        data_to_fit=noisy_data,\n",
    "        activity_wt_df=pd.DataFrame.from_records(\n",
    "            [\n",
    "                (\"1\", 2.0),\n",
    "                (\"2\", 4.0),\n",
    "                (\"3\", 3.0),\n",
    "                (\"4\", 1.0),\n",
    "            ],\n",
    "            columns=[\"epitope\", \"activity\"],\n",
    "        ),\n",
    "        site_escape_df=pd.DataFrame.from_records(\n",
    "            [\n",
    "                (\"1\", 417, 10.0),\n",
    "                (\"2\", 484, 10.0),\n",
    "                (\"3\", 444, 10.0),\n",
    "                (\"4\", 386, 10.0),\n",
    "            ],\n",
    "            columns=[\"epitope\", \"site\", \"escape\"],\n",
    "        ),\n",
    "        data_mut_escape_overlap=\"fill_to_data\",\n",
    "    )\n",
    "    opt_res = model.fit(logfreq=500)\n",
    "    fit_mut_escape.update({model_string: model})\n",
    "    pickle.dump(model, open(f\"fit_polyclonal_models/{model_string}.pkl\", \"wb\"))"
   ]
  },
  {
   "cell_type": "markdown",
   "metadata": {},
   "source": [
    "Lastly, we'll fit a `Polyclonal` model with 4 epitopes and try seeding an additional key site that is already located in an epitope that we've specified. Specifically, we'll seed it with site 460, which is in the class 1 epitope along with site 417."
   ]
  },
  {
   "cell_type": "code",
   "execution_count": 15,
   "metadata": {},
   "outputs": [
    {
     "name": "stdout",
     "output_type": "stream",
     "text": [
      "Model with 4 epitopes seeded at 417, 484, 444, and 460 was already fit.\n"
     ]
    }
   ],
   "source": [
    "# The key for the fit model\n",
    "model_string = \"noisy_[0.25, 1, 4]conc_3muts_4epitopes_seed417_484_444_460\"\n",
    "\n",
    "# If the pickled model exists in the fit_polyclonal_models directory, load it.\n",
    "if os.path.exists(f\"fit_polyclonal_models/{model_string}.pkl\") is True:\n",
    "    model = pickle.load(open(f\"fit_polyclonal_models/{model_string}.pkl\", \"rb\"))\n",
    "    fit_mut_escape.update({model_string: model})\n",
    "    print(f\"Model with 4 epitopes seeded at 417, 484, 444, and 460 was already fit.\")\n",
    "else:\n",
    "    # Else, fit a model and save it to the fit_polyclonal_models directory.\n",
    "    model = polyclonal.Polyclonal(\n",
    "        data_to_fit=noisy_data,\n",
    "        activity_wt_df=pd.DataFrame.from_records(\n",
    "            [\n",
    "                (\"1\", 2.0),\n",
    "                (\"2\", 4.0),\n",
    "                (\"3\", 3.0),\n",
    "                (\"4\", 1.0),\n",
    "            ],\n",
    "            columns=[\"epitope\", \"activity\"],\n",
    "        ),\n",
    "        site_escape_df=pd.DataFrame.from_records(\n",
    "            [\n",
    "                (\"1\", 417, 10.0),\n",
    "                (\"2\", 484, 10.0),\n",
    "                (\"3\", 444, 10.0),\n",
    "                (\"4\", 460, 10.0),\n",
    "            ],\n",
    "            columns=[\"epitope\", \"site\", \"escape\"],\n",
    "        ),\n",
    "        data_mut_escape_overlap=\"fill_to_data\",\n",
    "    )\n",
    "    opt_res = model.fit(logfreq=500)\n",
    "    fit_mut_escape.update({model_string: model})\n",
    "    pickle.dump(model, open(f\"fit_polyclonal_models/{model_string}.pkl\", \"wb\"))"
   ]
  },
  {
   "cell_type": "markdown",
   "metadata": {},
   "source": [
    "Like before, we can correlate the $\\beta_{m,e}$ values for each of the epitopes fit by these `Polyclonal` models to the $\\beta_{m,e}$ values for each of the three \"true\" epitopes."
   ]
  },
  {
   "cell_type": "code",
   "execution_count": 16,
   "metadata": {},
   "outputs": [],
   "source": [
    "plot_data = pd.DataFrame()\n",
    "for st in [\n",
    "    \"2epitopes_seed484_444\",\n",
    "    \"3epitopes_seed417_484_444\",\n",
    "    \"4epitopes_seed417_484_444_386\",\n",
    "    \"4epitopes_seed417_484_444_460\",\n",
    "]:\n",
    "    model = fit_mut_escape[f\"noisy_[0.25, 1, 4]conc_3muts_{st}\"]\n",
    "    for true_e, fit_e in list(\n",
    "        itertools.product(\n",
    "            true_mut_escape_df[\"epitope\"].unique(),\n",
    "            model.mut_escape_df[\"epitope\"].unique(),\n",
    "        )\n",
    "    ):\n",
    "\n",
    "        df = true_mut_escape_df.query(f'epitope == \"{true_e}\"').merge(\n",
    "            (\n",
    "                model.mut_escape_df.rename(\n",
    "                    columns={\n",
    "                        \"escape\": \"predicted escape\",\n",
    "                        \"epitope\": \"predicted epitope\",\n",
    "                    }\n",
    "                ).query(f'`predicted epitope` == \"{fit_e}\"')\n",
    "            ),\n",
    "            on=\"mutation\",\n",
    "            validate=\"one_to_one\",\n",
    "        )\n",
    "\n",
    "        corr = df[\"escape\"].corr(df[\"predicted escape\"] ** 2)\n",
    "\n",
    "        plot_data = pd.concat(\n",
    "            [\n",
    "                plot_data,\n",
    "                pd.DataFrame(\n",
    "                    data={\n",
    "                        \"Epitope seeding\": [st],\n",
    "                        \"True epitope class\": [true_e],\n",
    "                        \"Fit epitope class\": [fit_e],\n",
    "                        \"Correlation (R^2)\": [corr],\n",
    "                    }\n",
    "                ),\n",
    "            ]\n",
    "        ).reset_index(drop=True)"
   ]
  },
  {
   "cell_type": "code",
   "execution_count": 17,
   "metadata": {},
   "outputs": [
    {
     "data": {
      "text/html": [
       "\n",
       "<div id=\"altair-viz-485c6c659bac4b25999719c4348790e3\"></div>\n",
       "<script type=\"text/javascript\">\n",
       "  (function(spec, embedOpt){\n",
       "    let outputDiv = document.currentScript.previousElementSibling;\n",
       "    if (outputDiv.id !== \"altair-viz-485c6c659bac4b25999719c4348790e3\") {\n",
       "      outputDiv = document.getElementById(\"altair-viz-485c6c659bac4b25999719c4348790e3\");\n",
       "    }\n",
       "    const paths = {\n",
       "      \"vega\": \"https://cdn.jsdelivr.net/npm//vega@5?noext\",\n",
       "      \"vega-lib\": \"https://cdn.jsdelivr.net/npm//vega-lib?noext\",\n",
       "      \"vega-lite\": \"https://cdn.jsdelivr.net/npm//vega-lite@4.8.1?noext\",\n",
       "      \"vega-embed\": \"https://cdn.jsdelivr.net/npm//vega-embed@6?noext\",\n",
       "    };\n",
       "\n",
       "    function loadScript(lib) {\n",
       "      return new Promise(function(resolve, reject) {\n",
       "        var s = document.createElement('script');\n",
       "        s.src = paths[lib];\n",
       "        s.async = true;\n",
       "        s.onload = () => resolve(paths[lib]);\n",
       "        s.onerror = () => reject(`Error loading script: ${paths[lib]}`);\n",
       "        document.getElementsByTagName(\"head\")[0].appendChild(s);\n",
       "      });\n",
       "    }\n",
       "\n",
       "    function showError(err) {\n",
       "      outputDiv.innerHTML = `<div class=\"error\" style=\"color:red;\">${err}</div>`;\n",
       "      throw err;\n",
       "    }\n",
       "\n",
       "    function displayChart(vegaEmbed) {\n",
       "      vegaEmbed(outputDiv, spec, embedOpt)\n",
       "        .catch(err => showError(`Javascript Error: ${err.message}<br>This usually means there's a typo in your chart specification. See the javascript console for the full traceback.`));\n",
       "    }\n",
       "\n",
       "    if(typeof define === \"function\" && define.amd) {\n",
       "      requirejs.config({paths});\n",
       "      require([\"vega-embed\"], displayChart, err => showError(`Error loading script: ${err.message}`));\n",
       "    } else if (typeof vegaEmbed === \"function\") {\n",
       "      displayChart(vegaEmbed);\n",
       "    } else {\n",
       "      loadScript(\"vega\")\n",
       "        .then(() => loadScript(\"vega-lite\"))\n",
       "        .then(() => loadScript(\"vega-embed\"))\n",
       "        .catch(showError)\n",
       "        .then(() => displayChart(vegaEmbed));\n",
       "    }\n",
       "  })({\"config\": {\"view\": {\"continuousWidth\": 400, \"continuousHeight\": 300}}, \"data\": {\"name\": \"data-2e952e44ed8384f5676bb90a16ddd88d\"}, \"facet\": {\"type\": \"nominal\", \"field\": \"Epitope seeding\"}, \"spec\": {\"mark\": {\"type\": \"rect\", \"opacity\": 0.95, \"stroke\": \"black\"}, \"encoding\": {\"color\": {\"type\": \"quantitative\", \"field\": \"Correlation (R^2)\", \"scale\": {\"scheme\": \"viridis\"}}, \"tooltip\": [{\"type\": \"ordinal\", \"field\": \"Fit epitope class\"}, {\"type\": \"ordinal\", \"field\": \"True epitope class\"}, {\"type\": \"quantitative\", \"field\": \"Correlation (R^2)\", \"format\": \".3f\"}], \"x\": {\"type\": \"ordinal\", \"field\": \"Fit epitope class\"}, \"y\": {\"type\": \"ordinal\", \"field\": \"True epitope class\"}}, \"height\": 100, \"width\": 130}, \"columns\": 2, \"$schema\": \"https://vega.github.io/schema/vega-lite/v4.8.1.json\", \"datasets\": {\"data-2e952e44ed8384f5676bb90a16ddd88d\": [{\"Epitope seeding\": \"2epitopes_seed484_444\", \"True epitope class\": \"1\", \"Fit epitope class\": \"1\", \"Correlation (R^2)\": 0.12988109176503343}, {\"Epitope seeding\": \"2epitopes_seed484_444\", \"True epitope class\": \"1\", \"Fit epitope class\": \"2\", \"Correlation (R^2)\": 0.020508327849018803}, {\"Epitope seeding\": \"2epitopes_seed484_444\", \"True epitope class\": \"2\", \"Fit epitope class\": \"1\", \"Correlation (R^2)\": 0.8883692375408132}, {\"Epitope seeding\": \"2epitopes_seed484_444\", \"True epitope class\": \"2\", \"Fit epitope class\": \"2\", \"Correlation (R^2)\": -0.05856707277921066}, {\"Epitope seeding\": \"2epitopes_seed484_444\", \"True epitope class\": \"3\", \"Fit epitope class\": \"1\", \"Correlation (R^2)\": -0.05602782565049601}, {\"Epitope seeding\": \"2epitopes_seed484_444\", \"True epitope class\": \"3\", \"Fit epitope class\": \"2\", \"Correlation (R^2)\": 0.8079683238550537}, {\"Epitope seeding\": \"3epitopes_seed417_484_444\", \"True epitope class\": \"1\", \"Fit epitope class\": \"1\", \"Correlation (R^2)\": 0.886386692902949}, {\"Epitope seeding\": \"3epitopes_seed417_484_444\", \"True epitope class\": \"1\", \"Fit epitope class\": \"2\", \"Correlation (R^2)\": 0.06893085896896653}, {\"Epitope seeding\": \"3epitopes_seed417_484_444\", \"True epitope class\": \"1\", \"Fit epitope class\": \"3\", \"Correlation (R^2)\": -0.08570662459231859}, {\"Epitope seeding\": \"3epitopes_seed417_484_444\", \"True epitope class\": \"2\", \"Fit epitope class\": \"1\", \"Correlation (R^2)\": 0.19375209943942623}, {\"Epitope seeding\": \"3epitopes_seed417_484_444\", \"True epitope class\": \"2\", \"Fit epitope class\": \"2\", \"Correlation (R^2)\": 0.9690488571666473}, {\"Epitope seeding\": \"3epitopes_seed417_484_444\", \"True epitope class\": \"2\", \"Fit epitope class\": \"3\", \"Correlation (R^2)\": -0.06021265156350458}, {\"Epitope seeding\": \"3epitopes_seed417_484_444\", \"True epitope class\": \"3\", \"Fit epitope class\": \"1\", \"Correlation (R^2)\": -0.07126907040888973}, {\"Epitope seeding\": \"3epitopes_seed417_484_444\", \"True epitope class\": \"3\", \"Fit epitope class\": \"2\", \"Correlation (R^2)\": -0.055491135115265156}, {\"Epitope seeding\": \"3epitopes_seed417_484_444\", \"True epitope class\": \"3\", \"Fit epitope class\": \"3\", \"Correlation (R^2)\": 0.9506278882036281}, {\"Epitope seeding\": \"4epitopes_seed417_484_444_386\", \"True epitope class\": \"1\", \"Fit epitope class\": \"1\", \"Correlation (R^2)\": 0.8654219475149119}, {\"Epitope seeding\": \"4epitopes_seed417_484_444_386\", \"True epitope class\": \"1\", \"Fit epitope class\": \"2\", \"Correlation (R^2)\": 0.06890430306095058}, {\"Epitope seeding\": \"4epitopes_seed417_484_444_386\", \"True epitope class\": \"1\", \"Fit epitope class\": \"3\", \"Correlation (R^2)\": -0.08579587083938313}, {\"Epitope seeding\": \"4epitopes_seed417_484_444_386\", \"True epitope class\": \"1\", \"Fit epitope class\": \"4\", \"Correlation (R^2)\": -0.020020443825861045}, {\"Epitope seeding\": \"4epitopes_seed417_484_444_386\", \"True epitope class\": \"2\", \"Fit epitope class\": \"1\", \"Correlation (R^2)\": 0.22078692429311256}, {\"Epitope seeding\": \"4epitopes_seed417_484_444_386\", \"True epitope class\": \"2\", \"Fit epitope class\": \"2\", \"Correlation (R^2)\": 0.9690275841633686}, {\"Epitope seeding\": \"4epitopes_seed417_484_444_386\", \"True epitope class\": \"2\", \"Fit epitope class\": \"3\", \"Correlation (R^2)\": -0.06115410386326555}, {\"Epitope seeding\": \"4epitopes_seed417_484_444_386\", \"True epitope class\": \"2\", \"Fit epitope class\": \"4\", \"Correlation (R^2)\": 0.02678090421314108}, {\"Epitope seeding\": \"4epitopes_seed417_484_444_386\", \"True epitope class\": \"3\", \"Fit epitope class\": \"1\", \"Correlation (R^2)\": -0.07028533697760204}, {\"Epitope seeding\": \"4epitopes_seed417_484_444_386\", \"True epitope class\": \"3\", \"Fit epitope class\": \"2\", \"Correlation (R^2)\": -0.05454181100578197}, {\"Epitope seeding\": \"4epitopes_seed417_484_444_386\", \"True epitope class\": \"3\", \"Fit epitope class\": \"3\", \"Correlation (R^2)\": 0.9508673518280124}, {\"Epitope seeding\": \"4epitopes_seed417_484_444_386\", \"True epitope class\": \"3\", \"Fit epitope class\": \"4\", \"Correlation (R^2)\": 0.007700473512634995}, {\"Epitope seeding\": \"4epitopes_seed417_484_444_460\", \"True epitope class\": \"1\", \"Fit epitope class\": \"1\", \"Correlation (R^2)\": 0.8644790219803021}, {\"Epitope seeding\": \"4epitopes_seed417_484_444_460\", \"True epitope class\": \"1\", \"Fit epitope class\": \"2\", \"Correlation (R^2)\": 0.0690971426617544}, {\"Epitope seeding\": \"4epitopes_seed417_484_444_460\", \"True epitope class\": \"1\", \"Fit epitope class\": \"3\", \"Correlation (R^2)\": -0.0858981151228894}, {\"Epitope seeding\": \"4epitopes_seed417_484_444_460\", \"True epitope class\": \"1\", \"Fit epitope class\": \"4\", \"Correlation (R^2)\": -0.014432828426628994}, {\"Epitope seeding\": \"4epitopes_seed417_484_444_460\", \"True epitope class\": \"2\", \"Fit epitope class\": \"1\", \"Correlation (R^2)\": 0.21962878679026926}, {\"Epitope seeding\": \"4epitopes_seed417_484_444_460\", \"True epitope class\": \"2\", \"Fit epitope class\": \"2\", \"Correlation (R^2)\": 0.9689856860258527}, {\"Epitope seeding\": \"4epitopes_seed417_484_444_460\", \"True epitope class\": \"2\", \"Fit epitope class\": \"3\", \"Correlation (R^2)\": -0.06074014903807331}, {\"Epitope seeding\": \"4epitopes_seed417_484_444_460\", \"True epitope class\": \"2\", \"Fit epitope class\": \"4\", \"Correlation (R^2)\": 0.04279980950508879}, {\"Epitope seeding\": \"4epitopes_seed417_484_444_460\", \"True epitope class\": \"3\", \"Fit epitope class\": \"1\", \"Correlation (R^2)\": -0.07088904744206874}, {\"Epitope seeding\": \"4epitopes_seed417_484_444_460\", \"True epitope class\": \"3\", \"Fit epitope class\": \"2\", \"Correlation (R^2)\": -0.05470886047878664}, {\"Epitope seeding\": \"4epitopes_seed417_484_444_460\", \"True epitope class\": \"3\", \"Fit epitope class\": \"3\", \"Correlation (R^2)\": 0.9502709190708294}, {\"Epitope seeding\": \"4epitopes_seed417_484_444_460\", \"True epitope class\": \"3\", \"Fit epitope class\": \"4\", \"Correlation (R^2)\": 0.0034825381639614563}]}}, {\"mode\": \"vega-lite\"});\n",
       "</script>"
      ],
      "text/plain": [
       "alt.FacetChart(...)"
      ]
     },
     "execution_count": 17,
     "metadata": {},
     "output_type": "execute_result"
    }
   ],
   "source": [
    "alt.Chart(plot_data).mark_rect(opacity=0.95, stroke=\"black\",).encode(\n",
    "    x=\"Fit epitope class:O\",\n",
    "    y=\"True epitope class:O\",\n",
    "    color=alt.Color(\"Correlation (R^2):Q\", scale=alt.Scale(scheme=\"viridis\")),\n",
    "    tooltip=[\n",
    "        \"Fit epitope class:O\",\n",
    "        \"True epitope class:O\",\n",
    "        alt.Tooltip(\"Correlation (R^2)\", format=\".3f\"),\n",
    "    ],\n",
    ").properties(width=130, height=100,).facet(\n",
    "    \"Epitope seeding\",\n",
    "    columns=2,\n",
    ")"
   ]
  },
  {
   "cell_type": "markdown",
   "metadata": {},
   "source": [
    "We can also visualize the wildtype activity values, $a_{wt,e}$."
   ]
  },
  {
   "cell_type": "code",
   "execution_count": 18,
   "metadata": {},
   "outputs": [
    {
     "name": "stdout",
     "output_type": "stream",
     "text": [
      "Epitope seeding: 2epitopes_seed484_444\n"
     ]
    },
    {
     "data": {
      "text/html": [
       "\n",
       "<div id=\"altair-viz-b6ed77cb832047a990889d98cf9f1b55\"></div>\n",
       "<script type=\"text/javascript\">\n",
       "  (function(spec, embedOpt){\n",
       "    let outputDiv = document.currentScript.previousElementSibling;\n",
       "    if (outputDiv.id !== \"altair-viz-b6ed77cb832047a990889d98cf9f1b55\") {\n",
       "      outputDiv = document.getElementById(\"altair-viz-b6ed77cb832047a990889d98cf9f1b55\");\n",
       "    }\n",
       "    const paths = {\n",
       "      \"vega\": \"https://cdn.jsdelivr.net/npm//vega@5?noext\",\n",
       "      \"vega-lib\": \"https://cdn.jsdelivr.net/npm//vega-lib?noext\",\n",
       "      \"vega-lite\": \"https://cdn.jsdelivr.net/npm//vega-lite@4.8.1?noext\",\n",
       "      \"vega-embed\": \"https://cdn.jsdelivr.net/npm//vega-embed@6?noext\",\n",
       "    };\n",
       "\n",
       "    function loadScript(lib) {\n",
       "      return new Promise(function(resolve, reject) {\n",
       "        var s = document.createElement('script');\n",
       "        s.src = paths[lib];\n",
       "        s.async = true;\n",
       "        s.onload = () => resolve(paths[lib]);\n",
       "        s.onerror = () => reject(`Error loading script: ${paths[lib]}`);\n",
       "        document.getElementsByTagName(\"head\")[0].appendChild(s);\n",
       "      });\n",
       "    }\n",
       "\n",
       "    function showError(err) {\n",
       "      outputDiv.innerHTML = `<div class=\"error\" style=\"color:red;\">${err}</div>`;\n",
       "      throw err;\n",
       "    }\n",
       "\n",
       "    function displayChart(vegaEmbed) {\n",
       "      vegaEmbed(outputDiv, spec, embedOpt)\n",
       "        .catch(err => showError(`Javascript Error: ${err.message}<br>This usually means there's a typo in your chart specification. See the javascript console for the full traceback.`));\n",
       "    }\n",
       "\n",
       "    if(typeof define === \"function\" && define.amd) {\n",
       "      requirejs.config({paths});\n",
       "      require([\"vega-embed\"], displayChart, err => showError(`Error loading script: ${err.message}`));\n",
       "    } else if (typeof vegaEmbed === \"function\") {\n",
       "      displayChart(vegaEmbed);\n",
       "    } else {\n",
       "      loadScript(\"vega\")\n",
       "        .then(() => loadScript(\"vega-lite\"))\n",
       "        .then(() => loadScript(\"vega-embed\"))\n",
       "        .catch(showError)\n",
       "        .then(() => displayChart(vegaEmbed));\n",
       "    }\n",
       "  })({\"config\": {\"view\": {\"continuousWidth\": 400, \"continuousHeight\": 300}, \"axis\": {\"grid\": false}}, \"data\": {\"name\": \"data-02665f0e69f42e71a344d69462e67e4b\"}, \"mark\": {\"type\": \"bar\", \"size\": 18.75}, \"encoding\": {\"color\": {\"type\": \"nominal\", \"field\": \"epitope\", \"legend\": null, \"scale\": {\"domain\": [\"1\", \"2\"], \"range\": [\"#1f77b4\", \"#ff7f0e\"]}}, \"tooltip\": [{\"type\": \"nominal\", \"field\": \"epitope\"}, {\"type\": \"quantitative\", \"field\": \"activity\", \"format\": \".3g\"}], \"x\": {\"type\": \"quantitative\", \"field\": \"activity\"}, \"y\": {\"type\": \"nominal\", \"field\": \"epitope\"}}, \"height\": {\"step\": 25}, \"width\": 110, \"$schema\": \"https://vega.github.io/schema/vega-lite/v4.8.1.json\", \"datasets\": {\"data-02665f0e69f42e71a344d69462e67e4b\": [{\"epitope\": \"1\", \"activity\": 3.3821796386689593}, {\"epitope\": \"2\", \"activity\": 2.365534222042892}]}}, {\"mode\": \"vega-lite\"});\n",
       "</script>"
      ],
      "text/plain": [
       "alt.Chart(...)"
      ]
     },
     "metadata": {},
     "output_type": "display_data"
    },
    {
     "name": "stdout",
     "output_type": "stream",
     "text": [
      "Epitope seeding: 3epitopes_seed417_484_444\n"
     ]
    },
    {
     "data": {
      "text/html": [
       "\n",
       "<div id=\"altair-viz-e90f55af67704cf4bbaff642fa0bd7a6\"></div>\n",
       "<script type=\"text/javascript\">\n",
       "  (function(spec, embedOpt){\n",
       "    let outputDiv = document.currentScript.previousElementSibling;\n",
       "    if (outputDiv.id !== \"altair-viz-e90f55af67704cf4bbaff642fa0bd7a6\") {\n",
       "      outputDiv = document.getElementById(\"altair-viz-e90f55af67704cf4bbaff642fa0bd7a6\");\n",
       "    }\n",
       "    const paths = {\n",
       "      \"vega\": \"https://cdn.jsdelivr.net/npm//vega@5?noext\",\n",
       "      \"vega-lib\": \"https://cdn.jsdelivr.net/npm//vega-lib?noext\",\n",
       "      \"vega-lite\": \"https://cdn.jsdelivr.net/npm//vega-lite@4.8.1?noext\",\n",
       "      \"vega-embed\": \"https://cdn.jsdelivr.net/npm//vega-embed@6?noext\",\n",
       "    };\n",
       "\n",
       "    function loadScript(lib) {\n",
       "      return new Promise(function(resolve, reject) {\n",
       "        var s = document.createElement('script');\n",
       "        s.src = paths[lib];\n",
       "        s.async = true;\n",
       "        s.onload = () => resolve(paths[lib]);\n",
       "        s.onerror = () => reject(`Error loading script: ${paths[lib]}`);\n",
       "        document.getElementsByTagName(\"head\")[0].appendChild(s);\n",
       "      });\n",
       "    }\n",
       "\n",
       "    function showError(err) {\n",
       "      outputDiv.innerHTML = `<div class=\"error\" style=\"color:red;\">${err}</div>`;\n",
       "      throw err;\n",
       "    }\n",
       "\n",
       "    function displayChart(vegaEmbed) {\n",
       "      vegaEmbed(outputDiv, spec, embedOpt)\n",
       "        .catch(err => showError(`Javascript Error: ${err.message}<br>This usually means there's a typo in your chart specification. See the javascript console for the full traceback.`));\n",
       "    }\n",
       "\n",
       "    if(typeof define === \"function\" && define.amd) {\n",
       "      requirejs.config({paths});\n",
       "      require([\"vega-embed\"], displayChart, err => showError(`Error loading script: ${err.message}`));\n",
       "    } else if (typeof vegaEmbed === \"function\") {\n",
       "      displayChart(vegaEmbed);\n",
       "    } else {\n",
       "      loadScript(\"vega\")\n",
       "        .then(() => loadScript(\"vega-lite\"))\n",
       "        .then(() => loadScript(\"vega-embed\"))\n",
       "        .catch(showError)\n",
       "        .then(() => displayChart(vegaEmbed));\n",
       "    }\n",
       "  })({\"config\": {\"view\": {\"continuousWidth\": 400, \"continuousHeight\": 300}, \"axis\": {\"grid\": false}}, \"data\": {\"name\": \"data-e08cc12e8ec5c99e258d5ad192710a2e\"}, \"mark\": {\"type\": \"bar\", \"size\": 18.75}, \"encoding\": {\"color\": {\"type\": \"nominal\", \"field\": \"epitope\", \"legend\": null, \"scale\": {\"domain\": [\"1\", \"2\", \"3\"], \"range\": [\"#1f77b4\", \"#ff7f0e\", \"#2ca02c\"]}}, \"tooltip\": [{\"type\": \"nominal\", \"field\": \"epitope\"}, {\"type\": \"quantitative\", \"field\": \"activity\", \"format\": \".3g\"}], \"x\": {\"type\": \"quantitative\", \"field\": \"activity\"}, \"y\": {\"type\": \"nominal\", \"field\": \"epitope\"}}, \"height\": {\"step\": 25}, \"width\": 110, \"$schema\": \"https://vega.github.io/schema/vega-lite/v4.8.1.json\", \"datasets\": {\"data-e08cc12e8ec5c99e258d5ad192710a2e\": [{\"epitope\": \"1\", \"activity\": 1.1178172899852994}, {\"epitope\": \"2\", \"activity\": 3.172177465653971}, {\"epitope\": \"3\", \"activity\": 2.0557148547221904}]}}, {\"mode\": \"vega-lite\"});\n",
       "</script>"
      ],
      "text/plain": [
       "alt.Chart(...)"
      ]
     },
     "metadata": {},
     "output_type": "display_data"
    },
    {
     "name": "stdout",
     "output_type": "stream",
     "text": [
      "Epitope seeding: 4epitopes_seed417_484_444_386\n"
     ]
    },
    {
     "data": {
      "text/html": [
       "\n",
       "<div id=\"altair-viz-7147c2cbae4b471b84b8032a1fc86983\"></div>\n",
       "<script type=\"text/javascript\">\n",
       "  (function(spec, embedOpt){\n",
       "    let outputDiv = document.currentScript.previousElementSibling;\n",
       "    if (outputDiv.id !== \"altair-viz-7147c2cbae4b471b84b8032a1fc86983\") {\n",
       "      outputDiv = document.getElementById(\"altair-viz-7147c2cbae4b471b84b8032a1fc86983\");\n",
       "    }\n",
       "    const paths = {\n",
       "      \"vega\": \"https://cdn.jsdelivr.net/npm//vega@5?noext\",\n",
       "      \"vega-lib\": \"https://cdn.jsdelivr.net/npm//vega-lib?noext\",\n",
       "      \"vega-lite\": \"https://cdn.jsdelivr.net/npm//vega-lite@4.8.1?noext\",\n",
       "      \"vega-embed\": \"https://cdn.jsdelivr.net/npm//vega-embed@6?noext\",\n",
       "    };\n",
       "\n",
       "    function loadScript(lib) {\n",
       "      return new Promise(function(resolve, reject) {\n",
       "        var s = document.createElement('script');\n",
       "        s.src = paths[lib];\n",
       "        s.async = true;\n",
       "        s.onload = () => resolve(paths[lib]);\n",
       "        s.onerror = () => reject(`Error loading script: ${paths[lib]}`);\n",
       "        document.getElementsByTagName(\"head\")[0].appendChild(s);\n",
       "      });\n",
       "    }\n",
       "\n",
       "    function showError(err) {\n",
       "      outputDiv.innerHTML = `<div class=\"error\" style=\"color:red;\">${err}</div>`;\n",
       "      throw err;\n",
       "    }\n",
       "\n",
       "    function displayChart(vegaEmbed) {\n",
       "      vegaEmbed(outputDiv, spec, embedOpt)\n",
       "        .catch(err => showError(`Javascript Error: ${err.message}<br>This usually means there's a typo in your chart specification. See the javascript console for the full traceback.`));\n",
       "    }\n",
       "\n",
       "    if(typeof define === \"function\" && define.amd) {\n",
       "      requirejs.config({paths});\n",
       "      require([\"vega-embed\"], displayChart, err => showError(`Error loading script: ${err.message}`));\n",
       "    } else if (typeof vegaEmbed === \"function\") {\n",
       "      displayChart(vegaEmbed);\n",
       "    } else {\n",
       "      loadScript(\"vega\")\n",
       "        .then(() => loadScript(\"vega-lite\"))\n",
       "        .then(() => loadScript(\"vega-embed\"))\n",
       "        .catch(showError)\n",
       "        .then(() => displayChart(vegaEmbed));\n",
       "    }\n",
       "  })({\"config\": {\"view\": {\"continuousWidth\": 400, \"continuousHeight\": 300}, \"axis\": {\"grid\": false}}, \"data\": {\"name\": \"data-69124e1c98400b0f6548d63022ae19db\"}, \"mark\": {\"type\": \"bar\", \"size\": 18.75}, \"encoding\": {\"color\": {\"type\": \"nominal\", \"field\": \"epitope\", \"legend\": null, \"scale\": {\"domain\": [\"1\", \"2\", \"3\", \"4\"], \"range\": [\"#1f77b4\", \"#ff7f0e\", \"#2ca02c\", \"#d62728\"]}}, \"tooltip\": [{\"type\": \"nominal\", \"field\": \"epitope\"}, {\"type\": \"quantitative\", \"field\": \"activity\", \"format\": \".3g\"}], \"x\": {\"type\": \"quantitative\", \"field\": \"activity\"}, \"y\": {\"type\": \"nominal\", \"field\": \"epitope\"}}, \"height\": {\"step\": 25}, \"width\": 110, \"$schema\": \"https://vega.github.io/schema/vega-lite/v4.8.1.json\", \"datasets\": {\"data-69124e1c98400b0f6548d63022ae19db\": [{\"epitope\": \"1\", \"activity\": 1.116840422167948}, {\"epitope\": \"2\", \"activity\": 3.210975440403701}, {\"epitope\": \"3\", \"activity\": 2.0436653349576934}, {\"epitope\": \"4\", \"activity\": -6.190349884182769}]}}, {\"mode\": \"vega-lite\"});\n",
       "</script>"
      ],
      "text/plain": [
       "alt.Chart(...)"
      ]
     },
     "metadata": {},
     "output_type": "display_data"
    },
    {
     "name": "stdout",
     "output_type": "stream",
     "text": [
      "Epitope seeding: 4epitopes_seed417_484_444_460\n"
     ]
    },
    {
     "data": {
      "text/html": [
       "\n",
       "<div id=\"altair-viz-05d2b72c5a6447b28066ef4cee728f68\"></div>\n",
       "<script type=\"text/javascript\">\n",
       "  (function(spec, embedOpt){\n",
       "    let outputDiv = document.currentScript.previousElementSibling;\n",
       "    if (outputDiv.id !== \"altair-viz-05d2b72c5a6447b28066ef4cee728f68\") {\n",
       "      outputDiv = document.getElementById(\"altair-viz-05d2b72c5a6447b28066ef4cee728f68\");\n",
       "    }\n",
       "    const paths = {\n",
       "      \"vega\": \"https://cdn.jsdelivr.net/npm//vega@5?noext\",\n",
       "      \"vega-lib\": \"https://cdn.jsdelivr.net/npm//vega-lib?noext\",\n",
       "      \"vega-lite\": \"https://cdn.jsdelivr.net/npm//vega-lite@4.8.1?noext\",\n",
       "      \"vega-embed\": \"https://cdn.jsdelivr.net/npm//vega-embed@6?noext\",\n",
       "    };\n",
       "\n",
       "    function loadScript(lib) {\n",
       "      return new Promise(function(resolve, reject) {\n",
       "        var s = document.createElement('script');\n",
       "        s.src = paths[lib];\n",
       "        s.async = true;\n",
       "        s.onload = () => resolve(paths[lib]);\n",
       "        s.onerror = () => reject(`Error loading script: ${paths[lib]}`);\n",
       "        document.getElementsByTagName(\"head\")[0].appendChild(s);\n",
       "      });\n",
       "    }\n",
       "\n",
       "    function showError(err) {\n",
       "      outputDiv.innerHTML = `<div class=\"error\" style=\"color:red;\">${err}</div>`;\n",
       "      throw err;\n",
       "    }\n",
       "\n",
       "    function displayChart(vegaEmbed) {\n",
       "      vegaEmbed(outputDiv, spec, embedOpt)\n",
       "        .catch(err => showError(`Javascript Error: ${err.message}<br>This usually means there's a typo in your chart specification. See the javascript console for the full traceback.`));\n",
       "    }\n",
       "\n",
       "    if(typeof define === \"function\" && define.amd) {\n",
       "      requirejs.config({paths});\n",
       "      require([\"vega-embed\"], displayChart, err => showError(`Error loading script: ${err.message}`));\n",
       "    } else if (typeof vegaEmbed === \"function\") {\n",
       "      displayChart(vegaEmbed);\n",
       "    } else {\n",
       "      loadScript(\"vega\")\n",
       "        .then(() => loadScript(\"vega-lite\"))\n",
       "        .then(() => loadScript(\"vega-embed\"))\n",
       "        .catch(showError)\n",
       "        .then(() => displayChart(vegaEmbed));\n",
       "    }\n",
       "  })({\"config\": {\"view\": {\"continuousWidth\": 400, \"continuousHeight\": 300}, \"axis\": {\"grid\": false}}, \"data\": {\"name\": \"data-5f90376b8906e3908a1daa8296f03329\"}, \"mark\": {\"type\": \"bar\", \"size\": 18.75}, \"encoding\": {\"color\": {\"type\": \"nominal\", \"field\": \"epitope\", \"legend\": null, \"scale\": {\"domain\": [\"1\", \"2\", \"3\", \"4\"], \"range\": [\"#1f77b4\", \"#ff7f0e\", \"#2ca02c\", \"#d62728\"]}}, \"tooltip\": [{\"type\": \"nominal\", \"field\": \"epitope\"}, {\"type\": \"quantitative\", \"field\": \"activity\", \"format\": \".3g\"}], \"x\": {\"type\": \"quantitative\", \"field\": \"activity\"}, \"y\": {\"type\": \"nominal\", \"field\": \"epitope\"}}, \"height\": {\"step\": 25}, \"width\": 110, \"$schema\": \"https://vega.github.io/schema/vega-lite/v4.8.1.json\", \"datasets\": {\"data-5f90376b8906e3908a1daa8296f03329\": [{\"epitope\": \"1\", \"activity\": 1.108505954082854}, {\"epitope\": \"2\", \"activity\": 3.2041970420338877}, {\"epitope\": \"3\", \"activity\": 2.067129076230897}, {\"epitope\": \"4\", \"activity\": -6.08434037407918}]}}, {\"mode\": \"vega-lite\"});\n",
       "</script>"
      ],
      "text/plain": [
       "alt.Chart(...)"
      ]
     },
     "metadata": {},
     "output_type": "display_data"
    }
   ],
   "source": [
    "for st in [\n",
    "    \"2epitopes_seed484_444\",\n",
    "    \"3epitopes_seed417_484_444\",\n",
    "    \"4epitopes_seed417_484_444_386\",\n",
    "    \"4epitopes_seed417_484_444_460\",\n",
    "]:\n",
    "    model = fit_mut_escape[f\"noisy_[0.25, 1, 4]conc_3muts_{st}\"]\n",
    "    print(f\"Epitope seeding: {st}\")\n",
    "    display(model.activity_wt_barplot())"
   ]
  },
  {
   "cell_type": "markdown",
   "metadata": {},
   "source": [
    "These results look similar to the ones obtained without seeding sites above. But importantly, we can see that the models are not negatively impacted by seeding sites that are not within a targeted epitope or within the same epitope as an already seeded  site. Although not seen on this simulated dataset, keep in mind that seeding sites could be helpful and lead to better results if the library mutation rate is low."
   ]
  },
  {
   "cell_type": "markdown",
   "metadata": {},
   "source": [
    "Additionally, we can look at the correlation between “true” and predicted IC90’s for each of these fit models."
   ]
  },
  {
   "cell_type": "code",
   "execution_count": 19,
   "metadata": {},
   "outputs": [],
   "source": [
    "ic90_corrs = pd.DataFrame()\n",
    "\n",
    "max_ic90 = 50\n",
    "for st in [\n",
    "    \"2epitopes_seed484_444\",\n",
    "    \"3epitopes_seed417_484_444\",\n",
    "    \"4epitopes_seed417_484_444_386\",\n",
    "    \"4epitopes_seed417_484_444_460\",\n",
    "]:\n",
    "    model = fit_mut_escape[f\"noisy_[0.25, 1, 4]conc_3muts_{st}\"]\n",
    "\n",
    "    ic90s = (\n",
    "        exact_data[[\"aa_substitutions\", \"IC90\"]]\n",
    "        .assign(IC90=lambda x: x[\"IC90\"].clip(upper=max_ic90))\n",
    "        .drop_duplicates()\n",
    "    )\n",
    "    ic90s = model.filter_variants_by_seen_muts(ic90s)\n",
    "    ic90s = model.icXX(ic90s, x=0.9, col=\"predicted_IC90\", max_c=max_ic90)\n",
    "\n",
    "    ic90s = ic90s.assign(\n",
    "        log_IC90=lambda x: np.log10(x[\"IC90\"]),\n",
    "        predicted_log_IC90=lambda x: np.log10(x[\"predicted_IC90\"]),\n",
    "    )\n",
    "\n",
    "    corr = ic90s[\"log_IC90\"].corr(ic90s[\"predicted_log_IC90\"]) ** 2\n",
    "\n",
    "    ic90_corrs = pd.concat(\n",
    "        [\n",
    "            ic90_corrs,\n",
    "            pd.DataFrame(\n",
    "                {\n",
    "                    \"Correlation (R^2)\": corr,\n",
    "                    \"Epitope seeding\": [st],\n",
    "                }\n",
    "            ),\n",
    "        ]\n",
    "    )"
   ]
  },
  {
   "cell_type": "code",
   "execution_count": 20,
   "metadata": {},
   "outputs": [
    {
     "data": {
      "text/html": [
       "\n",
       "<div id=\"altair-viz-965d75fe031b4f58960dc038e00cc8db\"></div>\n",
       "<script type=\"text/javascript\">\n",
       "  (function(spec, embedOpt){\n",
       "    let outputDiv = document.currentScript.previousElementSibling;\n",
       "    if (outputDiv.id !== \"altair-viz-965d75fe031b4f58960dc038e00cc8db\") {\n",
       "      outputDiv = document.getElementById(\"altair-viz-965d75fe031b4f58960dc038e00cc8db\");\n",
       "    }\n",
       "    const paths = {\n",
       "      \"vega\": \"https://cdn.jsdelivr.net/npm//vega@5?noext\",\n",
       "      \"vega-lib\": \"https://cdn.jsdelivr.net/npm//vega-lib?noext\",\n",
       "      \"vega-lite\": \"https://cdn.jsdelivr.net/npm//vega-lite@4.8.1?noext\",\n",
       "      \"vega-embed\": \"https://cdn.jsdelivr.net/npm//vega-embed@6?noext\",\n",
       "    };\n",
       "\n",
       "    function loadScript(lib) {\n",
       "      return new Promise(function(resolve, reject) {\n",
       "        var s = document.createElement('script');\n",
       "        s.src = paths[lib];\n",
       "        s.async = true;\n",
       "        s.onload = () => resolve(paths[lib]);\n",
       "        s.onerror = () => reject(`Error loading script: ${paths[lib]}`);\n",
       "        document.getElementsByTagName(\"head\")[0].appendChild(s);\n",
       "      });\n",
       "    }\n",
       "\n",
       "    function showError(err) {\n",
       "      outputDiv.innerHTML = `<div class=\"error\" style=\"color:red;\">${err}</div>`;\n",
       "      throw err;\n",
       "    }\n",
       "\n",
       "    function displayChart(vegaEmbed) {\n",
       "      vegaEmbed(outputDiv, spec, embedOpt)\n",
       "        .catch(err => showError(`Javascript Error: ${err.message}<br>This usually means there's a typo in your chart specification. See the javascript console for the full traceback.`));\n",
       "    }\n",
       "\n",
       "    if(typeof define === \"function\" && define.amd) {\n",
       "      requirejs.config({paths});\n",
       "      require([\"vega-embed\"], displayChart, err => showError(`Error loading script: ${err.message}`));\n",
       "    } else if (typeof vegaEmbed === \"function\") {\n",
       "      displayChart(vegaEmbed);\n",
       "    } else {\n",
       "      loadScript(\"vega\")\n",
       "        .then(() => loadScript(\"vega-lite\"))\n",
       "        .then(() => loadScript(\"vega-embed\"))\n",
       "        .catch(showError)\n",
       "        .then(() => displayChart(vegaEmbed));\n",
       "    }\n",
       "  })({\"config\": {\"view\": {\"continuousWidth\": 400, \"continuousHeight\": 300}}, \"data\": {\"name\": \"data-92e95acee5a68031807f9b1d78cd2f75\"}, \"mark\": {\"type\": \"circle\", \"size\": 125}, \"encoding\": {\"tooltip\": [{\"type\": \"nominal\", \"field\": \"Epitope seeding\"}, {\"type\": \"quantitative\", \"field\": \"Correlation (R^2)\", \"format\": \".3f\"}], \"x\": {\"type\": \"ordinal\", \"field\": \"Epitope seeding\"}, \"y\": {\"type\": \"quantitative\", \"field\": \"Correlation (R^2)\"}}, \"height\": 150, \"title\": \"predicted vs. true IC90\", \"width\": 200, \"$schema\": \"https://vega.github.io/schema/vega-lite/v4.8.1.json\", \"datasets\": {\"data-92e95acee5a68031807f9b1d78cd2f75\": [{\"Correlation (R^2)\": 0.9672201169846772, \"Epitope seeding\": \"2epitopes_seed484_444\"}, {\"Correlation (R^2)\": 0.9932998201864298, \"Epitope seeding\": \"3epitopes_seed417_484_444\"}, {\"Correlation (R^2)\": 0.9918355195110585, \"Epitope seeding\": \"4epitopes_seed417_484_444_386\"}, {\"Correlation (R^2)\": 0.9905574765737838, \"Epitope seeding\": \"4epitopes_seed417_484_444_460\"}]}}, {\"mode\": \"vega-lite\"});\n",
       "</script>"
      ],
      "text/plain": [
       "alt.Chart(...)"
      ]
     },
     "execution_count": 20,
     "metadata": {},
     "output_type": "execute_result"
    }
   ],
   "source": [
    "# NBVAL_IGNORE_OUTPUT\n",
    "alt.Chart(ic90_corrs).mark_circle(size=125).encode(\n",
    "    x=\"Epitope seeding:O\",\n",
    "    y=\"Correlation (R^2):Q\",\n",
    "    tooltip=[\"Epitope seeding\", alt.Tooltip(\"Correlation (R^2)\", format=\".3f\")],\n",
    ").properties(width=200, height=150, title=\"predicted vs. true IC90\")"
   ]
  },
  {
   "cell_type": "markdown",
   "metadata": {},
   "source": [
    "## Summary\n",
    "\n",
    "These simulation experiments provide a general guideline for specifying epitopes. When fitting `Polyclonal` models, one can start with 2 epitopes and iteratively fit models with increasing number of epitopes. At some point, the newly seeded $N$-th epitope will become redundant, as evidenced by a strongly negative wildtype activity value, $a_{wt,e}$. This is indication to the user that the previous fit model, containing $N - 1$ epitopes, is the one that best captures the data and polyclonal mix."
   ]
  }
 ],
 "metadata": {
  "kernelspec": {
   "display_name": "Python 3 (ipykernel)",
   "language": "python",
   "name": "python3"
  },
  "language_info": {
   "codemirror_mode": {
    "name": "ipython",
    "version": 3
   },
   "file_extension": ".py",
   "mimetype": "text/x-python",
   "name": "python",
   "nbconvert_exporter": "python",
   "pygments_lexer": "ipython3",
   "version": "3.10.0"
  }
 },
 "nbformat": 4,
 "nbformat_minor": 4
}
