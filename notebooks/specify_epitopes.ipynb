{
 "cells": [
  {
   "cell_type": "markdown",
   "metadata": {},
   "source": [
    "# Specifying epitopes"
   ]
  },
  {
   "cell_type": "markdown",
   "metadata": {},
   "source": [
    "Polyclonal sera contains antibodies that can target multiple distinct epitopes on a viral protein, but we do not know the exact composition of this sera and which epitopes are targeted. At minimum, `Polyclonal` requires a user to specify the number of epitopes prior to fitting. Alternatively, a user may opt to seed initial guesses for the mutation-escape values of key epitope sites.\n",
    "\n",
    "Here, we’ll use simulated data to show how the number of epitopes and seeding of key sites can affect the performance of `Polyclonal` models. We'll also use this to provide guidance on how to systematically determine the optimal number of epitopes. "
   ]
  },
  {
   "cell_type": "code",
   "execution_count": 21,
   "metadata": {},
   "outputs": [],
   "source": [
    "import itertools\n",
    "import os\n",
    "import pickle\n",
    "\n",
    "import altair as alt\n",
    "import numpy as np\n",
    "import pandas as pd\n",
    "import polyclonal\n",
    "\n",
    "from plotnine import *"
   ]
  },
  {
   "cell_type": "markdown",
   "metadata": {},
   "source": [
    "First, we read in a simulated “noisy” dataset containing 30,000 variants measured at three different sera concentrations. The variants in this library were simulated to contain a Poisson-distributed number of mutations, with an average of three mutations per gene."
   ]
  },
  {
   "cell_type": "code",
   "execution_count": 2,
   "metadata": {},
   "outputs": [
    {
     "data": {
      "text/html": [
       "<div>\n",
       "<style scoped>\n",
       "    .dataframe tbody tr th:only-of-type {\n",
       "        vertical-align: middle;\n",
       "    }\n",
       "\n",
       "    .dataframe tbody tr th {\n",
       "        vertical-align: top;\n",
       "    }\n",
       "\n",
       "    .dataframe thead th {\n",
       "        text-align: right;\n",
       "    }\n",
       "</style>\n",
       "<table border=\"1\" class=\"dataframe\">\n",
       "  <thead>\n",
       "    <tr style=\"text-align: right;\">\n",
       "      <th></th>\n",
       "      <th>library</th>\n",
       "      <th>barcode</th>\n",
       "      <th>concentration</th>\n",
       "      <th>prob_escape</th>\n",
       "      <th>aa_substitutions</th>\n",
       "      <th>IC90</th>\n",
       "    </tr>\n",
       "  </thead>\n",
       "  <tbody>\n",
       "    <tr>\n",
       "      <th>0</th>\n",
       "      <td>avg3muts</td>\n",
       "      <td>AAAAAGATTGCAGTTG</td>\n",
       "      <td>0.25</td>\n",
       "      <td>0.00000</td>\n",
       "      <td></td>\n",
       "      <td>0.1128</td>\n",
       "    </tr>\n",
       "    <tr>\n",
       "      <th>1</th>\n",
       "      <td>avg3muts</td>\n",
       "      <td>AAAACCTGTCAGAGAC</td>\n",
       "      <td>0.25</td>\n",
       "      <td>0.01090</td>\n",
       "      <td></td>\n",
       "      <td>0.1128</td>\n",
       "    </tr>\n",
       "    <tr>\n",
       "      <th>2</th>\n",
       "      <td>avg3muts</td>\n",
       "      <td>AAAACTGACATGTGTT</td>\n",
       "      <td>0.25</td>\n",
       "      <td>0.01458</td>\n",
       "      <td></td>\n",
       "      <td>0.1128</td>\n",
       "    </tr>\n",
       "    <tr>\n",
       "      <th>3</th>\n",
       "      <td>avg3muts</td>\n",
       "      <td>AAAAGCAGATTAACAA</td>\n",
       "      <td>0.25</td>\n",
       "      <td>0.09465</td>\n",
       "      <td></td>\n",
       "      <td>0.1128</td>\n",
       "    </tr>\n",
       "    <tr>\n",
       "      <th>4</th>\n",
       "      <td>avg3muts</td>\n",
       "      <td>AAACGCTCATCCGCTC</td>\n",
       "      <td>0.25</td>\n",
       "      <td>0.03299</td>\n",
       "      <td></td>\n",
       "      <td>0.1128</td>\n",
       "    </tr>\n",
       "    <tr>\n",
       "      <th>...</th>\n",
       "      <td>...</td>\n",
       "      <td>...</td>\n",
       "      <td>...</td>\n",
       "      <td>...</td>\n",
       "      <td>...</td>\n",
       "      <td>...</td>\n",
       "    </tr>\n",
       "    <tr>\n",
       "      <th>89995</th>\n",
       "      <td>avg3muts</td>\n",
       "      <td>CGAAGTGCCGGGCGTT</td>\n",
       "      <td>1.00</td>\n",
       "      <td>0.16530</td>\n",
       "      <td>Y508V H519D</td>\n",
       "      <td>1.2960</td>\n",
       "    </tr>\n",
       "    <tr>\n",
       "      <th>89996</th>\n",
       "      <td>avg3muts</td>\n",
       "      <td>CGAAGTGCCGGGCGTT</td>\n",
       "      <td>4.00</td>\n",
       "      <td>0.04718</td>\n",
       "      <td>Y508V H519D</td>\n",
       "      <td>1.2960</td>\n",
       "    </tr>\n",
       "    <tr>\n",
       "      <th>89997</th>\n",
       "      <td>avg3muts</td>\n",
       "      <td>CCCTGCACCCCACATA</td>\n",
       "      <td>0.25</td>\n",
       "      <td>0.04110</td>\n",
       "      <td>Y508W</td>\n",
       "      <td>0.2285</td>\n",
       "    </tr>\n",
       "    <tr>\n",
       "      <th>89998</th>\n",
       "      <td>avg3muts</td>\n",
       "      <td>CCCTGCACCCCACATA</td>\n",
       "      <td>1.00</td>\n",
       "      <td>0.00000</td>\n",
       "      <td>Y508W</td>\n",
       "      <td>0.2285</td>\n",
       "    </tr>\n",
       "    <tr>\n",
       "      <th>89999</th>\n",
       "      <td>avg3muts</td>\n",
       "      <td>CCCTGCACCCCACATA</td>\n",
       "      <td>4.00</td>\n",
       "      <td>0.02268</td>\n",
       "      <td>Y508W</td>\n",
       "      <td>0.2285</td>\n",
       "    </tr>\n",
       "  </tbody>\n",
       "</table>\n",
       "<p>90000 rows × 6 columns</p>\n",
       "</div>"
      ],
      "text/plain": [
       "        library           barcode  concentration  prob_escape  \\\n",
       "0      avg3muts  AAAAAGATTGCAGTTG           0.25      0.00000   \n",
       "1      avg3muts  AAAACCTGTCAGAGAC           0.25      0.01090   \n",
       "2      avg3muts  AAAACTGACATGTGTT           0.25      0.01458   \n",
       "3      avg3muts  AAAAGCAGATTAACAA           0.25      0.09465   \n",
       "4      avg3muts  AAACGCTCATCCGCTC           0.25      0.03299   \n",
       "...         ...               ...            ...          ...   \n",
       "89995  avg3muts  CGAAGTGCCGGGCGTT           1.00      0.16530   \n",
       "89996  avg3muts  CGAAGTGCCGGGCGTT           4.00      0.04718   \n",
       "89997  avg3muts  CCCTGCACCCCACATA           0.25      0.04110   \n",
       "89998  avg3muts  CCCTGCACCCCACATA           1.00      0.00000   \n",
       "89999  avg3muts  CCCTGCACCCCACATA           4.00      0.02268   \n",
       "\n",
       "      aa_substitutions    IC90  \n",
       "0                       0.1128  \n",
       "1                       0.1128  \n",
       "2                       0.1128  \n",
       "3                       0.1128  \n",
       "4                       0.1128  \n",
       "...                ...     ...  \n",
       "89995      Y508V H519D  1.2960  \n",
       "89996      Y508V H519D  1.2960  \n",
       "89997            Y508W  0.2285  \n",
       "89998            Y508W  0.2285  \n",
       "89999            Y508W  0.2285  \n",
       "\n",
       "[90000 rows x 6 columns]"
      ]
     },
     "execution_count": 2,
     "metadata": {},
     "output_type": "execute_result"
    }
   ],
   "source": [
    "noisy_data = (\n",
    "    pd.read_csv(\"RBD_variants_escape_noisy.csv\", na_filter=None)\n",
    "    .query('library == \"avg3muts\"')\n",
    "    .query(\"concentration in [0.25, 1, 4]\")\n",
    "    .reset_index(drop=True)\n",
    ")\n",
    "noisy_data"
   ]
  },
  {
   "cell_type": "markdown",
   "metadata": {},
   "source": [
    "We'll also read in the \"true\" mutation-escape values, $\\beta_{m,e}$, as a reference for later."
   ]
  },
  {
   "cell_type": "code",
   "execution_count": 3,
   "metadata": {},
   "outputs": [
    {
     "data": {
      "text/html": [
       "<div>\n",
       "<style scoped>\n",
       "    .dataframe tbody tr th:only-of-type {\n",
       "        vertical-align: middle;\n",
       "    }\n",
       "\n",
       "    .dataframe tbody tr th {\n",
       "        vertical-align: top;\n",
       "    }\n",
       "\n",
       "    .dataframe thead th {\n",
       "        text-align: right;\n",
       "    }\n",
       "</style>\n",
       "<table border=\"1\" class=\"dataframe\">\n",
       "  <thead>\n",
       "    <tr style=\"text-align: right;\">\n",
       "      <th></th>\n",
       "      <th>epitope</th>\n",
       "      <th>mutation</th>\n",
       "      <th>escape</th>\n",
       "    </tr>\n",
       "  </thead>\n",
       "  <tbody>\n",
       "    <tr>\n",
       "      <th>0</th>\n",
       "      <td>1</td>\n",
       "      <td>N331A</td>\n",
       "      <td>0.08226</td>\n",
       "    </tr>\n",
       "    <tr>\n",
       "      <th>1</th>\n",
       "      <td>1</td>\n",
       "      <td>N331D</td>\n",
       "      <td>0.77700</td>\n",
       "    </tr>\n",
       "    <tr>\n",
       "      <th>2</th>\n",
       "      <td>1</td>\n",
       "      <td>N331E</td>\n",
       "      <td>0.08226</td>\n",
       "    </tr>\n",
       "    <tr>\n",
       "      <th>3</th>\n",
       "      <td>1</td>\n",
       "      <td>N331F</td>\n",
       "      <td>0.08226</td>\n",
       "    </tr>\n",
       "    <tr>\n",
       "      <th>4</th>\n",
       "      <td>1</td>\n",
       "      <td>N331G</td>\n",
       "      <td>1.70100</td>\n",
       "    </tr>\n",
       "    <tr>\n",
       "      <th>...</th>\n",
       "      <td>...</td>\n",
       "      <td>...</td>\n",
       "      <td>...</td>\n",
       "    </tr>\n",
       "    <tr>\n",
       "      <th>5791</th>\n",
       "      <td>3</td>\n",
       "      <td>T531R</td>\n",
       "      <td>0.72620</td>\n",
       "    </tr>\n",
       "    <tr>\n",
       "      <th>5792</th>\n",
       "      <td>3</td>\n",
       "      <td>T531S</td>\n",
       "      <td>0.72620</td>\n",
       "    </tr>\n",
       "    <tr>\n",
       "      <th>5793</th>\n",
       "      <td>3</td>\n",
       "      <td>T531V</td>\n",
       "      <td>0.72480</td>\n",
       "    </tr>\n",
       "    <tr>\n",
       "      <th>5794</th>\n",
       "      <td>3</td>\n",
       "      <td>T531W</td>\n",
       "      <td>0.72280</td>\n",
       "    </tr>\n",
       "    <tr>\n",
       "      <th>5795</th>\n",
       "      <td>3</td>\n",
       "      <td>T531Y</td>\n",
       "      <td>0.72620</td>\n",
       "    </tr>\n",
       "  </tbody>\n",
       "</table>\n",
       "<p>5796 rows × 3 columns</p>\n",
       "</div>"
      ],
      "text/plain": [
       "     epitope mutation   escape\n",
       "0          1    N331A  0.08226\n",
       "1          1    N331D  0.77700\n",
       "2          1    N331E  0.08226\n",
       "3          1    N331F  0.08226\n",
       "4          1    N331G  1.70100\n",
       "...      ...      ...      ...\n",
       "5791       3    T531R  0.72620\n",
       "5792       3    T531S  0.72620\n",
       "5793       3    T531V  0.72480\n",
       "5794       3    T531W  0.72280\n",
       "5795       3    T531Y  0.72620\n",
       "\n",
       "[5796 rows x 3 columns]"
      ]
     },
     "execution_count": 3,
     "metadata": {},
     "output_type": "execute_result"
    }
   ],
   "source": [
    "true_mut_escape_df = pd.read_csv(\"RBD_mut_escape_df.csv\").replace(\n",
    "    \"class \", \"\", regex=True\n",
    ")\n",
    "true_mut_escape_df"
   ]
  },
  {
   "cell_type": "markdown",
   "metadata": {},
   "source": [
    "Additionally, we’ll make a directory for storing our fit models as [pickle](https://docs.python.org/3/library/pickle.html#module-pickle) files, so that we can conveniently load them in the future without having to fit again."
   ]
  },
  {
   "cell_type": "code",
   "execution_count": 4,
   "metadata": {},
   "outputs": [],
   "source": [
    "os.makedirs(\"fit_polyclonal_models\", exist_ok=True)"
   ]
  },
  {
   "cell_type": "markdown",
   "metadata": {},
   "source": [
    "## Specifying epitopes without prior knowledge"
   ]
  },
  {
   "cell_type": "markdown",
   "metadata": {},
   "source": [
    "First, we'll simulate a case in which we have no prior knowledge about which sites confer antibody escape. Thus, we will only supply guesses for the number of epitopes targeted by the polyclonal sera. We can guess that there are probably at least 2 epitopes targeted by polyclonal sera, so we'll start by specifying 2 epitopes and iteratively fit `Polyclonal` models with increasing number of epitopes.  "
   ]
  },
  {
   "cell_type": "code",
   "execution_count": 5,
   "metadata": {},
   "outputs": [
    {
     "name": "stdout",
     "output_type": "stream",
     "text": [
      "Model with 2 epitopes specified was already fit.\n",
      "Model with 3 epitopes specified was already fit.\n",
      "Model with 4 epitopes specified was already fit.\n"
     ]
    }
   ],
   "source": [
    "n_epitopes = [2, 3, 4]\n",
    "\n",
    "# store fit models for future lookup\n",
    "fit_mut_escape = {}\n",
    "\n",
    "for e in n_epitopes:\n",
    "    # The key for the fit model\n",
    "    model_string = f\"noisy_[0.25, 1, 4]conc_3muts_{e}epitopes_noinit\"\n",
    "\n",
    "    # If the pickled model exists in the fit_polyclonal_models directory, load it.\n",
    "    if os.path.exists(f\"fit_polyclonal_models/{model_string}.pkl\") is True:\n",
    "        model = pickle.load(open(f\"fit_polyclonal_models/{model_string}.pkl\", \"rb\"))\n",
    "        fit_mut_escape.update({model_string: model})\n",
    "        print(f\"Model with {e} epitopes specified was already fit.\")\n",
    "    else:\n",
    "        # Else, fit a model and save it to the fit_polyclonal_models directory.\n",
    "        model = polyclonal.Polyclonal(\n",
    "            data_to_fit=noisy_data,\n",
    "            n_epitopes=e,\n",
    "        )\n",
    "        opt_res = model.fit(logfreq=500)\n",
    "        fit_mut_escape.update({model_string: model})\n",
    "        pickle.dump(model, open(f\"fit_polyclonal_models/{model_string}.pkl\", \"wb\"))"
   ]
  },
  {
   "cell_type": "markdown",
   "metadata": {},
   "source": [
    "We can correlate the $\\beta_{m,e}$ values for each of the epitopes fit by `Polyclonal` to the $\\beta_{m,e}$ values for each of the three \"true\" epitopes. These $\\beta_{m,e}$ values represent the extent to which mutations mediate escape from specific epitopes."
   ]
  },
  {
   "cell_type": "code",
   "execution_count": 6,
   "metadata": {},
   "outputs": [],
   "source": [
    "plot_data = pd.DataFrame()\n",
    "for e in n_epitopes:\n",
    "    model = fit_mut_escape[f\"noisy_[0.25, 1, 4]conc_3muts_{e}epitopes_noinit\"]\n",
    "\n",
    "    # get correlation of mutation-escape values between all pairwise combinations of fit vs. true epitopes\n",
    "    for true_e, fit_e in list(\n",
    "        itertools.product(\n",
    "            true_mut_escape_df[\"epitope\"].unique(),\n",
    "            model.mut_escape_df[\"epitope\"].unique(),\n",
    "        )\n",
    "    ):\n",
    "\n",
    "        df = true_mut_escape_df.query(f'epitope == \"{true_e}\"').merge(\n",
    "            (\n",
    "                model.mut_escape_df.rename(\n",
    "                    columns={\n",
    "                        \"escape\": \"predicted escape\",\n",
    "                        \"epitope\": \"predicted epitope\",\n",
    "                    }\n",
    "                ).query(f'`predicted epitope` == \"{fit_e}\"')\n",
    "            ),\n",
    "            on=\"mutation\",\n",
    "            validate=\"one_to_one\",\n",
    "        )\n",
    "\n",
    "        corr = df[\"escape\"].corr(df[\"predicted escape\"] ** 2)\n",
    "\n",
    "        plot_data = pd.concat(\n",
    "            [\n",
    "                plot_data,\n",
    "                pd.DataFrame(\n",
    "                    data={\n",
    "                        \"Number of fit epitopes\": [e],\n",
    "                        \"True epitope class\": [true_e],\n",
    "                        \"Fit epitope class\": [fit_e],\n",
    "                        \"Correlation (R^2)\": [corr],\n",
    "                    }\n",
    "                ),\n",
    "            ]\n",
    "        ).reset_index(drop=True)"
   ]
  },
  {
   "cell_type": "code",
   "execution_count": 7,
   "metadata": {},
   "outputs": [
    {
     "data": {
      "text/html": [
       "\n",
       "<div id=\"altair-viz-9c727a6a92c14b5691e4dc0475cd675d\"></div>\n",
       "<script type=\"text/javascript\">\n",
       "  var VEGA_DEBUG = (typeof VEGA_DEBUG == \"undefined\") ? {} : VEGA_DEBUG;\n",
       "  (function(spec, embedOpt){\n",
       "    let outputDiv = document.currentScript.previousElementSibling;\n",
       "    if (outputDiv.id !== \"altair-viz-9c727a6a92c14b5691e4dc0475cd675d\") {\n",
       "      outputDiv = document.getElementById(\"altair-viz-9c727a6a92c14b5691e4dc0475cd675d\");\n",
       "    }\n",
       "    const paths = {\n",
       "      \"vega\": \"https://cdn.jsdelivr.net/npm//vega@5?noext\",\n",
       "      \"vega-lib\": \"https://cdn.jsdelivr.net/npm//vega-lib?noext\",\n",
       "      \"vega-lite\": \"https://cdn.jsdelivr.net/npm//vega-lite@5.2.0?noext\",\n",
       "      \"vega-embed\": \"https://cdn.jsdelivr.net/npm//vega-embed@6?noext\",\n",
       "    };\n",
       "\n",
       "    function maybeLoadScript(lib, version) {\n",
       "      var key = `${lib.replace(\"-\", \"\")}_version`;\n",
       "      return (VEGA_DEBUG[key] == version) ?\n",
       "        Promise.resolve(paths[lib]) :\n",
       "        new Promise(function(resolve, reject) {\n",
       "          var s = document.createElement('script');\n",
       "          document.getElementsByTagName(\"head\")[0].appendChild(s);\n",
       "          s.async = true;\n",
       "          s.onload = () => {\n",
       "            VEGA_DEBUG[key] = version;\n",
       "            return resolve(paths[lib]);\n",
       "          };\n",
       "          s.onerror = () => reject(`Error loading script: ${paths[lib]}`);\n",
       "          s.src = paths[lib];\n",
       "        });\n",
       "    }\n",
       "\n",
       "    function showError(err) {\n",
       "      outputDiv.innerHTML = `<div class=\"error\" style=\"color:red;\">${err}</div>`;\n",
       "      throw err;\n",
       "    }\n",
       "\n",
       "    function displayChart(vegaEmbed) {\n",
       "      vegaEmbed(outputDiv, spec, embedOpt)\n",
       "        .catch(err => showError(`Javascript Error: ${err.message}<br>This usually means there's a typo in your chart specification. See the javascript console for the full traceback.`));\n",
       "    }\n",
       "\n",
       "    if(typeof define === \"function\" && define.amd) {\n",
       "      requirejs.config({paths});\n",
       "      require([\"vega-embed\"], displayChart, err => showError(`Error loading script: ${err.message}`));\n",
       "    } else {\n",
       "      maybeLoadScript(\"vega\", \"5\")\n",
       "        .then(() => maybeLoadScript(\"vega-lite\", \"5.2.0\"))\n",
       "        .then(() => maybeLoadScript(\"vega-embed\", \"6\"))\n",
       "        .catch(showError)\n",
       "        .then(() => displayChart(vegaEmbed));\n",
       "    }\n",
       "  })({\"config\": {\"view\": {\"continuousWidth\": 400, \"continuousHeight\": 300}}, \"data\": {\"name\": \"data-f4ee272c64d8b05cac9fd066e945367c\"}, \"facet\": {\"field\": \"Number of fit epitopes\", \"type\": \"quantitative\"}, \"spec\": {\"mark\": {\"type\": \"rect\", \"opacity\": 0.95, \"stroke\": \"black\"}, \"encoding\": {\"color\": {\"field\": \"Correlation (R^2)\", \"scale\": {\"scheme\": \"viridis\"}, \"type\": \"quantitative\"}, \"tooltip\": [{\"field\": \"Fit epitope class\", \"type\": \"ordinal\"}, {\"field\": \"True epitope class\", \"type\": \"ordinal\"}, {\"field\": \"Correlation (R^2)\", \"format\": \".3f\", \"type\": \"quantitative\"}], \"x\": {\"field\": \"Fit epitope class\", \"type\": \"ordinal\"}, \"y\": {\"field\": \"True epitope class\", \"type\": \"ordinal\"}}, \"height\": 100, \"width\": 130}, \"$schema\": \"https://vega.github.io/schema/vega-lite/v5.2.0.json\", \"datasets\": {\"data-f4ee272c64d8b05cac9fd066e945367c\": [{\"Number of fit epitopes\": 2, \"True epitope class\": \"1\", \"Fit epitope class\": \"1\", \"Correlation (R^2)\": 0.018983016603367025}, {\"Number of fit epitopes\": 2, \"True epitope class\": \"1\", \"Fit epitope class\": \"2\", \"Correlation (R^2)\": 0.12988193567951428}, {\"Number of fit epitopes\": 2, \"True epitope class\": \"2\", \"Fit epitope class\": \"1\", \"Correlation (R^2)\": -0.05939436813795211}, {\"Number of fit epitopes\": 2, \"True epitope class\": \"2\", \"Fit epitope class\": \"2\", \"Correlation (R^2)\": 0.8895171955576714}, {\"Number of fit epitopes\": 2, \"True epitope class\": \"3\", \"Fit epitope class\": \"1\", \"Correlation (R^2)\": 0.8194119671574712}, {\"Number of fit epitopes\": 2, \"True epitope class\": \"3\", \"Fit epitope class\": \"2\", \"Correlation (R^2)\": -0.05619499043461336}, {\"Number of fit epitopes\": 3, \"True epitope class\": \"1\", \"Fit epitope class\": \"1\", \"Correlation (R^2)\": -0.08546948884753444}, {\"Number of fit epitopes\": 3, \"True epitope class\": \"1\", \"Fit epitope class\": \"2\", \"Correlation (R^2)\": 0.0683888415501167}, {\"Number of fit epitopes\": 3, \"True epitope class\": \"1\", \"Fit epitope class\": \"3\", \"Correlation (R^2)\": 0.8753920413900357}, {\"Number of fit epitopes\": 3, \"True epitope class\": \"2\", \"Fit epitope class\": \"1\", \"Correlation (R^2)\": -0.06005910179036486}, {\"Number of fit epitopes\": 3, \"True epitope class\": \"2\", \"Fit epitope class\": \"2\", \"Correlation (R^2)\": 0.9682106346489056}, {\"Number of fit epitopes\": 3, \"True epitope class\": \"2\", \"Fit epitope class\": \"3\", \"Correlation (R^2)\": 0.20941923075564864}, {\"Number of fit epitopes\": 3, \"True epitope class\": \"3\", \"Fit epitope class\": \"1\", \"Correlation (R^2)\": 0.9505299459402468}, {\"Number of fit epitopes\": 3, \"True epitope class\": \"3\", \"Fit epitope class\": \"2\", \"Correlation (R^2)\": -0.05530326328103024}, {\"Number of fit epitopes\": 3, \"True epitope class\": \"3\", \"Fit epitope class\": \"3\", \"Correlation (R^2)\": -0.07084133114722688}, {\"Number of fit epitopes\": 4, \"True epitope class\": \"1\", \"Fit epitope class\": \"1\", \"Correlation (R^2)\": -0.08534664452245953}, {\"Number of fit epitopes\": 4, \"True epitope class\": \"1\", \"Fit epitope class\": \"2\", \"Correlation (R^2)\": 0.07023557808830834}, {\"Number of fit epitopes\": 4, \"True epitope class\": \"1\", \"Fit epitope class\": \"3\", \"Correlation (R^2)\": -0.007004985361797011}, {\"Number of fit epitopes\": 4, \"True epitope class\": \"1\", \"Fit epitope class\": \"4\", \"Correlation (R^2)\": 0.8711521515270472}, {\"Number of fit epitopes\": 4, \"True epitope class\": \"2\", \"Fit epitope class\": \"1\", \"Correlation (R^2)\": -0.06163643748083777}, {\"Number of fit epitopes\": 4, \"True epitope class\": \"2\", \"Fit epitope class\": \"2\", \"Correlation (R^2)\": 0.968574484097784}, {\"Number of fit epitopes\": 4, \"True epitope class\": \"2\", \"Fit epitope class\": \"3\", \"Correlation (R^2)\": 0.17294934425332745}, {\"Number of fit epitopes\": 4, \"True epitope class\": \"2\", \"Fit epitope class\": \"4\", \"Correlation (R^2)\": 0.21364926571129075}, {\"Number of fit epitopes\": 4, \"True epitope class\": \"3\", \"Fit epitope class\": \"1\", \"Correlation (R^2)\": 0.9497300452899367}, {\"Number of fit epitopes\": 4, \"True epitope class\": \"3\", \"Fit epitope class\": \"2\", \"Correlation (R^2)\": -0.054259120641115335}, {\"Number of fit epitopes\": 4, \"True epitope class\": \"3\", \"Fit epitope class\": \"3\", \"Correlation (R^2)\": -0.01907266548577252}, {\"Number of fit epitopes\": 4, \"True epitope class\": \"3\", \"Fit epitope class\": \"4\", \"Correlation (R^2)\": -0.07124459929393928}]}}, {\"mode\": \"vega-lite\"});\n",
       "</script>"
      ],
      "text/plain": [
       "alt.FacetChart(...)"
      ]
     },
     "execution_count": 7,
     "metadata": {},
     "output_type": "execute_result"
    }
   ],
   "source": [
    "alt.Chart(plot_data).mark_rect(opacity=0.95, stroke=\"black\",).encode(\n",
    "    x=\"Fit epitope class:O\",\n",
    "    y=\"True epitope class:O\",\n",
    "    color=alt.Color(\"Correlation (R^2):Q\", scale=alt.Scale(scheme=\"viridis\")),\n",
    "    tooltip=[\n",
    "        \"Fit epitope class:O\",\n",
    "        \"True epitope class:O\",\n",
    "        alt.Tooltip(\"Correlation (R^2)\", format=\".3f\"),\n",
    "    ],\n",
    ").properties(width=130, height=100,).facet(\n",
    "    \"Number of fit epitopes\",\n",
    ")"
   ]
  },
  {
   "cell_type": "markdown",
   "metadata": {},
   "source": [
    "We can also visualize the wildtype activity values, $a_{wt,e}$."
   ]
  },
  {
   "cell_type": "code",
   "execution_count": 8,
   "metadata": {},
   "outputs": [
    {
     "name": "stdout",
     "output_type": "stream",
     "text": [
      "Number of fit epitopes: 2\n"
     ]
    },
    {
     "data": {
      "text/html": [
       "\n",
       "<div id=\"altair-viz-3c47f94277da4aaa9b08b4ed251b7e37\"></div>\n",
       "<script type=\"text/javascript\">\n",
       "  var VEGA_DEBUG = (typeof VEGA_DEBUG == \"undefined\") ? {} : VEGA_DEBUG;\n",
       "  (function(spec, embedOpt){\n",
       "    let outputDiv = document.currentScript.previousElementSibling;\n",
       "    if (outputDiv.id !== \"altair-viz-3c47f94277da4aaa9b08b4ed251b7e37\") {\n",
       "      outputDiv = document.getElementById(\"altair-viz-3c47f94277da4aaa9b08b4ed251b7e37\");\n",
       "    }\n",
       "    const paths = {\n",
       "      \"vega\": \"https://cdn.jsdelivr.net/npm//vega@5?noext\",\n",
       "      \"vega-lib\": \"https://cdn.jsdelivr.net/npm//vega-lib?noext\",\n",
       "      \"vega-lite\": \"https://cdn.jsdelivr.net/npm//vega-lite@5.2.0?noext\",\n",
       "      \"vega-embed\": \"https://cdn.jsdelivr.net/npm//vega-embed@6?noext\",\n",
       "    };\n",
       "\n",
       "    function maybeLoadScript(lib, version) {\n",
       "      var key = `${lib.replace(\"-\", \"\")}_version`;\n",
       "      return (VEGA_DEBUG[key] == version) ?\n",
       "        Promise.resolve(paths[lib]) :\n",
       "        new Promise(function(resolve, reject) {\n",
       "          var s = document.createElement('script');\n",
       "          document.getElementsByTagName(\"head\")[0].appendChild(s);\n",
       "          s.async = true;\n",
       "          s.onload = () => {\n",
       "            VEGA_DEBUG[key] = version;\n",
       "            return resolve(paths[lib]);\n",
       "          };\n",
       "          s.onerror = () => reject(`Error loading script: ${paths[lib]}`);\n",
       "          s.src = paths[lib];\n",
       "        });\n",
       "    }\n",
       "\n",
       "    function showError(err) {\n",
       "      outputDiv.innerHTML = `<div class=\"error\" style=\"color:red;\">${err}</div>`;\n",
       "      throw err;\n",
       "    }\n",
       "\n",
       "    function displayChart(vegaEmbed) {\n",
       "      vegaEmbed(outputDiv, spec, embedOpt)\n",
       "        .catch(err => showError(`Javascript Error: ${err.message}<br>This usually means there's a typo in your chart specification. See the javascript console for the full traceback.`));\n",
       "    }\n",
       "\n",
       "    if(typeof define === \"function\" && define.amd) {\n",
       "      requirejs.config({paths});\n",
       "      require([\"vega-embed\"], displayChart, err => showError(`Error loading script: ${err.message}`));\n",
       "    } else {\n",
       "      maybeLoadScript(\"vega\", \"5\")\n",
       "        .then(() => maybeLoadScript(\"vega-lite\", \"5.2.0\"))\n",
       "        .then(() => maybeLoadScript(\"vega-embed\", \"6\"))\n",
       "        .catch(showError)\n",
       "        .then(() => displayChart(vegaEmbed));\n",
       "    }\n",
       "  })({\"config\": {\"view\": {\"continuousWidth\": 400, \"continuousHeight\": 300}, \"axis\": {\"grid\": false}}, \"data\": {\"name\": \"data-d23f6bd14f8388c22c7a9127462c000d\"}, \"mark\": {\"type\": \"bar\", \"size\": 18.75}, \"encoding\": {\"color\": {\"field\": \"epitope\", \"legend\": null, \"scale\": {\"domain\": [\"1\", \"2\"], \"range\": [\"#1f77b4\", \"#ff7f0e\"]}, \"type\": \"nominal\"}, \"tooltip\": [{\"field\": \"epitope\", \"type\": \"nominal\"}, {\"field\": \"activity\", \"format\": \".3g\", \"type\": \"quantitative\"}], \"x\": {\"field\": \"activity\", \"type\": \"quantitative\"}, \"y\": {\"field\": \"epitope\", \"type\": \"nominal\"}}, \"height\": {\"step\": 25}, \"width\": 110, \"$schema\": \"https://vega.github.io/schema/vega-lite/v5.2.0.json\", \"datasets\": {\"data-d23f6bd14f8388c22c7a9127462c000d\": [{\"epitope\": \"1\", \"activity\": 2.367589733162031}, {\"epitope\": \"2\", \"activity\": 3.380927904165488}]}}, {\"mode\": \"vega-lite\"});\n",
       "</script>"
      ],
      "text/plain": [
       "alt.Chart(...)"
      ]
     },
     "metadata": {},
     "output_type": "display_data"
    },
    {
     "name": "stdout",
     "output_type": "stream",
     "text": [
      "Number of fit epitopes: 3\n"
     ]
    },
    {
     "data": {
      "text/html": [
       "\n",
       "<div id=\"altair-viz-4e5046ae709845168539e846c421877e\"></div>\n",
       "<script type=\"text/javascript\">\n",
       "  var VEGA_DEBUG = (typeof VEGA_DEBUG == \"undefined\") ? {} : VEGA_DEBUG;\n",
       "  (function(spec, embedOpt){\n",
       "    let outputDiv = document.currentScript.previousElementSibling;\n",
       "    if (outputDiv.id !== \"altair-viz-4e5046ae709845168539e846c421877e\") {\n",
       "      outputDiv = document.getElementById(\"altair-viz-4e5046ae709845168539e846c421877e\");\n",
       "    }\n",
       "    const paths = {\n",
       "      \"vega\": \"https://cdn.jsdelivr.net/npm//vega@5?noext\",\n",
       "      \"vega-lib\": \"https://cdn.jsdelivr.net/npm//vega-lib?noext\",\n",
       "      \"vega-lite\": \"https://cdn.jsdelivr.net/npm//vega-lite@5.2.0?noext\",\n",
       "      \"vega-embed\": \"https://cdn.jsdelivr.net/npm//vega-embed@6?noext\",\n",
       "    };\n",
       "\n",
       "    function maybeLoadScript(lib, version) {\n",
       "      var key = `${lib.replace(\"-\", \"\")}_version`;\n",
       "      return (VEGA_DEBUG[key] == version) ?\n",
       "        Promise.resolve(paths[lib]) :\n",
       "        new Promise(function(resolve, reject) {\n",
       "          var s = document.createElement('script');\n",
       "          document.getElementsByTagName(\"head\")[0].appendChild(s);\n",
       "          s.async = true;\n",
       "          s.onload = () => {\n",
       "            VEGA_DEBUG[key] = version;\n",
       "            return resolve(paths[lib]);\n",
       "          };\n",
       "          s.onerror = () => reject(`Error loading script: ${paths[lib]}`);\n",
       "          s.src = paths[lib];\n",
       "        });\n",
       "    }\n",
       "\n",
       "    function showError(err) {\n",
       "      outputDiv.innerHTML = `<div class=\"error\" style=\"color:red;\">${err}</div>`;\n",
       "      throw err;\n",
       "    }\n",
       "\n",
       "    function displayChart(vegaEmbed) {\n",
       "      vegaEmbed(outputDiv, spec, embedOpt)\n",
       "        .catch(err => showError(`Javascript Error: ${err.message}<br>This usually means there's a typo in your chart specification. See the javascript console for the full traceback.`));\n",
       "    }\n",
       "\n",
       "    if(typeof define === \"function\" && define.amd) {\n",
       "      requirejs.config({paths});\n",
       "      require([\"vega-embed\"], displayChart, err => showError(`Error loading script: ${err.message}`));\n",
       "    } else {\n",
       "      maybeLoadScript(\"vega\", \"5\")\n",
       "        .then(() => maybeLoadScript(\"vega-lite\", \"5.2.0\"))\n",
       "        .then(() => maybeLoadScript(\"vega-embed\", \"6\"))\n",
       "        .catch(showError)\n",
       "        .then(() => displayChart(vegaEmbed));\n",
       "    }\n",
       "  })({\"config\": {\"view\": {\"continuousWidth\": 400, \"continuousHeight\": 300}, \"axis\": {\"grid\": false}}, \"data\": {\"name\": \"data-1a723cd69b98d57f4d32e40842aa8f75\"}, \"mark\": {\"type\": \"bar\", \"size\": 18.75}, \"encoding\": {\"color\": {\"field\": \"epitope\", \"legend\": null, \"scale\": {\"domain\": [\"1\", \"2\", \"3\"], \"range\": [\"#1f77b4\", \"#ff7f0e\", \"#2ca02c\"]}, \"type\": \"nominal\"}, \"tooltip\": [{\"field\": \"epitope\", \"type\": \"nominal\"}, {\"field\": \"activity\", \"format\": \".3g\", \"type\": \"quantitative\"}], \"x\": {\"field\": \"activity\", \"type\": \"quantitative\"}, \"y\": {\"field\": \"epitope\", \"type\": \"nominal\"}}, \"height\": {\"step\": 25}, \"width\": 110, \"$schema\": \"https://vega.github.io/schema/vega-lite/v5.2.0.json\", \"datasets\": {\"data-1a723cd69b98d57f4d32e40842aa8f75\": [{\"epitope\": \"1\", \"activity\": 2.050008377976714}, {\"epitope\": \"2\", \"activity\": 3.1716412084661854}, {\"epitope\": \"3\", \"activity\": 1.1313009149538422}]}}, {\"mode\": \"vega-lite\"});\n",
       "</script>"
      ],
      "text/plain": [
       "alt.Chart(...)"
      ]
     },
     "metadata": {},
     "output_type": "display_data"
    },
    {
     "name": "stdout",
     "output_type": "stream",
     "text": [
      "Number of fit epitopes: 4\n"
     ]
    },
    {
     "data": {
      "text/html": [
       "\n",
       "<div id=\"altair-viz-6e04695e2f3f4274b77cb544ce81dab2\"></div>\n",
       "<script type=\"text/javascript\">\n",
       "  var VEGA_DEBUG = (typeof VEGA_DEBUG == \"undefined\") ? {} : VEGA_DEBUG;\n",
       "  (function(spec, embedOpt){\n",
       "    let outputDiv = document.currentScript.previousElementSibling;\n",
       "    if (outputDiv.id !== \"altair-viz-6e04695e2f3f4274b77cb544ce81dab2\") {\n",
       "      outputDiv = document.getElementById(\"altair-viz-6e04695e2f3f4274b77cb544ce81dab2\");\n",
       "    }\n",
       "    const paths = {\n",
       "      \"vega\": \"https://cdn.jsdelivr.net/npm//vega@5?noext\",\n",
       "      \"vega-lib\": \"https://cdn.jsdelivr.net/npm//vega-lib?noext\",\n",
       "      \"vega-lite\": \"https://cdn.jsdelivr.net/npm//vega-lite@5.2.0?noext\",\n",
       "      \"vega-embed\": \"https://cdn.jsdelivr.net/npm//vega-embed@6?noext\",\n",
       "    };\n",
       "\n",
       "    function maybeLoadScript(lib, version) {\n",
       "      var key = `${lib.replace(\"-\", \"\")}_version`;\n",
       "      return (VEGA_DEBUG[key] == version) ?\n",
       "        Promise.resolve(paths[lib]) :\n",
       "        new Promise(function(resolve, reject) {\n",
       "          var s = document.createElement('script');\n",
       "          document.getElementsByTagName(\"head\")[0].appendChild(s);\n",
       "          s.async = true;\n",
       "          s.onload = () => {\n",
       "            VEGA_DEBUG[key] = version;\n",
       "            return resolve(paths[lib]);\n",
       "          };\n",
       "          s.onerror = () => reject(`Error loading script: ${paths[lib]}`);\n",
       "          s.src = paths[lib];\n",
       "        });\n",
       "    }\n",
       "\n",
       "    function showError(err) {\n",
       "      outputDiv.innerHTML = `<div class=\"error\" style=\"color:red;\">${err}</div>`;\n",
       "      throw err;\n",
       "    }\n",
       "\n",
       "    function displayChart(vegaEmbed) {\n",
       "      vegaEmbed(outputDiv, spec, embedOpt)\n",
       "        .catch(err => showError(`Javascript Error: ${err.message}<br>This usually means there's a typo in your chart specification. See the javascript console for the full traceback.`));\n",
       "    }\n",
       "\n",
       "    if(typeof define === \"function\" && define.amd) {\n",
       "      requirejs.config({paths});\n",
       "      require([\"vega-embed\"], displayChart, err => showError(`Error loading script: ${err.message}`));\n",
       "    } else {\n",
       "      maybeLoadScript(\"vega\", \"5\")\n",
       "        .then(() => maybeLoadScript(\"vega-lite\", \"5.2.0\"))\n",
       "        .then(() => maybeLoadScript(\"vega-embed\", \"6\"))\n",
       "        .catch(showError)\n",
       "        .then(() => displayChart(vegaEmbed));\n",
       "    }\n",
       "  })({\"config\": {\"view\": {\"continuousWidth\": 400, \"continuousHeight\": 300}, \"axis\": {\"grid\": false}}, \"data\": {\"name\": \"data-2eb238c5b6328d0fe433af8d98fd475d\"}, \"mark\": {\"type\": \"bar\", \"size\": 18.75}, \"encoding\": {\"color\": {\"field\": \"epitope\", \"legend\": null, \"scale\": {\"domain\": [\"1\", \"2\", \"3\", \"4\"], \"range\": [\"#1f77b4\", \"#ff7f0e\", \"#2ca02c\", \"#d62728\"]}, \"type\": \"nominal\"}, \"tooltip\": [{\"field\": \"epitope\", \"type\": \"nominal\"}, {\"field\": \"activity\", \"format\": \".3g\", \"type\": \"quantitative\"}], \"x\": {\"field\": \"activity\", \"type\": \"quantitative\"}, \"y\": {\"field\": \"epitope\", \"type\": \"nominal\"}}, \"height\": {\"step\": 25}, \"width\": 110, \"$schema\": \"https://vega.github.io/schema/vega-lite/v5.2.0.json\", \"datasets\": {\"data-2eb238c5b6328d0fe433af8d98fd475d\": [{\"epitope\": \"1\", \"activity\": 2.0387788200742043}, {\"epitope\": \"2\", \"activity\": 3.2459535394600287}, {\"epitope\": \"3\", \"activity\": -5.170686719029182}, {\"epitope\": \"4\", \"activity\": 1.0815403947123794}]}}, {\"mode\": \"vega-lite\"});\n",
       "</script>"
      ],
      "text/plain": [
       "alt.Chart(...)"
      ]
     },
     "metadata": {},
     "output_type": "display_data"
    }
   ],
   "source": [
    "for e in n_epitopes:\n",
    "    model = fit_mut_escape[f\"noisy_[0.25, 1, 4]conc_3muts_{e}epitopes_noinit\"]\n",
    "    print(f\"Number of fit epitopes: {e}\")\n",
    "    display(model.activity_wt_barplot())"
   ]
  },
  {
   "cell_type": "markdown",
   "metadata": {},
   "source": [
    "In the simulation ground truth, there are three epitopes (class 1, 2, and 3). The order of immunodominance from highest to lowest is class 2 > class 3 > class 1.\n",
    "\n",
    "- The model that specified two epitopes (left heatmap) fit mutation-escape values that strongly correlate with that of the true class 2 and 3 epitopes. This is expected, as the model prioritizes epitopes by their immunodominance and ignores the most subdominant class 1 epitope.\n",
    "\n",
    "- The model that specified three epitopes (center heatmap) fit mutation-escape values that strongly correlate with that of the true class 1, 2, and 3 epitopes. This is also expected, suggesting that the class 1 epitope, though subdominant, is not redundant. \n",
    "\n",
    "- The model that specified four epitopes (right heatmap) fit three epitopes with mutation-escape values that strongly correlate with that of the true class 1, 2, and 3 epitopes. However, the fourth fit epitope did not correlate with any of the true epitopes. This \"redundant\" epitope also had a strongly negative wildtype activity value, suggesting that antibodies targeting that \"epitope\" don't make an appreciable contribution to the observed data."
   ]
  },
  {
   "cell_type": "markdown",
   "metadata": {},
   "source": [
    "Additionally, we can look at the correlation between “true” and predicted IC90’s for each of the fit models. To do this, we’ll predict the IC90’s of variants in a separate library with a different (higher) mutation rate. We therefore read in the “exact” simulated data from a library containing variants with an average of four mutations per gene."
   ]
  },
  {
   "cell_type": "code",
   "execution_count": 9,
   "metadata": {},
   "outputs": [],
   "source": [
    "exact_data = (\n",
    "    pd.read_csv(\"RBD_variants_escape_exact.csv\", na_filter=None)\n",
    "    .query('library == \"avg4muts\"')\n",
    "    .query(\"concentration in [1]\")\n",
    "    .reset_index(drop=True)\n",
    ")"
   ]
  },
  {
   "cell_type": "markdown",
   "metadata": {},
   "source": [
    "We’ll make the comparison on a log scale, and clip IC90s at values >50 as that is likely to be way outside the dynamic range given the concentrations used."
   ]
  },
  {
   "cell_type": "code",
   "execution_count": 28,
   "metadata": {},
   "outputs": [],
   "source": [
    "ic90_corrs = pd.DataFrame()\n",
    "ic90_data = pd.DataFrame()\n",
    "\n",
    "max_ic90 = 50\n",
    "for e in n_epitopes:\n",
    "    model = fit_mut_escape[f\"noisy_[0.25, 1, 4]conc_3muts_{e}epitopes_noinit\"]\n",
    "\n",
    "    ic90s = (\n",
    "        exact_data[[\"aa_substitutions\", \"IC90\"]]\n",
    "        .assign(IC90=lambda x: x[\"IC90\"].clip(upper=max_ic90))\n",
    "        .drop_duplicates()\n",
    "    )\n",
    "    ic90s = model.filter_variants_by_seen_muts(ic90s)\n",
    "    ic90s = model.icXX(ic90s, x=0.9, col=\"predicted_IC90\", max_c=max_ic90)\n",
    "\n",
    "    ic90s = ic90s.assign(\n",
    "        log_IC90=lambda x: np.log10(x[\"IC90\"]),\n",
    "        predicted_log_IC90=lambda x: np.log10(x[\"predicted_IC90\"]),\n",
    "    )\n",
    "\n",
    "    corr = ic90s[\"log_IC90\"].corr(ic90s[\"predicted_log_IC90\"]) ** 2\n",
    "\n",
    "    ic90_corrs = pd.concat(\n",
    "        [\n",
    "            ic90_corrs,\n",
    "            pd.DataFrame(\n",
    "                {\n",
    "                    \"number_fit_epitopes\": [e],\n",
    "                    \"Correlation (R^2)\": \"{:.3f}\".format(corr),\n",
    "                }\n",
    "            ),\n",
    "        ]\n",
    "    ).reset_index(drop=True)\n",
    "\n",
    "    ic90_data = pd.concat(\n",
    "        [\n",
    "            ic90_data,\n",
    "            (\n",
    "                ic90s[[\"log_IC90\", \"predicted_log_IC90\"]].assign(\n",
    "                    **{\"number_fit_epitopes\": e}\n",
    "                )\n",
    "            ),\n",
    "        ]\n",
    "    ).reset_index(drop=True)"
   ]
  },
  {
   "cell_type": "code",
   "execution_count": 29,
   "metadata": {},
   "outputs": [
    {
     "data": {
      "text/html": [
       "<div>\n",
       "<style scoped>\n",
       "    .dataframe tbody tr th:only-of-type {\n",
       "        vertical-align: middle;\n",
       "    }\n",
       "\n",
       "    .dataframe tbody tr th {\n",
       "        vertical-align: top;\n",
       "    }\n",
       "\n",
       "    .dataframe thead th {\n",
       "        text-align: right;\n",
       "    }\n",
       "</style>\n",
       "<table border=\"1\" class=\"dataframe\">\n",
       "  <thead>\n",
       "    <tr style=\"text-align: right;\">\n",
       "      <th></th>\n",
       "      <th>number_fit_epitopes</th>\n",
       "      <th>Correlation (R^2)</th>\n",
       "    </tr>\n",
       "  </thead>\n",
       "  <tbody>\n",
       "    <tr>\n",
       "      <th>0</th>\n",
       "      <td>2</td>\n",
       "      <td>0.967</td>\n",
       "    </tr>\n",
       "    <tr>\n",
       "      <th>1</th>\n",
       "      <td>3</td>\n",
       "      <td>0.993</td>\n",
       "    </tr>\n",
       "    <tr>\n",
       "      <th>2</th>\n",
       "      <td>4</td>\n",
       "      <td>0.987</td>\n",
       "    </tr>\n",
       "  </tbody>\n",
       "</table>\n",
       "</div>"
      ],
      "text/plain": [
       "   number_fit_epitopes Correlation (R^2)\n",
       "0                    2             0.967\n",
       "1                    3             0.993\n",
       "2                    4             0.987"
      ]
     },
     "execution_count": 29,
     "metadata": {},
     "output_type": "execute_result"
    }
   ],
   "source": [
    "ic90_corrs"
   ]
  },
  {
   "cell_type": "code",
   "execution_count": 34,
   "metadata": {},
   "outputs": [
    {
     "data": {
      "image/png": "[encoded data removed]",
      "text/plain": [
       "<Figure size 800x250 with 3 Axes>"
      ]
     },
     "metadata": {},
     "output_type": "display_data"
    },
    {
     "data": {
      "text/plain": [
       "<ggplot: (8781511844858)>"
      ]
     },
     "execution_count": 34,
     "metadata": {},
     "output_type": "execute_result"
    }
   ],
   "source": [
    "(\n",
    "    ggplot(ic90_data, aes(x=\"predicted_log_IC90\", y=\"log_IC90\"))\n",
    "    + geom_point(alpha=0.05, size=1)\n",
    "    + facet_wrap(\"number_fit_epitopes\")\n",
    "    + theme_classic()\n",
    "    + theme(figure_size=(8, 2.5))\n",
    ")"
   ]
  },
  {
   "cell_type": "markdown",
   "metadata": {},
   "source": [
    "Although the IC90 prediction appears excellent regardless of the number of fit epitopes, adding the 3rd epitope does lead to a small improvement in the prediction."
   ]
  },
  {
   "cell_type": "markdown",
   "metadata": {},
   "source": [
    "## Specifying epitopes with prior knowledge"
   ]
  },
  {
   "cell_type": "markdown",
   "metadata": {},
   "source": [
    "Next, we'll explore the consequences of cases where we think we have prior knowledge of some sites that confer antibody escape, but do not know the exact number of epitopes that are targeted. We can start by \"seeding\" initial guesses for 2 epitopes and iteratively fitting `Polyclonal` models with more initial guesses."
   ]
  },
  {
   "cell_type": "markdown",
   "metadata": {},
   "source": [
    "- **Case 1**: We guess from prior knowledge that site 484 and site 444 are key epitope sites, so we seed them with large mutation-escape values.\n",
    "\n",
    "- **Case 2**: Building on Case 1, we seed a 3rd key site, 417, which is often considered to be in the most subdominant class 1 epitope.\n",
    "\n",
    "- **Case 3**: Building on Case 2, we add a 4th key site, 386, that is **not** actually in an epitope that is targeted by polyclonal antibodies.\n",
    "\n",
    "- **Case 4**: Building on Case 2, we add a 4th key site that is already located in an epitope that we've specified. Specifically, we'll seed it with site 460, which is in the class 1 epitope along with site 417."
   ]
  },
  {
   "cell_type": "code",
   "execution_count": 13,
   "metadata": {},
   "outputs": [],
   "source": [
    "model_params = {\n",
    "    ### Case 1\n",
    "    \"noisy_[0.25, 1, 4]conc_3muts_2epitopes_seed484_444\": [\n",
    "        # wildtype activity guesses\n",
    "        [(\"1\", 2.0), (\"2\", 1.0)],\n",
    "        # key epitope site guesses\n",
    "        [\n",
    "            (\"1\", 484, 10.0),\n",
    "            (\"2\", 444, 10.0),\n",
    "        ],\n",
    "    ],\n",
    "    ### Case 2\n",
    "    \"noisy_[0.25, 1, 4]conc_3muts_3epitopes_seed417_484_444\": [\n",
    "        # wildtype activity guesses\n",
    "        [\n",
    "            (\"1\", 1.0),\n",
    "            (\"2\", 3.0),\n",
    "            (\"3\", 2.0),\n",
    "        ],\n",
    "        # key epitope site guesses\n",
    "        [\n",
    "            (\"1\", 417, 10.0),\n",
    "            (\"2\", 484, 10.0),\n",
    "            (\"3\", 444, 10.0),\n",
    "        ],\n",
    "    ],\n",
    "    ### Case 3\n",
    "    \"noisy_[0.25, 1, 4]conc_3muts_4epitopes_seed417_484_444_386\": [\n",
    "        # wildtype activity guesses\n",
    "        [\n",
    "            (\"1\", 2.0),\n",
    "            (\"2\", 4.0),\n",
    "            (\"3\", 3.0),\n",
    "            (\"4\", 1.0),\n",
    "        ],\n",
    "        # key epitope site guesses\n",
    "        [\n",
    "            (\"1\", 417, 10.0),\n",
    "            (\"2\", 484, 10.0),\n",
    "            (\"3\", 444, 10.0),\n",
    "            (\"4\", 386, 10.0),\n",
    "        ],\n",
    "    ],\n",
    "    ### Case 4\n",
    "    \"noisy_[0.25, 1, 4]conc_3muts_4epitopes_seed417_484_444_460\": [\n",
    "        # wildtype activity guesses\n",
    "        [\n",
    "            (\"1\", 2.0),\n",
    "            (\"2\", 4.0),\n",
    "            (\"3\", 3.0),\n",
    "            (\"4\", 1.0),\n",
    "        ],\n",
    "        # key epitope site guesses\n",
    "        [\n",
    "            (\"1\", 417, 10.0),\n",
    "            (\"2\", 484, 10.0),\n",
    "            (\"3\", 444, 10.0),\n",
    "            (\"4\", 460, 10.0),\n",
    "        ],\n",
    "    ],\n",
    "}"
   ]
  },
  {
   "cell_type": "markdown",
   "metadata": {},
   "source": [
    "Fit `Polyclonal` models for each of the cases above."
   ]
  },
  {
   "cell_type": "code",
   "execution_count": 14,
   "metadata": {},
   "outputs": [
    {
     "name": "stdout",
     "output_type": "stream",
     "text": [
      "noisy_[0.25, 1, 4]conc_3muts_2epitopes_seed484_444 was already fit.\n",
      "noisy_[0.25, 1, 4]conc_3muts_3epitopes_seed417_484_444 was already fit.\n",
      "noisy_[0.25, 1, 4]conc_3muts_4epitopes_seed417_484_444_386 was already fit.\n",
      "noisy_[0.25, 1, 4]conc_3muts_4epitopes_seed417_484_444_460 was already fit.\n"
     ]
    }
   ],
   "source": [
    "for model_string in model_params.keys():\n",
    "    # If the pickled model exists in the fit_polyclonal_models directory, load it.\n",
    "    if os.path.exists(f\"fit_polyclonal_models/{model_string}.pkl\") is True:\n",
    "        model = pickle.load(open(f\"fit_polyclonal_models/{model_string}.pkl\", \"rb\"))\n",
    "        fit_mut_escape.update({model_string: model})\n",
    "        print(f\"{model_string} was already fit.\")\n",
    "    else:\n",
    "        # Else, fit a model and save it to the fit_polyclonal_models directory.\n",
    "        model = polyclonal.Polyclonal(\n",
    "            data_to_fit=noisy_data,\n",
    "            activity_wt_df=pd.DataFrame.from_records(\n",
    "                model_params[model_string][0],\n",
    "                columns=[\"epitope\", \"activity\"],\n",
    "            ),\n",
    "            site_escape_df=pd.DataFrame.from_records(\n",
    "                model_params[model_string][1],\n",
    "                columns=[\"epitope\", \"site\", \"escape\"],\n",
    "            ),\n",
    "            data_mut_escape_overlap=\"fill_to_data\",\n",
    "        )\n",
    "\n",
    "        opt_res = model.fit(logfreq=500)\n",
    "        fit_mut_escape.update({model_string: model})\n",
    "        pickle.dump(model, open(f\"fit_polyclonal_models/{model_string}.pkl\", \"wb\"))"
   ]
  },
  {
   "cell_type": "markdown",
   "metadata": {},
   "source": [
    "Like before, we can correlate the $\\beta_{m,e}$ values for each of the epitopes fit by these `Polyclonal` models to the $\\beta_{m,e}$ values for each of the three \"true\" epitopes."
   ]
  },
  {
   "cell_type": "code",
   "execution_count": 15,
   "metadata": {},
   "outputs": [],
   "source": [
    "plot_data = pd.DataFrame()\n",
    "for st in [\n",
    "    \"2epitopes_seed484_444\",\n",
    "    \"3epitopes_seed417_484_444\",\n",
    "    \"4epitopes_seed417_484_444_386\",\n",
    "    \"4epitopes_seed417_484_444_460\",\n",
    "]:\n",
    "    model = fit_mut_escape[f\"noisy_[0.25, 1, 4]conc_3muts_{st}\"]\n",
    "    for true_e, fit_e in list(\n",
    "        itertools.product(\n",
    "            true_mut_escape_df[\"epitope\"].unique(),\n",
    "            model.mut_escape_df[\"epitope\"].unique(),\n",
    "        )\n",
    "    ):\n",
    "\n",
    "        df = true_mut_escape_df.query(f'epitope == \"{true_e}\"').merge(\n",
    "            (\n",
    "                model.mut_escape_df.rename(\n",
    "                    columns={\n",
    "                        \"escape\": \"predicted escape\",\n",
    "                        \"epitope\": \"predicted epitope\",\n",
    "                    }\n",
    "                ).query(f'`predicted epitope` == \"{fit_e}\"')\n",
    "            ),\n",
    "            on=\"mutation\",\n",
    "            validate=\"one_to_one\",\n",
    "        )\n",
    "\n",
    "        corr = df[\"escape\"].corr(df[\"predicted escape\"] ** 2)\n",
    "\n",
    "        plot_data = pd.concat(\n",
    "            [\n",
    "                plot_data,\n",
    "                pd.DataFrame(\n",
    "                    data={\n",
    "                        \"Epitope seeding\": [st],\n",
    "                        \"True epitope class\": [true_e],\n",
    "                        \"Fit epitope class\": [fit_e],\n",
    "                        \"Correlation (R^2)\": [corr],\n",
    "                    }\n",
    "                ),\n",
    "            ]\n",
    "        ).reset_index(drop=True)"
   ]
  },
  {
   "cell_type": "code",
   "execution_count": 16,
   "metadata": {},
   "outputs": [
    {
     "data": {
      "text/html": [
       "\n",
       "<div id=\"altair-viz-ff53d2e0d31f4c5791c24af751215eb5\"></div>\n",
       "<script type=\"text/javascript\">\n",
       "  var VEGA_DEBUG = (typeof VEGA_DEBUG == \"undefined\") ? {} : VEGA_DEBUG;\n",
       "  (function(spec, embedOpt){\n",
       "    let outputDiv = document.currentScript.previousElementSibling;\n",
       "    if (outputDiv.id !== \"altair-viz-ff53d2e0d31f4c5791c24af751215eb5\") {\n",
       "      outputDiv = document.getElementById(\"altair-viz-ff53d2e0d31f4c5791c24af751215eb5\");\n",
       "    }\n",
       "    const paths = {\n",
       "      \"vega\": \"https://cdn.jsdelivr.net/npm//vega@5?noext\",\n",
       "      \"vega-lib\": \"https://cdn.jsdelivr.net/npm//vega-lib?noext\",\n",
       "      \"vega-lite\": \"https://cdn.jsdelivr.net/npm//vega-lite@5.2.0?noext\",\n",
       "      \"vega-embed\": \"https://cdn.jsdelivr.net/npm//vega-embed@6?noext\",\n",
       "    };\n",
       "\n",
       "    function maybeLoadScript(lib, version) {\n",
       "      var key = `${lib.replace(\"-\", \"\")}_version`;\n",
       "      return (VEGA_DEBUG[key] == version) ?\n",
       "        Promise.resolve(paths[lib]) :\n",
       "        new Promise(function(resolve, reject) {\n",
       "          var s = document.createElement('script');\n",
       "          document.getElementsByTagName(\"head\")[0].appendChild(s);\n",
       "          s.async = true;\n",
       "          s.onload = () => {\n",
       "            VEGA_DEBUG[key] = version;\n",
       "            return resolve(paths[lib]);\n",
       "          };\n",
       "          s.onerror = () => reject(`Error loading script: ${paths[lib]}`);\n",
       "          s.src = paths[lib];\n",
       "        });\n",
       "    }\n",
       "\n",
       "    function showError(err) {\n",
       "      outputDiv.innerHTML = `<div class=\"error\" style=\"color:red;\">${err}</div>`;\n",
       "      throw err;\n",
       "    }\n",
       "\n",
       "    function displayChart(vegaEmbed) {\n",
       "      vegaEmbed(outputDiv, spec, embedOpt)\n",
       "        .catch(err => showError(`Javascript Error: ${err.message}<br>This usually means there's a typo in your chart specification. See the javascript console for the full traceback.`));\n",
       "    }\n",
       "\n",
       "    if(typeof define === \"function\" && define.amd) {\n",
       "      requirejs.config({paths});\n",
       "      require([\"vega-embed\"], displayChart, err => showError(`Error loading script: ${err.message}`));\n",
       "    } else {\n",
       "      maybeLoadScript(\"vega\", \"5\")\n",
       "        .then(() => maybeLoadScript(\"vega-lite\", \"5.2.0\"))\n",
       "        .then(() => maybeLoadScript(\"vega-embed\", \"6\"))\n",
       "        .catch(showError)\n",
       "        .then(() => displayChart(vegaEmbed));\n",
       "    }\n",
       "  })({\"config\": {\"view\": {\"continuousWidth\": 400, \"continuousHeight\": 300}}, \"data\": {\"name\": \"data-f88ff74058e183770490a1a8ca117d9f\"}, \"facet\": {\"field\": \"Epitope seeding\", \"type\": \"nominal\"}, \"spec\": {\"mark\": {\"type\": \"rect\", \"opacity\": 0.95, \"stroke\": \"black\"}, \"encoding\": {\"color\": {\"field\": \"Correlation (R^2)\", \"scale\": {\"scheme\": \"viridis\"}, \"type\": \"quantitative\"}, \"tooltip\": [{\"field\": \"Fit epitope class\", \"type\": \"ordinal\"}, {\"field\": \"True epitope class\", \"type\": \"ordinal\"}, {\"field\": \"Correlation (R^2)\", \"format\": \".3f\", \"type\": \"quantitative\"}], \"x\": {\"field\": \"Fit epitope class\", \"type\": \"ordinal\"}, \"y\": {\"field\": \"True epitope class\", \"type\": \"ordinal\"}}, \"height\": 100, \"width\": 130}, \"columns\": 2, \"$schema\": \"https://vega.github.io/schema/vega-lite/v5.2.0.json\", \"datasets\": {\"data-f88ff74058e183770490a1a8ca117d9f\": [{\"Epitope seeding\": \"2epitopes_seed484_444\", \"True epitope class\": \"1\", \"Fit epitope class\": \"1\", \"Correlation (R^2)\": 0.12972578737732635}, {\"Epitope seeding\": \"2epitopes_seed484_444\", \"True epitope class\": \"1\", \"Fit epitope class\": \"2\", \"Correlation (R^2)\": 0.019982206654513373}, {\"Epitope seeding\": \"2epitopes_seed484_444\", \"True epitope class\": \"2\", \"Fit epitope class\": \"1\", \"Correlation (R^2)\": 0.8890797677456067}, {\"Epitope seeding\": \"2epitopes_seed484_444\", \"True epitope class\": \"2\", \"Fit epitope class\": \"2\", \"Correlation (R^2)\": -0.05854575768280342}, {\"Epitope seeding\": \"2epitopes_seed484_444\", \"True epitope class\": \"3\", \"Fit epitope class\": \"1\", \"Correlation (R^2)\": -0.056134692837052816}, {\"Epitope seeding\": \"2epitopes_seed484_444\", \"True epitope class\": \"3\", \"Fit epitope class\": \"2\", \"Correlation (R^2)\": 0.8102196302381058}, {\"Epitope seeding\": \"3epitopes_seed417_484_444\", \"True epitope class\": \"1\", \"Fit epitope class\": \"1\", \"Correlation (R^2)\": 0.8930135069293285}, {\"Epitope seeding\": \"3epitopes_seed417_484_444\", \"True epitope class\": \"1\", \"Fit epitope class\": \"2\", \"Correlation (R^2)\": 0.06912524291224904}, {\"Epitope seeding\": \"3epitopes_seed417_484_444\", \"True epitope class\": \"1\", \"Fit epitope class\": \"3\", \"Correlation (R^2)\": -0.08557451604837908}, {\"Epitope seeding\": \"3epitopes_seed417_484_444\", \"True epitope class\": \"2\", \"Fit epitope class\": \"1\", \"Correlation (R^2)\": 0.19390977451810396}, {\"Epitope seeding\": \"3epitopes_seed417_484_444\", \"True epitope class\": \"2\", \"Fit epitope class\": \"2\", \"Correlation (R^2)\": 0.9689825784967437}, {\"Epitope seeding\": \"3epitopes_seed417_484_444\", \"True epitope class\": \"2\", \"Fit epitope class\": \"3\", \"Correlation (R^2)\": -0.060163668263096076}, {\"Epitope seeding\": \"3epitopes_seed417_484_444\", \"True epitope class\": \"3\", \"Fit epitope class\": \"1\", \"Correlation (R^2)\": -0.07176250609293994}, {\"Epitope seeding\": \"3epitopes_seed417_484_444\", \"True epitope class\": \"3\", \"Fit epitope class\": \"2\", \"Correlation (R^2)\": -0.05544217202268158}, {\"Epitope seeding\": \"3epitopes_seed417_484_444\", \"True epitope class\": \"3\", \"Fit epitope class\": \"3\", \"Correlation (R^2)\": 0.9502066931469488}, {\"Epitope seeding\": \"4epitopes_seed417_484_444_386\", \"True epitope class\": \"1\", \"Fit epitope class\": \"1\", \"Correlation (R^2)\": 0.865405440932545}, {\"Epitope seeding\": \"4epitopes_seed417_484_444_386\", \"True epitope class\": \"1\", \"Fit epitope class\": \"2\", \"Correlation (R^2)\": 0.06876381545940763}, {\"Epitope seeding\": \"4epitopes_seed417_484_444_386\", \"True epitope class\": \"1\", \"Fit epitope class\": \"3\", \"Correlation (R^2)\": -0.0856760919540782}, {\"Epitope seeding\": \"4epitopes_seed417_484_444_386\", \"True epitope class\": \"1\", \"Fit epitope class\": \"4\", \"Correlation (R^2)\": 0.008088623440814196}, {\"Epitope seeding\": \"4epitopes_seed417_484_444_386\", \"True epitope class\": \"2\", \"Fit epitope class\": \"1\", \"Correlation (R^2)\": 0.22239765441600734}, {\"Epitope seeding\": \"4epitopes_seed417_484_444_386\", \"True epitope class\": \"2\", \"Fit epitope class\": \"2\", \"Correlation (R^2)\": 0.9681348263987086}, {\"Epitope seeding\": \"4epitopes_seed417_484_444_386\", \"True epitope class\": \"2\", \"Fit epitope class\": \"3\", \"Correlation (R^2)\": -0.061003332353030265}, {\"Epitope seeding\": \"4epitopes_seed417_484_444_386\", \"True epitope class\": \"2\", \"Fit epitope class\": \"4\", \"Correlation (R^2)\": 0.08825598584986116}, {\"Epitope seeding\": \"4epitopes_seed417_484_444_386\", \"True epitope class\": \"3\", \"Fit epitope class\": \"1\", \"Correlation (R^2)\": -0.07046190191720224}, {\"Epitope seeding\": \"4epitopes_seed417_484_444_386\", \"True epitope class\": \"3\", \"Fit epitope class\": \"2\", \"Correlation (R^2)\": -0.05434111020389982}, {\"Epitope seeding\": \"4epitopes_seed417_484_444_386\", \"True epitope class\": \"3\", \"Fit epitope class\": \"3\", \"Correlation (R^2)\": 0.9500105822791018}, {\"Epitope seeding\": \"4epitopes_seed417_484_444_386\", \"True epitope class\": \"3\", \"Fit epitope class\": \"4\", \"Correlation (R^2)\": 0.0026372695197453503}, {\"Epitope seeding\": \"4epitopes_seed417_484_444_460\", \"True epitope class\": \"1\", \"Fit epitope class\": \"1\", \"Correlation (R^2)\": 0.8638006009347277}, {\"Epitope seeding\": \"4epitopes_seed417_484_444_460\", \"True epitope class\": \"1\", \"Fit epitope class\": \"2\", \"Correlation (R^2)\": 0.06897346743779921}, {\"Epitope seeding\": \"4epitopes_seed417_484_444_460\", \"True epitope class\": \"1\", \"Fit epitope class\": \"3\", \"Correlation (R^2)\": -0.08578062647569558}, {\"Epitope seeding\": \"4epitopes_seed417_484_444_460\", \"True epitope class\": \"1\", \"Fit epitope class\": \"4\", \"Correlation (R^2)\": 0.009259400253739048}, {\"Epitope seeding\": \"4epitopes_seed417_484_444_460\", \"True epitope class\": \"2\", \"Fit epitope class\": \"1\", \"Correlation (R^2)\": 0.22213699080243635}, {\"Epitope seeding\": \"4epitopes_seed417_484_444_460\", \"True epitope class\": \"2\", \"Fit epitope class\": \"2\", \"Correlation (R^2)\": 0.9677090263048987}, {\"Epitope seeding\": \"4epitopes_seed417_484_444_460\", \"True epitope class\": \"2\", \"Fit epitope class\": \"3\", \"Correlation (R^2)\": -0.060954326316721555}, {\"Epitope seeding\": \"4epitopes_seed417_484_444_460\", \"True epitope class\": \"2\", \"Fit epitope class\": \"4\", \"Correlation (R^2)\": 0.08706367418538999}, {\"Epitope seeding\": \"4epitopes_seed417_484_444_460\", \"True epitope class\": \"3\", \"Fit epitope class\": \"1\", \"Correlation (R^2)\": -0.07000633226268523}, {\"Epitope seeding\": \"4epitopes_seed417_484_444_460\", \"True epitope class\": \"3\", \"Fit epitope class\": \"2\", \"Correlation (R^2)\": -0.0544040741864743}, {\"Epitope seeding\": \"4epitopes_seed417_484_444_460\", \"True epitope class\": \"3\", \"Fit epitope class\": \"3\", \"Correlation (R^2)\": 0.9498387084965825}, {\"Epitope seeding\": \"4epitopes_seed417_484_444_460\", \"True epitope class\": \"3\", \"Fit epitope class\": \"4\", \"Correlation (R^2)\": -0.004466360538936516}]}}, {\"mode\": \"vega-lite\"});\n",
       "</script>"
      ],
      "text/plain": [
       "alt.FacetChart(...)"
      ]
     },
     "execution_count": 16,
     "metadata": {},
     "output_type": "execute_result"
    }
   ],
   "source": [
    "alt.Chart(plot_data).mark_rect(opacity=0.95, stroke=\"black\",).encode(\n",
    "    x=\"Fit epitope class:O\",\n",
    "    y=\"True epitope class:O\",\n",
    "    color=alt.Color(\"Correlation (R^2):Q\", scale=alt.Scale(scheme=\"viridis\")),\n",
    "    tooltip=[\n",
    "        \"Fit epitope class:O\",\n",
    "        \"True epitope class:O\",\n",
    "        alt.Tooltip(\"Correlation (R^2)\", format=\".3f\"),\n",
    "    ],\n",
    ").properties(width=130, height=100,).facet(\n",
    "    \"Epitope seeding\",\n",
    "    columns=2,\n",
    ")"
   ]
  },
  {
   "cell_type": "markdown",
   "metadata": {},
   "source": [
    "We can also visualize the wildtype activity values, $a_{wt,e}$."
   ]
  },
  {
   "cell_type": "code",
   "execution_count": 17,
   "metadata": {},
   "outputs": [
    {
     "name": "stdout",
     "output_type": "stream",
     "text": [
      "Epitope seeding: 2epitopes_seed484_444\n"
     ]
    },
    {
     "data": {
      "text/html": [
       "\n",
       "<div id=\"altair-viz-1096cde15bed458bb2dab6f91d8e7162\"></div>\n",
       "<script type=\"text/javascript\">\n",
       "  var VEGA_DEBUG = (typeof VEGA_DEBUG == \"undefined\") ? {} : VEGA_DEBUG;\n",
       "  (function(spec, embedOpt){\n",
       "    let outputDiv = document.currentScript.previousElementSibling;\n",
       "    if (outputDiv.id !== \"altair-viz-1096cde15bed458bb2dab6f91d8e7162\") {\n",
       "      outputDiv = document.getElementById(\"altair-viz-1096cde15bed458bb2dab6f91d8e7162\");\n",
       "    }\n",
       "    const paths = {\n",
       "      \"vega\": \"https://cdn.jsdelivr.net/npm//vega@5?noext\",\n",
       "      \"vega-lib\": \"https://cdn.jsdelivr.net/npm//vega-lib?noext\",\n",
       "      \"vega-lite\": \"https://cdn.jsdelivr.net/npm//vega-lite@5.2.0?noext\",\n",
       "      \"vega-embed\": \"https://cdn.jsdelivr.net/npm//vega-embed@6?noext\",\n",
       "    };\n",
       "\n",
       "    function maybeLoadScript(lib, version) {\n",
       "      var key = `${lib.replace(\"-\", \"\")}_version`;\n",
       "      return (VEGA_DEBUG[key] == version) ?\n",
       "        Promise.resolve(paths[lib]) :\n",
       "        new Promise(function(resolve, reject) {\n",
       "          var s = document.createElement('script');\n",
       "          document.getElementsByTagName(\"head\")[0].appendChild(s);\n",
       "          s.async = true;\n",
       "          s.onload = () => {\n",
       "            VEGA_DEBUG[key] = version;\n",
       "            return resolve(paths[lib]);\n",
       "          };\n",
       "          s.onerror = () => reject(`Error loading script: ${paths[lib]}`);\n",
       "          s.src = paths[lib];\n",
       "        });\n",
       "    }\n",
       "\n",
       "    function showError(err) {\n",
       "      outputDiv.innerHTML = `<div class=\"error\" style=\"color:red;\">${err}</div>`;\n",
       "      throw err;\n",
       "    }\n",
       "\n",
       "    function displayChart(vegaEmbed) {\n",
       "      vegaEmbed(outputDiv, spec, embedOpt)\n",
       "        .catch(err => showError(`Javascript Error: ${err.message}<br>This usually means there's a typo in your chart specification. See the javascript console for the full traceback.`));\n",
       "    }\n",
       "\n",
       "    if(typeof define === \"function\" && define.amd) {\n",
       "      requirejs.config({paths});\n",
       "      require([\"vega-embed\"], displayChart, err => showError(`Error loading script: ${err.message}`));\n",
       "    } else {\n",
       "      maybeLoadScript(\"vega\", \"5\")\n",
       "        .then(() => maybeLoadScript(\"vega-lite\", \"5.2.0\"))\n",
       "        .then(() => maybeLoadScript(\"vega-embed\", \"6\"))\n",
       "        .catch(showError)\n",
       "        .then(() => displayChart(vegaEmbed));\n",
       "    }\n",
       "  })({\"config\": {\"view\": {\"continuousWidth\": 400, \"continuousHeight\": 300}, \"axis\": {\"grid\": false}}, \"data\": {\"name\": \"data-81cc882d590f4debf26c4829ba4a4176\"}, \"mark\": {\"type\": \"bar\", \"size\": 18.75}, \"encoding\": {\"color\": {\"field\": \"epitope\", \"legend\": null, \"scale\": {\"domain\": [\"1\", \"2\"], \"range\": [\"#1f77b4\", \"#ff7f0e\"]}, \"type\": \"nominal\"}, \"tooltip\": [{\"field\": \"epitope\", \"type\": \"nominal\"}, {\"field\": \"activity\", \"format\": \".3g\", \"type\": \"quantitative\"}], \"x\": {\"field\": \"activity\", \"type\": \"quantitative\"}, \"y\": {\"field\": \"epitope\", \"type\": \"nominal\"}}, \"height\": {\"step\": 25}, \"width\": 110, \"$schema\": \"https://vega.github.io/schema/vega-lite/v5.2.0.json\", \"datasets\": {\"data-81cc882d590f4debf26c4829ba4a4176\": [{\"epitope\": \"1\", \"activity\": 3.3814835594699857}, {\"epitope\": \"2\", \"activity\": 2.3661107870735436}]}}, {\"mode\": \"vega-lite\"});\n",
       "</script>"
      ],
      "text/plain": [
       "alt.Chart(...)"
      ]
     },
     "metadata": {},
     "output_type": "display_data"
    },
    {
     "name": "stdout",
     "output_type": "stream",
     "text": [
      "Epitope seeding: 3epitopes_seed417_484_444\n"
     ]
    },
    {
     "data": {
      "text/html": [
       "\n",
       "<div id=\"altair-viz-e11c4906184c426397128ebbfdf9010f\"></div>\n",
       "<script type=\"text/javascript\">\n",
       "  var VEGA_DEBUG = (typeof VEGA_DEBUG == \"undefined\") ? {} : VEGA_DEBUG;\n",
       "  (function(spec, embedOpt){\n",
       "    let outputDiv = document.currentScript.previousElementSibling;\n",
       "    if (outputDiv.id !== \"altair-viz-e11c4906184c426397128ebbfdf9010f\") {\n",
       "      outputDiv = document.getElementById(\"altair-viz-e11c4906184c426397128ebbfdf9010f\");\n",
       "    }\n",
       "    const paths = {\n",
       "      \"vega\": \"https://cdn.jsdelivr.net/npm//vega@5?noext\",\n",
       "      \"vega-lib\": \"https://cdn.jsdelivr.net/npm//vega-lib?noext\",\n",
       "      \"vega-lite\": \"https://cdn.jsdelivr.net/npm//vega-lite@5.2.0?noext\",\n",
       "      \"vega-embed\": \"https://cdn.jsdelivr.net/npm//vega-embed@6?noext\",\n",
       "    };\n",
       "\n",
       "    function maybeLoadScript(lib, version) {\n",
       "      var key = `${lib.replace(\"-\", \"\")}_version`;\n",
       "      return (VEGA_DEBUG[key] == version) ?\n",
       "        Promise.resolve(paths[lib]) :\n",
       "        new Promise(function(resolve, reject) {\n",
       "          var s = document.createElement('script');\n",
       "          document.getElementsByTagName(\"head\")[0].appendChild(s);\n",
       "          s.async = true;\n",
       "          s.onload = () => {\n",
       "            VEGA_DEBUG[key] = version;\n",
       "            return resolve(paths[lib]);\n",
       "          };\n",
       "          s.onerror = () => reject(`Error loading script: ${paths[lib]}`);\n",
       "          s.src = paths[lib];\n",
       "        });\n",
       "    }\n",
       "\n",
       "    function showError(err) {\n",
       "      outputDiv.innerHTML = `<div class=\"error\" style=\"color:red;\">${err}</div>`;\n",
       "      throw err;\n",
       "    }\n",
       "\n",
       "    function displayChart(vegaEmbed) {\n",
       "      vegaEmbed(outputDiv, spec, embedOpt)\n",
       "        .catch(err => showError(`Javascript Error: ${err.message}<br>This usually means there's a typo in your chart specification. See the javascript console for the full traceback.`));\n",
       "    }\n",
       "\n",
       "    if(typeof define === \"function\" && define.amd) {\n",
       "      requirejs.config({paths});\n",
       "      require([\"vega-embed\"], displayChart, err => showError(`Error loading script: ${err.message}`));\n",
       "    } else {\n",
       "      maybeLoadScript(\"vega\", \"5\")\n",
       "        .then(() => maybeLoadScript(\"vega-lite\", \"5.2.0\"))\n",
       "        .then(() => maybeLoadScript(\"vega-embed\", \"6\"))\n",
       "        .catch(showError)\n",
       "        .then(() => displayChart(vegaEmbed));\n",
       "    }\n",
       "  })({\"config\": {\"view\": {\"continuousWidth\": 400, \"continuousHeight\": 300}, \"axis\": {\"grid\": false}}, \"data\": {\"name\": \"data-f2772854c69a78c90957052bef818548\"}, \"mark\": {\"type\": \"bar\", \"size\": 18.75}, \"encoding\": {\"color\": {\"field\": \"epitope\", \"legend\": null, \"scale\": {\"domain\": [\"1\", \"2\", \"3\"], \"range\": [\"#1f77b4\", \"#ff7f0e\", \"#2ca02c\"]}, \"type\": \"nominal\"}, \"tooltip\": [{\"field\": \"epitope\", \"type\": \"nominal\"}, {\"field\": \"activity\", \"format\": \".3g\", \"type\": \"quantitative\"}], \"x\": {\"field\": \"activity\", \"type\": \"quantitative\"}, \"y\": {\"field\": \"epitope\", \"type\": \"nominal\"}}, \"height\": {\"step\": 25}, \"width\": 110, \"$schema\": \"https://vega.github.io/schema/vega-lite/v5.2.0.json\", \"datasets\": {\"data-f2772854c69a78c90957052bef818548\": [{\"epitope\": \"1\", \"activity\": 1.1232075797523735}, {\"epitope\": \"2\", \"activity\": 3.171981470584048}, {\"epitope\": \"3\", \"activity\": 2.052971573717086}]}}, {\"mode\": \"vega-lite\"});\n",
       "</script>"
      ],
      "text/plain": [
       "alt.Chart(...)"
      ]
     },
     "metadata": {},
     "output_type": "display_data"
    },
    {
     "name": "stdout",
     "output_type": "stream",
     "text": [
      "Epitope seeding: 4epitopes_seed417_484_444_386\n"
     ]
    },
    {
     "data": {
      "text/html": [
       "\n",
       "<div id=\"altair-viz-5741ba9480be4d3e9ea835666b1ad7b2\"></div>\n",
       "<script type=\"text/javascript\">\n",
       "  var VEGA_DEBUG = (typeof VEGA_DEBUG == \"undefined\") ? {} : VEGA_DEBUG;\n",
       "  (function(spec, embedOpt){\n",
       "    let outputDiv = document.currentScript.previousElementSibling;\n",
       "    if (outputDiv.id !== \"altair-viz-5741ba9480be4d3e9ea835666b1ad7b2\") {\n",
       "      outputDiv = document.getElementById(\"altair-viz-5741ba9480be4d3e9ea835666b1ad7b2\");\n",
       "    }\n",
       "    const paths = {\n",
       "      \"vega\": \"https://cdn.jsdelivr.net/npm//vega@5?noext\",\n",
       "      \"vega-lib\": \"https://cdn.jsdelivr.net/npm//vega-lib?noext\",\n",
       "      \"vega-lite\": \"https://cdn.jsdelivr.net/npm//vega-lite@5.2.0?noext\",\n",
       "      \"vega-embed\": \"https://cdn.jsdelivr.net/npm//vega-embed@6?noext\",\n",
       "    };\n",
       "\n",
       "    function maybeLoadScript(lib, version) {\n",
       "      var key = `${lib.replace(\"-\", \"\")}_version`;\n",
       "      return (VEGA_DEBUG[key] == version) ?\n",
       "        Promise.resolve(paths[lib]) :\n",
       "        new Promise(function(resolve, reject) {\n",
       "          var s = document.createElement('script');\n",
       "          document.getElementsByTagName(\"head\")[0].appendChild(s);\n",
       "          s.async = true;\n",
       "          s.onload = () => {\n",
       "            VEGA_DEBUG[key] = version;\n",
       "            return resolve(paths[lib]);\n",
       "          };\n",
       "          s.onerror = () => reject(`Error loading script: ${paths[lib]}`);\n",
       "          s.src = paths[lib];\n",
       "        });\n",
       "    }\n",
       "\n",
       "    function showError(err) {\n",
       "      outputDiv.innerHTML = `<div class=\"error\" style=\"color:red;\">${err}</div>`;\n",
       "      throw err;\n",
       "    }\n",
       "\n",
       "    function displayChart(vegaEmbed) {\n",
       "      vegaEmbed(outputDiv, spec, embedOpt)\n",
       "        .catch(err => showError(`Javascript Error: ${err.message}<br>This usually means there's a typo in your chart specification. See the javascript console for the full traceback.`));\n",
       "    }\n",
       "\n",
       "    if(typeof define === \"function\" && define.amd) {\n",
       "      requirejs.config({paths});\n",
       "      require([\"vega-embed\"], displayChart, err => showError(`Error loading script: ${err.message}`));\n",
       "    } else {\n",
       "      maybeLoadScript(\"vega\", \"5\")\n",
       "        .then(() => maybeLoadScript(\"vega-lite\", \"5.2.0\"))\n",
       "        .then(() => maybeLoadScript(\"vega-embed\", \"6\"))\n",
       "        .catch(showError)\n",
       "        .then(() => displayChart(vegaEmbed));\n",
       "    }\n",
       "  })({\"config\": {\"view\": {\"continuousWidth\": 400, \"continuousHeight\": 300}, \"axis\": {\"grid\": false}}, \"data\": {\"name\": \"data-fe6c80dad0cb82d737d906cabab2be88\"}, \"mark\": {\"type\": \"bar\", \"size\": 18.75}, \"encoding\": {\"color\": {\"field\": \"epitope\", \"legend\": null, \"scale\": {\"domain\": [\"1\", \"2\", \"3\", \"4\"], \"range\": [\"#1f77b4\", \"#ff7f0e\", \"#2ca02c\", \"#d62728\"]}, \"type\": \"nominal\"}, \"tooltip\": [{\"field\": \"epitope\", \"type\": \"nominal\"}, {\"field\": \"activity\", \"format\": \".3g\", \"type\": \"quantitative\"}], \"x\": {\"field\": \"activity\", \"type\": \"quantitative\"}, \"y\": {\"field\": \"epitope\", \"type\": \"nominal\"}}, \"height\": {\"step\": 25}, \"width\": 110, \"$schema\": \"https://vega.github.io/schema/vega-lite/v5.2.0.json\", \"datasets\": {\"data-fe6c80dad0cb82d737d906cabab2be88\": [{\"epitope\": \"1\", \"activity\": 1.1168825182488178}, {\"epitope\": \"2\", \"activity\": 3.2088051313438912}, {\"epitope\": \"3\", \"activity\": 2.049746549034218}, {\"epitope\": \"4\", \"activity\": -6.232274648819116}]}}, {\"mode\": \"vega-lite\"});\n",
       "</script>"
      ],
      "text/plain": [
       "alt.Chart(...)"
      ]
     },
     "metadata": {},
     "output_type": "display_data"
    },
    {
     "name": "stdout",
     "output_type": "stream",
     "text": [
      "Epitope seeding: 4epitopes_seed417_484_444_460\n"
     ]
    },
    {
     "data": {
      "text/html": [
       "\n",
       "<div id=\"altair-viz-c1f8d127220b4fe4bc05ecfdc038cb1f\"></div>\n",
       "<script type=\"text/javascript\">\n",
       "  var VEGA_DEBUG = (typeof VEGA_DEBUG == \"undefined\") ? {} : VEGA_DEBUG;\n",
       "  (function(spec, embedOpt){\n",
       "    let outputDiv = document.currentScript.previousElementSibling;\n",
       "    if (outputDiv.id !== \"altair-viz-c1f8d127220b4fe4bc05ecfdc038cb1f\") {\n",
       "      outputDiv = document.getElementById(\"altair-viz-c1f8d127220b4fe4bc05ecfdc038cb1f\");\n",
       "    }\n",
       "    const paths = {\n",
       "      \"vega\": \"https://cdn.jsdelivr.net/npm//vega@5?noext\",\n",
       "      \"vega-lib\": \"https://cdn.jsdelivr.net/npm//vega-lib?noext\",\n",
       "      \"vega-lite\": \"https://cdn.jsdelivr.net/npm//vega-lite@5.2.0?noext\",\n",
       "      \"vega-embed\": \"https://cdn.jsdelivr.net/npm//vega-embed@6?noext\",\n",
       "    };\n",
       "\n",
       "    function maybeLoadScript(lib, version) {\n",
       "      var key = `${lib.replace(\"-\", \"\")}_version`;\n",
       "      return (VEGA_DEBUG[key] == version) ?\n",
       "        Promise.resolve(paths[lib]) :\n",
       "        new Promise(function(resolve, reject) {\n",
       "          var s = document.createElement('script');\n",
       "          document.getElementsByTagName(\"head\")[0].appendChild(s);\n",
       "          s.async = true;\n",
       "          s.onload = () => {\n",
       "            VEGA_DEBUG[key] = version;\n",
       "            return resolve(paths[lib]);\n",
       "          };\n",
       "          s.onerror = () => reject(`Error loading script: ${paths[lib]}`);\n",
       "          s.src = paths[lib];\n",
       "        });\n",
       "    }\n",
       "\n",
       "    function showError(err) {\n",
       "      outputDiv.innerHTML = `<div class=\"error\" style=\"color:red;\">${err}</div>`;\n",
       "      throw err;\n",
       "    }\n",
       "\n",
       "    function displayChart(vegaEmbed) {\n",
       "      vegaEmbed(outputDiv, spec, embedOpt)\n",
       "        .catch(err => showError(`Javascript Error: ${err.message}<br>This usually means there's a typo in your chart specification. See the javascript console for the full traceback.`));\n",
       "    }\n",
       "\n",
       "    if(typeof define === \"function\" && define.amd) {\n",
       "      requirejs.config({paths});\n",
       "      require([\"vega-embed\"], displayChart, err => showError(`Error loading script: ${err.message}`));\n",
       "    } else {\n",
       "      maybeLoadScript(\"vega\", \"5\")\n",
       "        .then(() => maybeLoadScript(\"vega-lite\", \"5.2.0\"))\n",
       "        .then(() => maybeLoadScript(\"vega-embed\", \"6\"))\n",
       "        .catch(showError)\n",
       "        .then(() => displayChart(vegaEmbed));\n",
       "    }\n",
       "  })({\"config\": {\"view\": {\"continuousWidth\": 400, \"continuousHeight\": 300}, \"axis\": {\"grid\": false}}, \"data\": {\"name\": \"data-3715d2001edc50e31b2bf9f4716b99c1\"}, \"mark\": {\"type\": \"bar\", \"size\": 18.75}, \"encoding\": {\"color\": {\"field\": \"epitope\", \"legend\": null, \"scale\": {\"domain\": [\"1\", \"2\", \"3\", \"4\"], \"range\": [\"#1f77b4\", \"#ff7f0e\", \"#2ca02c\", \"#d62728\"]}, \"type\": \"nominal\"}, \"tooltip\": [{\"field\": \"epitope\", \"type\": \"nominal\"}, {\"field\": \"activity\", \"format\": \".3g\", \"type\": \"quantitative\"}], \"x\": {\"field\": \"activity\", \"type\": \"quantitative\"}, \"y\": {\"field\": \"epitope\", \"type\": \"nominal\"}}, \"height\": {\"step\": 25}, \"width\": 110, \"$schema\": \"https://vega.github.io/schema/vega-lite/v5.2.0.json\", \"datasets\": {\"data-3715d2001edc50e31b2bf9f4716b99c1\": [{\"epitope\": \"1\", \"activity\": 1.1150373394112665}, {\"epitope\": \"2\", \"activity\": 3.2104639637154166}, {\"epitope\": \"3\", \"activity\": 2.0523391446877737}, {\"epitope\": \"4\", \"activity\": -6.152853765297798}]}}, {\"mode\": \"vega-lite\"});\n",
       "</script>"
      ],
      "text/plain": [
       "alt.Chart(...)"
      ]
     },
     "metadata": {},
     "output_type": "display_data"
    }
   ],
   "source": [
    "for st in [\n",
    "    \"2epitopes_seed484_444\",\n",
    "    \"3epitopes_seed417_484_444\",\n",
    "    \"4epitopes_seed417_484_444_386\",\n",
    "    \"4epitopes_seed417_484_444_460\",\n",
    "]:\n",
    "    model = fit_mut_escape[f\"noisy_[0.25, 1, 4]conc_3muts_{st}\"]\n",
    "    print(f\"Epitope seeding: {st}\")\n",
    "    display(model.activity_wt_barplot())"
   ]
  },
  {
   "cell_type": "markdown",
   "metadata": {},
   "source": [
    "These results look similar to the ones obtained without seeding sites above. But importantly, we can see that the models are not negatively impacted by seeding sites that are not within a targeted epitope or within the same epitope as an already seeded  site. Although not seen on this simulated dataset, keep in mind that seeding sites could be helpful and lead to better results if the library mutation rate is low."
   ]
  },
  {
   "cell_type": "markdown",
   "metadata": {},
   "source": [
    "Additionally, we can look at the correlation between “true” and predicted IC90’s for each of these fit models."
   ]
  },
  {
   "cell_type": "code",
   "execution_count": 35,
   "metadata": {},
   "outputs": [],
   "source": [
    "ic90_corrs = pd.DataFrame()\n",
    "ic90_data = pd.DataFrame()\n",
    "\n",
    "max_ic90 = 50\n",
    "for st in [\n",
    "    \"2epitopes_seed484_444\",\n",
    "    \"3epitopes_seed417_484_444\",\n",
    "    \"4epitopes_seed417_484_444_386\",\n",
    "    \"4epitopes_seed417_484_444_460\",\n",
    "]:\n",
    "    model = fit_mut_escape[f\"noisy_[0.25, 1, 4]conc_3muts_{st}\"]\n",
    "\n",
    "    ic90s = (\n",
    "        exact_data[[\"aa_substitutions\", \"IC90\"]]\n",
    "        .assign(IC90=lambda x: x[\"IC90\"].clip(upper=max_ic90))\n",
    "        .drop_duplicates()\n",
    "    )\n",
    "    ic90s = model.filter_variants_by_seen_muts(ic90s)\n",
    "    ic90s = model.icXX(ic90s, x=0.9, col=\"predicted_IC90\", max_c=max_ic90)\n",
    "\n",
    "    ic90s = ic90s.assign(\n",
    "        log_IC90=lambda x: np.log10(x[\"IC90\"]),\n",
    "        predicted_log_IC90=lambda x: np.log10(x[\"predicted_IC90\"]),\n",
    "    )\n",
    "\n",
    "    corr = ic90s[\"log_IC90\"].corr(ic90s[\"predicted_log_IC90\"]) ** 2\n",
    "\n",
    "    ic90_corrs = pd.concat(\n",
    "        [\n",
    "            ic90_corrs,\n",
    "            pd.DataFrame(\n",
    "                {\n",
    "                    \"epitope_seeding\": [st],\n",
    "                    \"Correlation (R^2)\": \"{:.3f}\".format(corr),\n",
    "                }\n",
    "            ),\n",
    "        ]\n",
    "    ).reset_index(drop=True)\n",
    "\n",
    "    ic90_data = pd.concat(\n",
    "        [\n",
    "            ic90_data,\n",
    "            (\n",
    "                ic90s[[\"log_IC90\", \"predicted_log_IC90\"]].assign(\n",
    "                    **{\"epitope_seeding\": st}\n",
    "                )\n",
    "            ),\n",
    "        ]\n",
    "    ).reset_index(drop=True)"
   ]
  },
  {
   "cell_type": "code",
   "execution_count": 36,
   "metadata": {},
   "outputs": [
    {
     "data": {
      "text/html": [
       "<div>\n",
       "<style scoped>\n",
       "    .dataframe tbody tr th:only-of-type {\n",
       "        vertical-align: middle;\n",
       "    }\n",
       "\n",
       "    .dataframe tbody tr th {\n",
       "        vertical-align: top;\n",
       "    }\n",
       "\n",
       "    .dataframe thead th {\n",
       "        text-align: right;\n",
       "    }\n",
       "</style>\n",
       "<table border=\"1\" class=\"dataframe\">\n",
       "  <thead>\n",
       "    <tr style=\"text-align: right;\">\n",
       "      <th></th>\n",
       "      <th>epitope_seeding</th>\n",
       "      <th>Correlation (R^2)</th>\n",
       "    </tr>\n",
       "  </thead>\n",
       "  <tbody>\n",
       "    <tr>\n",
       "      <th>0</th>\n",
       "      <td>2epitopes_seed484_444</td>\n",
       "      <td>0.967</td>\n",
       "    </tr>\n",
       "    <tr>\n",
       "      <th>1</th>\n",
       "      <td>3epitopes_seed417_484_444</td>\n",
       "      <td>0.993</td>\n",
       "    </tr>\n",
       "    <tr>\n",
       "      <th>2</th>\n",
       "      <td>4epitopes_seed417_484_444_386</td>\n",
       "      <td>0.992</td>\n",
       "    </tr>\n",
       "    <tr>\n",
       "      <th>3</th>\n",
       "      <td>4epitopes_seed417_484_444_460</td>\n",
       "      <td>0.991</td>\n",
       "    </tr>\n",
       "  </tbody>\n",
       "</table>\n",
       "</div>"
      ],
      "text/plain": [
       "                 epitope_seeding Correlation (R^2)\n",
       "0          2epitopes_seed484_444             0.967\n",
       "1      3epitopes_seed417_484_444             0.993\n",
       "2  4epitopes_seed417_484_444_386             0.992\n",
       "3  4epitopes_seed417_484_444_460             0.991"
      ]
     },
     "execution_count": 36,
     "metadata": {},
     "output_type": "execute_result"
    }
   ],
   "source": [
    "ic90_corrs"
   ]
  },
  {
   "cell_type": "code",
   "execution_count": 39,
   "metadata": {},
   "outputs": [
    {
     "data": {
      "image/png": "[encoded data removed]",
      "text/plain": [
       "<Figure size 600x550 with 4 Axes>"
      ]
     },
     "metadata": {},
     "output_type": "display_data"
    },
    {
     "data": {
      "text/plain": [
       "<ggplot: (8781510051702)>"
      ]
     },
     "execution_count": 39,
     "metadata": {},
     "output_type": "execute_result"
    }
   ],
   "source": [
    "(\n",
    "    ggplot(ic90_data, aes(x=\"predicted_log_IC90\", y=\"log_IC90\"))\n",
    "    + geom_point(alpha=0.05, size=1)\n",
    "    + facet_wrap(\"epitope_seeding\", ncol=2)\n",
    "    + theme_classic()\n",
    "    + theme(figure_size=(6, 5.5))\n",
    ")"
   ]
  },
  {
   "cell_type": "markdown",
   "metadata": {},
   "source": [
    "## Summary\n",
    "\n",
    "These simulation experiments provide a general guideline for specifying epitopes. When fitting `Polyclonal` models, one can start with 2 epitopes and iteratively fit models with increasing number of epitopes. At some point, the newly seeded $N$-th epitope will become redundant, as evidenced by a strongly negative wildtype activity value, $a_{wt,e}$. This is indication to the user that the previous fit model, containing $N - 1$ epitopes, is the one that best captures the data and polyclonal mix."
   ]
  }
 ],
 "metadata": {
  "kernelspec": {
   "display_name": "Python 3 (ipykernel)",
   "language": "python",
   "name": "python3"
  },
  "language_info": {
   "codemirror_mode": {
    "name": "ipython",
    "version": 3
   },
   "file_extension": ".py",
   "mimetype": "text/x-python",
   "name": "python",
   "nbconvert_exporter": "python",
   "pygments_lexer": "ipython3",
   "version": "3.8.12"
  }
 },
 "nbformat": 4,
 "nbformat_minor": 4
}
