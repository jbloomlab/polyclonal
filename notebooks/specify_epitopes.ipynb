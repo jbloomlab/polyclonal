{
 "cells": [
  {
   "cell_type": "markdown",
   "metadata": {},
   "source": [
    "# Specifying epitopes"
   ]
  },
  {
   "cell_type": "markdown",
   "metadata": {},
   "source": [
    "Polyclonal sera contains antibodies that can target multiple distinct epitopes on a viral protein, but we do not know the exact composition of this sera and which epitopes are targeted. At minimum, `Polyclonal` requires a user to specify the number of epitopes prior to fitting. Alternatively, a user may opt to seed initial guesses for the mutation-escape values of key epitope sites.\n",
    "\n",
    "Here, we’ll use simulated data to show how the number of epitopes and seeding of key sites can affect the performance of `Polyclonal` models. We'll also use this to provide guidance on how to systematically determine the optimal number of epitopes. "
   ]
  },
  {
   "cell_type": "code",
   "execution_count": 1,
   "metadata": {
    "execution": {
     "iopub.execute_input": "2022-11-13T16:44:02.709315Z",
     "iopub.status.busy": "2022-11-13T16:44:02.708981Z",
     "iopub.status.idle": "2022-11-13T16:44:12.249582Z",
     "shell.execute_reply": "2022-11-13T16:44:12.248508Z",
     "shell.execute_reply.started": "2022-11-13T16:44:02.709228Z"
    }
   },
   "outputs": [],
   "source": [
    "import itertools\n",
    "import os\n",
    "import pickle\n",
    "\n",
    "import altair as alt\n",
    "import numpy as np\n",
    "import pandas as pd\n",
    "import polyclonal\n",
    "\n",
    "from plotnine import *"
   ]
  },
  {
   "cell_type": "markdown",
   "metadata": {},
   "source": [
    "First, we read in a simulated “noisy” dataset containing variants measured at three different sera concentrations. The variants in this library were simulated to contain a Poisson-distributed number of mutations, with an average of three mutations per gene."
   ]
  },
  {
   "cell_type": "code",
   "execution_count": 2,
   "metadata": {
    "execution": {
     "iopub.execute_input": "2022-11-13T16:44:12.253770Z",
     "iopub.status.busy": "2022-11-13T16:44:12.253529Z",
     "iopub.status.idle": "2022-11-13T16:44:13.213028Z",
     "shell.execute_reply": "2022-11-13T16:44:13.212340Z",
     "shell.execute_reply.started": "2022-11-13T16:44:12.253720Z"
    }
   },
   "outputs": [
    {
     "data": {
      "text/html": [
       "<div>\n",
       "<style scoped>\n",
       "    .dataframe tbody tr th:only-of-type {\n",
       "        vertical-align: middle;\n",
       "    }\n",
       "\n",
       "    .dataframe tbody tr th {\n",
       "        vertical-align: top;\n",
       "    }\n",
       "\n",
       "    .dataframe thead th {\n",
       "        text-align: right;\n",
       "    }\n",
       "</style>\n",
       "<table border=\"1\" class=\"dataframe\">\n",
       "  <thead>\n",
       "    <tr style=\"text-align: right;\">\n",
       "      <th></th>\n",
       "      <th>library</th>\n",
       "      <th>barcode</th>\n",
       "      <th>concentration</th>\n",
       "      <th>prob_escape</th>\n",
       "      <th>aa_substitutions</th>\n",
       "      <th>IC90</th>\n",
       "    </tr>\n",
       "  </thead>\n",
       "  <tbody>\n",
       "    <tr>\n",
       "      <th>0</th>\n",
       "      <td>avg3muts</td>\n",
       "      <td>AAAACTGCTGAGGAGA</td>\n",
       "      <td>0.25</td>\n",
       "      <td>0.054700</td>\n",
       "      <td></td>\n",
       "      <td>0.08212</td>\n",
       "    </tr>\n",
       "    <tr>\n",
       "      <th>1</th>\n",
       "      <td>avg3muts</td>\n",
       "      <td>AAAAGCAGGCTACTCT</td>\n",
       "      <td>0.25</td>\n",
       "      <td>0.000000</td>\n",
       "      <td></td>\n",
       "      <td>0.08212</td>\n",
       "    </tr>\n",
       "    <tr>\n",
       "      <th>2</th>\n",
       "      <td>avg3muts</td>\n",
       "      <td>AAAAGCTATAGGTGCC</td>\n",
       "      <td>0.25</td>\n",
       "      <td>0.007613</td>\n",
       "      <td></td>\n",
       "      <td>0.08212</td>\n",
       "    </tr>\n",
       "    <tr>\n",
       "      <th>3</th>\n",
       "      <td>avg3muts</td>\n",
       "      <td>AAAAGGTATTAGTGGC</td>\n",
       "      <td>0.25</td>\n",
       "      <td>0.001363</td>\n",
       "      <td></td>\n",
       "      <td>0.08212</td>\n",
       "    </tr>\n",
       "    <tr>\n",
       "      <th>4</th>\n",
       "      <td>avg3muts</td>\n",
       "      <td>AAAAGTGCCTTCGTTA</td>\n",
       "      <td>0.25</td>\n",
       "      <td>0.000000</td>\n",
       "      <td></td>\n",
       "      <td>0.08212</td>\n",
       "    </tr>\n",
       "    <tr>\n",
       "      <th>...</th>\n",
       "      <td>...</td>\n",
       "      <td>...</td>\n",
       "      <td>...</td>\n",
       "      <td>...</td>\n",
       "      <td>...</td>\n",
       "      <td>...</td>\n",
       "    </tr>\n",
       "    <tr>\n",
       "      <th>119995</th>\n",
       "      <td>avg3muts</td>\n",
       "      <td>GAGCATGATCGACGAA</td>\n",
       "      <td>1.00</td>\n",
       "      <td>0.000000</td>\n",
       "      <td>Y508V H519I</td>\n",
       "      <td>0.10830</td>\n",
       "    </tr>\n",
       "    <tr>\n",
       "      <th>119996</th>\n",
       "      <td>avg3muts</td>\n",
       "      <td>GAGCATGATCGACGAA</td>\n",
       "      <td>4.00</td>\n",
       "      <td>0.000000</td>\n",
       "      <td>Y508V H519I</td>\n",
       "      <td>0.10830</td>\n",
       "    </tr>\n",
       "    <tr>\n",
       "      <th>119997</th>\n",
       "      <td>avg3muts</td>\n",
       "      <td>CTTAAAATAGCTGGTC</td>\n",
       "      <td>0.25</td>\n",
       "      <td>0.000000</td>\n",
       "      <td>Y508W</td>\n",
       "      <td>0.08212</td>\n",
       "    </tr>\n",
       "    <tr>\n",
       "      <th>119998</th>\n",
       "      <td>avg3muts</td>\n",
       "      <td>CTTAAAATAGCTGGTC</td>\n",
       "      <td>1.00</td>\n",
       "      <td>0.012260</td>\n",
       "      <td>Y508W</td>\n",
       "      <td>0.08212</td>\n",
       "    </tr>\n",
       "    <tr>\n",
       "      <th>119999</th>\n",
       "      <td>avg3muts</td>\n",
       "      <td>CTTAAAATAGCTGGTC</td>\n",
       "      <td>4.00</td>\n",
       "      <td>0.000000</td>\n",
       "      <td>Y508W</td>\n",
       "      <td>0.08212</td>\n",
       "    </tr>\n",
       "  </tbody>\n",
       "</table>\n",
       "<p>120000 rows × 6 columns</p>\n",
       "</div>"
      ],
      "text/plain": [
       "         library           barcode  concentration  prob_escape  \\\n",
       "0       avg3muts  AAAACTGCTGAGGAGA           0.25     0.054700   \n",
       "1       avg3muts  AAAAGCAGGCTACTCT           0.25     0.000000   \n",
       "2       avg3muts  AAAAGCTATAGGTGCC           0.25     0.007613   \n",
       "3       avg3muts  AAAAGGTATTAGTGGC           0.25     0.001363   \n",
       "4       avg3muts  AAAAGTGCCTTCGTTA           0.25     0.000000   \n",
       "...          ...               ...            ...          ...   \n",
       "119995  avg3muts  GAGCATGATCGACGAA           1.00     0.000000   \n",
       "119996  avg3muts  GAGCATGATCGACGAA           4.00     0.000000   \n",
       "119997  avg3muts  CTTAAAATAGCTGGTC           0.25     0.000000   \n",
       "119998  avg3muts  CTTAAAATAGCTGGTC           1.00     0.012260   \n",
       "119999  avg3muts  CTTAAAATAGCTGGTC           4.00     0.000000   \n",
       "\n",
       "       aa_substitutions     IC90  \n",
       "0                        0.08212  \n",
       "1                        0.08212  \n",
       "2                        0.08212  \n",
       "3                        0.08212  \n",
       "4                        0.08212  \n",
       "...                 ...      ...  \n",
       "119995      Y508V H519I  0.10830  \n",
       "119996      Y508V H519I  0.10830  \n",
       "119997            Y508W  0.08212  \n",
       "119998            Y508W  0.08212  \n",
       "119999            Y508W  0.08212  \n",
       "\n",
       "[120000 rows x 6 columns]"
      ]
     },
     "execution_count": 2,
     "metadata": {},
     "output_type": "execute_result"
    }
   ],
   "source": [
    "noisy_data = (\n",
    "    pd.read_csv(\"RBD_variants_escape_noisy.csv\", na_filter=None)\n",
    "    .query('library == \"avg3muts\"')\n",
    "    .query(\"concentration in [0.25, 1, 4]\")\n",
    "    .reset_index(drop=True)\n",
    ")\n",
    "noisy_data"
   ]
  },
  {
   "cell_type": "markdown",
   "metadata": {},
   "source": [
    "We'll also read in the \"true\" mutation-escape values, $\\beta_{m,e}$, as a reference for later."
   ]
  },
  {
   "cell_type": "code",
   "execution_count": 3,
   "metadata": {
    "execution": {
     "iopub.execute_input": "2022-11-13T16:44:13.216234Z",
     "iopub.status.busy": "2022-11-13T16:44:13.216063Z",
     "iopub.status.idle": "2022-11-13T16:44:13.244247Z",
     "shell.execute_reply": "2022-11-13T16:44:13.243618Z",
     "shell.execute_reply.started": "2022-11-13T16:44:13.216212Z"
    }
   },
   "outputs": [
    {
     "data": {
      "text/html": [
       "<div>\n",
       "<style scoped>\n",
       "    .dataframe tbody tr th:only-of-type {\n",
       "        vertical-align: middle;\n",
       "    }\n",
       "\n",
       "    .dataframe tbody tr th {\n",
       "        vertical-align: top;\n",
       "    }\n",
       "\n",
       "    .dataframe thead th {\n",
       "        text-align: right;\n",
       "    }\n",
       "</style>\n",
       "<table border=\"1\" class=\"dataframe\">\n",
       "  <thead>\n",
       "    <tr style=\"text-align: right;\">\n",
       "      <th></th>\n",
       "      <th>epitope</th>\n",
       "      <th>mutation</th>\n",
       "      <th>escape</th>\n",
       "    </tr>\n",
       "  </thead>\n",
       "  <tbody>\n",
       "    <tr>\n",
       "      <th>0</th>\n",
       "      <td>1</td>\n",
       "      <td>N331A</td>\n",
       "      <td>0.000</td>\n",
       "    </tr>\n",
       "    <tr>\n",
       "      <th>1</th>\n",
       "      <td>1</td>\n",
       "      <td>N331D</td>\n",
       "      <td>0.000</td>\n",
       "    </tr>\n",
       "    <tr>\n",
       "      <th>2</th>\n",
       "      <td>1</td>\n",
       "      <td>N331E</td>\n",
       "      <td>0.000</td>\n",
       "    </tr>\n",
       "    <tr>\n",
       "      <th>3</th>\n",
       "      <td>1</td>\n",
       "      <td>N331F</td>\n",
       "      <td>0.000</td>\n",
       "    </tr>\n",
       "    <tr>\n",
       "      <th>4</th>\n",
       "      <td>1</td>\n",
       "      <td>N331G</td>\n",
       "      <td>1.701</td>\n",
       "    </tr>\n",
       "    <tr>\n",
       "      <th>...</th>\n",
       "      <td>...</td>\n",
       "      <td>...</td>\n",
       "      <td>...</td>\n",
       "    </tr>\n",
       "    <tr>\n",
       "      <th>5791</th>\n",
       "      <td>3</td>\n",
       "      <td>T531R</td>\n",
       "      <td>0.000</td>\n",
       "    </tr>\n",
       "    <tr>\n",
       "      <th>5792</th>\n",
       "      <td>3</td>\n",
       "      <td>T531S</td>\n",
       "      <td>0.000</td>\n",
       "    </tr>\n",
       "    <tr>\n",
       "      <th>5793</th>\n",
       "      <td>3</td>\n",
       "      <td>T531V</td>\n",
       "      <td>0.000</td>\n",
       "    </tr>\n",
       "    <tr>\n",
       "      <th>5794</th>\n",
       "      <td>3</td>\n",
       "      <td>T531W</td>\n",
       "      <td>0.000</td>\n",
       "    </tr>\n",
       "    <tr>\n",
       "      <th>5795</th>\n",
       "      <td>3</td>\n",
       "      <td>T531Y</td>\n",
       "      <td>0.000</td>\n",
       "    </tr>\n",
       "  </tbody>\n",
       "</table>\n",
       "<p>5796 rows × 3 columns</p>\n",
       "</div>"
      ],
      "text/plain": [
       "     epitope mutation  escape\n",
       "0          1    N331A   0.000\n",
       "1          1    N331D   0.000\n",
       "2          1    N331E   0.000\n",
       "3          1    N331F   0.000\n",
       "4          1    N331G   1.701\n",
       "...      ...      ...     ...\n",
       "5791       3    T531R   0.000\n",
       "5792       3    T531S   0.000\n",
       "5793       3    T531V   0.000\n",
       "5794       3    T531W   0.000\n",
       "5795       3    T531Y   0.000\n",
       "\n",
       "[5796 rows x 3 columns]"
      ]
     },
     "execution_count": 3,
     "metadata": {},
     "output_type": "execute_result"
    }
   ],
   "source": [
    "true_mut_escape_df = pd.read_csv(\"RBD_mut_escape_df.csv\").replace(\n",
    "    \"class \", \"\", regex=True\n",
    ")\n",
    "true_mut_escape_df"
   ]
  },
  {
   "cell_type": "markdown",
   "metadata": {},
   "source": [
    "Additionally, we’ll make a directory for storing our fit models as [pickle](https://docs.python.org/3/library/pickle.html#module-pickle) files, so that we can conveniently load them in the future without having to fit again."
   ]
  },
  {
   "cell_type": "code",
   "execution_count": 4,
   "metadata": {
    "execution": {
     "iopub.execute_input": "2022-11-13T16:44:13.247084Z",
     "iopub.status.busy": "2022-11-13T16:44:13.246950Z",
     "iopub.status.idle": "2022-11-13T16:44:13.250343Z",
     "shell.execute_reply": "2022-11-13T16:44:13.249761Z",
     "shell.execute_reply.started": "2022-11-13T16:44:13.247066Z"
    }
   },
   "outputs": [],
   "source": [
    "os.makedirs(\"fit_polyclonal_models\", exist_ok=True)"
   ]
  },
  {
   "cell_type": "markdown",
   "metadata": {},
   "source": [
    "## Specifying epitopes without prior knowledge"
   ]
  },
  {
   "cell_type": "markdown",
   "metadata": {},
   "source": [
    "First, we'll simulate a case in which we have no prior knowledge about which sites confer antibody escape. Thus, we will only supply guesses for the number of epitopes targeted by the polyclonal sera. We can guess that there are probably at least 2 epitopes targeted by polyclonal sera, so we'll start by specifying 2 epitopes and iteratively fit `Polyclonal` models with increasing number of epitopes.  "
   ]
  },
  {
   "cell_type": "code",
   "execution_count": 5,
   "metadata": {
    "execution": {
     "iopub.execute_input": "2022-11-13T16:44:13.251290Z",
     "iopub.status.busy": "2022-11-13T16:44:13.251138Z",
     "iopub.status.idle": "2022-11-13T16:44:13.518587Z",
     "shell.execute_reply": "2022-11-13T16:44:13.517834Z",
     "shell.execute_reply.started": "2022-11-13T16:44:13.251271Z"
    }
   },
   "outputs": [
    {
     "name": "stdout",
     "output_type": "stream",
     "text": [
      "Model with 2 epitopes specified was already fit.\n",
      "Model with 3 epitopes specified was already fit.\n",
      "Model with 4 epitopes specified was already fit.\n"
     ]
    }
   ],
   "source": [
    "n_epitopes = [2, 3, 4]\n",
    "\n",
    "# store fit models for future lookup\n",
    "fit_mut_escape = {}\n",
    "\n",
    "for e in n_epitopes:\n",
    "    # The key for the fit model\n",
    "    model_string = f\"noisy_[0.25, 1, 4]conc_3muts_{e}epitopes_noinit\"\n",
    "\n",
    "    # If the pickled model exists in the fit_polyclonal_models directory, load it.\n",
    "    if os.path.exists(f\"fit_polyclonal_models/{model_string}.pkl\") is True:\n",
    "        model = pickle.load(open(f\"fit_polyclonal_models/{model_string}.pkl\", \"rb\"))\n",
    "        fit_mut_escape.update({model_string: model})\n",
    "        print(f\"Model with {e} epitopes specified was already fit.\")\n",
    "    else:\n",
    "        # Else, fit a model and save it to the fit_polyclonal_models directory.\n",
    "        model = polyclonal.Polyclonal(\n",
    "            data_to_fit=noisy_data,\n",
    "            n_epitopes=e,\n",
    "        )\n",
    "        opt_res = model.fit(\n",
    "            logfreq=500,\n",
    "            reg_escape_weight=0.01,\n",
    "            reg_uniqueness2_weight=0,\n",
    "        )\n",
    "        fit_mut_escape.update({model_string: model})\n",
    "        pickle.dump(model, open(f\"fit_polyclonal_models/{model_string}.pkl\", \"wb\"))"
   ]
  },
  {
   "cell_type": "markdown",
   "metadata": {},
   "source": [
    "We can correlate the $\\beta_{m,e}$ values for each of the epitopes fit by `Polyclonal` to the $\\beta_{m,e}$ values for each of the three \"true\" epitopes. These $\\beta_{m,e}$ values represent the extent to which mutations mediate escape from specific epitopes."
   ]
  },
  {
   "cell_type": "code",
   "execution_count": 6,
   "metadata": {
    "execution": {
     "iopub.execute_input": "2022-11-13T16:44:13.519772Z",
     "iopub.status.busy": "2022-11-13T16:44:13.519493Z",
     "iopub.status.idle": "2022-11-13T16:44:14.585398Z",
     "shell.execute_reply": "2022-11-13T16:44:14.584194Z",
     "shell.execute_reply.started": "2022-11-13T16:44:13.519751Z"
    }
   },
   "outputs": [],
   "source": [
    "plot_data = pd.DataFrame()\n",
    "for e in n_epitopes:\n",
    "    model = fit_mut_escape[f\"noisy_[0.25, 1, 4]conc_3muts_{e}epitopes_noinit\"]\n",
    "\n",
    "    # get correlation of mutation-escape values between all pairwise combinations of fit vs. true epitopes\n",
    "    for true_e, fit_e in list(\n",
    "        itertools.product(\n",
    "            true_mut_escape_df[\"epitope\"].unique(),\n",
    "            model.mut_escape_df[\"epitope\"].unique(),\n",
    "        )\n",
    "    ):\n",
    "\n",
    "        df = true_mut_escape_df.query(f'epitope == \"{true_e}\"').merge(\n",
    "            (\n",
    "                model.mut_escape_df.rename(\n",
    "                    columns={\n",
    "                        \"escape\": \"predicted escape\",\n",
    "                        \"epitope\": \"predicted epitope\",\n",
    "                    }\n",
    "                ).query(f'`predicted epitope` == \"{fit_e}\"')\n",
    "            ),\n",
    "            on=\"mutation\",\n",
    "            validate=\"one_to_one\",\n",
    "        )\n",
    "\n",
    "        corr = df[\"escape\"].corr(df[\"predicted escape\"] ** 2)\n",
    "\n",
    "        plot_data = pd.concat(\n",
    "            [\n",
    "                plot_data,\n",
    "                pd.DataFrame(\n",
    "                    data={\n",
    "                        \"Number of fit epitopes\": [e],\n",
    "                        \"True epitope class\": [true_e],\n",
    "                        \"Fit epitope class\": [fit_e],\n",
    "                        \"Correlation (R^2)\": [corr],\n",
    "                    }\n",
    "                ),\n",
    "            ]\n",
    "        ).reset_index(drop=True)"
   ]
  },
  {
   "cell_type": "code",
   "execution_count": 7,
   "metadata": {
    "execution": {
     "iopub.execute_input": "2022-11-13T16:44:14.587097Z",
     "iopub.status.busy": "2022-11-13T16:44:14.586938Z",
     "iopub.status.idle": "2022-11-13T16:44:14.649416Z",
     "shell.execute_reply": "2022-11-13T16:44:14.648804Z",
     "shell.execute_reply.started": "2022-11-13T16:44:14.587070Z"
    }
   },
   "outputs": [
    {
     "name": "stderr",
     "output_type": "stream",
     "text": [
      "/fh/fast/bloom_j/software/miniconda3/envs/BloomLab/lib/python3.8/site-packages/altair/utils/core.py:317: FutureWarning: iteritems is deprecated and will be removed in a future version. Use .items instead.\n"
     ]
    },
    {
     "data": {
      "text/html": [
       "\n",
       "<div id=\"altair-viz-a18a18c8ce5a4a02b252efc2cd188bf8\"></div>\n",
       "<script type=\"text/javascript\">\n",
       "  var VEGA_DEBUG = (typeof VEGA_DEBUG == \"undefined\") ? {} : VEGA_DEBUG;\n",
       "  (function(spec, embedOpt){\n",
       "    let outputDiv = document.currentScript.previousElementSibling;\n",
       "    if (outputDiv.id !== \"altair-viz-a18a18c8ce5a4a02b252efc2cd188bf8\") {\n",
       "      outputDiv = document.getElementById(\"altair-viz-a18a18c8ce5a4a02b252efc2cd188bf8\");\n",
       "    }\n",
       "    const paths = {\n",
       "      \"vega\": \"https://cdn.jsdelivr.net/npm//vega@5?noext\",\n",
       "      \"vega-lib\": \"https://cdn.jsdelivr.net/npm//vega-lib?noext\",\n",
       "      \"vega-lite\": \"https://cdn.jsdelivr.net/npm//vega-lite@5.2.0?noext\",\n",
       "      \"vega-embed\": \"https://cdn.jsdelivr.net/npm//vega-embed@6?noext\",\n",
       "    };\n",
       "\n",
       "    function maybeLoadScript(lib, version) {\n",
       "      var key = `${lib.replace(\"-\", \"\")}_version`;\n",
       "      return (VEGA_DEBUG[key] == version) ?\n",
       "        Promise.resolve(paths[lib]) :\n",
       "        new Promise(function(resolve, reject) {\n",
       "          var s = document.createElement('script');\n",
       "          document.getElementsByTagName(\"head\")[0].appendChild(s);\n",
       "          s.async = true;\n",
       "          s.onload = () => {\n",
       "            VEGA_DEBUG[key] = version;\n",
       "            return resolve(paths[lib]);\n",
       "          };\n",
       "          s.onerror = () => reject(`Error loading script: ${paths[lib]}`);\n",
       "          s.src = paths[lib];\n",
       "        });\n",
       "    }\n",
       "\n",
       "    function showError(err) {\n",
       "      outputDiv.innerHTML = `<div class=\"error\" style=\"color:red;\">${err}</div>`;\n",
       "      throw err;\n",
       "    }\n",
       "\n",
       "    function displayChart(vegaEmbed) {\n",
       "      vegaEmbed(outputDiv, spec, embedOpt)\n",
       "        .catch(err => showError(`Javascript Error: ${err.message}<br>This usually means there's a typo in your chart specification. See the javascript console for the full traceback.`));\n",
       "    }\n",
       "\n",
       "    if(typeof define === \"function\" && define.amd) {\n",
       "      requirejs.config({paths});\n",
       "      require([\"vega-embed\"], displayChart, err => showError(`Error loading script: ${err.message}`));\n",
       "    } else {\n",
       "      maybeLoadScript(\"vega\", \"5\")\n",
       "        .then(() => maybeLoadScript(\"vega-lite\", \"5.2.0\"))\n",
       "        .then(() => maybeLoadScript(\"vega-embed\", \"6\"))\n",
       "        .catch(showError)\n",
       "        .then(() => displayChart(vegaEmbed));\n",
       "    }\n",
       "  })({\"config\": {\"view\": {\"continuousWidth\": 400, \"continuousHeight\": 300}}, \"data\": {\"name\": \"data-4a4d86f009e05898a8cc6bcfb030112f\"}, \"facet\": {\"field\": \"Number of fit epitopes\", \"type\": \"quantitative\"}, \"spec\": {\"mark\": {\"type\": \"rect\", \"opacity\": 0.95, \"stroke\": \"black\"}, \"encoding\": {\"color\": {\"field\": \"Correlation (R^2)\", \"scale\": {\"scheme\": \"viridis\"}, \"type\": \"quantitative\"}, \"tooltip\": [{\"field\": \"Fit epitope class\", \"type\": \"ordinal\"}, {\"field\": \"True epitope class\", \"type\": \"ordinal\"}, {\"field\": \"Correlation (R^2)\", \"format\": \".3f\", \"type\": \"quantitative\"}], \"x\": {\"field\": \"Fit epitope class\", \"type\": \"ordinal\"}, \"y\": {\"field\": \"True epitope class\", \"type\": \"ordinal\"}}, \"height\": 100, \"width\": 130}, \"$schema\": \"https://vega.github.io/schema/vega-lite/v5.2.0.json\", \"datasets\": {\"data-4a4d86f009e05898a8cc6bcfb030112f\": [{\"Number of fit epitopes\": 2, \"True epitope class\": \"1\", \"Fit epitope class\": \"1\", \"Correlation (R^2)\": -0.07933196078372097}, {\"Number of fit epitopes\": 2, \"True epitope class\": \"1\", \"Fit epitope class\": \"2\", \"Correlation (R^2)\": 0.14026078544320103}, {\"Number of fit epitopes\": 2, \"True epitope class\": \"2\", \"Fit epitope class\": \"1\", \"Correlation (R^2)\": -0.05838225069214065}, {\"Number of fit epitopes\": 2, \"True epitope class\": \"2\", \"Fit epitope class\": \"2\", \"Correlation (R^2)\": 0.8329342819237245}, {\"Number of fit epitopes\": 2, \"True epitope class\": \"3\", \"Fit epitope class\": \"1\", \"Correlation (R^2)\": 0.9310395874345984}, {\"Number of fit epitopes\": 2, \"True epitope class\": \"3\", \"Fit epitope class\": \"2\", \"Correlation (R^2)\": -0.05679500705590149}, {\"Number of fit epitopes\": 3, \"True epitope class\": \"1\", \"Fit epitope class\": \"1\", \"Correlation (R^2)\": 0.05932797106008702}, {\"Number of fit epitopes\": 3, \"True epitope class\": \"1\", \"Fit epitope class\": \"2\", \"Correlation (R^2)\": 0.8034772146578196}, {\"Number of fit epitopes\": 3, \"True epitope class\": \"1\", \"Fit epitope class\": \"3\", \"Correlation (R^2)\": -0.08978254555367132}, {\"Number of fit epitopes\": 3, \"True epitope class\": \"2\", \"Fit epitope class\": \"1\", \"Correlation (R^2)\": 0.9683604199853935}, {\"Number of fit epitopes\": 3, \"True epitope class\": \"2\", \"Fit epitope class\": \"2\", \"Correlation (R^2)\": 0.2002915394609174}, {\"Number of fit epitopes\": 3, \"True epitope class\": \"2\", \"Fit epitope class\": \"3\", \"Correlation (R^2)\": -0.057752566089737674}, {\"Number of fit epitopes\": 3, \"True epitope class\": \"3\", \"Fit epitope class\": \"1\", \"Correlation (R^2)\": -0.058457093398139995}, {\"Number of fit epitopes\": 3, \"True epitope class\": \"3\", \"Fit epitope class\": \"2\", \"Correlation (R^2)\": -0.07297049359510571}, {\"Number of fit epitopes\": 3, \"True epitope class\": \"3\", \"Fit epitope class\": \"3\", \"Correlation (R^2)\": 0.968577771568023}, {\"Number of fit epitopes\": 4, \"True epitope class\": \"1\", \"Fit epitope class\": \"1\", \"Correlation (R^2)\": 0.05844472475558725}, {\"Number of fit epitopes\": 4, \"True epitope class\": \"1\", \"Fit epitope class\": \"2\", \"Correlation (R^2)\": 0.024333631899603216}, {\"Number of fit epitopes\": 4, \"True epitope class\": \"1\", \"Fit epitope class\": \"3\", \"Correlation (R^2)\": 0.8104243392070462}, {\"Number of fit epitopes\": 4, \"True epitope class\": \"1\", \"Fit epitope class\": \"4\", \"Correlation (R^2)\": -0.09086533707859155}, {\"Number of fit epitopes\": 4, \"True epitope class\": \"2\", \"Fit epitope class\": \"1\", \"Correlation (R^2)\": 0.9482396080367836}, {\"Number of fit epitopes\": 4, \"True epitope class\": \"2\", \"Fit epitope class\": \"2\", \"Correlation (R^2)\": 0.317110482176994}, {\"Number of fit epitopes\": 4, \"True epitope class\": \"2\", \"Fit epitope class\": \"3\", \"Correlation (R^2)\": 0.20501454517936693}, {\"Number of fit epitopes\": 4, \"True epitope class\": \"2\", \"Fit epitope class\": \"4\", \"Correlation (R^2)\": -0.05800983471876021}, {\"Number of fit epitopes\": 4, \"True epitope class\": \"3\", \"Fit epitope class\": \"1\", \"Correlation (R^2)\": -0.05783996213533368}, {\"Number of fit epitopes\": 4, \"True epitope class\": \"3\", \"Fit epitope class\": \"2\", \"Correlation (R^2)\": 0.0686254822938297}, {\"Number of fit epitopes\": 4, \"True epitope class\": \"3\", \"Fit epitope class\": \"3\", \"Correlation (R^2)\": -0.07255798523416271}, {\"Number of fit epitopes\": 4, \"True epitope class\": \"3\", \"Fit epitope class\": \"4\", \"Correlation (R^2)\": 0.9659369637182172}]}}, {\"mode\": \"vega-lite\"});\n",
       "</script>"
      ],
      "text/plain": [
       "alt.FacetChart(...)"
      ]
     },
     "execution_count": 7,
     "metadata": {},
     "output_type": "execute_result"
    }
   ],
   "source": [
    "alt.Chart(plot_data).mark_rect(opacity=0.95, stroke=\"black\",).encode(\n",
    "    x=\"Fit epitope class:O\",\n",
    "    y=\"True epitope class:O\",\n",
    "    color=alt.Color(\"Correlation (R^2):Q\", scale=alt.Scale(scheme=\"viridis\")),\n",
    "    tooltip=[\n",
    "        \"Fit epitope class:O\",\n",
    "        \"True epitope class:O\",\n",
    "        alt.Tooltip(\"Correlation (R^2)\", format=\".3f\"),\n",
    "    ],\n",
    ").properties(width=130, height=100,).facet(\n",
    "    \"Number of fit epitopes\",\n",
    ")"
   ]
  },
  {
   "cell_type": "markdown",
   "metadata": {},
   "source": [
    "We can also visualize the wildtype activity values, $a_{wt,e}$."
   ]
  },
  {
   "cell_type": "code",
   "execution_count": 8,
   "metadata": {
    "execution": {
     "iopub.execute_input": "2022-11-13T16:44:14.650460Z",
     "iopub.status.busy": "2022-11-13T16:44:14.650206Z",
     "iopub.status.idle": "2022-11-13T16:44:14.795416Z",
     "shell.execute_reply": "2022-11-13T16:44:14.794873Z",
     "shell.execute_reply.started": "2022-11-13T16:44:14.650440Z"
    }
   },
   "outputs": [
    {
     "name": "stdout",
     "output_type": "stream",
     "text": [
      "Number of fit epitopes: 2\n"
     ]
    },
    {
     "data": {
      "text/html": [
       "\n",
       "<div id=\"altair-viz-cdf57e35429e41e5b57cf2ecf2722246\"></div>\n",
       "<script type=\"text/javascript\">\n",
       "  var VEGA_DEBUG = (typeof VEGA_DEBUG == \"undefined\") ? {} : VEGA_DEBUG;\n",
       "  (function(spec, embedOpt){\n",
       "    let outputDiv = document.currentScript.previousElementSibling;\n",
       "    if (outputDiv.id !== \"altair-viz-cdf57e35429e41e5b57cf2ecf2722246\") {\n",
       "      outputDiv = document.getElementById(\"altair-viz-cdf57e35429e41e5b57cf2ecf2722246\");\n",
       "    }\n",
       "    const paths = {\n",
       "      \"vega\": \"https://cdn.jsdelivr.net/npm//vega@5?noext\",\n",
       "      \"vega-lib\": \"https://cdn.jsdelivr.net/npm//vega-lib?noext\",\n",
       "      \"vega-lite\": \"https://cdn.jsdelivr.net/npm//vega-lite@5.2.0?noext\",\n",
       "      \"vega-embed\": \"https://cdn.jsdelivr.net/npm//vega-embed@6?noext\",\n",
       "    };\n",
       "\n",
       "    function maybeLoadScript(lib, version) {\n",
       "      var key = `${lib.replace(\"-\", \"\")}_version`;\n",
       "      return (VEGA_DEBUG[key] == version) ?\n",
       "        Promise.resolve(paths[lib]) :\n",
       "        new Promise(function(resolve, reject) {\n",
       "          var s = document.createElement('script');\n",
       "          document.getElementsByTagName(\"head\")[0].appendChild(s);\n",
       "          s.async = true;\n",
       "          s.onload = () => {\n",
       "            VEGA_DEBUG[key] = version;\n",
       "            return resolve(paths[lib]);\n",
       "          };\n",
       "          s.onerror = () => reject(`Error loading script: ${paths[lib]}`);\n",
       "          s.src = paths[lib];\n",
       "        });\n",
       "    }\n",
       "\n",
       "    function showError(err) {\n",
       "      outputDiv.innerHTML = `<div class=\"error\" style=\"color:red;\">${err}</div>`;\n",
       "      throw err;\n",
       "    }\n",
       "\n",
       "    function displayChart(vegaEmbed) {\n",
       "      vegaEmbed(outputDiv, spec, embedOpt)\n",
       "        .catch(err => showError(`Javascript Error: ${err.message}<br>This usually means there's a typo in your chart specification. See the javascript console for the full traceback.`));\n",
       "    }\n",
       "\n",
       "    if(typeof define === \"function\" && define.amd) {\n",
       "      requirejs.config({paths});\n",
       "      require([\"vega-embed\"], displayChart, err => showError(`Error loading script: ${err.message}`));\n",
       "    } else {\n",
       "      maybeLoadScript(\"vega\", \"5\")\n",
       "        .then(() => maybeLoadScript(\"vega-lite\", \"5.2.0\"))\n",
       "        .then(() => maybeLoadScript(\"vega-embed\", \"6\"))\n",
       "        .catch(showError)\n",
       "        .then(() => displayChart(vegaEmbed));\n",
       "    }\n",
       "  })({\"config\": {\"view\": {\"continuousWidth\": 400, \"continuousHeight\": 300}, \"axis\": {\"grid\": false}}, \"data\": {\"name\": \"data-c745bdc6811a50f90c2c6669d9a3794c\"}, \"mark\": {\"type\": \"bar\", \"size\": 18.75}, \"encoding\": {\"color\": {\"field\": \"epitope\", \"legend\": null, \"scale\": {\"domain\": [\"1\", \"2\"], \"range\": [\"#0072B2\", \"#009E73\"]}, \"type\": \"nominal\"}, \"tooltip\": [{\"field\": \"epitope\", \"type\": \"nominal\"}, {\"field\": \"activity\", \"format\": \".2f\", \"type\": \"quantitative\"}], \"x\": {\"field\": \"activity\", \"title\": \"activity\", \"type\": \"quantitative\"}, \"y\": {\"field\": \"epitope\", \"sort\": [\"1\", \"2\"], \"type\": \"nominal\"}}, \"height\": {\"step\": 25}, \"width\": 110, \"$schema\": \"https://vega.github.io/schema/vega-lite/v5.2.0.json\", \"datasets\": {\"data-c745bdc6811a50f90c2c6669d9a3794c\": [{\"epitope\": \"1\", \"activity\": 2.617384938766121}, {\"epitope\": \"2\", \"activity\": 4.073439704937735}]}}, {\"mode\": \"vega-lite\"});\n",
       "</script>"
      ],
      "text/plain": [
       "alt.Chart(...)"
      ]
     },
     "metadata": {},
     "output_type": "display_data"
    },
    {
     "name": "stdout",
     "output_type": "stream",
     "text": [
      "Number of fit epitopes: 3\n"
     ]
    },
    {
     "data": {
      "text/html": [
       "\n",
       "<div id=\"altair-viz-d91a7f5fd583423bbc5099cd2a07d5f4\"></div>\n",
       "<script type=\"text/javascript\">\n",
       "  var VEGA_DEBUG = (typeof VEGA_DEBUG == \"undefined\") ? {} : VEGA_DEBUG;\n",
       "  (function(spec, embedOpt){\n",
       "    let outputDiv = document.currentScript.previousElementSibling;\n",
       "    if (outputDiv.id !== \"altair-viz-d91a7f5fd583423bbc5099cd2a07d5f4\") {\n",
       "      outputDiv = document.getElementById(\"altair-viz-d91a7f5fd583423bbc5099cd2a07d5f4\");\n",
       "    }\n",
       "    const paths = {\n",
       "      \"vega\": \"https://cdn.jsdelivr.net/npm//vega@5?noext\",\n",
       "      \"vega-lib\": \"https://cdn.jsdelivr.net/npm//vega-lib?noext\",\n",
       "      \"vega-lite\": \"https://cdn.jsdelivr.net/npm//vega-lite@5.2.0?noext\",\n",
       "      \"vega-embed\": \"https://cdn.jsdelivr.net/npm//vega-embed@6?noext\",\n",
       "    };\n",
       "\n",
       "    function maybeLoadScript(lib, version) {\n",
       "      var key = `${lib.replace(\"-\", \"\")}_version`;\n",
       "      return (VEGA_DEBUG[key] == version) ?\n",
       "        Promise.resolve(paths[lib]) :\n",
       "        new Promise(function(resolve, reject) {\n",
       "          var s = document.createElement('script');\n",
       "          document.getElementsByTagName(\"head\")[0].appendChild(s);\n",
       "          s.async = true;\n",
       "          s.onload = () => {\n",
       "            VEGA_DEBUG[key] = version;\n",
       "            return resolve(paths[lib]);\n",
       "          };\n",
       "          s.onerror = () => reject(`Error loading script: ${paths[lib]}`);\n",
       "          s.src = paths[lib];\n",
       "        });\n",
       "    }\n",
       "\n",
       "    function showError(err) {\n",
       "      outputDiv.innerHTML = `<div class=\"error\" style=\"color:red;\">${err}</div>`;\n",
       "      throw err;\n",
       "    }\n",
       "\n",
       "    function displayChart(vegaEmbed) {\n",
       "      vegaEmbed(outputDiv, spec, embedOpt)\n",
       "        .catch(err => showError(`Javascript Error: ${err.message}<br>This usually means there's a typo in your chart specification. See the javascript console for the full traceback.`));\n",
       "    }\n",
       "\n",
       "    if(typeof define === \"function\" && define.amd) {\n",
       "      requirejs.config({paths});\n",
       "      require([\"vega-embed\"], displayChart, err => showError(`Error loading script: ${err.message}`));\n",
       "    } else {\n",
       "      maybeLoadScript(\"vega\", \"5\")\n",
       "        .then(() => maybeLoadScript(\"vega-lite\", \"5.2.0\"))\n",
       "        .then(() => maybeLoadScript(\"vega-embed\", \"6\"))\n",
       "        .catch(showError)\n",
       "        .then(() => displayChart(vegaEmbed));\n",
       "    }\n",
       "  })({\"config\": {\"view\": {\"continuousWidth\": 400, \"continuousHeight\": 300}, \"axis\": {\"grid\": false}}, \"data\": {\"name\": \"data-99c8b3068a3909b55366c1108e404eae\"}, \"mark\": {\"type\": \"bar\", \"size\": 18.75}, \"encoding\": {\"color\": {\"field\": \"epitope\", \"legend\": null, \"scale\": {\"domain\": [\"1\", \"2\", \"3\"], \"range\": [\"#0072B2\", \"#009E73\", \"#CC79A7\"]}, \"type\": \"nominal\"}, \"tooltip\": [{\"field\": \"epitope\", \"type\": \"nominal\"}, {\"field\": \"activity\", \"format\": \".2f\", \"type\": \"quantitative\"}], \"x\": {\"field\": \"activity\", \"title\": \"activity\", \"type\": \"quantitative\"}, \"y\": {\"field\": \"epitope\", \"sort\": [\"1\", \"2\", \"3\"], \"type\": \"nominal\"}}, \"height\": {\"step\": 25}, \"width\": 110, \"$schema\": \"https://vega.github.io/schema/vega-lite/v5.2.0.json\", \"datasets\": {\"data-99c8b3068a3909b55366c1108e404eae\": [{\"epitope\": \"1\", \"activity\": 3.160735996502857}, {\"epitope\": \"2\", \"activity\": 1.8115102597437482}, {\"epitope\": \"3\", \"activity\": 2.339303050117927}]}}, {\"mode\": \"vega-lite\"});\n",
       "</script>"
      ],
      "text/plain": [
       "alt.Chart(...)"
      ]
     },
     "metadata": {},
     "output_type": "display_data"
    },
    {
     "name": "stdout",
     "output_type": "stream",
     "text": [
      "Number of fit epitopes: 4\n"
     ]
    },
    {
     "data": {
      "text/html": [
       "\n",
       "<div id=\"altair-viz-d8b6e51289354ed1adf1da3e1d94fb43\"></div>\n",
       "<script type=\"text/javascript\">\n",
       "  var VEGA_DEBUG = (typeof VEGA_DEBUG == \"undefined\") ? {} : VEGA_DEBUG;\n",
       "  (function(spec, embedOpt){\n",
       "    let outputDiv = document.currentScript.previousElementSibling;\n",
       "    if (outputDiv.id !== \"altair-viz-d8b6e51289354ed1adf1da3e1d94fb43\") {\n",
       "      outputDiv = document.getElementById(\"altair-viz-d8b6e51289354ed1adf1da3e1d94fb43\");\n",
       "    }\n",
       "    const paths = {\n",
       "      \"vega\": \"https://cdn.jsdelivr.net/npm//vega@5?noext\",\n",
       "      \"vega-lib\": \"https://cdn.jsdelivr.net/npm//vega-lib?noext\",\n",
       "      \"vega-lite\": \"https://cdn.jsdelivr.net/npm//vega-lite@5.2.0?noext\",\n",
       "      \"vega-embed\": \"https://cdn.jsdelivr.net/npm//vega-embed@6?noext\",\n",
       "    };\n",
       "\n",
       "    function maybeLoadScript(lib, version) {\n",
       "      var key = `${lib.replace(\"-\", \"\")}_version`;\n",
       "      return (VEGA_DEBUG[key] == version) ?\n",
       "        Promise.resolve(paths[lib]) :\n",
       "        new Promise(function(resolve, reject) {\n",
       "          var s = document.createElement('script');\n",
       "          document.getElementsByTagName(\"head\")[0].appendChild(s);\n",
       "          s.async = true;\n",
       "          s.onload = () => {\n",
       "            VEGA_DEBUG[key] = version;\n",
       "            return resolve(paths[lib]);\n",
       "          };\n",
       "          s.onerror = () => reject(`Error loading script: ${paths[lib]}`);\n",
       "          s.src = paths[lib];\n",
       "        });\n",
       "    }\n",
       "\n",
       "    function showError(err) {\n",
       "      outputDiv.innerHTML = `<div class=\"error\" style=\"color:red;\">${err}</div>`;\n",
       "      throw err;\n",
       "    }\n",
       "\n",
       "    function displayChart(vegaEmbed) {\n",
       "      vegaEmbed(outputDiv, spec, embedOpt)\n",
       "        .catch(err => showError(`Javascript Error: ${err.message}<br>This usually means there's a typo in your chart specification. See the javascript console for the full traceback.`));\n",
       "    }\n",
       "\n",
       "    if(typeof define === \"function\" && define.amd) {\n",
       "      requirejs.config({paths});\n",
       "      require([\"vega-embed\"], displayChart, err => showError(`Error loading script: ${err.message}`));\n",
       "    } else {\n",
       "      maybeLoadScript(\"vega\", \"5\")\n",
       "        .then(() => maybeLoadScript(\"vega-lite\", \"5.2.0\"))\n",
       "        .then(() => maybeLoadScript(\"vega-embed\", \"6\"))\n",
       "        .catch(showError)\n",
       "        .then(() => displayChart(vegaEmbed));\n",
       "    }\n",
       "  })({\"config\": {\"view\": {\"continuousWidth\": 400, \"continuousHeight\": 300}, \"axis\": {\"grid\": false}}, \"data\": {\"name\": \"data-b55fceadbce8f72ea9cee0f2eacc13ae\"}, \"mark\": {\"type\": \"bar\", \"size\": 18.75}, \"encoding\": {\"color\": {\"field\": \"epitope\", \"legend\": null, \"scale\": {\"domain\": [\"1\", \"2\", \"3\", \"4\"], \"range\": [\"#0072B2\", \"#009E73\", \"#CC79A7\", \"#56B4E9\"]}, \"type\": \"nominal\"}, \"tooltip\": [{\"field\": \"epitope\", \"type\": \"nominal\"}, {\"field\": \"activity\", \"format\": \".2f\", \"type\": \"quantitative\"}], \"x\": {\"field\": \"activity\", \"title\": \"activity\", \"type\": \"quantitative\"}, \"y\": {\"field\": \"epitope\", \"sort\": [\"1\", \"2\", \"3\", \"4\"], \"type\": \"nominal\"}}, \"height\": {\"step\": 25}, \"width\": 110, \"$schema\": \"https://vega.github.io/schema/vega-lite/v5.2.0.json\", \"datasets\": {\"data-b55fceadbce8f72ea9cee0f2eacc13ae\": [{\"epitope\": \"1\", \"activity\": 3.1551618606741103}, {\"epitope\": \"2\", \"activity\": -4.346848500280315}, {\"epitope\": \"3\", \"activity\": 1.8530799972133278}, {\"epitope\": \"4\", \"activity\": 2.337792844468794}]}}, {\"mode\": \"vega-lite\"});\n",
       "</script>"
      ],
      "text/plain": [
       "alt.Chart(...)"
      ]
     },
     "metadata": {},
     "output_type": "display_data"
    }
   ],
   "source": [
    "for e in n_epitopes:\n",
    "    model = fit_mut_escape[f\"noisy_[0.25, 1, 4]conc_3muts_{e}epitopes_noinit\"]\n",
    "    print(f\"Number of fit epitopes: {e}\")\n",
    "    display(model.activity_wt_barplot())"
   ]
  },
  {
   "cell_type": "markdown",
   "metadata": {},
   "source": [
    "In the simulation ground truth, there are three epitopes (class 1, 2, and 3). The order of immunodominance from highest to lowest is class 2 > class 3 > class 1.\n",
    "\n",
    "- The model that specified two epitopes (left heatmap) fit mutation-escape values that strongly correlate with that of the true class 2 and 3 epitopes. This is expected, as the model prioritizes epitopes by their immunodominance and ignores the most subdominant class 1 epitope.\n",
    "\n",
    "- The model that specified three epitopes (center heatmap) fit mutation-escape values that strongly correlate with that of the true class 1, 2, and 3 epitopes. This is also expected, suggesting that the class 1 epitope, though subdominant, is not redundant. \n",
    "\n",
    "- The model that specified four epitopes (right heatmap) fit three epitopes with mutation-escape values that strongly correlate with that of the true class 1, 2, and 3 epitopes. However, the fourth fit epitope did not correlate with any of the true epitopes. This \"redundant\" epitope also had a strongly negative wildtype activity value, suggesting that antibodies targeting that \"epitope\" don't make an appreciable contribution to the observed data."
   ]
  },
  {
   "cell_type": "markdown",
   "metadata": {},
   "source": [
    "Additionally, we can look at the correlation between “true” and predicted IC90’s for each of the fit models. To do this, we’ll predict the IC90’s of variants in a separate library with a different (higher) mutation rate. We therefore read in the “exact” simulated data from a library containing variants with an average of four mutations per gene."
   ]
  },
  {
   "cell_type": "code",
   "execution_count": 9,
   "metadata": {
    "execution": {
     "iopub.execute_input": "2022-11-13T16:44:14.796412Z",
     "iopub.status.busy": "2022-11-13T16:44:14.796171Z",
     "iopub.status.idle": "2022-11-13T16:44:15.711133Z",
     "shell.execute_reply": "2022-11-13T16:44:15.710584Z",
     "shell.execute_reply.started": "2022-11-13T16:44:14.796393Z"
    }
   },
   "outputs": [],
   "source": [
    "exact_data = (\n",
    "    pd.read_csv(\"RBD_variants_escape_exact.csv\", na_filter=None)\n",
    "    .query('library == \"avg4muts\"')\n",
    "    .query(\"concentration in [1]\")\n",
    "    .reset_index(drop=True)\n",
    ")"
   ]
  },
  {
   "cell_type": "markdown",
   "metadata": {},
   "source": [
    "We’ll make the comparison on a log scale, and clip IC90s at values >50 as that is likely to be way outside the dynamic range given the concentrations used."
   ]
  },
  {
   "cell_type": "code",
   "execution_count": 10,
   "metadata": {
    "execution": {
     "iopub.execute_input": "2022-11-13T16:44:15.712339Z",
     "iopub.status.busy": "2022-11-13T16:44:15.712076Z",
     "iopub.status.idle": "2022-11-13T16:44:33.663592Z",
     "shell.execute_reply": "2022-11-13T16:44:33.662756Z",
     "shell.execute_reply.started": "2022-11-13T16:44:15.712319Z"
    }
   },
   "outputs": [],
   "source": [
    "ic90_corrs = pd.DataFrame()\n",
    "ic90_data = pd.DataFrame()\n",
    "\n",
    "max_ic90 = 50\n",
    "for e in n_epitopes:\n",
    "    model = fit_mut_escape[f\"noisy_[0.25, 1, 4]conc_3muts_{e}epitopes_noinit\"]\n",
    "\n",
    "    ic90s = (\n",
    "        exact_data[[\"aa_substitutions\", \"IC90\"]]\n",
    "        .assign(IC90=lambda x: x[\"IC90\"].clip(upper=max_ic90))\n",
    "        .drop_duplicates()\n",
    "    )\n",
    "    ic90s = model.filter_variants_by_seen_muts(ic90s)\n",
    "    ic90s = model.icXX(ic90s, x=0.9, col=\"predicted_IC90\", max_c=max_ic90)\n",
    "\n",
    "    ic90s = ic90s.assign(\n",
    "        log_IC90=lambda x: np.log10(x[\"IC90\"]),\n",
    "        predicted_log_IC90=lambda x: np.log10(x[\"predicted_IC90\"]),\n",
    "    )\n",
    "\n",
    "    corr = ic90s[\"log_IC90\"].corr(ic90s[\"predicted_log_IC90\"]) ** 2\n",
    "\n",
    "    ic90_corrs = pd.concat(\n",
    "        [\n",
    "            ic90_corrs,\n",
    "            pd.DataFrame(\n",
    "                {\n",
    "                    \"number_fit_epitopes\": [e],\n",
    "                    \"Correlation (R^2)\": \"{:.3f}\".format(corr),\n",
    "                }\n",
    "            ),\n",
    "        ]\n",
    "    ).reset_index(drop=True)\n",
    "\n",
    "    ic90_data = pd.concat(\n",
    "        [\n",
    "            ic90_data,\n",
    "            (\n",
    "                ic90s[[\"log_IC90\", \"predicted_log_IC90\"]].assign(\n",
    "                    **{\"number_fit_epitopes\": e}\n",
    "                )\n",
    "            ),\n",
    "        ]\n",
    "    ).reset_index(drop=True)"
   ]
  },
  {
   "cell_type": "code",
   "execution_count": 11,
   "metadata": {
    "execution": {
     "iopub.execute_input": "2022-11-13T16:44:33.664973Z",
     "iopub.status.busy": "2022-11-13T16:44:33.664684Z",
     "iopub.status.idle": "2022-11-13T16:44:33.671939Z",
     "shell.execute_reply": "2022-11-13T16:44:33.671466Z",
     "shell.execute_reply.started": "2022-11-13T16:44:33.664951Z"
    }
   },
   "outputs": [
    {
     "data": {
      "text/html": [
       "<div>\n",
       "<style scoped>\n",
       "    .dataframe tbody tr th:only-of-type {\n",
       "        vertical-align: middle;\n",
       "    }\n",
       "\n",
       "    .dataframe tbody tr th {\n",
       "        vertical-align: top;\n",
       "    }\n",
       "\n",
       "    .dataframe thead th {\n",
       "        text-align: right;\n",
       "    }\n",
       "</style>\n",
       "<table border=\"1\" class=\"dataframe\">\n",
       "  <thead>\n",
       "    <tr style=\"text-align: right;\">\n",
       "      <th></th>\n",
       "      <th>number_fit_epitopes</th>\n",
       "      <th>Correlation (R^2)</th>\n",
       "    </tr>\n",
       "  </thead>\n",
       "  <tbody>\n",
       "    <tr>\n",
       "      <th>0</th>\n",
       "      <td>2</td>\n",
       "      <td>0.798</td>\n",
       "    </tr>\n",
       "    <tr>\n",
       "      <th>1</th>\n",
       "      <td>3</td>\n",
       "      <td>0.947</td>\n",
       "    </tr>\n",
       "    <tr>\n",
       "      <th>2</th>\n",
       "      <td>4</td>\n",
       "      <td>0.900</td>\n",
       "    </tr>\n",
       "  </tbody>\n",
       "</table>\n",
       "</div>"
      ],
      "text/plain": [
       "   number_fit_epitopes Correlation (R^2)\n",
       "0                    2             0.798\n",
       "1                    3             0.947\n",
       "2                    4             0.900"
      ]
     },
     "execution_count": 11,
     "metadata": {},
     "output_type": "execute_result"
    }
   ],
   "source": [
    "ic90_corrs"
   ]
  },
  {
   "cell_type": "code",
   "execution_count": 12,
   "metadata": {
    "execution": {
     "iopub.execute_input": "2022-11-13T16:44:33.673017Z",
     "iopub.status.busy": "2022-11-13T16:44:33.672740Z",
     "iopub.status.idle": "2022-11-13T16:44:36.836277Z",
     "shell.execute_reply": "2022-11-13T16:44:36.835725Z",
     "shell.execute_reply.started": "2022-11-13T16:44:33.672987Z"
    }
   },
   "outputs": [
    {
     "name": "stderr",
     "output_type": "stream",
     "text": [
      "/fh/fast/bloom_j/software/miniconda3/envs/BloomLab/lib/python3.8/site-packages/plotnine/utils.py:371: FutureWarning: The frame.append method is deprecated and will be removed from pandas in a future version. Use pandas.concat instead.\n"
     ]
    },
    {
     "data": {
      "image/png": "[encoded data removed]",
      "text/plain": [
       "<Figure size 800x250 with 3 Axes>"
      ]
     },
     "metadata": {},
     "output_type": "display_data"
    },
    {
     "data": {
      "text/plain": [
       "<ggplot: (8756316515780)>"
      ]
     },
     "execution_count": 12,
     "metadata": {},
     "output_type": "execute_result"
    }
   ],
   "source": [
    "(\n",
    "    ggplot(ic90_data, aes(x=\"predicted_log_IC90\", y=\"log_IC90\"))\n",
    "    + geom_point(alpha=0.05, size=1)\n",
    "    + facet_wrap(\"number_fit_epitopes\")\n",
    "    + theme_classic()\n",
    "    + theme(figure_size=(8, 2.5))\n",
    ")"
   ]
  },
  {
   "cell_type": "markdown",
   "metadata": {},
   "source": [
    "Although the IC90 prediction appears excellent regardless of the number of fit epitopes, adding the 3rd epitope does lead to a small improvement in the prediction."
   ]
  },
  {
   "cell_type": "markdown",
   "metadata": {},
   "source": [
    "## Specifying epitopes with prior knowledge"
   ]
  },
  {
   "cell_type": "markdown",
   "metadata": {},
   "source": [
    "Next, we'll explore the consequences of cases where we think we have prior knowledge of some sites that confer antibody escape, but do not know the exact number of epitopes that are targeted. We can start by \"seeding\" initial guesses for 2 epitopes and iteratively fitting `Polyclonal` models with more initial guesses."
   ]
  },
  {
   "cell_type": "markdown",
   "metadata": {},
   "source": [
    "- **Case 1**: We guess from prior knowledge that site 484 and site 444 are key epitope sites, so we seed them with large mutation-escape values.\n",
    "\n",
    "- **Case 2**: Building on Case 1, we seed a 3rd key site, 417, which is often considered to be in the most subdominant class 1 epitope.\n",
    "\n",
    "- **Case 3**: Building on Case 2, we add a 4th key site, 386, that is **not** actually in an epitope that is targeted by polyclonal antibodies.\n",
    "\n",
    "- **Case 4**: Building on Case 2, we add a 4th key site that is already located in an epitope that we've specified. Specifically, we'll seed it with site 460, which is in the class 1 epitope along with site 417."
   ]
  },
  {
   "cell_type": "code",
   "execution_count": 13,
   "metadata": {
    "execution": {
     "iopub.execute_input": "2022-11-13T16:44:36.837374Z",
     "iopub.status.busy": "2022-11-13T16:44:36.837120Z",
     "iopub.status.idle": "2022-11-13T16:44:36.843302Z",
     "shell.execute_reply": "2022-11-13T16:44:36.842778Z",
     "shell.execute_reply.started": "2022-11-13T16:44:36.837354Z"
    }
   },
   "outputs": [],
   "source": [
    "model_params = {\n",
    "    ### Case 1\n",
    "    \"noisy_[0.25, 1, 4]conc_3muts_2epitopes_seed484_444\": [\n",
    "        # wildtype activity guesses\n",
    "        [(\"1\", 2.0), (\"2\", 1.0)],\n",
    "        # key epitope site guesses\n",
    "        [\n",
    "            (\"1\", 484, 10.0),\n",
    "            (\"2\", 444, 10.0),\n",
    "        ],\n",
    "    ],\n",
    "    ### Case 2\n",
    "    \"noisy_[0.25, 1, 4]conc_3muts_3epitopes_seed417_484_444\": [\n",
    "        # wildtype activity guesses\n",
    "        [\n",
    "            (\"1\", 1.0),\n",
    "            (\"2\", 3.0),\n",
    "            (\"3\", 2.0),\n",
    "        ],\n",
    "        # key epitope site guesses\n",
    "        [\n",
    "            (\"1\", 417, 10.0),\n",
    "            (\"2\", 484, 10.0),\n",
    "            (\"3\", 444, 10.0),\n",
    "        ],\n",
    "    ],\n",
    "    ### Case 3\n",
    "    \"noisy_[0.25, 1, 4]conc_3muts_4epitopes_seed417_484_444_386\": [\n",
    "        # wildtype activity guesses\n",
    "        [\n",
    "            (\"1\", 2.0),\n",
    "            (\"2\", 4.0),\n",
    "            (\"3\", 3.0),\n",
    "            (\"4\", 1.0),\n",
    "        ],\n",
    "        # key epitope site guesses\n",
    "        [\n",
    "            (\"1\", 417, 10.0),\n",
    "            (\"2\", 484, 10.0),\n",
    "            (\"3\", 444, 10.0),\n",
    "            (\"4\", 386, 10.0),\n",
    "        ],\n",
    "    ],\n",
    "    ### Case 4\n",
    "    \"noisy_[0.25, 1, 4]conc_3muts_4epitopes_seed417_484_444_460\": [\n",
    "        # wildtype activity guesses\n",
    "        [\n",
    "            (\"1\", 2.0),\n",
    "            (\"2\", 4.0),\n",
    "            (\"3\", 3.0),\n",
    "            (\"4\", 1.0),\n",
    "        ],\n",
    "        # key epitope site guesses\n",
    "        [\n",
    "            (\"1\", 417, 10.0),\n",
    "            (\"2\", 484, 10.0),\n",
    "            (\"3\", 444, 10.0),\n",
    "            (\"4\", 460, 10.0),\n",
    "        ],\n",
    "    ],\n",
    "}"
   ]
  },
  {
   "cell_type": "markdown",
   "metadata": {},
   "source": [
    "Fit `Polyclonal` models for each of the cases above."
   ]
  },
  {
   "cell_type": "code",
   "execution_count": 14,
   "metadata": {
    "execution": {
     "iopub.execute_input": "2022-11-13T16:44:36.844358Z",
     "iopub.status.busy": "2022-11-13T16:44:36.844089Z",
     "iopub.status.idle": "2022-11-13T17:00:12.893434Z",
     "shell.execute_reply": "2022-11-13T17:00:12.892029Z",
     "shell.execute_reply.started": "2022-11-13T16:44:36.844335Z"
    },
    "tags": []
   },
   "outputs": [
    {
     "name": "stdout",
     "output_type": "stream",
     "text": [
      "noisy_[0.25, 1, 4]conc_3muts_2epitopes_seed484_444 was already fit.\n",
      "noisy_[0.25, 1, 4]conc_3muts_3epitopes_seed417_484_444 was already fit.\n",
      "# First fitting site-level model.\n",
      "# Starting optimization of 696 parameters at Sun Nov 13 08:44:40 2022.\n",
      "        step    time_sec        loss    fit_loss  reg_escape  reg_spread reg_spatial reg_uniqueness reg_uniqueness2 reg_activity\n",
      "           0      0.0851      3560.3      3550.3     0.39602           0           0              0               0       9.6104\n",
      "         500      48.037      1742.1      1713.5      10.379           0           0              0               0       18.213\n",
      "        1000      95.488      1733.1      1701.1      11.434           0           0              0               0       20.568\n",
      "        1437      136.44      1732.3      1697.4      12.225           0           0              0               0       22.592\n",
      "# Successfully finished at Sun Nov 13 08:46:56 2022.\n",
      "# Starting optimization of 7732 parameters at Sun Nov 13 08:46:57 2022.\n",
      "        step    time_sec        loss    fit_loss  reg_escape  reg_spread reg_spatial reg_uniqueness reg_uniqueness2 reg_activity\n",
      "           0     0.10628      1983.7      1822.1         139   2.524e-29           0              0               0       22.592\n",
      "         500      58.905      555.49      432.78      89.901      25.506           0              0               0       7.3041\n",
      "        1000      118.25      458.52      357.62      65.451      29.038           0              0               0       6.4114\n",
      "        1500      175.52      418.86      329.71      52.531      29.644           0              0               0       6.9682\n",
      "        2000      234.21       401.5      322.02      41.408      28.391           0              0               0       9.6848\n",
      "        2500      292.82      397.72      321.56      37.565      27.691           0              0               0       10.901\n",
      "        2971      347.39      396.84      321.41       36.81        27.5           0              0               0        11.12\n",
      "# Successfully finished at Sun Nov 13 08:52:44 2022.\n",
      "# First fitting site-level model.\n",
      "# Starting optimization of 696 parameters at Sun Nov 13 08:52:47 2022.\n",
      "        step    time_sec        loss    fit_loss  reg_escape  reg_spread reg_spatial reg_uniqueness reg_uniqueness2 reg_activity\n",
      "           0    0.082639      3560.6      3550.6     0.39602           0           0              0               0       9.6104\n",
      "         500      46.314      1739.4      1710.9      10.279           0           0              0               0       18.162\n",
      "        1000      92.455      1734.4      1700.4      11.872           0           0              0               0       22.127\n",
      "        1203      111.01      1734.2      1699.3      12.203           0           0              0               0       22.722\n",
      "# Successfully finished at Sun Nov 13 08:54:38 2022.\n",
      "# Starting optimization of 7732 parameters at Sun Nov 13 08:54:39 2022.\n",
      "        step    time_sec        loss    fit_loss  reg_escape  reg_spread reg_spatial reg_uniqueness reg_uniqueness2 reg_activity\n",
      "           0     0.10838      1983.6      1823.6      137.32  2.9836e-29           0              0               0       22.722\n",
      "         500      59.235      546.59      427.09      85.115      26.383           0              0               0       8.0012\n",
      "        1000       117.6      450.41      349.24      64.985      29.519           0              0               0       6.6593\n",
      "        1500      176.12      421.21      331.73      51.812      29.393           0              0               0       8.2717\n",
      "        2000      234.09      402.15      323.01       40.37      28.297           0              0               0       10.477\n",
      "        2500      290.84      398.15      322.06      37.436      27.645           0              0               0       11.009\n",
      "        2876      333.77      397.87      322.09      37.096      27.535           0              0               0       11.153\n",
      "# Successfully finished at Sun Nov 13 09:00:12 2022.\n"
     ]
    }
   ],
   "source": [
    "for model_string in model_params.keys():\n",
    "    # If the pickled model exists in the fit_polyclonal_models directory, load it.\n",
    "    if os.path.exists(f\"fit_polyclonal_models/{model_string}.pkl\") is True:\n",
    "        model = pickle.load(open(f\"fit_polyclonal_models/{model_string}.pkl\", \"rb\"))\n",
    "        fit_mut_escape.update({model_string: model})\n",
    "        print(f\"{model_string} was already fit.\")\n",
    "    else:\n",
    "        # Else, fit a model and save it to the fit_polyclonal_models directory.\n",
    "        model = polyclonal.Polyclonal(\n",
    "            data_to_fit=noisy_data,\n",
    "            activity_wt_df=pd.DataFrame.from_records(\n",
    "                model_params[model_string][0],\n",
    "                columns=[\"epitope\", \"activity\"],\n",
    "            ),\n",
    "            site_escape_df=pd.DataFrame.from_records(\n",
    "                model_params[model_string][1],\n",
    "                columns=[\"epitope\", \"site\", \"escape\"],\n",
    "            ),\n",
    "            data_mut_escape_overlap=\"fill_to_data\",\n",
    "        )\n",
    "\n",
    "        opt_res = model.fit(            \n",
    "            logfreq=500,\n",
    "            reg_escape_weight=0.01,\n",
    "            reg_uniqueness2_weight=0,\n",
    "        )\n",
    "        fit_mut_escape.update({model_string: model})\n",
    "        pickle.dump(model, open(f\"fit_polyclonal_models/{model_string}.pkl\", \"wb\"))"
   ]
  },
  {
   "cell_type": "markdown",
   "metadata": {},
   "source": [
    "Like before, we can correlate the $\\beta_{m,e}$ values for each of the epitopes fit by these `Polyclonal` models to the $\\beta_{m,e}$ values for each of the three \"true\" epitopes."
   ]
  },
  {
   "cell_type": "code",
   "execution_count": 15,
   "metadata": {
    "execution": {
     "iopub.execute_input": "2022-11-13T17:00:12.896085Z",
     "iopub.status.busy": "2022-11-13T17:00:12.895696Z",
     "iopub.status.idle": "2022-11-13T17:00:14.338468Z",
     "shell.execute_reply": "2022-11-13T17:00:14.337856Z",
     "shell.execute_reply.started": "2022-11-13T17:00:12.896022Z"
    }
   },
   "outputs": [],
   "source": [
    "plot_data = pd.DataFrame()\n",
    "for st in [\n",
    "    \"2epitopes_seed484_444\",\n",
    "    \"3epitopes_seed417_484_444\",\n",
    "    \"4epitopes_seed417_484_444_386\",\n",
    "    \"4epitopes_seed417_484_444_460\",\n",
    "]:\n",
    "    model = fit_mut_escape[f\"noisy_[0.25, 1, 4]conc_3muts_{st}\"]\n",
    "    for true_e, fit_e in list(\n",
    "        itertools.product(\n",
    "            true_mut_escape_df[\"epitope\"].unique(),\n",
    "            model.mut_escape_df[\"epitope\"].unique(),\n",
    "        )\n",
    "    ):\n",
    "\n",
    "        df = true_mut_escape_df.query(f'epitope == \"{true_e}\"').merge(\n",
    "            (\n",
    "                model.mut_escape_df.rename(\n",
    "                    columns={\n",
    "                        \"escape\": \"predicted escape\",\n",
    "                        \"epitope\": \"predicted epitope\",\n",
    "                    }\n",
    "                ).query(f'`predicted epitope` == \"{fit_e}\"')\n",
    "            ),\n",
    "            on=\"mutation\",\n",
    "            validate=\"one_to_one\",\n",
    "        )\n",
    "\n",
    "        corr = df[\"escape\"].corr(df[\"predicted escape\"] ** 2)\n",
    "\n",
    "        plot_data = pd.concat(\n",
    "            [\n",
    "                plot_data,\n",
    "                pd.DataFrame(\n",
    "                    data={\n",
    "                        \"Epitope seeding\": [st],\n",
    "                        \"True epitope class\": [true_e],\n",
    "                        \"Fit epitope class\": [fit_e],\n",
    "                        \"Correlation (R^2)\": [corr],\n",
    "                    }\n",
    "                ),\n",
    "            ]\n",
    "        ).reset_index(drop=True)"
   ]
  },
  {
   "cell_type": "code",
   "execution_count": 16,
   "metadata": {
    "execution": {
     "iopub.execute_input": "2022-11-13T17:00:14.339433Z",
     "iopub.status.busy": "2022-11-13T17:00:14.339212Z",
     "iopub.status.idle": "2022-11-13T17:00:14.410878Z",
     "shell.execute_reply": "2022-11-13T17:00:14.410315Z",
     "shell.execute_reply.started": "2022-11-13T17:00:14.339415Z"
    }
   },
   "outputs": [
    {
     "name": "stderr",
     "output_type": "stream",
     "text": [
      "/fh/fast/bloom_j/software/miniconda3/envs/BloomLab/lib/python3.8/site-packages/altair/utils/core.py:317: FutureWarning: iteritems is deprecated and will be removed in a future version. Use .items instead.\n"
     ]
    },
    {
     "data": {
      "text/html": [
       "\n",
       "<div id=\"altair-viz-ef45298ff7db41b5ba94e98c2a9017cd\"></div>\n",
       "<script type=\"text/javascript\">\n",
       "  var VEGA_DEBUG = (typeof VEGA_DEBUG == \"undefined\") ? {} : VEGA_DEBUG;\n",
       "  (function(spec, embedOpt){\n",
       "    let outputDiv = document.currentScript.previousElementSibling;\n",
       "    if (outputDiv.id !== \"altair-viz-ef45298ff7db41b5ba94e98c2a9017cd\") {\n",
       "      outputDiv = document.getElementById(\"altair-viz-ef45298ff7db41b5ba94e98c2a9017cd\");\n",
       "    }\n",
       "    const paths = {\n",
       "      \"vega\": \"https://cdn.jsdelivr.net/npm//vega@5?noext\",\n",
       "      \"vega-lib\": \"https://cdn.jsdelivr.net/npm//vega-lib?noext\",\n",
       "      \"vega-lite\": \"https://cdn.jsdelivr.net/npm//vega-lite@5.2.0?noext\",\n",
       "      \"vega-embed\": \"https://cdn.jsdelivr.net/npm//vega-embed@6?noext\",\n",
       "    };\n",
       "\n",
       "    function maybeLoadScript(lib, version) {\n",
       "      var key = `${lib.replace(\"-\", \"\")}_version`;\n",
       "      return (VEGA_DEBUG[key] == version) ?\n",
       "        Promise.resolve(paths[lib]) :\n",
       "        new Promise(function(resolve, reject) {\n",
       "          var s = document.createElement('script');\n",
       "          document.getElementsByTagName(\"head\")[0].appendChild(s);\n",
       "          s.async = true;\n",
       "          s.onload = () => {\n",
       "            VEGA_DEBUG[key] = version;\n",
       "            return resolve(paths[lib]);\n",
       "          };\n",
       "          s.onerror = () => reject(`Error loading script: ${paths[lib]}`);\n",
       "          s.src = paths[lib];\n",
       "        });\n",
       "    }\n",
       "\n",
       "    function showError(err) {\n",
       "      outputDiv.innerHTML = `<div class=\"error\" style=\"color:red;\">${err}</div>`;\n",
       "      throw err;\n",
       "    }\n",
       "\n",
       "    function displayChart(vegaEmbed) {\n",
       "      vegaEmbed(outputDiv, spec, embedOpt)\n",
       "        .catch(err => showError(`Javascript Error: ${err.message}<br>This usually means there's a typo in your chart specification. See the javascript console for the full traceback.`));\n",
       "    }\n",
       "\n",
       "    if(typeof define === \"function\" && define.amd) {\n",
       "      requirejs.config({paths});\n",
       "      require([\"vega-embed\"], displayChart, err => showError(`Error loading script: ${err.message}`));\n",
       "    } else {\n",
       "      maybeLoadScript(\"vega\", \"5\")\n",
       "        .then(() => maybeLoadScript(\"vega-lite\", \"5.2.0\"))\n",
       "        .then(() => maybeLoadScript(\"vega-embed\", \"6\"))\n",
       "        .catch(showError)\n",
       "        .then(() => displayChart(vegaEmbed));\n",
       "    }\n",
       "  })({\"config\": {\"view\": {\"continuousWidth\": 400, \"continuousHeight\": 300}}, \"data\": {\"name\": \"data-624eccb16bc5cb91d0ff3e60db505df9\"}, \"facet\": {\"field\": \"Epitope seeding\", \"type\": \"nominal\"}, \"spec\": {\"mark\": {\"type\": \"rect\", \"opacity\": 0.95, \"stroke\": \"black\"}, \"encoding\": {\"color\": {\"field\": \"Correlation (R^2)\", \"scale\": {\"scheme\": \"viridis\"}, \"type\": \"quantitative\"}, \"tooltip\": [{\"field\": \"Fit epitope class\", \"type\": \"ordinal\"}, {\"field\": \"True epitope class\", \"type\": \"ordinal\"}, {\"field\": \"Correlation (R^2)\", \"format\": \".3f\", \"type\": \"quantitative\"}], \"x\": {\"field\": \"Fit epitope class\", \"type\": \"ordinal\"}, \"y\": {\"field\": \"True epitope class\", \"type\": \"ordinal\"}}, \"height\": 100, \"width\": 130}, \"columns\": 2, \"$schema\": \"https://vega.github.io/schema/vega-lite/v5.2.0.json\", \"datasets\": {\"data-624eccb16bc5cb91d0ff3e60db505df9\": [{\"Epitope seeding\": \"2epitopes_seed484_444\", \"True epitope class\": \"1\", \"Fit epitope class\": \"1\", \"Correlation (R^2)\": 0.14033468079970324}, {\"Epitope seeding\": \"2epitopes_seed484_444\", \"True epitope class\": \"1\", \"Fit epitope class\": \"2\", \"Correlation (R^2)\": -0.07919895838689506}, {\"Epitope seeding\": \"2epitopes_seed484_444\", \"True epitope class\": \"2\", \"Fit epitope class\": \"1\", \"Correlation (R^2)\": 0.8331029273272299}, {\"Epitope seeding\": \"2epitopes_seed484_444\", \"True epitope class\": \"2\", \"Fit epitope class\": \"2\", \"Correlation (R^2)\": -0.05838687444866966}, {\"Epitope seeding\": \"2epitopes_seed484_444\", \"True epitope class\": \"3\", \"Fit epitope class\": \"1\", \"Correlation (R^2)\": -0.05680267925273883}, {\"Epitope seeding\": \"2epitopes_seed484_444\", \"True epitope class\": \"3\", \"Fit epitope class\": \"2\", \"Correlation (R^2)\": 0.9317040309748076}, {\"Epitope seeding\": \"3epitopes_seed417_484_444\", \"True epitope class\": \"1\", \"Fit epitope class\": \"1\", \"Correlation (R^2)\": 0.7903875492822057}, {\"Epitope seeding\": \"3epitopes_seed417_484_444\", \"True epitope class\": \"1\", \"Fit epitope class\": \"2\", \"Correlation (R^2)\": 0.06082976043744945}, {\"Epitope seeding\": \"3epitopes_seed417_484_444\", \"True epitope class\": \"1\", \"Fit epitope class\": \"3\", \"Correlation (R^2)\": -0.08890947070044011}, {\"Epitope seeding\": \"3epitopes_seed417_484_444\", \"True epitope class\": \"2\", \"Fit epitope class\": \"1\", \"Correlation (R^2)\": 0.19953126292094775}, {\"Epitope seeding\": \"3epitopes_seed417_484_444\", \"True epitope class\": \"2\", \"Fit epitope class\": \"2\", \"Correlation (R^2)\": 0.9745353554161248}, {\"Epitope seeding\": \"3epitopes_seed417_484_444\", \"True epitope class\": \"2\", \"Fit epitope class\": \"3\", \"Correlation (R^2)\": -0.05789153218602261}, {\"Epitope seeding\": \"3epitopes_seed417_484_444\", \"True epitope class\": \"3\", \"Fit epitope class\": \"1\", \"Correlation (R^2)\": -0.0729574780270961}, {\"Epitope seeding\": \"3epitopes_seed417_484_444\", \"True epitope class\": \"3\", \"Fit epitope class\": \"2\", \"Correlation (R^2)\": -0.05857458437519138}, {\"Epitope seeding\": \"3epitopes_seed417_484_444\", \"True epitope class\": \"3\", \"Fit epitope class\": \"3\", \"Correlation (R^2)\": 0.9686315897159}, {\"Epitope seeding\": \"4epitopes_seed417_484_444_386\", \"True epitope class\": \"1\", \"Fit epitope class\": \"1\", \"Correlation (R^2)\": 0.81115217422517}, {\"Epitope seeding\": \"4epitopes_seed417_484_444_386\", \"True epitope class\": \"1\", \"Fit epitope class\": \"2\", \"Correlation (R^2)\": 0.0605909832863074}, {\"Epitope seeding\": \"4epitopes_seed417_484_444_386\", \"True epitope class\": \"1\", \"Fit epitope class\": \"3\", \"Correlation (R^2)\": -0.09048622257029895}, {\"Epitope seeding\": \"4epitopes_seed417_484_444_386\", \"True epitope class\": \"1\", \"Fit epitope class\": \"4\", \"Correlation (R^2)\": 0.025717684402448034}, {\"Epitope seeding\": \"4epitopes_seed417_484_444_386\", \"True epitope class\": \"2\", \"Fit epitope class\": \"1\", \"Correlation (R^2)\": 0.20392058044236427}, {\"Epitope seeding\": \"4epitopes_seed417_484_444_386\", \"True epitope class\": \"2\", \"Fit epitope class\": \"2\", \"Correlation (R^2)\": 0.9735081429927286}, {\"Epitope seeding\": \"4epitopes_seed417_484_444_386\", \"True epitope class\": \"2\", \"Fit epitope class\": \"3\", \"Correlation (R^2)\": -0.057887712407979505}, {\"Epitope seeding\": \"4epitopes_seed417_484_444_386\", \"True epitope class\": \"2\", \"Fit epitope class\": \"4\", \"Correlation (R^2)\": 0.2833074530213572}, {\"Epitope seeding\": \"4epitopes_seed417_484_444_386\", \"True epitope class\": \"3\", \"Fit epitope class\": \"1\", \"Correlation (R^2)\": -0.0713306605662217}, {\"Epitope seeding\": \"4epitopes_seed417_484_444_386\", \"True epitope class\": \"3\", \"Fit epitope class\": \"2\", \"Correlation (R^2)\": -0.05883050701786486}, {\"Epitope seeding\": \"4epitopes_seed417_484_444_386\", \"True epitope class\": \"3\", \"Fit epitope class\": \"3\", \"Correlation (R^2)\": 0.9689377371924416}, {\"Epitope seeding\": \"4epitopes_seed417_484_444_386\", \"True epitope class\": \"3\", \"Fit epitope class\": \"4\", \"Correlation (R^2)\": 0.09856381126201633}, {\"Epitope seeding\": \"4epitopes_seed417_484_444_460\", \"True epitope class\": \"1\", \"Fit epitope class\": \"1\", \"Correlation (R^2)\": 0.8085034447857993}, {\"Epitope seeding\": \"4epitopes_seed417_484_444_460\", \"True epitope class\": \"1\", \"Fit epitope class\": \"2\", \"Correlation (R^2)\": 0.05828425695909513}, {\"Epitope seeding\": \"4epitopes_seed417_484_444_460\", \"True epitope class\": \"1\", \"Fit epitope class\": \"3\", \"Correlation (R^2)\": -0.09090722827396527}, {\"Epitope seeding\": \"4epitopes_seed417_484_444_460\", \"True epitope class\": \"1\", \"Fit epitope class\": \"4\", \"Correlation (R^2)\": 0.023732359089012597}, {\"Epitope seeding\": \"4epitopes_seed417_484_444_460\", \"True epitope class\": \"2\", \"Fit epitope class\": \"1\", \"Correlation (R^2)\": 0.20748442762134653}, {\"Epitope seeding\": \"4epitopes_seed417_484_444_460\", \"True epitope class\": \"2\", \"Fit epitope class\": \"2\", \"Correlation (R^2)\": 0.9471526883904942}, {\"Epitope seeding\": \"4epitopes_seed417_484_444_460\", \"True epitope class\": \"2\", \"Fit epitope class\": \"3\", \"Correlation (R^2)\": -0.058097471666383856}, {\"Epitope seeding\": \"4epitopes_seed417_484_444_460\", \"True epitope class\": \"2\", \"Fit epitope class\": \"4\", \"Correlation (R^2)\": 0.24987441650354186}, {\"Epitope seeding\": \"4epitopes_seed417_484_444_460\", \"True epitope class\": \"3\", \"Fit epitope class\": \"1\", \"Correlation (R^2)\": -0.0715104282971576}, {\"Epitope seeding\": \"4epitopes_seed417_484_444_460\", \"True epitope class\": \"3\", \"Fit epitope class\": \"2\", \"Correlation (R^2)\": -0.05803957980756185}, {\"Epitope seeding\": \"4epitopes_seed417_484_444_460\", \"True epitope class\": \"3\", \"Fit epitope class\": \"3\", \"Correlation (R^2)\": 0.9662508843107203}, {\"Epitope seeding\": \"4epitopes_seed417_484_444_460\", \"True epitope class\": \"3\", \"Fit epitope class\": \"4\", \"Correlation (R^2)\": 0.07677303236603701}]}}, {\"mode\": \"vega-lite\"});\n",
       "</script>"
      ],
      "text/plain": [
       "alt.FacetChart(...)"
      ]
     },
     "execution_count": 16,
     "metadata": {},
     "output_type": "execute_result"
    }
   ],
   "source": [
    "alt.Chart(plot_data).mark_rect(opacity=0.95, stroke=\"black\",).encode(\n",
    "    x=\"Fit epitope class:O\",\n",
    "    y=\"True epitope class:O\",\n",
    "    color=alt.Color(\"Correlation (R^2):Q\", scale=alt.Scale(scheme=\"viridis\")),\n",
    "    tooltip=[\n",
    "        \"Fit epitope class:O\",\n",
    "        \"True epitope class:O\",\n",
    "        alt.Tooltip(\"Correlation (R^2)\", format=\".3f\"),\n",
    "    ],\n",
    ").properties(width=130, height=100,).facet(\n",
    "    \"Epitope seeding\",\n",
    "    columns=2,\n",
    ")"
   ]
  },
  {
   "cell_type": "markdown",
   "metadata": {},
   "source": [
    "We can also visualize the wildtype activity values, $a_{wt,e}$."
   ]
  },
  {
   "cell_type": "code",
   "execution_count": 17,
   "metadata": {
    "execution": {
     "iopub.execute_input": "2022-11-13T17:00:14.411871Z",
     "iopub.status.busy": "2022-11-13T17:00:14.411631Z",
     "iopub.status.idle": "2022-11-13T17:00:14.599560Z",
     "shell.execute_reply": "2022-11-13T17:00:14.599002Z",
     "shell.execute_reply.started": "2022-11-13T17:00:14.411852Z"
    }
   },
   "outputs": [
    {
     "name": "stdout",
     "output_type": "stream",
     "text": [
      "Epitope seeding: 2epitopes_seed484_444\n"
     ]
    },
    {
     "data": {
      "text/html": [
       "\n",
       "<div id=\"altair-viz-a6edcd1ed03d4328b9aefabfdf14a47f\"></div>\n",
       "<script type=\"text/javascript\">\n",
       "  var VEGA_DEBUG = (typeof VEGA_DEBUG == \"undefined\") ? {} : VEGA_DEBUG;\n",
       "  (function(spec, embedOpt){\n",
       "    let outputDiv = document.currentScript.previousElementSibling;\n",
       "    if (outputDiv.id !== \"altair-viz-a6edcd1ed03d4328b9aefabfdf14a47f\") {\n",
       "      outputDiv = document.getElementById(\"altair-viz-a6edcd1ed03d4328b9aefabfdf14a47f\");\n",
       "    }\n",
       "    const paths = {\n",
       "      \"vega\": \"https://cdn.jsdelivr.net/npm//vega@5?noext\",\n",
       "      \"vega-lib\": \"https://cdn.jsdelivr.net/npm//vega-lib?noext\",\n",
       "      \"vega-lite\": \"https://cdn.jsdelivr.net/npm//vega-lite@5.2.0?noext\",\n",
       "      \"vega-embed\": \"https://cdn.jsdelivr.net/npm//vega-embed@6?noext\",\n",
       "    };\n",
       "\n",
       "    function maybeLoadScript(lib, version) {\n",
       "      var key = `${lib.replace(\"-\", \"\")}_version`;\n",
       "      return (VEGA_DEBUG[key] == version) ?\n",
       "        Promise.resolve(paths[lib]) :\n",
       "        new Promise(function(resolve, reject) {\n",
       "          var s = document.createElement('script');\n",
       "          document.getElementsByTagName(\"head\")[0].appendChild(s);\n",
       "          s.async = true;\n",
       "          s.onload = () => {\n",
       "            VEGA_DEBUG[key] = version;\n",
       "            return resolve(paths[lib]);\n",
       "          };\n",
       "          s.onerror = () => reject(`Error loading script: ${paths[lib]}`);\n",
       "          s.src = paths[lib];\n",
       "        });\n",
       "    }\n",
       "\n",
       "    function showError(err) {\n",
       "      outputDiv.innerHTML = `<div class=\"error\" style=\"color:red;\">${err}</div>`;\n",
       "      throw err;\n",
       "    }\n",
       "\n",
       "    function displayChart(vegaEmbed) {\n",
       "      vegaEmbed(outputDiv, spec, embedOpt)\n",
       "        .catch(err => showError(`Javascript Error: ${err.message}<br>This usually means there's a typo in your chart specification. See the javascript console for the full traceback.`));\n",
       "    }\n",
       "\n",
       "    if(typeof define === \"function\" && define.amd) {\n",
       "      requirejs.config({paths});\n",
       "      require([\"vega-embed\"], displayChart, err => showError(`Error loading script: ${err.message}`));\n",
       "    } else {\n",
       "      maybeLoadScript(\"vega\", \"5\")\n",
       "        .then(() => maybeLoadScript(\"vega-lite\", \"5.2.0\"))\n",
       "        .then(() => maybeLoadScript(\"vega-embed\", \"6\"))\n",
       "        .catch(showError)\n",
       "        .then(() => displayChart(vegaEmbed));\n",
       "    }\n",
       "  })({\"config\": {\"view\": {\"continuousWidth\": 400, \"continuousHeight\": 300}, \"axis\": {\"grid\": false}}, \"data\": {\"name\": \"data-23315a8d26f786150f9671b5f1514309\"}, \"mark\": {\"type\": \"bar\", \"size\": 18.75}, \"encoding\": {\"color\": {\"field\": \"epitope\", \"legend\": null, \"scale\": {\"domain\": [\"1\", \"2\"], \"range\": [\"#0072B2\", \"#009E73\"]}, \"type\": \"nominal\"}, \"tooltip\": [{\"field\": \"epitope\", \"type\": \"nominal\"}, {\"field\": \"activity\", \"format\": \".2f\", \"type\": \"quantitative\"}], \"x\": {\"field\": \"activity\", \"title\": \"activity\", \"type\": \"quantitative\"}, \"y\": {\"field\": \"epitope\", \"sort\": [\"1\", \"2\"], \"type\": \"nominal\"}}, \"height\": {\"step\": 25}, \"width\": 110, \"$schema\": \"https://vega.github.io/schema/vega-lite/v5.2.0.json\", \"datasets\": {\"data-23315a8d26f786150f9671b5f1514309\": [{\"epitope\": \"1\", \"activity\": 4.073916387633656}, {\"epitope\": \"2\", \"activity\": 2.617279148416267}]}}, {\"mode\": \"vega-lite\"});\n",
       "</script>"
      ],
      "text/plain": [
       "alt.Chart(...)"
      ]
     },
     "metadata": {},
     "output_type": "display_data"
    },
    {
     "name": "stdout",
     "output_type": "stream",
     "text": [
      "Epitope seeding: 3epitopes_seed417_484_444\n"
     ]
    },
    {
     "data": {
      "text/html": [
       "\n",
       "<div id=\"altair-viz-a37bcf900fbf4ead82dde4f724b50297\"></div>\n",
       "<script type=\"text/javascript\">\n",
       "  var VEGA_DEBUG = (typeof VEGA_DEBUG == \"undefined\") ? {} : VEGA_DEBUG;\n",
       "  (function(spec, embedOpt){\n",
       "    let outputDiv = document.currentScript.previousElementSibling;\n",
       "    if (outputDiv.id !== \"altair-viz-a37bcf900fbf4ead82dde4f724b50297\") {\n",
       "      outputDiv = document.getElementById(\"altair-viz-a37bcf900fbf4ead82dde4f724b50297\");\n",
       "    }\n",
       "    const paths = {\n",
       "      \"vega\": \"https://cdn.jsdelivr.net/npm//vega@5?noext\",\n",
       "      \"vega-lib\": \"https://cdn.jsdelivr.net/npm//vega-lib?noext\",\n",
       "      \"vega-lite\": \"https://cdn.jsdelivr.net/npm//vega-lite@5.2.0?noext\",\n",
       "      \"vega-embed\": \"https://cdn.jsdelivr.net/npm//vega-embed@6?noext\",\n",
       "    };\n",
       "\n",
       "    function maybeLoadScript(lib, version) {\n",
       "      var key = `${lib.replace(\"-\", \"\")}_version`;\n",
       "      return (VEGA_DEBUG[key] == version) ?\n",
       "        Promise.resolve(paths[lib]) :\n",
       "        new Promise(function(resolve, reject) {\n",
       "          var s = document.createElement('script');\n",
       "          document.getElementsByTagName(\"head\")[0].appendChild(s);\n",
       "          s.async = true;\n",
       "          s.onload = () => {\n",
       "            VEGA_DEBUG[key] = version;\n",
       "            return resolve(paths[lib]);\n",
       "          };\n",
       "          s.onerror = () => reject(`Error loading script: ${paths[lib]}`);\n",
       "          s.src = paths[lib];\n",
       "        });\n",
       "    }\n",
       "\n",
       "    function showError(err) {\n",
       "      outputDiv.innerHTML = `<div class=\"error\" style=\"color:red;\">${err}</div>`;\n",
       "      throw err;\n",
       "    }\n",
       "\n",
       "    function displayChart(vegaEmbed) {\n",
       "      vegaEmbed(outputDiv, spec, embedOpt)\n",
       "        .catch(err => showError(`Javascript Error: ${err.message}<br>This usually means there's a typo in your chart specification. See the javascript console for the full traceback.`));\n",
       "    }\n",
       "\n",
       "    if(typeof define === \"function\" && define.amd) {\n",
       "      requirejs.config({paths});\n",
       "      require([\"vega-embed\"], displayChart, err => showError(`Error loading script: ${err.message}`));\n",
       "    } else {\n",
       "      maybeLoadScript(\"vega\", \"5\")\n",
       "        .then(() => maybeLoadScript(\"vega-lite\", \"5.2.0\"))\n",
       "        .then(() => maybeLoadScript(\"vega-embed\", \"6\"))\n",
       "        .catch(showError)\n",
       "        .then(() => displayChart(vegaEmbed));\n",
       "    }\n",
       "  })({\"config\": {\"view\": {\"continuousWidth\": 400, \"continuousHeight\": 300}, \"axis\": {\"grid\": false}}, \"data\": {\"name\": \"data-c17ca8edc2d6029358e09dbf87966ef4\"}, \"mark\": {\"type\": \"bar\", \"size\": 18.75}, \"encoding\": {\"color\": {\"field\": \"epitope\", \"legend\": null, \"scale\": {\"domain\": [\"1\", \"2\", \"3\"], \"range\": [\"#0072B2\", \"#009E73\", \"#CC79A7\"]}, \"type\": \"nominal\"}, \"tooltip\": [{\"field\": \"epitope\", \"type\": \"nominal\"}, {\"field\": \"activity\", \"format\": \".2f\", \"type\": \"quantitative\"}], \"x\": {\"field\": \"activity\", \"title\": \"activity\", \"type\": \"quantitative\"}, \"y\": {\"field\": \"epitope\", \"sort\": [\"1\", \"2\", \"3\"], \"type\": \"nominal\"}}, \"height\": {\"step\": 25}, \"width\": 110, \"$schema\": \"https://vega.github.io/schema/vega-lite/v5.2.0.json\", \"datasets\": {\"data-c17ca8edc2d6029358e09dbf87966ef4\": [{\"epitope\": \"1\", \"activity\": 1.794815516621941}, {\"epitope\": \"2\", \"activity\": 3.1683056913179564}, {\"epitope\": \"3\", \"activity\": 2.34320341449989}]}}, {\"mode\": \"vega-lite\"});\n",
       "</script>"
      ],
      "text/plain": [
       "alt.Chart(...)"
      ]
     },
     "metadata": {},
     "output_type": "display_data"
    },
    {
     "name": "stdout",
     "output_type": "stream",
     "text": [
      "Epitope seeding: 4epitopes_seed417_484_444_386\n"
     ]
    },
    {
     "data": {
      "text/html": [
       "\n",
       "<div id=\"altair-viz-4b49564be0714c62afcbef8cf70dcd06\"></div>\n",
       "<script type=\"text/javascript\">\n",
       "  var VEGA_DEBUG = (typeof VEGA_DEBUG == \"undefined\") ? {} : VEGA_DEBUG;\n",
       "  (function(spec, embedOpt){\n",
       "    let outputDiv = document.currentScript.previousElementSibling;\n",
       "    if (outputDiv.id !== \"altair-viz-4b49564be0714c62afcbef8cf70dcd06\") {\n",
       "      outputDiv = document.getElementById(\"altair-viz-4b49564be0714c62afcbef8cf70dcd06\");\n",
       "    }\n",
       "    const paths = {\n",
       "      \"vega\": \"https://cdn.jsdelivr.net/npm//vega@5?noext\",\n",
       "      \"vega-lib\": \"https://cdn.jsdelivr.net/npm//vega-lib?noext\",\n",
       "      \"vega-lite\": \"https://cdn.jsdelivr.net/npm//vega-lite@5.2.0?noext\",\n",
       "      \"vega-embed\": \"https://cdn.jsdelivr.net/npm//vega-embed@6?noext\",\n",
       "    };\n",
       "\n",
       "    function maybeLoadScript(lib, version) {\n",
       "      var key = `${lib.replace(\"-\", \"\")}_version`;\n",
       "      return (VEGA_DEBUG[key] == version) ?\n",
       "        Promise.resolve(paths[lib]) :\n",
       "        new Promise(function(resolve, reject) {\n",
       "          var s = document.createElement('script');\n",
       "          document.getElementsByTagName(\"head\")[0].appendChild(s);\n",
       "          s.async = true;\n",
       "          s.onload = () => {\n",
       "            VEGA_DEBUG[key] = version;\n",
       "            return resolve(paths[lib]);\n",
       "          };\n",
       "          s.onerror = () => reject(`Error loading script: ${paths[lib]}`);\n",
       "          s.src = paths[lib];\n",
       "        });\n",
       "    }\n",
       "\n",
       "    function showError(err) {\n",
       "      outputDiv.innerHTML = `<div class=\"error\" style=\"color:red;\">${err}</div>`;\n",
       "      throw err;\n",
       "    }\n",
       "\n",
       "    function displayChart(vegaEmbed) {\n",
       "      vegaEmbed(outputDiv, spec, embedOpt)\n",
       "        .catch(err => showError(`Javascript Error: ${err.message}<br>This usually means there's a typo in your chart specification. See the javascript console for the full traceback.`));\n",
       "    }\n",
       "\n",
       "    if(typeof define === \"function\" && define.amd) {\n",
       "      requirejs.config({paths});\n",
       "      require([\"vega-embed\"], displayChart, err => showError(`Error loading script: ${err.message}`));\n",
       "    } else {\n",
       "      maybeLoadScript(\"vega\", \"5\")\n",
       "        .then(() => maybeLoadScript(\"vega-lite\", \"5.2.0\"))\n",
       "        .then(() => maybeLoadScript(\"vega-embed\", \"6\"))\n",
       "        .catch(showError)\n",
       "        .then(() => displayChart(vegaEmbed));\n",
       "    }\n",
       "  })({\"config\": {\"view\": {\"continuousWidth\": 400, \"continuousHeight\": 300}, \"axis\": {\"grid\": false}}, \"data\": {\"name\": \"data-824c783b427b1eacf88fe0fcc92a849d\"}, \"mark\": {\"type\": \"bar\", \"size\": 18.75}, \"encoding\": {\"color\": {\"field\": \"epitope\", \"legend\": null, \"scale\": {\"domain\": [\"1\", \"2\", \"3\", \"4\"], \"range\": [\"#0072B2\", \"#009E73\", \"#CC79A7\", \"#56B4E9\"]}, \"type\": \"nominal\"}, \"tooltip\": [{\"field\": \"epitope\", \"type\": \"nominal\"}, {\"field\": \"activity\", \"format\": \".2f\", \"type\": \"quantitative\"}], \"x\": {\"field\": \"activity\", \"title\": \"activity\", \"type\": \"quantitative\"}, \"y\": {\"field\": \"epitope\", \"sort\": [\"1\", \"2\", \"3\", \"4\"], \"type\": \"nominal\"}}, \"height\": {\"step\": 25}, \"width\": 110, \"$schema\": \"https://vega.github.io/schema/vega-lite/v5.2.0.json\", \"datasets\": {\"data-824c783b427b1eacf88fe0fcc92a849d\": [{\"epitope\": \"1\", \"activity\": 1.84167770253583}, {\"epitope\": \"2\", \"activity\": 3.1522670446303374}, {\"epitope\": \"3\", \"activity\": 2.3412090367137375}, {\"epitope\": \"4\", \"activity\": -4.177652040505196}]}}, {\"mode\": \"vega-lite\"});\n",
       "</script>"
      ],
      "text/plain": [
       "alt.Chart(...)"
      ]
     },
     "metadata": {},
     "output_type": "display_data"
    },
    {
     "name": "stdout",
     "output_type": "stream",
     "text": [
      "Epitope seeding: 4epitopes_seed417_484_444_460\n"
     ]
    },
    {
     "data": {
      "text/html": [
       "\n",
       "<div id=\"altair-viz-06a91b4c96994d949b5f46efc3274c1b\"></div>\n",
       "<script type=\"text/javascript\">\n",
       "  var VEGA_DEBUG = (typeof VEGA_DEBUG == \"undefined\") ? {} : VEGA_DEBUG;\n",
       "  (function(spec, embedOpt){\n",
       "    let outputDiv = document.currentScript.previousElementSibling;\n",
       "    if (outputDiv.id !== \"altair-viz-06a91b4c96994d949b5f46efc3274c1b\") {\n",
       "      outputDiv = document.getElementById(\"altair-viz-06a91b4c96994d949b5f46efc3274c1b\");\n",
       "    }\n",
       "    const paths = {\n",
       "      \"vega\": \"https://cdn.jsdelivr.net/npm//vega@5?noext\",\n",
       "      \"vega-lib\": \"https://cdn.jsdelivr.net/npm//vega-lib?noext\",\n",
       "      \"vega-lite\": \"https://cdn.jsdelivr.net/npm//vega-lite@5.2.0?noext\",\n",
       "      \"vega-embed\": \"https://cdn.jsdelivr.net/npm//vega-embed@6?noext\",\n",
       "    };\n",
       "\n",
       "    function maybeLoadScript(lib, version) {\n",
       "      var key = `${lib.replace(\"-\", \"\")}_version`;\n",
       "      return (VEGA_DEBUG[key] == version) ?\n",
       "        Promise.resolve(paths[lib]) :\n",
       "        new Promise(function(resolve, reject) {\n",
       "          var s = document.createElement('script');\n",
       "          document.getElementsByTagName(\"head\")[0].appendChild(s);\n",
       "          s.async = true;\n",
       "          s.onload = () => {\n",
       "            VEGA_DEBUG[key] = version;\n",
       "            return resolve(paths[lib]);\n",
       "          };\n",
       "          s.onerror = () => reject(`Error loading script: ${paths[lib]}`);\n",
       "          s.src = paths[lib];\n",
       "        });\n",
       "    }\n",
       "\n",
       "    function showError(err) {\n",
       "      outputDiv.innerHTML = `<div class=\"error\" style=\"color:red;\">${err}</div>`;\n",
       "      throw err;\n",
       "    }\n",
       "\n",
       "    function displayChart(vegaEmbed) {\n",
       "      vegaEmbed(outputDiv, spec, embedOpt)\n",
       "        .catch(err => showError(`Javascript Error: ${err.message}<br>This usually means there's a typo in your chart specification. See the javascript console for the full traceback.`));\n",
       "    }\n",
       "\n",
       "    if(typeof define === \"function\" && define.amd) {\n",
       "      requirejs.config({paths});\n",
       "      require([\"vega-embed\"], displayChart, err => showError(`Error loading script: ${err.message}`));\n",
       "    } else {\n",
       "      maybeLoadScript(\"vega\", \"5\")\n",
       "        .then(() => maybeLoadScript(\"vega-lite\", \"5.2.0\"))\n",
       "        .then(() => maybeLoadScript(\"vega-embed\", \"6\"))\n",
       "        .catch(showError)\n",
       "        .then(() => displayChart(vegaEmbed));\n",
       "    }\n",
       "  })({\"config\": {\"view\": {\"continuousWidth\": 400, \"continuousHeight\": 300}, \"axis\": {\"grid\": false}}, \"data\": {\"name\": \"data-beb7593959a3287244b1f74c3e6bbfac\"}, \"mark\": {\"type\": \"bar\", \"size\": 18.75}, \"encoding\": {\"color\": {\"field\": \"epitope\", \"legend\": null, \"scale\": {\"domain\": [\"1\", \"2\", \"3\", \"4\"], \"range\": [\"#0072B2\", \"#009E73\", \"#CC79A7\", \"#56B4E9\"]}, \"type\": \"nominal\"}, \"tooltip\": [{\"field\": \"epitope\", \"type\": \"nominal\"}, {\"field\": \"activity\", \"format\": \".2f\", \"type\": \"quantitative\"}], \"x\": {\"field\": \"activity\", \"title\": \"activity\", \"type\": \"quantitative\"}, \"y\": {\"field\": \"epitope\", \"sort\": [\"1\", \"2\", \"3\", \"4\"], \"type\": \"nominal\"}}, \"height\": {\"step\": 25}, \"width\": 110, \"$schema\": \"https://vega.github.io/schema/vega-lite/v5.2.0.json\", \"datasets\": {\"data-beb7593959a3287244b1f74c3e6bbfac\": [{\"epitope\": \"1\", \"activity\": 1.8564744476965511}, {\"epitope\": \"2\", \"activity\": 3.149552645367495}, {\"epitope\": \"3\", \"activity\": 2.3394524556341634}, {\"epitope\": \"4\", \"activity\": -4.200335461430708}]}}, {\"mode\": \"vega-lite\"});\n",
       "</script>"
      ],
      "text/plain": [
       "alt.Chart(...)"
      ]
     },
     "metadata": {},
     "output_type": "display_data"
    }
   ],
   "source": [
    "for st in [\n",
    "    \"2epitopes_seed484_444\",\n",
    "    \"3epitopes_seed417_484_444\",\n",
    "    \"4epitopes_seed417_484_444_386\",\n",
    "    \"4epitopes_seed417_484_444_460\",\n",
    "]:\n",
    "    model = fit_mut_escape[f\"noisy_[0.25, 1, 4]conc_3muts_{st}\"]\n",
    "    print(f\"Epitope seeding: {st}\")\n",
    "    display(model.activity_wt_barplot())"
   ]
  },
  {
   "cell_type": "markdown",
   "metadata": {},
   "source": [
    "These results look similar to the ones obtained without seeding sites above. But importantly, we can see that the models are not negatively impacted by seeding sites that are not within a targeted epitope or within the same epitope as an already seeded  site. Although not seen on this simulated dataset, keep in mind that seeding sites could be helpful and lead to better results if the library mutation rate is low."
   ]
  },
  {
   "cell_type": "markdown",
   "metadata": {},
   "source": [
    "Additionally, we can look at the correlation between “true” and predicted IC90’s for each of these fit models."
   ]
  },
  {
   "cell_type": "code",
   "execution_count": 18,
   "metadata": {
    "execution": {
     "iopub.execute_input": "2022-11-13T17:00:14.600659Z",
     "iopub.status.busy": "2022-11-13T17:00:14.600403Z",
     "iopub.status.idle": "2022-11-13T17:00:39.309205Z",
     "shell.execute_reply": "2022-11-13T17:00:39.308616Z",
     "shell.execute_reply.started": "2022-11-13T17:00:14.600637Z"
    }
   },
   "outputs": [],
   "source": [
    "ic90_corrs = pd.DataFrame()\n",
    "ic90_data = pd.DataFrame()\n",
    "\n",
    "max_ic90 = 50\n",
    "for st in [\n",
    "    \"2epitopes_seed484_444\",\n",
    "    \"3epitopes_seed417_484_444\",\n",
    "    \"4epitopes_seed417_484_444_386\",\n",
    "    \"4epitopes_seed417_484_444_460\",\n",
    "]:\n",
    "    model = fit_mut_escape[f\"noisy_[0.25, 1, 4]conc_3muts_{st}\"]\n",
    "\n",
    "    ic90s = (\n",
    "        exact_data[[\"aa_substitutions\", \"IC90\"]]\n",
    "        .assign(IC90=lambda x: x[\"IC90\"].clip(upper=max_ic90))\n",
    "        .drop_duplicates()\n",
    "    )\n",
    "    ic90s = model.filter_variants_by_seen_muts(ic90s)\n",
    "    ic90s = model.icXX(ic90s, x=0.9, col=\"predicted_IC90\", max_c=max_ic90)\n",
    "\n",
    "    ic90s = ic90s.assign(\n",
    "        log_IC90=lambda x: np.log10(x[\"IC90\"]),\n",
    "        predicted_log_IC90=lambda x: np.log10(x[\"predicted_IC90\"]),\n",
    "    )\n",
    "\n",
    "    corr = ic90s[\"log_IC90\"].corr(ic90s[\"predicted_log_IC90\"]) ** 2\n",
    "\n",
    "    ic90_corrs = pd.concat(\n",
    "        [\n",
    "            ic90_corrs,\n",
    "            pd.DataFrame(\n",
    "                {\n",
    "                    \"epitope_seeding\": [st],\n",
    "                    \"Correlation (R^2)\": \"{:.3f}\".format(corr),\n",
    "                }\n",
    "            ),\n",
    "        ]\n",
    "    ).reset_index(drop=True)\n",
    "\n",
    "    ic90_data = pd.concat(\n",
    "        [\n",
    "            ic90_data,\n",
    "            (\n",
    "                ic90s[[\"log_IC90\", \"predicted_log_IC90\"]].assign(\n",
    "                    **{\"epitope_seeding\": st}\n",
    "                )\n",
    "            ),\n",
    "        ]\n",
    "    ).reset_index(drop=True)"
   ]
  },
  {
   "cell_type": "code",
   "execution_count": 19,
   "metadata": {
    "execution": {
     "iopub.execute_input": "2022-11-13T17:00:39.310603Z",
     "iopub.status.busy": "2022-11-13T17:00:39.310139Z",
     "iopub.status.idle": "2022-11-13T17:00:39.316169Z",
     "shell.execute_reply": "2022-11-13T17:00:39.315650Z",
     "shell.execute_reply.started": "2022-11-13T17:00:39.310583Z"
    }
   },
   "outputs": [
    {
     "data": {
      "text/html": [
       "<div>\n",
       "<style scoped>\n",
       "    .dataframe tbody tr th:only-of-type {\n",
       "        vertical-align: middle;\n",
       "    }\n",
       "\n",
       "    .dataframe tbody tr th {\n",
       "        vertical-align: top;\n",
       "    }\n",
       "\n",
       "    .dataframe thead th {\n",
       "        text-align: right;\n",
       "    }\n",
       "</style>\n",
       "<table border=\"1\" class=\"dataframe\">\n",
       "  <thead>\n",
       "    <tr style=\"text-align: right;\">\n",
       "      <th></th>\n",
       "      <th>epitope_seeding</th>\n",
       "      <th>Correlation (R^2)</th>\n",
       "    </tr>\n",
       "  </thead>\n",
       "  <tbody>\n",
       "    <tr>\n",
       "      <th>0</th>\n",
       "      <td>2epitopes_seed484_444</td>\n",
       "      <td>0.799</td>\n",
       "    </tr>\n",
       "    <tr>\n",
       "      <th>1</th>\n",
       "      <td>3epitopes_seed417_484_444</td>\n",
       "      <td>0.965</td>\n",
       "    </tr>\n",
       "    <tr>\n",
       "      <th>2</th>\n",
       "      <td>4epitopes_seed417_484_444_386</td>\n",
       "      <td>0.966</td>\n",
       "    </tr>\n",
       "    <tr>\n",
       "      <th>3</th>\n",
       "      <td>4epitopes_seed417_484_444_460</td>\n",
       "      <td>0.899</td>\n",
       "    </tr>\n",
       "  </tbody>\n",
       "</table>\n",
       "</div>"
      ],
      "text/plain": [
       "                 epitope_seeding Correlation (R^2)\n",
       "0          2epitopes_seed484_444             0.799\n",
       "1      3epitopes_seed417_484_444             0.965\n",
       "2  4epitopes_seed417_484_444_386             0.966\n",
       "3  4epitopes_seed417_484_444_460             0.899"
      ]
     },
     "execution_count": 19,
     "metadata": {},
     "output_type": "execute_result"
    }
   ],
   "source": [
    "ic90_corrs"
   ]
  },
  {
   "cell_type": "code",
   "execution_count": 20,
   "metadata": {
    "execution": {
     "iopub.execute_input": "2022-11-13T17:00:39.317194Z",
     "iopub.status.busy": "2022-11-13T17:00:39.316928Z",
     "iopub.status.idle": "2022-11-13T17:00:43.406401Z",
     "shell.execute_reply": "2022-11-13T17:00:43.405840Z",
     "shell.execute_reply.started": "2022-11-13T17:00:39.317173Z"
    },
    "tags": []
   },
   "outputs": [
    {
     "name": "stderr",
     "output_type": "stream",
     "text": [
      "/fh/fast/bloom_j/software/miniconda3/envs/BloomLab/lib/python3.8/site-packages/plotnine/utils.py:371: FutureWarning: The frame.append method is deprecated and will be removed from pandas in a future version. Use pandas.concat instead.\n"
     ]
    },
    {
     "data": {
      "image/png": "[encoded data removed]",
      "text/plain": [
       "<Figure size 600x550 with 4 Axes>"
      ]
     },
     "metadata": {},
     "output_type": "display_data"
    }
   ],
   "source": [
    "_ = (\n",
    "    ggplot(ic90_data, aes(x=\"predicted_log_IC90\", y=\"log_IC90\"))\n",
    "    + geom_point(alpha=0.05, size=1)\n",
    "    + facet_wrap(\"epitope_seeding\", ncol=2)\n",
    "    + theme_classic()\n",
    "    + theme(figure_size=(6, 5.5))\n",
    ").draw()"
   ]
  },
  {
   "cell_type": "markdown",
   "metadata": {},
   "source": [
    "## Summary\n",
    "\n",
    "These simulation experiments provide a general guideline for specifying epitopes. When fitting `Polyclonal` models, one can start with 2 epitopes and iteratively fit models with increasing number of epitopes. At some point, the newly seeded $N$-th epitope will become redundant, as evidenced by a strongly negative wildtype activity value, $a_{wt,e}$. This is indication to the user that the previous fit model, containing $N - 1$ epitopes, is the one that best captures the data and polyclonal mix."
   ]
  }
 ],
 "metadata": {
  "kernelspec": {
   "display_name": "Python 3 (ipykernel)",
   "language": "python",
   "name": "python3"
  },
  "language_info": {
   "codemirror_mode": {
    "name": "ipython",
    "version": 3
   },
   "file_extension": ".py",
   "mimetype": "text/x-python",
   "name": "python",
   "nbconvert_exporter": "python",
   "pygments_lexer": "ipython3",
   "version": "3.8.12"
  }
 },
 "nbformat": 4,
 "nbformat_minor": 4
}
