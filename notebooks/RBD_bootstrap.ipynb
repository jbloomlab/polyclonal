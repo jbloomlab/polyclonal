{
 "cells": [
  {
   "cell_type": "markdown",
   "id": "c36de04a-7941-4b08-894f-1544f56eba13",
   "metadata": {},
   "source": [
    "# Bootstrapping model fits\n",
    "The previous section describes fitting a single model.\n",
    "But we may also want to have confidence estimates for the fit.\n",
    "We can do that via bootstrapping the data set.\n",
    "\n",
    "The overall recommended workflow is to first fit models to all the data to determine the number of epitopes, etc.\n",
    "Then once the desired fitting parameters are determined, you can bootstrap to get confidence on predictions.\n",
    "\n",
    "Here we illustrate bootstrapping on the simulated RBD data using the noisy data with an average of 2 mutations per gene."
   ]
  },
  {
   "cell_type": "markdown",
   "id": "d2dcddd6-723e-4fac-8e6f-bc57b7c0d955",
   "metadata": {},
   "source": [
    "## Get a model fit to all the data\n",
    "The first step is just to fit a `Polyclonal` model to all the data.\n",
    "We just did that in the previous notebook for our RBD example and saved the model using [pickle](https://docs.python.org/3/library/pickle.html), so here we just read in that model rather than re-fitting.\n",
    "We will call this the \"root\" model as it's used as the starting point (root) for the subsequent bootstrapping.\n",
    "Note that data (which we will bootstrap) are attached to this pre-fit model:"
   ]
  },
  {
   "cell_type": "code",
   "execution_count": 1,
   "id": "e243e290-8060-453d-ac3f-cb071681a22b",
   "metadata": {
    "execution": {
     "iopub.execute_input": "2022-03-14T20:53:01.765431Z",
     "iopub.status.busy": "2022-03-14T20:53:01.764905Z",
     "iopub.status.idle": "2022-03-14T20:53:03.681903Z",
     "shell.execute_reply": "2022-03-14T20:53:03.681432Z",
     "shell.execute_reply.started": "2022-03-14T20:53:01.765355Z"
    },
    "tags": []
   },
   "outputs": [
    {
     "data": {
      "text/html": [
       "<div>\n",
       "<style scoped>\n",
       "    .dataframe tbody tr th:only-of-type {\n",
       "        vertical-align: middle;\n",
       "    }\n",
       "\n",
       "    .dataframe tbody tr th {\n",
       "        vertical-align: top;\n",
       "    }\n",
       "\n",
       "    .dataframe thead th {\n",
       "        text-align: right;\n",
       "    }\n",
       "</style>\n",
       "<table border=\"1\" class=\"dataframe\">\n",
       "  <thead>\n",
       "    <tr style=\"text-align: right;\">\n",
       "      <th></th>\n",
       "      <th>library</th>\n",
       "      <th>aa_substitutions</th>\n",
       "      <th>concentration</th>\n",
       "      <th>prob_escape</th>\n",
       "      <th>IC90</th>\n",
       "    </tr>\n",
       "  </thead>\n",
       "  <tbody>\n",
       "    <tr>\n",
       "      <th>0</th>\n",
       "      <td>avg2muts</td>\n",
       "      <td></td>\n",
       "      <td>0.25</td>\n",
       "      <td>0.05044</td>\n",
       "      <td>0.1128</td>\n",
       "    </tr>\n",
       "    <tr>\n",
       "      <th>1</th>\n",
       "      <td>avg2muts</td>\n",
       "      <td></td>\n",
       "      <td>0.25</td>\n",
       "      <td>0.14310</td>\n",
       "      <td>0.1128</td>\n",
       "    </tr>\n",
       "    <tr>\n",
       "      <th>2</th>\n",
       "      <td>avg2muts</td>\n",
       "      <td></td>\n",
       "      <td>0.25</td>\n",
       "      <td>0.05452</td>\n",
       "      <td>0.1128</td>\n",
       "    </tr>\n",
       "    <tr>\n",
       "      <th>3</th>\n",
       "      <td>avg2muts</td>\n",
       "      <td></td>\n",
       "      <td>0.25</td>\n",
       "      <td>0.08473</td>\n",
       "      <td>0.1128</td>\n",
       "    </tr>\n",
       "    <tr>\n",
       "      <th>4</th>\n",
       "      <td>avg2muts</td>\n",
       "      <td></td>\n",
       "      <td>0.25</td>\n",
       "      <td>0.04174</td>\n",
       "      <td>0.1128</td>\n",
       "    </tr>\n",
       "    <tr>\n",
       "      <th>...</th>\n",
       "      <td>...</td>\n",
       "      <td>...</td>\n",
       "      <td>...</td>\n",
       "      <td>...</td>\n",
       "      <td>...</td>\n",
       "    </tr>\n",
       "    <tr>\n",
       "      <th>89995</th>\n",
       "      <td>avg2muts</td>\n",
       "      <td>Y508V</td>\n",
       "      <td>4.00</td>\n",
       "      <td>0.00000</td>\n",
       "      <td>0.2531</td>\n",
       "    </tr>\n",
       "    <tr>\n",
       "      <th>89996</th>\n",
       "      <td>avg2muts</td>\n",
       "      <td>Y508V A520L</td>\n",
       "      <td>4.00</td>\n",
       "      <td>0.03180</td>\n",
       "      <td>0.4688</td>\n",
       "    </tr>\n",
       "    <tr>\n",
       "      <th>89997</th>\n",
       "      <td>avg2muts</td>\n",
       "      <td>Y508V H519N</td>\n",
       "      <td>4.00</td>\n",
       "      <td>0.10630</td>\n",
       "      <td>0.5528</td>\n",
       "    </tr>\n",
       "    <tr>\n",
       "      <th>89998</th>\n",
       "      <td>avg2muts</td>\n",
       "      <td>Y508W</td>\n",
       "      <td>4.00</td>\n",
       "      <td>0.03754</td>\n",
       "      <td>0.2285</td>\n",
       "    </tr>\n",
       "    <tr>\n",
       "      <th>89999</th>\n",
       "      <td>avg2muts</td>\n",
       "      <td>Y508W</td>\n",
       "      <td>4.00</td>\n",
       "      <td>0.04641</td>\n",
       "      <td>0.2285</td>\n",
       "    </tr>\n",
       "  </tbody>\n",
       "</table>\n",
       "<p>90000 rows × 5 columns</p>\n",
       "</div>"
      ],
      "text/plain": [
       "        library aa_substitutions  concentration  prob_escape    IC90\n",
       "0      avg2muts                            0.25      0.05044  0.1128\n",
       "1      avg2muts                            0.25      0.14310  0.1128\n",
       "2      avg2muts                            0.25      0.05452  0.1128\n",
       "3      avg2muts                            0.25      0.08473  0.1128\n",
       "4      avg2muts                            0.25      0.04174  0.1128\n",
       "...         ...              ...            ...          ...     ...\n",
       "89995  avg2muts            Y508V           4.00      0.00000  0.2531\n",
       "89996  avg2muts      Y508V A520L           4.00      0.03180  0.4688\n",
       "89997  avg2muts      Y508V H519N           4.00      0.10630  0.5528\n",
       "89998  avg2muts            Y508W           4.00      0.03754  0.2285\n",
       "89999  avg2muts            Y508W           4.00      0.04641  0.2285\n",
       "\n",
       "[90000 rows x 5 columns]"
      ]
     },
     "execution_count": 1,
     "metadata": {},
     "output_type": "execute_result"
    }
   ],
   "source": [
    "# NBVAL_IGNORE_OUTPUT\n",
    "\n",
    "import pickle\n",
    "\n",
    "with open(\"fit_RBD_model.pickle\", \"rb\") as f:\n",
    "    root_poly = pickle.load(f)\n",
    "\n",
    "root_poly.data_to_fit"
   ]
  },
  {
   "cell_type": "markdown",
   "id": "5f1f752f-8846-4fb5-8c75-3767024cf241",
   "metadata": {},
   "source": [
    "## Create and fit bootstrapped models\n",
    "To create the bootstrapped models, we initialize a `PolyclonalCollection`, here just using 5 samples for speed (for good error estimates you may want more on the order of 20 to 100).\n",
    "Note it is important that the root model you are using has already been fit to the data!"
   ]
  },
  {
   "cell_type": "code",
   "execution_count": 2,
   "id": "4388c779-0811-426e-a095-8e7d1a08eff2",
   "metadata": {
    "execution": {
     "iopub.execute_input": "2022-03-14T20:53:08.003470Z",
     "iopub.status.busy": "2022-03-14T20:53:08.002875Z",
     "iopub.status.idle": "2022-03-14T20:53:09.620908Z",
     "shell.execute_reply": "2022-03-14T20:53:09.619454Z",
     "shell.execute_reply.started": "2022-03-14T20:53:08.003421Z"
    },
    "tags": []
   },
   "outputs": [],
   "source": [
    "import polyclonal\n",
    "\n",
    "n_bootstrap_samples = 5\n",
    "\n",
    "bootstrap_poly = polyclonal.PolyclonalCollection(\n",
    "    root_polyclonal=root_poly,\n",
    "    n_bootstrap_samples=n_bootstrap_samples,\n",
    ")"
   ]
  },
  {
   "cell_type": "markdown",
   "id": "6d739e13-74b8-4b53-a066-235db92a51bb",
   "metadata": {},
   "source": [
    "Now fit the models:"
   ]
  },
  {
   "cell_type": "code",
   "execution_count": 3,
   "id": "088aa0ad-29cf-414d-9192-34aaffcaf115",
   "metadata": {
    "execution": {
     "iopub.execute_input": "2022-03-14T20:53:12.699848Z",
     "iopub.status.busy": "2022-03-14T20:53:12.699414Z",
     "iopub.status.idle": "2022-03-14T20:54:53.443537Z",
     "shell.execute_reply": "2022-03-14T20:54:53.442479Z",
     "shell.execute_reply.started": "2022-03-14T20:53:12.699808Z"
    },
    "tags": []
   },
   "outputs": [
    {
     "name": "stdout",
     "output_type": "stream",
     "text": [
      "Starting fitting bootstrap models at Mon Mar 14 13:53:12 2022\n",
      "Fitting took 1e+02 seconds, finished at Mon Mar 14 13:54:53 2022\n"
     ]
    }
   ],
   "source": [
    "# NBVAL_IGNORE_OUTPUT\n",
    "\n",
    "import time\n",
    "\n",
    "start = time.time()\n",
    "print(f\"Starting fitting bootstrap models at {time.asctime()}\")\n",
    "n_fit, n_failed = bootstrap_poly.fit_models()\n",
    "print(f\"Fitting took {time.time() - start:.3g} seconds, finished at {time.asctime()}\")\n",
    "assert n_failed == 0 and n_fit == n_bootstrap_samples"
   ]
  }
 ],
 "metadata": {
  "kernelspec": {
   "display_name": "Python 3 (ipykernel)",
   "language": "python",
   "name": "python3"
  },
  "language_info": {
   "codemirror_mode": {
    "name": "ipython",
    "version": 3
   },
   "file_extension": ".py",
   "mimetype": "text/x-python",
   "name": "python",
   "nbconvert_exporter": "python",
   "pygments_lexer": "ipython3",
   "version": "3.8.12"
  }
 },
 "nbformat": 4,
 "nbformat_minor": 5
}
