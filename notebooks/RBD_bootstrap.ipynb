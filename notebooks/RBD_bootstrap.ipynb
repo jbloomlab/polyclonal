{
 "cells": [
  {
   "cell_type": "markdown",
   "id": "c36de04a-7941-4b08-894f-1544f56eba13",
   "metadata": {},
   "source": [
    "# Bootstrapping model fits\n",
    "The previous section describes fitting a single model.\n",
    "But we may also want to have confidence estimates for the fit.\n",
    "We can do that via bootstrapping the data set.\n",
    "\n",
    "The overall recommended workflow is to first fit models to all the data to determine the number of epitopes, etc.\n",
    "Then once the desired fitting parameters are determined, you can bootstrap to get confidence on predictions."
   ]
  },
  {
   "cell_type": "markdown",
   "id": "d2dcddd6-723e-4fac-8e6f-bc57b7c0d955",
   "metadata": {},
   "source": [
    "## Get model fit to the data\n",
    "The first step is just to fit a `Polyclonal` model to all the data we are using.\n",
    "We do similar to the previous notebook for our RBD example, but first shrink the size of the data set to just 7500 variants to provide more \"error\" to better illustrate the bootstrapping.\n",
    "\n",
    "We will call this model fit to all the data we are using the \"root\" model as it's used as the starting point (root) for the subsequent bootstrapping.\n",
    "Note that data (which we will bootstrap) are attached to this pre-fit model:"
   ]
  },
  {
   "cell_type": "code",
   "execution_count": null,
   "id": "e243e290-8060-453d-ac3f-cb071681a22b",
   "metadata": {
    "tags": []
   },
   "outputs": [],
   "source": [
    "# NBVAL_IGNORE_OUTPUT\n",
    "\n",
    "import pandas as pd\n",
    "\n",
    "import polyclonal\n",
    "\n",
    "# read the data, and just make \"barcode\" the numerical rank of the variants\n",
    "noisy_data = (\n",
    "    pd.read_csv(\"RBD_variants_escape_noisy.csv\", na_filter=None)\n",
    "    .query('library == \"avg3muts\"')\n",
    "    .query(\"concentration in [0.25, 1, 4]\")\n",
    "    .sort_values([\"concentration\", \"aa_substitutions\"])\n",
    "    .reset_index(drop=True)\n",
    "    .assign(barcode=lambda x: x.groupby(\"concentration\").cumcount())\n",
    ")\n",
    "\n",
    "# just keep some variants to make fitting \"noisier\"\n",
    "n_keep = 7500\n",
    "barcodes_to_keep = (\n",
    "    noisy_data[\"barcode\"]\n",
    "    .drop_duplicates()\n",
    "    .sample(n_keep, random_state=1).tolist()\n",
    ")\n",
    "noisy_data = noisy_data.query(\"barcode in @barcodes_to_keep\")\n",
    "\n",
    "# make and fit the root Polyclonal object with all the data we are using\n",
    "root_poly = polyclonal.Polyclonal(\n",
    "    data_to_fit=noisy_data,\n",
    "    activity_wt_df=pd.DataFrame.from_records(\n",
    "        [\n",
    "            (\"1\", 1.0),\n",
    "            (\"2\", 3.0),\n",
    "            (\"3\", 2.0),\n",
    "        ],\n",
    "        columns=[\"epitope\", \"activity\"],\n",
    "    ),\n",
    "    site_escape_df=pd.DataFrame.from_records(\n",
    "        [\n",
    "            (\"1\", 417, 10.0),\n",
    "            (\"2\", 484, 10.0),\n",
    "            (\"3\", 444, 10.0),\n",
    "        ],\n",
    "        columns=[\"epitope\", \"site\", \"escape\"],\n",
    "    ),\n",
    "    data_mut_escape_overlap=\"fill_to_data\",\n",
    ")\n",
    "\n",
    "opt_res = root_poly.fit(logfreq=100)"
   ]
  },
  {
   "cell_type": "markdown",
   "id": "5f1f752f-8846-4fb5-8c75-3767024cf241",
   "metadata": {},
   "source": [
    "## Create and fit bootstrapped models\n",
    "To create the bootstrapped models, we initialize a `PolyclonalCollection`, here just using 10 samples for speed (for better error estimates you may want more on the order of 20 to 100).\n",
    "Note it is important that the root model you are using has already been fit to the data!"
   ]
  },
  {
   "cell_type": "code",
   "execution_count": null,
   "id": "4388c779-0811-426e-a095-8e7d1a08eff2",
   "metadata": {
    "tags": []
   },
   "outputs": [],
   "source": [
    "n_bootstrap_samples = 10\n",
    "\n",
    "bootstrap_poly = polyclonal.PolyclonalCollection(\n",
    "    root_polyclonal=root_poly,\n",
    "    n_bootstrap_samples=n_bootstrap_samples,\n",
    ")"
   ]
  },
  {
   "cell_type": "markdown",
   "id": "6d739e13-74b8-4b53-a066-235db92a51bb",
   "metadata": {},
   "source": [
    "Now fit the bootstrapped models:"
   ]
  },
  {
   "cell_type": "code",
   "execution_count": null,
   "id": "20106292-5c29-4f25-b72b-24419cc8fed7",
   "metadata": {
    "tags": []
   },
   "outputs": [],
   "source": [
    "# NBVAL_IGNORE_OUTPUT\n",
    "\n",
    "import time\n",
    "\n",
    "start = time.time()\n",
    "print(f\"Starting fitting bootstrap models at {time.asctime()}\")\n",
    "n_fit, n_failed = bootstrap_poly.fit_models()\n",
    "print(f\"Fitting took {time.time() - start:.3g} seconds, finished at {time.asctime()}\")\n",
    "assert n_failed == 0 and n_fit == n_bootstrap_samples"
   ]
  },
  {
   "cell_type": "code",
   "execution_count": null,
   "id": "b77c5a45-097e-4210-b2d2-e1023b92e054",
   "metadata": {
    "tags": []
   },
   "outputs": [],
   "source": [
    "# temp cell when we don't want to re-run above\n",
    "\n",
    "import pickle\n",
    "\n",
    "import pandas as pd\n",
    "\n",
    "import polyclonal\n",
    "\n",
    "with open(\"_temp_bootstrap_poly.pickle\", \"rb\") as f:\n",
    " #   pickle.dump(bootstrap_poly, f)\n",
    "    bootstrap_poly = pickle.load(f)"
   ]
  },
  {
   "cell_type": "markdown",
   "id": "7ac94916-50e4-4514-8665-97a1e72d84e2",
   "metadata": {},
   "source": [
    "## Look at summarized results\n",
    "We can get the resulting measurements for the epitope activities and mutation effects both per-replicate and summarized across replicates (mean, median, standard deviation).\n",
    "\n",
    "### Epitope activities\n",
    "Epitope activities for each replicate:"
   ]
  },
  {
   "cell_type": "code",
   "execution_count": null,
   "id": "3992ec56-9e80-40a8-a626-8de0fedf3625",
   "metadata": {
    "tags": []
   },
   "outputs": [],
   "source": [
    "# NBVAL_IGNORE_OUTPUT\n",
    "bootstrap_poly.activity_wt_df_replicates.round(1).head()"
   ]
  },
  {
   "cell_type": "markdown",
   "id": "3089ea19-f7bd-4c65-a4de-9f70e88a15b6",
   "metadata": {},
   "source": [
    "Epitope activities summarized across replicates.\n",
    "The `std` column gives the standard deviation:"
   ]
  },
  {
   "cell_type": "code",
   "execution_count": null,
   "id": "3b0e02c8-91a5-4876-8970-6905a0f6533c",
   "metadata": {
    "tags": []
   },
   "outputs": [],
   "source": [
    "bootstrap_poly.activity_wt_df.round(1)"
   ]
  },
  {
   "cell_type": "markdown",
   "id": "d2144618-6d5c-41d9-ab56-723c69a7a3b1",
   "metadata": {},
   "source": [
    "We can plot the epitope activities summarized across replicates.\n",
    "The dropdown allows you to choose the summary stat (mean, median), and the black lines indicate the standard deviation.\n",
    "Mouse over for values:"
   ]
  },
  {
   "cell_type": "code",
   "execution_count": null,
   "id": "eb9dffca-0e26-4c33-86a1-87be82cc809a",
   "metadata": {
    "tags": []
   },
   "outputs": [],
   "source": [
    "bootstrap_poly.activity_wt_barplot()"
   ]
  },
  {
   "cell_type": "markdown",
   "id": "e0c5acdc-409c-423c-b630-1b5fdb75526d",
   "metadata": {},
   "source": [
    "### Mutation escape values\n",
    "Mutation escape values for each replicate:"
   ]
  },
  {
   "cell_type": "code",
   "execution_count": null,
   "id": "0f9c74e6-54dd-422b-86ca-cf294df8b28a",
   "metadata": {
    "tags": []
   },
   "outputs": [],
   "source": [
    "# NBVAL_IGNORE_OUTPUT\n",
    "bootstrap_poly.mut_escape_df_replicates.round(1).head()"
   ]
  },
  {
   "cell_type": "markdown",
   "id": "78c40c30-a142-47a3-b734-e642f6dc857e",
   "metadata": {},
   "source": [
    "Mutation escape values summarizes across replicates.\n",
    "Note the `frac_bootstrap_replicates` column has the fraction of bootstrap replicates with a value for this mutation:"
   ]
  },
  {
   "cell_type": "code",
   "execution_count": null,
   "id": "9d4438ce-98b4-40de-b1c1-331e7b68e7a3",
   "metadata": {
    "tags": []
   },
   "outputs": [],
   "source": [
    "bootstrap_poly.mut_escape_df.round(1).head(n=3)"
   ]
  },
  {
   "cell_type": "markdown",
   "id": "e5e2e92f-1682-4f90-9f2f-9f2d2dece208",
   "metadata": {},
   "source": [
    "We can plot the mutation escape values across replicates.\n",
    "The dropdown selects the stat shown in the heatmap, mouseovers give details on points, and the slider can be used to select the fraction of bootstrap replicates in which a mutation must be observed to be plotted:"
   ]
  },
  {
   "cell_type": "code",
   "execution_count": 1,
   "id": "e586fdd2-b3c7-49d6-8ebc-9e0e1e9f59e9",
   "metadata": {
    "execution": {
     "iopub.execute_input": "2022-03-17T18:09:22.625716Z",
     "iopub.status.busy": "2022-03-17T18:09:22.625286Z",
     "iopub.status.idle": "2022-03-17T18:09:24.800746Z",
     "shell.execute_reply": "2022-03-17T18:09:24.799356Z",
     "shell.execute_reply.started": "2022-03-17T18:09:22.625644Z"
    },
    "tags": []
   },
   "outputs": [
    {
     "name": "stdout",
     "output_type": "stream",
     "text": [
      "     epitope  site wildtype mutant mutation      mean    median       std  \\\n",
      "0          1   331        N      A    N331A  0.201456  0.259247  0.333754   \n",
      "1          1   331        N      D    N331D  0.011833 -0.024799  0.288016   \n",
      "2          1   331        N      E    N331E  0.039798  0.008384  0.382525   \n",
      "3          1   331        N      F    N331F  0.269591  0.242010  0.297981   \n",
      "4          1   331        N      G    N331G  0.858717  0.669772  0.562683   \n",
      "...      ...   ...      ...    ...      ...       ...       ...       ...   \n",
      "5791       3   531        T      R    T531R  1.370516  1.459734  0.561011   \n",
      "5792       3   531        T      S    T531S  0.948501  0.983606  0.379525   \n",
      "5793       3   531        T      V    T531V  0.893620  0.818271  0.439329   \n",
      "5794       3   531        T      W    T531W  0.534500  0.435672  0.557498   \n",
      "5795       3   531        T      Y    T531Y  0.409679  0.544656  0.383615   \n",
      "\n",
      "      n_bootstrap_replicates  frac_bootstrap_replicates             label  \n",
      "0                         10                        1.0   0.201 +/- 0.334  \n",
      "1                         10                        1.0  0.0118 +/- 0.288  \n",
      "2                         10                        1.0  0.0398 +/- 0.383  \n",
      "3                         10                        1.0    0.27 +/- 0.298  \n",
      "4                         10                        1.0   0.859 +/- 0.563  \n",
      "...                      ...                        ...               ...  \n",
      "5791                      10                        1.0    1.37 +/- 0.561  \n",
      "5792                      10                        1.0    0.949 +/- 0.38  \n",
      "5793                      10                        1.0   0.894 +/- 0.439  \n",
      "5794                      10                        1.0   0.535 +/- 0.557  \n",
      "5795                      10                        1.0    0.41 +/- 0.384  \n",
      "\n",
      "[5796 rows x 11 columns]\n",
      "Empty DataFrame\n",
      "Columns: []\n",
      "Index: [(331, A), (331, D), (331, E), (331, F), (331, G), (331, H), (331, I), (331, K), (331, L), (331, M), (331, P), (331, Q), (331, R), (331, S), (331, T), (331, V), (332, A), (332, C), (332, D), (332, E), (332, F), (332, G), (332, H), (332, K), (332, L), (332, M), (332, N), (332, P), (332, Q), (332, R), (332, S), (332, T), (332, V), (332, W), (332, Y), (333, A), (333, C), (333, D), (333, E), (333, F), (333, G), (333, H), (333, K), (333, L), (333, M), (333, N), (333, P), (333, Q), (333, R), (333, S), (333, V), (333, W), (333, Y), (334, A), (334, C), (334, D), (334, E), (334, F), (334, G), (334, H), (334, I), (334, K), (334, L), (334, M), (334, P), (334, Q), (334, R), (334, S), (334, T), (334, V), (334, Y), (335, A), (335, C), (335, D), (335, E), (335, F), (335, G), (335, H), (335, I), (335, K), (335, M), (335, N), (335, P), (335, Q), (335, R), (335, S), (335, T), (335, V), (335, W), (335, Y), (336, G), (337, A), (337, C), (337, D), (337, E), (337, G), (337, H), (337, K), (337, L), (337, M), ...]\n",
      "\n",
      "[1932 rows x 0 columns]\n"
     ]
    },
    {
     "name": "stderr",
     "output_type": "stream",
     "text": [
      "/fh/fast/bloom_j/software/miniconda3/envs/BloomLab/lib/python3.8/site-packages/pandas/core/apply.py:507: FutureWarning: Dropping invalid columns in DataFrameGroupBy.mean is deprecated. In a future version, a TypeError will be raised. Before calling .mean, select only columns which should be valid for the function.\n",
      "  return self._try_aggregate_string_function(obj, f, *self.args, **self.kwargs)\n"
     ]
    },
    {
     "ename": "KeyError",
     "evalue": "'1 epitope'",
     "output_type": "error",
     "traceback": [
      "\u001b[0;31m---------------------------------------------------------------------------\u001b[0m",
      "\u001b[0;31mKeyError\u001b[0m                                  Traceback (most recent call last)",
      "\u001b[0;32m/fh/fast/bloom_j/software/miniconda3/envs/BloomLab/lib/python3.8/site-packages/pandas/core/indexes/base.py\u001b[0m in \u001b[0;36mget_loc\u001b[0;34m(self, key, method, tolerance)\u001b[0m\n\u001b[1;32m   3360\u001b[0m             \u001b[0;32mtry\u001b[0m\u001b[0;34m:\u001b[0m\u001b[0;34m\u001b[0m\u001b[0;34m\u001b[0m\u001b[0m\n\u001b[0;32m-> 3361\u001b[0;31m                 \u001b[0;32mreturn\u001b[0m \u001b[0mself\u001b[0m\u001b[0;34m.\u001b[0m\u001b[0m_engine\u001b[0m\u001b[0;34m.\u001b[0m\u001b[0mget_loc\u001b[0m\u001b[0;34m(\u001b[0m\u001b[0mcasted_key\u001b[0m\u001b[0;34m)\u001b[0m\u001b[0;34m\u001b[0m\u001b[0;34m\u001b[0m\u001b[0m\n\u001b[0m\u001b[1;32m   3362\u001b[0m             \u001b[0;32mexcept\u001b[0m \u001b[0mKeyError\u001b[0m \u001b[0;32mas\u001b[0m \u001b[0merr\u001b[0m\u001b[0;34m:\u001b[0m\u001b[0;34m\u001b[0m\u001b[0;34m\u001b[0m\u001b[0m\n",
      "\u001b[0;32m/fh/fast/bloom_j/software/miniconda3/envs/BloomLab/lib/python3.8/site-packages/pandas/_libs/index.pyx\u001b[0m in \u001b[0;36mpandas._libs.index.IndexEngine.get_loc\u001b[0;34m()\u001b[0m\n",
      "\u001b[0;32m/fh/fast/bloom_j/software/miniconda3/envs/BloomLab/lib/python3.8/site-packages/pandas/_libs/index.pyx\u001b[0m in \u001b[0;36mpandas._libs.index.IndexEngine.get_loc\u001b[0;34m()\u001b[0m\n",
      "\u001b[0;32mpandas/_libs/hashtable_class_helper.pxi\u001b[0m in \u001b[0;36mpandas._libs.hashtable.PyObjectHashTable.get_item\u001b[0;34m()\u001b[0m\n",
      "\u001b[0;32mpandas/_libs/hashtable_class_helper.pxi\u001b[0m in \u001b[0;36mpandas._libs.hashtable.PyObjectHashTable.get_item\u001b[0;34m()\u001b[0m\n",
      "\u001b[0;31mKeyError\u001b[0m: '1 epitope'",
      "\nThe above exception was the direct cause of the following exception:\n",
      "\u001b[0;31mKeyError\u001b[0m                                  Traceback (most recent call last)",
      "\u001b[0;32m/tmp/ipykernel_28445/292934518.py\u001b[0m in \u001b[0;36m<module>\u001b[0;34m\u001b[0m\n\u001b[1;32m      4\u001b[0m     \u001b[0mbootstrap_poly\u001b[0m \u001b[0;34m=\u001b[0m \u001b[0mpickle\u001b[0m\u001b[0;34m.\u001b[0m\u001b[0mload\u001b[0m\u001b[0;34m(\u001b[0m\u001b[0mf\u001b[0m\u001b[0;34m)\u001b[0m\u001b[0;34m\u001b[0m\u001b[0;34m\u001b[0m\u001b[0m\n\u001b[1;32m      5\u001b[0m \u001b[0;34m\u001b[0m\u001b[0m\n\u001b[0;32m----> 6\u001b[0;31m polyclonal.plot.mut_escape_heatmap(\n\u001b[0m\u001b[1;32m      7\u001b[0m     \u001b[0mmut_escape_df\u001b[0m\u001b[0;34m=\u001b[0m\u001b[0mbootstrap_poly\u001b[0m\u001b[0;34m.\u001b[0m\u001b[0mmut_escape_df\u001b[0m\u001b[0;34m,\u001b[0m\u001b[0;34m\u001b[0m\u001b[0;34m\u001b[0m\u001b[0m\n\u001b[1;32m      8\u001b[0m     \u001b[0malphabet\u001b[0m\u001b[0;34m=\u001b[0m\u001b[0mbootstrap_poly\u001b[0m\u001b[0;34m.\u001b[0m\u001b[0mroot_polyclonal\u001b[0m\u001b[0;34m.\u001b[0m\u001b[0malphabet\u001b[0m\u001b[0;34m,\u001b[0m\u001b[0;34m\u001b[0m\u001b[0;34m\u001b[0m\u001b[0m\n",
      "\u001b[0;32m~/polyclonal/polyclonal/plot.py\u001b[0m in \u001b[0;36mmut_escape_heatmap\u001b[0;34m(mut_escape_df, alphabet, epitope_colors, epitopes, stat, error_stat, addtl_tooltip_stats, all_sites, all_alphabet, floor_color_at_zero, share_heatmap_lims, cell_size, zoom_bar_width)\u001b[0m\n\u001b[1;32m    466\u001b[0m         \u001b[0mdf\u001b[0m\u001b[0;34m[\u001b[0m\u001b[0mepitope\u001b[0m\u001b[0;34m]\u001b[0m \u001b[0;34m=\u001b[0m \u001b[0mdf\u001b[0m\u001b[0;34m[\u001b[0m\u001b[0mepitope\u001b[0m\u001b[0;34m]\u001b[0m\u001b[0;34m.\u001b[0m\u001b[0mwhere\u001b[0m\u001b[0;34m(\u001b[0m\u001b[0mdf\u001b[0m\u001b[0;34m[\u001b[0m\u001b[0;34m\"mutant\"\u001b[0m\u001b[0;34m]\u001b[0m \u001b[0;34m!=\u001b[0m \u001b[0mdf\u001b[0m\u001b[0;34m[\u001b[0m\u001b[0;34m\"wildtype\"\u001b[0m\u001b[0;34m]\u001b[0m\u001b[0;34m,\u001b[0m \u001b[0;36m0\u001b[0m\u001b[0;34m)\u001b[0m\u001b[0;34m\u001b[0m\u001b[0;34m\u001b[0m\u001b[0m\n\u001b[1;32m    467\u001b[0m         \u001b[0mlabel_col\u001b[0m \u001b[0;34m=\u001b[0m \u001b[0;34mf\"{epitope} epitope\"\u001b[0m\u001b[0;34m\u001b[0m\u001b[0;34m\u001b[0m\u001b[0m\n\u001b[0;32m--> 468\u001b[0;31m         \u001b[0mdf\u001b[0m\u001b[0;34m[\u001b[0m\u001b[0mlabel_col\u001b[0m\u001b[0;34m]\u001b[0m \u001b[0;34m=\u001b[0m \u001b[0mdf\u001b[0m\u001b[0;34m[\u001b[0m\u001b[0mlabel_col\u001b[0m\u001b[0;34m]\u001b[0m\u001b[0;34m.\u001b[0m\u001b[0mwhere\u001b[0m\u001b[0;34m(\u001b[0m\u001b[0mdf\u001b[0m\u001b[0;34m[\u001b[0m\u001b[0;34m\"mutant\"\u001b[0m\u001b[0;34m]\u001b[0m \u001b[0;34m!=\u001b[0m \u001b[0mdf\u001b[0m\u001b[0;34m[\u001b[0m\u001b[0;34m\"wildtype\"\u001b[0m\u001b[0;34m]\u001b[0m\u001b[0;34m,\u001b[0m \u001b[0;34m\"0\"\u001b[0m\u001b[0;34m)\u001b[0m\u001b[0;34m\u001b[0m\u001b[0;34m\u001b[0m\u001b[0m\n\u001b[0m\u001b[1;32m    469\u001b[0m \u001b[0;34m\u001b[0m\u001b[0m\n\u001b[1;32m    470\u001b[0m     \u001b[0;31m# zoom bar to put at top\u001b[0m\u001b[0;34m\u001b[0m\u001b[0;34m\u001b[0m\u001b[0;34m\u001b[0m\u001b[0m\n",
      "\u001b[0;32m/fh/fast/bloom_j/software/miniconda3/envs/BloomLab/lib/python3.8/site-packages/pandas/core/frame.py\u001b[0m in \u001b[0;36m__getitem__\u001b[0;34m(self, key)\u001b[0m\n\u001b[1;32m   3456\u001b[0m             \u001b[0;32mif\u001b[0m \u001b[0mself\u001b[0m\u001b[0;34m.\u001b[0m\u001b[0mcolumns\u001b[0m\u001b[0;34m.\u001b[0m\u001b[0mnlevels\u001b[0m \u001b[0;34m>\u001b[0m \u001b[0;36m1\u001b[0m\u001b[0;34m:\u001b[0m\u001b[0;34m\u001b[0m\u001b[0;34m\u001b[0m\u001b[0m\n\u001b[1;32m   3457\u001b[0m                 \u001b[0;32mreturn\u001b[0m \u001b[0mself\u001b[0m\u001b[0;34m.\u001b[0m\u001b[0m_getitem_multilevel\u001b[0m\u001b[0;34m(\u001b[0m\u001b[0mkey\u001b[0m\u001b[0;34m)\u001b[0m\u001b[0;34m\u001b[0m\u001b[0;34m\u001b[0m\u001b[0m\n\u001b[0;32m-> 3458\u001b[0;31m             \u001b[0mindexer\u001b[0m \u001b[0;34m=\u001b[0m \u001b[0mself\u001b[0m\u001b[0;34m.\u001b[0m\u001b[0mcolumns\u001b[0m\u001b[0;34m.\u001b[0m\u001b[0mget_loc\u001b[0m\u001b[0;34m(\u001b[0m\u001b[0mkey\u001b[0m\u001b[0;34m)\u001b[0m\u001b[0;34m\u001b[0m\u001b[0;34m\u001b[0m\u001b[0m\n\u001b[0m\u001b[1;32m   3459\u001b[0m             \u001b[0;32mif\u001b[0m \u001b[0mis_integer\u001b[0m\u001b[0;34m(\u001b[0m\u001b[0mindexer\u001b[0m\u001b[0;34m)\u001b[0m\u001b[0;34m:\u001b[0m\u001b[0;34m\u001b[0m\u001b[0;34m\u001b[0m\u001b[0m\n\u001b[1;32m   3460\u001b[0m                 \u001b[0mindexer\u001b[0m \u001b[0;34m=\u001b[0m \u001b[0;34m[\u001b[0m\u001b[0mindexer\u001b[0m\u001b[0;34m]\u001b[0m\u001b[0;34m\u001b[0m\u001b[0;34m\u001b[0m\u001b[0m\n",
      "\u001b[0;32m/fh/fast/bloom_j/software/miniconda3/envs/BloomLab/lib/python3.8/site-packages/pandas/core/indexes/base.py\u001b[0m in \u001b[0;36mget_loc\u001b[0;34m(self, key, method, tolerance)\u001b[0m\n\u001b[1;32m   3361\u001b[0m                 \u001b[0;32mreturn\u001b[0m \u001b[0mself\u001b[0m\u001b[0;34m.\u001b[0m\u001b[0m_engine\u001b[0m\u001b[0;34m.\u001b[0m\u001b[0mget_loc\u001b[0m\u001b[0;34m(\u001b[0m\u001b[0mcasted_key\u001b[0m\u001b[0;34m)\u001b[0m\u001b[0;34m\u001b[0m\u001b[0;34m\u001b[0m\u001b[0m\n\u001b[1;32m   3362\u001b[0m             \u001b[0;32mexcept\u001b[0m \u001b[0mKeyError\u001b[0m \u001b[0;32mas\u001b[0m \u001b[0merr\u001b[0m\u001b[0;34m:\u001b[0m\u001b[0;34m\u001b[0m\u001b[0;34m\u001b[0m\u001b[0m\n\u001b[0;32m-> 3363\u001b[0;31m                 \u001b[0;32mraise\u001b[0m \u001b[0mKeyError\u001b[0m\u001b[0;34m(\u001b[0m\u001b[0mkey\u001b[0m\u001b[0;34m)\u001b[0m \u001b[0;32mfrom\u001b[0m \u001b[0merr\u001b[0m\u001b[0;34m\u001b[0m\u001b[0;34m\u001b[0m\u001b[0m\n\u001b[0m\u001b[1;32m   3364\u001b[0m \u001b[0;34m\u001b[0m\u001b[0m\n\u001b[1;32m   3365\u001b[0m         \u001b[0;32mif\u001b[0m \u001b[0mis_scalar\u001b[0m\u001b[0;34m(\u001b[0m\u001b[0mkey\u001b[0m\u001b[0;34m)\u001b[0m \u001b[0;32mand\u001b[0m \u001b[0misna\u001b[0m\u001b[0;34m(\u001b[0m\u001b[0mkey\u001b[0m\u001b[0;34m)\u001b[0m \u001b[0;32mand\u001b[0m \u001b[0;32mnot\u001b[0m \u001b[0mself\u001b[0m\u001b[0;34m.\u001b[0m\u001b[0mhasnans\u001b[0m\u001b[0;34m:\u001b[0m\u001b[0;34m\u001b[0m\u001b[0;34m\u001b[0m\u001b[0m\n",
      "\u001b[0;31mKeyError\u001b[0m: '1 epitope'"
     ]
    }
   ],
   "source": [
    "import polyclonal.plot\n",
    "import pickle\n",
    "with open(\"_temp_bootstrap_poly.pickle\", \"rb\") as f:\n",
    "    bootstrap_poly = pickle.load(f)\n",
    "\n",
    "polyclonal.plot.mut_escape_heatmap(\n",
    "    mut_escape_df=bootstrap_poly.mut_escape_df,\n",
    "    alphabet=bootstrap_poly.root_polyclonal.alphabet,\n",
    "    epitope_colors=bootstrap_poly.root_polyclonal.epitope_colors,\n",
    "    stat=\"mean\",\n",
    "    error_stat=\"std\",\n",
    ")\n"
   ]
  },
  {
   "cell_type": "markdown",
   "id": "1fc0ae25-9d66-4ed2-9203-d745c3f7fcc0",
   "metadata": {},
   "source": [
    "### Site summaries of mutation escape\n",
    "Site summaries of mutation escape values for replicates:"
   ]
  },
  {
   "cell_type": "code",
   "execution_count": null,
   "id": "cefd6935-a4d1-436d-95ea-c20777ec10fc",
   "metadata": {
    "tags": []
   },
   "outputs": [],
   "source": [
    "# NBVAL_IGNORE_OUTPUT\n",
    "bootstrap_poly.mut_escape_site_summary_df_replicates.round(1).head()"
   ]
  },
  {
   "cell_type": "markdown",
   "id": "99ed0ee0-3e18-4d54-a35d-ed9adc76ae48",
   "metadata": {},
   "source": [
    "Site summaries of mutation escape values summarized (e.g., averaged) across replicates.\n",
    "Note that the `metric` column now indicates a different row for each site-summary metric type, which is then summarized by its mean, median, and standard deviation:"
   ]
  },
  {
   "cell_type": "code",
   "execution_count": null,
   "id": "f4385713-9c73-4ddc-af36-2fe402e4b136",
   "metadata": {},
   "outputs": [],
   "source": [
    "bootstrap_poly.mut_escape_site_summary_df.round(1).head()"
   ]
  },
  {
   "cell_type": "code",
   "execution_count": null,
   "id": "7fdb3495-5720-433b-ab5c-20d44d8e2263",
   "metadata": {},
   "outputs": [],
   "source": []
  }
 ],
 "metadata": {
  "kernelspec": {
   "display_name": "Python 3 (ipykernel)",
   "language": "python",
   "name": "python3"
  },
  "language_info": {
   "codemirror_mode": {
    "name": "ipython",
    "version": 3
   },
   "file_extension": ".py",
   "mimetype": "text/x-python",
   "name": "python",
   "nbconvert_exporter": "python",
   "pygments_lexer": "ipython3",
   "version": "3.8.12"
  }
 },
 "nbformat": 4,
 "nbformat_minor": 5
}
