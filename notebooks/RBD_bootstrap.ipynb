{
 "cells": [
  {
   "cell_type": "markdown",
   "id": "c36de04a-7941-4b08-894f-1544f56eba13",
   "metadata": {},
   "source": [
    "# Bootstrapping to assess fits\n",
    "The previous section describes fitting a single model.\n",
    "But we may also want to have confidence estimates for the fit.\n",
    "We can do that via bootstrapping the data set.\n",
    "\n",
    "Here we illustrate bootstrapping on the simulated RBD data using the noisy data with an average of 2 mutations per gene."
   ]
  },
  {
   "cell_type": "markdown",
   "id": "d2dcddd6-723e-4fac-8e6f-bc57b7c0d955",
   "metadata": {},
   "source": [
    "## First and fit a model to all the data\n",
    "We begin by first fitting a model to all the data.\n",
    "We call that the \"root model\" as it's used as a starting point for the bootstrapping:"
   ]
  },
  {
   "cell_type": "code",
   "execution_count": 3,
   "id": "e243e290-8060-453d-ac3f-cb071681a22b",
   "metadata": {
    "execution": {
     "iopub.execute_input": "2022-03-11T23:59:51.388809Z",
     "iopub.status.busy": "2022-03-11T23:59:51.388317Z",
     "iopub.status.idle": "2022-03-11T23:59:52.513558Z",
     "shell.execute_reply": "2022-03-11T23:59:52.512795Z",
     "shell.execute_reply.started": "2022-03-11T23:59:51.388764Z"
    },
    "tags": []
   },
   "outputs": [],
   "source": [
    "import numpy\n",
    "\n",
    "import pandas as pd\n",
    "\n",
    "import polyclonal\n",
    "\n",
    "data = (\n",
    "    pd.read_csv(\"RBD_variants_escape_noisy.csv\", na_filter=None)\n",
    "    .query('library == \"avg2muts\"')\n",
    "    .query(\"concentration in [0.25, 1, 4]\")\n",
    "    .reset_index(drop=True)\n",
    ")\n",
    "\n",
    "root_poly = polyclonal.Polyclonal(\n",
    "    data_to_fit=data,\n",
    "    activity_wt_df=pd.DataFrame.from_records(\n",
    "        [\n",
    "            (\"1\", 1.0),\n",
    "            (\"2\", 3.0),\n",
    "            (\"3\", 2.0),\n",
    "        ],\n",
    "        columns=[\"epitope\", \"activity\"],\n",
    "    ),\n",
    "    site_escape_df=pd.DataFrame.from_records(\n",
    "        [\n",
    "            (\"1\", 417, 10.0),\n",
    "            (\"2\", 484, 10.0),\n",
    "            (\"3\", 444, 10.0),\n",
    "        ],\n",
    "        columns=[\"epitope\", \"site\", \"escape\"],\n",
    "    ),\n",
    "    data_mut_escape_overlap=\"fill_to_data\",\n",
    ")"
   ]
  },
  {
   "cell_type": "markdown",
   "id": "ede8bd3b-af50-4c5a-808f-7403b7607be8",
   "metadata": {},
   "source": [
    "Fit the model:"
   ]
  },
  {
   "cell_type": "code",
   "execution_count": 4,
   "id": "c34413c0-c111-4d3a-81a4-6341dc45c465",
   "metadata": {
    "execution": {
     "iopub.execute_input": "2022-03-12T00:01:04.649931Z",
     "iopub.status.busy": "2022-03-12T00:01:04.649196Z",
     "iopub.status.idle": "2022-03-12T00:04:55.790271Z",
     "shell.execute_reply": "2022-03-12T00:04:55.789356Z",
     "shell.execute_reply.started": "2022-03-12T00:01:04.649875Z"
    }
   },
   "outputs": [
    {
     "name": "stdout",
     "output_type": "stream",
     "text": [
      "# First fitting site-level model.\n",
      "# Starting optimization of 522 parameters at Fri Mar 11 16:01:05 2022.\n",
      "       step   time_sec       loss   fit_loss reg_escape  regspread\n",
      "          0   0.053556     9144.4     9144.2    0.29701          0\n",
      "        100     5.0608     1337.1     1333.6     3.5314          0\n",
      "        200     10.215     1313.4       1309     4.3625          0\n",
      "        300     15.004     1305.1     1300.1     5.0451          0\n",
      "        400     19.924     1301.6       1296     5.6744          0\n",
      "        500      24.61       1298     1291.9     6.0788          0\n",
      "        600     29.105     1297.1     1290.7     6.3842          0\n",
      "        700     33.772     1296.4     1289.5     6.8421          0\n",
      "        800     38.364       1296       1289     7.0159          0\n",
      "        900     43.102     1295.6     1288.5     7.1281          0\n",
      "       1000     47.747     1295.4     1288.2     7.1467          0\n",
      "       1100     52.429     1295.2       1288      7.186          0\n",
      "       1200     57.137     1294.8     1287.6     7.2389          0\n",
      "       1300     62.448     1294.7     1287.5     7.2593          0\n",
      "       1394     66.715     1294.7     1287.4     7.2963          0\n",
      "# Successfully finished at Fri Mar 11 16:02:12 2022.\n",
      "# Starting optimization of 5799 parameters at Fri Mar 11 16:02:12 2022.\n",
      "       step   time_sec       loss   fit_loss reg_escape  regspread\n",
      "          0   0.052421     1642.5     1551.9     90.619 1.9259e-29\n",
      "        100     6.1249     840.87     738.71     90.264       11.9\n",
      "        200     12.848     826.08     720.97     88.952     16.153\n",
      "        300     19.395     818.55     714.36     86.003     18.183\n",
      "        400     25.926     810.31     710.52     81.983     17.809\n",
      "        500      32.26     801.64     706.03     77.172     18.438\n",
      "        600     38.329     793.18     703.21     70.559     19.413\n",
      "        700     44.852     786.31     702.24      64.08     19.984\n",
      "        800      53.08     777.63     701.53     56.211     19.887\n",
      "        900      61.51     771.78     700.01     51.601     20.174\n",
      "       1000     70.196     764.83     696.75     47.473     20.611\n",
      "       1100     77.209     758.22     691.79     45.225     21.206\n",
      "       1200     83.385     754.54     688.82     43.942     21.775\n",
      "       1300     89.153     750.89     684.62     43.418     22.849\n",
      "       1400     94.802     746.39     678.82     43.575     23.994\n",
      "       1500     100.55     740.98      671.3     44.253      25.43\n",
      "       1600     106.37     732.99     659.98     45.461     27.541\n",
      "       1700     112.17     725.73     648.47     47.099     30.158\n",
      "       1800     117.79     717.16     636.91     48.341     31.913\n",
      "       1900     123.73     701.65      616.7     50.457     34.491\n",
      "       2000     129.44     681.94      594.9     51.631     35.412\n",
      "       2100     135.36        670     582.43     52.158     35.408\n",
      "       2200     141.14     666.72     579.37     52.379     34.974\n",
      "       2300     146.94     665.67     578.32     52.555     34.797\n",
      "       2400     152.61     665.32     577.89     52.753     34.671\n",
      "       2500     158.22     665.16     577.71     52.918     34.535\n",
      "       2598     163.63     665.08     577.66     52.976     34.443\n",
      "# Successfully finished at Fri Mar 11 16:04:55 2022.\n"
     ]
    }
   ],
   "source": [
    "# NBVAL_IGNORE_OUTPUT\n",
    "_ = root_poly.fit(logfreq=100)"
   ]
  },
  {
   "cell_type": "markdown",
   "id": "5f1f752f-8846-4fb5-8c75-3767024cf241",
   "metadata": {},
   "source": [
    "## Now fit bootstrapped models\n",
    "To fit the bootstrapped models, we initialize a `PolyclonalCollection`:"
   ]
  },
  {
   "cell_type": "code",
   "execution_count": 4,
   "id": "4388c779-0811-426e-a095-8e7d1a08eff2",
   "metadata": {},
   "outputs": [],
   "source": [
    "boot_poly = PolyclonalCollection(\n",
    "    root_polyclonal=rbd_poly,\n",
    "    n_bootstrap_samples=n_samps,\n",
    "    n_threads=n_threads,\n",
    "    seed=0,\n",
    ")"
   ]
  },
  {
   "cell_type": "code",
   "execution_count": 5,
   "id": "b39e72fa-de35-4daa-befb-a267b30545e7",
   "metadata": {},
   "outputs": [],
   "source": [
    "rbd_pc_a.fit_models(fit_site_level_first=False)\n",
    "rbd_pc_b.fit_models(fit_site_level_first=False)"
   ]
  },
  {
   "cell_type": "code",
   "execution_count": 6,
   "id": "3dc642de-0a87-4303-9f0b-de5364da1534",
   "metadata": {},
   "outputs": [],
   "source": [
    "rbd_pc_a_copy.fit_models(fit_site_level_first=False)\n",
    "rbd_pc_b_copy.fit_models(fit_site_level_first=False)"
   ]
  },
  {
   "cell_type": "markdown",
   "id": "7e2577da-965f-43af-b68e-05e67c91f64d",
   "metadata": {},
   "source": [
    "## Tests to see if seed is respected (different results)"
   ]
  },
  {
   "cell_type": "markdown",
   "id": "f1d21a13-1718-44c4-92a2-f75a476d4b24",
   "metadata": {},
   "source": [
    "The test for mutation frequency in the mutation frequency dictionary is not suitable here.\n",
    "With so many multi-variants, we may not come across situations where a mutation isn't sampled by at least one model.\n",
    "For our seed tests, I will just make sure we get different summary stats for each seed."
   ]
  },
  {
   "cell_type": "code",
   "execution_count": 7,
   "id": "2a301764-d7bb-4df4-8d32-17edc3087cdd",
   "metadata": {},
   "outputs": [],
   "source": [
    "(\n",
    "    rbd_pc_a_escape_dict,\n",
    "    rbd_pc_a_activity_wt_dict,\n",
    ") = rbd_pc_a.summarize_bootstrapped_params()\n",
    "(\n",
    "    rbd_pc_b_escape_dict,\n",
    "    rbd_pc_b_activity_wt_dict,\n",
    ") = rbd_pc_b.summarize_bootstrapped_params()\n",
    "(\n",
    "    rbd_pc_a_copy_escape_dict,\n",
    "    rbd_pc_a_copy_activity_wt_dict,\n",
    ") = rbd_pc_a_copy.summarize_bootstrapped_params()\n",
    "(\n",
    "    rbd_pc_b_copy_escape_dict,\n",
    "    rbd_pc_b_copy_activity_wt_dict,\n",
    ") = rbd_pc_b_copy.summarize_bootstrapped_params()"
   ]
  },
  {
   "cell_type": "code",
   "execution_count": 8,
   "id": "9b360b1f-1498-4c87-bfbf-89f135254da1",
   "metadata": {},
   "outputs": [],
   "source": [
    "# Test to see if inferreed params are the same with the same seed.\n",
    "assert rbd_pc_a_escape_dict[\"mean\"].equals(rbd_pc_a_copy_escape_dict[\"mean\"])\n",
    "assert rbd_pc_a_escape_dict[\"median\"].equals(rbd_pc_a_copy_escape_dict[\"median\"])\n",
    "assert rbd_pc_a_escape_dict[\"std\"].equals(rbd_pc_a_copy_escape_dict[\"std\"])"
   ]
  },
  {
   "cell_type": "code",
   "execution_count": 9,
   "id": "9570b418-aedb-411a-86c6-7ff84767c1dc",
   "metadata": {},
   "outputs": [],
   "source": [
    "assert rbd_pc_a_activity_wt_dict[\"mean\"].equals(rbd_pc_a_copy_activity_wt_dict[\"mean\"])\n",
    "assert rbd_pc_a_activity_wt_dict[\"median\"].equals(\n",
    "    rbd_pc_a_copy_activity_wt_dict[\"median\"]\n",
    ")\n",
    "assert rbd_pc_a_activity_wt_dict[\"std\"].equals(rbd_pc_a_copy_activity_wt_dict[\"std\"])"
   ]
  },
  {
   "cell_type": "code",
   "execution_count": 10,
   "id": "3d667494-47d9-4cb7-9913-30d256dbedb9",
   "metadata": {},
   "outputs": [],
   "source": [
    "# Test to see if inferred params are the same with same seed and different thread count\n",
    "assert rbd_pc_b_escape_dict[\"mean\"].equals(rbd_pc_b_copy_escape_dict[\"mean\"])\n",
    "assert rbd_pc_b_escape_dict[\"median\"].equals(rbd_pc_b_copy_escape_dict[\"median\"])\n",
    "assert rbd_pc_b_escape_dict[\"std\"].equals(rbd_pc_b_copy_escape_dict[\"std\"])\n",
    "\n",
    "assert rbd_pc_b_activity_wt_dict[\"mean\"].equals(rbd_pc_b_copy_activity_wt_dict[\"mean\"])\n",
    "assert rbd_pc_b_activity_wt_dict[\"median\"].equals(\n",
    "    rbd_pc_b_copy_activity_wt_dict[\"median\"]\n",
    ")\n",
    "assert rbd_pc_b_activity_wt_dict[\"std\"].equals(rbd_pc_b_copy_activity_wt_dict[\"std\"])"
   ]
  },
  {
   "cell_type": "code",
   "execution_count": 11,
   "id": "579172d6-1be5-4b31-9e22-66b886edebe2",
   "metadata": {},
   "outputs": [],
   "source": [
    "# Make sure inferred params are different\n",
    "assert not rbd_pc_a_escape_dict[\"mean\"].equals(rbd_pc_b_escape_dict[\"mean\"])\n",
    "assert not rbd_pc_a_escape_dict[\"median\"].equals(rbd_pc_b_escape_dict[\"median\"])\n",
    "assert not rbd_pc_a_escape_dict[\"std\"].equals(rbd_pc_b_escape_dict[\"std\"])"
   ]
  },
  {
   "cell_type": "code",
   "execution_count": 12,
   "id": "80424a67-9557-4335-ba3a-0de1337b2f0f",
   "metadata": {},
   "outputs": [],
   "source": [
    "assert not rbd_pc_a_activity_wt_dict[\"mean\"].equals(rbd_pc_b_activity_wt_dict[\"mean\"])\n",
    "assert not rbd_pc_a_activity_wt_dict[\"median\"].equals(\n",
    "    rbd_pc_b_activity_wt_dict[\"median\"]\n",
    ")\n",
    "assert not rbd_pc_a_activity_wt_dict[\"std\"].equals(rbd_pc_b_activity_wt_dict[\"std\"])"
   ]
  },
  {
   "cell_type": "code",
   "execution_count": 13,
   "id": "a478c4e3-568e-4fe7-9768-c9762b1da9bb",
   "metadata": {},
   "outputs": [],
   "source": [
    "test_df = rbd_data.sample(n=200, random_state=0)\n",
    "pc_a_preds = pd.concat(rbd_pc_a.make_predictions(test_df))\n",
    "pc_b_preds = pd.concat(rbd_pc_b.make_predictions(test_df))\n",
    "pc_a_copy_preds = pd.concat(rbd_pc_a_copy.make_predictions(test_df))\n",
    "pc_b_copy_preds = pd.concat(rbd_pc_b_copy.make_predictions(test_df))"
   ]
  },
  {
   "cell_type": "code",
   "execution_count": 14,
   "id": "687a9858-0317-4c67-888b-2fcca0c755d8",
   "metadata": {},
   "outputs": [],
   "source": [
    "assert pc_a_preds.equals(pc_a_copy_preds)"
   ]
  },
  {
   "cell_type": "code",
   "execution_count": 15,
   "id": "27d51146-47c0-4ccd-9d8b-63b5432294ff",
   "metadata": {},
   "outputs": [],
   "source": [
    "assert not pc_a_preds.equals(pc_b_preds)"
   ]
  },
  {
   "cell_type": "code",
   "execution_count": 16,
   "id": "27c46451-f768-4457-aa63-bd18bc217cba",
   "metadata": {},
   "outputs": [],
   "source": [
    "# Test threads for reproducability\n",
    "assert pc_b_preds.equals(pc_b_copy_preds)"
   ]
  }
 ],
 "metadata": {
  "kernelspec": {
   "display_name": "Python 3 (ipykernel)",
   "language": "python",
   "name": "python3"
  },
  "language_info": {
   "codemirror_mode": {
    "name": "ipython",
    "version": 3
   },
   "file_extension": ".py",
   "mimetype": "text/x-python",
   "name": "python",
   "nbconvert_exporter": "python",
   "pygments_lexer": "ipython3",
   "version": "3.8.12"
  }
 },
 "nbformat": 4,
 "nbformat_minor": 5
}
