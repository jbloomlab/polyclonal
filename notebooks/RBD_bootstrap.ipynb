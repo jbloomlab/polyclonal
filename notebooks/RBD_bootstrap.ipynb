{
 "cells": [
  {
   "cell_type": "markdown",
   "id": "c36de04a-7941-4b08-894f-1544f56eba13",
   "metadata": {},
   "source": [
    "# Bootstrapping model fits\n",
    "The previous section describes fitting a single model.\n",
    "But we may also want to have confidence estimates for the fit.\n",
    "We can do that via bootstrapping the data set.\n",
    "\n",
    "The overall recommended workflow is to first fit models to all the data to determine the number of epitopes, etc.\n",
    "Then once the desired fitting parameters are determined, you can bootstrap to get confidence on predictions."
   ]
  },
  {
   "cell_type": "markdown",
   "id": "d2dcddd6-723e-4fac-8e6f-bc57b7c0d955",
   "metadata": {},
   "source": [
    "## Get model fit to the data\n",
    "The first step is just to fit a `Polyclonal` model to all the data we are using.\n",
    "We do similar to the previous notebook for our RBD example, but first shrink the size of the data set to just 7500 variants to provide more \"error\" to better illustrate the bootstrapping.\n",
    "\n",
    "We will call this model fit to all the data we are using the \"root\" model as it's used as the starting point (root) for the subsequent bootstrapping.\n",
    "Note that data (which we will bootstrap) are attached to this pre-fit model:"
   ]
  },
  {
   "cell_type": "code",
   "execution_count": null,
   "id": "e243e290-8060-453d-ac3f-cb071681a22b",
   "metadata": {
    "tags": []
   },
   "outputs": [],
   "source": [
    "# NBVAL_IGNORE_OUTPUT\n",
    "\n",
    "import pandas as pd\n",
    "\n",
    "import polyclonal\n",
    "\n",
    "# read the data, and just make \"barcode\" the numerical rank of the variants\n",
    "noisy_data = (\n",
    "    pd.read_csv(\"RBD_variants_escape_noisy.csv\", na_filter=None)\n",
    "    .query('library == \"avg3muts\"')\n",
    "    .query(\"concentration in [0.25, 1, 4]\")\n",
    "    .sort_values([\"concentration\", \"aa_substitutions\"])\n",
    "    .reset_index(drop=True)\n",
    "    .assign(barcode=lambda x: x.groupby(\"concentration\").cumcount())\n",
    ")\n",
    "\n",
    "# just keep some variants to make fitting \"noisier\"\n",
    "n_keep = 7500\n",
    "barcodes_to_keep = (\n",
    "    noisy_data[\"barcode\"].drop_duplicates().sample(n_keep, random_state=1).tolist()\n",
    ")\n",
    "noisy_data = noisy_data.query(\"barcode in @barcodes_to_keep\")\n",
    "\n",
    "# make and fit the root Polyclonal object with all the data we are using\n",
    "root_poly = polyclonal.Polyclonal(\n",
    "    data_to_fit=noisy_data,\n",
    "    activity_wt_df=pd.DataFrame.from_records(\n",
    "        [\n",
    "            (\"1\", 1.0),\n",
    "            (\"2\", 3.0),\n",
    "            (\"3\", 2.0),\n",
    "        ],\n",
    "        columns=[\"epitope\", \"activity\"],\n",
    "    ),\n",
    "    site_escape_df=pd.DataFrame.from_records(\n",
    "        [\n",
    "            (\"1\", 417, 10.0),\n",
    "            (\"2\", 484, 10.0),\n",
    "            (\"3\", 444, 10.0),\n",
    "        ],\n",
    "        columns=[\"epitope\", \"site\", \"escape\"],\n",
    "    ),\n",
    "    data_mut_escape_overlap=\"fill_to_data\",\n",
    ")\n",
    "\n",
    "opt_res = root_poly.fit(logfreq=100)"
   ]
  },
  {
   "cell_type": "markdown",
   "id": "5f1f752f-8846-4fb5-8c75-3767024cf241",
   "metadata": {},
   "source": [
    "## Create and fit bootstrapped models\n",
    "To create the bootstrapped models, we initialize a `PolyclonalCollection`, here just using 10 samples for speed (for better error estimates you may want more on the order of 20 to 100).\n",
    "Note it is important that the root model you are using has already been fit to the data!"
   ]
  },
  {
   "cell_type": "code",
   "execution_count": null,
   "id": "4388c779-0811-426e-a095-8e7d1a08eff2",
   "metadata": {
    "tags": []
   },
   "outputs": [],
   "source": [
    "n_bootstrap_samples = 10\n",
    "\n",
    "bootstrap_poly = polyclonal.PolyclonalCollection(\n",
    "    root_polyclonal=root_poly,\n",
    "    n_bootstrap_samples=n_bootstrap_samples,\n",
    ")"
   ]
  },
  {
   "cell_type": "markdown",
   "id": "6d739e13-74b8-4b53-a066-235db92a51bb",
   "metadata": {},
   "source": [
    "Now fit the bootstrapped models:"
   ]
  },
  {
   "cell_type": "code",
   "execution_count": null,
   "id": "20106292-5c29-4f25-b72b-24419cc8fed7",
   "metadata": {
    "tags": []
   },
   "outputs": [],
   "source": [
    "# NBVAL_IGNORE_OUTPUT\n",
    "\n",
    "import time\n",
    "\n",
    "start = time.time()\n",
    "print(f\"Starting fitting bootstrap models at {time.asctime()}\")\n",
    "n_fit, n_failed = bootstrap_poly.fit_models()\n",
    "print(f\"Fitting took {time.time() - start:.3g} seconds, finished at {time.asctime()}\")\n",
    "assert n_failed == 0 and n_fit == n_bootstrap_samples"
   ]
  },
  {
   "cell_type": "code",
   "execution_count": null,
   "id": "b77c5a45-097e-4210-b2d2-e1023b92e054",
   "metadata": {
    "tags": []
   },
   "outputs": [],
   "source": [
    "# temp cell when we don't want to re-run above\n",
    "\n",
    "import pickle\n",
    "\n",
    "import pandas as pd\n",
    "\n",
    "import polyclonal\n",
    "\n",
    "with open(\"_temp_bootstrap_poly.pickle\", \"rb\") as f:\n",
    "    #   pickle.dump(bootstrap_poly, f)\n",
    "    bootstrap_poly = pickle.load(f)"
   ]
  },
  {
   "cell_type": "markdown",
   "id": "7ac94916-50e4-4514-8665-97a1e72d84e2",
   "metadata": {},
   "source": [
    "## Look at summarized results\n",
    "We can get the resulting measurements for the epitope activities and mutation effects both per-replicate and summarized across replicates (mean, median, standard deviation).\n",
    "\n",
    "### Epitope activities\n",
    "Epitope activities for each replicate:"
   ]
  },
  {
   "cell_type": "code",
   "execution_count": null,
   "id": "3992ec56-9e80-40a8-a626-8de0fedf3625",
   "metadata": {
    "tags": []
   },
   "outputs": [],
   "source": [
    "# NBVAL_IGNORE_OUTPUT\n",
    "bootstrap_poly.activity_wt_df_replicates.round(1).head()"
   ]
  },
  {
   "cell_type": "markdown",
   "id": "3089ea19-f7bd-4c65-a4de-9f70e88a15b6",
   "metadata": {},
   "source": [
    "Epitope activities summarized across replicates.\n",
    "The `std` column gives the standard deviation:"
   ]
  },
  {
   "cell_type": "code",
   "execution_count": null,
   "id": "3b0e02c8-91a5-4876-8970-6905a0f6533c",
   "metadata": {
    "tags": []
   },
   "outputs": [],
   "source": [
    "bootstrap_poly.activity_wt_df.round(1)"
   ]
  },
  {
   "cell_type": "markdown",
   "id": "d2144618-6d5c-41d9-ab56-723c69a7a3b1",
   "metadata": {},
   "source": [
    "We can plot the epitope activities summarized across replicates.\n",
    "The dropdown allows you to choose the summary stat (mean, median), and the black lines indicate the standard deviation.\n",
    "Mouse over for values:"
   ]
  },
  {
   "cell_type": "code",
   "execution_count": null,
   "id": "eb9dffca-0e26-4c33-86a1-87be82cc809a",
   "metadata": {
    "tags": []
   },
   "outputs": [],
   "source": [
    "bootstrap_poly.activity_wt_barplot()"
   ]
  },
  {
   "cell_type": "markdown",
   "id": "e0c5acdc-409c-423c-b630-1b5fdb75526d",
   "metadata": {},
   "source": [
    "### Mutation escape values\n",
    "Mutation escape values for each replicate:"
   ]
  },
  {
   "cell_type": "code",
   "execution_count": null,
   "id": "0f9c74e6-54dd-422b-86ca-cf294df8b28a",
   "metadata": {
    "tags": []
   },
   "outputs": [],
   "source": [
    "# NBVAL_IGNORE_OUTPUT\n",
    "bootstrap_poly.mut_escape_df_replicates.round(1).head()"
   ]
  },
  {
   "cell_type": "markdown",
   "id": "78c40c30-a142-47a3-b734-e642f6dc857e",
   "metadata": {},
   "source": [
    "Mutation escape values summarizes across replicates.\n",
    "Note the `frac_bootstrap_replicates` column has the fraction of bootstrap replicates with a value for this mutation:"
   ]
  },
  {
   "cell_type": "code",
   "execution_count": null,
   "id": "9d4438ce-98b4-40de-b1c1-331e7b68e7a3",
   "metadata": {
    "tags": []
   },
   "outputs": [],
   "source": [
    "bootstrap_poly.mut_escape_df.round(1).head(n=3)"
   ]
  },
  {
   "cell_type": "markdown",
   "id": "e5e2e92f-1682-4f90-9f2f-9f2d2dece208",
   "metadata": {},
   "source": [
    "We can plot the mutation escape values across replicates.\n",
    "The dropdown selects the statistic shown in the heatmap (mean or median), and mouseovers give details on points.\n",
    "Here we set `min_frac_bootstrap_replicates=0.9` to only report escape values observed in at least 90% of bootstrap replicates (this gets rid of rare mutations):"
   ]
  },
  {
   "cell_type": "code",
   "execution_count": 2,
   "id": "d037b801-9457-405d-ba13-ac89e0c8c998",
   "metadata": {
    "execution": {
     "iopub.execute_input": "2022-03-17T23:21:05.291287Z",
     "iopub.status.busy": "2022-03-17T23:21:05.290470Z",
     "iopub.status.idle": "2022-03-17T23:21:06.733394Z",
     "shell.execute_reply": "2022-03-17T23:21:06.732475Z",
     "shell.execute_reply.started": "2022-03-17T23:21:05.291231Z"
    },
    "tags": []
   },
   "outputs": [],
   "source": [
    "bootstrap_poly.mut_escape_heatmap(min_frac_bootstrap_replicates=0.9).save(\n",
    "    \"bootstrap_heatmap.html\"\n",
    ")"
   ]
  },
  {
   "cell_type": "markdown",
   "id": "1fc0ae25-9d66-4ed2-9203-d745c3f7fcc0",
   "metadata": {},
   "source": [
    "### Site summaries of mutation escape\n",
    "Site summaries of mutation escape values for replicates:"
   ]
  },
  {
   "cell_type": "code",
   "execution_count": null,
   "id": "cefd6935-a4d1-436d-95ea-c20777ec10fc",
   "metadata": {
    "tags": []
   },
   "outputs": [],
   "source": [
    "# NBVAL_IGNORE_OUTPUT\n",
    "bootstrap_poly.mut_escape_site_summary_df_replicates.round(1).head()"
   ]
  },
  {
   "cell_type": "markdown",
   "id": "99ed0ee0-3e18-4d54-a35d-ed9adc76ae48",
   "metadata": {},
   "source": [
    "Site summaries of mutation escape values summarized (e.g., averaged) across replicates.\n",
    "Note that the `metric` column now indicates a different row for each site-summary metric type, which is then summarized by its mean, median, and standard deviation:"
   ]
  },
  {
   "cell_type": "code",
   "execution_count": null,
   "id": "f4385713-9c73-4ddc-af36-2fe402e4b136",
   "metadata": {},
   "outputs": [],
   "source": [
    "bootstrap_poly.mut_escape_site_summary_df.round(1).head()"
   ]
  },
  {
   "cell_type": "code",
   "execution_count": null,
   "id": "98294ec6-2f40-4f0d-8f75-b199f463c02b",
   "metadata": {},
   "outputs": [],
   "source": []
  }
 ],
 "metadata": {
  "kernelspec": {
   "display_name": "Python 3 (ipykernel)",
   "language": "python",
   "name": "python3"
  },
  "language_info": {
   "codemirror_mode": {
    "name": "ipython",
    "version": 3
   },
   "file_extension": ".py",
   "mimetype": "text/x-python",
   "name": "python",
   "nbconvert_exporter": "python",
   "pygments_lexer": "ipython3",
   "version": "3.8.12"
  }
 },
 "nbformat": 4,
 "nbformat_minor": 5
}
