{
 "cells": [
  {
   "cell_type": "markdown",
   "id": "c36de04a-7941-4b08-894f-1544f56eba13",
   "metadata": {},
   "source": [
    "# Bootstrapping model fits\n",
    "The previous section describes fitting a single model.\n",
    "But we may also want to have confidence estimates for the fit.\n",
    "We can do that via bootstrapping the data set.\n",
    "\n",
    "The overall recommended workflow is to first fit models to all the data to determine the number of epitopes, etc.\n",
    "Then once the desired fitting parameters are determined, you can bootstrap to get confidence on predictions.\n",
    "\n",
    "Here we illustrate bootstrapping on the simulated RBD data using the noisy data with an average of 2 mutations per gene."
   ]
  },
  {
   "cell_type": "markdown",
   "id": "d2dcddd6-723e-4fac-8e6f-bc57b7c0d955",
   "metadata": {},
   "source": [
    "## Get a model fit to all the data\n",
    "The first step is just to fit a `Polyclonal` model to all the data.\n",
    "We just did that in the previous notebook for our RBD example and saved the model using [pickle](https://docs.python.org/3/library/pickle.html), so here we just read in that model rather than re-fitting.\n",
    "We will call this the \"root\" model as it's used as the starting point (root) for the subsequent bootstrapping.\n",
    "Note that data (which we will bootstrap) are attached to this pre-fit model:"
   ]
  },
  {
   "cell_type": "code",
   "execution_count": 1,
   "id": "e243e290-8060-453d-ac3f-cb071681a22b",
   "metadata": {
    "execution": {
     "iopub.execute_input": "2022-03-13T23:04:17.457220Z",
     "iopub.status.busy": "2022-03-13T23:04:17.456584Z",
     "iopub.status.idle": "2022-03-13T23:04:31.097453Z",
     "shell.execute_reply": "2022-03-13T23:04:31.096571Z",
     "shell.execute_reply.started": "2022-03-13T23:04:17.457104Z"
    },
    "tags": []
   },
   "outputs": [
    {
     "data": {
      "text/html": [
       "<div>\n",
       "<style scoped>\n",
       "    .dataframe tbody tr th:only-of-type {\n",
       "        vertical-align: middle;\n",
       "    }\n",
       "\n",
       "    .dataframe tbody tr th {\n",
       "        vertical-align: top;\n",
       "    }\n",
       "\n",
       "    .dataframe thead th {\n",
       "        text-align: right;\n",
       "    }\n",
       "</style>\n",
       "<table border=\"1\" class=\"dataframe\">\n",
       "  <thead>\n",
       "    <tr style=\"text-align: right;\">\n",
       "      <th></th>\n",
       "      <th>library</th>\n",
       "      <th>aa_substitutions</th>\n",
       "      <th>concentration</th>\n",
       "      <th>prob_escape</th>\n",
       "      <th>IC90</th>\n",
       "    </tr>\n",
       "  </thead>\n",
       "  <tbody>\n",
       "    <tr>\n",
       "      <th>0</th>\n",
       "      <td>avg2muts</td>\n",
       "      <td></td>\n",
       "      <td>0.25</td>\n",
       "      <td>0.05044</td>\n",
       "      <td>0.1128</td>\n",
       "    </tr>\n",
       "    <tr>\n",
       "      <th>1</th>\n",
       "      <td>avg2muts</td>\n",
       "      <td></td>\n",
       "      <td>0.25</td>\n",
       "      <td>0.14310</td>\n",
       "      <td>0.1128</td>\n",
       "    </tr>\n",
       "    <tr>\n",
       "      <th>2</th>\n",
       "      <td>avg2muts</td>\n",
       "      <td></td>\n",
       "      <td>0.25</td>\n",
       "      <td>0.05452</td>\n",
       "      <td>0.1128</td>\n",
       "    </tr>\n",
       "    <tr>\n",
       "      <th>3</th>\n",
       "      <td>avg2muts</td>\n",
       "      <td></td>\n",
       "      <td>0.25</td>\n",
       "      <td>0.08473</td>\n",
       "      <td>0.1128</td>\n",
       "    </tr>\n",
       "    <tr>\n",
       "      <th>4</th>\n",
       "      <td>avg2muts</td>\n",
       "      <td></td>\n",
       "      <td>0.25</td>\n",
       "      <td>0.04174</td>\n",
       "      <td>0.1128</td>\n",
       "    </tr>\n",
       "    <tr>\n",
       "      <th>...</th>\n",
       "      <td>...</td>\n",
       "      <td>...</td>\n",
       "      <td>...</td>\n",
       "      <td>...</td>\n",
       "      <td>...</td>\n",
       "    </tr>\n",
       "    <tr>\n",
       "      <th>89995</th>\n",
       "      <td>avg2muts</td>\n",
       "      <td>Y508V</td>\n",
       "      <td>4.00</td>\n",
       "      <td>0.00000</td>\n",
       "      <td>0.2531</td>\n",
       "    </tr>\n",
       "    <tr>\n",
       "      <th>89996</th>\n",
       "      <td>avg2muts</td>\n",
       "      <td>Y508V A520L</td>\n",
       "      <td>4.00</td>\n",
       "      <td>0.03180</td>\n",
       "      <td>0.4688</td>\n",
       "    </tr>\n",
       "    <tr>\n",
       "      <th>89997</th>\n",
       "      <td>avg2muts</td>\n",
       "      <td>Y508V H519N</td>\n",
       "      <td>4.00</td>\n",
       "      <td>0.10630</td>\n",
       "      <td>0.5528</td>\n",
       "    </tr>\n",
       "    <tr>\n",
       "      <th>89998</th>\n",
       "      <td>avg2muts</td>\n",
       "      <td>Y508W</td>\n",
       "      <td>4.00</td>\n",
       "      <td>0.03754</td>\n",
       "      <td>0.2285</td>\n",
       "    </tr>\n",
       "    <tr>\n",
       "      <th>89999</th>\n",
       "      <td>avg2muts</td>\n",
       "      <td>Y508W</td>\n",
       "      <td>4.00</td>\n",
       "      <td>0.04641</td>\n",
       "      <td>0.2285</td>\n",
       "    </tr>\n",
       "  </tbody>\n",
       "</table>\n",
       "<p>90000 rows × 5 columns</p>\n",
       "</div>"
      ],
      "text/plain": [
       "        library aa_substitutions  concentration  prob_escape    IC90\n",
       "0      avg2muts                            0.25      0.05044  0.1128\n",
       "1      avg2muts                            0.25      0.14310  0.1128\n",
       "2      avg2muts                            0.25      0.05452  0.1128\n",
       "3      avg2muts                            0.25      0.08473  0.1128\n",
       "4      avg2muts                            0.25      0.04174  0.1128\n",
       "...         ...              ...            ...          ...     ...\n",
       "89995  avg2muts            Y508V           4.00      0.00000  0.2531\n",
       "89996  avg2muts      Y508V A520L           4.00      0.03180  0.4688\n",
       "89997  avg2muts      Y508V H519N           4.00      0.10630  0.5528\n",
       "89998  avg2muts            Y508W           4.00      0.03754  0.2285\n",
       "89999  avg2muts            Y508W           4.00      0.04641  0.2285\n",
       "\n",
       "[90000 rows x 5 columns]"
      ]
     },
     "execution_count": 1,
     "metadata": {},
     "output_type": "execute_result"
    }
   ],
   "source": [
    "import pickle\n",
    "\n",
    "with open(\"fit_RBD_model.pickle\", \"rb\") as f:\n",
    "    root_poly = pickle.load(f)\n",
    "    \n",
    "root_poly.data_to_fit"
   ]
  },
  {
   "cell_type": "markdown",
   "id": "ede8bd3b-af50-4c5a-808f-7403b7607be8",
   "metadata": {},
   "source": [
    "Fit the model:"
   ]
  },
  {
   "cell_type": "markdown",
   "id": "5f1f752f-8846-4fb5-8c75-3767024cf241",
   "metadata": {},
   "source": [
    "## Now fit bootstrapped models\n",
    "To fit the bootstrapped models, we initialize a `PolyclonalCollection`, here just using 5 samples for speed (for good error estimates you may want more on the order of 20 to 100):"
   ]
  },
  {
   "cell_type": "code",
   "execution_count": 2,
   "id": "4388c779-0811-426e-a095-8e7d1a08eff2",
   "metadata": {
    "execution": {
     "iopub.execute_input": "2022-03-13T23:04:31.099245Z",
     "iopub.status.busy": "2022-03-13T23:04:31.099019Z",
     "iopub.status.idle": "2022-03-13T23:04:32.434306Z",
     "shell.execute_reply": "2022-03-13T23:04:32.433617Z",
     "shell.execute_reply.started": "2022-03-13T23:04:31.099218Z"
    },
    "tags": []
   },
   "outputs": [],
   "source": [
    "import polyclonal\n",
    "\n",
    "n_bootstrap_samples = 5\n",
    "\n",
    "bootstrap_poly = polyclonal.PolyclonalCollection(\n",
    "    root_polyclonal=root_poly,\n",
    "    n_bootstrap_samples=n_bootstrap_samples,\n",
    ")"
   ]
  },
  {
   "cell_type": "code",
   "execution_count": 7,
   "id": "b39e72fa-de35-4daa-befb-a267b30545e7",
   "metadata": {
    "execution": {
     "iopub.execute_input": "2022-03-13T23:06:33.446543Z",
     "iopub.status.busy": "2022-03-13T23:06:33.446140Z",
     "iopub.status.idle": "2022-03-13T23:17:04.996347Z",
     "shell.execute_reply": "2022-03-13T23:17:04.995089Z",
     "shell.execute_reply.started": "2022-03-13T23:06:33.446501Z"
    },
    "tags": []
   },
   "outputs": [
    {
     "name": "stdout",
     "output_type": "stream",
     "text": [
      "Starting fitting bootstrap models at Sun Mar 13 16:06:33 2022\n"
     ]
    },
    {
     "ename": "ValueError",
     "evalue": "Mapping matrix does not have a 1-to-1 mapping.",
     "output_type": "error",
     "traceback": [
      "\u001b[0;31m---------------------------------------------------------------------------\u001b[0m",
      "\u001b[0;31mValueError\u001b[0m                                Traceback (most recent call last)",
      "\u001b[0;32m/loc/scratch/51157566/ipykernel_26919/2612638013.py\u001b[0m in \u001b[0;36m<module>\u001b[0;34m\u001b[0m\n\u001b[1;32m      5\u001b[0m \u001b[0mstart\u001b[0m \u001b[0;34m=\u001b[0m \u001b[0mtime\u001b[0m\u001b[0;34m.\u001b[0m\u001b[0mtime\u001b[0m\u001b[0;34m(\u001b[0m\u001b[0;34m)\u001b[0m\u001b[0;34m\u001b[0m\u001b[0;34m\u001b[0m\u001b[0m\n\u001b[1;32m      6\u001b[0m \u001b[0mprint\u001b[0m\u001b[0;34m(\u001b[0m\u001b[0;34mf\"Starting fitting bootstrap models at {time.asctime()}\"\u001b[0m\u001b[0;34m)\u001b[0m\u001b[0;34m\u001b[0m\u001b[0;34m\u001b[0m\u001b[0m\n\u001b[0;32m----> 7\u001b[0;31m \u001b[0mn_fit\u001b[0m\u001b[0;34m,\u001b[0m \u001b[0mn_failed\u001b[0m \u001b[0;34m=\u001b[0m \u001b[0mbootstrap_poly\u001b[0m\u001b[0;34m.\u001b[0m\u001b[0mfit_models\u001b[0m\u001b[0;34m(\u001b[0m\u001b[0;34m)\u001b[0m\u001b[0;34m\u001b[0m\u001b[0;34m\u001b[0m\u001b[0m\n\u001b[0m\u001b[1;32m      8\u001b[0m \u001b[0mprint\u001b[0m\u001b[0;34m(\u001b[0m\u001b[0;34mf\"Fitting took {time.time() - start:.2g} seconds, finished at {time.asctime()}\"\u001b[0m\u001b[0;34m)\u001b[0m\u001b[0;34m\u001b[0m\u001b[0;34m\u001b[0m\u001b[0m\n\u001b[1;32m      9\u001b[0m \u001b[0;32massert\u001b[0m \u001b[0mn_failed\u001b[0m \u001b[0;34m==\u001b[0m \u001b[0;36m0\u001b[0m \u001b[0;32mand\u001b[0m \u001b[0mn_fit\u001b[0m \u001b[0;34m==\u001b[0m \u001b[0mn_bootstrap_samples\u001b[0m\u001b[0;34m\u001b[0m\u001b[0;34m\u001b[0m\u001b[0m\n",
      "\u001b[0;32m~/polyclonal/polyclonal/polyclonal_collection.py\u001b[0m in \u001b[0;36mfit_models\u001b[0;34m(self, failures, **kwargs)\u001b[0m\n\u001b[1;32m    259\u001b[0m         \u001b[0mself\u001b[0m\u001b[0;34m.\u001b[0m\u001b[0mmodels\u001b[0m \u001b[0;34m=\u001b[0m \u001b[0;34m[\u001b[0m\u001b[0mm\u001b[0m \u001b[0;32mfor\u001b[0m \u001b[0mm\u001b[0m \u001b[0;32min\u001b[0m \u001b[0mself\u001b[0m\u001b[0;34m.\u001b[0m\u001b[0mmodels\u001b[0m \u001b[0;32mif\u001b[0m \u001b[0mm\u001b[0m \u001b[0;32mis\u001b[0m \u001b[0;32mnot\u001b[0m \u001b[0;32mNone\u001b[0m\u001b[0;34m]\u001b[0m\u001b[0;34m\u001b[0m\u001b[0;34m\u001b[0m\u001b[0m\n\u001b[1;32m    260\u001b[0m         \u001b[0;32mfor\u001b[0m \u001b[0mm\u001b[0m \u001b[0;32min\u001b[0m \u001b[0mself\u001b[0m\u001b[0;34m.\u001b[0m\u001b[0mmodels\u001b[0m\u001b[0;34m:\u001b[0m\u001b[0;34m\u001b[0m\u001b[0;34m\u001b[0m\u001b[0m\n\u001b[0;32m--> 261\u001b[0;31m             \u001b[0mm\u001b[0m\u001b[0;34m.\u001b[0m\u001b[0mharmonize_epitopes_with\u001b[0m\u001b[0;34m(\u001b[0m\u001b[0mself\u001b[0m\u001b[0;34m.\u001b[0m\u001b[0mroot_polyclonal\u001b[0m\u001b[0;34m)\u001b[0m\u001b[0;34m\u001b[0m\u001b[0;34m\u001b[0m\u001b[0m\n\u001b[0m\u001b[1;32m    262\u001b[0m \u001b[0;34m\u001b[0m\u001b[0m\n\u001b[1;32m    263\u001b[0m         \u001b[0;32mreturn\u001b[0m \u001b[0;34m(\u001b[0m\u001b[0mn_fit\u001b[0m\u001b[0;34m,\u001b[0m \u001b[0mn_failed\u001b[0m\u001b[0;34m)\u001b[0m\u001b[0;34m\u001b[0m\u001b[0;34m\u001b[0m\u001b[0m\n",
      "\u001b[0;32m~/polyclonal/polyclonal/polyclonal.py\u001b[0m in \u001b[0;36mharmonize_epitopes_with\u001b[0;34m(self, ref_poly)\u001b[0m\n\u001b[1;32m   1934\u001b[0m \u001b[0;34m\u001b[0m\u001b[0m\n\u001b[1;32m   1935\u001b[0m         \u001b[0;31m# Step two: create mapping matrix\u001b[0m\u001b[0;34m\u001b[0m\u001b[0;34m\u001b[0m\u001b[0;34m\u001b[0m\u001b[0m\n\u001b[0;32m-> 1936\u001b[0;31m         \u001b[0mmapping_mat\u001b[0m \u001b[0;34m=\u001b[0m \u001b[0mself\u001b[0m\u001b[0;34m.\u001b[0m\u001b[0m_create_max_correlation_mapping_matrix\u001b[0m\u001b[0;34m(\u001b[0m\u001b[0mcorr_df\u001b[0m\u001b[0;34m)\u001b[0m\u001b[0;34m\u001b[0m\u001b[0;34m\u001b[0m\u001b[0m\n\u001b[0m\u001b[1;32m   1937\u001b[0m \u001b[0;34m\u001b[0m\u001b[0m\n\u001b[1;32m   1938\u001b[0m         \u001b[0;31m# Step three: make epitope mapping dictionary\u001b[0m\u001b[0;34m\u001b[0m\u001b[0;34m\u001b[0m\u001b[0;34m\u001b[0m\u001b[0m\n",
      "\u001b[0;32m~/polyclonal/polyclonal/polyclonal.py\u001b[0m in \u001b[0;36m_create_max_correlation_mapping_matrix\u001b[0;34m(self, corr_df)\u001b[0m\n\u001b[1;32m   1789\u001b[0m \u001b[0;34m\u001b[0m\u001b[0m\n\u001b[1;32m   1790\u001b[0m         \u001b[0;31m# Check to see if epitope mapping is 1-to-1 before returning\u001b[0m\u001b[0;34m\u001b[0m\u001b[0;34m\u001b[0m\u001b[0;34m\u001b[0m\u001b[0m\n\u001b[0;32m-> 1791\u001b[0;31m         \u001b[0mself\u001b[0m\u001b[0;34m.\u001b[0m\u001b[0m_check_epitope_mapping_matrix\u001b[0m\u001b[0;34m(\u001b[0m\u001b[0mmap_mat\u001b[0m\u001b[0;34m)\u001b[0m\u001b[0;34m\u001b[0m\u001b[0;34m\u001b[0m\u001b[0m\n\u001b[0m\u001b[1;32m   1792\u001b[0m \u001b[0;34m\u001b[0m\u001b[0m\n\u001b[1;32m   1793\u001b[0m         \u001b[0;32mreturn\u001b[0m \u001b[0mmap_mat\u001b[0m\u001b[0;34m\u001b[0m\u001b[0;34m\u001b[0m\u001b[0m\n",
      "\u001b[0;32m~/polyclonal/polyclonal/polyclonal.py\u001b[0m in \u001b[0;36m_check_epitope_mapping_matrix\u001b[0;34m(self, map_mat)\u001b[0m\n\u001b[1;32m   1806\u001b[0m         \"\"\"\n\u001b[1;32m   1807\u001b[0m         \u001b[0;32mif\u001b[0m \u001b[0mnumpy\u001b[0m\u001b[0;34m.\u001b[0m\u001b[0many\u001b[0m\u001b[0;34m(\u001b[0m\u001b[0mmap_mat\u001b[0m\u001b[0;34m.\u001b[0m\u001b[0msum\u001b[0m\u001b[0;34m(\u001b[0m\u001b[0maxis\u001b[0m\u001b[0;34m=\u001b[0m\u001b[0;36m0\u001b[0m\u001b[0;34m)\u001b[0m \u001b[0;34m!=\u001b[0m \u001b[0;36m1\u001b[0m\u001b[0;34m)\u001b[0m\u001b[0;34m:\u001b[0m\u001b[0;34m\u001b[0m\u001b[0;34m\u001b[0m\u001b[0m\n\u001b[0;32m-> 1808\u001b[0;31m             \u001b[0;32mraise\u001b[0m \u001b[0mValueError\u001b[0m\u001b[0;34m(\u001b[0m\u001b[0;34m\"Mapping matrix does not have a 1-to-1 mapping.\"\u001b[0m\u001b[0;34m)\u001b[0m\u001b[0;34m\u001b[0m\u001b[0;34m\u001b[0m\u001b[0m\n\u001b[0m\u001b[1;32m   1809\u001b[0m         \u001b[0;32mif\u001b[0m \u001b[0mmap_mat\u001b[0m\u001b[0;34m.\u001b[0m\u001b[0mshape\u001b[0m\u001b[0;34m[\u001b[0m\u001b[0;36m0\u001b[0m\u001b[0;34m]\u001b[0m \u001b[0;34m!=\u001b[0m \u001b[0mmap_mat\u001b[0m\u001b[0;34m.\u001b[0m\u001b[0mshape\u001b[0m\u001b[0;34m[\u001b[0m\u001b[0;36m1\u001b[0m\u001b[0;34m]\u001b[0m\u001b[0;34m:\u001b[0m\u001b[0;34m\u001b[0m\u001b[0;34m\u001b[0m\u001b[0m\n\u001b[1;32m   1810\u001b[0m             \u001b[0;32mraise\u001b[0m \u001b[0mValueError\u001b[0m\u001b[0;34m(\u001b[0m\u001b[0;34m\"Mapping matrix is not square.\"\u001b[0m\u001b[0;34m)\u001b[0m\u001b[0;34m\u001b[0m\u001b[0;34m\u001b[0m\u001b[0m\n",
      "\u001b[0;31mValueError\u001b[0m: Mapping matrix does not have a 1-to-1 mapping."
     ]
    }
   ],
   "source": [
    "# NBVAL_IGNORE_OUTPUT\n",
    "\n",
    "import time\n",
    "\n",
    "start = time.time()\n",
    "print(f\"Starting fitting bootstrap models at {time.asctime()}\")\n",
    "n_fit, n_failed = bootstrap_poly.fit_models()\n",
    "print(f\"Fitting took {time.time() - start:.2g} seconds, finished at {time.asctime()}\")\n",
    "assert n_failed == 0 and n_fit == n_bootstrap_samples"
   ]
  },
  {
   "cell_type": "markdown",
   "id": "7e2577da-965f-43af-b68e-05e67c91f64d",
   "metadata": {},
   "source": [
    "## Tests to see if seed is respected (different results)"
   ]
  },
  {
   "cell_type": "markdown",
   "id": "f1d21a13-1718-44c4-92a2-f75a476d4b24",
   "metadata": {},
   "source": [
    "The test for mutation frequency in the mutation frequency dictionary is not suitable here.\n",
    "With so many multi-variants, we may not come across situations where a mutation isn't sampled by at least one model.\n",
    "For our seed tests, I will just make sure we get different summary stats for each seed."
   ]
  },
  {
   "cell_type": "code",
   "execution_count": null,
   "id": "2a301764-d7bb-4df4-8d32-17edc3087cdd",
   "metadata": {},
   "outputs": [],
   "source": [
    "(\n",
    "    rbd_pc_a_escape_dict,\n",
    "    rbd_pc_a_activity_wt_dict,\n",
    ") = rbd_pc_a.summarize_bootstrapped_params()\n",
    "(\n",
    "    rbd_pc_b_escape_dict,\n",
    "    rbd_pc_b_activity_wt_dict,\n",
    ") = rbd_pc_b.summarize_bootstrapped_params()\n",
    "(\n",
    "    rbd_pc_a_copy_escape_dict,\n",
    "    rbd_pc_a_copy_activity_wt_dict,\n",
    ") = rbd_pc_a_copy.summarize_bootstrapped_params()\n",
    "(\n",
    "    rbd_pc_b_copy_escape_dict,\n",
    "    rbd_pc_b_copy_activity_wt_dict,\n",
    ") = rbd_pc_b_copy.summarize_bootstrapped_params()"
   ]
  },
  {
   "cell_type": "code",
   "execution_count": null,
   "id": "9b360b1f-1498-4c87-bfbf-89f135254da1",
   "metadata": {},
   "outputs": [],
   "source": [
    "# Test to see if inferreed params are the same with the same seed.\n",
    "assert rbd_pc_a_escape_dict[\"mean\"].equals(rbd_pc_a_copy_escape_dict[\"mean\"])\n",
    "assert rbd_pc_a_escape_dict[\"median\"].equals(rbd_pc_a_copy_escape_dict[\"median\"])\n",
    "assert rbd_pc_a_escape_dict[\"std\"].equals(rbd_pc_a_copy_escape_dict[\"std\"])"
   ]
  },
  {
   "cell_type": "code",
   "execution_count": null,
   "id": "9570b418-aedb-411a-86c6-7ff84767c1dc",
   "metadata": {},
   "outputs": [],
   "source": [
    "assert rbd_pc_a_activity_wt_dict[\"mean\"].equals(rbd_pc_a_copy_activity_wt_dict[\"mean\"])\n",
    "assert rbd_pc_a_activity_wt_dict[\"median\"].equals(\n",
    "    rbd_pc_a_copy_activity_wt_dict[\"median\"]\n",
    ")\n",
    "assert rbd_pc_a_activity_wt_dict[\"std\"].equals(rbd_pc_a_copy_activity_wt_dict[\"std\"])"
   ]
  },
  {
   "cell_type": "code",
   "execution_count": null,
   "id": "3d667494-47d9-4cb7-9913-30d256dbedb9",
   "metadata": {},
   "outputs": [],
   "source": [
    "# Test to see if inferred params are the same with same seed and different thread count\n",
    "assert rbd_pc_b_escape_dict[\"mean\"].equals(rbd_pc_b_copy_escape_dict[\"mean\"])\n",
    "assert rbd_pc_b_escape_dict[\"median\"].equals(rbd_pc_b_copy_escape_dict[\"median\"])\n",
    "assert rbd_pc_b_escape_dict[\"std\"].equals(rbd_pc_b_copy_escape_dict[\"std\"])\n",
    "\n",
    "assert rbd_pc_b_activity_wt_dict[\"mean\"].equals(rbd_pc_b_copy_activity_wt_dict[\"mean\"])\n",
    "assert rbd_pc_b_activity_wt_dict[\"median\"].equals(\n",
    "    rbd_pc_b_copy_activity_wt_dict[\"median\"]\n",
    ")\n",
    "assert rbd_pc_b_activity_wt_dict[\"std\"].equals(rbd_pc_b_copy_activity_wt_dict[\"std\"])"
   ]
  },
  {
   "cell_type": "code",
   "execution_count": null,
   "id": "579172d6-1be5-4b31-9e22-66b886edebe2",
   "metadata": {},
   "outputs": [],
   "source": [
    "# Make sure inferred params are different\n",
    "assert not rbd_pc_a_escape_dict[\"mean\"].equals(rbd_pc_b_escape_dict[\"mean\"])\n",
    "assert not rbd_pc_a_escape_dict[\"median\"].equals(rbd_pc_b_escape_dict[\"median\"])\n",
    "assert not rbd_pc_a_escape_dict[\"std\"].equals(rbd_pc_b_escape_dict[\"std\"])"
   ]
  },
  {
   "cell_type": "code",
   "execution_count": null,
   "id": "80424a67-9557-4335-ba3a-0de1337b2f0f",
   "metadata": {},
   "outputs": [],
   "source": [
    "assert not rbd_pc_a_activity_wt_dict[\"mean\"].equals(rbd_pc_b_activity_wt_dict[\"mean\"])\n",
    "assert not rbd_pc_a_activity_wt_dict[\"median\"].equals(\n",
    "    rbd_pc_b_activity_wt_dict[\"median\"]\n",
    ")\n",
    "assert not rbd_pc_a_activity_wt_dict[\"std\"].equals(rbd_pc_b_activity_wt_dict[\"std\"])"
   ]
  },
  {
   "cell_type": "code",
   "execution_count": null,
   "id": "a478c4e3-568e-4fe7-9768-c9762b1da9bb",
   "metadata": {},
   "outputs": [],
   "source": [
    "test_df = rbd_data.sample(n=200, random_state=0)\n",
    "pc_a_preds = pd.concat(rbd_pc_a.make_predictions(test_df))\n",
    "pc_b_preds = pd.concat(rbd_pc_b.make_predictions(test_df))\n",
    "pc_a_copy_preds = pd.concat(rbd_pc_a_copy.make_predictions(test_df))\n",
    "pc_b_copy_preds = pd.concat(rbd_pc_b_copy.make_predictions(test_df))"
   ]
  },
  {
   "cell_type": "code",
   "execution_count": null,
   "id": "687a9858-0317-4c67-888b-2fcca0c755d8",
   "metadata": {},
   "outputs": [],
   "source": [
    "assert pc_a_preds.equals(pc_a_copy_preds)"
   ]
  },
  {
   "cell_type": "code",
   "execution_count": null,
   "id": "27d51146-47c0-4ccd-9d8b-63b5432294ff",
   "metadata": {},
   "outputs": [],
   "source": [
    "assert not pc_a_preds.equals(pc_b_preds)"
   ]
  },
  {
   "cell_type": "code",
   "execution_count": null,
   "id": "27c46451-f768-4457-aa63-bd18bc217cba",
   "metadata": {},
   "outputs": [],
   "source": [
    "# Test threads for reproducability\n",
    "assert pc_b_preds.equals(pc_b_copy_preds)"
   ]
  }
 ],
 "metadata": {
  "kernelspec": {
   "display_name": "Python 3 (ipykernel)",
   "language": "python",
   "name": "python3"
  },
  "language_info": {
   "codemirror_mode": {
    "name": "ipython",
    "version": 3
   },
   "file_extension": ".py",
   "mimetype": "text/x-python",
   "name": "python",
   "nbconvert_exporter": "python",
   "pygments_lexer": "ipython3",
   "version": "3.8.12"
  }
 },
 "nbformat": 4,
 "nbformat_minor": 5
}
