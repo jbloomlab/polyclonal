{
 "cells": [
  {
   "cell_type": "markdown",
   "id": "c36de04a-7941-4b08-894f-1544f56eba13",
   "metadata": {},
   "source": [
    "# Bootstrapping model fits\n",
    "The previous section describes fitting a single model.\n",
    "But we may also want to have confidence estimates for the fit.\n",
    "We can do that via bootstrapping the data set.\n",
    "\n",
    "The overall recommended workflow is to first fit models to all the data to determine the number of epitopes, etc.\n",
    "Then once the desired fitting parameters are determined, you can bootstrap to get confidence on predictions.\n",
    "\n",
    "Here we illustrate bootstrapping on the simulated RBD data using the noisy data with an average of 2 mutations per gene."
   ]
  },
  {
   "cell_type": "markdown",
   "id": "d2dcddd6-723e-4fac-8e6f-bc57b7c0d955",
   "metadata": {},
   "source": [
    "## Get a model fit to all the data\n",
    "The first step is just to fit a `Polyclonal` model to all the data.\n",
    "We just did that in the previous notebook for our RBD example and saved the model using [pickle](https://docs.python.org/3/library/pickle.html), so here we just read in that model rather than re-fitting.\n",
    "We will call this the \"root\" model as it's used as the starting point (root) for the subsequent bootstrapping.\n",
    "Note that data (which we will bootstrap) are attached to this pre-fit model:"
   ]
  },
  {
   "cell_type": "code",
   "execution_count": 1,
   "id": "e243e290-8060-453d-ac3f-cb071681a22b",
   "metadata": {
    "execution": {
     "iopub.execute_input": "2022-03-17T02:33:47.704637Z",
     "iopub.status.busy": "2022-03-17T02:33:47.704397Z",
     "iopub.status.idle": "2022-03-17T02:33:49.333787Z",
     "shell.execute_reply": "2022-03-17T02:33:49.332740Z",
     "shell.execute_reply.started": "2022-03-17T02:33:47.704563Z"
    },
    "tags": []
   },
   "outputs": [
    {
     "data": {
      "text/html": [
       "<div>\n",
       "<style scoped>\n",
       "    .dataframe tbody tr th:only-of-type {\n",
       "        vertical-align: middle;\n",
       "    }\n",
       "\n",
       "    .dataframe tbody tr th {\n",
       "        vertical-align: top;\n",
       "    }\n",
       "\n",
       "    .dataframe thead th {\n",
       "        text-align: right;\n",
       "    }\n",
       "</style>\n",
       "<table border=\"1\" class=\"dataframe\">\n",
       "  <thead>\n",
       "    <tr style=\"text-align: right;\">\n",
       "      <th></th>\n",
       "      <th>library</th>\n",
       "      <th>aa_substitutions</th>\n",
       "      <th>concentration</th>\n",
       "      <th>prob_escape</th>\n",
       "      <th>IC90</th>\n",
       "    </tr>\n",
       "  </thead>\n",
       "  <tbody>\n",
       "    <tr>\n",
       "      <th>0</th>\n",
       "      <td>avg2muts</td>\n",
       "      <td></td>\n",
       "      <td>0.25</td>\n",
       "      <td>0.05044</td>\n",
       "      <td>0.1128</td>\n",
       "    </tr>\n",
       "    <tr>\n",
       "      <th>1</th>\n",
       "      <td>avg2muts</td>\n",
       "      <td></td>\n",
       "      <td>0.25</td>\n",
       "      <td>0.14310</td>\n",
       "      <td>0.1128</td>\n",
       "    </tr>\n",
       "    <tr>\n",
       "      <th>2</th>\n",
       "      <td>avg2muts</td>\n",
       "      <td></td>\n",
       "      <td>0.25</td>\n",
       "      <td>0.05452</td>\n",
       "      <td>0.1128</td>\n",
       "    </tr>\n",
       "    <tr>\n",
       "      <th>3</th>\n",
       "      <td>avg2muts</td>\n",
       "      <td></td>\n",
       "      <td>0.25</td>\n",
       "      <td>0.08473</td>\n",
       "      <td>0.1128</td>\n",
       "    </tr>\n",
       "    <tr>\n",
       "      <th>4</th>\n",
       "      <td>avg2muts</td>\n",
       "      <td></td>\n",
       "      <td>0.25</td>\n",
       "      <td>0.04174</td>\n",
       "      <td>0.1128</td>\n",
       "    </tr>\n",
       "  </tbody>\n",
       "</table>\n",
       "</div>"
      ],
      "text/plain": [
       "    library aa_substitutions  concentration  prob_escape    IC90\n",
       "0  avg2muts                            0.25      0.05044  0.1128\n",
       "1  avg2muts                            0.25      0.14310  0.1128\n",
       "2  avg2muts                            0.25      0.05452  0.1128\n",
       "3  avg2muts                            0.25      0.08473  0.1128\n",
       "4  avg2muts                            0.25      0.04174  0.1128"
      ]
     },
     "execution_count": 1,
     "metadata": {},
     "output_type": "execute_result"
    }
   ],
   "source": [
    "# NBVAL_IGNORE_OUTPUT\n",
    "\n",
    "import pickle\n",
    "\n",
    "with open(\"fit_RBD_model.pickle\", \"rb\") as f:\n",
    "    root_poly = pickle.load(f)\n",
    "\n",
    "root_poly.data_to_fit.head()"
   ]
  },
  {
   "cell_type": "markdown",
   "id": "5f1f752f-8846-4fb5-8c75-3767024cf241",
   "metadata": {},
   "source": [
    "## Create and fit bootstrapped models\n",
    "To create the bootstrapped models, we initialize a `PolyclonalCollection`, here just using 10 samples for speed (for better error estimates you may want more on the order of 20 to 100).\n",
    "Note it is important that the root model you are using has already been fit to the data!"
   ]
  },
  {
   "cell_type": "code",
   "execution_count": 2,
   "id": "4388c779-0811-426e-a095-8e7d1a08eff2",
   "metadata": {
    "execution": {
     "iopub.execute_input": "2022-03-17T02:33:49.337813Z",
     "iopub.status.busy": "2022-03-17T02:33:49.337421Z",
     "iopub.status.idle": "2022-03-17T02:33:51.828154Z",
     "shell.execute_reply": "2022-03-17T02:33:51.826715Z",
     "shell.execute_reply.started": "2022-03-17T02:33:49.337786Z"
    },
    "tags": []
   },
   "outputs": [],
   "source": [
    "import polyclonal\n",
    "\n",
    "n_bootstrap_samples = 10\n",
    "\n",
    "bootstrap_poly = polyclonal.PolyclonalCollection(\n",
    "    root_polyclonal=root_poly,\n",
    "    n_bootstrap_samples=n_bootstrap_samples,\n",
    ")"
   ]
  },
  {
   "cell_type": "markdown",
   "id": "6d739e13-74b8-4b53-a066-235db92a51bb",
   "metadata": {},
   "source": [
    "Now fit the models:"
   ]
  },
  {
   "cell_type": "code",
   "execution_count": 3,
   "id": "5006b868-7007-4b67-816f-8811ffca5a09",
   "metadata": {
    "execution": {
     "iopub.execute_input": "2022-03-17T02:33:51.836193Z",
     "iopub.status.busy": "2022-03-17T02:33:51.835838Z",
     "iopub.status.idle": "2022-03-17T02:33:52.134776Z",
     "shell.execute_reply": "2022-03-17T02:33:52.133965Z",
     "shell.execute_reply.started": "2022-03-17T02:33:51.836152Z"
    },
    "tags": []
   },
   "outputs": [],
   "source": [
    "with open(\"_temp_bootstrap_poly.pickle\", \"rb\") as f:\n",
    "    # pickle.dump(bootstrap_poly, f)\n",
    "    bootstrap_poly = pickle.load(f)"
   ]
  },
  {
   "cell_type": "markdown",
   "id": "7c854156-2b14-4956-9084-e06b784e77b3",
   "metadata": {
    "execution": {
     "iopub.execute_input": "2022-03-16T23:49:22.469975Z",
     "iopub.status.busy": "2022-03-16T23:49:22.469613Z",
     "iopub.status.idle": "2022-03-16T23:51:30.846225Z",
     "shell.execute_reply": "2022-03-16T23:51:30.845381Z",
     "shell.execute_reply.started": "2022-03-16T23:49:22.469938Z"
    },
    "tags": []
   },
   "source": [
    "# NBVAL_IGNORE_OUTPUT\n",
    "\n",
    "import time\n",
    "\n",
    "start = time.time()\n",
    "print(f\"Starting fitting bootstrap models at {time.asctime()}\")\n",
    "n_fit, n_failed = bootstrap_poly.fit_models()\n",
    "print(f\"Fitting took {time.time() - start:.3g} seconds, finished at {time.asctime()}\")\n",
    "assert n_failed == 0 and n_fit == n_bootstrap_samples"
   ]
  },
  {
   "cell_type": "markdown",
   "id": "7ac94916-50e4-4514-8665-97a1e72d84e2",
   "metadata": {},
   "source": [
    "## Look at summarized results\n",
    "We can get the resulting measurements for the epitope activities and mutation effects both per-replicate and summarized across replicates (mean, median, standard deviation).\n",
    "\n",
    "Epitope activities for each replicate:"
   ]
  },
  {
   "cell_type": "code",
   "execution_count": 4,
   "id": "3992ec56-9e80-40a8-a626-8de0fedf3625",
   "metadata": {
    "execution": {
     "iopub.execute_input": "2022-03-17T02:33:52.138637Z",
     "iopub.status.busy": "2022-03-17T02:33:52.138331Z",
     "iopub.status.idle": "2022-03-17T02:33:52.164931Z",
     "shell.execute_reply": "2022-03-17T02:33:52.164206Z",
     "shell.execute_reply.started": "2022-03-17T02:33:52.138612Z"
    },
    "tags": []
   },
   "outputs": [
    {
     "data": {
      "text/html": [
       "<div>\n",
       "<style scoped>\n",
       "    .dataframe tbody tr th:only-of-type {\n",
       "        vertical-align: middle;\n",
       "    }\n",
       "\n",
       "    .dataframe tbody tr th {\n",
       "        vertical-align: top;\n",
       "    }\n",
       "\n",
       "    .dataframe thead th {\n",
       "        text-align: right;\n",
       "    }\n",
       "</style>\n",
       "<table border=\"1\" class=\"dataframe\">\n",
       "  <thead>\n",
       "    <tr style=\"text-align: right;\">\n",
       "      <th></th>\n",
       "      <th>epitope</th>\n",
       "      <th>activity</th>\n",
       "      <th>bootstrap_replicate</th>\n",
       "    </tr>\n",
       "  </thead>\n",
       "  <tbody>\n",
       "    <tr>\n",
       "      <th>0</th>\n",
       "      <td>1</td>\n",
       "      <td>1.3</td>\n",
       "      <td>1</td>\n",
       "    </tr>\n",
       "    <tr>\n",
       "      <th>1</th>\n",
       "      <td>2</td>\n",
       "      <td>3.2</td>\n",
       "      <td>1</td>\n",
       "    </tr>\n",
       "    <tr>\n",
       "      <th>2</th>\n",
       "      <td>3</td>\n",
       "      <td>1.9</td>\n",
       "      <td>1</td>\n",
       "    </tr>\n",
       "    <tr>\n",
       "      <th>3</th>\n",
       "      <td>1</td>\n",
       "      <td>1.2</td>\n",
       "      <td>2</td>\n",
       "    </tr>\n",
       "    <tr>\n",
       "      <th>4</th>\n",
       "      <td>2</td>\n",
       "      <td>3.2</td>\n",
       "      <td>2</td>\n",
       "    </tr>\n",
       "  </tbody>\n",
       "</table>\n",
       "</div>"
      ],
      "text/plain": [
       "  epitope  activity  bootstrap_replicate\n",
       "0       1       1.3                    1\n",
       "1       2       3.2                    1\n",
       "2       3       1.9                    1\n",
       "3       1       1.2                    2\n",
       "4       2       3.2                    2"
      ]
     },
     "execution_count": 4,
     "metadata": {},
     "output_type": "execute_result"
    }
   ],
   "source": [
    "# NBVAL_IGNORE_OUTPUT\n",
    "bootstrap_poly.activity_wt_df_replicates.round(1).head()"
   ]
  },
  {
   "cell_type": "markdown",
   "id": "3089ea19-f7bd-4c65-a4de-9f70e88a15b6",
   "metadata": {},
   "source": [
    "Epitope activities summarized across replicates.\n",
    "The `std` column gives the standard deviation:"
   ]
  },
  {
   "cell_type": "code",
   "execution_count": 5,
   "id": "3b0e02c8-91a5-4876-8970-6905a0f6533c",
   "metadata": {
    "execution": {
     "iopub.execute_input": "2022-03-17T02:33:52.169953Z",
     "iopub.status.busy": "2022-03-17T02:33:52.169271Z",
     "iopub.status.idle": "2022-03-17T02:33:52.208193Z",
     "shell.execute_reply": "2022-03-17T02:33:52.207681Z",
     "shell.execute_reply.started": "2022-03-17T02:33:52.169901Z"
    },
    "tags": []
   },
   "outputs": [
    {
     "data": {
      "text/html": [
       "<div>\n",
       "<style scoped>\n",
       "    .dataframe tbody tr th:only-of-type {\n",
       "        vertical-align: middle;\n",
       "    }\n",
       "\n",
       "    .dataframe tbody tr th {\n",
       "        vertical-align: top;\n",
       "    }\n",
       "\n",
       "    .dataframe thead th {\n",
       "        text-align: right;\n",
       "    }\n",
       "</style>\n",
       "<table border=\"1\" class=\"dataframe\">\n",
       "  <thead>\n",
       "    <tr style=\"text-align: right;\">\n",
       "      <th></th>\n",
       "      <th>epitope</th>\n",
       "      <th>mean</th>\n",
       "      <th>median</th>\n",
       "      <th>std</th>\n",
       "    </tr>\n",
       "  </thead>\n",
       "  <tbody>\n",
       "    <tr>\n",
       "      <th>0</th>\n",
       "      <td>1</td>\n",
       "      <td>1.2</td>\n",
       "      <td>1.3</td>\n",
       "      <td>0.1</td>\n",
       "    </tr>\n",
       "    <tr>\n",
       "      <th>1</th>\n",
       "      <td>2</td>\n",
       "      <td>3.2</td>\n",
       "      <td>3.2</td>\n",
       "      <td>0.0</td>\n",
       "    </tr>\n",
       "    <tr>\n",
       "      <th>2</th>\n",
       "      <td>3</td>\n",
       "      <td>1.9</td>\n",
       "      <td>1.9</td>\n",
       "      <td>0.1</td>\n",
       "    </tr>\n",
       "  </tbody>\n",
       "</table>\n",
       "</div>"
      ],
      "text/plain": [
       "  epitope  mean  median  std\n",
       "0       1   1.2     1.3  0.1\n",
       "1       2   3.2     3.2  0.0\n",
       "2       3   1.9     1.9  0.1"
      ]
     },
     "execution_count": 5,
     "metadata": {},
     "output_type": "execute_result"
    }
   ],
   "source": [
    "bootstrap_poly.activity_wt_df.round(1)"
   ]
  },
  {
   "cell_type": "markdown",
   "id": "d2144618-6d5c-41d9-ab56-723c69a7a3b1",
   "metadata": {},
   "source": [
    "We can plot the epitope activities summarized across replicates.\n",
    "The dropdown allows you to choose the summary stat (mean, median), and the black lines indicate the standard deviation.\n",
    "Mouse over for values:"
   ]
  },
  {
   "cell_type": "code",
   "execution_count": 6,
   "id": "eb9dffca-0e26-4c33-86a1-87be82cc809a",
   "metadata": {
    "execution": {
     "iopub.execute_input": "2022-03-17T02:33:52.211923Z",
     "iopub.status.busy": "2022-03-17T02:33:52.211332Z",
     "iopub.status.idle": "2022-03-17T02:33:52.447213Z",
     "shell.execute_reply": "2022-03-17T02:33:52.446555Z",
     "shell.execute_reply.started": "2022-03-17T02:33:52.211819Z"
    },
    "tags": []
   },
   "outputs": [
    {
     "data": {
      "text/html": [
       "\n",
       "<div id=\"altair-viz-4e562871337141a2849a7f66d456f1b1\"></div>\n",
       "<script type=\"text/javascript\">\n",
       "  var VEGA_DEBUG = (typeof VEGA_DEBUG == \"undefined\") ? {} : VEGA_DEBUG;\n",
       "  (function(spec, embedOpt){\n",
       "    let outputDiv = document.currentScript.previousElementSibling;\n",
       "    if (outputDiv.id !== \"altair-viz-4e562871337141a2849a7f66d456f1b1\") {\n",
       "      outputDiv = document.getElementById(\"altair-viz-4e562871337141a2849a7f66d456f1b1\");\n",
       "    }\n",
       "    const paths = {\n",
       "      \"vega\": \"https://cdn.jsdelivr.net/npm//vega@5?noext\",\n",
       "      \"vega-lib\": \"https://cdn.jsdelivr.net/npm//vega-lib?noext\",\n",
       "      \"vega-lite\": \"https://cdn.jsdelivr.net/npm//vega-lite@4.17.0?noext\",\n",
       "      \"vega-embed\": \"https://cdn.jsdelivr.net/npm//vega-embed@6?noext\",\n",
       "    };\n",
       "\n",
       "    function maybeLoadScript(lib, version) {\n",
       "      var key = `${lib.replace(\"-\", \"\")}_version`;\n",
       "      return (VEGA_DEBUG[key] == version) ?\n",
       "        Promise.resolve(paths[lib]) :\n",
       "        new Promise(function(resolve, reject) {\n",
       "          var s = document.createElement('script');\n",
       "          document.getElementsByTagName(\"head\")[0].appendChild(s);\n",
       "          s.async = true;\n",
       "          s.onload = () => {\n",
       "            VEGA_DEBUG[key] = version;\n",
       "            return resolve(paths[lib]);\n",
       "          };\n",
       "          s.onerror = () => reject(`Error loading script: ${paths[lib]}`);\n",
       "          s.src = paths[lib];\n",
       "        });\n",
       "    }\n",
       "\n",
       "    function showError(err) {\n",
       "      outputDiv.innerHTML = `<div class=\"error\" style=\"color:red;\">${err}</div>`;\n",
       "      throw err;\n",
       "    }\n",
       "\n",
       "    function displayChart(vegaEmbed) {\n",
       "      vegaEmbed(outputDiv, spec, embedOpt)\n",
       "        .catch(err => showError(`Javascript Error: ${err.message}<br>This usually means there's a typo in your chart specification. See the javascript console for the full traceback.`));\n",
       "    }\n",
       "\n",
       "    if(typeof define === \"function\" && define.amd) {\n",
       "      requirejs.config({paths});\n",
       "      require([\"vega-embed\"], displayChart, err => showError(`Error loading script: ${err.message}`));\n",
       "    } else {\n",
       "      maybeLoadScript(\"vega\", \"5\")\n",
       "        .then(() => maybeLoadScript(\"vega-lite\", \"4.17.0\"))\n",
       "        .then(() => maybeLoadScript(\"vega-embed\", \"6\"))\n",
       "        .catch(showError)\n",
       "        .then(() => displayChart(vegaEmbed));\n",
       "    }\n",
       "  })({\"config\": {\"view\": {\"continuousWidth\": 400, \"continuousHeight\": 300}, \"axis\": {\"grid\": false}}, \"layer\": [{\"mark\": {\"type\": \"bar\", \"size\": 18.75}, \"encoding\": {\"color\": {\"field\": \"epitope\", \"legend\": null, \"scale\": {\"domain\": [\"1\", \"2\", \"3\"], \"range\": [\"#1f77b4\", \"#ff7f0e\", \"#2ca02c\"]}, \"type\": \"nominal\"}, \"tooltip\": [{\"field\": \"epitope\", \"type\": \"nominal\"}, {\"field\": \"statistic\", \"type\": \"nominal\"}, {\"field\": \"activity\", \"format\": \".3g\", \"type\": \"quantitative\"}, {\"field\": \"std\", \"format\": \".3g\", \"type\": \"quantitative\"}], \"x\": {\"field\": \"activity\", \"title\": \"activity\", \"type\": \"quantitative\"}, \"y\": {\"field\": \"epitope\", \"sort\": [\"1\", \"2\", \"3\"], \"type\": \"nominal\"}}, \"height\": {\"step\": 25}, \"selection\": {\"selector001\": {\"type\": \"single\", \"fields\": [\"statistic\"], \"init\": {\"statistic\": \"mean\"}, \"bind\": {\"input\": \"select\", \"options\": [\"mean\", \"median\"], \"name\": \"statistic\"}}}, \"width\": 110}, {\"mark\": {\"type\": \"rule\", \"size\": 2}, \"encoding\": {\"color\": {\"value\": \"black\"}, \"tooltip\": [{\"field\": \"epitope\", \"type\": \"nominal\"}, {\"field\": \"statistic\", \"type\": \"nominal\"}, {\"field\": \"activity\", \"format\": \".3g\", \"type\": \"quantitative\"}, {\"field\": \"std\", \"format\": \".3g\", \"type\": \"quantitative\"}], \"x\": {\"field\": \"_lower\", \"type\": \"quantitative\"}, \"x2\": {\"field\": \"_upper\"}, \"y\": {\"field\": \"epitope\", \"sort\": [\"1\", \"2\", \"3\"], \"type\": \"nominal\"}}, \"height\": {\"step\": 25}, \"width\": 110}], \"data\": {\"name\": \"data-707fe68e1c882bd726b44466812fe3ae\"}, \"transform\": [{\"filter\": {\"selection\": \"selector001\"}}], \"$schema\": \"https://vega.github.io/schema/vega-lite/v4.17.0.json\", \"datasets\": {\"data-707fe68e1c882bd726b44466812fe3ae\": [{\"epitope\": \"1\", \"statistic\": \"mean\", \"activity\": 1.249178537744084, \"std\": 0.06754368710862395, \"_lower\": 1.1816348506354601, \"_upper\": 1.316722224852708}, {\"epitope\": \"1\", \"statistic\": \"median\", \"activity\": 1.2724938589112136, \"std\": 0.06754368710862395, \"_lower\": 1.2049501718025897, \"_upper\": 1.3400375460198375}, {\"epitope\": \"2\", \"statistic\": \"mean\", \"activity\": 3.178270841684546, \"std\": 0.027431638507795914, \"_lower\": 3.15083920317675, \"_upper\": 3.205702480192342}, {\"epitope\": \"2\", \"statistic\": \"median\", \"activity\": 3.1750536253609893, \"std\": 0.027431638507795914, \"_lower\": 3.1476219868531934, \"_upper\": 3.2024852638687853}, {\"epitope\": \"3\", \"statistic\": \"mean\", \"activity\": 1.9386842640455337, \"std\": 0.0590832346092836, \"_lower\": 1.8796010294362502, \"_upper\": 1.9977674986548173}, {\"epitope\": \"3\", \"statistic\": \"median\", \"activity\": 1.9396400280337733, \"std\": 0.0590832346092836, \"_lower\": 1.8805567934244898, \"_upper\": 1.9987232626430569}]}}, {\"mode\": \"vega-lite\"});\n",
       "</script>"
      ],
      "text/plain": [
       "alt.LayerChart(...)"
      ]
     },
     "execution_count": 6,
     "metadata": {},
     "output_type": "execute_result"
    }
   ],
   "source": [
    "bootstrap_poly.activity_wt_barplot()"
   ]
  },
  {
   "cell_type": "markdown",
   "id": "e0c5acdc-409c-423c-b630-1b5fdb75526d",
   "metadata": {},
   "source": [
    "Mutation escape values for each replicate:"
   ]
  },
  {
   "cell_type": "code",
   "execution_count": 8,
   "id": "0f9c74e6-54dd-422b-86ca-cf294df8b28a",
   "metadata": {
    "execution": {
     "iopub.execute_input": "2022-03-17T02:33:52.702107Z",
     "iopub.status.busy": "2022-03-17T02:33:52.701739Z",
     "iopub.status.idle": "2022-03-17T02:33:52.986660Z",
     "shell.execute_reply": "2022-03-17T02:33:52.986020Z",
     "shell.execute_reply.started": "2022-03-17T02:33:52.702071Z"
    },
    "tags": []
   },
   "outputs": [
    {
     "data": {
      "text/html": [
       "<div>\n",
       "<style scoped>\n",
       "    .dataframe tbody tr th:only-of-type {\n",
       "        vertical-align: middle;\n",
       "    }\n",
       "\n",
       "    .dataframe tbody tr th {\n",
       "        vertical-align: top;\n",
       "    }\n",
       "\n",
       "    .dataframe thead th {\n",
       "        text-align: right;\n",
       "    }\n",
       "</style>\n",
       "<table border=\"1\" class=\"dataframe\">\n",
       "  <thead>\n",
       "    <tr style=\"text-align: right;\">\n",
       "      <th></th>\n",
       "      <th>epitope</th>\n",
       "      <th>site</th>\n",
       "      <th>wildtype</th>\n",
       "      <th>mutant</th>\n",
       "      <th>mutation</th>\n",
       "      <th>escape</th>\n",
       "      <th>bootstrap_replicate</th>\n",
       "    </tr>\n",
       "  </thead>\n",
       "  <tbody>\n",
       "    <tr>\n",
       "      <th>0</th>\n",
       "      <td>1</td>\n",
       "      <td>331</td>\n",
       "      <td>N</td>\n",
       "      <td>A</td>\n",
       "      <td>N331A</td>\n",
       "      <td>0.1</td>\n",
       "      <td>1</td>\n",
       "    </tr>\n",
       "    <tr>\n",
       "      <th>1</th>\n",
       "      <td>1</td>\n",
       "      <td>331</td>\n",
       "      <td>N</td>\n",
       "      <td>D</td>\n",
       "      <td>N331D</td>\n",
       "      <td>0.1</td>\n",
       "      <td>1</td>\n",
       "    </tr>\n",
       "    <tr>\n",
       "      <th>2</th>\n",
       "      <td>1</td>\n",
       "      <td>331</td>\n",
       "      <td>N</td>\n",
       "      <td>E</td>\n",
       "      <td>N331E</td>\n",
       "      <td>0.3</td>\n",
       "      <td>1</td>\n",
       "    </tr>\n",
       "    <tr>\n",
       "      <th>3</th>\n",
       "      <td>1</td>\n",
       "      <td>331</td>\n",
       "      <td>N</td>\n",
       "      <td>F</td>\n",
       "      <td>N331F</td>\n",
       "      <td>0.1</td>\n",
       "      <td>1</td>\n",
       "    </tr>\n",
       "    <tr>\n",
       "      <th>4</th>\n",
       "      <td>1</td>\n",
       "      <td>331</td>\n",
       "      <td>N</td>\n",
       "      <td>G</td>\n",
       "      <td>N331G</td>\n",
       "      <td>2.2</td>\n",
       "      <td>1</td>\n",
       "    </tr>\n",
       "  </tbody>\n",
       "</table>\n",
       "</div>"
      ],
      "text/plain": [
       "  epitope  site wildtype mutant mutation  escape  bootstrap_replicate\n",
       "0       1   331        N      A    N331A     0.1                    1\n",
       "1       1   331        N      D    N331D     0.1                    1\n",
       "2       1   331        N      E    N331E     0.3                    1\n",
       "3       1   331        N      F    N331F     0.1                    1\n",
       "4       1   331        N      G    N331G     2.2                    1"
      ]
     },
     "execution_count": 8,
     "metadata": {},
     "output_type": "execute_result"
    }
   ],
   "source": [
    "# NBVAL_IGNORE_OUTPUT\n",
    "bootstrap_poly.mut_escape_df_replicates.round(1).head()"
   ]
  },
  {
   "cell_type": "markdown",
   "id": "78c40c30-a142-47a3-b734-e642f6dc857e",
   "metadata": {},
   "source": [
    "Mutation escape values summarizes across replicates.\n",
    "Note the `frac_bootstrap_replicates` column has the fraction of bootstrap replicates with a value for this mutation:"
   ]
  },
  {
   "cell_type": "code",
   "execution_count": 9,
   "id": "9d4438ce-98b4-40de-b1c1-331e7b68e7a3",
   "metadata": {
    "execution": {
     "iopub.execute_input": "2022-03-17T02:33:52.989688Z",
     "iopub.status.busy": "2022-03-17T02:33:52.989338Z",
     "iopub.status.idle": "2022-03-17T02:33:53.267204Z",
     "shell.execute_reply": "2022-03-17T02:33:53.266495Z",
     "shell.execute_reply.started": "2022-03-17T02:33:52.989653Z"
    },
    "tags": []
   },
   "outputs": [
    {
     "data": {
      "text/html": [
       "<div>\n",
       "<style scoped>\n",
       "    .dataframe tbody tr th:only-of-type {\n",
       "        vertical-align: middle;\n",
       "    }\n",
       "\n",
       "    .dataframe tbody tr th {\n",
       "        vertical-align: top;\n",
       "    }\n",
       "\n",
       "    .dataframe thead th {\n",
       "        text-align: right;\n",
       "    }\n",
       "</style>\n",
       "<table border=\"1\" class=\"dataframe\">\n",
       "  <thead>\n",
       "    <tr style=\"text-align: right;\">\n",
       "      <th></th>\n",
       "      <th>epitope</th>\n",
       "      <th>site</th>\n",
       "      <th>wildtype</th>\n",
       "      <th>mutant</th>\n",
       "      <th>mutation</th>\n",
       "      <th>mean</th>\n",
       "      <th>median</th>\n",
       "      <th>std</th>\n",
       "      <th>n_bootstrap_replicates</th>\n",
       "      <th>frac_bootstrap_replicates</th>\n",
       "    </tr>\n",
       "  </thead>\n",
       "  <tbody>\n",
       "    <tr>\n",
       "      <th>0</th>\n",
       "      <td>1</td>\n",
       "      <td>331</td>\n",
       "      <td>N</td>\n",
       "      <td>A</td>\n",
       "      <td>N331A</td>\n",
       "      <td>0.2</td>\n",
       "      <td>0.1</td>\n",
       "      <td>0.2</td>\n",
       "      <td>10</td>\n",
       "      <td>1.0</td>\n",
       "    </tr>\n",
       "    <tr>\n",
       "      <th>1</th>\n",
       "      <td>1</td>\n",
       "      <td>331</td>\n",
       "      <td>N</td>\n",
       "      <td>D</td>\n",
       "      <td>N331D</td>\n",
       "      <td>0.4</td>\n",
       "      <td>0.3</td>\n",
       "      <td>0.4</td>\n",
       "      <td>10</td>\n",
       "      <td>1.0</td>\n",
       "    </tr>\n",
       "    <tr>\n",
       "      <th>2</th>\n",
       "      <td>1</td>\n",
       "      <td>331</td>\n",
       "      <td>N</td>\n",
       "      <td>E</td>\n",
       "      <td>N331E</td>\n",
       "      <td>-0.0</td>\n",
       "      <td>-0.1</td>\n",
       "      <td>0.3</td>\n",
       "      <td>10</td>\n",
       "      <td>1.0</td>\n",
       "    </tr>\n",
       "  </tbody>\n",
       "</table>\n",
       "</div>"
      ],
      "text/plain": [
       "  epitope  site wildtype mutant mutation  mean  median  std  \\\n",
       "0       1   331        N      A    N331A   0.2     0.1  0.2   \n",
       "1       1   331        N      D    N331D   0.4     0.3  0.4   \n",
       "2       1   331        N      E    N331E  -0.0    -0.1  0.3   \n",
       "\n",
       "   n_bootstrap_replicates  frac_bootstrap_replicates  \n",
       "0                      10                        1.0  \n",
       "1                      10                        1.0  \n",
       "2                      10                        1.0  "
      ]
     },
     "execution_count": 9,
     "metadata": {},
     "output_type": "execute_result"
    }
   ],
   "source": [
    "bootstrap_poly.mut_escape_df.round(1).head(n=3)"
   ]
  },
  {
   "cell_type": "markdown",
   "id": "1fc0ae25-9d66-4ed2-9203-d745c3f7fcc0",
   "metadata": {},
   "source": [
    "Site summaries of mutation escape values for replicates:"
   ]
  },
  {
   "cell_type": "code",
   "execution_count": 10,
   "id": "cefd6935-a4d1-436d-95ea-c20777ec10fc",
   "metadata": {
    "execution": {
     "iopub.execute_input": "2022-03-17T02:33:53.268561Z",
     "iopub.status.busy": "2022-03-17T02:33:53.268249Z",
     "iopub.status.idle": "2022-03-17T02:33:53.664502Z",
     "shell.execute_reply": "2022-03-17T02:33:53.663953Z",
     "shell.execute_reply.started": "2022-03-17T02:33:53.268529Z"
    },
    "tags": []
   },
   "outputs": [
    {
     "data": {
      "text/html": [
       "<div>\n",
       "<style scoped>\n",
       "    .dataframe tbody tr th:only-of-type {\n",
       "        vertical-align: middle;\n",
       "    }\n",
       "\n",
       "    .dataframe tbody tr th {\n",
       "        vertical-align: top;\n",
       "    }\n",
       "\n",
       "    .dataframe thead th {\n",
       "        text-align: right;\n",
       "    }\n",
       "</style>\n",
       "<table border=\"1\" class=\"dataframe\">\n",
       "  <thead>\n",
       "    <tr style=\"text-align: right;\">\n",
       "      <th></th>\n",
       "      <th>epitope</th>\n",
       "      <th>site</th>\n",
       "      <th>wildtype</th>\n",
       "      <th>mean</th>\n",
       "      <th>total positive</th>\n",
       "      <th>max</th>\n",
       "      <th>min</th>\n",
       "      <th>total negative</th>\n",
       "      <th>bootstrap_replicate</th>\n",
       "    </tr>\n",
       "  </thead>\n",
       "  <tbody>\n",
       "    <tr>\n",
       "      <th>0</th>\n",
       "      <td>1</td>\n",
       "      <td>331</td>\n",
       "      <td>N</td>\n",
       "      <td>0.7</td>\n",
       "      <td>11.7</td>\n",
       "      <td>2.2</td>\n",
       "      <td>-0.0</td>\n",
       "      <td>-0.0</td>\n",
       "      <td>1</td>\n",
       "    </tr>\n",
       "    <tr>\n",
       "      <th>1</th>\n",
       "      <td>1</td>\n",
       "      <td>332</td>\n",
       "      <td>I</td>\n",
       "      <td>0.8</td>\n",
       "      <td>15.6</td>\n",
       "      <td>2.5</td>\n",
       "      <td>-0.6</td>\n",
       "      <td>-1.1</td>\n",
       "      <td>1</td>\n",
       "    </tr>\n",
       "    <tr>\n",
       "      <th>2</th>\n",
       "      <td>1</td>\n",
       "      <td>333</td>\n",
       "      <td>T</td>\n",
       "      <td>0.4</td>\n",
       "      <td>7.3</td>\n",
       "      <td>1.4</td>\n",
       "      <td>-0.5</td>\n",
       "      <td>-0.9</td>\n",
       "      <td>1</td>\n",
       "    </tr>\n",
       "    <tr>\n",
       "      <th>3</th>\n",
       "      <td>1</td>\n",
       "      <td>334</td>\n",
       "      <td>N</td>\n",
       "      <td>0.7</td>\n",
       "      <td>12.6</td>\n",
       "      <td>2.3</td>\n",
       "      <td>-0.2</td>\n",
       "      <td>-0.2</td>\n",
       "      <td>1</td>\n",
       "    </tr>\n",
       "    <tr>\n",
       "      <th>4</th>\n",
       "      <td>1</td>\n",
       "      <td>335</td>\n",
       "      <td>L</td>\n",
       "      <td>0.1</td>\n",
       "      <td>5.4</td>\n",
       "      <td>1.4</td>\n",
       "      <td>-1.4</td>\n",
       "      <td>-3.7</td>\n",
       "      <td>1</td>\n",
       "    </tr>\n",
       "  </tbody>\n",
       "</table>\n",
       "</div>"
      ],
      "text/plain": [
       "  epitope  site wildtype  mean  total positive  max  min  total negative  \\\n",
       "0       1   331        N   0.7            11.7  2.2 -0.0            -0.0   \n",
       "1       1   332        I   0.8            15.6  2.5 -0.6            -1.1   \n",
       "2       1   333        T   0.4             7.3  1.4 -0.5            -0.9   \n",
       "3       1   334        N   0.7            12.6  2.3 -0.2            -0.2   \n",
       "4       1   335        L   0.1             5.4  1.4 -1.4            -3.7   \n",
       "\n",
       "   bootstrap_replicate  \n",
       "0                    1  \n",
       "1                    1  \n",
       "2                    1  \n",
       "3                    1  \n",
       "4                    1  "
      ]
     },
     "execution_count": 10,
     "metadata": {},
     "output_type": "execute_result"
    }
   ],
   "source": [
    "# NBVAL_IGNORE_OUTPUT\n",
    "bootstrap_poly.mut_escape_site_summary_df_replicates.round(1).head()"
   ]
  },
  {
   "cell_type": "markdown",
   "id": "99ed0ee0-3e18-4d54-a35d-ed9adc76ae48",
   "metadata": {},
   "source": [
    "Site summaries of mutation escape values summarized (e.g., averaged) across replicates.\n",
    "Note that the `metric` column now indicates a different row for each site-summary metric type, which is then summarized by its mean, median, and standard deviation:"
   ]
  },
  {
   "cell_type": "code",
   "execution_count": 11,
   "id": "f4385713-9c73-4ddc-af36-2fe402e4b136",
   "metadata": {
    "execution": {
     "iopub.execute_input": "2022-03-17T02:33:53.665605Z",
     "iopub.status.busy": "2022-03-17T02:33:53.665265Z",
     "iopub.status.idle": "2022-03-17T02:33:54.083901Z",
     "shell.execute_reply": "2022-03-17T02:33:54.083193Z",
     "shell.execute_reply.started": "2022-03-17T02:33:53.665474Z"
    }
   },
   "outputs": [
    {
     "data": {
      "text/html": [
       "<div>\n",
       "<style scoped>\n",
       "    .dataframe tbody tr th:only-of-type {\n",
       "        vertical-align: middle;\n",
       "    }\n",
       "\n",
       "    .dataframe tbody tr th {\n",
       "        vertical-align: top;\n",
       "    }\n",
       "\n",
       "    .dataframe thead th {\n",
       "        text-align: right;\n",
       "    }\n",
       "</style>\n",
       "<table border=\"1\" class=\"dataframe\">\n",
       "  <thead>\n",
       "    <tr style=\"text-align: right;\">\n",
       "      <th></th>\n",
       "      <th>epitope</th>\n",
       "      <th>site</th>\n",
       "      <th>metric</th>\n",
       "      <th>mean</th>\n",
       "      <th>median</th>\n",
       "      <th>std</th>\n",
       "      <th>n_bootstrap_replicates</th>\n",
       "      <th>frac_bootstrap_replicates</th>\n",
       "    </tr>\n",
       "  </thead>\n",
       "  <tbody>\n",
       "    <tr>\n",
       "      <th>0</th>\n",
       "      <td>1</td>\n",
       "      <td>331</td>\n",
       "      <td>max</td>\n",
       "      <td>2.1</td>\n",
       "      <td>2.1</td>\n",
       "      <td>0.3</td>\n",
       "      <td>10</td>\n",
       "      <td>1.0</td>\n",
       "    </tr>\n",
       "    <tr>\n",
       "      <th>1</th>\n",
       "      <td>1</td>\n",
       "      <td>331</td>\n",
       "      <td>mean</td>\n",
       "      <td>0.7</td>\n",
       "      <td>0.7</td>\n",
       "      <td>0.1</td>\n",
       "      <td>10</td>\n",
       "      <td>1.0</td>\n",
       "    </tr>\n",
       "    <tr>\n",
       "      <th>2</th>\n",
       "      <td>1</td>\n",
       "      <td>331</td>\n",
       "      <td>min</td>\n",
       "      <td>-0.2</td>\n",
       "      <td>-0.2</td>\n",
       "      <td>0.2</td>\n",
       "      <td>10</td>\n",
       "      <td>1.0</td>\n",
       "    </tr>\n",
       "    <tr>\n",
       "      <th>3</th>\n",
       "      <td>1</td>\n",
       "      <td>331</td>\n",
       "      <td>total negative</td>\n",
       "      <td>-0.3</td>\n",
       "      <td>-0.3</td>\n",
       "      <td>0.2</td>\n",
       "      <td>10</td>\n",
       "      <td>1.0</td>\n",
       "    </tr>\n",
       "    <tr>\n",
       "      <th>4</th>\n",
       "      <td>1</td>\n",
       "      <td>331</td>\n",
       "      <td>total positive</td>\n",
       "      <td>11.1</td>\n",
       "      <td>10.8</td>\n",
       "      <td>1.1</td>\n",
       "      <td>10</td>\n",
       "      <td>1.0</td>\n",
       "    </tr>\n",
       "  </tbody>\n",
       "</table>\n",
       "</div>"
      ],
      "text/plain": [
       "  epitope  site          metric  mean  median  std  n_bootstrap_replicates  \\\n",
       "0       1   331             max   2.1     2.1  0.3                      10   \n",
       "1       1   331            mean   0.7     0.7  0.1                      10   \n",
       "2       1   331             min  -0.2    -0.2  0.2                      10   \n",
       "3       1   331  total negative  -0.3    -0.3  0.2                      10   \n",
       "4       1   331  total positive  11.1    10.8  1.1                      10   \n",
       "\n",
       "   frac_bootstrap_replicates  \n",
       "0                        1.0  \n",
       "1                        1.0  \n",
       "2                        1.0  \n",
       "3                        1.0  \n",
       "4                        1.0  "
      ]
     },
     "execution_count": 11,
     "metadata": {},
     "output_type": "execute_result"
    }
   ],
   "source": [
    "bootstrap_poly.mut_escape_site_summary_df.round(1).head()"
   ]
  },
  {
   "cell_type": "code",
   "execution_count": null,
   "id": "7fdb3495-5720-433b-ab5c-20d44d8e2263",
   "metadata": {},
   "outputs": [],
   "source": []
  }
 ],
 "metadata": {
  "kernelspec": {
   "display_name": "Python 3 (ipykernel)",
   "language": "python",
   "name": "python3"
  },
  "language_info": {
   "codemirror_mode": {
    "name": "ipython",
    "version": 3
   },
   "file_extension": ".py",
   "mimetype": "text/x-python",
   "name": "python",
   "nbconvert_exporter": "python",
   "pygments_lexer": "ipython3",
   "version": "3.8.12"
  }
 },
 "nbformat": 4,
 "nbformat_minor": 5
}
