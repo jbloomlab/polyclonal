{
 "cells": [
  {
   "cell_type": "markdown",
   "metadata": {},
   "source": [
    "# Choosing a set of sera concentrations for multi-mutant DMS"
   ]
  },
  {
   "cell_type": "code",
   "execution_count": 1,
   "metadata": {},
   "outputs": [],
   "source": [
    "import pandas as pd\n",
    "import polyclonal\n",
    "import pickle\n",
    "import altair as alt\n",
    "import numpy as np\n",
    "import time\n",
    "import os\n",
    "from plotnine import *"
   ]
  },
  {
   "cell_type": "markdown",
   "metadata": {},
   "source": [
    "We have simulated noisy data measured at 6 sera concentrations `[0.125, 0.25, 0.5, 1, 2, 4]`."
   ]
  },
  {
   "cell_type": "code",
   "execution_count": 2,
   "metadata": {},
   "outputs": [
    {
     "data": {
      "text/html": [
       "<div>\n",
       "<style scoped>\n",
       "    .dataframe tbody tr th:only-of-type {\n",
       "        vertical-align: middle;\n",
       "    }\n",
       "\n",
       "    .dataframe tbody tr th {\n",
       "        vertical-align: top;\n",
       "    }\n",
       "\n",
       "    .dataframe thead th {\n",
       "        text-align: right;\n",
       "    }\n",
       "</style>\n",
       "<table border=\"1\" class=\"dataframe\">\n",
       "  <thead>\n",
       "    <tr style=\"text-align: right;\">\n",
       "      <th></th>\n",
       "      <th>library</th>\n",
       "      <th>aa_substitutions</th>\n",
       "      <th>concentration</th>\n",
       "      <th>prob_escape</th>\n",
       "      <th>IC90</th>\n",
       "    </tr>\n",
       "  </thead>\n",
       "  <tbody>\n",
       "    <tr>\n",
       "      <th>0</th>\n",
       "      <td>avg3muts</td>\n",
       "      <td></td>\n",
       "      <td>0.125</td>\n",
       "      <td>0.04859</td>\n",
       "      <td>0.1128</td>\n",
       "    </tr>\n",
       "    <tr>\n",
       "      <th>1</th>\n",
       "      <td>avg3muts</td>\n",
       "      <td></td>\n",
       "      <td>0.125</td>\n",
       "      <td>0.17970</td>\n",
       "      <td>0.1128</td>\n",
       "    </tr>\n",
       "    <tr>\n",
       "      <th>2</th>\n",
       "      <td>avg3muts</td>\n",
       "      <td></td>\n",
       "      <td>0.125</td>\n",
       "      <td>0.13200</td>\n",
       "      <td>0.1128</td>\n",
       "    </tr>\n",
       "    <tr>\n",
       "      <th>3</th>\n",
       "      <td>avg3muts</td>\n",
       "      <td></td>\n",
       "      <td>0.125</td>\n",
       "      <td>0.07772</td>\n",
       "      <td>0.1128</td>\n",
       "    </tr>\n",
       "    <tr>\n",
       "      <th>4</th>\n",
       "      <td>avg3muts</td>\n",
       "      <td></td>\n",
       "      <td>0.125</td>\n",
       "      <td>0.17960</td>\n",
       "      <td>0.1128</td>\n",
       "    </tr>\n",
       "    <tr>\n",
       "      <th>...</th>\n",
       "      <td>...</td>\n",
       "      <td>...</td>\n",
       "      <td>...</td>\n",
       "      <td>...</td>\n",
       "      <td>...</td>\n",
       "    </tr>\n",
       "    <tr>\n",
       "      <th>179995</th>\n",
       "      <td>avg3muts</td>\n",
       "      <td>Y449I L518Y C525R L461I</td>\n",
       "      <td>4.000</td>\n",
       "      <td>0.02197</td>\n",
       "      <td>2.3100</td>\n",
       "    </tr>\n",
       "    <tr>\n",
       "      <th>179996</th>\n",
       "      <td>avg3muts</td>\n",
       "      <td>Y449V K529R N394R</td>\n",
       "      <td>4.000</td>\n",
       "      <td>0.04925</td>\n",
       "      <td>0.9473</td>\n",
       "    </tr>\n",
       "    <tr>\n",
       "      <th>179997</th>\n",
       "      <td>avg3muts</td>\n",
       "      <td>Y451L N481T F490V</td>\n",
       "      <td>4.000</td>\n",
       "      <td>0.02315</td>\n",
       "      <td>0.9301</td>\n",
       "    </tr>\n",
       "    <tr>\n",
       "      <th>179998</th>\n",
       "      <td>avg3muts</td>\n",
       "      <td>Y453R V483G L492V N501P I332P</td>\n",
       "      <td>4.000</td>\n",
       "      <td>0.00000</td>\n",
       "      <td>5.0120</td>\n",
       "    </tr>\n",
       "    <tr>\n",
       "      <th>179999</th>\n",
       "      <td>avg3muts</td>\n",
       "      <td>Y489Q N501Y</td>\n",
       "      <td>4.000</td>\n",
       "      <td>0.00000</td>\n",
       "      <td>0.5881</td>\n",
       "    </tr>\n",
       "  </tbody>\n",
       "</table>\n",
       "<p>180000 rows × 5 columns</p>\n",
       "</div>"
      ],
      "text/plain": [
       "         library               aa_substitutions  concentration  prob_escape  \\\n",
       "0       avg3muts                                         0.125      0.04859   \n",
       "1       avg3muts                                         0.125      0.17970   \n",
       "2       avg3muts                                         0.125      0.13200   \n",
       "3       avg3muts                                         0.125      0.07772   \n",
       "4       avg3muts                                         0.125      0.17960   \n",
       "...          ...                            ...            ...          ...   \n",
       "179995  avg3muts        Y449I L518Y C525R L461I          4.000      0.02197   \n",
       "179996  avg3muts              Y449V K529R N394R          4.000      0.04925   \n",
       "179997  avg3muts              Y451L N481T F490V          4.000      0.02315   \n",
       "179998  avg3muts  Y453R V483G L492V N501P I332P          4.000      0.00000   \n",
       "179999  avg3muts                    Y489Q N501Y          4.000      0.00000   \n",
       "\n",
       "          IC90  \n",
       "0       0.1128  \n",
       "1       0.1128  \n",
       "2       0.1128  \n",
       "3       0.1128  \n",
       "4       0.1128  \n",
       "...        ...  \n",
       "179995  2.3100  \n",
       "179996  0.9473  \n",
       "179997  0.9301  \n",
       "179998  5.0120  \n",
       "179999  0.5881  \n",
       "\n",
       "[180000 rows x 5 columns]"
      ]
     },
     "execution_count": 2,
     "metadata": {},
     "output_type": "execute_result"
    }
   ],
   "source": [
    "noisy_data = (\n",
    "    pd.read_csv('RBD_variants_escape_noisy.csv', na_filter=None)\n",
    "    .query(\"library == 'avg3muts'\")\n",
    "    .reset_index(drop=True)\n",
    "    )\n",
    "\n",
    "noisy_data"
   ]
  },
  {
   "cell_type": "markdown",
   "metadata": {},
   "source": [
    "Each variant contains 3 mutations on average and generally [spans a wide range of escape fractions across the different sera concentrations](fit_RBD.ipynb)."
   ]
  },
  {
   "cell_type": "markdown",
   "metadata": {},
   "source": [
    "Here, we'll provide guidance on what set of concentrations to use in actual experiments. Using this simulated dataset, we are interested in identifying the optimal set of concentrations that provides the best performance while minimizing the **number of concentrations** (or selection experiments) required."
   ]
  },
  {
   "cell_type": "markdown",
   "metadata": {},
   "source": [
    "First, we'll fit multiple `Polyclonal` models, starting with a single concentration of `0.125`, and iteratively adding in variants measured at the next higher concentration."
   ]
  },
  {
   "cell_type": "code",
   "execution_count": 40,
   "metadata": {},
   "outputs": [
    {
     "name": "stdout",
     "output_type": "stream",
     "text": [
      "Model with [0.125] was already fit.\n",
      "Model with [0.125, 0.25] was already fit.\n",
      "Model with [0.125, 0.25, 0.5] was already fit.\n",
      "Model with [0.125, 0.25, 0.5, 1] was already fit.\n",
      "Model with [0.125, 0.25, 0.5, 1, 2] was already fit.\n",
      "Model with [0.125, 0.25, 0.5, 1, 2, 4] was already fit.\n"
     ]
    }
   ],
   "source": [
    "conc = [0.125, 0.25, 0.5, 1, 2, 4]\n",
    "conc_sets = [conc[0:i+1] for i in range(len(conc))]\n",
    "\n",
    "# if model is already fit, don't fit again\n",
    "to_fit = []\n",
    "for s in conc_sets: \n",
    "    if os.path.exists(f'scipy_results/noisy_{s}conc_3muts.pkl') is True:\n",
    "        print(f\"Model with {s} was already fit.\")\n",
    "    else:\n",
    "        to_fit.append(s)\n",
    "                \n",
    "def fit_polyclonal(conc_set):\n",
    "    poly_abs = polyclonal.Polyclonal(data_to_fit=noisy_data.query(f\"concentration in {conc_set}\"),\n",
    "                                     activity_wt_df=pd.DataFrame.from_records(\n",
    "                                         [('1', 1.0),\n",
    "                                          ('2', 3.0),\n",
    "                                          ('3', 2.0),\n",
    "                                          ],\n",
    "                                         columns=['epitope', 'activity'],\n",
    "                                         ),\n",
    "                                     site_escape_df=pd.DataFrame.from_records(\n",
    "                                         [('1', 417, 10.0),\n",
    "                                          ('2', 484, 10.0),\n",
    "                                          ('3', 444, 10.0),\n",
    "                                          ],\n",
    "                                         columns=['epitope', 'site', 'escape'],\n",
    "                                         ),\n",
    "                                     data_mut_escape_overlap='fill_to_data',\n",
    "                                 )\n",
    "    start = time.time()\n",
    "    poly_abs.fit()\n",
    "    return poly_abs, time.time() - start\n",
    "\n",
    "for s in to_fit:\n",
    "    model, time_elapsed = fit_polyclonal(s)\n",
    "    pickle.dump(model, open(f'scipy_results/noisy_{s}conc_3muts.pkl', 'wb'))\n",
    "    print(f\"Model with {s} fit in {time_elapsed:.1f} seconds.\")  "
   ]
  },
  {
   "cell_type": "markdown",
   "metadata": {},
   "source": [
    "Lets look at the correlation between predicted and true beta coefficients for each of the fit models."
   ]
  },
  {
   "cell_type": "code",
   "execution_count": 44,
   "metadata": {},
   "outputs": [],
   "source": [
    "all_corrs = pd.DataFrame({'epitope' : [], \n",
    "                          'correlation' : [], \n",
    "                          'conc_set' : []}\n",
    "                        )\n",
    "\n",
    "for s in conc_sets:\n",
    "    model = pickle.load(open(f'scipy_results/noisy_{s}conc_3muts.pkl', 'rb'))\n",
    "\n",
    "    mut_escape_pred = (\n",
    "        pd.read_csv('RBD_mut_escape_df.csv')\n",
    "        .merge((model.mut_escape_df\n",
    "                .assign(epitope=lambda x: 'class ' + x['epitope'].astype(str))\n",
    "                .rename(columns={'escape': 'predicted escape'})\n",
    "                ),\n",
    "               on=['mutation', 'epitope'],\n",
    "               validate='one_to_one',\n",
    "               )\n",
    "        )\n",
    "\n",
    "    corr = (mut_escape_pred\n",
    "            .groupby('epitope')\n",
    "            .apply(lambda x: x['escape'].corr(x['predicted escape']))\n",
    "            .rename('correlation')\n",
    "            .reset_index()\n",
    "            )\n",
    "    all_corrs = pd.concat([all_corrs, \n",
    "                           corr.assign(conc_set = [str(s)] * len(corr.index))]\n",
    "                         )"
   ]
  },
  {
   "cell_type": "code",
   "execution_count": 45,
   "metadata": {},
   "outputs": [
    {
     "data": {
      "text/html": [
       "\n",
       "<div id=\"altair-viz-0f14ddd0ab8044ddbe81227add912906\"></div>\n",
       "<script type=\"text/javascript\">\n",
       "  (function(spec, embedOpt){\n",
       "    let outputDiv = document.currentScript.previousElementSibling;\n",
       "    if (outputDiv.id !== \"altair-viz-0f14ddd0ab8044ddbe81227add912906\") {\n",
       "      outputDiv = document.getElementById(\"altair-viz-0f14ddd0ab8044ddbe81227add912906\");\n",
       "    }\n",
       "    const paths = {\n",
       "      \"vega\": \"https://cdn.jsdelivr.net/npm//vega@5?noext\",\n",
       "      \"vega-lib\": \"https://cdn.jsdelivr.net/npm//vega-lib?noext\",\n",
       "      \"vega-lite\": \"https://cdn.jsdelivr.net/npm//vega-lite@4.17.0?noext\",\n",
       "      \"vega-embed\": \"https://cdn.jsdelivr.net/npm//vega-embed@6?noext\",\n",
       "    };\n",
       "\n",
       "    function loadScript(lib) {\n",
       "      return new Promise(function(resolve, reject) {\n",
       "        var s = document.createElement('script');\n",
       "        s.src = paths[lib];\n",
       "        s.async = true;\n",
       "        s.onload = () => resolve(paths[lib]);\n",
       "        s.onerror = () => reject(`Error loading script: ${paths[lib]}`);\n",
       "        document.getElementsByTagName(\"head\")[0].appendChild(s);\n",
       "      });\n",
       "    }\n",
       "\n",
       "    function showError(err) {\n",
       "      outputDiv.innerHTML = `<div class=\"error\" style=\"color:red;\">${err}</div>`;\n",
       "      throw err;\n",
       "    }\n",
       "\n",
       "    function displayChart(vegaEmbed) {\n",
       "      vegaEmbed(outputDiv, spec, embedOpt)\n",
       "        .catch(err => showError(`Javascript Error: ${err.message}<br>This usually means there's a typo in your chart specification. See the javascript console for the full traceback.`));\n",
       "    }\n",
       "\n",
       "    if(typeof define === \"function\" && define.amd) {\n",
       "      requirejs.config({paths});\n",
       "      require([\"vega-embed\"], displayChart, err => showError(`Error loading script: ${err.message}`));\n",
       "    } else if (typeof vegaEmbed === \"function\") {\n",
       "      displayChart(vegaEmbed);\n",
       "    } else {\n",
       "      loadScript(\"vega\")\n",
       "        .then(() => loadScript(\"vega-lite\"))\n",
       "        .then(() => loadScript(\"vega-embed\"))\n",
       "        .catch(showError)\n",
       "        .then(() => displayChart(vegaEmbed));\n",
       "    }\n",
       "  })({\"config\": {\"view\": {\"continuousWidth\": 400, \"continuousHeight\": 300}}, \"data\": {\"name\": \"data-bc083dae5387e3024a3d2d277ca143a5\"}, \"mark\": \"bar\", \"encoding\": {\"color\": {\"field\": \"conc_set\", \"sort\": {\"field\": \"color\", \"order\": \"descending\"}, \"type\": \"nominal\"}, \"column\": {\"field\": \"epitope\", \"type\": \"nominal\"}, \"tooltip\": [{\"field\": \"conc_set\", \"type\": \"nominal\"}, {\"field\": \"correlation\", \"type\": \"quantitative\"}], \"x\": {\"axis\": {\"labels\": false}, \"field\": \"conc_set\", \"sort\": {\"field\": \"x\", \"order\": \"descending\"}, \"type\": \"ordinal\"}, \"y\": {\"field\": \"correlation\", \"type\": \"quantitative\"}}, \"height\": 200, \"title\": \"predicted vs. true beta coefficients\", \"width\": 125, \"$schema\": \"https://vega.github.io/schema/vega-lite/v4.17.0.json\", \"datasets\": {\"data-bc083dae5387e3024a3d2d277ca143a5\": [{\"epitope\": \"class 1\", \"correlation\": 0.6791242580385397, \"conc_set\": \"[0.125]\"}, {\"epitope\": \"class 2\", \"correlation\": 0.6945418516540638, \"conc_set\": \"[0.125]\"}, {\"epitope\": \"class 3\", \"correlation\": 0.48076435129355277, \"conc_set\": \"[0.125]\"}, {\"epitope\": \"class 1\", \"correlation\": 0.7738729798478133, \"conc_set\": \"[0.125, 0.25]\"}, {\"epitope\": \"class 2\", \"correlation\": 0.896795088828361, \"conc_set\": \"[0.125, 0.25]\"}, {\"epitope\": \"class 3\", \"correlation\": 0.8280669355227267, \"conc_set\": \"[0.125, 0.25]\"}, {\"epitope\": \"class 1\", \"correlation\": 0.8012182298946373, \"conc_set\": \"[0.125, 0.25, 0.5]\"}, {\"epitope\": \"class 2\", \"correlation\": 0.952060429000577, \"conc_set\": \"[0.125, 0.25, 0.5]\"}, {\"epitope\": \"class 3\", \"correlation\": 0.9131178888393936, \"conc_set\": \"[0.125, 0.25, 0.5]\"}, {\"epitope\": \"class 1\", \"correlation\": 0.860184815835272, \"conc_set\": \"[0.125, 0.25, 0.5, 1]\"}, {\"epitope\": \"class 2\", \"correlation\": 0.9605134709679458, \"conc_set\": \"[0.125, 0.25, 0.5, 1]\"}, {\"epitope\": \"class 3\", \"correlation\": 0.92721916033429, \"conc_set\": \"[0.125, 0.25, 0.5, 1]\"}, {\"epitope\": \"class 1\", \"correlation\": 0.8804037423305416, \"conc_set\": \"[0.125, 0.25, 0.5, 1, 2]\"}, {\"epitope\": \"class 2\", \"correlation\": 0.9704899284272651, \"conc_set\": \"[0.125, 0.25, 0.5, 1, 2]\"}, {\"epitope\": \"class 3\", \"correlation\": 0.9503921607331711, \"conc_set\": \"[0.125, 0.25, 0.5, 1, 2]\"}, {\"epitope\": \"class 1\", \"correlation\": 0.8756581891681191, \"conc_set\": \"[0.125, 0.25, 0.5, 1, 2, 4]\"}, {\"epitope\": \"class 2\", \"correlation\": 0.9763535533863456, \"conc_set\": \"[0.125, 0.25, 0.5, 1, 2, 4]\"}, {\"epitope\": \"class 3\", \"correlation\": 0.9543748495394667, \"conc_set\": \"[0.125, 0.25, 0.5, 1, 2, 4]\"}]}}, {\"mode\": \"vega-lite\"});\n",
       "</script>"
      ],
      "text/plain": [
       "alt.Chart(...)"
      ]
     },
     "execution_count": 45,
     "metadata": {},
     "output_type": "execute_result"
    }
   ],
   "source": [
    "chart = alt.Chart(all_corrs).mark_bar().encode(\n",
    "    x= alt.X('conc_set:O', axis=alt.Axis(labels=False), \n",
    "             sort=alt.EncodingSortField('x', order='descending')),\n",
    "    y='correlation:Q',\n",
    "    color=alt.Color('conc_set:N', \n",
    "                    sort=alt.EncodingSortField('color', order='descending')),\n",
    "    column='epitope:N',\n",
    "    tooltip = ['conc_set', 'correlation']\n",
    ").properties(width=125, height=200, title='predicted vs. true beta coefficients')\n",
    "chart"
   ]
  },
  {
   "cell_type": "markdown",
   "metadata": {},
   "source": [
    "Additionally, lets look at the correlation between predicted and true IC90's for each of the fit models. To do this, we'll predict the IC90's of variants in a different simulated library. "
   ]
  },
  {
   "cell_type": "code",
   "execution_count": 46,
   "metadata": {},
   "outputs": [],
   "source": [
    "exact_data = (\n",
    "    pd.read_csv('RBD_variants_escape_exact.csv', na_filter=None)\n",
    "    .query('library == \"avg4muts\"')\n",
    "    .query('concentration in [1]')\n",
    "    .reset_index(drop=True)\n",
    "    )"
   ]
  },
  {
   "cell_type": "markdown",
   "metadata": {},
   "source": [
    "We'll make the comparison on a log scale, and clip IC90s at values >50 as that is likely to be way outside the dynamic range given the concentrations used."
   ]
  },
  {
   "cell_type": "code",
   "execution_count": 47,
   "metadata": {},
   "outputs": [
    {
     "name": "stdout",
     "output_type": "stream",
     "text": [
      "Correlation is 0.97 for model fit with [0.125].\n",
      "Correlation is 0.99 for model fit with [0.125, 0.25].\n",
      "Correlation is 0.99 for model fit with [0.125, 0.25, 0.5].\n",
      "Correlation is 1.00 for model fit with [0.125, 0.25, 0.5, 1].\n",
      "Correlation is 1.00 for model fit with [0.125, 0.25, 0.5, 1, 2].\n",
      "Correlation is 1.00 for model fit with [0.125, 0.25, 0.5, 1, 2, 4].\n"
     ]
    }
   ],
   "source": [
    "ic90_corrs = pd.DataFrame({'correlation' : [], \n",
    "                           'conc_set' : []}\n",
    "                            )\n",
    "\n",
    "max_ic90 = 50\n",
    "for s in conc_sets:\n",
    "    model = pickle.load(open(f'scipy_results/noisy_{s}conc_3muts.pkl', 'rb'))\n",
    "    \n",
    "    ic90s = (exact_data[['aa_substitutions', 'IC90']]\n",
    "         .assign(IC90=lambda x: x['IC90'].clip(upper=max_ic90))\n",
    "         .drop_duplicates()\n",
    "         )\n",
    "    ic90s = model.filter_variants_by_seen_muts(ic90s)\n",
    "    ic90s = model.icXX(ic90s, x=0.9, col='predicted_IC90', max_c=max_ic90)\n",
    "\n",
    "    ic90s = (\n",
    "        ic90s\n",
    "        .assign(log_IC90=lambda x: np.log10(x['IC90']),\n",
    "            predicted_log_IC90=lambda x: np.log10(x['predicted_IC90']),\n",
    "            )\n",
    "    )\n",
    "\n",
    "    corr = ic90s['log_IC90'].corr(ic90s['predicted_log_IC90'])\n",
    "    print(f\"Correlation is {corr:.2f} for model fit with {s}.\")\n",
    "    \n",
    "    ic90_corrs = pd.concat([ic90_corrs,\n",
    "                            pd.DataFrame({'correlation' : corr,\n",
    "                                          'conc_set' : [str(s)]})])"
   ]
  },
  {
   "cell_type": "code",
   "execution_count": 48,
   "metadata": {},
   "outputs": [
    {
     "data": {
      "text/html": [
       "\n",
       "<div id=\"altair-viz-f59114dd5f934ca7872dd19342976488\"></div>\n",
       "<script type=\"text/javascript\">\n",
       "  (function(spec, embedOpt){\n",
       "    let outputDiv = document.currentScript.previousElementSibling;\n",
       "    if (outputDiv.id !== \"altair-viz-f59114dd5f934ca7872dd19342976488\") {\n",
       "      outputDiv = document.getElementById(\"altair-viz-f59114dd5f934ca7872dd19342976488\");\n",
       "    }\n",
       "    const paths = {\n",
       "      \"vega\": \"https://cdn.jsdelivr.net/npm//vega@5?noext\",\n",
       "      \"vega-lib\": \"https://cdn.jsdelivr.net/npm//vega-lib?noext\",\n",
       "      \"vega-lite\": \"https://cdn.jsdelivr.net/npm//vega-lite@4.17.0?noext\",\n",
       "      \"vega-embed\": \"https://cdn.jsdelivr.net/npm//vega-embed@6?noext\",\n",
       "    };\n",
       "\n",
       "    function loadScript(lib) {\n",
       "      return new Promise(function(resolve, reject) {\n",
       "        var s = document.createElement('script');\n",
       "        s.src = paths[lib];\n",
       "        s.async = true;\n",
       "        s.onload = () => resolve(paths[lib]);\n",
       "        s.onerror = () => reject(`Error loading script: ${paths[lib]}`);\n",
       "        document.getElementsByTagName(\"head\")[0].appendChild(s);\n",
       "      });\n",
       "    }\n",
       "\n",
       "    function showError(err) {\n",
       "      outputDiv.innerHTML = `<div class=\"error\" style=\"color:red;\">${err}</div>`;\n",
       "      throw err;\n",
       "    }\n",
       "\n",
       "    function displayChart(vegaEmbed) {\n",
       "      vegaEmbed(outputDiv, spec, embedOpt)\n",
       "        .catch(err => showError(`Javascript Error: ${err.message}<br>This usually means there's a typo in your chart specification. See the javascript console for the full traceback.`));\n",
       "    }\n",
       "\n",
       "    if(typeof define === \"function\" && define.amd) {\n",
       "      requirejs.config({paths});\n",
       "      require([\"vega-embed\"], displayChart, err => showError(`Error loading script: ${err.message}`));\n",
       "    } else if (typeof vegaEmbed === \"function\") {\n",
       "      displayChart(vegaEmbed);\n",
       "    } else {\n",
       "      loadScript(\"vega\")\n",
       "        .then(() => loadScript(\"vega-lite\"))\n",
       "        .then(() => loadScript(\"vega-embed\"))\n",
       "        .catch(showError)\n",
       "        .then(() => displayChart(vegaEmbed));\n",
       "    }\n",
       "  })({\"config\": {\"view\": {\"continuousWidth\": 400, \"continuousHeight\": 300}}, \"data\": {\"name\": \"data-b49cb3a889004ae3df5fd01c245baa0d\"}, \"mark\": \"bar\", \"encoding\": {\"color\": {\"field\": \"conc_set\", \"sort\": {\"field\": \"color\", \"order\": \"descending\"}, \"type\": \"nominal\"}, \"tooltip\": [{\"field\": \"conc_set\", \"type\": \"nominal\"}, {\"field\": \"correlation\", \"type\": \"quantitative\"}], \"x\": {\"axis\": {\"labels\": false}, \"field\": \"conc_set\", \"sort\": {\"field\": \"x\", \"order\": \"descending\"}, \"type\": \"ordinal\"}, \"y\": {\"field\": \"correlation\", \"type\": \"quantitative\"}}, \"height\": 200, \"title\": \"predicted vs. true IC90\", \"width\": 125, \"$schema\": \"https://vega.github.io/schema/vega-lite/v4.17.0.json\", \"datasets\": {\"data-b49cb3a889004ae3df5fd01c245baa0d\": [{\"correlation\": 0.9745012037780271, \"conc_set\": \"[0.125]\"}, {\"correlation\": 0.9892503835619119, \"conc_set\": \"[0.125, 0.25]\"}, {\"correlation\": 0.9939820335239444, \"conc_set\": \"[0.125, 0.25, 0.5]\"}, {\"correlation\": 0.9963583892819923, \"conc_set\": \"[0.125, 0.25, 0.5, 1]\"}, {\"correlation\": 0.9975543014617899, \"conc_set\": \"[0.125, 0.25, 0.5, 1, 2]\"}, {\"correlation\": 0.9980654453784525, \"conc_set\": \"[0.125, 0.25, 0.5, 1, 2, 4]\"}]}}, {\"mode\": \"vega-lite\"});\n",
       "</script>"
      ],
      "text/plain": [
       "alt.Chart(...)"
      ]
     },
     "execution_count": 48,
     "metadata": {},
     "output_type": "execute_result"
    }
   ],
   "source": [
    "chart = alt.Chart(ic90_corrs).mark_bar().encode(\n",
    "    x= alt.X('conc_set:O', axis=alt.Axis(labels=False), \n",
    "             sort=alt.EncodingSortField('x', order='descending')),\n",
    "    y='correlation:Q',\n",
    "    color=alt.Color('conc_set:N', \n",
    "                    sort=alt.EncodingSortField('color', order='descending')),\n",
    "    tooltip = ['conc_set', 'correlation']\n",
    ").properties(width=125, height=200, title='predicted vs. true IC90')\n",
    "chart"
   ]
  },
  {
   "cell_type": "markdown",
   "metadata": {},
   "source": [
    "IC90 prediction was good across all concentration sets, even when only a single concentration was used. However, predicting the true beta coefficients strongly depended on the number of concentrations used."
   ]
  },
  {
   "cell_type": "markdown",
   "metadata": {},
   "source": [
    "It looks like having 4 concentrations (i.e., `[0.125, 0.25, 0.5, 1]`) is nearly as good as using all 6 concentrations. Next, let's test 1) how a single, but higher concentration performs and 2) if a subset of 2-3 intermediate concentrations that span a larger range can also be just as good as the 6 concentrations."
   ]
  },
  {
   "cell_type": "code",
   "execution_count": 49,
   "metadata": {},
   "outputs": [
    {
     "name": "stdout",
     "output_type": "stream",
     "text": [
      "Model with [1] was already fit.\n",
      "Model with [4] was already fit.\n",
      "Model with [0.5, 2] was already fit.\n",
      "Model with [0.25, 4] was already fit.\n",
      "Model with [0.5, 1, 2] was already fit.\n",
      "Model with [0.25, 1, 4] was already fit.\n"
     ]
    }
   ],
   "source": [
    "conc_sets = [[1],\n",
    "             [4],\n",
    "             [0.5,2],\n",
    "             [0.25,4],\n",
    "             [0.5,1,2],\n",
    "             [0.25,1,4]]\n",
    "\n",
    "# if model is already fit, don't fit again\n",
    "to_fit = []\n",
    "for s in conc_sets: \n",
    "    if os.path.exists(f'scipy_results/noisy_{s}conc_3muts.pkl') is True:\n",
    "        print(f\"Model with {s} was already fit.\")\n",
    "    else:\n",
    "        to_fit.append(s)\n",
    "                \n",
    "for s in to_fit:\n",
    "    model, time_elapsed = fit_polyclonal(s)\n",
    "    pickle.dump(model, open(f'scipy_results/noisy_{s}conc_3muts.pkl', 'wb'))\n",
    "    print(f\"Model with {s} fit in {time_elapsed:.1f} seconds.\")  "
   ]
  },
  {
   "cell_type": "markdown",
   "metadata": {},
   "source": [
    "Again, lets look at the correlation between predicted and true beta coefficients for each of the fit models."
   ]
  },
  {
   "cell_type": "code",
   "execution_count": 50,
   "metadata": {},
   "outputs": [
    {
     "data": {
      "text/html": [
       "<div>\n",
       "<style scoped>\n",
       "    .dataframe tbody tr th:only-of-type {\n",
       "        vertical-align: middle;\n",
       "    }\n",
       "\n",
       "    .dataframe tbody tr th {\n",
       "        vertical-align: top;\n",
       "    }\n",
       "\n",
       "    .dataframe thead th {\n",
       "        text-align: right;\n",
       "    }\n",
       "</style>\n",
       "<table border=\"1\" class=\"dataframe\">\n",
       "  <thead>\n",
       "    <tr style=\"text-align: right;\">\n",
       "      <th></th>\n",
       "      <th>epitope</th>\n",
       "      <th>correlation</th>\n",
       "      <th>conc_set</th>\n",
       "    </tr>\n",
       "  </thead>\n",
       "  <tbody>\n",
       "    <tr>\n",
       "      <th>0</th>\n",
       "      <td>class 1</td>\n",
       "      <td>0.806796</td>\n",
       "      <td>[1]</td>\n",
       "    </tr>\n",
       "    <tr>\n",
       "      <th>1</th>\n",
       "      <td>class 2</td>\n",
       "      <td>0.945004</td>\n",
       "      <td>[1]</td>\n",
       "    </tr>\n",
       "    <tr>\n",
       "      <th>2</th>\n",
       "      <td>class 3</td>\n",
       "      <td>0.908317</td>\n",
       "      <td>[1]</td>\n",
       "    </tr>\n",
       "    <tr>\n",
       "      <th>0</th>\n",
       "      <td>class 1</td>\n",
       "      <td>0.720604</td>\n",
       "      <td>[4]</td>\n",
       "    </tr>\n",
       "    <tr>\n",
       "      <th>1</th>\n",
       "      <td>class 2</td>\n",
       "      <td>0.939581</td>\n",
       "      <td>[4]</td>\n",
       "    </tr>\n",
       "  </tbody>\n",
       "</table>\n",
       "</div>"
      ],
      "text/plain": [
       "   epitope  correlation conc_set\n",
       "0  class 1     0.806796      [1]\n",
       "1  class 2     0.945004      [1]\n",
       "2  class 3     0.908317      [1]\n",
       "0  class 1     0.720604      [4]\n",
       "1  class 2     0.939581      [4]"
      ]
     },
     "execution_count": 50,
     "metadata": {},
     "output_type": "execute_result"
    }
   ],
   "source": [
    "conc_sets_to_plot = [[1],\n",
    "                     [4],\n",
    "                     [0.5,2],\n",
    "                     [0.25,4],\n",
    "                     [0.5,1,2],\n",
    "                     [0.25,1,4],\n",
    "                     [0.125,0.25,0.5,1,2,4]]\n",
    "\n",
    "all_corrs = pd.DataFrame({'epitope' : [], \n",
    "                          'correlation' : [], \n",
    "                          'conc_set' : []}\n",
    "                        )\n",
    "\n",
    "for s in conc_sets_to_plot:\n",
    "    model = pickle.load(open(f'scipy_results/noisy_{s}conc_3muts.pkl', 'rb'))\n",
    "\n",
    "    mut_escape_pred = (\n",
    "        pd.read_csv('RBD_mut_escape_df.csv')\n",
    "        .merge((model.mut_escape_df\n",
    "                .assign(epitope=lambda x: 'class ' + x['epitope'].astype(str))\n",
    "                .rename(columns={'escape': 'predicted escape'})\n",
    "                ),\n",
    "               on=['mutation', 'epitope'],\n",
    "               validate='one_to_one',\n",
    "               )\n",
    "        )\n",
    "\n",
    "    corr = (mut_escape_pred\n",
    "            .groupby('epitope')\n",
    "            .apply(lambda x: x['escape'].corr(x['predicted escape']))\n",
    "            .rename('correlation')\n",
    "            .reset_index()\n",
    "            )\n",
    "    all_corrs = pd.concat([all_corrs, \n",
    "                           corr.assign(conc_set = [str(s)] * len(corr.index))]\n",
    "                         )\n",
    "all_corrs.head()"
   ]
  },
  {
   "cell_type": "code",
   "execution_count": 51,
   "metadata": {},
   "outputs": [
    {
     "data": {
      "text/html": [
       "\n",
       "<div id=\"altair-viz-6c41f415699f4ee083504cda23e87f38\"></div>\n",
       "<script type=\"text/javascript\">\n",
       "  (function(spec, embedOpt){\n",
       "    let outputDiv = document.currentScript.previousElementSibling;\n",
       "    if (outputDiv.id !== \"altair-viz-6c41f415699f4ee083504cda23e87f38\") {\n",
       "      outputDiv = document.getElementById(\"altair-viz-6c41f415699f4ee083504cda23e87f38\");\n",
       "    }\n",
       "    const paths = {\n",
       "      \"vega\": \"https://cdn.jsdelivr.net/npm//vega@5?noext\",\n",
       "      \"vega-lib\": \"https://cdn.jsdelivr.net/npm//vega-lib?noext\",\n",
       "      \"vega-lite\": \"https://cdn.jsdelivr.net/npm//vega-lite@4.17.0?noext\",\n",
       "      \"vega-embed\": \"https://cdn.jsdelivr.net/npm//vega-embed@6?noext\",\n",
       "    };\n",
       "\n",
       "    function loadScript(lib) {\n",
       "      return new Promise(function(resolve, reject) {\n",
       "        var s = document.createElement('script');\n",
       "        s.src = paths[lib];\n",
       "        s.async = true;\n",
       "        s.onload = () => resolve(paths[lib]);\n",
       "        s.onerror = () => reject(`Error loading script: ${paths[lib]}`);\n",
       "        document.getElementsByTagName(\"head\")[0].appendChild(s);\n",
       "      });\n",
       "    }\n",
       "\n",
       "    function showError(err) {\n",
       "      outputDiv.innerHTML = `<div class=\"error\" style=\"color:red;\">${err}</div>`;\n",
       "      throw err;\n",
       "    }\n",
       "\n",
       "    function displayChart(vegaEmbed) {\n",
       "      vegaEmbed(outputDiv, spec, embedOpt)\n",
       "        .catch(err => showError(`Javascript Error: ${err.message}<br>This usually means there's a typo in your chart specification. See the javascript console for the full traceback.`));\n",
       "    }\n",
       "\n",
       "    if(typeof define === \"function\" && define.amd) {\n",
       "      requirejs.config({paths});\n",
       "      require([\"vega-embed\"], displayChart, err => showError(`Error loading script: ${err.message}`));\n",
       "    } else if (typeof vegaEmbed === \"function\") {\n",
       "      displayChart(vegaEmbed);\n",
       "    } else {\n",
       "      loadScript(\"vega\")\n",
       "        .then(() => loadScript(\"vega-lite\"))\n",
       "        .then(() => loadScript(\"vega-embed\"))\n",
       "        .catch(showError)\n",
       "        .then(() => displayChart(vegaEmbed));\n",
       "    }\n",
       "  })({\"config\": {\"view\": {\"continuousWidth\": 400, \"continuousHeight\": 300}}, \"data\": {\"name\": \"data-851d49327e7498985dbf9782e035f691\"}, \"mark\": \"bar\", \"encoding\": {\"color\": {\"field\": \"conc_set\", \"sort\": {\"field\": \"color\", \"order\": \"descending\"}, \"type\": \"nominal\"}, \"column\": {\"field\": \"epitope\", \"type\": \"nominal\"}, \"tooltip\": [{\"field\": \"conc_set\", \"type\": \"nominal\"}, {\"field\": \"correlation\", \"type\": \"quantitative\"}], \"x\": {\"axis\": {\"labels\": false}, \"field\": \"conc_set\", \"sort\": {\"field\": \"x\", \"order\": \"descending\"}, \"type\": \"ordinal\"}, \"y\": {\"field\": \"correlation\", \"type\": \"quantitative\"}}, \"height\": 200, \"title\": \"predicted vs. true beta coefficients\", \"width\": 125, \"$schema\": \"https://vega.github.io/schema/vega-lite/v4.17.0.json\", \"datasets\": {\"data-851d49327e7498985dbf9782e035f691\": [{\"epitope\": \"class 1\", \"correlation\": 0.806796223365129, \"conc_set\": \"[1]\"}, {\"epitope\": \"class 2\", \"correlation\": 0.9450039355457481, \"conc_set\": \"[1]\"}, {\"epitope\": \"class 3\", \"correlation\": 0.9083169543369537, \"conc_set\": \"[1]\"}, {\"epitope\": \"class 1\", \"correlation\": 0.720603673511763, \"conc_set\": \"[4]\"}, {\"epitope\": \"class 2\", \"correlation\": 0.9395810505227202, \"conc_set\": \"[4]\"}, {\"epitope\": \"class 3\", \"correlation\": 0.9152070435220899, \"conc_set\": \"[4]\"}, {\"epitope\": \"class 1\", \"correlation\": 0.8325522654940898, \"conc_set\": \"[0.5, 2]\"}, {\"epitope\": \"class 2\", \"correlation\": 0.9672245684943018, \"conc_set\": \"[0.5, 2]\"}, {\"epitope\": \"class 3\", \"correlation\": 0.932690019139765, \"conc_set\": \"[0.5, 2]\"}, {\"epitope\": \"class 1\", \"correlation\": 0.845842106617216, \"conc_set\": \"[0.25, 4]\"}, {\"epitope\": \"class 2\", \"correlation\": 0.9713320188617977, \"conc_set\": \"[0.25, 4]\"}, {\"epitope\": \"class 3\", \"correlation\": 0.9419738348610237, \"conc_set\": \"[0.25, 4]\"}, {\"epitope\": \"class 1\", \"correlation\": 0.8725033873875513, \"conc_set\": \"[0.5, 1, 2]\"}, {\"epitope\": \"class 2\", \"correlation\": 0.9683628090186779, \"conc_set\": \"[0.5, 1, 2]\"}, {\"epitope\": \"class 3\", \"correlation\": 0.9462361627854732, \"conc_set\": \"[0.5, 1, 2]\"}, {\"epitope\": \"class 1\", \"correlation\": 0.8828352439294088, \"conc_set\": \"[0.25, 1, 4]\"}, {\"epitope\": \"class 2\", \"correlation\": 0.9729747874088035, \"conc_set\": \"[0.25, 1, 4]\"}, {\"epitope\": \"class 3\", \"correlation\": 0.94969585001127, \"conc_set\": \"[0.25, 1, 4]\"}, {\"epitope\": \"class 1\", \"correlation\": 0.8756581891681191, \"conc_set\": \"[0.125, 0.25, 0.5, 1, 2, 4]\"}, {\"epitope\": \"class 2\", \"correlation\": 0.9763535533863456, \"conc_set\": \"[0.125, 0.25, 0.5, 1, 2, 4]\"}, {\"epitope\": \"class 3\", \"correlation\": 0.9543748495394667, \"conc_set\": \"[0.125, 0.25, 0.5, 1, 2, 4]\"}]}}, {\"mode\": \"vega-lite\"});\n",
       "</script>"
      ],
      "text/plain": [
       "alt.Chart(...)"
      ]
     },
     "execution_count": 51,
     "metadata": {},
     "output_type": "execute_result"
    }
   ],
   "source": [
    "chart = alt.Chart(all_corrs).mark_bar().encode(\n",
    "    x= alt.X('conc_set:O', axis=alt.Axis(labels=False), \n",
    "             sort=alt.EncodingSortField('x', order='descending')),\n",
    "    y='correlation:Q',\n",
    "    color=alt.Color('conc_set:N', \n",
    "                    sort=alt.EncodingSortField('color', order='descending')),\n",
    "    column='epitope:N',\n",
    "    tooltip = ['conc_set', 'correlation']\n",
    ").properties(width=125, height=200, title='predicted vs. true beta coefficients')\n",
    "chart"
   ]
  },
  {
   "cell_type": "markdown",
   "metadata": {},
   "source": [
    "And again, lets look at the correlation between predicted and true IC90's for each of the fit models."
   ]
  },
  {
   "cell_type": "code",
   "execution_count": 52,
   "metadata": {},
   "outputs": [
    {
     "name": "stdout",
     "output_type": "stream",
     "text": [
      "Correlation is 0.99 for model fit with [1].\n",
      "Correlation is 0.98 for model fit with [4].\n",
      "Correlation is 1.00 for model fit with [0.5, 2].\n",
      "Correlation is 1.00 for model fit with [0.25, 4].\n",
      "Correlation is 1.00 for model fit with [0.5, 1, 2].\n",
      "Correlation is 1.00 for model fit with [0.25, 1, 4].\n",
      "Correlation is 1.00 for model fit with [0.125, 0.25, 0.5, 1, 2, 4].\n"
     ]
    }
   ],
   "source": [
    "ic90_corrs = pd.DataFrame({'correlation' : [], \n",
    "                           'conc_set' : []}\n",
    "                            )\n",
    "\n",
    "max_ic90 = 50\n",
    "for s in conc_sets_to_plot:\n",
    "    model = pickle.load(open(f'scipy_results/noisy_{s}conc_3muts.pkl', 'rb'))\n",
    "    \n",
    "    ic90s = (exact_data[['aa_substitutions', 'IC90']]\n",
    "         .assign(IC90=lambda x: x['IC90'].clip(upper=max_ic90))\n",
    "         .drop_duplicates()\n",
    "         )\n",
    "    ic90s = model.filter_variants_by_seen_muts(ic90s)\n",
    "    ic90s = model.icXX(ic90s, x=0.9, col='predicted_IC90', max_c=max_ic90)\n",
    "\n",
    "    ic90s = (\n",
    "        ic90s\n",
    "        .assign(log_IC90=lambda x: np.log10(x['IC90']),\n",
    "            predicted_log_IC90=lambda x: np.log10(x['predicted_IC90']),\n",
    "            )\n",
    "    )\n",
    "\n",
    "    corr = ic90s['log_IC90'].corr(ic90s['predicted_log_IC90'])\n",
    "    print(f\"Correlation is {corr:.2f} for model fit with {s}.\")\n",
    "    \n",
    "    ic90_corrs = pd.concat([ic90_corrs,\n",
    "                            pd.DataFrame({'correlation' : corr,\n",
    "                                          'conc_set' : [str(s)]})])"
   ]
  },
  {
   "cell_type": "code",
   "execution_count": 53,
   "metadata": {},
   "outputs": [
    {
     "data": {
      "text/html": [
       "\n",
       "<div id=\"altair-viz-5690f19e97944b92a14cb88416b8b282\"></div>\n",
       "<script type=\"text/javascript\">\n",
       "  (function(spec, embedOpt){\n",
       "    let outputDiv = document.currentScript.previousElementSibling;\n",
       "    if (outputDiv.id !== \"altair-viz-5690f19e97944b92a14cb88416b8b282\") {\n",
       "      outputDiv = document.getElementById(\"altair-viz-5690f19e97944b92a14cb88416b8b282\");\n",
       "    }\n",
       "    const paths = {\n",
       "      \"vega\": \"https://cdn.jsdelivr.net/npm//vega@5?noext\",\n",
       "      \"vega-lib\": \"https://cdn.jsdelivr.net/npm//vega-lib?noext\",\n",
       "      \"vega-lite\": \"https://cdn.jsdelivr.net/npm//vega-lite@4.17.0?noext\",\n",
       "      \"vega-embed\": \"https://cdn.jsdelivr.net/npm//vega-embed@6?noext\",\n",
       "    };\n",
       "\n",
       "    function loadScript(lib) {\n",
       "      return new Promise(function(resolve, reject) {\n",
       "        var s = document.createElement('script');\n",
       "        s.src = paths[lib];\n",
       "        s.async = true;\n",
       "        s.onload = () => resolve(paths[lib]);\n",
       "        s.onerror = () => reject(`Error loading script: ${paths[lib]}`);\n",
       "        document.getElementsByTagName(\"head\")[0].appendChild(s);\n",
       "      });\n",
       "    }\n",
       "\n",
       "    function showError(err) {\n",
       "      outputDiv.innerHTML = `<div class=\"error\" style=\"color:red;\">${err}</div>`;\n",
       "      throw err;\n",
       "    }\n",
       "\n",
       "    function displayChart(vegaEmbed) {\n",
       "      vegaEmbed(outputDiv, spec, embedOpt)\n",
       "        .catch(err => showError(`Javascript Error: ${err.message}<br>This usually means there's a typo in your chart specification. See the javascript console for the full traceback.`));\n",
       "    }\n",
       "\n",
       "    if(typeof define === \"function\" && define.amd) {\n",
       "      requirejs.config({paths});\n",
       "      require([\"vega-embed\"], displayChart, err => showError(`Error loading script: ${err.message}`));\n",
       "    } else if (typeof vegaEmbed === \"function\") {\n",
       "      displayChart(vegaEmbed);\n",
       "    } else {\n",
       "      loadScript(\"vega\")\n",
       "        .then(() => loadScript(\"vega-lite\"))\n",
       "        .then(() => loadScript(\"vega-embed\"))\n",
       "        .catch(showError)\n",
       "        .then(() => displayChart(vegaEmbed));\n",
       "    }\n",
       "  })({\"config\": {\"view\": {\"continuousWidth\": 400, \"continuousHeight\": 300}}, \"data\": {\"name\": \"data-aa460d7904b4d85f45a2a7b55a9c85e8\"}, \"mark\": \"bar\", \"encoding\": {\"color\": {\"field\": \"conc_set\", \"sort\": {\"field\": \"color\", \"order\": \"descending\"}, \"type\": \"nominal\"}, \"tooltip\": [{\"field\": \"conc_set\", \"type\": \"nominal\"}, {\"field\": \"correlation\", \"type\": \"quantitative\"}], \"x\": {\"axis\": {\"labels\": false}, \"field\": \"conc_set\", \"sort\": {\"field\": \"x\", \"order\": \"descending\"}, \"type\": \"ordinal\"}, \"y\": {\"field\": \"correlation\", \"type\": \"quantitative\"}}, \"height\": 200, \"title\": \"predicted vs. true IC90\", \"width\": 125, \"$schema\": \"https://vega.github.io/schema/vega-lite/v4.17.0.json\", \"datasets\": {\"data-aa460d7904b4d85f45a2a7b55a9c85e8\": [{\"correlation\": 0.9905441309006763, \"conc_set\": \"[1]\"}, {\"correlation\": 0.9771992056263796, \"conc_set\": \"[4]\"}, {\"correlation\": 0.9952857624215113, \"conc_set\": \"[0.5, 2]\"}, {\"correlation\": 0.9951687194781039, \"conc_set\": \"[0.25, 4]\"}, {\"correlation\": 0.9964220568323144, \"conc_set\": \"[0.5, 1, 2]\"}, {\"correlation\": 0.9966442796637273, \"conc_set\": \"[0.25, 1, 4]\"}, {\"correlation\": 0.9980654453784525, \"conc_set\": \"[0.125, 0.25, 0.5, 1, 2, 4]\"}]}}, {\"mode\": \"vega-lite\"});\n",
       "</script>"
      ],
      "text/plain": [
       "alt.Chart(...)"
      ]
     },
     "execution_count": 53,
     "metadata": {},
     "output_type": "execute_result"
    }
   ],
   "source": [
    "chart = alt.Chart(ic90_corrs).mark_bar().encode(\n",
    "    x= alt.X('conc_set:O', axis=alt.Axis(labels=False), \n",
    "             sort=alt.EncodingSortField('x', order='descending')),\n",
    "    y='correlation:Q',\n",
    "    color=alt.Color('conc_set:N', \n",
    "                    sort=alt.EncodingSortField('color', order='descending')),\n",
    "    tooltip = ['conc_set', 'correlation']\n",
    ").properties(width=125, height=200, title='predicted vs. true IC90')\n",
    "chart"
   ]
  },
  {
   "cell_type": "markdown",
   "metadata": {},
   "source": [
    "Interestingly, the model trained with `[1]` is quite good and outperforms both model trained with `[4]`, and model trained previously with `[0.125]` alone. Additionally, models trained with `[0.25, 4]` and `[0.25, 1, 4]` are nearly indistinguishable from model trained on all 6 concentrations. However, there is a trend that having 3 instead of 2 concentrations improves performance on the class 1 epitope, which is expected to be the hardest to predict since it has the lowest wildtype activity. Thus, having more concentrations could lead to more confident beta coefficients for more subdominant epitopes."
   ]
  },
  {
   "cell_type": "markdown",
   "metadata": {},
   "source": [
    "In summary:  \n",
    "   - 2-3 concentrations are more than sufficient, and should be strategically chosen to span a range such that the same variant can generally escape one concentration but not the other. \n",
    "   - even 1 concentration can work, but needs to be carefully chosen as a concentration that is either too low (most variants escape) or too high (few variants escape) reduce predictive performance."
   ]
  }
 ],
 "metadata": {
  "kernelspec": {
   "display_name": "Python 3 (ipykernel)",
   "language": "python",
   "name": "python3"
  },
  "language_info": {
   "codemirror_mode": {
    "name": "ipython",
    "version": 3
   },
   "file_extension": ".py",
   "mimetype": "text/x-python",
   "name": "python",
   "nbconvert_exporter": "python",
   "pygments_lexer": "ipython3",
   "version": "3.9.7"
  }
 },
 "nbformat": 4,
 "nbformat_minor": 4
}
