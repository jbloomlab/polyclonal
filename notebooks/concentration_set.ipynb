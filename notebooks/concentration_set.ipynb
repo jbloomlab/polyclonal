{
 "cells": [
  {
   "cell_type": "markdown",
   "metadata": {},
   "source": [
    "# Sera concentrations"
   ]
  },
  {
   "cell_type": "markdown",
   "metadata": {},
   "source": [
    "Choosing sera concentrations is an important consideration for DMS selections. We'll use simulated data to estimate the optimal set of sera concentrations that provides the best performance while minimizing the **number of concentrations** (or selection experiments) required."
   ]
  },
  {
   "cell_type": "code",
   "execution_count": 1,
   "metadata": {},
   "outputs": [],
   "source": [
    "import os\n",
    "import pickle\n",
    "\n",
    "import pandas as pd\n",
    "import numpy as np\n",
    "import altair as alt\n",
    "import polyclonal"
   ]
  },
  {
   "cell_type": "markdown",
   "metadata": {},
   "source": [
    "First, we read in a simulated \"noisy\" dataset measured at six sera concentrations. The variants in this library were simulated to contain a Poisson-distributed number of mutations, with an average of three mutations per gene. The variants also generally span a wide range of escape fractions across the different sera concentrations."
   ]
  },
  {
   "cell_type": "code",
   "execution_count": 2,
   "metadata": {},
   "outputs": [
    {
     "data": {
      "text/html": [
       "<div>\n",
       "<style scoped>\n",
       "    .dataframe tbody tr th:only-of-type {\n",
       "        vertical-align: middle;\n",
       "    }\n",
       "\n",
       "    .dataframe tbody tr th {\n",
       "        vertical-align: top;\n",
       "    }\n",
       "\n",
       "    .dataframe thead th {\n",
       "        text-align: right;\n",
       "    }\n",
       "</style>\n",
       "<table border=\"1\" class=\"dataframe\">\n",
       "  <thead>\n",
       "    <tr style=\"text-align: right;\">\n",
       "      <th></th>\n",
       "      <th>library</th>\n",
       "      <th>aa_substitutions</th>\n",
       "      <th>concentration</th>\n",
       "      <th>prob_escape</th>\n",
       "      <th>IC90</th>\n",
       "    </tr>\n",
       "  </thead>\n",
       "  <tbody>\n",
       "    <tr>\n",
       "      <th>0</th>\n",
       "      <td>avg3muts</td>\n",
       "      <td></td>\n",
       "      <td>0.125</td>\n",
       "      <td>0.04859</td>\n",
       "      <td>0.1128</td>\n",
       "    </tr>\n",
       "    <tr>\n",
       "      <th>1</th>\n",
       "      <td>avg3muts</td>\n",
       "      <td></td>\n",
       "      <td>0.125</td>\n",
       "      <td>0.17970</td>\n",
       "      <td>0.1128</td>\n",
       "    </tr>\n",
       "    <tr>\n",
       "      <th>2</th>\n",
       "      <td>avg3muts</td>\n",
       "      <td></td>\n",
       "      <td>0.125</td>\n",
       "      <td>0.13200</td>\n",
       "      <td>0.1128</td>\n",
       "    </tr>\n",
       "    <tr>\n",
       "      <th>3</th>\n",
       "      <td>avg3muts</td>\n",
       "      <td></td>\n",
       "      <td>0.125</td>\n",
       "      <td>0.07772</td>\n",
       "      <td>0.1128</td>\n",
       "    </tr>\n",
       "    <tr>\n",
       "      <th>4</th>\n",
       "      <td>avg3muts</td>\n",
       "      <td></td>\n",
       "      <td>0.125</td>\n",
       "      <td>0.17960</td>\n",
       "      <td>0.1128</td>\n",
       "    </tr>\n",
       "    <tr>\n",
       "      <th>...</th>\n",
       "      <td>...</td>\n",
       "      <td>...</td>\n",
       "      <td>...</td>\n",
       "      <td>...</td>\n",
       "      <td>...</td>\n",
       "    </tr>\n",
       "    <tr>\n",
       "      <th>179995</th>\n",
       "      <td>avg3muts</td>\n",
       "      <td>Y449I L518Y C525R L461I</td>\n",
       "      <td>4.000</td>\n",
       "      <td>0.02197</td>\n",
       "      <td>2.3100</td>\n",
       "    </tr>\n",
       "    <tr>\n",
       "      <th>179996</th>\n",
       "      <td>avg3muts</td>\n",
       "      <td>Y449V K529R N394R</td>\n",
       "      <td>4.000</td>\n",
       "      <td>0.04925</td>\n",
       "      <td>0.9473</td>\n",
       "    </tr>\n",
       "    <tr>\n",
       "      <th>179997</th>\n",
       "      <td>avg3muts</td>\n",
       "      <td>Y451L N481T F490V</td>\n",
       "      <td>4.000</td>\n",
       "      <td>0.02315</td>\n",
       "      <td>0.9301</td>\n",
       "    </tr>\n",
       "    <tr>\n",
       "      <th>179998</th>\n",
       "      <td>avg3muts</td>\n",
       "      <td>Y453R V483G L492V N501P I332P</td>\n",
       "      <td>4.000</td>\n",
       "      <td>0.00000</td>\n",
       "      <td>5.0120</td>\n",
       "    </tr>\n",
       "    <tr>\n",
       "      <th>179999</th>\n",
       "      <td>avg3muts</td>\n",
       "      <td>Y489Q N501Y</td>\n",
       "      <td>4.000</td>\n",
       "      <td>0.00000</td>\n",
       "      <td>0.5881</td>\n",
       "    </tr>\n",
       "  </tbody>\n",
       "</table>\n",
       "<p>180000 rows × 5 columns</p>\n",
       "</div>"
      ],
      "text/plain": [
       "         library               aa_substitutions  concentration  prob_escape  \\\n",
       "0       avg3muts                                         0.125      0.04859   \n",
       "1       avg3muts                                         0.125      0.17970   \n",
       "2       avg3muts                                         0.125      0.13200   \n",
       "3       avg3muts                                         0.125      0.07772   \n",
       "4       avg3muts                                         0.125      0.17960   \n",
       "...          ...                            ...            ...          ...   \n",
       "179995  avg3muts        Y449I L518Y C525R L461I          4.000      0.02197   \n",
       "179996  avg3muts              Y449V K529R N394R          4.000      0.04925   \n",
       "179997  avg3muts              Y451L N481T F490V          4.000      0.02315   \n",
       "179998  avg3muts  Y453R V483G L492V N501P I332P          4.000      0.00000   \n",
       "179999  avg3muts                    Y489Q N501Y          4.000      0.00000   \n",
       "\n",
       "          IC90  \n",
       "0       0.1128  \n",
       "1       0.1128  \n",
       "2       0.1128  \n",
       "3       0.1128  \n",
       "4       0.1128  \n",
       "...        ...  \n",
       "179995  2.3100  \n",
       "179996  0.9473  \n",
       "179997  0.9301  \n",
       "179998  5.0120  \n",
       "179999  0.5881  \n",
       "\n",
       "[180000 rows x 5 columns]"
      ]
     },
     "execution_count": 2,
     "metadata": {},
     "output_type": "execute_result"
    }
   ],
   "source": [
    "noisy_data = (\n",
    "    pd.read_csv('RBD_variants_escape_noisy.csv', na_filter=None)\n",
    "    .query(\"library == 'avg3muts'\")\n",
    "    .reset_index(drop=True)\n",
    "    )\n",
    "noisy_data"
   ]
  },
  {
   "cell_type": "markdown",
   "metadata": {},
   "source": [
    "While the concentrations are in arbitrary units (`0.125, 0.25, 0.5, 1, 2, 4`), we can describe them in terms of their ICXX's against wildtype virus. So, we can interpret each as a sera concentration that neutralizes XX % of wildtype viruses. "
   ]
  },
  {
   "cell_type": "code",
   "execution_count": 3,
   "metadata": {},
   "outputs": [
    {
     "data": {
      "text/html": [
       "<div>\n",
       "<style scoped>\n",
       "    .dataframe tbody tr th:only-of-type {\n",
       "        vertical-align: middle;\n",
       "    }\n",
       "\n",
       "    .dataframe tbody tr th {\n",
       "        vertical-align: top;\n",
       "    }\n",
       "\n",
       "    .dataframe thead th {\n",
       "        text-align: right;\n",
       "    }\n",
       "</style>\n",
       "<table border=\"1\" class=\"dataframe\">\n",
       "  <thead>\n",
       "    <tr style=\"text-align: right;\">\n",
       "      <th></th>\n",
       "      <th>ICxx_against_wt</th>\n",
       "    </tr>\n",
       "    <tr>\n",
       "      <th>concentration</th>\n",
       "      <th></th>\n",
       "    </tr>\n",
       "  </thead>\n",
       "  <tbody>\n",
       "    <tr>\n",
       "      <th>0.125</th>\n",
       "      <td>91.443</td>\n",
       "    </tr>\n",
       "    <tr>\n",
       "      <th>0.250</th>\n",
       "      <td>97.488</td>\n",
       "    </tr>\n",
       "    <tr>\n",
       "      <th>0.500</th>\n",
       "      <td>99.441</td>\n",
       "    </tr>\n",
       "    <tr>\n",
       "      <th>1.000</th>\n",
       "      <td>99.900</td>\n",
       "    </tr>\n",
       "    <tr>\n",
       "      <th>2.000</th>\n",
       "      <td>99.985</td>\n",
       "    </tr>\n",
       "    <tr>\n",
       "      <th>4.000</th>\n",
       "      <td>99.998</td>\n",
       "    </tr>\n",
       "  </tbody>\n",
       "</table>\n",
       "</div>"
      ],
      "text/plain": [
       "               ICxx_against_wt\n",
       "concentration                 \n",
       "0.125                   91.443\n",
       "0.250                   97.488\n",
       "0.500                   99.441\n",
       "1.000                   99.900\n",
       "2.000                   99.985\n",
       "4.000                   99.998"
      ]
     },
     "metadata": {},
     "output_type": "display_data"
    }
   ],
   "source": [
    "wt_data_icxx_df = (\n",
    "    pd.read_csv('RBD_variants_escape_exact.csv', na_filter=None)\n",
    "    .query(\"aa_substitutions == ''\")\n",
    "    .reset_index(drop=True)\n",
    "    .drop(columns='library')\n",
    "    .drop_duplicates()\n",
    "    .assign(ICxx_against_wt = lambda x : round((1 - x['prob_escape']) * 100, 3))\n",
    "    .drop(columns=['aa_substitutions','prob_escape','IC90'])\n",
    "    .set_index('concentration')\n",
    "    )\n",
    "\n",
    "display(wt_data_icxx_df)\n",
    "wt_data_icxx = wt_data_icxx_df['ICxx_against_wt'].to_dict()"
   ]
  },
  {
   "cell_type": "markdown",
   "metadata": {},
   "source": [
    "Now, we'll fit multiple `Polyclonal` models to data measured at **single** concentrations. We'll initialize each `Polyclonal` model with the same values. We know from [prior work](https://www.nature.com/articles/s41467-021-24435-8) the three most important epitopes and a key mutation in each, so we use this prior knowledge to “seed” initial guesses that assign large escape values to a key site in each epitope:"
   ]
  },
  {
   "cell_type": "markdown",
   "metadata": {},
   "source": [
    "- site 417 for class 1 epitope, which is often the least important"
   ]
  },
  {
   "cell_type": "markdown",
   "metadata": {},
   "source": [
    "- site 484 for class 2 epitope, which is often the dominant one"
   ]
  },
  {
   "cell_type": "markdown",
   "metadata": {},
   "source": [
    "- site 444 for class 3 epitope, which is often the second most dominant one"
   ]
  },
  {
   "cell_type": "markdown",
   "metadata": {},
   "source": [
    "Additionally, we'll store fit models as [pickle](https://docs.python.org/3/library/pickle.html#module-pickle) files, so that we can conveniently load them in the future without having to fit again."
   ]
  },
  {
   "cell_type": "code",
   "execution_count": 4,
   "metadata": {},
   "outputs": [
    {
     "name": "stdout",
     "output_type": "stream",
     "text": [
      "Model with [0.125] was already fit.\n",
      "Model with [0.25] was already fit.\n",
      "Model with [0.5] was already fit.\n",
      "Model with [1] was already fit.\n",
      "Model with [2] was already fit.\n",
      "Model with [4] was already fit.\n"
     ]
    }
   ],
   "source": [
    "conc_sets = [[0.125], [0.25], [0.5], [1], [2], [4]]\n",
    "\n",
    "# Make a directory to house pickled models\n",
    "os.makedirs('fit_polyclonal_models', exist_ok=True)\n",
    "       \n",
    "def fit_polyclonal(conc_set):\n",
    "    \"\"\"\n",
    "    Fit `Polyclonal` model with data measured for a specific concentration set.\n",
    "    Returns fit `Polyclonal` object.\n",
    "    \"\"\"\n",
    "    poly_abs = polyclonal.Polyclonal(data_to_fit=noisy_data.query(f\"concentration in {conc_set}\"),\n",
    "                                     activity_wt_df=pd.DataFrame.from_records(\n",
    "                                         [('1', 1.0),\n",
    "                                          ('2', 3.0),\n",
    "                                          ('3', 2.0),\n",
    "                                          ],\n",
    "                                         columns=['epitope', 'activity'],\n",
    "                                         ),\n",
    "                                     site_escape_df=pd.DataFrame.from_records(\n",
    "                                         [('1', 417, 10.0),\n",
    "                                          ('2', 484, 10.0),\n",
    "                                          ('3', 444, 10.0),\n",
    "                                          ],\n",
    "                                         columns=['epitope', 'site', 'escape'],\n",
    "                                         ),\n",
    "                                     data_mut_escape_overlap='fill_to_data',\n",
    "                                 )\n",
    "    poly_abs.fit()\n",
    "    return poly_abs\n",
    "\n",
    "# Store all fit models in a dictionary for future lookup\n",
    "fit_models = {}\n",
    "\n",
    "for s in conc_sets:\n",
    "    # These are the keys for fit models\n",
    "    model_string = f'noisy_{s}conc_3muts'\n",
    "\n",
    "    # If the pickled model exists in fit_polyclonal_models directory,\n",
    "    # load it and update fit_models \n",
    "    if os.path.exists(f'fit_polyclonal_models/{model_string}.pkl') is True:\n",
    "        model = pickle.load(open(f'fit_polyclonal_models/{model_string}.pkl', 'rb'))\n",
    "        fit_models.update({model_string : model})\n",
    "        print(f\"Model with {s} was already fit.\")\n",
    "    else:\n",
    "        # Else, fit a model using fit_polyclonal(), save it to the\n",
    "        # fit_polyclonal_models directory, and update fit_models \n",
    "        model = fit_polyclonal(s)\n",
    "        fit_models.update({model_string : model})\n",
    "        pickle.dump(model, open(f'fit_polyclonal_models/{model_string}.pkl', 'wb'))\n",
    "        print(f\"Model with {s} fit and saved.\")  "
   ]
  },
  {
   "cell_type": "markdown",
   "metadata": {},
   "source": [
    "We can look at the correlation between the “true” and inferred mutation-escape values, $\\beta_{m,e}$, for the fit models. These mutation-escape values represent the extent to which mutations mediate escape from specific epitopes."
   ]
  },
  {
   "cell_type": "code",
   "execution_count": 5,
   "metadata": {},
   "outputs": [],
   "source": [
    "all_corrs = pd.DataFrame({'epitope' : [], \n",
    "                          'correlation' : [], \n",
    "                          'icxx_set' : []})\n",
    "\n",
    "for s in conc_sets:\n",
    "    model = fit_models[f'noisy_{s}conc_3muts']\n",
    "\n",
    "    mut_escape_pred = (\n",
    "        pd.read_csv('RBD_mut_escape_df.csv')\n",
    "        .merge((model.mut_escape_df\n",
    "                .assign(epitope=lambda x: 'class ' + x['epitope'].astype(str))\n",
    "                .rename(columns={'escape': 'predicted escape'})\n",
    "                ),\n",
    "               on=['mutation', 'epitope'],\n",
    "               validate='one_to_one',\n",
    "               )\n",
    "        )\n",
    "\n",
    "    corr = (mut_escape_pred\n",
    "            .groupby('epitope')\n",
    "            .apply(lambda x: x['escape'].corr(x['predicted escape']))\n",
    "            .rename('correlation')\n",
    "            .reset_index()\n",
    "            )\n",
    "    \n",
    "    all_corrs = pd.concat([all_corrs, \n",
    "                    corr.assign(icxx_set = [\n",
    "                        [f\"IC{wt_data_icxx[c]}\" for c in s]] * len(corr.index))\n",
    "                        ])"
   ]
  },
  {
   "cell_type": "code",
   "execution_count": 6,
   "metadata": {},
   "outputs": [
    {
     "data": {
      "text/html": [
       "\n",
       "<div id=\"altair-viz-946d3e38249b46ec9253cf441a403600\"></div>\n",
       "<script type=\"text/javascript\">\n",
       "  (function(spec, embedOpt){\n",
       "    let outputDiv = document.currentScript.previousElementSibling;\n",
       "    if (outputDiv.id !== \"altair-viz-946d3e38249b46ec9253cf441a403600\") {\n",
       "      outputDiv = document.getElementById(\"altair-viz-946d3e38249b46ec9253cf441a403600\");\n",
       "    }\n",
       "    const paths = {\n",
       "      \"vega\": \"https://cdn.jsdelivr.net/npm//vega@5?noext\",\n",
       "      \"vega-lib\": \"https://cdn.jsdelivr.net/npm//vega-lib?noext\",\n",
       "      \"vega-lite\": \"https://cdn.jsdelivr.net/npm//vega-lite@4.17.0?noext\",\n",
       "      \"vega-embed\": \"https://cdn.jsdelivr.net/npm//vega-embed@6?noext\",\n",
       "    };\n",
       "\n",
       "    function loadScript(lib) {\n",
       "      return new Promise(function(resolve, reject) {\n",
       "        var s = document.createElement('script');\n",
       "        s.src = paths[lib];\n",
       "        s.async = true;\n",
       "        s.onload = () => resolve(paths[lib]);\n",
       "        s.onerror = () => reject(`Error loading script: ${paths[lib]}`);\n",
       "        document.getElementsByTagName(\"head\")[0].appendChild(s);\n",
       "      });\n",
       "    }\n",
       "\n",
       "    function showError(err) {\n",
       "      outputDiv.innerHTML = `<div class=\"error\" style=\"color:red;\">${err}</div>`;\n",
       "      throw err;\n",
       "    }\n",
       "\n",
       "    function displayChart(vegaEmbed) {\n",
       "      vegaEmbed(outputDiv, spec, embedOpt)\n",
       "        .catch(err => showError(`Javascript Error: ${err.message}<br>This usually means there's a typo in your chart specification. See the javascript console for the full traceback.`));\n",
       "    }\n",
       "\n",
       "    if(typeof define === \"function\" && define.amd) {\n",
       "      requirejs.config({paths});\n",
       "      require([\"vega-embed\"], displayChart, err => showError(`Error loading script: ${err.message}`));\n",
       "    } else if (typeof vegaEmbed === \"function\") {\n",
       "      displayChart(vegaEmbed);\n",
       "    } else {\n",
       "      loadScript(\"vega\")\n",
       "        .then(() => loadScript(\"vega-lite\"))\n",
       "        .then(() => loadScript(\"vega-embed\"))\n",
       "        .catch(showError)\n",
       "        .then(() => displayChart(vegaEmbed));\n",
       "    }\n",
       "  })({\"config\": {\"view\": {\"continuousWidth\": 400, \"continuousHeight\": 300}}, \"data\": {\"name\": \"data-210909f3a5d0461b3c9cd48331d85f8a\"}, \"mark\": {\"type\": \"circle\", \"size\": 125}, \"encoding\": {\"color\": {\"field\": \"epitope\", \"legend\": null, \"type\": \"nominal\"}, \"column\": {\"field\": \"epitope\", \"type\": \"nominal\"}, \"tooltip\": [{\"field\": \"icxx_set\", \"type\": \"nominal\"}, {\"field\": \"correlation\", \"format\": \".3f\", \"type\": \"quantitative\"}], \"x\": {\"field\": \"icxx_set\", \"sort\": {\"field\": \"x\", \"order\": \"descending\"}, \"type\": \"ordinal\"}, \"y\": {\"field\": \"correlation\", \"type\": \"quantitative\"}}, \"height\": 200, \"title\": \"inferred vs. true mutation escape values\", \"width\": 200, \"$schema\": \"https://vega.github.io/schema/vega-lite/v4.17.0.json\", \"datasets\": {\"data-210909f3a5d0461b3c9cd48331d85f8a\": [{\"epitope\": \"class 1\", \"correlation\": 0.6791242580385397, \"icxx_set\": [\"IC91.443\"]}, {\"epitope\": \"class 2\", \"correlation\": 0.6945418516540638, \"icxx_set\": [\"IC91.443\"]}, {\"epitope\": \"class 3\", \"correlation\": 0.48076435129355277, \"icxx_set\": [\"IC91.443\"]}, {\"epitope\": \"class 1\", \"correlation\": 0.7170159232212459, \"icxx_set\": [\"IC97.488\"]}, {\"epitope\": \"class 2\", \"correlation\": 0.8719558307508375, \"icxx_set\": [\"IC97.488\"]}, {\"epitope\": \"class 3\", \"correlation\": 0.7345303862406546, \"icxx_set\": [\"IC97.488\"]}, {\"epitope\": \"class 1\", \"correlation\": 0.7524534192028387, \"icxx_set\": [\"IC99.441\"]}, {\"epitope\": \"class 2\", \"correlation\": 0.9321280380712056, \"icxx_set\": [\"IC99.441\"]}, {\"epitope\": \"class 3\", \"correlation\": 0.8595649594460109, \"icxx_set\": [\"IC99.441\"]}, {\"epitope\": \"class 1\", \"correlation\": 0.806796223365129, \"icxx_set\": [\"IC99.9\"]}, {\"epitope\": \"class 2\", \"correlation\": 0.9450039355457481, \"icxx_set\": [\"IC99.9\"]}, {\"epitope\": \"class 3\", \"correlation\": 0.9083169543369537, \"icxx_set\": [\"IC99.9\"]}, {\"epitope\": \"class 1\", \"correlation\": 0.770641548867928, \"icxx_set\": [\"IC99.985\"]}, {\"epitope\": \"class 2\", \"correlation\": 0.949396737341603, \"icxx_set\": [\"IC99.985\"]}, {\"epitope\": \"class 3\", \"correlation\": 0.9156211596122092, \"icxx_set\": [\"IC99.985\"]}, {\"epitope\": \"class 1\", \"correlation\": 0.720603673511763, \"icxx_set\": [\"IC99.998\"]}, {\"epitope\": \"class 2\", \"correlation\": 0.9395810505227202, \"icxx_set\": [\"IC99.998\"]}, {\"epitope\": \"class 3\", \"correlation\": 0.9152070435220899, \"icxx_set\": [\"IC99.998\"]}]}}, {\"mode\": \"vega-lite\"});\n",
       "</script>"
      ],
      "text/plain": [
       "alt.Chart(...)"
      ]
     },
     "execution_count": 6,
     "metadata": {},
     "output_type": "execute_result"
    }
   ],
   "source": [
    "# NBVAL_IGNORE_OUTPUT\n",
    "alt.Chart(all_corrs).mark_circle(size=125).encode(\n",
    "    x= alt.X('icxx_set:O', \n",
    "             sort=alt.EncodingSortField('x', order='descending')),\n",
    "    y='correlation:Q',\n",
    "    column='epitope:N',\n",
    "    tooltip = ['icxx_set', alt.Tooltip('correlation', format='.3f')],\n",
    "    color=alt.Color('epitope', legend=None),\n",
    ").properties(width=200, height=200, title='inferred vs. true mutation escape values')"
   ]
  },
  {
   "cell_type": "markdown",
   "metadata": {},
   "source": [
    "The highest correlation is observed when the wildtype virus is potently neutralized. However, there is a fine balance. The correlation is lower when the concentration is too low (i.e., many mutated variants escape and even some wildtype) or too high (i.e., few mutated variants escape). "
   ]
  },
  {
   "cell_type": "markdown",
   "metadata": {},
   "source": [
    "Additionally, we'll look at the correlation between \"true\" and predicted IC90's for each of the fit models. To do this, we'll predict the IC90's of variants in a separate library with a with a different (higher) mutation rate. We therefore read in the “exact” simulated data from a library containing variants with an average of four mutations per gene."
   ]
  },
  {
   "cell_type": "code",
   "execution_count": 7,
   "metadata": {},
   "outputs": [],
   "source": [
    "exact_data = (\n",
    "    pd.read_csv('RBD_variants_escape_exact.csv', na_filter=None)\n",
    "    .query('library == \"avg4muts\"')\n",
    "    .query('concentration in [1]')\n",
    "    .reset_index(drop=True)\n",
    "    )"
   ]
  },
  {
   "cell_type": "markdown",
   "metadata": {},
   "source": [
    "We'll make the comparison on a log scale, and clip IC90s at values >50 as that is likely to be way outside the dynamic range given the concentrations used."
   ]
  },
  {
   "cell_type": "code",
   "execution_count": 8,
   "metadata": {},
   "outputs": [],
   "source": [
    "ic90_corrs = pd.DataFrame({'correlation' : [], \n",
    "                           'icxx_set' : []})\n",
    "\n",
    "max_ic90 = 50\n",
    "for s in conc_sets:\n",
    "    model = fit_models[f'noisy_{s}conc_3muts']\n",
    "    \n",
    "    ic90s = (exact_data[['aa_substitutions', 'IC90']]\n",
    "         .assign(IC90=lambda x: x['IC90'].clip(upper=max_ic90))\n",
    "         .drop_duplicates()\n",
    "         )\n",
    "    ic90s = model.filter_variants_by_seen_muts(ic90s)\n",
    "    ic90s = model.icXX(ic90s, x=0.9, col='predicted_IC90', max_c=max_ic90)\n",
    "\n",
    "    ic90s = (\n",
    "        ic90s\n",
    "        .assign(log_IC90=lambda x: np.log10(x['IC90']),\n",
    "            predicted_log_IC90=lambda x: np.log10(x['predicted_IC90']),\n",
    "            )\n",
    "    )\n",
    "\n",
    "    corr = ic90s['log_IC90'].corr(ic90s['predicted_log_IC90'])\n",
    "    \n",
    "    ic90_corrs = pd.concat([ic90_corrs,\n",
    "                    pd.DataFrame({'correlation' : corr,\n",
    "                                  'icxx_set' : [f\"IC{wt_data_icxx[c]}\" for c in s]})])"
   ]
  },
  {
   "cell_type": "code",
   "execution_count": 9,
   "metadata": {},
   "outputs": [
    {
     "data": {
      "text/html": [
       "\n",
       "<div id=\"altair-viz-6223cf6148194e5297d9843f21072e2c\"></div>\n",
       "<script type=\"text/javascript\">\n",
       "  (function(spec, embedOpt){\n",
       "    let outputDiv = document.currentScript.previousElementSibling;\n",
       "    if (outputDiv.id !== \"altair-viz-6223cf6148194e5297d9843f21072e2c\") {\n",
       "      outputDiv = document.getElementById(\"altair-viz-6223cf6148194e5297d9843f21072e2c\");\n",
       "    }\n",
       "    const paths = {\n",
       "      \"vega\": \"https://cdn.jsdelivr.net/npm//vega@5?noext\",\n",
       "      \"vega-lib\": \"https://cdn.jsdelivr.net/npm//vega-lib?noext\",\n",
       "      \"vega-lite\": \"https://cdn.jsdelivr.net/npm//vega-lite@4.17.0?noext\",\n",
       "      \"vega-embed\": \"https://cdn.jsdelivr.net/npm//vega-embed@6?noext\",\n",
       "    };\n",
       "\n",
       "    function loadScript(lib) {\n",
       "      return new Promise(function(resolve, reject) {\n",
       "        var s = document.createElement('script');\n",
       "        s.src = paths[lib];\n",
       "        s.async = true;\n",
       "        s.onload = () => resolve(paths[lib]);\n",
       "        s.onerror = () => reject(`Error loading script: ${paths[lib]}`);\n",
       "        document.getElementsByTagName(\"head\")[0].appendChild(s);\n",
       "      });\n",
       "    }\n",
       "\n",
       "    function showError(err) {\n",
       "      outputDiv.innerHTML = `<div class=\"error\" style=\"color:red;\">${err}</div>`;\n",
       "      throw err;\n",
       "    }\n",
       "\n",
       "    function displayChart(vegaEmbed) {\n",
       "      vegaEmbed(outputDiv, spec, embedOpt)\n",
       "        .catch(err => showError(`Javascript Error: ${err.message}<br>This usually means there's a typo in your chart specification. See the javascript console for the full traceback.`));\n",
       "    }\n",
       "\n",
       "    if(typeof define === \"function\" && define.amd) {\n",
       "      requirejs.config({paths});\n",
       "      require([\"vega-embed\"], displayChart, err => showError(`Error loading script: ${err.message}`));\n",
       "    } else if (typeof vegaEmbed === \"function\") {\n",
       "      displayChart(vegaEmbed);\n",
       "    } else {\n",
       "      loadScript(\"vega\")\n",
       "        .then(() => loadScript(\"vega-lite\"))\n",
       "        .then(() => loadScript(\"vega-embed\"))\n",
       "        .catch(showError)\n",
       "        .then(() => displayChart(vegaEmbed));\n",
       "    }\n",
       "  })({\"config\": {\"view\": {\"continuousWidth\": 400, \"continuousHeight\": 300}}, \"data\": {\"name\": \"data-46c2460d8d81de82434a7c896506164a\"}, \"mark\": {\"type\": \"circle\", \"size\": 125}, \"encoding\": {\"tooltip\": [{\"field\": \"icxx_set\", \"type\": \"nominal\"}, {\"field\": \"correlation\", \"format\": \".3f\", \"type\": \"quantitative\"}], \"x\": {\"field\": \"icxx_set\", \"type\": \"ordinal\"}, \"y\": {\"field\": \"correlation\", \"type\": \"quantitative\"}}, \"height\": 200, \"title\": \"predicted vs. true IC90\", \"width\": 200, \"$schema\": \"https://vega.github.io/schema/vega-lite/v4.17.0.json\", \"datasets\": {\"data-46c2460d8d81de82434a7c896506164a\": [{\"correlation\": 0.9745012037780271, \"icxx_set\": \"IC91.443\"}, {\"correlation\": 0.9838707815211362, \"icxx_set\": \"IC97.488\"}, {\"correlation\": 0.9891883317431716, \"icxx_set\": \"IC99.441\"}, {\"correlation\": 0.9905441309006763, \"icxx_set\": \"IC99.9\"}, {\"correlation\": 0.9876910615742757, \"icxx_set\": \"IC99.985\"}, {\"correlation\": 0.9771992056263796, \"icxx_set\": \"IC99.998\"}]}}, {\"mode\": \"vega-lite\"});\n",
       "</script>"
      ],
      "text/plain": [
       "alt.Chart(...)"
      ]
     },
     "execution_count": 9,
     "metadata": {},
     "output_type": "execute_result"
    }
   ],
   "source": [
    "# NBVAL_IGNORE_OUTPUT\n",
    "alt.Chart(ic90_corrs).mark_circle(size=125).encode(\n",
    "    x='icxx_set:O',\n",
    "    y='correlation:Q',\n",
    "    tooltip = ['icxx_set', alt.Tooltip('correlation', format='.3f')]\n",
    ").properties(width=200, height=200, title='predicted vs. true IC90')"
   ]
  },
  {
   "cell_type": "markdown",
   "metadata": {},
   "source": [
    "Across all models fit on data with single concentrations, the correlation was very strong."
   ]
  },
  {
   "cell_type": "markdown",
   "metadata": {},
   "source": [
    "Next, we'll fit a couple more `Polyclonal` models to determine if adding a second or third concentration to the best performing single concentration will improve inference of the mutation-escape values. As a reference, we also fit a `Polyclonal` model on all six concentrations. This should represent the best performing model, as it is fit on the most data points."
   ]
  },
  {
   "cell_type": "code",
   "execution_count": 10,
   "metadata": {},
   "outputs": [
    {
     "name": "stdout",
     "output_type": "stream",
     "text": [
      "Model with [0.25, 1] was already fit.\n",
      "Model with [0.5, 1] was already fit.\n",
      "Model with [1, 2] was already fit.\n",
      "Model with [1, 4] was already fit.\n",
      "Model with [0.5, 1, 2] was already fit.\n",
      "Model with [0.25, 1, 4] was already fit.\n",
      "Model with [0.125, 0.25, 0.5, 1, 2, 4] was already fit.\n"
     ]
    }
   ],
   "source": [
    "conc_sets = [[0.25,1],\n",
    "             [0.5,1],\n",
    "             [1,2],\n",
    "             [1,4],\n",
    "             [0.5,1,2],\n",
    "             [0.25,1,4],\n",
    "             [0.125,0.25,0.5,1,2,4]]\n",
    "\n",
    "for s in conc_sets:\n",
    "    # These are the keys for fit models\n",
    "    model_string = f'noisy_{s}conc_3muts'\n",
    "\n",
    "    # If the pickled model exists in fit_polyclonal_models directory,\n",
    "    # load it and add to fit_models \n",
    "    if os.path.exists(f'fit_polyclonal_models/{model_string}.pkl') is True:\n",
    "        model = pickle.load(open(f'fit_polyclonal_models/{model_string}.pkl', 'rb'))\n",
    "        fit_models.update({model_string : model})\n",
    "        print(f\"Model with {s} was already fit.\")\n",
    "    else:\n",
    "        # Else, fit a model using fit_polyclonal(), save it to the\n",
    "        # fit_polyclonal_models directory, and add to fit_models \n",
    "        model = fit_polyclonal(s)\n",
    "        fit_models.update({model_string : model})\n",
    "        pickle.dump(model, open(f'fit_polyclonal_models/{model_string}.pkl', 'wb'))\n",
    "        print(f\"Model with {s} fit and saved.\")  "
   ]
  },
  {
   "cell_type": "markdown",
   "metadata": {},
   "source": [
    "Again, lets look at the correlation between \"true\" and predicted mutation-escape values for each of the fit models."
   ]
  },
  {
   "cell_type": "code",
   "execution_count": 11,
   "metadata": {},
   "outputs": [],
   "source": [
    "# add best performing single concentration to concentration sets, so we can plot as reference\n",
    "conc_sets_to_plot = [[1]] + conc_sets\n",
    "\n",
    "all_corrs = pd.DataFrame({'epitope' : [], \n",
    "                          'correlation' : [], \n",
    "                          'icxx_set' : []})\n",
    "\n",
    "for s in conc_sets_to_plot:\n",
    "    model = fit_models[f'noisy_{s}conc_3muts']\n",
    "\n",
    "    mut_escape_pred = (\n",
    "        pd.read_csv('RBD_mut_escape_df.csv')\n",
    "        .merge((model.mut_escape_df\n",
    "                .assign(epitope=lambda x: 'class ' + x['epitope'].astype(str))\n",
    "                .rename(columns={'escape': 'predicted escape'})\n",
    "                ),\n",
    "               on=['mutation', 'epitope'],\n",
    "               validate='one_to_one',\n",
    "               )\n",
    "        )\n",
    "\n",
    "    corr = (mut_escape_pred\n",
    "            .groupby('epitope')\n",
    "            .apply(lambda x: x['escape'].corr(x['predicted escape']))\n",
    "            .rename('correlation')\n",
    "            .reset_index()\n",
    "            )\n",
    "    \n",
    "    all_corrs = pd.concat([all_corrs, \n",
    "                    corr.assign(icxx_set = [\n",
    "                        [f\"IC{wt_data_icxx[c]}\" for c in s]] * len(corr.index))\n",
    "                        ])"
   ]
  },
  {
   "cell_type": "code",
   "execution_count": 12,
   "metadata": {},
   "outputs": [
    {
     "data": {
      "text/html": [
       "\n",
       "<div id=\"altair-viz-1e3e23574584481782e17749c417aeaf\"></div>\n",
       "<script type=\"text/javascript\">\n",
       "  (function(spec, embedOpt){\n",
       "    let outputDiv = document.currentScript.previousElementSibling;\n",
       "    if (outputDiv.id !== \"altair-viz-1e3e23574584481782e17749c417aeaf\") {\n",
       "      outputDiv = document.getElementById(\"altair-viz-1e3e23574584481782e17749c417aeaf\");\n",
       "    }\n",
       "    const paths = {\n",
       "      \"vega\": \"https://cdn.jsdelivr.net/npm//vega@5?noext\",\n",
       "      \"vega-lib\": \"https://cdn.jsdelivr.net/npm//vega-lib?noext\",\n",
       "      \"vega-lite\": \"https://cdn.jsdelivr.net/npm//vega-lite@4.17.0?noext\",\n",
       "      \"vega-embed\": \"https://cdn.jsdelivr.net/npm//vega-embed@6?noext\",\n",
       "    };\n",
       "\n",
       "    function loadScript(lib) {\n",
       "      return new Promise(function(resolve, reject) {\n",
       "        var s = document.createElement('script');\n",
       "        s.src = paths[lib];\n",
       "        s.async = true;\n",
       "        s.onload = () => resolve(paths[lib]);\n",
       "        s.onerror = () => reject(`Error loading script: ${paths[lib]}`);\n",
       "        document.getElementsByTagName(\"head\")[0].appendChild(s);\n",
       "      });\n",
       "    }\n",
       "\n",
       "    function showError(err) {\n",
       "      outputDiv.innerHTML = `<div class=\"error\" style=\"color:red;\">${err}</div>`;\n",
       "      throw err;\n",
       "    }\n",
       "\n",
       "    function displayChart(vegaEmbed) {\n",
       "      vegaEmbed(outputDiv, spec, embedOpt)\n",
       "        .catch(err => showError(`Javascript Error: ${err.message}<br>This usually means there's a typo in your chart specification. See the javascript console for the full traceback.`));\n",
       "    }\n",
       "\n",
       "    if(typeof define === \"function\" && define.amd) {\n",
       "      requirejs.config({paths});\n",
       "      require([\"vega-embed\"], displayChart, err => showError(`Error loading script: ${err.message}`));\n",
       "    } else if (typeof vegaEmbed === \"function\") {\n",
       "      displayChart(vegaEmbed);\n",
       "    } else {\n",
       "      loadScript(\"vega\")\n",
       "        .then(() => loadScript(\"vega-lite\"))\n",
       "        .then(() => loadScript(\"vega-embed\"))\n",
       "        .catch(showError)\n",
       "        .then(() => displayChart(vegaEmbed));\n",
       "    }\n",
       "  })({\"config\": {\"view\": {\"continuousWidth\": 400, \"continuousHeight\": 300}}, \"data\": {\"name\": \"data-069f1380decd3213a8c79bad00e1fa56\"}, \"mark\": {\"type\": \"circle\", \"size\": 125}, \"encoding\": {\"color\": {\"field\": \"epitope\", \"legend\": null, \"type\": \"nominal\"}, \"column\": {\"field\": \"epitope\", \"type\": \"nominal\"}, \"tooltip\": [{\"field\": \"icxx_set\", \"type\": \"nominal\"}, {\"field\": \"correlation\", \"format\": \".3f\", \"type\": \"quantitative\"}], \"x\": {\"axis\": {\"labelAngle\": 0}, \"field\": \"icxx_set\", \"sort\": {\"field\": \"x\", \"order\": \"descending\"}, \"type\": \"ordinal\"}, \"y\": {\"field\": \"correlation\", \"type\": \"quantitative\"}}, \"height\": 200, \"title\": \"inferred vs. true mutation escape values\", \"width\": 375, \"$schema\": \"https://vega.github.io/schema/vega-lite/v4.17.0.json\", \"datasets\": {\"data-069f1380decd3213a8c79bad00e1fa56\": [{\"epitope\": \"class 1\", \"correlation\": 0.806796223365129, \"icxx_set\": [\"IC99.9\"]}, {\"epitope\": \"class 2\", \"correlation\": 0.9450039355457481, \"icxx_set\": [\"IC99.9\"]}, {\"epitope\": \"class 3\", \"correlation\": 0.9083169543369537, \"icxx_set\": [\"IC99.9\"]}, {\"epitope\": \"class 1\", \"correlation\": 0.8398508212609554, \"icxx_set\": [\"IC97.488\", \"IC99.9\"]}, {\"epitope\": \"class 2\", \"correlation\": 0.9583312848914379, \"icxx_set\": [\"IC97.488\", \"IC99.9\"]}, {\"epitope\": \"class 3\", \"correlation\": 0.9282784254311027, \"icxx_set\": [\"IC97.488\", \"IC99.9\"]}, {\"epitope\": \"class 1\", \"correlation\": 0.8437567199351286, \"icxx_set\": [\"IC99.441\", \"IC99.9\"]}, {\"epitope\": \"class 2\", \"correlation\": 0.9576864961087034, \"icxx_set\": [\"IC99.441\", \"IC99.9\"]}, {\"epitope\": \"class 3\", \"correlation\": 0.929822496503861, \"icxx_set\": [\"IC99.441\", \"IC99.9\"]}, {\"epitope\": \"class 1\", \"correlation\": 0.8486122162790036, \"icxx_set\": [\"IC99.9\", \"IC99.985\"]}, {\"epitope\": \"class 2\", \"correlation\": 0.9630362168382519, \"icxx_set\": [\"IC99.9\", \"IC99.985\"]}, {\"epitope\": \"class 3\", \"correlation\": 0.9351667489282716, \"icxx_set\": [\"IC99.9\", \"IC99.985\"]}, {\"epitope\": \"class 1\", \"correlation\": 0.8569875041528556, \"icxx_set\": [\"IC99.9\", \"IC99.998\"]}, {\"epitope\": \"class 2\", \"correlation\": 0.9685119409733044, \"icxx_set\": [\"IC99.9\", \"IC99.998\"]}, {\"epitope\": \"class 3\", \"correlation\": 0.9434701930458991, \"icxx_set\": [\"IC99.9\", \"IC99.998\"]}, {\"epitope\": \"class 1\", \"correlation\": 0.8725033873875513, \"icxx_set\": [\"IC99.441\", \"IC99.9\", \"IC99.985\"]}, {\"epitope\": \"class 2\", \"correlation\": 0.9683628090186779, \"icxx_set\": [\"IC99.441\", \"IC99.9\", \"IC99.985\"]}, {\"epitope\": \"class 3\", \"correlation\": 0.9462361627854732, \"icxx_set\": [\"IC99.441\", \"IC99.9\", \"IC99.985\"]}, {\"epitope\": \"class 1\", \"correlation\": 0.8828352439294088, \"icxx_set\": [\"IC97.488\", \"IC99.9\", \"IC99.998\"]}, {\"epitope\": \"class 2\", \"correlation\": 0.9729747874088035, \"icxx_set\": [\"IC97.488\", \"IC99.9\", \"IC99.998\"]}, {\"epitope\": \"class 3\", \"correlation\": 0.94969585001127, \"icxx_set\": [\"IC97.488\", \"IC99.9\", \"IC99.998\"]}, {\"epitope\": \"class 1\", \"correlation\": 0.8756581891681191, \"icxx_set\": [\"IC91.443\", \"IC97.488\", \"IC99.441\", \"IC99.9\", \"IC99.985\", \"IC99.998\"]}, {\"epitope\": \"class 2\", \"correlation\": 0.9763535533863456, \"icxx_set\": [\"IC91.443\", \"IC97.488\", \"IC99.441\", \"IC99.9\", \"IC99.985\", \"IC99.998\"]}, {\"epitope\": \"class 3\", \"correlation\": 0.9543748495394667, \"icxx_set\": [\"IC91.443\", \"IC97.488\", \"IC99.441\", \"IC99.9\", \"IC99.985\", \"IC99.998\"]}]}}, {\"mode\": \"vega-lite\"});\n",
       "</script>"
      ],
      "text/plain": [
       "alt.Chart(...)"
      ]
     },
     "execution_count": 12,
     "metadata": {},
     "output_type": "execute_result"
    }
   ],
   "source": [
    "# NBVAL_IGNORE_OUTPUT\n",
    "alt.Chart(all_corrs).mark_circle(size=125).encode(\n",
    "    x= alt.X('icxx_set:O', \n",
    "             sort=alt.EncodingSortField('x', order='descending'),\n",
    "             axis=alt.Axis(labelAngle=0)),\n",
    "    y='correlation:Q',\n",
    "    tooltip = ['icxx_set', alt.Tooltip('correlation', format='.3f')],\n",
    "    color=alt.Color('epitope', legend=None),\n",
    "    column='epitope:N'\n",
    ").properties(width=375, height=200, \n",
    "             title='inferred vs. true mutation escape values'\n",
    ")"
   ]
  },
  {
   "cell_type": "markdown",
   "metadata": {},
   "source": [
    "We see that the performance of models fit on data with two or three concentrations is nearly indistinguishable from that of the model fit on data with all six concentrations. Additionally, adding two or three concentrations does lead to a modest improvement in the correlation, especially for the class 1 epitope, which is expected to be the hardest to predict since it has the lowest wildtype activity."
   ]
  },
  {
   "cell_type": "markdown",
   "metadata": {},
   "source": [
    "Again, lets look at the correlation between \"true\" and predicted IC90's for each of the fit models."
   ]
  },
  {
   "cell_type": "code",
   "execution_count": 13,
   "metadata": {},
   "outputs": [],
   "source": [
    "ic90_corrs = pd.DataFrame({'correlation' : [], \n",
    "                           'icxx_set' : []})\n",
    "\n",
    "max_ic90 = 50\n",
    "for s in conc_sets_to_plot:\n",
    "    model = fit_models[f'noisy_{s}conc_3muts']\n",
    "    \n",
    "    ic90s = (exact_data[['aa_substitutions', 'IC90']]\n",
    "         .assign(IC90=lambda x: x['IC90'].clip(upper=max_ic90))\n",
    "         .drop_duplicates()\n",
    "         )\n",
    "    ic90s = model.filter_variants_by_seen_muts(ic90s)\n",
    "    ic90s = model.icXX(ic90s, x=0.9, col='predicted_IC90', max_c=max_ic90)\n",
    "\n",
    "    ic90s = (\n",
    "        ic90s\n",
    "        .assign(log_IC90=lambda x: np.log10(x['IC90']),\n",
    "            predicted_log_IC90=lambda x: np.log10(x['predicted_IC90']),\n",
    "            )\n",
    "    )\n",
    "\n",
    "    corr = ic90s['log_IC90'].corr(ic90s['predicted_log_IC90'])\n",
    "      \n",
    "    ic90_corrs = pd.concat([ic90_corrs,\n",
    "                    pd.DataFrame({'correlation' : corr,\n",
    "                                  'icxx_set' : [[f\"IC{wt_data_icxx[c]}\" for c in s]]})])"
   ]
  },
  {
   "cell_type": "code",
   "execution_count": 14,
   "metadata": {},
   "outputs": [
    {
     "data": {
      "text/html": [
       "\n",
       "<div id=\"altair-viz-11b2022d5afc4615ad3acdf617ea351f\"></div>\n",
       "<script type=\"text/javascript\">\n",
       "  (function(spec, embedOpt){\n",
       "    let outputDiv = document.currentScript.previousElementSibling;\n",
       "    if (outputDiv.id !== \"altair-viz-11b2022d5afc4615ad3acdf617ea351f\") {\n",
       "      outputDiv = document.getElementById(\"altair-viz-11b2022d5afc4615ad3acdf617ea351f\");\n",
       "    }\n",
       "    const paths = {\n",
       "      \"vega\": \"https://cdn.jsdelivr.net/npm//vega@5?noext\",\n",
       "      \"vega-lib\": \"https://cdn.jsdelivr.net/npm//vega-lib?noext\",\n",
       "      \"vega-lite\": \"https://cdn.jsdelivr.net/npm//vega-lite@4.17.0?noext\",\n",
       "      \"vega-embed\": \"https://cdn.jsdelivr.net/npm//vega-embed@6?noext\",\n",
       "    };\n",
       "\n",
       "    function loadScript(lib) {\n",
       "      return new Promise(function(resolve, reject) {\n",
       "        var s = document.createElement('script');\n",
       "        s.src = paths[lib];\n",
       "        s.async = true;\n",
       "        s.onload = () => resolve(paths[lib]);\n",
       "        s.onerror = () => reject(`Error loading script: ${paths[lib]}`);\n",
       "        document.getElementsByTagName(\"head\")[0].appendChild(s);\n",
       "      });\n",
       "    }\n",
       "\n",
       "    function showError(err) {\n",
       "      outputDiv.innerHTML = `<div class=\"error\" style=\"color:red;\">${err}</div>`;\n",
       "      throw err;\n",
       "    }\n",
       "\n",
       "    function displayChart(vegaEmbed) {\n",
       "      vegaEmbed(outputDiv, spec, embedOpt)\n",
       "        .catch(err => showError(`Javascript Error: ${err.message}<br>This usually means there's a typo in your chart specification. See the javascript console for the full traceback.`));\n",
       "    }\n",
       "\n",
       "    if(typeof define === \"function\" && define.amd) {\n",
       "      requirejs.config({paths});\n",
       "      require([\"vega-embed\"], displayChart, err => showError(`Error loading script: ${err.message}`));\n",
       "    } else if (typeof vegaEmbed === \"function\") {\n",
       "      displayChart(vegaEmbed);\n",
       "    } else {\n",
       "      loadScript(\"vega\")\n",
       "        .then(() => loadScript(\"vega-lite\"))\n",
       "        .then(() => loadScript(\"vega-embed\"))\n",
       "        .catch(showError)\n",
       "        .then(() => displayChart(vegaEmbed));\n",
       "    }\n",
       "  })({\"config\": {\"view\": {\"continuousWidth\": 400, \"continuousHeight\": 300}}, \"data\": {\"name\": \"data-b908c67a5cb768a5843e9190fed1e292\"}, \"mark\": {\"type\": \"circle\", \"size\": 125}, \"encoding\": {\"tooltip\": [{\"field\": \"icxx_set\", \"type\": \"nominal\"}, {\"field\": \"correlation\", \"format\": \".3f\", \"type\": \"quantitative\"}], \"x\": {\"axis\": {\"labelAngle\": 0}, \"field\": \"icxx_set\", \"sort\": {\"field\": \"x\", \"order\": \"descending\"}, \"type\": \"ordinal\"}, \"y\": {\"field\": \"correlation\", \"type\": \"quantitative\"}}, \"height\": 200, \"title\": \"predicted vs. true IC90\", \"width\": 375, \"$schema\": \"https://vega.github.io/schema/vega-lite/v4.17.0.json\", \"datasets\": {\"data-b908c67a5cb768a5843e9190fed1e292\": [{\"correlation\": 0.9905441309006763, \"icxx_set\": [\"IC99.9\"]}, {\"correlation\": 0.9946325708701229, \"icxx_set\": [\"IC97.488\", \"IC99.9\"]}, {\"correlation\": 0.9945625573948877, \"icxx_set\": [\"IC99.441\", \"IC99.9\"]}, {\"correlation\": 0.9940281859227474, \"icxx_set\": [\"IC99.9\", \"IC99.985\"]}, {\"correlation\": 0.9942341182878403, \"icxx_set\": [\"IC99.9\", \"IC99.998\"]}, {\"correlation\": 0.9964220568323144, \"icxx_set\": [\"IC99.441\", \"IC99.9\", \"IC99.985\"]}, {\"correlation\": 0.9966442796637273, \"icxx_set\": [\"IC97.488\", \"IC99.9\", \"IC99.998\"]}, {\"correlation\": 0.9980654453784525, \"icxx_set\": [\"IC91.443\", \"IC97.488\", \"IC99.441\", \"IC99.9\", \"IC99.985\", \"IC99.998\"]}]}}, {\"mode\": \"vega-lite\"});\n",
       "</script>"
      ],
      "text/plain": [
       "alt.Chart(...)"
      ]
     },
     "execution_count": 14,
     "metadata": {},
     "output_type": "execute_result"
    }
   ],
   "source": [
    "# NBVAL_IGNORE_OUTPUT\n",
    "alt.Chart(ic90_corrs).mark_circle(size=125).encode(\n",
    "    x= alt.X('icxx_set:O', \n",
    "             sort=alt.EncodingSortField('x', order='descending'),\n",
    "             axis=alt.Axis(labelAngle=0)),\n",
    "    y='correlation:Q',\n",
    "    tooltip = ['icxx_set', alt.Tooltip('correlation', format='.3f')]\n",
    ").properties(width=375, height=200, title='predicted vs. true IC90')"
   ]
  },
  {
   "cell_type": "markdown",
   "metadata": {},
   "source": [
    "Fitting with more concentrations maintained the excellent IC90 prediction exhibited by models fit on data with a single concentration."
   ]
  },
  {
   "cell_type": "markdown",
   "metadata": {},
   "source": [
    "## Summary\n",
    "Based on these simulation experiments:"
   ]
  },
  {
   "cell_type": "markdown",
   "metadata": {},
   "source": [
    "1. Choose a single concentration that is potent enough (ex. `IC99.9`) to neutralize all wildtype viruses, but not potent enough to neutralize all the variants. "
   ]
  },
  {
   "cell_type": "markdown",
   "metadata": {},
   "source": [
    "2. Adding a second or third concentration can help refine inference of true mutation-escape values, especially for the most subdominant epitopes. Due to technical difficulties in precisely achieving the  `IC99.9` in a given experiment, we suggest using concentrations that are 2-4 fold higher or lower than `IC99.9` in order to more likely span the correct dynamic range."
   ]
  }
 ],
 "metadata": {
  "kernelspec": {
   "display_name": "Python 3 (ipykernel)",
   "language": "python",
   "name": "python3"
  },
  "language_info": {
   "codemirror_mode": {
    "name": "ipython",
    "version": 3
   },
   "file_extension": ".py",
   "mimetype": "text/x-python",
   "name": "python",
   "nbconvert_exporter": "python",
   "pygments_lexer": "ipython3",
   "version": "3.9.7"
  }
 },
 "nbformat": 4,
 "nbformat_minor": 4
}
