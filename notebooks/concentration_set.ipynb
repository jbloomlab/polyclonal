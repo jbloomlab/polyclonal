{
 "cells": [
  {
   "cell_type": "markdown",
   "metadata": {},
   "source": [
    "# Sera concentrations"
   ]
  },
  {
   "cell_type": "markdown",
   "metadata": {},
   "source": [
    "Choosing sera concentrations is an important consideration for DMS selections. We'll use simulated data to estimate the optimal set of sera concentrations that provides the best performance while minimizing the **number of concentrations** (or selection experiments) required."
   ]
  },
  {
   "cell_type": "code",
   "execution_count": 1,
   "metadata": {},
   "outputs": [],
   "source": [
    "import os\n",
    "import pickle\n",
    "\n",
    "import altair as alt\n",
    "import numpy as np\n",
    "import pandas as pd\n",
    "import polyclonal"
   ]
  },
  {
   "cell_type": "markdown",
   "metadata": {},
   "source": [
    "First, we read in a simulated \"noisy\" dataset measured at six sera concentrations. The variants in this library were simulated to contain a Poisson-distributed number of mutations, with an average of three mutations per gene. The variants also generally span a wide range of escape fractions across the different sera concentrations."
   ]
  },
  {
   "cell_type": "code",
   "execution_count": 2,
   "metadata": {},
   "outputs": [
    {
     "data": {
      "text/html": [
       "<div>\n",
       "<style scoped>\n",
       "    .dataframe tbody tr th:only-of-type {\n",
       "        vertical-align: middle;\n",
       "    }\n",
       "\n",
       "    .dataframe tbody tr th {\n",
       "        vertical-align: top;\n",
       "    }\n",
       "\n",
       "    .dataframe thead th {\n",
       "        text-align: right;\n",
       "    }\n",
       "</style>\n",
       "<table border=\"1\" class=\"dataframe\">\n",
       "  <thead>\n",
       "    <tr style=\"text-align: right;\">\n",
       "      <th></th>\n",
       "      <th>library</th>\n",
       "      <th>aa_substitutions</th>\n",
       "      <th>concentration</th>\n",
       "      <th>prob_escape</th>\n",
       "      <th>IC90</th>\n",
       "    </tr>\n",
       "  </thead>\n",
       "  <tbody>\n",
       "    <tr>\n",
       "      <th>0</th>\n",
       "      <td>avg3muts</td>\n",
       "      <td></td>\n",
       "      <td>0.125</td>\n",
       "      <td>0.04859</td>\n",
       "      <td>0.1128</td>\n",
       "    </tr>\n",
       "    <tr>\n",
       "      <th>1</th>\n",
       "      <td>avg3muts</td>\n",
       "      <td></td>\n",
       "      <td>0.125</td>\n",
       "      <td>0.17970</td>\n",
       "      <td>0.1128</td>\n",
       "    </tr>\n",
       "    <tr>\n",
       "      <th>2</th>\n",
       "      <td>avg3muts</td>\n",
       "      <td></td>\n",
       "      <td>0.125</td>\n",
       "      <td>0.13200</td>\n",
       "      <td>0.1128</td>\n",
       "    </tr>\n",
       "    <tr>\n",
       "      <th>3</th>\n",
       "      <td>avg3muts</td>\n",
       "      <td></td>\n",
       "      <td>0.125</td>\n",
       "      <td>0.07772</td>\n",
       "      <td>0.1128</td>\n",
       "    </tr>\n",
       "    <tr>\n",
       "      <th>4</th>\n",
       "      <td>avg3muts</td>\n",
       "      <td></td>\n",
       "      <td>0.125</td>\n",
       "      <td>0.17960</td>\n",
       "      <td>0.1128</td>\n",
       "    </tr>\n",
       "    <tr>\n",
       "      <th>...</th>\n",
       "      <td>...</td>\n",
       "      <td>...</td>\n",
       "      <td>...</td>\n",
       "      <td>...</td>\n",
       "      <td>...</td>\n",
       "    </tr>\n",
       "    <tr>\n",
       "      <th>179995</th>\n",
       "      <td>avg3muts</td>\n",
       "      <td>Y449I L518Y C525R L461I</td>\n",
       "      <td>4.000</td>\n",
       "      <td>0.02197</td>\n",
       "      <td>2.3100</td>\n",
       "    </tr>\n",
       "    <tr>\n",
       "      <th>179996</th>\n",
       "      <td>avg3muts</td>\n",
       "      <td>Y449V K529R N394R</td>\n",
       "      <td>4.000</td>\n",
       "      <td>0.04925</td>\n",
       "      <td>0.9473</td>\n",
       "    </tr>\n",
       "    <tr>\n",
       "      <th>179997</th>\n",
       "      <td>avg3muts</td>\n",
       "      <td>Y451L N481T F490V</td>\n",
       "      <td>4.000</td>\n",
       "      <td>0.02315</td>\n",
       "      <td>0.9301</td>\n",
       "    </tr>\n",
       "    <tr>\n",
       "      <th>179998</th>\n",
       "      <td>avg3muts</td>\n",
       "      <td>Y453R V483G L492V N501P I332P</td>\n",
       "      <td>4.000</td>\n",
       "      <td>0.00000</td>\n",
       "      <td>5.0120</td>\n",
       "    </tr>\n",
       "    <tr>\n",
       "      <th>179999</th>\n",
       "      <td>avg3muts</td>\n",
       "      <td>Y489Q N501Y</td>\n",
       "      <td>4.000</td>\n",
       "      <td>0.00000</td>\n",
       "      <td>0.5881</td>\n",
       "    </tr>\n",
       "  </tbody>\n",
       "</table>\n",
       "<p>180000 rows × 5 columns</p>\n",
       "</div>"
      ],
      "text/plain": [
       "         library               aa_substitutions  concentration  prob_escape  \\\n",
       "0       avg3muts                                         0.125      0.04859   \n",
       "1       avg3muts                                         0.125      0.17970   \n",
       "2       avg3muts                                         0.125      0.13200   \n",
       "3       avg3muts                                         0.125      0.07772   \n",
       "4       avg3muts                                         0.125      0.17960   \n",
       "...          ...                            ...            ...          ...   \n",
       "179995  avg3muts        Y449I L518Y C525R L461I          4.000      0.02197   \n",
       "179996  avg3muts              Y449V K529R N394R          4.000      0.04925   \n",
       "179997  avg3muts              Y451L N481T F490V          4.000      0.02315   \n",
       "179998  avg3muts  Y453R V483G L492V N501P I332P          4.000      0.00000   \n",
       "179999  avg3muts                    Y489Q N501Y          4.000      0.00000   \n",
       "\n",
       "          IC90  \n",
       "0       0.1128  \n",
       "1       0.1128  \n",
       "2       0.1128  \n",
       "3       0.1128  \n",
       "4       0.1128  \n",
       "...        ...  \n",
       "179995  2.3100  \n",
       "179996  0.9473  \n",
       "179997  0.9301  \n",
       "179998  5.0120  \n",
       "179999  0.5881  \n",
       "\n",
       "[180000 rows x 5 columns]"
      ]
     },
     "execution_count": 2,
     "metadata": {},
     "output_type": "execute_result"
    }
   ],
   "source": [
    "noisy_data = (\n",
    "    pd.read_csv('RBD_variants_escape_noisy.csv', na_filter=None)\n",
    "    .query(\"library == 'avg3muts'\")\n",
    "    .reset_index(drop=True)\n",
    "    )\n",
    "noisy_data"
   ]
  },
  {
   "cell_type": "markdown",
   "metadata": {},
   "source": [
    "While the concentrations are in arbitrary units (`0.125, 0.25, 0.5, 1, 2, 4`), we can describe them in terms of their ICXX's against wildtype virus. So, we can interpret each as a sera concentration that neutralizes XX % of wildtype viruses. "
   ]
  },
  {
   "cell_type": "code",
   "execution_count": 3,
   "metadata": {},
   "outputs": [
    {
     "data": {
      "text/html": [
       "<div>\n",
       "<style scoped>\n",
       "    .dataframe tbody tr th:only-of-type {\n",
       "        vertical-align: middle;\n",
       "    }\n",
       "\n",
       "    .dataframe tbody tr th {\n",
       "        vertical-align: top;\n",
       "    }\n",
       "\n",
       "    .dataframe thead th {\n",
       "        text-align: right;\n",
       "    }\n",
       "</style>\n",
       "<table border=\"1\" class=\"dataframe\">\n",
       "  <thead>\n",
       "    <tr style=\"text-align: right;\">\n",
       "      <th></th>\n",
       "      <th>ICxx_against_wt</th>\n",
       "    </tr>\n",
       "    <tr>\n",
       "      <th>concentration</th>\n",
       "      <th></th>\n",
       "    </tr>\n",
       "  </thead>\n",
       "  <tbody>\n",
       "    <tr>\n",
       "      <th>0.125</th>\n",
       "      <td>91.443</td>\n",
       "    </tr>\n",
       "    <tr>\n",
       "      <th>0.250</th>\n",
       "      <td>97.488</td>\n",
       "    </tr>\n",
       "    <tr>\n",
       "      <th>0.500</th>\n",
       "      <td>99.441</td>\n",
       "    </tr>\n",
       "    <tr>\n",
       "      <th>1.000</th>\n",
       "      <td>99.900</td>\n",
       "    </tr>\n",
       "    <tr>\n",
       "      <th>2.000</th>\n",
       "      <td>99.985</td>\n",
       "    </tr>\n",
       "    <tr>\n",
       "      <th>4.000</th>\n",
       "      <td>99.998</td>\n",
       "    </tr>\n",
       "  </tbody>\n",
       "</table>\n",
       "</div>"
      ],
      "text/plain": [
       "               ICxx_against_wt\n",
       "concentration                 \n",
       "0.125                   91.443\n",
       "0.250                   97.488\n",
       "0.500                   99.441\n",
       "1.000                   99.900\n",
       "2.000                   99.985\n",
       "4.000                   99.998"
      ]
     },
     "metadata": {},
     "output_type": "display_data"
    }
   ],
   "source": [
    "wt_data_icxx_df = (\n",
    "    pd.read_csv('RBD_variants_escape_exact.csv', na_filter=None)\n",
    "    .query(\"aa_substitutions == ''\")\n",
    "    .reset_index(drop=True)\n",
    "    .drop(columns='library')\n",
    "    .drop_duplicates()\n",
    "    .assign(ICxx_against_wt = lambda x : round((1 - x['prob_escape']) * 100, 3))\n",
    "    .drop(columns=['aa_substitutions','prob_escape','IC90'])\n",
    "    .set_index('concentration')\n",
    "    )\n",
    "\n",
    "display(wt_data_icxx_df)\n",
    "wt_data_icxx = wt_data_icxx_df['ICxx_against_wt'].to_dict()"
   ]
  },
  {
   "cell_type": "markdown",
   "metadata": {},
   "source": [
    "Now, we'll fit multiple `Polyclonal` models to data measured at **single** concentrations. We'll initialize each `Polyclonal` model with the same values. We know from [prior work](https://www.nature.com/articles/s41467-021-24435-8) the three most important epitopes and a key mutation in each, so we use this prior knowledge to “seed” initial guesses that assign large escape values to a key site in each epitope:"
   ]
  },
  {
   "cell_type": "markdown",
   "metadata": {},
   "source": [
    "- site 417 for class 1 epitope, which is often the least important"
   ]
  },
  {
   "cell_type": "markdown",
   "metadata": {},
   "source": [
    "- site 484 for class 2 epitope, which is often the dominant one"
   ]
  },
  {
   "cell_type": "markdown",
   "metadata": {},
   "source": [
    "- site 444 for class 3 epitope, which is often the second most dominant one"
   ]
  },
  {
   "cell_type": "markdown",
   "metadata": {},
   "source": [
    "Additionally, we'll store fit models as [pickle](https://docs.python.org/3/library/pickle.html#module-pickle) files, so that we can conveniently load them in the future without having to fit again."
   ]
  },
  {
   "cell_type": "code",
   "execution_count": 4,
   "metadata": {},
   "outputs": [
    {
     "name": "stdout",
     "output_type": "stream",
     "text": [
      "Model with [0.125] was already fit.\n",
      "Model with [0.25] was already fit.\n",
      "Model with [0.5] was already fit.\n",
      "Model with [1] was already fit.\n",
      "Model with [2] was already fit.\n",
      "Model with [4] was already fit.\n"
     ]
    }
   ],
   "source": [
    "conc_sets = [[0.125], [0.25], [0.5], [1], [2], [4]]\n",
    "\n",
    "# Make a directory to house pickled models\n",
    "os.makedirs('fit_polyclonal_models', exist_ok=True)\n",
    "       \n",
    "def fit_polyclonal(conc_set):\n",
    "    \"\"\"\n",
    "    Fit `Polyclonal` model with data measured for a specific concentration set.\n",
    "    Returns fit `Polyclonal` object.\n",
    "    \"\"\"\n",
    "    poly_abs = polyclonal.Polyclonal(data_to_fit=noisy_data.query(f\"concentration in {conc_set}\"),\n",
    "                                     activity_wt_df=pd.DataFrame.from_records(\n",
    "                                         [('1', 1.0),\n",
    "                                          ('2', 3.0),\n",
    "                                          ('3', 2.0),\n",
    "                                          ],\n",
    "                                         columns=['epitope', 'activity'],\n",
    "                                         ),\n",
    "                                     site_escape_df=pd.DataFrame.from_records(\n",
    "                                         [('1', 417, 10.0),\n",
    "                                          ('2', 484, 10.0),\n",
    "                                          ('3', 444, 10.0),\n",
    "                                          ],\n",
    "                                         columns=['epitope', 'site', 'escape'],\n",
    "                                         ),\n",
    "                                     data_mut_escape_overlap='fill_to_data',\n",
    "                                 )\n",
    "    poly_abs.fit()\n",
    "    return poly_abs\n",
    "\n",
    "# Store all fit models in a dictionary for future lookup\n",
    "fit_models = {}\n",
    "\n",
    "for s in conc_sets:\n",
    "    # These are the keys for fit models\n",
    "    model_string = f'noisy_{s}conc_3muts'\n",
    "\n",
    "    # If the pickled model exists in fit_polyclonal_models directory,\n",
    "    # load it and update fit_models \n",
    "    if os.path.exists(f'fit_polyclonal_models/{model_string}.pkl') is True:\n",
    "        model = pickle.load(open(f'fit_polyclonal_models/{model_string}.pkl', 'rb'))\n",
    "        fit_models.update({model_string : model})\n",
    "        print(f\"Model with {s} was already fit.\")\n",
    "    else:\n",
    "        # Else, fit a model using fit_polyclonal(), save it to the\n",
    "        # fit_polyclonal_models directory, and update fit_models \n",
    "        model = fit_polyclonal(s)\n",
    "        fit_models.update({model_string : model})\n",
    "        pickle.dump(model, open(f'fit_polyclonal_models/{model_string}.pkl', 'wb'))\n",
    "        print(f\"Model with {s} fit and saved.\")  "
   ]
  },
  {
   "cell_type": "markdown",
   "metadata": {},
   "source": [
    "We can look at the correlation between the “true” and inferred mutation-escape values, $\\beta_{m,e}$, for the fit models. These mutation-escape values represent the extent to which mutations mediate escape from specific epitopes."
   ]
  },
  {
   "cell_type": "code",
   "execution_count": 5,
   "metadata": {},
   "outputs": [],
   "source": [
    "all_corrs = pd.DataFrame({'epitope' : [], \n",
    "                          'correlation' : [], \n",
    "                          'icxx_set' : []})\n",
    "\n",
    "for s in conc_sets:\n",
    "    model = fit_models[f'noisy_{s}conc_3muts']\n",
    "\n",
    "    mut_escape_pred = (\n",
    "        pd.read_csv('RBD_mut_escape_df.csv')\n",
    "        .merge((model.mut_escape_df\n",
    "                .assign(epitope=lambda x: 'class ' + x['epitope'].astype(str))\n",
    "                .rename(columns={'escape': 'predicted escape'})\n",
    "                ),\n",
    "               on=['mutation', 'epitope'],\n",
    "               validate='one_to_one',\n",
    "               )\n",
    "        )\n",
    "\n",
    "    corr = (mut_escape_pred\n",
    "            .groupby('epitope')\n",
    "            .apply(lambda x: x['escape'].corr(x['predicted escape']) ** 2)\n",
    "            .rename('correlation (R^2)')\n",
    "            .reset_index()\n",
    "            )\n",
    "    \n",
    "    all_corrs = pd.concat([all_corrs, \n",
    "                    corr.assign(icxx_set = [\n",
    "                        [f\"IC{wt_data_icxx[c]}\" for c in s]] * len(corr.index))\n",
    "                        ])"
   ]
  },
  {
   "cell_type": "code",
   "execution_count": 6,
   "metadata": {},
   "outputs": [
    {
     "data": {
      "text/html": [
       "\n",
       "<div id=\"altair-viz-684c21d2d5684dcebe4a10aef275b705\"></div>\n",
       "<script type=\"text/javascript\">\n",
       "  (function(spec, embedOpt){\n",
       "    let outputDiv = document.currentScript.previousElementSibling;\n",
       "    if (outputDiv.id !== \"altair-viz-684c21d2d5684dcebe4a10aef275b705\") {\n",
       "      outputDiv = document.getElementById(\"altair-viz-684c21d2d5684dcebe4a10aef275b705\");\n",
       "    }\n",
       "    const paths = {\n",
       "      \"vega\": \"https://cdn.jsdelivr.net/npm//vega@5?noext\",\n",
       "      \"vega-lib\": \"https://cdn.jsdelivr.net/npm//vega-lib?noext\",\n",
       "      \"vega-lite\": \"https://cdn.jsdelivr.net/npm//vega-lite@4.17.0?noext\",\n",
       "      \"vega-embed\": \"https://cdn.jsdelivr.net/npm//vega-embed@6?noext\",\n",
       "    };\n",
       "\n",
       "    function loadScript(lib) {\n",
       "      return new Promise(function(resolve, reject) {\n",
       "        var s = document.createElement('script');\n",
       "        s.src = paths[lib];\n",
       "        s.async = true;\n",
       "        s.onload = () => resolve(paths[lib]);\n",
       "        s.onerror = () => reject(`Error loading script: ${paths[lib]}`);\n",
       "        document.getElementsByTagName(\"head\")[0].appendChild(s);\n",
       "      });\n",
       "    }\n",
       "\n",
       "    function showError(err) {\n",
       "      outputDiv.innerHTML = `<div class=\"error\" style=\"color:red;\">${err}</div>`;\n",
       "      throw err;\n",
       "    }\n",
       "\n",
       "    function displayChart(vegaEmbed) {\n",
       "      vegaEmbed(outputDiv, spec, embedOpt)\n",
       "        .catch(err => showError(`Javascript Error: ${err.message}<br>This usually means there's a typo in your chart specification. See the javascript console for the full traceback.`));\n",
       "    }\n",
       "\n",
       "    if(typeof define === \"function\" && define.amd) {\n",
       "      requirejs.config({paths});\n",
       "      require([\"vega-embed\"], displayChart, err => showError(`Error loading script: ${err.message}`));\n",
       "    } else if (typeof vegaEmbed === \"function\") {\n",
       "      displayChart(vegaEmbed);\n",
       "    } else {\n",
       "      loadScript(\"vega\")\n",
       "        .then(() => loadScript(\"vega-lite\"))\n",
       "        .then(() => loadScript(\"vega-embed\"))\n",
       "        .catch(showError)\n",
       "        .then(() => displayChart(vegaEmbed));\n",
       "    }\n",
       "  })({\"config\": {\"view\": {\"continuousWidth\": 400, \"continuousHeight\": 300}}, \"data\": {\"name\": \"data-3886302605302058a82c76d3f8dbca7e\"}, \"mark\": {\"type\": \"circle\", \"size\": 125}, \"encoding\": {\"color\": {\"field\": \"epitope\", \"legend\": null, \"type\": \"nominal\"}, \"column\": {\"field\": \"epitope\", \"type\": \"nominal\"}, \"tooltip\": [{\"field\": \"icxx_set\", \"type\": \"nominal\"}, {\"field\": \"correlation (R^2)\", \"format\": \".3f\", \"type\": \"quantitative\"}], \"x\": {\"field\": \"icxx_set\", \"sort\": {\"field\": \"x\", \"order\": \"descending\"}, \"type\": \"ordinal\"}, \"y\": {\"field\": \"correlation (R^2)\", \"type\": \"quantitative\"}}, \"height\": 200, \"title\": \"inferred vs. true mutation escape values\", \"width\": 200, \"$schema\": \"https://vega.github.io/schema/vega-lite/v4.17.0.json\", \"datasets\": {\"data-3886302605302058a82c76d3f8dbca7e\": [{\"epitope\": \"class 1\", \"correlation\": null, \"icxx_set\": [\"IC91.443\"], \"correlation (R^2)\": 0.46120975785639706}, {\"epitope\": \"class 2\", \"correlation\": null, \"icxx_set\": [\"IC91.443\"], \"correlation (R^2)\": 0.48238838369905557}, {\"epitope\": \"class 3\", \"correlation\": null, \"icxx_set\": [\"IC91.443\"], \"correlation (R^2)\": 0.23113436147471061}, {\"epitope\": \"class 1\", \"correlation\": null, \"icxx_set\": [\"IC97.488\"], \"correlation (R^2)\": 0.5141118341528156}, {\"epitope\": \"class 2\", \"correlation\": null, \"icxx_set\": [\"IC97.488\"], \"correlation (R^2)\": 0.7603069707803831}, {\"epitope\": \"class 3\", \"correlation\": null, \"icxx_set\": [\"IC97.488\"], \"correlation (R^2)\": 0.5395348883108452}, {\"epitope\": \"class 1\", \"correlation\": null, \"icxx_set\": [\"IC99.441\"], \"correlation (R^2)\": 0.5661861480700429}, {\"epitope\": \"class 2\", \"correlation\": null, \"icxx_set\": [\"IC99.441\"], \"correlation (R^2)\": 0.8688626793584749}, {\"epitope\": \"class 3\", \"correlation\": null, \"icxx_set\": [\"IC99.441\"], \"correlation (R^2)\": 0.7388519195074222}, {\"epitope\": \"class 1\", \"correlation\": null, \"icxx_set\": [\"IC99.9\"], \"correlation (R^2)\": 0.6509201460362352}, {\"epitope\": \"class 2\", \"correlation\": null, \"icxx_set\": [\"IC99.9\"], \"correlation (R^2)\": 0.8930324381969524}, {\"epitope\": \"class 3\", \"correlation\": null, \"icxx_set\": [\"IC99.9\"], \"correlation (R^2)\": 0.8250396895359596}, {\"epitope\": \"class 1\", \"correlation\": null, \"icxx_set\": [\"IC99.985\"], \"correlation (R^2)\": 0.5938883968415591}, {\"epitope\": \"class 2\", \"correlation\": null, \"icxx_set\": [\"IC99.985\"], \"correlation (R^2)\": 0.9013541648748807}, {\"epitope\": \"class 3\", \"correlation\": null, \"icxx_set\": [\"IC99.985\"], \"correlation (R^2)\": 0.8383621079296067}, {\"epitope\": \"class 1\", \"correlation\": null, \"icxx_set\": [\"IC99.998\"], \"correlation (R^2)\": 0.5192696542786476}, {\"epitope\": \"class 2\", \"correlation\": null, \"icxx_set\": [\"IC99.998\"], \"correlation (R^2)\": 0.8828125505013785}, {\"epitope\": \"class 3\", \"correlation\": null, \"icxx_set\": [\"IC99.998\"], \"correlation (R^2)\": 0.8376039325124446}]}}, {\"mode\": \"vega-lite\"});\n",
       "</script>"
      ],
      "text/plain": [
       "alt.Chart(...)"
      ]
     },
     "execution_count": 6,
     "metadata": {},
     "output_type": "execute_result"
    }
   ],
   "source": [
    "# NBVAL_IGNORE_OUTPUT\n",
    "alt.Chart(all_corrs).mark_circle(size=125).encode(\n",
    "    x= alt.X('icxx_set:O', \n",
    "             sort=alt.EncodingSortField('x', order='descending')),\n",
    "    y='correlation (R^2):Q',\n",
    "    column='epitope:N',\n",
    "    tooltip = ['icxx_set', alt.Tooltip('correlation (R^2)', format='.3f')],\n",
    "    color=alt.Color('epitope', legend=None),\n",
    ").properties(width=200, height=200, title='inferred vs. true mutation escape values')"
   ]
  },
  {
   "cell_type": "markdown",
   "metadata": {},
   "source": [
    "The highest correlation is observed when the wildtype virus is potently neutralized. However, there is a fine balance. The correlation is lower when the concentration is too low (i.e., many mutated variants escape and even some wildtype) or too high (i.e., few mutated variants escape). "
   ]
  },
  {
   "cell_type": "markdown",
   "metadata": {},
   "source": [
    "Additionally, we'll look at the correlation between \"true\" and predicted IC90's for each of the fit models. To do this, we'll predict the IC90's of variants in a separate library with a with a different (higher) mutation rate. We therefore read in the “exact” simulated data from a library containing variants with an average of four mutations per gene."
   ]
  },
  {
   "cell_type": "code",
   "execution_count": 7,
   "metadata": {},
   "outputs": [],
   "source": [
    "exact_data = (\n",
    "    pd.read_csv('RBD_variants_escape_exact.csv', na_filter=None)\n",
    "    .query('library == \"avg4muts\"')\n",
    "    .query('concentration in [1]')\n",
    "    .reset_index(drop=True)\n",
    "    )"
   ]
  },
  {
   "cell_type": "markdown",
   "metadata": {},
   "source": [
    "We'll make the comparison on a log scale, and clip IC90s at values >50 as that is likely to be way outside the dynamic range given the concentrations used."
   ]
  },
  {
   "cell_type": "code",
   "execution_count": 8,
   "metadata": {},
   "outputs": [],
   "source": [
    "ic90_corrs = pd.DataFrame({'correlation' : [], \n",
    "                           'icxx_set' : []})\n",
    "\n",
    "max_ic90 = 50\n",
    "for s in conc_sets:\n",
    "    model = fit_models[f'noisy_{s}conc_3muts']\n",
    "    \n",
    "    ic90s = (exact_data[['aa_substitutions', 'IC90']]\n",
    "         .assign(IC90=lambda x: x['IC90'].clip(upper=max_ic90))\n",
    "         .drop_duplicates()\n",
    "         )\n",
    "    ic90s = model.filter_variants_by_seen_muts(ic90s)\n",
    "    ic90s = model.icXX(ic90s, x=0.9, col='predicted_IC90', max_c=max_ic90)\n",
    "\n",
    "    ic90s = (\n",
    "        ic90s\n",
    "        .assign(log_IC90=lambda x: np.log10(x['IC90']),\n",
    "            predicted_log_IC90=lambda x: np.log10(x['predicted_IC90']),\n",
    "            )\n",
    "    )\n",
    "\n",
    "    corr = ic90s['log_IC90'].corr(ic90s['predicted_log_IC90']) ** 2\n",
    "    \n",
    "    ic90_corrs = pd.concat([ic90_corrs,\n",
    "                    pd.DataFrame({'correlation (R^2)' : corr,\n",
    "                                  'icxx_set' : [f\"IC{wt_data_icxx[c]}\" for c in s]})])"
   ]
  },
  {
   "cell_type": "code",
   "execution_count": 9,
   "metadata": {},
   "outputs": [
    {
     "data": {
      "text/html": [
       "\n",
       "<div id=\"altair-viz-0b8dda62c2504c44a95e9514560ecc21\"></div>\n",
       "<script type=\"text/javascript\">\n",
       "  (function(spec, embedOpt){\n",
       "    let outputDiv = document.currentScript.previousElementSibling;\n",
       "    if (outputDiv.id !== \"altair-viz-0b8dda62c2504c44a95e9514560ecc21\") {\n",
       "      outputDiv = document.getElementById(\"altair-viz-0b8dda62c2504c44a95e9514560ecc21\");\n",
       "    }\n",
       "    const paths = {\n",
       "      \"vega\": \"https://cdn.jsdelivr.net/npm//vega@5?noext\",\n",
       "      \"vega-lib\": \"https://cdn.jsdelivr.net/npm//vega-lib?noext\",\n",
       "      \"vega-lite\": \"https://cdn.jsdelivr.net/npm//vega-lite@4.17.0?noext\",\n",
       "      \"vega-embed\": \"https://cdn.jsdelivr.net/npm//vega-embed@6?noext\",\n",
       "    };\n",
       "\n",
       "    function loadScript(lib) {\n",
       "      return new Promise(function(resolve, reject) {\n",
       "        var s = document.createElement('script');\n",
       "        s.src = paths[lib];\n",
       "        s.async = true;\n",
       "        s.onload = () => resolve(paths[lib]);\n",
       "        s.onerror = () => reject(`Error loading script: ${paths[lib]}`);\n",
       "        document.getElementsByTagName(\"head\")[0].appendChild(s);\n",
       "      });\n",
       "    }\n",
       "\n",
       "    function showError(err) {\n",
       "      outputDiv.innerHTML = `<div class=\"error\" style=\"color:red;\">${err}</div>`;\n",
       "      throw err;\n",
       "    }\n",
       "\n",
       "    function displayChart(vegaEmbed) {\n",
       "      vegaEmbed(outputDiv, spec, embedOpt)\n",
       "        .catch(err => showError(`Javascript Error: ${err.message}<br>This usually means there's a typo in your chart specification. See the javascript console for the full traceback.`));\n",
       "    }\n",
       "\n",
       "    if(typeof define === \"function\" && define.amd) {\n",
       "      requirejs.config({paths});\n",
       "      require([\"vega-embed\"], displayChart, err => showError(`Error loading script: ${err.message}`));\n",
       "    } else if (typeof vegaEmbed === \"function\") {\n",
       "      displayChart(vegaEmbed);\n",
       "    } else {\n",
       "      loadScript(\"vega\")\n",
       "        .then(() => loadScript(\"vega-lite\"))\n",
       "        .then(() => loadScript(\"vega-embed\"))\n",
       "        .catch(showError)\n",
       "        .then(() => displayChart(vegaEmbed));\n",
       "    }\n",
       "  })({\"config\": {\"view\": {\"continuousWidth\": 400, \"continuousHeight\": 300}}, \"data\": {\"name\": \"data-4ba64bdd97e1d036d5ff453ec1ff4397\"}, \"mark\": {\"type\": \"circle\", \"size\": 125}, \"encoding\": {\"tooltip\": [{\"field\": \"icxx_set\", \"type\": \"nominal\"}, {\"field\": \"correlation (R^2)\", \"format\": \".3f\", \"type\": \"quantitative\"}], \"x\": {\"field\": \"icxx_set\", \"type\": \"ordinal\"}, \"y\": {\"field\": \"correlation (R^2)\", \"type\": \"quantitative\"}}, \"height\": 200, \"title\": \"predicted vs. true IC90\", \"width\": 200, \"$schema\": \"https://vega.github.io/schema/vega-lite/v4.17.0.json\", \"datasets\": {\"data-4ba64bdd97e1d036d5ff453ec1ff4397\": [{\"correlation\": null, \"icxx_set\": \"IC91.443\", \"correlation (R^2)\": 0.9496525961648239}, {\"correlation\": null, \"icxx_set\": \"IC97.488\", \"correlation (R^2)\": 0.9680017147310113}, {\"correlation\": null, \"icxx_set\": \"IC99.441\", \"correlation (R^2)\": 0.9784935556568388}, {\"correlation\": null, \"icxx_set\": \"IC99.9\", \"correlation (R^2)\": 0.9811776752617761}, {\"correlation\": null, \"icxx_set\": \"IC99.985\", \"correlation (R^2)\": 0.9755336331137197}, {\"correlation\": null, \"icxx_set\": \"IC99.998\", \"correlation (R^2)\": 0.9549182874768274}]}}, {\"mode\": \"vega-lite\"});\n",
       "</script>"
      ],
      "text/plain": [
       "alt.Chart(...)"
      ]
     },
     "execution_count": 9,
     "metadata": {},
     "output_type": "execute_result"
    }
   ],
   "source": [
    "# NBVAL_IGNORE_OUTPUT\n",
    "alt.Chart(ic90_corrs).mark_circle(size=125).encode(\n",
    "    x='icxx_set:O',\n",
    "    y='correlation (R^2):Q',\n",
    "    tooltip = ['icxx_set', alt.Tooltip('correlation (R^2)', format='.3f')]\n",
    ").properties(width=200, height=200, title='predicted vs. true IC90')"
   ]
  },
  {
   "cell_type": "markdown",
   "metadata": {},
   "source": [
    "Across all models fit on data with single concentrations, the correlation was very strong."
   ]
  },
  {
   "cell_type": "markdown",
   "metadata": {},
   "source": [
    "Next, we'll fit a couple more `Polyclonal` models to determine if adding a second or third concentration to the best performing single concentration will improve inference of the mutation-escape values. As a reference, we also fit a `Polyclonal` model on all six concentrations. This should represent the best performing model, as it is fit on the most data points."
   ]
  },
  {
   "cell_type": "code",
   "execution_count": 10,
   "metadata": {},
   "outputs": [
    {
     "name": "stdout",
     "output_type": "stream",
     "text": [
      "Model with [0.25, 1] was already fit.\n",
      "Model with [0.5, 1] was already fit.\n",
      "Model with [1, 2] was already fit.\n",
      "Model with [1, 4] was already fit.\n",
      "Model with [0.5, 1, 2] was already fit.\n",
      "Model with [0.25, 1, 4] was already fit.\n",
      "Model with [0.125, 0.25, 0.5, 1, 2, 4] was already fit.\n"
     ]
    }
   ],
   "source": [
    "conc_sets = [[0.25,1],\n",
    "             [0.5,1],\n",
    "             [1,2],\n",
    "             [1,4],\n",
    "             [0.5,1,2],\n",
    "             [0.25,1,4],\n",
    "             [0.125,0.25,0.5,1,2,4]]\n",
    "\n",
    "for s in conc_sets:\n",
    "    # These are the keys for fit models\n",
    "    model_string = f'noisy_{s}conc_3muts'\n",
    "\n",
    "    # If the pickled model exists in fit_polyclonal_models directory,\n",
    "    # load it and add to fit_models \n",
    "    if os.path.exists(f'fit_polyclonal_models/{model_string}.pkl') is True:\n",
    "        model = pickle.load(open(f'fit_polyclonal_models/{model_string}.pkl', 'rb'))\n",
    "        fit_models.update({model_string : model})\n",
    "        print(f\"Model with {s} was already fit.\")\n",
    "    else:\n",
    "        # Else, fit a model using fit_polyclonal(), save it to the\n",
    "        # fit_polyclonal_models directory, and add to fit_models \n",
    "        model = fit_polyclonal(s)\n",
    "        fit_models.update({model_string : model})\n",
    "        pickle.dump(model, open(f'fit_polyclonal_models/{model_string}.pkl', 'wb'))\n",
    "        print(f\"Model with {s} fit and saved.\")  "
   ]
  },
  {
   "cell_type": "markdown",
   "metadata": {},
   "source": [
    "Again, lets look at the correlation between \"true\" and predicted mutation-escape values for each of the fit models."
   ]
  },
  {
   "cell_type": "code",
   "execution_count": 11,
   "metadata": {},
   "outputs": [],
   "source": [
    "# add best performing single concentration to concentration sets, so we can plot as reference\n",
    "conc_sets_to_plot = [[1]] + conc_sets\n",
    "\n",
    "all_corrs = pd.DataFrame({'epitope' : [], \n",
    "                          'correlation' : [], \n",
    "                          'icxx_set' : []})\n",
    "\n",
    "for s in conc_sets_to_plot:\n",
    "    model = fit_models[f'noisy_{s}conc_3muts']\n",
    "\n",
    "    mut_escape_pred = (\n",
    "        pd.read_csv('RBD_mut_escape_df.csv')\n",
    "        .merge((model.mut_escape_df\n",
    "                .assign(epitope=lambda x: 'class ' + x['epitope'].astype(str))\n",
    "                .rename(columns={'escape': 'predicted escape'})\n",
    "                ),\n",
    "               on=['mutation', 'epitope'],\n",
    "               validate='one_to_one',\n",
    "               )\n",
    "        )\n",
    "\n",
    "    corr = (mut_escape_pred\n",
    "            .groupby('epitope')\n",
    "            .apply(lambda x: x['escape'].corr(x['predicted escape']) ** 2)\n",
    "            .rename('correlation (R^2)')\n",
    "            .reset_index()\n",
    "            )\n",
    "    \n",
    "    all_corrs = pd.concat([all_corrs, \n",
    "                    corr.assign(icxx_set = [\n",
    "                        [f\"IC{wt_data_icxx[c]}\" for c in s]] * len(corr.index))\n",
    "                        ])"
   ]
  },
  {
   "cell_type": "code",
   "execution_count": 12,
   "metadata": {},
   "outputs": [
    {
     "data": {
      "text/html": [
       "\n",
       "<div id=\"altair-viz-5be50216d70c4f1aa8a81371100b31b8\"></div>\n",
       "<script type=\"text/javascript\">\n",
       "  (function(spec, embedOpt){\n",
       "    let outputDiv = document.currentScript.previousElementSibling;\n",
       "    if (outputDiv.id !== \"altair-viz-5be50216d70c4f1aa8a81371100b31b8\") {\n",
       "      outputDiv = document.getElementById(\"altair-viz-5be50216d70c4f1aa8a81371100b31b8\");\n",
       "    }\n",
       "    const paths = {\n",
       "      \"vega\": \"https://cdn.jsdelivr.net/npm//vega@5?noext\",\n",
       "      \"vega-lib\": \"https://cdn.jsdelivr.net/npm//vega-lib?noext\",\n",
       "      \"vega-lite\": \"https://cdn.jsdelivr.net/npm//vega-lite@4.17.0?noext\",\n",
       "      \"vega-embed\": \"https://cdn.jsdelivr.net/npm//vega-embed@6?noext\",\n",
       "    };\n",
       "\n",
       "    function loadScript(lib) {\n",
       "      return new Promise(function(resolve, reject) {\n",
       "        var s = document.createElement('script');\n",
       "        s.src = paths[lib];\n",
       "        s.async = true;\n",
       "        s.onload = () => resolve(paths[lib]);\n",
       "        s.onerror = () => reject(`Error loading script: ${paths[lib]}`);\n",
       "        document.getElementsByTagName(\"head\")[0].appendChild(s);\n",
       "      });\n",
       "    }\n",
       "\n",
       "    function showError(err) {\n",
       "      outputDiv.innerHTML = `<div class=\"error\" style=\"color:red;\">${err}</div>`;\n",
       "      throw err;\n",
       "    }\n",
       "\n",
       "    function displayChart(vegaEmbed) {\n",
       "      vegaEmbed(outputDiv, spec, embedOpt)\n",
       "        .catch(err => showError(`Javascript Error: ${err.message}<br>This usually means there's a typo in your chart specification. See the javascript console for the full traceback.`));\n",
       "    }\n",
       "\n",
       "    if(typeof define === \"function\" && define.amd) {\n",
       "      requirejs.config({paths});\n",
       "      require([\"vega-embed\"], displayChart, err => showError(`Error loading script: ${err.message}`));\n",
       "    } else if (typeof vegaEmbed === \"function\") {\n",
       "      displayChart(vegaEmbed);\n",
       "    } else {\n",
       "      loadScript(\"vega\")\n",
       "        .then(() => loadScript(\"vega-lite\"))\n",
       "        .then(() => loadScript(\"vega-embed\"))\n",
       "        .catch(showError)\n",
       "        .then(() => displayChart(vegaEmbed));\n",
       "    }\n",
       "  })({\"config\": {\"view\": {\"continuousWidth\": 400, \"continuousHeight\": 300}}, \"data\": {\"name\": \"data-9ea184ba8d40157120b509a7595e43e6\"}, \"mark\": {\"type\": \"circle\", \"size\": 125}, \"encoding\": {\"color\": {\"field\": \"epitope\", \"legend\": null, \"type\": \"nominal\"}, \"row\": {\"field\": \"epitope\", \"type\": \"nominal\"}, \"tooltip\": [{\"field\": \"icxx_set\", \"type\": \"nominal\"}, {\"field\": \"correlation (R^2)\", \"format\": \".3f\", \"type\": \"quantitative\"}], \"x\": {\"axis\": {\"labelAngle\": 0}, \"field\": \"icxx_set\", \"sort\": {\"field\": \"x\", \"order\": \"descending\"}, \"type\": \"ordinal\"}, \"y\": {\"field\": \"correlation (R^2)\", \"type\": \"quantitative\"}}, \"height\": 200, \"title\": \"inferred vs. true mutation escape values\", \"width\": 375, \"$schema\": \"https://vega.github.io/schema/vega-lite/v4.17.0.json\", \"datasets\": {\"data-9ea184ba8d40157120b509a7595e43e6\": [{\"epitope\": \"class 1\", \"correlation\": null, \"icxx_set\": [\"IC99.9\"], \"correlation (R^2)\": 0.6509201460362352}, {\"epitope\": \"class 2\", \"correlation\": null, \"icxx_set\": [\"IC99.9\"], \"correlation (R^2)\": 0.8930324381969524}, {\"epitope\": \"class 3\", \"correlation\": null, \"icxx_set\": [\"IC99.9\"], \"correlation (R^2)\": 0.8250396895359596}, {\"epitope\": \"class 1\", \"correlation\": null, \"icxx_set\": [\"IC97.488\", \"IC99.9\"], \"correlation (R^2)\": 0.7053494019727014}, {\"epitope\": \"class 2\", \"correlation\": null, \"icxx_set\": [\"IC97.488\", \"IC99.9\"], \"correlation (R^2)\": 0.9183988516016743}, {\"epitope\": \"class 3\", \"correlation\": null, \"icxx_set\": [\"IC97.488\", \"IC99.9\"], \"correlation (R^2)\": 0.8617008351208474}, {\"epitope\": \"class 1\", \"correlation\": null, \"icxx_set\": [\"IC99.441\", \"IC99.9\"], \"correlation (R^2)\": 0.711925402435687}, {\"epitope\": \"class 2\", \"correlation\": null, \"icxx_set\": [\"IC99.441\", \"IC99.9\"], \"correlation (R^2)\": 0.9171634248289655}, {\"epitope\": \"class 3\", \"correlation\": null, \"icxx_set\": [\"IC99.441\", \"IC99.9\"], \"correlation (R^2)\": 0.8645698750046725}, {\"epitope\": \"class 1\", \"correlation\": null, \"icxx_set\": [\"IC99.9\", \"IC99.985\"], \"correlation (R^2)\": 0.7201426936179625}, {\"epitope\": \"class 2\", \"correlation\": null, \"icxx_set\": [\"IC99.9\", \"IC99.985\"], \"correlation (R^2)\": 0.9274387549421326}, {\"epitope\": \"class 3\", \"correlation\": null, \"icxx_set\": [\"IC99.9\", \"IC99.985\"], \"correlation (R^2)\": 0.8745368483010729}, {\"epitope\": \"class 1\", \"correlation\": null, \"icxx_set\": [\"IC99.9\", \"IC99.998\"], \"correlation (R^2)\": 0.7344275822741407}, {\"epitope\": \"class 2\", \"correlation\": null, \"icxx_set\": [\"IC99.9\", \"IC99.998\"], \"correlation (R^2)\": 0.9380153798078774}, {\"epitope\": \"class 3\", \"correlation\": null, \"icxx_set\": [\"IC99.9\", \"IC99.998\"], \"correlation (R^2)\": 0.8901360051660661}, {\"epitope\": \"class 1\", \"correlation\": null, \"icxx_set\": [\"IC99.441\", \"IC99.9\", \"IC99.985\"], \"correlation (R^2)\": 0.7612621610027513}, {\"epitope\": \"class 2\", \"correlation\": null, \"icxx_set\": [\"IC99.441\", \"IC99.9\", \"IC99.985\"], \"correlation (R^2)\": 0.9377265298905444}, {\"epitope\": \"class 3\", \"correlation\": null, \"icxx_set\": [\"IC99.441\", \"IC99.9\", \"IC99.985\"], \"correlation (R^2)\": 0.8953628757629765}, {\"epitope\": \"class 1\", \"correlation\": null, \"icxx_set\": [\"IC97.488\", \"IC99.9\", \"IC99.998\"], \"correlation (R^2)\": 0.7793980679238988}, {\"epitope\": \"class 2\", \"correlation\": null, \"icxx_set\": [\"IC97.488\", \"IC99.9\", \"IC99.998\"], \"correlation (R^2)\": 0.9466799369332064}, {\"epitope\": \"class 3\", \"correlation\": null, \"icxx_set\": [\"IC97.488\", \"IC99.9\", \"IC99.998\"], \"correlation (R^2)\": 0.9019222075286286}, {\"epitope\": \"class 1\", \"correlation\": null, \"icxx_set\": [\"IC91.443\", \"IC97.488\", \"IC99.441\", \"IC99.9\", \"IC99.985\", \"IC99.998\"], \"correlation (R^2)\": 0.7667772642571895}, {\"epitope\": \"class 2\", \"correlation\": null, \"icxx_set\": [\"IC91.443\", \"IC97.488\", \"IC99.441\", \"IC99.9\", \"IC99.985\", \"IC99.998\"], \"correlation (R^2)\": 0.9532662612101435}, {\"epitope\": \"class 3\", \"correlation\": null, \"icxx_set\": [\"IC91.443\", \"IC97.488\", \"IC99.441\", \"IC99.9\", \"IC99.985\", \"IC99.998\"], \"correlation (R^2)\": 0.9108313534334798}]}}, {\"mode\": \"vega-lite\"});\n",
       "</script>"
      ],
      "text/plain": [
       "alt.Chart(...)"
      ]
     },
     "execution_count": 12,
     "metadata": {},
     "output_type": "execute_result"
    }
   ],
   "source": [
    "# NBVAL_IGNORE_OUTPUT\n",
    "alt.Chart(all_corrs).mark_circle(size=125).encode(\n",
    "    x= alt.X('icxx_set:O', \n",
    "             sort=alt.EncodingSortField('x', order='descending'),\n",
    "             axis=alt.Axis(labelAngle=0)),\n",
    "    y='correlation (R^2):Q',\n",
    "    tooltip = ['icxx_set', alt.Tooltip('correlation (R^2)', format='.3f')],\n",
    "    color=alt.Color('epitope', legend=None),\n",
    "    row='epitope:N'\n",
    ").properties(width=375, height=200, \n",
    "             title='inferred vs. true mutation escape values'\n",
    ")"
   ]
  },
  {
   "cell_type": "markdown",
   "metadata": {},
   "source": [
    "We see that the performance of models fit on data with two or three concentrations is nearly indistinguishable from that of the model fit on data with all six concentrations. Additionally, adding two or three concentrations does lead to a modest improvement in the correlation, especially for the class 1 epitope, which is expected to be the hardest to predict since it has the lowest wildtype activity."
   ]
  },
  {
   "cell_type": "markdown",
   "metadata": {},
   "source": [
    "Again, lets look at the correlation between \"true\" and predicted IC90's for each of the fit models."
   ]
  },
  {
   "cell_type": "code",
   "execution_count": 13,
   "metadata": {},
   "outputs": [],
   "source": [
    "ic90_corrs = pd.DataFrame({'correlation' : [], \n",
    "                           'icxx_set' : []})\n",
    "\n",
    "max_ic90 = 50\n",
    "for s in conc_sets_to_plot:\n",
    "    model = fit_models[f'noisy_{s}conc_3muts']\n",
    "    \n",
    "    ic90s = (exact_data[['aa_substitutions', 'IC90']]\n",
    "         .assign(IC90=lambda x: x['IC90'].clip(upper=max_ic90))\n",
    "         .drop_duplicates()\n",
    "         )\n",
    "    ic90s = model.filter_variants_by_seen_muts(ic90s)\n",
    "    ic90s = model.icXX(ic90s, x=0.9, col='predicted_IC90', max_c=max_ic90)\n",
    "\n",
    "    ic90s = (\n",
    "        ic90s\n",
    "        .assign(log_IC90=lambda x: np.log10(x['IC90']),\n",
    "            predicted_log_IC90=lambda x: np.log10(x['predicted_IC90']),\n",
    "            )\n",
    "    )\n",
    "\n",
    "    corr = ic90s['log_IC90'].corr(ic90s['predicted_log_IC90']) ** 2\n",
    "      \n",
    "    ic90_corrs = pd.concat([ic90_corrs,\n",
    "                    pd.DataFrame({'correlation (R^2)' : corr,\n",
    "                                  'icxx_set' : [[f\"IC{wt_data_icxx[c]}\" for c in s]]})])"
   ]
  },
  {
   "cell_type": "code",
   "execution_count": 14,
   "metadata": {},
   "outputs": [
    {
     "data": {
      "text/html": [
       "\n",
       "<div id=\"altair-viz-16a13897e80e4918b6fa96f961bc0e7d\"></div>\n",
       "<script type=\"text/javascript\">\n",
       "  (function(spec, embedOpt){\n",
       "    let outputDiv = document.currentScript.previousElementSibling;\n",
       "    if (outputDiv.id !== \"altair-viz-16a13897e80e4918b6fa96f961bc0e7d\") {\n",
       "      outputDiv = document.getElementById(\"altair-viz-16a13897e80e4918b6fa96f961bc0e7d\");\n",
       "    }\n",
       "    const paths = {\n",
       "      \"vega\": \"https://cdn.jsdelivr.net/npm//vega@5?noext\",\n",
       "      \"vega-lib\": \"https://cdn.jsdelivr.net/npm//vega-lib?noext\",\n",
       "      \"vega-lite\": \"https://cdn.jsdelivr.net/npm//vega-lite@4.17.0?noext\",\n",
       "      \"vega-embed\": \"https://cdn.jsdelivr.net/npm//vega-embed@6?noext\",\n",
       "    };\n",
       "\n",
       "    function loadScript(lib) {\n",
       "      return new Promise(function(resolve, reject) {\n",
       "        var s = document.createElement('script');\n",
       "        s.src = paths[lib];\n",
       "        s.async = true;\n",
       "        s.onload = () => resolve(paths[lib]);\n",
       "        s.onerror = () => reject(`Error loading script: ${paths[lib]}`);\n",
       "        document.getElementsByTagName(\"head\")[0].appendChild(s);\n",
       "      });\n",
       "    }\n",
       "\n",
       "    function showError(err) {\n",
       "      outputDiv.innerHTML = `<div class=\"error\" style=\"color:red;\">${err}</div>`;\n",
       "      throw err;\n",
       "    }\n",
       "\n",
       "    function displayChart(vegaEmbed) {\n",
       "      vegaEmbed(outputDiv, spec, embedOpt)\n",
       "        .catch(err => showError(`Javascript Error: ${err.message}<br>This usually means there's a typo in your chart specification. See the javascript console for the full traceback.`));\n",
       "    }\n",
       "\n",
       "    if(typeof define === \"function\" && define.amd) {\n",
       "      requirejs.config({paths});\n",
       "      require([\"vega-embed\"], displayChart, err => showError(`Error loading script: ${err.message}`));\n",
       "    } else if (typeof vegaEmbed === \"function\") {\n",
       "      displayChart(vegaEmbed);\n",
       "    } else {\n",
       "      loadScript(\"vega\")\n",
       "        .then(() => loadScript(\"vega-lite\"))\n",
       "        .then(() => loadScript(\"vega-embed\"))\n",
       "        .catch(showError)\n",
       "        .then(() => displayChart(vegaEmbed));\n",
       "    }\n",
       "  })({\"config\": {\"view\": {\"continuousWidth\": 400, \"continuousHeight\": 300}}, \"data\": {\"name\": \"data-c2b428b3a2256ee7cf1fa0a796f8a84c\"}, \"mark\": {\"type\": \"circle\", \"size\": 125}, \"encoding\": {\"tooltip\": [{\"field\": \"icxx_set\", \"type\": \"nominal\"}, {\"field\": \"correlation (R^2)\", \"format\": \".3f\", \"type\": \"quantitative\"}], \"x\": {\"axis\": {\"labelAngle\": 0}, \"field\": \"icxx_set\", \"sort\": {\"field\": \"x\", \"order\": \"descending\"}, \"type\": \"ordinal\"}, \"y\": {\"field\": \"correlation (R^2)\", \"type\": \"quantitative\"}}, \"height\": 200, \"title\": \"predicted vs. true IC90\", \"width\": 375, \"$schema\": \"https://vega.github.io/schema/vega-lite/v4.17.0.json\", \"datasets\": {\"data-c2b428b3a2256ee7cf1fa0a796f8a84c\": [{\"correlation\": null, \"icxx_set\": [\"IC99.9\"], \"correlation (R^2)\": 0.9811776752617761}, {\"correlation\": null, \"icxx_set\": [\"IC97.488\", \"IC99.9\"], \"correlation (R^2)\": 0.98929395103571}, {\"correlation\": null, \"icxx_set\": [\"IC99.441\", \"IC99.9\"], \"correlation (R^2)\": 0.9891546805718594}, {\"correlation\": null, \"icxx_set\": [\"IC99.9\", \"IC99.985\"], \"correlation (R^2)\": 0.9880920344088682}, {\"correlation\": null, \"icxx_set\": [\"IC99.9\", \"IC99.998\"], \"correlation (R^2)\": 0.9885014819675991}, {\"correlation\": null, \"icxx_set\": [\"IC99.441\", \"IC99.9\", \"IC99.985\"], \"correlation (R^2)\": 0.9928569153419401}, {\"correlation\": null, \"icxx_set\": [\"IC97.488\", \"IC99.9\", \"IC99.998\"], \"correlation (R^2)\": 0.9932998201864298}, {\"correlation\": null, \"icxx_set\": [\"IC91.443\", \"IC97.488\", \"IC99.441\", \"IC99.9\", \"IC99.985\", \"IC99.998\"], \"correlation (R^2)\": 0.9961346332584888}]}}, {\"mode\": \"vega-lite\"});\n",
       "</script>"
      ],
      "text/plain": [
       "alt.Chart(...)"
      ]
     },
     "execution_count": 14,
     "metadata": {},
     "output_type": "execute_result"
    }
   ],
   "source": [
    "# NBVAL_IGNORE_OUTPUT\n",
    "alt.Chart(ic90_corrs).mark_circle(size=125).encode(\n",
    "    x= alt.X('icxx_set:O', \n",
    "             sort=alt.EncodingSortField('x', order='descending'),\n",
    "             axis=alt.Axis(labelAngle=0)),\n",
    "    y='correlation (R^2):Q',\n",
    "    tooltip = ['icxx_set', alt.Tooltip('correlation (R^2)', format='.3f')]\n",
    ").properties(width=375, height=200, title='predicted vs. true IC90')"
   ]
  },
  {
   "cell_type": "markdown",
   "metadata": {},
   "source": [
    "Fitting with more concentrations maintained the excellent IC90 prediction exhibited by models fit on data with a single concentration."
   ]
  },
  {
   "cell_type": "markdown",
   "metadata": {},
   "source": [
    "## Summary\n",
    "Based on these simulation experiments:"
   ]
  },
  {
   "cell_type": "markdown",
   "metadata": {},
   "source": [
    "1. Choose a single concentration that is potent enough (ex. `IC99.9`) to neutralize all wildtype viruses, but not potent enough to neutralize all the variants. "
   ]
  },
  {
   "cell_type": "markdown",
   "metadata": {},
   "source": [
    "2. Adding a second or third concentration can help refine inference of true mutation-escape values, especially for the most subdominant epitopes. Due to technical difficulties in precisely achieving the  `IC99.9` in a given experiment, we suggest using concentrations that are 2-4 fold higher or lower than `IC99.9` in order to more likely span the correct dynamic range."
   ]
  }
 ],
 "metadata": {
  "kernelspec": {
   "display_name": "Python 3 (ipykernel)",
   "language": "python",
   "name": "python3"
  },
  "language_info": {
   "codemirror_mode": {
    "name": "ipython",
    "version": 3
   },
   "file_extension": ".py",
   "mimetype": "text/x-python",
   "name": "python",
   "nbconvert_exporter": "python",
   "pygments_lexer": "ipython3",
   "version": "3.9.7"
  }
 },
 "nbformat": 4,
 "nbformat_minor": 4
}
