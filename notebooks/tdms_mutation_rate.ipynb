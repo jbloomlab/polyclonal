{
 "cells": [
  {
   "cell_type": "code",
   "execution_count": null,
   "metadata": {},
   "outputs": [],
   "source": [
    "import torchdms\n",
    "import Bio.SeqIO\n",
    "import pickle\n",
    "\n",
    "wtseq_dna = Bio.SeqIO.read('RBD_seq.fasta', 'fasta').seq\n",
    "wtseq_aa = str(wtseq_dna.translate())\n",
    "assert len(wtseq_aa) == 201\n",
    "\n",
    "for n in [1,2,3,4]:\n",
    "    avg_n_data = noisy_data.query(f\"library == 'avg{n}muts'\")\n",
    "    # torchdms uses 1-indexed mutations\n",
    "    formatted_data = (\n",
    "            avg_n_data\n",
    "            .assign(aa_substitutions=lambda x: x['aa_substitutions'].apply(\n",
    "                                polyclonal.utils.shift_mut_site, shift=-330)\n",
    "            )\n",
    "    )    \n",
    "    assert len(formatted_data.index) == 90000\n",
    "    with open(f\"torchdms_results/noisy_3conc_{n}muts/noisy_3conc_{n}muts_data.pkl\", \"wb\") as f:\n",
    "        pickle.dump([formatted_data, wtseq_aa], f)\n",
    "    print(f\"Dataset written to torchdms_results/noisy_3conc_{n}muts.\")"
   ]
  },
  {
   "cell_type": "code",
   "execution_count": null,
   "metadata": {},
   "outputs": [],
   "source": [
    "import torchdms\n",
    "import Bio.SeqIO\n",
    "import pickle\n",
    "\n",
    "wtseq_dna = Bio.SeqIO.read('RBD_seq.fasta', 'fasta').seq\n",
    "wtseq_aa = str(wtseq_dna.translate())\n",
    "assert len(wtseq_aa) == 201\n",
    "\n",
    "for n in [1,2,3,4]:\n",
    "    avg_n_data = clean_data.query(f\"library == 'avg{n}muts'\")\n",
    "    # torchdms uses 1-indexed mutations\n",
    "    formatted_data = (\n",
    "            avg_n_data\n",
    "            .assign(aa_substitutions=lambda x: x['aa_substitutions'].apply(\n",
    "                                polyclonal.utils.shift_mut_site, shift=-330)\n",
    "            )\n",
    "    )    \n",
    "    assert len(formatted_data.index) == 90000\n",
    "    with open(f\"torchdms_results/clean_3conc_{n}muts/clean_3conc_{n}muts_data.pkl\", \"wb\") as f:\n",
    "        pickle.dump([formatted_data, wtseq_aa], f)\n",
    "    print(f\"Dataset written to torchdms_results/clean_3conc_{n}muts.\")"
   ]
  },
  {
   "cell_type": "code",
   "execution_count": null,
   "metadata": {},
   "outputs": [],
   "source": [
    "for n in [1,2,3,4]:\n",
    "    min_test_per_stratum = [200,250,300,350]\n",
    "    min_count_per_stratum = [800,1200,1600,2000]\n",
    "    \n",
    "    %cd torchdms_results/noisy_3conc_{n}muts\n",
    "    \n",
    "    !echo \"Prepping dataset.\"\n",
    "    !tdms prep --per-stratum-variants-for-test {min_test_per_stratum[n-1]} --skip-stratum-if-count-is-smaller-than {min_count_per_stratum[n-1]} \\\n",
    "    --partition-by library *data.pkl prepped prob_escape\n",
    "    \n",
    "    !echo \"Training model.\"\n",
    "    !tdms go --config config.json\n",
    "\n",
    "    %cd ../.. "
   ]
  },
  {
   "cell_type": "code",
   "execution_count": null,
   "metadata": {},
   "outputs": [],
   "source": [
    "for n in [1,2,3,4]:\n",
    "    min_test_per_stratum = [200,250,300,350]\n",
    "    min_count_per_stratum = [800,1200,1600,2000]\n",
    "    \n",
    "    %cd torchdms_results/clean_3conc_{n}muts\n",
    "    \n",
    "    !echo \"Prepping dataset.\"\n",
    "    !tdms prep --per-stratum-variants-for-test {min_test_per_stratum[n-1]} --skip-stratum-if-count-is-smaller-than {min_count_per_stratum[n-1]} \\\n",
    "    --partition-by library *data.pkl prepped prob_escape\n",
    "    \n",
    "    !echo \"Training model.\"\n",
    "    !tdms go --config config.json\n",
    "\n",
    "    %cd ../.. "
   ]
  }
 ],
 "metadata": {
  "kernelspec": {
   "display_name": "Python 3 (ipykernel)",
   "language": "python",
   "name": "python3"
  },
  "language_info": {
   "codemirror_mode": {
    "name": "ipython",
    "version": 3
   },
   "file_extension": ".py",
   "mimetype": "text/x-python",
   "name": "python",
   "nbconvert_exporter": "python",
   "pygments_lexer": "ipython3",
   "version": "3.9.7"
  }
 },
 "nbformat": 4,
 "nbformat_minor": 4
}
